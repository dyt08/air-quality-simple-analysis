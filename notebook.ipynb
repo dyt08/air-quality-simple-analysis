{
 "cells": [
  {
   "attachments": {},
   "cell_type": "markdown",
   "metadata": {},
   "source": [
    "# Proyek Analisis Data: Air Quality\n",
    "- Nama: Aditya Nugraha\n",
    "- Email: indonesia.adit@gmail.com\n",
    "- Id Dicoding: nugraha8"
   ]
  },
  {
   "cell_type": "markdown",
   "metadata": {},
   "source": [
    "**DOI**: https://doi.org/10.24432/C5RK5G\n",
    "\n",
    "**No**: row number \\\n",
    "**year**: year of data in this row \\\n",
    "**month**: month of data in this row \\\n",
    "**day**: day of data in this row \\\n",
    "**hour**: hour of data in this row \\\n",
    "**PM2.5**: PM2.5 concentration (ug/m^3) \\\n",
    "**PM10**: PM10 concentration (ug/m^3) \\\n",
    "**SO2**: SO2 concentration (ug/m^3) \\\n",
    "**NO2**: NO2 concentration (ug/m^3) \\\n",
    "**CO**: CO concentration (ug/m^3) \\\n",
    "**O3**: O3 concentration (ug/m^3) \\\n",
    "**TEMP**: temperature (degree Celsius) \\\n",
    "**PRES**: pressure (hPa) \\\n",
    "**DEWP**: dew point temperature (degree Celsius) \\\n",
    "**RAIN**: precipitation (mm) \\\n",
    "**wd**: wind direction \\\n",
    "**WSPM**: wind speed (m/s) \\\n",
    "**station**: name of the air-quality monitoring site "
   ]
  },
  {
   "attachments": {},
   "cell_type": "markdown",
   "metadata": {},
   "source": [
    "## Menentukan Pertanyaan Bisnis"
   ]
  },
  {
   "attachments": {},
   "cell_type": "markdown",
   "metadata": {},
   "source": [
    "- Bagaimana bulan dengan kualitas udara terbaik dan terburuk?\n",
    "- Bagaimana bulan dengan kondisi cuaca yang paling ideal?"
   ]
  },
  {
   "attachments": {},
   "cell_type": "markdown",
   "metadata": {},
   "source": [
    "## Menyiapkan semua library yang dibutuhkan"
   ]
  },
  {
   "cell_type": "code",
   "execution_count": 1,
   "metadata": {},
   "outputs": [],
   "source": [
    "import os\n",
    "\n",
    "import numpy as np\n",
    "import pandas as pd\n",
    "\n",
    "# import matplotlib.pyplot as plt\n",
    "# import seaborn as sns\n",
    "import plotly.graph_objects as go"
   ]
  },
  {
   "attachments": {},
   "cell_type": "markdown",
   "metadata": {},
   "source": [
    "## Data Wrangling"
   ]
  },
  {
   "attachments": {},
   "cell_type": "markdown",
   "metadata": {},
   "source": [
    "### Gathering Data"
   ]
  },
  {
   "cell_type": "code",
   "execution_count": 2,
   "metadata": {},
   "outputs": [
    {
     "data": {
      "text/plain": [
       "['PRSA_Data_Aotizhongxin_20130301-20170228.csv',\n",
       " 'PRSA_Data_Changping_20130301-20170228.csv',\n",
       " 'PRSA_Data_Dingling_20130301-20170228.csv',\n",
       " 'PRSA_Data_Dongsi_20130301-20170228.csv',\n",
       " 'PRSA_Data_Guanyuan_20130301-20170228.csv',\n",
       " 'PRSA_Data_Gucheng_20130301-20170228.csv',\n",
       " 'PRSA_Data_Huairou_20130301-20170228.csv',\n",
       " 'PRSA_Data_Nongzhanguan_20130301-20170228.csv',\n",
       " 'PRSA_Data_Shunyi_20130301-20170228.csv',\n",
       " 'PRSA_Data_Tiantan_20130301-20170228.csv',\n",
       " 'PRSA_Data_Wanliu_20130301-20170228.csv',\n",
       " 'PRSA_Data_Wanshouxigong_20130301-20170228.csv']"
      ]
     },
     "execution_count": 2,
     "metadata": {},
     "output_type": "execute_result"
    }
   ],
   "source": [
    "path = 'datasets/Air-quality-dataset/PRSA_Data_20130301-20170228/'\n",
    "filenames = os.listdir(path)\n",
    "filenames"
   ]
  },
  {
   "cell_type": "code",
   "execution_count": 3,
   "metadata": {},
   "outputs": [
    {
     "data": {
      "text/html": [
       "<div>\n",
       "<style scoped>\n",
       "    .dataframe tbody tr th:only-of-type {\n",
       "        vertical-align: middle;\n",
       "    }\n",
       "\n",
       "    .dataframe tbody tr th {\n",
       "        vertical-align: top;\n",
       "    }\n",
       "\n",
       "    .dataframe thead th {\n",
       "        text-align: right;\n",
       "    }\n",
       "</style>\n",
       "<table border=\"1\" class=\"dataframe\">\n",
       "  <thead>\n",
       "    <tr style=\"text-align: right;\">\n",
       "      <th></th>\n",
       "      <th></th>\n",
       "      <th>year</th>\n",
       "      <th>month</th>\n",
       "      <th>day</th>\n",
       "      <th>hour</th>\n",
       "      <th>PM2.5</th>\n",
       "      <th>PM10</th>\n",
       "      <th>SO2</th>\n",
       "      <th>NO2</th>\n",
       "      <th>CO</th>\n",
       "      <th>O3</th>\n",
       "      <th>TEMP</th>\n",
       "      <th>PRES</th>\n",
       "      <th>DEWP</th>\n",
       "      <th>RAIN</th>\n",
       "      <th>wd</th>\n",
       "      <th>WSPM</th>\n",
       "    </tr>\n",
       "    <tr>\n",
       "      <th>station</th>\n",
       "      <th>No</th>\n",
       "      <th></th>\n",
       "      <th></th>\n",
       "      <th></th>\n",
       "      <th></th>\n",
       "      <th></th>\n",
       "      <th></th>\n",
       "      <th></th>\n",
       "      <th></th>\n",
       "      <th></th>\n",
       "      <th></th>\n",
       "      <th></th>\n",
       "      <th></th>\n",
       "      <th></th>\n",
       "      <th></th>\n",
       "      <th></th>\n",
       "      <th></th>\n",
       "    </tr>\n",
       "  </thead>\n",
       "  <tbody>\n",
       "    <tr>\n",
       "      <th rowspan=\"5\" valign=\"top\">Aotizhongxin</th>\n",
       "      <th>1</th>\n",
       "      <td>2013</td>\n",
       "      <td>3</td>\n",
       "      <td>1</td>\n",
       "      <td>0</td>\n",
       "      <td>4.0</td>\n",
       "      <td>4.0</td>\n",
       "      <td>4.0</td>\n",
       "      <td>7.0</td>\n",
       "      <td>300.0</td>\n",
       "      <td>77.0</td>\n",
       "      <td>-0.7</td>\n",
       "      <td>1023.0</td>\n",
       "      <td>-18.8</td>\n",
       "      <td>0.0</td>\n",
       "      <td>NNW</td>\n",
       "      <td>4.4</td>\n",
       "    </tr>\n",
       "    <tr>\n",
       "      <th>2</th>\n",
       "      <td>2013</td>\n",
       "      <td>3</td>\n",
       "      <td>1</td>\n",
       "      <td>1</td>\n",
       "      <td>8.0</td>\n",
       "      <td>8.0</td>\n",
       "      <td>4.0</td>\n",
       "      <td>7.0</td>\n",
       "      <td>300.0</td>\n",
       "      <td>77.0</td>\n",
       "      <td>-1.1</td>\n",
       "      <td>1023.2</td>\n",
       "      <td>-18.2</td>\n",
       "      <td>0.0</td>\n",
       "      <td>N</td>\n",
       "      <td>4.7</td>\n",
       "    </tr>\n",
       "    <tr>\n",
       "      <th>3</th>\n",
       "      <td>2013</td>\n",
       "      <td>3</td>\n",
       "      <td>1</td>\n",
       "      <td>2</td>\n",
       "      <td>7.0</td>\n",
       "      <td>7.0</td>\n",
       "      <td>5.0</td>\n",
       "      <td>10.0</td>\n",
       "      <td>300.0</td>\n",
       "      <td>73.0</td>\n",
       "      <td>-1.1</td>\n",
       "      <td>1023.5</td>\n",
       "      <td>-18.2</td>\n",
       "      <td>0.0</td>\n",
       "      <td>NNW</td>\n",
       "      <td>5.6</td>\n",
       "    </tr>\n",
       "    <tr>\n",
       "      <th>4</th>\n",
       "      <td>2013</td>\n",
       "      <td>3</td>\n",
       "      <td>1</td>\n",
       "      <td>3</td>\n",
       "      <td>6.0</td>\n",
       "      <td>6.0</td>\n",
       "      <td>11.0</td>\n",
       "      <td>11.0</td>\n",
       "      <td>300.0</td>\n",
       "      <td>72.0</td>\n",
       "      <td>-1.4</td>\n",
       "      <td>1024.5</td>\n",
       "      <td>-19.4</td>\n",
       "      <td>0.0</td>\n",
       "      <td>NW</td>\n",
       "      <td>3.1</td>\n",
       "    </tr>\n",
       "    <tr>\n",
       "      <th>5</th>\n",
       "      <td>2013</td>\n",
       "      <td>3</td>\n",
       "      <td>1</td>\n",
       "      <td>4</td>\n",
       "      <td>3.0</td>\n",
       "      <td>3.0</td>\n",
       "      <td>12.0</td>\n",
       "      <td>12.0</td>\n",
       "      <td>300.0</td>\n",
       "      <td>72.0</td>\n",
       "      <td>-2.0</td>\n",
       "      <td>1025.2</td>\n",
       "      <td>-19.5</td>\n",
       "      <td>0.0</td>\n",
       "      <td>N</td>\n",
       "      <td>2.0</td>\n",
       "    </tr>\n",
       "    <tr>\n",
       "      <th rowspan=\"5\" valign=\"top\">Changping</th>\n",
       "      <th>1</th>\n",
       "      <td>2013</td>\n",
       "      <td>3</td>\n",
       "      <td>1</td>\n",
       "      <td>0</td>\n",
       "      <td>3.0</td>\n",
       "      <td>6.0</td>\n",
       "      <td>13.0</td>\n",
       "      <td>7.0</td>\n",
       "      <td>300.0</td>\n",
       "      <td>85.0</td>\n",
       "      <td>-2.3</td>\n",
       "      <td>1020.8</td>\n",
       "      <td>-19.7</td>\n",
       "      <td>0.0</td>\n",
       "      <td>E</td>\n",
       "      <td>0.5</td>\n",
       "    </tr>\n",
       "    <tr>\n",
       "      <th>2</th>\n",
       "      <td>2013</td>\n",
       "      <td>3</td>\n",
       "      <td>1</td>\n",
       "      <td>1</td>\n",
       "      <td>3.0</td>\n",
       "      <td>3.0</td>\n",
       "      <td>6.0</td>\n",
       "      <td>6.0</td>\n",
       "      <td>300.0</td>\n",
       "      <td>85.0</td>\n",
       "      <td>-2.5</td>\n",
       "      <td>1021.3</td>\n",
       "      <td>-19.0</td>\n",
       "      <td>0.0</td>\n",
       "      <td>ENE</td>\n",
       "      <td>0.7</td>\n",
       "    </tr>\n",
       "    <tr>\n",
       "      <th>3</th>\n",
       "      <td>2013</td>\n",
       "      <td>3</td>\n",
       "      <td>1</td>\n",
       "      <td>2</td>\n",
       "      <td>3.0</td>\n",
       "      <td>3.0</td>\n",
       "      <td>22.0</td>\n",
       "      <td>13.0</td>\n",
       "      <td>400.0</td>\n",
       "      <td>74.0</td>\n",
       "      <td>-3.0</td>\n",
       "      <td>1021.3</td>\n",
       "      <td>-19.9</td>\n",
       "      <td>0.0</td>\n",
       "      <td>ENE</td>\n",
       "      <td>0.2</td>\n",
       "    </tr>\n",
       "    <tr>\n",
       "      <th>4</th>\n",
       "      <td>2013</td>\n",
       "      <td>3</td>\n",
       "      <td>1</td>\n",
       "      <td>3</td>\n",
       "      <td>3.0</td>\n",
       "      <td>6.0</td>\n",
       "      <td>12.0</td>\n",
       "      <td>8.0</td>\n",
       "      <td>300.0</td>\n",
       "      <td>81.0</td>\n",
       "      <td>-3.6</td>\n",
       "      <td>1021.8</td>\n",
       "      <td>-19.1</td>\n",
       "      <td>0.0</td>\n",
       "      <td>NNE</td>\n",
       "      <td>1.0</td>\n",
       "    </tr>\n",
       "    <tr>\n",
       "      <th>5</th>\n",
       "      <td>2013</td>\n",
       "      <td>3</td>\n",
       "      <td>1</td>\n",
       "      <td>4</td>\n",
       "      <td>3.0</td>\n",
       "      <td>3.0</td>\n",
       "      <td>14.0</td>\n",
       "      <td>8.0</td>\n",
       "      <td>300.0</td>\n",
       "      <td>81.0</td>\n",
       "      <td>-3.5</td>\n",
       "      <td>1022.3</td>\n",
       "      <td>-19.4</td>\n",
       "      <td>0.0</td>\n",
       "      <td>N</td>\n",
       "      <td>2.1</td>\n",
       "    </tr>\n",
       "    <tr>\n",
       "      <th rowspan=\"5\" valign=\"top\">Dingling</th>\n",
       "      <th>1</th>\n",
       "      <td>2013</td>\n",
       "      <td>3</td>\n",
       "      <td>1</td>\n",
       "      <td>0</td>\n",
       "      <td>4.0</td>\n",
       "      <td>4.0</td>\n",
       "      <td>3.0</td>\n",
       "      <td>NaN</td>\n",
       "      <td>200.0</td>\n",
       "      <td>82.0</td>\n",
       "      <td>-2.3</td>\n",
       "      <td>1020.8</td>\n",
       "      <td>-19.7</td>\n",
       "      <td>0.0</td>\n",
       "      <td>E</td>\n",
       "      <td>0.5</td>\n",
       "    </tr>\n",
       "    <tr>\n",
       "      <th>2</th>\n",
       "      <td>2013</td>\n",
       "      <td>3</td>\n",
       "      <td>1</td>\n",
       "      <td>1</td>\n",
       "      <td>7.0</td>\n",
       "      <td>7.0</td>\n",
       "      <td>3.0</td>\n",
       "      <td>NaN</td>\n",
       "      <td>200.0</td>\n",
       "      <td>80.0</td>\n",
       "      <td>-2.5</td>\n",
       "      <td>1021.3</td>\n",
       "      <td>-19.0</td>\n",
       "      <td>0.0</td>\n",
       "      <td>ENE</td>\n",
       "      <td>0.7</td>\n",
       "    </tr>\n",
       "    <tr>\n",
       "      <th>3</th>\n",
       "      <td>2013</td>\n",
       "      <td>3</td>\n",
       "      <td>1</td>\n",
       "      <td>2</td>\n",
       "      <td>5.0</td>\n",
       "      <td>5.0</td>\n",
       "      <td>3.0</td>\n",
       "      <td>2.0</td>\n",
       "      <td>200.0</td>\n",
       "      <td>79.0</td>\n",
       "      <td>-3.0</td>\n",
       "      <td>1021.3</td>\n",
       "      <td>-19.9</td>\n",
       "      <td>0.0</td>\n",
       "      <td>ENE</td>\n",
       "      <td>0.2</td>\n",
       "    </tr>\n",
       "    <tr>\n",
       "      <th>4</th>\n",
       "      <td>2013</td>\n",
       "      <td>3</td>\n",
       "      <td>1</td>\n",
       "      <td>3</td>\n",
       "      <td>6.0</td>\n",
       "      <td>6.0</td>\n",
       "      <td>3.0</td>\n",
       "      <td>NaN</td>\n",
       "      <td>200.0</td>\n",
       "      <td>79.0</td>\n",
       "      <td>-3.6</td>\n",
       "      <td>1021.8</td>\n",
       "      <td>-19.1</td>\n",
       "      <td>0.0</td>\n",
       "      <td>NNE</td>\n",
       "      <td>1.0</td>\n",
       "    </tr>\n",
       "    <tr>\n",
       "      <th>5</th>\n",
       "      <td>2013</td>\n",
       "      <td>3</td>\n",
       "      <td>1</td>\n",
       "      <td>4</td>\n",
       "      <td>5.0</td>\n",
       "      <td>5.0</td>\n",
       "      <td>3.0</td>\n",
       "      <td>NaN</td>\n",
       "      <td>200.0</td>\n",
       "      <td>81.0</td>\n",
       "      <td>-3.5</td>\n",
       "      <td>1022.3</td>\n",
       "      <td>-19.4</td>\n",
       "      <td>0.0</td>\n",
       "      <td>N</td>\n",
       "      <td>2.1</td>\n",
       "    </tr>\n",
       "    <tr>\n",
       "      <th rowspan=\"5\" valign=\"top\">Dongsi</th>\n",
       "      <th>1</th>\n",
       "      <td>2013</td>\n",
       "      <td>3</td>\n",
       "      <td>1</td>\n",
       "      <td>0</td>\n",
       "      <td>9.0</td>\n",
       "      <td>9.0</td>\n",
       "      <td>3.0</td>\n",
       "      <td>17.0</td>\n",
       "      <td>300.0</td>\n",
       "      <td>89.0</td>\n",
       "      <td>-0.5</td>\n",
       "      <td>1024.5</td>\n",
       "      <td>-21.4</td>\n",
       "      <td>0.0</td>\n",
       "      <td>NNW</td>\n",
       "      <td>5.7</td>\n",
       "    </tr>\n",
       "    <tr>\n",
       "      <th>2</th>\n",
       "      <td>2013</td>\n",
       "      <td>3</td>\n",
       "      <td>1</td>\n",
       "      <td>1</td>\n",
       "      <td>4.0</td>\n",
       "      <td>4.0</td>\n",
       "      <td>3.0</td>\n",
       "      <td>16.0</td>\n",
       "      <td>300.0</td>\n",
       "      <td>88.0</td>\n",
       "      <td>-0.7</td>\n",
       "      <td>1025.1</td>\n",
       "      <td>-22.1</td>\n",
       "      <td>0.0</td>\n",
       "      <td>NW</td>\n",
       "      <td>3.9</td>\n",
       "    </tr>\n",
       "    <tr>\n",
       "      <th>3</th>\n",
       "      <td>2013</td>\n",
       "      <td>3</td>\n",
       "      <td>1</td>\n",
       "      <td>2</td>\n",
       "      <td>7.0</td>\n",
       "      <td>7.0</td>\n",
       "      <td>NaN</td>\n",
       "      <td>17.0</td>\n",
       "      <td>300.0</td>\n",
       "      <td>60.0</td>\n",
       "      <td>-1.2</td>\n",
       "      <td>1025.3</td>\n",
       "      <td>-24.6</td>\n",
       "      <td>0.0</td>\n",
       "      <td>NNW</td>\n",
       "      <td>5.3</td>\n",
       "    </tr>\n",
       "    <tr>\n",
       "      <th>4</th>\n",
       "      <td>2013</td>\n",
       "      <td>3</td>\n",
       "      <td>1</td>\n",
       "      <td>3</td>\n",
       "      <td>3.0</td>\n",
       "      <td>3.0</td>\n",
       "      <td>5.0</td>\n",
       "      <td>18.0</td>\n",
       "      <td>NaN</td>\n",
       "      <td>NaN</td>\n",
       "      <td>-1.4</td>\n",
       "      <td>1026.2</td>\n",
       "      <td>-25.5</td>\n",
       "      <td>0.0</td>\n",
       "      <td>N</td>\n",
       "      <td>4.9</td>\n",
       "    </tr>\n",
       "    <tr>\n",
       "      <th>5</th>\n",
       "      <td>2013</td>\n",
       "      <td>3</td>\n",
       "      <td>1</td>\n",
       "      <td>4</td>\n",
       "      <td>3.0</td>\n",
       "      <td>3.0</td>\n",
       "      <td>7.0</td>\n",
       "      <td>NaN</td>\n",
       "      <td>200.0</td>\n",
       "      <td>84.0</td>\n",
       "      <td>-1.9</td>\n",
       "      <td>1027.1</td>\n",
       "      <td>-24.5</td>\n",
       "      <td>0.0</td>\n",
       "      <td>NNW</td>\n",
       "      <td>3.2</td>\n",
       "    </tr>\n",
       "    <tr>\n",
       "      <th rowspan=\"5\" valign=\"top\">Guanyuan</th>\n",
       "      <th>1</th>\n",
       "      <td>2013</td>\n",
       "      <td>3</td>\n",
       "      <td>1</td>\n",
       "      <td>0</td>\n",
       "      <td>4.0</td>\n",
       "      <td>4.0</td>\n",
       "      <td>14.0</td>\n",
       "      <td>20.0</td>\n",
       "      <td>300.0</td>\n",
       "      <td>69.0</td>\n",
       "      <td>-0.7</td>\n",
       "      <td>1023.0</td>\n",
       "      <td>-18.8</td>\n",
       "      <td>0.0</td>\n",
       "      <td>NNW</td>\n",
       "      <td>4.4</td>\n",
       "    </tr>\n",
       "    <tr>\n",
       "      <th>2</th>\n",
       "      <td>2013</td>\n",
       "      <td>3</td>\n",
       "      <td>1</td>\n",
       "      <td>1</td>\n",
       "      <td>4.0</td>\n",
       "      <td>4.0</td>\n",
       "      <td>13.0</td>\n",
       "      <td>17.0</td>\n",
       "      <td>300.0</td>\n",
       "      <td>72.0</td>\n",
       "      <td>-1.1</td>\n",
       "      <td>1023.2</td>\n",
       "      <td>-18.2</td>\n",
       "      <td>0.0</td>\n",
       "      <td>N</td>\n",
       "      <td>4.7</td>\n",
       "    </tr>\n",
       "    <tr>\n",
       "      <th>3</th>\n",
       "      <td>2013</td>\n",
       "      <td>3</td>\n",
       "      <td>1</td>\n",
       "      <td>2</td>\n",
       "      <td>3.0</td>\n",
       "      <td>3.0</td>\n",
       "      <td>10.0</td>\n",
       "      <td>19.0</td>\n",
       "      <td>300.0</td>\n",
       "      <td>69.0</td>\n",
       "      <td>-1.1</td>\n",
       "      <td>1023.5</td>\n",
       "      <td>-18.2</td>\n",
       "      <td>0.0</td>\n",
       "      <td>NNW</td>\n",
       "      <td>5.6</td>\n",
       "    </tr>\n",
       "    <tr>\n",
       "      <th>4</th>\n",
       "      <td>2013</td>\n",
       "      <td>3</td>\n",
       "      <td>1</td>\n",
       "      <td>3</td>\n",
       "      <td>3.0</td>\n",
       "      <td>6.0</td>\n",
       "      <td>7.0</td>\n",
       "      <td>24.0</td>\n",
       "      <td>400.0</td>\n",
       "      <td>62.0</td>\n",
       "      <td>-1.4</td>\n",
       "      <td>1024.5</td>\n",
       "      <td>-19.4</td>\n",
       "      <td>0.0</td>\n",
       "      <td>NW</td>\n",
       "      <td>3.1</td>\n",
       "    </tr>\n",
       "    <tr>\n",
       "      <th>5</th>\n",
       "      <td>2013</td>\n",
       "      <td>3</td>\n",
       "      <td>1</td>\n",
       "      <td>4</td>\n",
       "      <td>3.0</td>\n",
       "      <td>6.0</td>\n",
       "      <td>5.0</td>\n",
       "      <td>14.0</td>\n",
       "      <td>400.0</td>\n",
       "      <td>71.0</td>\n",
       "      <td>-2.0</td>\n",
       "      <td>1025.2</td>\n",
       "      <td>-19.5</td>\n",
       "      <td>0.0</td>\n",
       "      <td>N</td>\n",
       "      <td>2.0</td>\n",
       "    </tr>\n",
       "    <tr>\n",
       "      <th rowspan=\"5\" valign=\"top\">Gucheng</th>\n",
       "      <th>1</th>\n",
       "      <td>2013</td>\n",
       "      <td>3</td>\n",
       "      <td>1</td>\n",
       "      <td>0</td>\n",
       "      <td>6.0</td>\n",
       "      <td>18.0</td>\n",
       "      <td>5.0</td>\n",
       "      <td>NaN</td>\n",
       "      <td>800.0</td>\n",
       "      <td>88.0</td>\n",
       "      <td>0.1</td>\n",
       "      <td>1021.1</td>\n",
       "      <td>-18.6</td>\n",
       "      <td>0.0</td>\n",
       "      <td>NW</td>\n",
       "      <td>4.4</td>\n",
       "    </tr>\n",
       "    <tr>\n",
       "      <th>2</th>\n",
       "      <td>2013</td>\n",
       "      <td>3</td>\n",
       "      <td>1</td>\n",
       "      <td>1</td>\n",
       "      <td>6.0</td>\n",
       "      <td>15.0</td>\n",
       "      <td>5.0</td>\n",
       "      <td>NaN</td>\n",
       "      <td>800.0</td>\n",
       "      <td>88.0</td>\n",
       "      <td>-0.3</td>\n",
       "      <td>1021.5</td>\n",
       "      <td>-19.0</td>\n",
       "      <td>0.0</td>\n",
       "      <td>NW</td>\n",
       "      <td>4.0</td>\n",
       "    </tr>\n",
       "    <tr>\n",
       "      <th>3</th>\n",
       "      <td>2013</td>\n",
       "      <td>3</td>\n",
       "      <td>1</td>\n",
       "      <td>2</td>\n",
       "      <td>5.0</td>\n",
       "      <td>18.0</td>\n",
       "      <td>NaN</td>\n",
       "      <td>NaN</td>\n",
       "      <td>700.0</td>\n",
       "      <td>52.0</td>\n",
       "      <td>-0.7</td>\n",
       "      <td>1021.5</td>\n",
       "      <td>-19.8</td>\n",
       "      <td>0.0</td>\n",
       "      <td>WNW</td>\n",
       "      <td>4.6</td>\n",
       "    </tr>\n",
       "    <tr>\n",
       "      <th>4</th>\n",
       "      <td>2013</td>\n",
       "      <td>3</td>\n",
       "      <td>1</td>\n",
       "      <td>3</td>\n",
       "      <td>6.0</td>\n",
       "      <td>20.0</td>\n",
       "      <td>6.0</td>\n",
       "      <td>NaN</td>\n",
       "      <td>NaN</td>\n",
       "      <td>NaN</td>\n",
       "      <td>-1.0</td>\n",
       "      <td>1022.7</td>\n",
       "      <td>-21.2</td>\n",
       "      <td>0.0</td>\n",
       "      <td>W</td>\n",
       "      <td>2.8</td>\n",
       "    </tr>\n",
       "    <tr>\n",
       "      <th>5</th>\n",
       "      <td>2013</td>\n",
       "      <td>3</td>\n",
       "      <td>1</td>\n",
       "      <td>4</td>\n",
       "      <td>5.0</td>\n",
       "      <td>17.0</td>\n",
       "      <td>5.0</td>\n",
       "      <td>NaN</td>\n",
       "      <td>600.0</td>\n",
       "      <td>73.0</td>\n",
       "      <td>-1.3</td>\n",
       "      <td>1023.0</td>\n",
       "      <td>-21.4</td>\n",
       "      <td>0.0</td>\n",
       "      <td>WNW</td>\n",
       "      <td>3.6</td>\n",
       "    </tr>\n",
       "    <tr>\n",
       "      <th rowspan=\"5\" valign=\"top\">Huairou</th>\n",
       "      <th>1</th>\n",
       "      <td>2013</td>\n",
       "      <td>3</td>\n",
       "      <td>1</td>\n",
       "      <td>0</td>\n",
       "      <td>7.0</td>\n",
       "      <td>7.0</td>\n",
       "      <td>3.0</td>\n",
       "      <td>2.0</td>\n",
       "      <td>100.0</td>\n",
       "      <td>91.0</td>\n",
       "      <td>-2.3</td>\n",
       "      <td>1020.3</td>\n",
       "      <td>-20.7</td>\n",
       "      <td>0.0</td>\n",
       "      <td>WNW</td>\n",
       "      <td>3.1</td>\n",
       "    </tr>\n",
       "    <tr>\n",
       "      <th>2</th>\n",
       "      <td>2013</td>\n",
       "      <td>3</td>\n",
       "      <td>1</td>\n",
       "      <td>1</td>\n",
       "      <td>4.0</td>\n",
       "      <td>4.0</td>\n",
       "      <td>3.0</td>\n",
       "      <td>NaN</td>\n",
       "      <td>100.0</td>\n",
       "      <td>92.0</td>\n",
       "      <td>-2.7</td>\n",
       "      <td>1020.8</td>\n",
       "      <td>-20.5</td>\n",
       "      <td>0.0</td>\n",
       "      <td>NNW</td>\n",
       "      <td>1.5</td>\n",
       "    </tr>\n",
       "    <tr>\n",
       "      <th>3</th>\n",
       "      <td>2013</td>\n",
       "      <td>3</td>\n",
       "      <td>1</td>\n",
       "      <td>2</td>\n",
       "      <td>4.0</td>\n",
       "      <td>4.0</td>\n",
       "      <td>NaN</td>\n",
       "      <td>NaN</td>\n",
       "      <td>100.0</td>\n",
       "      <td>91.0</td>\n",
       "      <td>-3.2</td>\n",
       "      <td>1020.6</td>\n",
       "      <td>-21.4</td>\n",
       "      <td>0.0</td>\n",
       "      <td>NW</td>\n",
       "      <td>1.8</td>\n",
       "    </tr>\n",
       "    <tr>\n",
       "      <th>4</th>\n",
       "      <td>2013</td>\n",
       "      <td>3</td>\n",
       "      <td>1</td>\n",
       "      <td>3</td>\n",
       "      <td>3.0</td>\n",
       "      <td>3.0</td>\n",
       "      <td>3.0</td>\n",
       "      <td>2.0</td>\n",
       "      <td>NaN</td>\n",
       "      <td>NaN</td>\n",
       "      <td>-3.3</td>\n",
       "      <td>1021.3</td>\n",
       "      <td>-23.7</td>\n",
       "      <td>0.0</td>\n",
       "      <td>NNW</td>\n",
       "      <td>2.4</td>\n",
       "    </tr>\n",
       "    <tr>\n",
       "      <th>5</th>\n",
       "      <td>2013</td>\n",
       "      <td>3</td>\n",
       "      <td>1</td>\n",
       "      <td>4</td>\n",
       "      <td>3.0</td>\n",
       "      <td>3.0</td>\n",
       "      <td>7.0</td>\n",
       "      <td>NaN</td>\n",
       "      <td>300.0</td>\n",
       "      <td>86.0</td>\n",
       "      <td>-4.1</td>\n",
       "      <td>1022.1</td>\n",
       "      <td>-22.7</td>\n",
       "      <td>0.0</td>\n",
       "      <td>NNW</td>\n",
       "      <td>2.2</td>\n",
       "    </tr>\n",
       "    <tr>\n",
       "      <th rowspan=\"5\" valign=\"top\">Nongzhanguan</th>\n",
       "      <th>1</th>\n",
       "      <td>2013</td>\n",
       "      <td>3</td>\n",
       "      <td>1</td>\n",
       "      <td>0</td>\n",
       "      <td>5.0</td>\n",
       "      <td>14.0</td>\n",
       "      <td>4.0</td>\n",
       "      <td>12.0</td>\n",
       "      <td>200.0</td>\n",
       "      <td>85.0</td>\n",
       "      <td>-0.5</td>\n",
       "      <td>1024.5</td>\n",
       "      <td>-21.4</td>\n",
       "      <td>0.0</td>\n",
       "      <td>NNW</td>\n",
       "      <td>5.7</td>\n",
       "    </tr>\n",
       "    <tr>\n",
       "      <th>2</th>\n",
       "      <td>2013</td>\n",
       "      <td>3</td>\n",
       "      <td>1</td>\n",
       "      <td>1</td>\n",
       "      <td>8.0</td>\n",
       "      <td>12.0</td>\n",
       "      <td>6.0</td>\n",
       "      <td>14.0</td>\n",
       "      <td>200.0</td>\n",
       "      <td>84.0</td>\n",
       "      <td>-0.7</td>\n",
       "      <td>1025.1</td>\n",
       "      <td>-22.1</td>\n",
       "      <td>0.0</td>\n",
       "      <td>NW</td>\n",
       "      <td>3.9</td>\n",
       "    </tr>\n",
       "    <tr>\n",
       "      <th>3</th>\n",
       "      <td>2013</td>\n",
       "      <td>3</td>\n",
       "      <td>1</td>\n",
       "      <td>2</td>\n",
       "      <td>3.0</td>\n",
       "      <td>6.0</td>\n",
       "      <td>5.0</td>\n",
       "      <td>14.0</td>\n",
       "      <td>200.0</td>\n",
       "      <td>83.0</td>\n",
       "      <td>-1.2</td>\n",
       "      <td>1025.3</td>\n",
       "      <td>-24.6</td>\n",
       "      <td>0.0</td>\n",
       "      <td>NNW</td>\n",
       "      <td>5.3</td>\n",
       "    </tr>\n",
       "    <tr>\n",
       "      <th>4</th>\n",
       "      <td>2013</td>\n",
       "      <td>3</td>\n",
       "      <td>1</td>\n",
       "      <td>3</td>\n",
       "      <td>5.0</td>\n",
       "      <td>5.0</td>\n",
       "      <td>5.0</td>\n",
       "      <td>14.0</td>\n",
       "      <td>200.0</td>\n",
       "      <td>84.0</td>\n",
       "      <td>-1.4</td>\n",
       "      <td>1026.2</td>\n",
       "      <td>-25.5</td>\n",
       "      <td>0.0</td>\n",
       "      <td>N</td>\n",
       "      <td>4.9</td>\n",
       "    </tr>\n",
       "    <tr>\n",
       "      <th>5</th>\n",
       "      <td>2013</td>\n",
       "      <td>3</td>\n",
       "      <td>1</td>\n",
       "      <td>4</td>\n",
       "      <td>5.0</td>\n",
       "      <td>5.0</td>\n",
       "      <td>6.0</td>\n",
       "      <td>21.0</td>\n",
       "      <td>200.0</td>\n",
       "      <td>77.0</td>\n",
       "      <td>-1.9</td>\n",
       "      <td>1027.1</td>\n",
       "      <td>-24.5</td>\n",
       "      <td>0.0</td>\n",
       "      <td>NNW</td>\n",
       "      <td>3.2</td>\n",
       "    </tr>\n",
       "    <tr>\n",
       "      <th rowspan=\"5\" valign=\"top\">Shunyi</th>\n",
       "      <th>1</th>\n",
       "      <td>2013</td>\n",
       "      <td>3</td>\n",
       "      <td>1</td>\n",
       "      <td>0</td>\n",
       "      <td>3.0</td>\n",
       "      <td>6.0</td>\n",
       "      <td>3.0</td>\n",
       "      <td>8.0</td>\n",
       "      <td>300.0</td>\n",
       "      <td>44.0</td>\n",
       "      <td>-0.9</td>\n",
       "      <td>1025.8</td>\n",
       "      <td>-20.5</td>\n",
       "      <td>0.0</td>\n",
       "      <td>NW</td>\n",
       "      <td>9.3</td>\n",
       "    </tr>\n",
       "    <tr>\n",
       "      <th>2</th>\n",
       "      <td>2013</td>\n",
       "      <td>3</td>\n",
       "      <td>1</td>\n",
       "      <td>1</td>\n",
       "      <td>12.0</td>\n",
       "      <td>12.0</td>\n",
       "      <td>3.0</td>\n",
       "      <td>7.0</td>\n",
       "      <td>300.0</td>\n",
       "      <td>47.0</td>\n",
       "      <td>-1.1</td>\n",
       "      <td>1026.1</td>\n",
       "      <td>-21.3</td>\n",
       "      <td>0.0</td>\n",
       "      <td>NW</td>\n",
       "      <td>9.4</td>\n",
       "    </tr>\n",
       "    <tr>\n",
       "      <th>3</th>\n",
       "      <td>2013</td>\n",
       "      <td>3</td>\n",
       "      <td>1</td>\n",
       "      <td>2</td>\n",
       "      <td>14.0</td>\n",
       "      <td>14.0</td>\n",
       "      <td>NaN</td>\n",
       "      <td>7.0</td>\n",
       "      <td>200.0</td>\n",
       "      <td>22.0</td>\n",
       "      <td>-1.7</td>\n",
       "      <td>1026.2</td>\n",
       "      <td>-23.0</td>\n",
       "      <td>0.0</td>\n",
       "      <td>NW</td>\n",
       "      <td>8.6</td>\n",
       "    </tr>\n",
       "    <tr>\n",
       "      <th>4</th>\n",
       "      <td>2013</td>\n",
       "      <td>3</td>\n",
       "      <td>1</td>\n",
       "      <td>3</td>\n",
       "      <td>12.0</td>\n",
       "      <td>12.0</td>\n",
       "      <td>3.0</td>\n",
       "      <td>5.0</td>\n",
       "      <td>NaN</td>\n",
       "      <td>NaN</td>\n",
       "      <td>-2.1</td>\n",
       "      <td>1027.3</td>\n",
       "      <td>-23.3</td>\n",
       "      <td>0.0</td>\n",
       "      <td>NW</td>\n",
       "      <td>6.6</td>\n",
       "    </tr>\n",
       "    <tr>\n",
       "      <th>5</th>\n",
       "      <td>2013</td>\n",
       "      <td>3</td>\n",
       "      <td>1</td>\n",
       "      <td>4</td>\n",
       "      <td>12.0</td>\n",
       "      <td>12.0</td>\n",
       "      <td>3.0</td>\n",
       "      <td>NaN</td>\n",
       "      <td>200.0</td>\n",
       "      <td>11.0</td>\n",
       "      <td>-2.4</td>\n",
       "      <td>1027.7</td>\n",
       "      <td>-22.9</td>\n",
       "      <td>0.0</td>\n",
       "      <td>NW</td>\n",
       "      <td>4.5</td>\n",
       "    </tr>\n",
       "    <tr>\n",
       "      <th rowspan=\"5\" valign=\"top\">Tiantan</th>\n",
       "      <th>1</th>\n",
       "      <td>2013</td>\n",
       "      <td>3</td>\n",
       "      <td>1</td>\n",
       "      <td>0</td>\n",
       "      <td>6.0</td>\n",
       "      <td>6.0</td>\n",
       "      <td>4.0</td>\n",
       "      <td>8.0</td>\n",
       "      <td>300.0</td>\n",
       "      <td>81.0</td>\n",
       "      <td>-0.5</td>\n",
       "      <td>1024.5</td>\n",
       "      <td>-21.4</td>\n",
       "      <td>0.0</td>\n",
       "      <td>NNW</td>\n",
       "      <td>5.7</td>\n",
       "    </tr>\n",
       "    <tr>\n",
       "      <th>2</th>\n",
       "      <td>2013</td>\n",
       "      <td>3</td>\n",
       "      <td>1</td>\n",
       "      <td>1</td>\n",
       "      <td>6.0</td>\n",
       "      <td>29.0</td>\n",
       "      <td>5.0</td>\n",
       "      <td>9.0</td>\n",
       "      <td>300.0</td>\n",
       "      <td>80.0</td>\n",
       "      <td>-0.7</td>\n",
       "      <td>1025.1</td>\n",
       "      <td>-22.1</td>\n",
       "      <td>0.0</td>\n",
       "      <td>NW</td>\n",
       "      <td>3.9</td>\n",
       "    </tr>\n",
       "    <tr>\n",
       "      <th>3</th>\n",
       "      <td>2013</td>\n",
       "      <td>3</td>\n",
       "      <td>1</td>\n",
       "      <td>2</td>\n",
       "      <td>6.0</td>\n",
       "      <td>6.0</td>\n",
       "      <td>4.0</td>\n",
       "      <td>12.0</td>\n",
       "      <td>300.0</td>\n",
       "      <td>75.0</td>\n",
       "      <td>-1.2</td>\n",
       "      <td>1025.3</td>\n",
       "      <td>-24.6</td>\n",
       "      <td>0.0</td>\n",
       "      <td>NNW</td>\n",
       "      <td>5.3</td>\n",
       "    </tr>\n",
       "    <tr>\n",
       "      <th>4</th>\n",
       "      <td>2013</td>\n",
       "      <td>3</td>\n",
       "      <td>1</td>\n",
       "      <td>3</td>\n",
       "      <td>6.0</td>\n",
       "      <td>6.0</td>\n",
       "      <td>4.0</td>\n",
       "      <td>12.0</td>\n",
       "      <td>300.0</td>\n",
       "      <td>74.0</td>\n",
       "      <td>-1.4</td>\n",
       "      <td>1026.2</td>\n",
       "      <td>-25.5</td>\n",
       "      <td>0.0</td>\n",
       "      <td>N</td>\n",
       "      <td>4.9</td>\n",
       "    </tr>\n",
       "    <tr>\n",
       "      <th>5</th>\n",
       "      <td>2013</td>\n",
       "      <td>3</td>\n",
       "      <td>1</td>\n",
       "      <td>4</td>\n",
       "      <td>5.0</td>\n",
       "      <td>5.0</td>\n",
       "      <td>7.0</td>\n",
       "      <td>15.0</td>\n",
       "      <td>400.0</td>\n",
       "      <td>70.0</td>\n",
       "      <td>-1.9</td>\n",
       "      <td>1027.1</td>\n",
       "      <td>-24.5</td>\n",
       "      <td>0.0</td>\n",
       "      <td>NNW</td>\n",
       "      <td>3.2</td>\n",
       "    </tr>\n",
       "    <tr>\n",
       "      <th rowspan=\"5\" valign=\"top\">Wanliu</th>\n",
       "      <th>1</th>\n",
       "      <td>2013</td>\n",
       "      <td>3</td>\n",
       "      <td>1</td>\n",
       "      <td>0</td>\n",
       "      <td>8.0</td>\n",
       "      <td>8.0</td>\n",
       "      <td>6.0</td>\n",
       "      <td>28.0</td>\n",
       "      <td>400.0</td>\n",
       "      <td>52.0</td>\n",
       "      <td>-0.7</td>\n",
       "      <td>1023.0</td>\n",
       "      <td>-18.8</td>\n",
       "      <td>0.0</td>\n",
       "      <td>NNW</td>\n",
       "      <td>4.4</td>\n",
       "    </tr>\n",
       "    <tr>\n",
       "      <th>2</th>\n",
       "      <td>2013</td>\n",
       "      <td>3</td>\n",
       "      <td>1</td>\n",
       "      <td>1</td>\n",
       "      <td>9.0</td>\n",
       "      <td>9.0</td>\n",
       "      <td>6.0</td>\n",
       "      <td>28.0</td>\n",
       "      <td>400.0</td>\n",
       "      <td>50.0</td>\n",
       "      <td>-1.1</td>\n",
       "      <td>1023.2</td>\n",
       "      <td>-18.2</td>\n",
       "      <td>0.0</td>\n",
       "      <td>N</td>\n",
       "      <td>4.7</td>\n",
       "    </tr>\n",
       "    <tr>\n",
       "      <th>3</th>\n",
       "      <td>2013</td>\n",
       "      <td>3</td>\n",
       "      <td>1</td>\n",
       "      <td>2</td>\n",
       "      <td>3.0</td>\n",
       "      <td>6.0</td>\n",
       "      <td>NaN</td>\n",
       "      <td>19.0</td>\n",
       "      <td>400.0</td>\n",
       "      <td>55.0</td>\n",
       "      <td>-1.1</td>\n",
       "      <td>1023.5</td>\n",
       "      <td>-18.2</td>\n",
       "      <td>0.0</td>\n",
       "      <td>NNW</td>\n",
       "      <td>5.6</td>\n",
       "    </tr>\n",
       "    <tr>\n",
       "      <th>4</th>\n",
       "      <td>2013</td>\n",
       "      <td>3</td>\n",
       "      <td>1</td>\n",
       "      <td>3</td>\n",
       "      <td>11.0</td>\n",
       "      <td>30.0</td>\n",
       "      <td>8.0</td>\n",
       "      <td>14.0</td>\n",
       "      <td>NaN</td>\n",
       "      <td>NaN</td>\n",
       "      <td>-1.4</td>\n",
       "      <td>1024.5</td>\n",
       "      <td>-19.4</td>\n",
       "      <td>0.0</td>\n",
       "      <td>NW</td>\n",
       "      <td>3.1</td>\n",
       "    </tr>\n",
       "    <tr>\n",
       "      <th>5</th>\n",
       "      <td>2013</td>\n",
       "      <td>3</td>\n",
       "      <td>1</td>\n",
       "      <td>4</td>\n",
       "      <td>3.0</td>\n",
       "      <td>13.0</td>\n",
       "      <td>9.0</td>\n",
       "      <td>NaN</td>\n",
       "      <td>300.0</td>\n",
       "      <td>54.0</td>\n",
       "      <td>-2.0</td>\n",
       "      <td>1025.2</td>\n",
       "      <td>-19.5</td>\n",
       "      <td>0.0</td>\n",
       "      <td>N</td>\n",
       "      <td>2.0</td>\n",
       "    </tr>\n",
       "    <tr>\n",
       "      <th rowspan=\"5\" valign=\"top\">Wanshouxigong</th>\n",
       "      <th>1</th>\n",
       "      <td>2013</td>\n",
       "      <td>3</td>\n",
       "      <td>1</td>\n",
       "      <td>0</td>\n",
       "      <td>9.0</td>\n",
       "      <td>9.0</td>\n",
       "      <td>6.0</td>\n",
       "      <td>17.0</td>\n",
       "      <td>200.0</td>\n",
       "      <td>62.0</td>\n",
       "      <td>0.3</td>\n",
       "      <td>1021.9</td>\n",
       "      <td>-19.0</td>\n",
       "      <td>0.0</td>\n",
       "      <td>WNW</td>\n",
       "      <td>2.0</td>\n",
       "    </tr>\n",
       "    <tr>\n",
       "      <th>2</th>\n",
       "      <td>2013</td>\n",
       "      <td>3</td>\n",
       "      <td>1</td>\n",
       "      <td>1</td>\n",
       "      <td>11.0</td>\n",
       "      <td>11.0</td>\n",
       "      <td>7.0</td>\n",
       "      <td>14.0</td>\n",
       "      <td>200.0</td>\n",
       "      <td>66.0</td>\n",
       "      <td>-0.1</td>\n",
       "      <td>1022.4</td>\n",
       "      <td>-19.3</td>\n",
       "      <td>0.0</td>\n",
       "      <td>WNW</td>\n",
       "      <td>4.4</td>\n",
       "    </tr>\n",
       "    <tr>\n",
       "      <th>3</th>\n",
       "      <td>2013</td>\n",
       "      <td>3</td>\n",
       "      <td>1</td>\n",
       "      <td>2</td>\n",
       "      <td>8.0</td>\n",
       "      <td>8.0</td>\n",
       "      <td>NaN</td>\n",
       "      <td>16.0</td>\n",
       "      <td>200.0</td>\n",
       "      <td>59.0</td>\n",
       "      <td>-0.6</td>\n",
       "      <td>1022.6</td>\n",
       "      <td>-19.7</td>\n",
       "      <td>0.0</td>\n",
       "      <td>WNW</td>\n",
       "      <td>4.7</td>\n",
       "    </tr>\n",
       "    <tr>\n",
       "      <th>4</th>\n",
       "      <td>2013</td>\n",
       "      <td>3</td>\n",
       "      <td>1</td>\n",
       "      <td>3</td>\n",
       "      <td>8.0</td>\n",
       "      <td>8.0</td>\n",
       "      <td>3.0</td>\n",
       "      <td>16.0</td>\n",
       "      <td>NaN</td>\n",
       "      <td>NaN</td>\n",
       "      <td>-0.7</td>\n",
       "      <td>1023.5</td>\n",
       "      <td>-20.9</td>\n",
       "      <td>0.0</td>\n",
       "      <td>NW</td>\n",
       "      <td>2.6</td>\n",
       "    </tr>\n",
       "    <tr>\n",
       "      <th>5</th>\n",
       "      <td>2013</td>\n",
       "      <td>3</td>\n",
       "      <td>1</td>\n",
       "      <td>4</td>\n",
       "      <td>8.0</td>\n",
       "      <td>8.0</td>\n",
       "      <td>3.0</td>\n",
       "      <td>NaN</td>\n",
       "      <td>300.0</td>\n",
       "      <td>36.0</td>\n",
       "      <td>-0.9</td>\n",
       "      <td>1024.1</td>\n",
       "      <td>-21.7</td>\n",
       "      <td>0.0</td>\n",
       "      <td>WNW</td>\n",
       "      <td>2.5</td>\n",
       "    </tr>\n",
       "  </tbody>\n",
       "</table>\n",
       "</div>"
      ],
      "text/plain": [
       "                  year  month  day  hour  PM2.5  PM10   SO2   NO2     CO  \\\n",
       "station       No                                                           \n",
       "Aotizhongxin  1   2013      3    1     0    4.0   4.0   4.0   7.0  300.0   \n",
       "              2   2013      3    1     1    8.0   8.0   4.0   7.0  300.0   \n",
       "              3   2013      3    1     2    7.0   7.0   5.0  10.0  300.0   \n",
       "              4   2013      3    1     3    6.0   6.0  11.0  11.0  300.0   \n",
       "              5   2013      3    1     4    3.0   3.0  12.0  12.0  300.0   \n",
       "Changping     1   2013      3    1     0    3.0   6.0  13.0   7.0  300.0   \n",
       "              2   2013      3    1     1    3.0   3.0   6.0   6.0  300.0   \n",
       "              3   2013      3    1     2    3.0   3.0  22.0  13.0  400.0   \n",
       "              4   2013      3    1     3    3.0   6.0  12.0   8.0  300.0   \n",
       "              5   2013      3    1     4    3.0   3.0  14.0   8.0  300.0   \n",
       "Dingling      1   2013      3    1     0    4.0   4.0   3.0   NaN  200.0   \n",
       "              2   2013      3    1     1    7.0   7.0   3.0   NaN  200.0   \n",
       "              3   2013      3    1     2    5.0   5.0   3.0   2.0  200.0   \n",
       "              4   2013      3    1     3    6.0   6.0   3.0   NaN  200.0   \n",
       "              5   2013      3    1     4    5.0   5.0   3.0   NaN  200.0   \n",
       "Dongsi        1   2013      3    1     0    9.0   9.0   3.0  17.0  300.0   \n",
       "              2   2013      3    1     1    4.0   4.0   3.0  16.0  300.0   \n",
       "              3   2013      3    1     2    7.0   7.0   NaN  17.0  300.0   \n",
       "              4   2013      3    1     3    3.0   3.0   5.0  18.0    NaN   \n",
       "              5   2013      3    1     4    3.0   3.0   7.0   NaN  200.0   \n",
       "Guanyuan      1   2013      3    1     0    4.0   4.0  14.0  20.0  300.0   \n",
       "              2   2013      3    1     1    4.0   4.0  13.0  17.0  300.0   \n",
       "              3   2013      3    1     2    3.0   3.0  10.0  19.0  300.0   \n",
       "              4   2013      3    1     3    3.0   6.0   7.0  24.0  400.0   \n",
       "              5   2013      3    1     4    3.0   6.0   5.0  14.0  400.0   \n",
       "Gucheng       1   2013      3    1     0    6.0  18.0   5.0   NaN  800.0   \n",
       "              2   2013      3    1     1    6.0  15.0   5.0   NaN  800.0   \n",
       "              3   2013      3    1     2    5.0  18.0   NaN   NaN  700.0   \n",
       "              4   2013      3    1     3    6.0  20.0   6.0   NaN    NaN   \n",
       "              5   2013      3    1     4    5.0  17.0   5.0   NaN  600.0   \n",
       "Huairou       1   2013      3    1     0    7.0   7.0   3.0   2.0  100.0   \n",
       "              2   2013      3    1     1    4.0   4.0   3.0   NaN  100.0   \n",
       "              3   2013      3    1     2    4.0   4.0   NaN   NaN  100.0   \n",
       "              4   2013      3    1     3    3.0   3.0   3.0   2.0    NaN   \n",
       "              5   2013      3    1     4    3.0   3.0   7.0   NaN  300.0   \n",
       "Nongzhanguan  1   2013      3    1     0    5.0  14.0   4.0  12.0  200.0   \n",
       "              2   2013      3    1     1    8.0  12.0   6.0  14.0  200.0   \n",
       "              3   2013      3    1     2    3.0   6.0   5.0  14.0  200.0   \n",
       "              4   2013      3    1     3    5.0   5.0   5.0  14.0  200.0   \n",
       "              5   2013      3    1     4    5.0   5.0   6.0  21.0  200.0   \n",
       "Shunyi        1   2013      3    1     0    3.0   6.0   3.0   8.0  300.0   \n",
       "              2   2013      3    1     1   12.0  12.0   3.0   7.0  300.0   \n",
       "              3   2013      3    1     2   14.0  14.0   NaN   7.0  200.0   \n",
       "              4   2013      3    1     3   12.0  12.0   3.0   5.0    NaN   \n",
       "              5   2013      3    1     4   12.0  12.0   3.0   NaN  200.0   \n",
       "Tiantan       1   2013      3    1     0    6.0   6.0   4.0   8.0  300.0   \n",
       "              2   2013      3    1     1    6.0  29.0   5.0   9.0  300.0   \n",
       "              3   2013      3    1     2    6.0   6.0   4.0  12.0  300.0   \n",
       "              4   2013      3    1     3    6.0   6.0   4.0  12.0  300.0   \n",
       "              5   2013      3    1     4    5.0   5.0   7.0  15.0  400.0   \n",
       "Wanliu        1   2013      3    1     0    8.0   8.0   6.0  28.0  400.0   \n",
       "              2   2013      3    1     1    9.0   9.0   6.0  28.0  400.0   \n",
       "              3   2013      3    1     2    3.0   6.0   NaN  19.0  400.0   \n",
       "              4   2013      3    1     3   11.0  30.0   8.0  14.0    NaN   \n",
       "              5   2013      3    1     4    3.0  13.0   9.0   NaN  300.0   \n",
       "Wanshouxigong 1   2013      3    1     0    9.0   9.0   6.0  17.0  200.0   \n",
       "              2   2013      3    1     1   11.0  11.0   7.0  14.0  200.0   \n",
       "              3   2013      3    1     2    8.0   8.0   NaN  16.0  200.0   \n",
       "              4   2013      3    1     3    8.0   8.0   3.0  16.0    NaN   \n",
       "              5   2013      3    1     4    8.0   8.0   3.0   NaN  300.0   \n",
       "\n",
       "                    O3  TEMP    PRES  DEWP  RAIN   wd  WSPM  \n",
       "station       No                                             \n",
       "Aotizhongxin  1   77.0  -0.7  1023.0 -18.8   0.0  NNW   4.4  \n",
       "              2   77.0  -1.1  1023.2 -18.2   0.0    N   4.7  \n",
       "              3   73.0  -1.1  1023.5 -18.2   0.0  NNW   5.6  \n",
       "              4   72.0  -1.4  1024.5 -19.4   0.0   NW   3.1  \n",
       "              5   72.0  -2.0  1025.2 -19.5   0.0    N   2.0  \n",
       "Changping     1   85.0  -2.3  1020.8 -19.7   0.0    E   0.5  \n",
       "              2   85.0  -2.5  1021.3 -19.0   0.0  ENE   0.7  \n",
       "              3   74.0  -3.0  1021.3 -19.9   0.0  ENE   0.2  \n",
       "              4   81.0  -3.6  1021.8 -19.1   0.0  NNE   1.0  \n",
       "              5   81.0  -3.5  1022.3 -19.4   0.0    N   2.1  \n",
       "Dingling      1   82.0  -2.3  1020.8 -19.7   0.0    E   0.5  \n",
       "              2   80.0  -2.5  1021.3 -19.0   0.0  ENE   0.7  \n",
       "              3   79.0  -3.0  1021.3 -19.9   0.0  ENE   0.2  \n",
       "              4   79.0  -3.6  1021.8 -19.1   0.0  NNE   1.0  \n",
       "              5   81.0  -3.5  1022.3 -19.4   0.0    N   2.1  \n",
       "Dongsi        1   89.0  -0.5  1024.5 -21.4   0.0  NNW   5.7  \n",
       "              2   88.0  -0.7  1025.1 -22.1   0.0   NW   3.9  \n",
       "              3   60.0  -1.2  1025.3 -24.6   0.0  NNW   5.3  \n",
       "              4    NaN  -1.4  1026.2 -25.5   0.0    N   4.9  \n",
       "              5   84.0  -1.9  1027.1 -24.5   0.0  NNW   3.2  \n",
       "Guanyuan      1   69.0  -0.7  1023.0 -18.8   0.0  NNW   4.4  \n",
       "              2   72.0  -1.1  1023.2 -18.2   0.0    N   4.7  \n",
       "              3   69.0  -1.1  1023.5 -18.2   0.0  NNW   5.6  \n",
       "              4   62.0  -1.4  1024.5 -19.4   0.0   NW   3.1  \n",
       "              5   71.0  -2.0  1025.2 -19.5   0.0    N   2.0  \n",
       "Gucheng       1   88.0   0.1  1021.1 -18.6   0.0   NW   4.4  \n",
       "              2   88.0  -0.3  1021.5 -19.0   0.0   NW   4.0  \n",
       "              3   52.0  -0.7  1021.5 -19.8   0.0  WNW   4.6  \n",
       "              4    NaN  -1.0  1022.7 -21.2   0.0    W   2.8  \n",
       "              5   73.0  -1.3  1023.0 -21.4   0.0  WNW   3.6  \n",
       "Huairou       1   91.0  -2.3  1020.3 -20.7   0.0  WNW   3.1  \n",
       "              2   92.0  -2.7  1020.8 -20.5   0.0  NNW   1.5  \n",
       "              3   91.0  -3.2  1020.6 -21.4   0.0   NW   1.8  \n",
       "              4    NaN  -3.3  1021.3 -23.7   0.0  NNW   2.4  \n",
       "              5   86.0  -4.1  1022.1 -22.7   0.0  NNW   2.2  \n",
       "Nongzhanguan  1   85.0  -0.5  1024.5 -21.4   0.0  NNW   5.7  \n",
       "              2   84.0  -0.7  1025.1 -22.1   0.0   NW   3.9  \n",
       "              3   83.0  -1.2  1025.3 -24.6   0.0  NNW   5.3  \n",
       "              4   84.0  -1.4  1026.2 -25.5   0.0    N   4.9  \n",
       "              5   77.0  -1.9  1027.1 -24.5   0.0  NNW   3.2  \n",
       "Shunyi        1   44.0  -0.9  1025.8 -20.5   0.0   NW   9.3  \n",
       "              2   47.0  -1.1  1026.1 -21.3   0.0   NW   9.4  \n",
       "              3   22.0  -1.7  1026.2 -23.0   0.0   NW   8.6  \n",
       "              4    NaN  -2.1  1027.3 -23.3   0.0   NW   6.6  \n",
       "              5   11.0  -2.4  1027.7 -22.9   0.0   NW   4.5  \n",
       "Tiantan       1   81.0  -0.5  1024.5 -21.4   0.0  NNW   5.7  \n",
       "              2   80.0  -0.7  1025.1 -22.1   0.0   NW   3.9  \n",
       "              3   75.0  -1.2  1025.3 -24.6   0.0  NNW   5.3  \n",
       "              4   74.0  -1.4  1026.2 -25.5   0.0    N   4.9  \n",
       "              5   70.0  -1.9  1027.1 -24.5   0.0  NNW   3.2  \n",
       "Wanliu        1   52.0  -0.7  1023.0 -18.8   0.0  NNW   4.4  \n",
       "              2   50.0  -1.1  1023.2 -18.2   0.0    N   4.7  \n",
       "              3   55.0  -1.1  1023.5 -18.2   0.0  NNW   5.6  \n",
       "              4    NaN  -1.4  1024.5 -19.4   0.0   NW   3.1  \n",
       "              5   54.0  -2.0  1025.2 -19.5   0.0    N   2.0  \n",
       "Wanshouxigong 1   62.0   0.3  1021.9 -19.0   0.0  WNW   2.0  \n",
       "              2   66.0  -0.1  1022.4 -19.3   0.0  WNW   4.4  \n",
       "              3   59.0  -0.6  1022.6 -19.7   0.0  WNW   4.7  \n",
       "              4    NaN  -0.7  1023.5 -20.9   0.0   NW   2.6  \n",
       "              5   36.0  -0.9  1024.1 -21.7   0.0  WNW   2.5  "
      ]
     },
     "execution_count": 3,
     "metadata": {},
     "output_type": "execute_result"
    }
   ],
   "source": [
    "# dfs = [Aotizhongxin, Changping, Dingling, Dongsi, Guanyuan, Gucheng, \n",
    "#       Huairou, Nongzhanguan, Shunyi, Tiantan, Wanliu, Wanshouxigong] \\\n",
    "#           = [pd.read_csv(path+filename) for filename in filenames]\n",
    "\n",
    "df = pd.concat([pd.read_csv(path+filename) for filename in filenames])\n",
    "df.set_index(['station', 'No']).groupby(level=0).head(5)"
   ]
  },
  {
   "attachments": {},
   "cell_type": "markdown",
   "metadata": {},
   "source": [
    "### Assessing Data"
   ]
  },
  {
   "cell_type": "code",
   "execution_count": 4,
   "metadata": {},
   "outputs": [
    {
     "data": {
      "text/plain": [
       "['Aotizhongxin',\n",
       " 'Changping',\n",
       " 'Dingling',\n",
       " 'Dongsi',\n",
       " 'Guanyuan',\n",
       " 'Gucheng',\n",
       " 'Huairou',\n",
       " 'Nongzhanguan',\n",
       " 'Shunyi',\n",
       " 'Tiantan',\n",
       " 'Wanliu',\n",
       " 'Wanshouxigong']"
      ]
     },
     "execution_count": 4,
     "metadata": {},
     "output_type": "execute_result"
    }
   ],
   "source": [
    "list(df['station'].unique())"
   ]
  },
  {
   "cell_type": "code",
   "execution_count": 5,
   "metadata": {},
   "outputs": [
    {
     "name": "stdout",
     "output_type": "stream",
     "text": [
      "Station Names (12): ['Aotizhongxin', 'Changping', 'Dingling', 'Dongsi', 'Guanyuan', 'Gucheng', 'Huairou', 'Nongzhanguan', 'Shunyi', 'Tiantan', 'Wanliu', 'Wanshouxigong']\n"
     ]
    }
   ],
   "source": [
    "# stations = [filename[10:-22] for filename in filenames]\n",
    "stations = list(df['station'].unique())\n",
    "print(f'Station Names ({len(stations)}):', stations)"
   ]
  },
  {
   "cell_type": "code",
   "execution_count": 6,
   "metadata": {},
   "outputs": [
    {
     "name": "stdout",
     "output_type": "stream",
     "text": [
      "# Total Records: 420768\n",
      "# Record for each Stations:\n",
      "Aotizhongxin     35064\n",
      "Changping        35064\n",
      "Dingling         35064\n",
      "Dongsi           35064\n",
      "Guanyuan         35064\n",
      "Gucheng          35064\n",
      "Huairou          35064\n",
      "Nongzhanguan     35064\n",
      "Shunyi           35064\n",
      "Tiantan          35064\n",
      "Wanliu           35064\n",
      "Wanshouxigong    35064\n"
     ]
    }
   ],
   "source": [
    "# Number of Rows/Records\n",
    "print('# Total Records:', len(df))\n",
    "print('# Record for each Stations:\\n'+df.groupby('station').size().to_string(header=False))"
   ]
  },
  {
   "cell_type": "code",
   "execution_count": 7,
   "metadata": {},
   "outputs": [
    {
     "name": "stdout",
     "output_type": "stream",
     "text": [
      "# Data Types:\n",
      "No           int64\n",
      "year         int64\n",
      "month        int64\n",
      "day          int64\n",
      "hour         int64\n",
      "PM2.5      float64\n",
      "PM10       float64\n",
      "SO2        float64\n",
      "NO2        float64\n",
      "CO         float64\n",
      "O3         float64\n",
      "TEMP       float64\n",
      "PRES       float64\n",
      "DEWP       float64\n",
      "RAIN       float64\n",
      "wd          object\n",
      "WSPM       float64\n",
      "station     object\n"
     ]
    }
   ],
   "source": [
    "# Data Types\n",
    "print('# Data Types:\\n'+df.dtypes.to_string())"
   ]
  },
  {
   "cell_type": "code",
   "execution_count": 8,
   "metadata": {},
   "outputs": [
    {
     "name": "stdout",
     "output_type": "stream",
     "text": [
      "No             0 (0.00%)\n",
      "year           0 (0.00%)\n",
      "month          0 (0.00%)\n",
      "day            0 (0.00%)\n",
      "hour           0 (0.00%)\n",
      "PM2.5       8739 (2.08%)\n",
      "PM10        6449 (1.53%)\n",
      "SO2         9021 (2.14%)\n",
      "NO2        12116 (2.88%)\n",
      "CO         20701 (4.92%)\n",
      "O3         13277 (3.16%)\n",
      "TEMP         398 (0.09%)\n",
      "PRES         393 (0.09%)\n",
      "DEWP         403 (0.10%)\n",
      "RAIN         390 (0.09%)\n",
      "wd          1822 (0.43%)\n",
      "WSPM         318 (0.08%)\n",
      "station        0 (0.00%)\n"
     ]
    }
   ],
   "source": [
    "# Null Values\n",
    "print(df.isna().sum().map(lambda x: f'{x} ({x / len(df) * 100:.2f}%)').to_string())"
   ]
  },
  {
   "cell_type": "code",
   "execution_count": 9,
   "metadata": {},
   "outputs": [
    {
     "data": {
      "text/html": [
       "<div>\n",
       "<style scoped>\n",
       "    .dataframe tbody tr th:only-of-type {\n",
       "        vertical-align: middle;\n",
       "    }\n",
       "\n",
       "    .dataframe tbody tr th {\n",
       "        vertical-align: top;\n",
       "    }\n",
       "\n",
       "    .dataframe thead th {\n",
       "        text-align: right;\n",
       "    }\n",
       "</style>\n",
       "<table border=\"1\" class=\"dataframe\">\n",
       "  <thead>\n",
       "    <tr style=\"text-align: right;\">\n",
       "      <th></th>\n",
       "      <th>attributes</th>\n",
       "      <th>n_values</th>\n",
       "      <th>values</th>\n",
       "    </tr>\n",
       "  </thead>\n",
       "  <tbody>\n",
       "    <tr>\n",
       "      <th>0</th>\n",
       "      <td>year</td>\n",
       "      <td>5</td>\n",
       "      <td>[2013, 2014, 2015, 2016, 2017]</td>\n",
       "    </tr>\n",
       "    <tr>\n",
       "      <th>1</th>\n",
       "      <td>month</td>\n",
       "      <td>12</td>\n",
       "      <td>[1, 2, 3, 4, 5, 6, 7, 8, 9, 10, 11, 12]</td>\n",
       "    </tr>\n",
       "    <tr>\n",
       "      <th>2</th>\n",
       "      <td>day</td>\n",
       "      <td>31</td>\n",
       "      <td>[1, 2, 3, 4, 5, 6, 7, 8, 9, 10, 11, 12, 13, 14, 15, 16, 17, 18, 19, 20, 21, 22, 23, 24, 25, 26, 27, 28, 29, 30, 31]</td>\n",
       "    </tr>\n",
       "    <tr>\n",
       "      <th>3</th>\n",
       "      <td>hour</td>\n",
       "      <td>24</td>\n",
       "      <td>[0, 1, 2, 3, 4, 5, 6, 7, 8, 9, 10, 11, 12, 13, 14, 15, 16, 17, 18, 19, 20, 21, 22, 23]</td>\n",
       "    </tr>\n",
       "    <tr>\n",
       "      <th>4</th>\n",
       "      <td>wd</td>\n",
       "      <td>16</td>\n",
       "      <td>[E, ENE, ESE, N, NE, NNE, NNW, NW, S, SE, SSE, SSW, SW, W, WNW, WSW]</td>\n",
       "    </tr>\n",
       "  </tbody>\n",
       "</table>\n",
       "</div>"
      ],
      "text/plain": [
       "  attributes  n_values  \\\n",
       "0       year         5   \n",
       "1      month        12   \n",
       "2        day        31   \n",
       "3       hour        24   \n",
       "4         wd        16   \n",
       "\n",
       "                                                                                                                values  \n",
       "0                                                                                       [2013, 2014, 2015, 2016, 2017]  \n",
       "1                                                                              [1, 2, 3, 4, 5, 6, 7, 8, 9, 10, 11, 12]  \n",
       "2  [1, 2, 3, 4, 5, 6, 7, 8, 9, 10, 11, 12, 13, 14, 15, 16, 17, 18, 19, 20, 21, 22, 23, 24, 25, 26, 27, 28, 29, 30, 31]  \n",
       "3                               [0, 1, 2, 3, 4, 5, 6, 7, 8, 9, 10, 11, 12, 13, 14, 15, 16, 17, 18, 19, 20, 21, 22, 23]  \n",
       "4                                                 [E, ENE, ESE, N, NE, NNE, NNW, NW, S, SE, SSE, SSW, SW, W, WNW, WSW]  "
      ]
     },
     "metadata": {},
     "output_type": "display_data"
    }
   ],
   "source": [
    "# Categorical Data Checker\n",
    "\n",
    "# undefined = ['No', 'station']\n",
    "categorical = ['year', 'month', 'day', 'hour', 'wd']\n",
    "numerical = ['PM2.5', 'PM10', 'SO2', 'NO2', 'CO', 'O3', 'TEMP', 'PRES', 'DEWP', 'RAIN', 'WSPM']\n",
    "\n",
    "# option to set the width as wide as possible\n",
    "pd.set_option('display.max_colwidth', None)\n",
    "\n",
    "# Values of Categorical Columns\n",
    "cat_values = pd.DataFrame(zip(categorical, [list(df[i].value_counts().sort_index().index) for i in categorical]))\n",
    "cat_values.columns = ['attributes', 'values']\n",
    "cat_values['n_values'] = [len(j) for j in cat_values['values']]\n",
    "display(cat_values[['attributes', 'n_values', 'values']])\n",
    "\n",
    "pd.reset_option('display.max_colwidth') # reset width option"
   ]
  },
  {
   "cell_type": "code",
   "execution_count": 10,
   "metadata": {},
   "outputs": [
    {
     "data": {
      "text/html": [
       "<div>\n",
       "<style scoped>\n",
       "    .dataframe tbody tr th:only-of-type {\n",
       "        vertical-align: middle;\n",
       "    }\n",
       "\n",
       "    .dataframe tbody tr th {\n",
       "        vertical-align: top;\n",
       "    }\n",
       "\n",
       "    .dataframe thead th {\n",
       "        text-align: right;\n",
       "    }\n",
       "</style>\n",
       "<table border=\"1\" class=\"dataframe\">\n",
       "  <thead>\n",
       "    <tr style=\"text-align: right;\">\n",
       "      <th></th>\n",
       "      <th>count</th>\n",
       "      <th>mean</th>\n",
       "      <th>std</th>\n",
       "      <th>min</th>\n",
       "      <th>25%</th>\n",
       "      <th>50%</th>\n",
       "      <th>75%</th>\n",
       "      <th>max</th>\n",
       "    </tr>\n",
       "  </thead>\n",
       "  <tbody>\n",
       "    <tr>\n",
       "      <th>PM2.5</th>\n",
       "      <td>412029.0</td>\n",
       "      <td>79.793428</td>\n",
       "      <td>80.822391</td>\n",
       "      <td>2.0000</td>\n",
       "      <td>20.0</td>\n",
       "      <td>55.0</td>\n",
       "      <td>111.0</td>\n",
       "      <td>999.0</td>\n",
       "    </tr>\n",
       "    <tr>\n",
       "      <th>PM10</th>\n",
       "      <td>414319.0</td>\n",
       "      <td>104.602618</td>\n",
       "      <td>91.772426</td>\n",
       "      <td>2.0000</td>\n",
       "      <td>36.0</td>\n",
       "      <td>82.0</td>\n",
       "      <td>145.0</td>\n",
       "      <td>999.0</td>\n",
       "    </tr>\n",
       "    <tr>\n",
       "      <th>SO2</th>\n",
       "      <td>411747.0</td>\n",
       "      <td>15.830835</td>\n",
       "      <td>21.650603</td>\n",
       "      <td>0.2856</td>\n",
       "      <td>3.0</td>\n",
       "      <td>7.0</td>\n",
       "      <td>20.0</td>\n",
       "      <td>500.0</td>\n",
       "    </tr>\n",
       "    <tr>\n",
       "      <th>NO2</th>\n",
       "      <td>408652.0</td>\n",
       "      <td>50.638586</td>\n",
       "      <td>35.127912</td>\n",
       "      <td>1.0265</td>\n",
       "      <td>23.0</td>\n",
       "      <td>43.0</td>\n",
       "      <td>71.0</td>\n",
       "      <td>290.0</td>\n",
       "    </tr>\n",
       "    <tr>\n",
       "      <th>CO</th>\n",
       "      <td>400067.0</td>\n",
       "      <td>1230.766454</td>\n",
       "      <td>1160.182716</td>\n",
       "      <td>100.0000</td>\n",
       "      <td>500.0</td>\n",
       "      <td>900.0</td>\n",
       "      <td>1500.0</td>\n",
       "      <td>10000.0</td>\n",
       "    </tr>\n",
       "    <tr>\n",
       "      <th>O3</th>\n",
       "      <td>407491.0</td>\n",
       "      <td>57.372271</td>\n",
       "      <td>56.661607</td>\n",
       "      <td>0.2142</td>\n",
       "      <td>11.0</td>\n",
       "      <td>45.0</td>\n",
       "      <td>82.0</td>\n",
       "      <td>1071.0</td>\n",
       "    </tr>\n",
       "    <tr>\n",
       "      <th>TEMP</th>\n",
       "      <td>420370.0</td>\n",
       "      <td>13.538976</td>\n",
       "      <td>11.436139</td>\n",
       "      <td>-19.9000</td>\n",
       "      <td>3.1</td>\n",
       "      <td>14.5</td>\n",
       "      <td>23.3</td>\n",
       "      <td>41.6</td>\n",
       "    </tr>\n",
       "    <tr>\n",
       "      <th>PRES</th>\n",
       "      <td>420375.0</td>\n",
       "      <td>1010.746982</td>\n",
       "      <td>10.474055</td>\n",
       "      <td>982.4000</td>\n",
       "      <td>1002.3</td>\n",
       "      <td>1010.4</td>\n",
       "      <td>1019.0</td>\n",
       "      <td>1042.8</td>\n",
       "    </tr>\n",
       "    <tr>\n",
       "      <th>DEWP</th>\n",
       "      <td>420365.0</td>\n",
       "      <td>2.490822</td>\n",
       "      <td>13.793847</td>\n",
       "      <td>-43.4000</td>\n",
       "      <td>-8.9</td>\n",
       "      <td>3.1</td>\n",
       "      <td>15.1</td>\n",
       "      <td>29.1</td>\n",
       "    </tr>\n",
       "    <tr>\n",
       "      <th>RAIN</th>\n",
       "      <td>420378.0</td>\n",
       "      <td>0.064476</td>\n",
       "      <td>0.821004</td>\n",
       "      <td>0.0000</td>\n",
       "      <td>0.0</td>\n",
       "      <td>0.0</td>\n",
       "      <td>0.0</td>\n",
       "      <td>72.5</td>\n",
       "    </tr>\n",
       "    <tr>\n",
       "      <th>WSPM</th>\n",
       "      <td>420450.0</td>\n",
       "      <td>1.729711</td>\n",
       "      <td>1.246386</td>\n",
       "      <td>0.0000</td>\n",
       "      <td>0.9</td>\n",
       "      <td>1.4</td>\n",
       "      <td>2.2</td>\n",
       "      <td>13.2</td>\n",
       "    </tr>\n",
       "  </tbody>\n",
       "</table>\n",
       "</div>"
      ],
      "text/plain": [
       "          count         mean          std       min     25%     50%     75%  \\\n",
       "PM2.5  412029.0    79.793428    80.822391    2.0000    20.0    55.0   111.0   \n",
       "PM10   414319.0   104.602618    91.772426    2.0000    36.0    82.0   145.0   \n",
       "SO2    411747.0    15.830835    21.650603    0.2856     3.0     7.0    20.0   \n",
       "NO2    408652.0    50.638586    35.127912    1.0265    23.0    43.0    71.0   \n",
       "CO     400067.0  1230.766454  1160.182716  100.0000   500.0   900.0  1500.0   \n",
       "O3     407491.0    57.372271    56.661607    0.2142    11.0    45.0    82.0   \n",
       "TEMP   420370.0    13.538976    11.436139  -19.9000     3.1    14.5    23.3   \n",
       "PRES   420375.0  1010.746982    10.474055  982.4000  1002.3  1010.4  1019.0   \n",
       "DEWP   420365.0     2.490822    13.793847  -43.4000    -8.9     3.1    15.1   \n",
       "RAIN   420378.0     0.064476     0.821004    0.0000     0.0     0.0     0.0   \n",
       "WSPM   420450.0     1.729711     1.246386    0.0000     0.9     1.4     2.2   \n",
       "\n",
       "           max  \n",
       "PM2.5    999.0  \n",
       "PM10     999.0  \n",
       "SO2      500.0  \n",
       "NO2      290.0  \n",
       "CO     10000.0  \n",
       "O3      1071.0  \n",
       "TEMP      41.6  \n",
       "PRES    1042.8  \n",
       "DEWP      29.1  \n",
       "RAIN      72.5  \n",
       "WSPM      13.2  "
      ]
     },
     "execution_count": 10,
     "metadata": {},
     "output_type": "execute_result"
    }
   ],
   "source": [
    "# Numerical Data Checker\n",
    "\n",
    "df[numerical].describe().T"
   ]
  },
  {
   "cell_type": "markdown",
   "metadata": {},
   "source": [
    "Berdasarkan dokumen yang diterbitkan pemerintah terkait yang menangani kualitas udara [1], disebutkan terdapat beberapa variabel yang dapat menggambarkan kualitas udara yaitu PM2.5, PM10, SO2, NO2, CO, dan O3. \n",
    "semua variabel ini memiliki rentang nilai sebagai berikut\n",
    "- **PM2.5**: 0-500 μg/m3\n",
    "- **PM10**: 0-604 μg/m3\n",
    "- **SO2**: 0 - 1004 ppb, atau 0 - 2725.10 ug/m^3\n",
    "- **NO2**: 0 - 2049 ppb, atau 0 - 3993.68 ug/m^3\n",
    "- **CO**: 0 - 50.4 ppm, atau 0 - 59808.80 ug/m^3\n",
    "- **O3**: 0 - 0.604 ppm atau 0 - 1228.29 ug/m^3\n",
    "\n",
    "Namun dijelaskan juga rentang nilai ini dapat lebih tinggi jika terdapat kondisi ekstrim seperti pada saat letusan gunung berapi, kebakaran, dan lainnya\\\n",
    "maka disimpulkan nilai yang ada pada data yang digunakan masih pada rentang yang dapat diterima.\n",
    "\n",
    "dapat dilihat juga untuk variabel kondisi cuaca seperti TEMP, PRES, DEWP, RAIN, WSPM juga memiliki rentang nilai yang sangat wajar dan dapat diterima."
   ]
  },
  {
   "cell_type": "code",
   "execution_count": 11,
   "metadata": {},
   "outputs": [
    {
     "data": {
      "text/plain": [
       "0"
      ]
     },
     "execution_count": 11,
     "metadata": {},
     "output_type": "execute_result"
    }
   ],
   "source": [
    "# mengecek duplikasi data\n",
    "\n",
    "df.drop('No', axis=1).duplicated().sum()"
   ]
  },
  {
   "cell_type": "code",
   "execution_count": 12,
   "metadata": {},
   "outputs": [
    {
     "data": {
      "text/plain": [
       "PM2.5    []\n",
       "PM10     []\n",
       "SO2      []\n",
       "NO2      []\n",
       "CO       []\n",
       "O3       []\n",
       "TEMP     []\n",
       "PRES     []\n",
       "DEWP     []\n",
       "RAIN     []\n",
       "WSPM     []\n",
       "dtype: object"
      ]
     },
     "execution_count": 12,
     "metadata": {},
     "output_type": "execute_result"
    }
   ],
   "source": [
    "# Mengecek outliers\n",
    "outliers = []\n",
    "\n",
    "for col in numerical:\n",
    "    data = df[col]\n",
    "    q25, q75 = np.percentile(data, 25), np.percentile(data, 75)\n",
    "    iqr = q75 - q25\n",
    "    cut_off = iqr * 1.5\n",
    "    minimum, maximum = q25 - cut_off, q75 + cut_off\n",
    "    outliers.append([x for x in data if x < minimum or x > maximum])\n",
    "    \n",
    "pd.Series(data=outliers, index=numerical)"
   ]
  },
  {
   "attachments": {},
   "cell_type": "markdown",
   "metadata": {},
   "source": [
    "### Cleaning Data"
   ]
  },
  {
   "cell_type": "markdown",
   "metadata": {},
   "source": [
    "Berdasarkan hasil assessing data sebelumnya, didapatkan beberapa hal yang bisa dilakukan yaitu:\n",
    "1. Penanganan terhadap Nilai NaN"
   ]
  },
  {
   "cell_type": "code",
   "execution_count": 13,
   "metadata": {},
   "outputs": [
    {
     "name": "stdout",
     "output_type": "stream",
     "text": [
      "Total Records: 420768\n",
      "Total Records without NaN: 382168\n",
      "Total Records with NaN: 38600\n"
     ]
    },
    {
     "data": {
      "text/plain": [
       "No             0\n",
       "year           0\n",
       "month          0\n",
       "day            0\n",
       "hour           0\n",
       "PM2.5       8739\n",
       "PM10        6449\n",
       "SO2         9021\n",
       "NO2        12116\n",
       "CO         20701\n",
       "O3         13277\n",
       "TEMP         398\n",
       "PRES         393\n",
       "DEWP         403\n",
       "RAIN         390\n",
       "wd          1822\n",
       "WSPM         318\n",
       "station        0\n",
       "dtype: int64"
      ]
     },
     "metadata": {},
     "output_type": "display_data"
    }
   ],
   "source": [
    "# Mengecek nilai nan\n",
    "\n",
    "# df.dropna(inplace=True)\n",
    "df_nan_only = df[df.isna().any(axis=1)]\n",
    "df_clean = df[~df.isna().any(axis=1)]\n",
    "\n",
    "print('Total Records:', len(df))\n",
    "print('Total Records without NaN:', len(df_clean))\n",
    "\n",
    "print('Total Records with NaN:', len(df_nan_only))\n",
    "display(df_nan_only.isna().sum())"
   ]
  },
  {
   "cell_type": "code",
   "execution_count": 14,
   "metadata": {},
   "outputs": [
    {
     "data": {
      "text/plain": [
       "No           0\n",
       "year         0\n",
       "month        0\n",
       "day          0\n",
       "hour         0\n",
       "PM2.5        0\n",
       "PM10         0\n",
       "SO2          0\n",
       "NO2         22\n",
       "CO           0\n",
       "O3           0\n",
       "TEMP         0\n",
       "PRES         0\n",
       "DEWP         0\n",
       "RAIN         0\n",
       "wd         183\n",
       "WSPM         0\n",
       "station      0\n",
       "dtype: int64"
      ]
     },
     "execution_count": 14,
     "metadata": {},
     "output_type": "execute_result"
    }
   ],
   "source": [
    "# mengisi nan menggunakan metode interpolate, ffill, dan bfill\n",
    "# dengan asumsi nilai beberapa jam sebelum atau setelahnya tidak akan berbeda jauh\n",
    "\n",
    "df_sorted_fillna = []\n",
    "for station in stations:\n",
    "    \n",
    "    # memastikan semua terurut berdasarkan tanggal dan jam untuk setiap 'station'\n",
    "    sorted_per_group = df[df['station'] == station].drop(['No'], axis=1)\n",
    "    sorted_per_group = sorted_per_group.sort_values(['year', 'month', 'day', 'hour'])\n",
    "    sorted_per_group = sorted_per_group.reset_index(drop=True).reset_index() \n",
    "    sorted_per_group = sorted_per_group.rename(columns={'index': 'No'})\n",
    "    sorted_per_group['No'] = sorted_per_group['No'].map(lambda x: x+1)\n",
    "    \n",
    "    # menggunakan fungsi interpolate untuk mendapatkan nilai rata-rata dari baris ke +1 dan \n",
    "    # -1 dari nilai nan. interpolate tidak dapat mendapatkan nilai jika baris ke +1 dan/atau\n",
    "    # -1 juga merupakan nilai nan, maka harus di tangani terpisah.\n",
    "    sorted_per_group = sorted_per_group.interpolate(method='linear', axis=0)\n",
    "    \n",
    "    # fitur 'wd' merupakan data kategorik sehingga tidak bisa menggunakan interpolate \n",
    "    # maka menggnuakan fillna menggunakan metode ffill dan bfill dengan limit 1 agar\n",
    "    # tidak bias karena metode ini dapat mengisi seluruh nilai nan hanya dengan 1 baris\n",
    "    # terisi, jika seperti itu maka nilai tidak akan valid.\n",
    "    sorted_per_group['wd'] = sorted_per_group['wd'].fillna(method='ffill', limit=1)\n",
    "    sorted_per_group['wd'] = sorted_per_group['wd'].fillna(method='bfill', limit=1)\n",
    "    \n",
    "    # append ke list untuk nanti di gabung kembali\n",
    "    df_sorted_fillna.append(sorted_per_group)\n",
    "\n",
    "# menggabungkan kembali dataset\n",
    "df_new = pd.concat(df_sorted_fillna).reset_index(drop=True)\n",
    "# df_new.set_index(['station', 'No']).groupby(level=0).head(5)\n",
    "df_new.isna().sum()"
   ]
  },
  {
   "cell_type": "code",
   "execution_count": 15,
   "metadata": {},
   "outputs": [
    {
     "data": {
      "text/html": [
       "<div>\n",
       "<style scoped>\n",
       "    .dataframe tbody tr th:only-of-type {\n",
       "        vertical-align: middle;\n",
       "    }\n",
       "\n",
       "    .dataframe tbody tr th {\n",
       "        vertical-align: top;\n",
       "    }\n",
       "\n",
       "    .dataframe thead th {\n",
       "        text-align: right;\n",
       "    }\n",
       "</style>\n",
       "<table border=\"1\" class=\"dataframe\">\n",
       "  <thead>\n",
       "    <tr style=\"text-align: right;\">\n",
       "      <th></th>\n",
       "      <th>No</th>\n",
       "      <th>year</th>\n",
       "      <th>month</th>\n",
       "      <th>day</th>\n",
       "      <th>hour</th>\n",
       "      <th>PM2.5</th>\n",
       "      <th>PM10</th>\n",
       "      <th>SO2</th>\n",
       "      <th>NO2</th>\n",
       "      <th>CO</th>\n",
       "      <th>O3</th>\n",
       "      <th>TEMP</th>\n",
       "      <th>PRES</th>\n",
       "      <th>DEWP</th>\n",
       "      <th>RAIN</th>\n",
       "      <th>wd</th>\n",
       "      <th>WSPM</th>\n",
       "      <th>station</th>\n",
       "    </tr>\n",
       "  </thead>\n",
       "  <tbody>\n",
       "    <tr>\n",
       "      <th>70128</th>\n",
       "      <td>1</td>\n",
       "      <td>2013</td>\n",
       "      <td>3</td>\n",
       "      <td>1</td>\n",
       "      <td>0</td>\n",
       "      <td>4.0</td>\n",
       "      <td>4.0</td>\n",
       "      <td>3.0</td>\n",
       "      <td>NaN</td>\n",
       "      <td>200.0</td>\n",
       "      <td>82.0</td>\n",
       "      <td>-2.3</td>\n",
       "      <td>1020.8</td>\n",
       "      <td>-19.7</td>\n",
       "      <td>0.0</td>\n",
       "      <td>E</td>\n",
       "      <td>0.5</td>\n",
       "      <td>Dingling</td>\n",
       "    </tr>\n",
       "    <tr>\n",
       "      <th>70129</th>\n",
       "      <td>2</td>\n",
       "      <td>2013</td>\n",
       "      <td>3</td>\n",
       "      <td>1</td>\n",
       "      <td>1</td>\n",
       "      <td>7.0</td>\n",
       "      <td>7.0</td>\n",
       "      <td>3.0</td>\n",
       "      <td>NaN</td>\n",
       "      <td>200.0</td>\n",
       "      <td>80.0</td>\n",
       "      <td>-2.5</td>\n",
       "      <td>1021.3</td>\n",
       "      <td>-19.0</td>\n",
       "      <td>0.0</td>\n",
       "      <td>ENE</td>\n",
       "      <td>0.7</td>\n",
       "      <td>Dingling</td>\n",
       "    </tr>\n",
       "    <tr>\n",
       "      <th>175320</th>\n",
       "      <td>1</td>\n",
       "      <td>2013</td>\n",
       "      <td>3</td>\n",
       "      <td>1</td>\n",
       "      <td>0</td>\n",
       "      <td>6.0</td>\n",
       "      <td>18.0</td>\n",
       "      <td>5.0</td>\n",
       "      <td>NaN</td>\n",
       "      <td>800.0</td>\n",
       "      <td>88.0</td>\n",
       "      <td>0.1</td>\n",
       "      <td>1021.1</td>\n",
       "      <td>-18.6</td>\n",
       "      <td>0.0</td>\n",
       "      <td>NW</td>\n",
       "      <td>4.4</td>\n",
       "      <td>Gucheng</td>\n",
       "    </tr>\n",
       "    <tr>\n",
       "      <th>175321</th>\n",
       "      <td>2</td>\n",
       "      <td>2013</td>\n",
       "      <td>3</td>\n",
       "      <td>1</td>\n",
       "      <td>1</td>\n",
       "      <td>6.0</td>\n",
       "      <td>15.0</td>\n",
       "      <td>5.0</td>\n",
       "      <td>NaN</td>\n",
       "      <td>800.0</td>\n",
       "      <td>88.0</td>\n",
       "      <td>-0.3</td>\n",
       "      <td>1021.5</td>\n",
       "      <td>-19.0</td>\n",
       "      <td>0.0</td>\n",
       "      <td>NW</td>\n",
       "      <td>4.0</td>\n",
       "      <td>Gucheng</td>\n",
       "    </tr>\n",
       "    <tr>\n",
       "      <th>175322</th>\n",
       "      <td>3</td>\n",
       "      <td>2013</td>\n",
       "      <td>3</td>\n",
       "      <td>1</td>\n",
       "      <td>2</td>\n",
       "      <td>5.0</td>\n",
       "      <td>18.0</td>\n",
       "      <td>5.5</td>\n",
       "      <td>NaN</td>\n",
       "      <td>700.0</td>\n",
       "      <td>52.0</td>\n",
       "      <td>-0.7</td>\n",
       "      <td>1021.5</td>\n",
       "      <td>-19.8</td>\n",
       "      <td>0.0</td>\n",
       "      <td>WNW</td>\n",
       "      <td>4.6</td>\n",
       "      <td>Gucheng</td>\n",
       "    </tr>\n",
       "    <tr>\n",
       "      <th>175323</th>\n",
       "      <td>4</td>\n",
       "      <td>2013</td>\n",
       "      <td>3</td>\n",
       "      <td>1</td>\n",
       "      <td>3</td>\n",
       "      <td>6.0</td>\n",
       "      <td>20.0</td>\n",
       "      <td>6.0</td>\n",
       "      <td>NaN</td>\n",
       "      <td>650.0</td>\n",
       "      <td>62.5</td>\n",
       "      <td>-1.0</td>\n",
       "      <td>1022.7</td>\n",
       "      <td>-21.2</td>\n",
       "      <td>0.0</td>\n",
       "      <td>W</td>\n",
       "      <td>2.8</td>\n",
       "      <td>Gucheng</td>\n",
       "    </tr>\n",
       "    <tr>\n",
       "      <th>175324</th>\n",
       "      <td>5</td>\n",
       "      <td>2013</td>\n",
       "      <td>3</td>\n",
       "      <td>1</td>\n",
       "      <td>4</td>\n",
       "      <td>5.0</td>\n",
       "      <td>17.0</td>\n",
       "      <td>5.0</td>\n",
       "      <td>NaN</td>\n",
       "      <td>600.0</td>\n",
       "      <td>73.0</td>\n",
       "      <td>-1.3</td>\n",
       "      <td>1023.0</td>\n",
       "      <td>-21.4</td>\n",
       "      <td>0.0</td>\n",
       "      <td>WNW</td>\n",
       "      <td>3.6</td>\n",
       "      <td>Gucheng</td>\n",
       "    </tr>\n",
       "    <tr>\n",
       "      <th>175325</th>\n",
       "      <td>6</td>\n",
       "      <td>2013</td>\n",
       "      <td>3</td>\n",
       "      <td>1</td>\n",
       "      <td>5</td>\n",
       "      <td>4.0</td>\n",
       "      <td>11.0</td>\n",
       "      <td>3.0</td>\n",
       "      <td>NaN</td>\n",
       "      <td>700.0</td>\n",
       "      <td>87.0</td>\n",
       "      <td>-1.8</td>\n",
       "      <td>1023.6</td>\n",
       "      <td>-21.9</td>\n",
       "      <td>0.0</td>\n",
       "      <td>E</td>\n",
       "      <td>1.2</td>\n",
       "      <td>Gucheng</td>\n",
       "    </tr>\n",
       "    <tr>\n",
       "      <th>175326</th>\n",
       "      <td>7</td>\n",
       "      <td>2013</td>\n",
       "      <td>3</td>\n",
       "      <td>1</td>\n",
       "      <td>6</td>\n",
       "      <td>3.0</td>\n",
       "      <td>6.0</td>\n",
       "      <td>3.0</td>\n",
       "      <td>NaN</td>\n",
       "      <td>700.0</td>\n",
       "      <td>92.0</td>\n",
       "      <td>-2.6</td>\n",
       "      <td>1024.3</td>\n",
       "      <td>-20.4</td>\n",
       "      <td>0.0</td>\n",
       "      <td>ENE</td>\n",
       "      <td>1.2</td>\n",
       "      <td>Gucheng</td>\n",
       "    </tr>\n",
       "    <tr>\n",
       "      <th>175327</th>\n",
       "      <td>8</td>\n",
       "      <td>2013</td>\n",
       "      <td>3</td>\n",
       "      <td>1</td>\n",
       "      <td>7</td>\n",
       "      <td>5.0</td>\n",
       "      <td>5.0</td>\n",
       "      <td>3.0</td>\n",
       "      <td>NaN</td>\n",
       "      <td>800.0</td>\n",
       "      <td>86.0</td>\n",
       "      <td>-0.9</td>\n",
       "      <td>1025.6</td>\n",
       "      <td>-20.5</td>\n",
       "      <td>0.0</td>\n",
       "      <td>ENE</td>\n",
       "      <td>1.1</td>\n",
       "      <td>Gucheng</td>\n",
       "    </tr>\n",
       "    <tr>\n",
       "      <th>175328</th>\n",
       "      <td>9</td>\n",
       "      <td>2013</td>\n",
       "      <td>3</td>\n",
       "      <td>1</td>\n",
       "      <td>8</td>\n",
       "      <td>5.0</td>\n",
       "      <td>9.0</td>\n",
       "      <td>5.0</td>\n",
       "      <td>NaN</td>\n",
       "      <td>900.0</td>\n",
       "      <td>81.0</td>\n",
       "      <td>0.1</td>\n",
       "      <td>1026.1</td>\n",
       "      <td>-20.3</td>\n",
       "      <td>0.0</td>\n",
       "      <td>ENE</td>\n",
       "      <td>3.0</td>\n",
       "      <td>Gucheng</td>\n",
       "    </tr>\n",
       "    <tr>\n",
       "      <th>175329</th>\n",
       "      <td>10</td>\n",
       "      <td>2013</td>\n",
       "      <td>3</td>\n",
       "      <td>1</td>\n",
       "      <td>9</td>\n",
       "      <td>4.0</td>\n",
       "      <td>10.0</td>\n",
       "      <td>6.0</td>\n",
       "      <td>NaN</td>\n",
       "      <td>900.0</td>\n",
       "      <td>82.0</td>\n",
       "      <td>1.1</td>\n",
       "      <td>1026.1</td>\n",
       "      <td>-20.6</td>\n",
       "      <td>0.0</td>\n",
       "      <td>NE</td>\n",
       "      <td>2.8</td>\n",
       "      <td>Gucheng</td>\n",
       "    </tr>\n",
       "    <tr>\n",
       "      <th>175330</th>\n",
       "      <td>11</td>\n",
       "      <td>2013</td>\n",
       "      <td>3</td>\n",
       "      <td>1</td>\n",
       "      <td>10</td>\n",
       "      <td>7.0</td>\n",
       "      <td>8.0</td>\n",
       "      <td>8.0</td>\n",
       "      <td>NaN</td>\n",
       "      <td>900.0</td>\n",
       "      <td>82.0</td>\n",
       "      <td>1.9</td>\n",
       "      <td>1026.1</td>\n",
       "      <td>-21.3</td>\n",
       "      <td>0.0</td>\n",
       "      <td>ENE</td>\n",
       "      <td>3.0</td>\n",
       "      <td>Gucheng</td>\n",
       "    </tr>\n",
       "    <tr>\n",
       "      <th>175331</th>\n",
       "      <td>12</td>\n",
       "      <td>2013</td>\n",
       "      <td>3</td>\n",
       "      <td>1</td>\n",
       "      <td>11</td>\n",
       "      <td>3.0</td>\n",
       "      <td>6.0</td>\n",
       "      <td>8.0</td>\n",
       "      <td>NaN</td>\n",
       "      <td>800.0</td>\n",
       "      <td>85.0</td>\n",
       "      <td>3.3</td>\n",
       "      <td>1026.1</td>\n",
       "      <td>-20.9</td>\n",
       "      <td>0.0</td>\n",
       "      <td>ENE</td>\n",
       "      <td>3.2</td>\n",
       "      <td>Gucheng</td>\n",
       "    </tr>\n",
       "    <tr>\n",
       "      <th>175332</th>\n",
       "      <td>13</td>\n",
       "      <td>2013</td>\n",
       "      <td>3</td>\n",
       "      <td>1</td>\n",
       "      <td>12</td>\n",
       "      <td>9.0</td>\n",
       "      <td>10.0</td>\n",
       "      <td>8.0</td>\n",
       "      <td>NaN</td>\n",
       "      <td>800.0</td>\n",
       "      <td>86.0</td>\n",
       "      <td>4.1</td>\n",
       "      <td>1025.1</td>\n",
       "      <td>-20.3</td>\n",
       "      <td>0.0</td>\n",
       "      <td>ENE</td>\n",
       "      <td>3.2</td>\n",
       "      <td>Gucheng</td>\n",
       "    </tr>\n",
       "    <tr>\n",
       "      <th>175333</th>\n",
       "      <td>14</td>\n",
       "      <td>2013</td>\n",
       "      <td>3</td>\n",
       "      <td>1</td>\n",
       "      <td>13</td>\n",
       "      <td>10.0</td>\n",
       "      <td>19.0</td>\n",
       "      <td>9.0</td>\n",
       "      <td>NaN</td>\n",
       "      <td>900.0</td>\n",
       "      <td>86.0</td>\n",
       "      <td>5.3</td>\n",
       "      <td>1024.1</td>\n",
       "      <td>-20.1</td>\n",
       "      <td>0.0</td>\n",
       "      <td>NE</td>\n",
       "      <td>2.7</td>\n",
       "      <td>Gucheng</td>\n",
       "    </tr>\n",
       "    <tr>\n",
       "      <th>175334</th>\n",
       "      <td>15</td>\n",
       "      <td>2013</td>\n",
       "      <td>3</td>\n",
       "      <td>1</td>\n",
       "      <td>14</td>\n",
       "      <td>13.0</td>\n",
       "      <td>20.0</td>\n",
       "      <td>8.0</td>\n",
       "      <td>NaN</td>\n",
       "      <td>800.0</td>\n",
       "      <td>88.0</td>\n",
       "      <td>5.5</td>\n",
       "      <td>1023.8</td>\n",
       "      <td>-20.0</td>\n",
       "      <td>0.0</td>\n",
       "      <td>NE</td>\n",
       "      <td>2.1</td>\n",
       "      <td>Gucheng</td>\n",
       "    </tr>\n",
       "    <tr>\n",
       "      <th>175335</th>\n",
       "      <td>16</td>\n",
       "      <td>2013</td>\n",
       "      <td>3</td>\n",
       "      <td>1</td>\n",
       "      <td>15</td>\n",
       "      <td>13.0</td>\n",
       "      <td>16.0</td>\n",
       "      <td>8.0</td>\n",
       "      <td>NaN</td>\n",
       "      <td>800.0</td>\n",
       "      <td>90.0</td>\n",
       "      <td>6.3</td>\n",
       "      <td>1023.5</td>\n",
       "      <td>-19.3</td>\n",
       "      <td>0.0</td>\n",
       "      <td>ENE</td>\n",
       "      <td>2.7</td>\n",
       "      <td>Gucheng</td>\n",
       "    </tr>\n",
       "    <tr>\n",
       "      <th>175336</th>\n",
       "      <td>17</td>\n",
       "      <td>2013</td>\n",
       "      <td>3</td>\n",
       "      <td>1</td>\n",
       "      <td>16</td>\n",
       "      <td>11.0</td>\n",
       "      <td>22.0</td>\n",
       "      <td>6.0</td>\n",
       "      <td>NaN</td>\n",
       "      <td>800.0</td>\n",
       "      <td>90.0</td>\n",
       "      <td>5.9</td>\n",
       "      <td>1023.6</td>\n",
       "      <td>-18.8</td>\n",
       "      <td>0.0</td>\n",
       "      <td>ENE</td>\n",
       "      <td>1.8</td>\n",
       "      <td>Gucheng</td>\n",
       "    </tr>\n",
       "    <tr>\n",
       "      <th>175337</th>\n",
       "      <td>18</td>\n",
       "      <td>2013</td>\n",
       "      <td>3</td>\n",
       "      <td>1</td>\n",
       "      <td>17</td>\n",
       "      <td>10.0</td>\n",
       "      <td>20.0</td>\n",
       "      <td>4.0</td>\n",
       "      <td>NaN</td>\n",
       "      <td>800.0</td>\n",
       "      <td>87.0</td>\n",
       "      <td>5.1</td>\n",
       "      <td>1024.2</td>\n",
       "      <td>-18.7</td>\n",
       "      <td>0.0</td>\n",
       "      <td>WNW</td>\n",
       "      <td>1.0</td>\n",
       "      <td>Gucheng</td>\n",
       "    </tr>\n",
       "    <tr>\n",
       "      <th>175338</th>\n",
       "      <td>19</td>\n",
       "      <td>2013</td>\n",
       "      <td>3</td>\n",
       "      <td>1</td>\n",
       "      <td>18</td>\n",
       "      <td>11.0</td>\n",
       "      <td>20.0</td>\n",
       "      <td>6.0</td>\n",
       "      <td>NaN</td>\n",
       "      <td>900.0</td>\n",
       "      <td>80.0</td>\n",
       "      <td>3.7</td>\n",
       "      <td>1025.3</td>\n",
       "      <td>-19.2</td>\n",
       "      <td>0.0</td>\n",
       "      <td>E</td>\n",
       "      <td>1.6</td>\n",
       "      <td>Gucheng</td>\n",
       "    </tr>\n",
       "    <tr>\n",
       "      <th>175339</th>\n",
       "      <td>20</td>\n",
       "      <td>2013</td>\n",
       "      <td>3</td>\n",
       "      <td>1</td>\n",
       "      <td>19</td>\n",
       "      <td>11.0</td>\n",
       "      <td>31.0</td>\n",
       "      <td>8.0</td>\n",
       "      <td>NaN</td>\n",
       "      <td>1000.0</td>\n",
       "      <td>69.0</td>\n",
       "      <td>2.7</td>\n",
       "      <td>1026.1</td>\n",
       "      <td>-19.3</td>\n",
       "      <td>0.0</td>\n",
       "      <td>E</td>\n",
       "      <td>1.7</td>\n",
       "      <td>Gucheng</td>\n",
       "    </tr>\n",
       "  </tbody>\n",
       "</table>\n",
       "</div>"
      ],
      "text/plain": [
       "        No  year  month  day  hour  PM2.5  PM10  SO2  NO2      CO    O3  TEMP  \\\n",
       "70128    1  2013      3    1     0    4.0   4.0  3.0  NaN   200.0  82.0  -2.3   \n",
       "70129    2  2013      3    1     1    7.0   7.0  3.0  NaN   200.0  80.0  -2.5   \n",
       "175320   1  2013      3    1     0    6.0  18.0  5.0  NaN   800.0  88.0   0.1   \n",
       "175321   2  2013      3    1     1    6.0  15.0  5.0  NaN   800.0  88.0  -0.3   \n",
       "175322   3  2013      3    1     2    5.0  18.0  5.5  NaN   700.0  52.0  -0.7   \n",
       "175323   4  2013      3    1     3    6.0  20.0  6.0  NaN   650.0  62.5  -1.0   \n",
       "175324   5  2013      3    1     4    5.0  17.0  5.0  NaN   600.0  73.0  -1.3   \n",
       "175325   6  2013      3    1     5    4.0  11.0  3.0  NaN   700.0  87.0  -1.8   \n",
       "175326   7  2013      3    1     6    3.0   6.0  3.0  NaN   700.0  92.0  -2.6   \n",
       "175327   8  2013      3    1     7    5.0   5.0  3.0  NaN   800.0  86.0  -0.9   \n",
       "175328   9  2013      3    1     8    5.0   9.0  5.0  NaN   900.0  81.0   0.1   \n",
       "175329  10  2013      3    1     9    4.0  10.0  6.0  NaN   900.0  82.0   1.1   \n",
       "175330  11  2013      3    1    10    7.0   8.0  8.0  NaN   900.0  82.0   1.9   \n",
       "175331  12  2013      3    1    11    3.0   6.0  8.0  NaN   800.0  85.0   3.3   \n",
       "175332  13  2013      3    1    12    9.0  10.0  8.0  NaN   800.0  86.0   4.1   \n",
       "175333  14  2013      3    1    13   10.0  19.0  9.0  NaN   900.0  86.0   5.3   \n",
       "175334  15  2013      3    1    14   13.0  20.0  8.0  NaN   800.0  88.0   5.5   \n",
       "175335  16  2013      3    1    15   13.0  16.0  8.0  NaN   800.0  90.0   6.3   \n",
       "175336  17  2013      3    1    16   11.0  22.0  6.0  NaN   800.0  90.0   5.9   \n",
       "175337  18  2013      3    1    17   10.0  20.0  4.0  NaN   800.0  87.0   5.1   \n",
       "175338  19  2013      3    1    18   11.0  20.0  6.0  NaN   900.0  80.0   3.7   \n",
       "175339  20  2013      3    1    19   11.0  31.0  8.0  NaN  1000.0  69.0   2.7   \n",
       "\n",
       "          PRES  DEWP  RAIN   wd  WSPM   station  \n",
       "70128   1020.8 -19.7   0.0    E   0.5  Dingling  \n",
       "70129   1021.3 -19.0   0.0  ENE   0.7  Dingling  \n",
       "175320  1021.1 -18.6   0.0   NW   4.4   Gucheng  \n",
       "175321  1021.5 -19.0   0.0   NW   4.0   Gucheng  \n",
       "175322  1021.5 -19.8   0.0  WNW   4.6   Gucheng  \n",
       "175323  1022.7 -21.2   0.0    W   2.8   Gucheng  \n",
       "175324  1023.0 -21.4   0.0  WNW   3.6   Gucheng  \n",
       "175325  1023.6 -21.9   0.0    E   1.2   Gucheng  \n",
       "175326  1024.3 -20.4   0.0  ENE   1.2   Gucheng  \n",
       "175327  1025.6 -20.5   0.0  ENE   1.1   Gucheng  \n",
       "175328  1026.1 -20.3   0.0  ENE   3.0   Gucheng  \n",
       "175329  1026.1 -20.6   0.0   NE   2.8   Gucheng  \n",
       "175330  1026.1 -21.3   0.0  ENE   3.0   Gucheng  \n",
       "175331  1026.1 -20.9   0.0  ENE   3.2   Gucheng  \n",
       "175332  1025.1 -20.3   0.0  ENE   3.2   Gucheng  \n",
       "175333  1024.1 -20.1   0.0   NE   2.7   Gucheng  \n",
       "175334  1023.8 -20.0   0.0   NE   2.1   Gucheng  \n",
       "175335  1023.5 -19.3   0.0  ENE   2.7   Gucheng  \n",
       "175336  1023.6 -18.8   0.0  ENE   1.8   Gucheng  \n",
       "175337  1024.2 -18.7   0.0  WNW   1.0   Gucheng  \n",
       "175338  1025.3 -19.2   0.0    E   1.6   Gucheng  \n",
       "175339  1026.1 -19.3   0.0    E   1.7   Gucheng  "
      ]
     },
     "execution_count": 15,
     "metadata": {},
     "output_type": "execute_result"
    }
   ],
   "source": [
    "# pengecekan nilai NaN pada kolom NO2\n",
    "df_new[df_new.drop('wd', axis=1).isna().any(axis=1)]"
   ]
  },
  {
   "cell_type": "code",
   "execution_count": 16,
   "metadata": {},
   "outputs": [
    {
     "data": {
      "text/html": [
       "<div>\n",
       "<style scoped>\n",
       "    .dataframe tbody tr th:only-of-type {\n",
       "        vertical-align: middle;\n",
       "    }\n",
       "\n",
       "    .dataframe tbody tr th {\n",
       "        vertical-align: top;\n",
       "    }\n",
       "\n",
       "    .dataframe thead th {\n",
       "        text-align: right;\n",
       "    }\n",
       "</style>\n",
       "<table border=\"1\" class=\"dataframe\">\n",
       "  <thead>\n",
       "    <tr style=\"text-align: right;\">\n",
       "      <th></th>\n",
       "      <th>No</th>\n",
       "      <th>year</th>\n",
       "      <th>month</th>\n",
       "      <th>day</th>\n",
       "      <th>hour</th>\n",
       "      <th>PM2.5</th>\n",
       "      <th>PM10</th>\n",
       "      <th>SO2</th>\n",
       "      <th>NO2</th>\n",
       "      <th>CO</th>\n",
       "      <th>O3</th>\n",
       "      <th>TEMP</th>\n",
       "      <th>PRES</th>\n",
       "      <th>DEWP</th>\n",
       "      <th>RAIN</th>\n",
       "      <th>wd</th>\n",
       "      <th>WSPM</th>\n",
       "      <th>station</th>\n",
       "    </tr>\n",
       "  </thead>\n",
       "  <tbody>\n",
       "    <tr>\n",
       "      <th>70130</th>\n",
       "      <td>3</td>\n",
       "      <td>2013</td>\n",
       "      <td>3</td>\n",
       "      <td>1</td>\n",
       "      <td>2</td>\n",
       "      <td>5.0</td>\n",
       "      <td>5.0</td>\n",
       "      <td>3.0</td>\n",
       "      <td>2.000000</td>\n",
       "      <td>200.0</td>\n",
       "      <td>79.0</td>\n",
       "      <td>-3.0</td>\n",
       "      <td>1021.3</td>\n",
       "      <td>-19.9</td>\n",
       "      <td>0.0</td>\n",
       "      <td>ENE</td>\n",
       "      <td>0.2</td>\n",
       "      <td>Dingling</td>\n",
       "    </tr>\n",
       "    <tr>\n",
       "      <th>70131</th>\n",
       "      <td>4</td>\n",
       "      <td>2013</td>\n",
       "      <td>3</td>\n",
       "      <td>1</td>\n",
       "      <td>3</td>\n",
       "      <td>6.0</td>\n",
       "      <td>6.0</td>\n",
       "      <td>3.0</td>\n",
       "      <td>2.666667</td>\n",
       "      <td>200.0</td>\n",
       "      <td>79.0</td>\n",
       "      <td>-3.6</td>\n",
       "      <td>1021.8</td>\n",
       "      <td>-19.1</td>\n",
       "      <td>0.0</td>\n",
       "      <td>NNE</td>\n",
       "      <td>1.0</td>\n",
       "      <td>Dingling</td>\n",
       "    </tr>\n",
       "    <tr>\n",
       "      <th>70132</th>\n",
       "      <td>5</td>\n",
       "      <td>2013</td>\n",
       "      <td>3</td>\n",
       "      <td>1</td>\n",
       "      <td>4</td>\n",
       "      <td>5.0</td>\n",
       "      <td>5.0</td>\n",
       "      <td>3.0</td>\n",
       "      <td>3.333333</td>\n",
       "      <td>200.0</td>\n",
       "      <td>81.0</td>\n",
       "      <td>-3.5</td>\n",
       "      <td>1022.3</td>\n",
       "      <td>-19.4</td>\n",
       "      <td>0.0</td>\n",
       "      <td>N</td>\n",
       "      <td>2.1</td>\n",
       "      <td>Dingling</td>\n",
       "    </tr>\n",
       "    <tr>\n",
       "      <th>70133</th>\n",
       "      <td>6</td>\n",
       "      <td>2013</td>\n",
       "      <td>3</td>\n",
       "      <td>1</td>\n",
       "      <td>5</td>\n",
       "      <td>6.0</td>\n",
       "      <td>6.0</td>\n",
       "      <td>3.0</td>\n",
       "      <td>4.000000</td>\n",
       "      <td>200.0</td>\n",
       "      <td>79.0</td>\n",
       "      <td>-4.5</td>\n",
       "      <td>1022.6</td>\n",
       "      <td>-19.5</td>\n",
       "      <td>0.0</td>\n",
       "      <td>NNW</td>\n",
       "      <td>1.7</td>\n",
       "      <td>Dingling</td>\n",
       "    </tr>\n",
       "    <tr>\n",
       "      <th>70134</th>\n",
       "      <td>7</td>\n",
       "      <td>2013</td>\n",
       "      <td>3</td>\n",
       "      <td>1</td>\n",
       "      <td>6</td>\n",
       "      <td>5.0</td>\n",
       "      <td>10.0</td>\n",
       "      <td>3.0</td>\n",
       "      <td>4.000000</td>\n",
       "      <td>200.0</td>\n",
       "      <td>77.0</td>\n",
       "      <td>-4.5</td>\n",
       "      <td>1023.4</td>\n",
       "      <td>-19.5</td>\n",
       "      <td>0.0</td>\n",
       "      <td>NNW</td>\n",
       "      <td>1.8</td>\n",
       "      <td>Dingling</td>\n",
       "    </tr>\n",
       "    <tr>\n",
       "      <th>70135</th>\n",
       "      <td>8</td>\n",
       "      <td>2013</td>\n",
       "      <td>3</td>\n",
       "      <td>1</td>\n",
       "      <td>7</td>\n",
       "      <td>5.0</td>\n",
       "      <td>6.0</td>\n",
       "      <td>3.0</td>\n",
       "      <td>2.000000</td>\n",
       "      <td>200.0</td>\n",
       "      <td>80.0</td>\n",
       "      <td>-2.1</td>\n",
       "      <td>1024.6</td>\n",
       "      <td>-20.0</td>\n",
       "      <td>0.0</td>\n",
       "      <td>NW</td>\n",
       "      <td>2.5</td>\n",
       "      <td>Dingling</td>\n",
       "    </tr>\n",
       "    <tr>\n",
       "      <th>70136</th>\n",
       "      <td>9</td>\n",
       "      <td>2013</td>\n",
       "      <td>3</td>\n",
       "      <td>1</td>\n",
       "      <td>8</td>\n",
       "      <td>8.0</td>\n",
       "      <td>7.0</td>\n",
       "      <td>3.0</td>\n",
       "      <td>3.000000</td>\n",
       "      <td>200.0</td>\n",
       "      <td>79.0</td>\n",
       "      <td>-0.2</td>\n",
       "      <td>1025.2</td>\n",
       "      <td>-20.5</td>\n",
       "      <td>0.0</td>\n",
       "      <td>NNW</td>\n",
       "      <td>2.8</td>\n",
       "      <td>Dingling</td>\n",
       "    </tr>\n",
       "    <tr>\n",
       "      <th>70137</th>\n",
       "      <td>10</td>\n",
       "      <td>2013</td>\n",
       "      <td>3</td>\n",
       "      <td>1</td>\n",
       "      <td>9</td>\n",
       "      <td>8.0</td>\n",
       "      <td>8.0</td>\n",
       "      <td>3.0</td>\n",
       "      <td>2.000000</td>\n",
       "      <td>200.0</td>\n",
       "      <td>81.0</td>\n",
       "      <td>0.6</td>\n",
       "      <td>1025.3</td>\n",
       "      <td>-20.4</td>\n",
       "      <td>0.0</td>\n",
       "      <td>NNW</td>\n",
       "      <td>3.8</td>\n",
       "      <td>Dingling</td>\n",
       "    </tr>\n",
       "    <tr>\n",
       "      <th>70138</th>\n",
       "      <td>11</td>\n",
       "      <td>2013</td>\n",
       "      <td>3</td>\n",
       "      <td>1</td>\n",
       "      <td>10</td>\n",
       "      <td>8.0</td>\n",
       "      <td>5.0</td>\n",
       "      <td>3.0</td>\n",
       "      <td>2.000000</td>\n",
       "      <td>200.0</td>\n",
       "      <td>83.0</td>\n",
       "      <td>2.0</td>\n",
       "      <td>1025.1</td>\n",
       "      <td>-21.3</td>\n",
       "      <td>0.0</td>\n",
       "      <td>N</td>\n",
       "      <td>2.2</td>\n",
       "      <td>Dingling</td>\n",
       "    </tr>\n",
       "    <tr>\n",
       "      <th>70139</th>\n",
       "      <td>12</td>\n",
       "      <td>2013</td>\n",
       "      <td>3</td>\n",
       "      <td>1</td>\n",
       "      <td>11</td>\n",
       "      <td>3.0</td>\n",
       "      <td>2.0</td>\n",
       "      <td>3.0</td>\n",
       "      <td>2.000000</td>\n",
       "      <td>200.0</td>\n",
       "      <td>83.0</td>\n",
       "      <td>3.6</td>\n",
       "      <td>1024.8</td>\n",
       "      <td>-20.7</td>\n",
       "      <td>0.0</td>\n",
       "      <td>NNE</td>\n",
       "      <td>2.7</td>\n",
       "      <td>Dingling</td>\n",
       "    </tr>\n",
       "  </tbody>\n",
       "</table>\n",
       "</div>"
      ],
      "text/plain": [
       "       No  year  month  day  hour  PM2.5  PM10  SO2       NO2     CO    O3  \\\n",
       "70130   3  2013      3    1     2    5.0   5.0  3.0  2.000000  200.0  79.0   \n",
       "70131   4  2013      3    1     3    6.0   6.0  3.0  2.666667  200.0  79.0   \n",
       "70132   5  2013      3    1     4    5.0   5.0  3.0  3.333333  200.0  81.0   \n",
       "70133   6  2013      3    1     5    6.0   6.0  3.0  4.000000  200.0  79.0   \n",
       "70134   7  2013      3    1     6    5.0  10.0  3.0  4.000000  200.0  77.0   \n",
       "70135   8  2013      3    1     7    5.0   6.0  3.0  2.000000  200.0  80.0   \n",
       "70136   9  2013      3    1     8    8.0   7.0  3.0  3.000000  200.0  79.0   \n",
       "70137  10  2013      3    1     9    8.0   8.0  3.0  2.000000  200.0  81.0   \n",
       "70138  11  2013      3    1    10    8.0   5.0  3.0  2.000000  200.0  83.0   \n",
       "70139  12  2013      3    1    11    3.0   2.0  3.0  2.000000  200.0  83.0   \n",
       "\n",
       "       TEMP    PRES  DEWP  RAIN   wd  WSPM   station  \n",
       "70130  -3.0  1021.3 -19.9   0.0  ENE   0.2  Dingling  \n",
       "70131  -3.6  1021.8 -19.1   0.0  NNE   1.0  Dingling  \n",
       "70132  -3.5  1022.3 -19.4   0.0    N   2.1  Dingling  \n",
       "70133  -4.5  1022.6 -19.5   0.0  NNW   1.7  Dingling  \n",
       "70134  -4.5  1023.4 -19.5   0.0  NNW   1.8  Dingling  \n",
       "70135  -2.1  1024.6 -20.0   0.0   NW   2.5  Dingling  \n",
       "70136  -0.2  1025.2 -20.5   0.0  NNW   2.8  Dingling  \n",
       "70137   0.6  1025.3 -20.4   0.0  NNW   3.8  Dingling  \n",
       "70138   2.0  1025.1 -21.3   0.0    N   2.2  Dingling  \n",
       "70139   3.6  1024.8 -20.7   0.0  NNE   2.7  Dingling  "
      ]
     },
     "metadata": {},
     "output_type": "display_data"
    },
    {
     "name": "stdout",
     "output_type": "stream",
     "text": [
      "Nilai rata-rata NO2 pada 10 baris berikutnya adalah: 2.7\n"
     ]
    }
   ],
   "source": [
    "# kembali diasumsikan nilai beberapa jam sebelum atau sesudah tidak akan berbeda jauh kecuali ada kondisi tertentu\n",
    "# maka, direncakan melakukan pengecekan pada 5 baris sebelum dan sesudah untuk diambil rata-ratanya\n",
    "# namun, terlihat bahwa baris dengan no indeks 70128 dan 70129 merupakan baris pertama dan kedua\n",
    "# maka akan diambil nilai rata-rata dari 10 baris setelahnya\n",
    "display(df_new.iloc[70130:70130+10])\n",
    "print('Nilai rata-rata NO2 pada 10 baris berikutnya adalah:', df_new.iloc[70130:70130+10]['NO2'].mean())"
   ]
  },
  {
   "cell_type": "code",
   "execution_count": 17,
   "metadata": {},
   "outputs": [
    {
     "data": {
      "text/html": [
       "<div>\n",
       "<style scoped>\n",
       "    .dataframe tbody tr th:only-of-type {\n",
       "        vertical-align: middle;\n",
       "    }\n",
       "\n",
       "    .dataframe tbody tr th {\n",
       "        vertical-align: top;\n",
       "    }\n",
       "\n",
       "    .dataframe thead th {\n",
       "        text-align: right;\n",
       "    }\n",
       "</style>\n",
       "<table border=\"1\" class=\"dataframe\">\n",
       "  <thead>\n",
       "    <tr style=\"text-align: right;\">\n",
       "      <th></th>\n",
       "      <th>No</th>\n",
       "      <th>year</th>\n",
       "      <th>month</th>\n",
       "      <th>day</th>\n",
       "      <th>hour</th>\n",
       "      <th>PM2.5</th>\n",
       "      <th>PM10</th>\n",
       "      <th>SO2</th>\n",
       "      <th>NO2</th>\n",
       "      <th>CO</th>\n",
       "      <th>O3</th>\n",
       "      <th>TEMP</th>\n",
       "      <th>PRES</th>\n",
       "      <th>DEWP</th>\n",
       "      <th>RAIN</th>\n",
       "      <th>wd</th>\n",
       "      <th>WSPM</th>\n",
       "      <th>station</th>\n",
       "    </tr>\n",
       "  </thead>\n",
       "  <tbody>\n",
       "    <tr>\n",
       "      <th>70128</th>\n",
       "      <td>1</td>\n",
       "      <td>2013</td>\n",
       "      <td>3</td>\n",
       "      <td>1</td>\n",
       "      <td>0</td>\n",
       "      <td>4.0</td>\n",
       "      <td>4.0</td>\n",
       "      <td>3.0</td>\n",
       "      <td>2.7</td>\n",
       "      <td>200.0</td>\n",
       "      <td>82.0</td>\n",
       "      <td>-2.3</td>\n",
       "      <td>1020.8</td>\n",
       "      <td>-19.7</td>\n",
       "      <td>0.0</td>\n",
       "      <td>E</td>\n",
       "      <td>0.5</td>\n",
       "      <td>Dingling</td>\n",
       "    </tr>\n",
       "    <tr>\n",
       "      <th>70129</th>\n",
       "      <td>2</td>\n",
       "      <td>2013</td>\n",
       "      <td>3</td>\n",
       "      <td>1</td>\n",
       "      <td>1</td>\n",
       "      <td>7.0</td>\n",
       "      <td>7.0</td>\n",
       "      <td>3.0</td>\n",
       "      <td>2.7</td>\n",
       "      <td>200.0</td>\n",
       "      <td>80.0</td>\n",
       "      <td>-2.5</td>\n",
       "      <td>1021.3</td>\n",
       "      <td>-19.0</td>\n",
       "      <td>0.0</td>\n",
       "      <td>ENE</td>\n",
       "      <td>0.7</td>\n",
       "      <td>Dingling</td>\n",
       "    </tr>\n",
       "  </tbody>\n",
       "</table>\n",
       "</div>"
      ],
      "text/plain": [
       "       No  year  month  day  hour  PM2.5  PM10  SO2  NO2     CO    O3  TEMP  \\\n",
       "70128   1  2013      3    1     0    4.0   4.0  3.0  2.7  200.0  82.0  -2.3   \n",
       "70129   2  2013      3    1     1    7.0   7.0  3.0  2.7  200.0  80.0  -2.5   \n",
       "\n",
       "         PRES  DEWP  RAIN   wd  WSPM   station  \n",
       "70128  1020.8 -19.7   0.0    E   0.5  Dingling  \n",
       "70129  1021.3 -19.0   0.0  ENE   0.7  Dingling  "
      ]
     },
     "execution_count": 17,
     "metadata": {},
     "output_type": "execute_result"
    }
   ],
   "source": [
    "# mengisi nilai NO2 pada baris dengan no indeks 70128 dan 70129\n",
    "df_new.loc[[70128,70129], 'NO2'] = 2.7\n",
    "df_new.loc[70128:70129]"
   ]
  },
  {
   "cell_type": "code",
   "execution_count": 18,
   "metadata": {},
   "outputs": [
    {
     "data": {
      "text/html": [
       "<div>\n",
       "<style scoped>\n",
       "    .dataframe tbody tr th:only-of-type {\n",
       "        vertical-align: middle;\n",
       "    }\n",
       "\n",
       "    .dataframe tbody tr th {\n",
       "        vertical-align: top;\n",
       "    }\n",
       "\n",
       "    .dataframe thead th {\n",
       "        text-align: right;\n",
       "    }\n",
       "</style>\n",
       "<table border=\"1\" class=\"dataframe\">\n",
       "  <thead>\n",
       "    <tr style=\"text-align: right;\">\n",
       "      <th></th>\n",
       "      <th>No</th>\n",
       "      <th>year</th>\n",
       "      <th>month</th>\n",
       "      <th>day</th>\n",
       "      <th>hour</th>\n",
       "      <th>PM2.5</th>\n",
       "      <th>PM10</th>\n",
       "      <th>SO2</th>\n",
       "      <th>NO2</th>\n",
       "      <th>CO</th>\n",
       "      <th>O3</th>\n",
       "      <th>TEMP</th>\n",
       "      <th>PRES</th>\n",
       "      <th>DEWP</th>\n",
       "      <th>RAIN</th>\n",
       "      <th>wd</th>\n",
       "      <th>WSPM</th>\n",
       "      <th>station</th>\n",
       "    </tr>\n",
       "  </thead>\n",
       "  <tbody>\n",
       "    <tr>\n",
       "      <th>175340</th>\n",
       "      <td>21</td>\n",
       "      <td>2013</td>\n",
       "      <td>3</td>\n",
       "      <td>1</td>\n",
       "      <td>20</td>\n",
       "      <td>13.0</td>\n",
       "      <td>25.0</td>\n",
       "      <td>12.0</td>\n",
       "      <td>5.0</td>\n",
       "      <td>1100.0</td>\n",
       "      <td>61.0</td>\n",
       "      <td>1.6</td>\n",
       "      <td>1027.1</td>\n",
       "      <td>-18.4</td>\n",
       "      <td>0.0</td>\n",
       "      <td>ESE</td>\n",
       "      <td>1.9</td>\n",
       "      <td>Gucheng</td>\n",
       "    </tr>\n",
       "    <tr>\n",
       "      <th>175341</th>\n",
       "      <td>22</td>\n",
       "      <td>2013</td>\n",
       "      <td>3</td>\n",
       "      <td>1</td>\n",
       "      <td>21</td>\n",
       "      <td>15.0</td>\n",
       "      <td>23.0</td>\n",
       "      <td>14.0</td>\n",
       "      <td>13.0</td>\n",
       "      <td>1200.0</td>\n",
       "      <td>52.0</td>\n",
       "      <td>1.0</td>\n",
       "      <td>1028.1</td>\n",
       "      <td>-17.4</td>\n",
       "      <td>0.0</td>\n",
       "      <td>SSE</td>\n",
       "      <td>0.7</td>\n",
       "      <td>Gucheng</td>\n",
       "    </tr>\n",
       "    <tr>\n",
       "      <th>175342</th>\n",
       "      <td>23</td>\n",
       "      <td>2013</td>\n",
       "      <td>3</td>\n",
       "      <td>1</td>\n",
       "      <td>22</td>\n",
       "      <td>16.0</td>\n",
       "      <td>28.0</td>\n",
       "      <td>16.0</td>\n",
       "      <td>19.0</td>\n",
       "      <td>1200.0</td>\n",
       "      <td>45.0</td>\n",
       "      <td>1.3</td>\n",
       "      <td>1028.4</td>\n",
       "      <td>-17.6</td>\n",
       "      <td>0.0</td>\n",
       "      <td>E</td>\n",
       "      <td>1.0</td>\n",
       "      <td>Gucheng</td>\n",
       "    </tr>\n",
       "    <tr>\n",
       "      <th>175343</th>\n",
       "      <td>24</td>\n",
       "      <td>2013</td>\n",
       "      <td>3</td>\n",
       "      <td>1</td>\n",
       "      <td>23</td>\n",
       "      <td>16.0</td>\n",
       "      <td>28.0</td>\n",
       "      <td>14.0</td>\n",
       "      <td>20.0</td>\n",
       "      <td>1100.0</td>\n",
       "      <td>44.0</td>\n",
       "      <td>0.2</td>\n",
       "      <td>1028.6</td>\n",
       "      <td>-17.6</td>\n",
       "      <td>0.0</td>\n",
       "      <td>ESE</td>\n",
       "      <td>1.1</td>\n",
       "      <td>Gucheng</td>\n",
       "    </tr>\n",
       "    <tr>\n",
       "      <th>175344</th>\n",
       "      <td>25</td>\n",
       "      <td>2013</td>\n",
       "      <td>3</td>\n",
       "      <td>2</td>\n",
       "      <td>0</td>\n",
       "      <td>14.0</td>\n",
       "      <td>18.0</td>\n",
       "      <td>24.0</td>\n",
       "      <td>43.0</td>\n",
       "      <td>1399.0</td>\n",
       "      <td>25.0</td>\n",
       "      <td>-0.3</td>\n",
       "      <td>1028.9</td>\n",
       "      <td>-18.0</td>\n",
       "      <td>0.0</td>\n",
       "      <td>ENE</td>\n",
       "      <td>1.4</td>\n",
       "      <td>Gucheng</td>\n",
       "    </tr>\n",
       "    <tr>\n",
       "      <th>175345</th>\n",
       "      <td>26</td>\n",
       "      <td>2013</td>\n",
       "      <td>3</td>\n",
       "      <td>2</td>\n",
       "      <td>1</td>\n",
       "      <td>18.0</td>\n",
       "      <td>39.0</td>\n",
       "      <td>25.0</td>\n",
       "      <td>28.0</td>\n",
       "      <td>1300.0</td>\n",
       "      <td>37.0</td>\n",
       "      <td>-0.7</td>\n",
       "      <td>1029.2</td>\n",
       "      <td>-17.9</td>\n",
       "      <td>0.0</td>\n",
       "      <td>E</td>\n",
       "      <td>1.0</td>\n",
       "      <td>Gucheng</td>\n",
       "    </tr>\n",
       "    <tr>\n",
       "      <th>175346</th>\n",
       "      <td>27</td>\n",
       "      <td>2013</td>\n",
       "      <td>3</td>\n",
       "      <td>2</td>\n",
       "      <td>2</td>\n",
       "      <td>19.0</td>\n",
       "      <td>29.0</td>\n",
       "      <td>30.0</td>\n",
       "      <td>13.0</td>\n",
       "      <td>1100.0</td>\n",
       "      <td>47.0</td>\n",
       "      <td>-0.8</td>\n",
       "      <td>1028.8</td>\n",
       "      <td>-18.0</td>\n",
       "      <td>0.0</td>\n",
       "      <td>ENE</td>\n",
       "      <td>1.4</td>\n",
       "      <td>Gucheng</td>\n",
       "    </tr>\n",
       "    <tr>\n",
       "      <th>175347</th>\n",
       "      <td>28</td>\n",
       "      <td>2013</td>\n",
       "      <td>3</td>\n",
       "      <td>2</td>\n",
       "      <td>3</td>\n",
       "      <td>15.0</td>\n",
       "      <td>24.0</td>\n",
       "      <td>20.0</td>\n",
       "      <td>12.0</td>\n",
       "      <td>1000.0</td>\n",
       "      <td>46.0</td>\n",
       "      <td>-1.2</td>\n",
       "      <td>1028.6</td>\n",
       "      <td>-17.9</td>\n",
       "      <td>0.0</td>\n",
       "      <td>ENE</td>\n",
       "      <td>1.1</td>\n",
       "      <td>Gucheng</td>\n",
       "    </tr>\n",
       "    <tr>\n",
       "      <th>175348</th>\n",
       "      <td>29</td>\n",
       "      <td>2013</td>\n",
       "      <td>3</td>\n",
       "      <td>2</td>\n",
       "      <td>4</td>\n",
       "      <td>13.0</td>\n",
       "      <td>16.0</td>\n",
       "      <td>21.0</td>\n",
       "      <td>24.0</td>\n",
       "      <td>1200.0</td>\n",
       "      <td>37.0</td>\n",
       "      <td>-1.3</td>\n",
       "      <td>1028.7</td>\n",
       "      <td>-18.9</td>\n",
       "      <td>0.0</td>\n",
       "      <td>NE</td>\n",
       "      <td>1.1</td>\n",
       "      <td>Gucheng</td>\n",
       "    </tr>\n",
       "    <tr>\n",
       "      <th>175349</th>\n",
       "      <td>30</td>\n",
       "      <td>2013</td>\n",
       "      <td>3</td>\n",
       "      <td>2</td>\n",
       "      <td>5</td>\n",
       "      <td>12.0</td>\n",
       "      <td>23.0</td>\n",
       "      <td>26.0</td>\n",
       "      <td>11.0</td>\n",
       "      <td>1200.0</td>\n",
       "      <td>50.0</td>\n",
       "      <td>-1.3</td>\n",
       "      <td>1028.0</td>\n",
       "      <td>-18.4</td>\n",
       "      <td>0.0</td>\n",
       "      <td>ENE</td>\n",
       "      <td>1.4</td>\n",
       "      <td>Gucheng</td>\n",
       "    </tr>\n",
       "  </tbody>\n",
       "</table>\n",
       "</div>"
      ],
      "text/plain": [
       "        No  year  month  day  hour  PM2.5  PM10   SO2   NO2      CO    O3  \\\n",
       "175340  21  2013      3    1    20   13.0  25.0  12.0   5.0  1100.0  61.0   \n",
       "175341  22  2013      3    1    21   15.0  23.0  14.0  13.0  1200.0  52.0   \n",
       "175342  23  2013      3    1    22   16.0  28.0  16.0  19.0  1200.0  45.0   \n",
       "175343  24  2013      3    1    23   16.0  28.0  14.0  20.0  1100.0  44.0   \n",
       "175344  25  2013      3    2     0   14.0  18.0  24.0  43.0  1399.0  25.0   \n",
       "175345  26  2013      3    2     1   18.0  39.0  25.0  28.0  1300.0  37.0   \n",
       "175346  27  2013      3    2     2   19.0  29.0  30.0  13.0  1100.0  47.0   \n",
       "175347  28  2013      3    2     3   15.0  24.0  20.0  12.0  1000.0  46.0   \n",
       "175348  29  2013      3    2     4   13.0  16.0  21.0  24.0  1200.0  37.0   \n",
       "175349  30  2013      3    2     5   12.0  23.0  26.0  11.0  1200.0  50.0   \n",
       "\n",
       "        TEMP    PRES  DEWP  RAIN   wd  WSPM  station  \n",
       "175340   1.6  1027.1 -18.4   0.0  ESE   1.9  Gucheng  \n",
       "175341   1.0  1028.1 -17.4   0.0  SSE   0.7  Gucheng  \n",
       "175342   1.3  1028.4 -17.6   0.0    E   1.0  Gucheng  \n",
       "175343   0.2  1028.6 -17.6   0.0  ESE   1.1  Gucheng  \n",
       "175344  -0.3  1028.9 -18.0   0.0  ENE   1.4  Gucheng  \n",
       "175345  -0.7  1029.2 -17.9   0.0    E   1.0  Gucheng  \n",
       "175346  -0.8  1028.8 -18.0   0.0  ENE   1.4  Gucheng  \n",
       "175347  -1.2  1028.6 -17.9   0.0  ENE   1.1  Gucheng  \n",
       "175348  -1.3  1028.7 -18.9   0.0   NE   1.1  Gucheng  \n",
       "175349  -1.3  1028.0 -18.4   0.0  ENE   1.4  Gucheng  "
      ]
     },
     "metadata": {},
     "output_type": "display_data"
    },
    {
     "name": "stdout",
     "output_type": "stream",
     "text": [
      "Nilai rata-rata NO2 pada 10 baris berikutnya adalah: 18.8\n"
     ]
    }
   ],
   "source": [
    "# akan dilakukan cara yang sama pada baris dengan no indeks 175320 hingga 175339\n",
    "# akan diambil nilai rata-rata dari 10 baris setelahnya\n",
    "display(df_new.iloc[175340:175340+10])\n",
    "print('Nilai rata-rata NO2 pada 10 baris berikutnya adalah:', df_new.iloc[175340:175340+10]['NO2'].mean())"
   ]
  },
  {
   "cell_type": "code",
   "execution_count": 19,
   "metadata": {},
   "outputs": [
    {
     "data": {
      "text/html": [
       "<div>\n",
       "<style scoped>\n",
       "    .dataframe tbody tr th:only-of-type {\n",
       "        vertical-align: middle;\n",
       "    }\n",
       "\n",
       "    .dataframe tbody tr th {\n",
       "        vertical-align: top;\n",
       "    }\n",
       "\n",
       "    .dataframe thead th {\n",
       "        text-align: right;\n",
       "    }\n",
       "</style>\n",
       "<table border=\"1\" class=\"dataframe\">\n",
       "  <thead>\n",
       "    <tr style=\"text-align: right;\">\n",
       "      <th></th>\n",
       "      <th>No</th>\n",
       "      <th>year</th>\n",
       "      <th>month</th>\n",
       "      <th>day</th>\n",
       "      <th>hour</th>\n",
       "      <th>PM2.5</th>\n",
       "      <th>PM10</th>\n",
       "      <th>SO2</th>\n",
       "      <th>NO2</th>\n",
       "      <th>CO</th>\n",
       "      <th>O3</th>\n",
       "      <th>TEMP</th>\n",
       "      <th>PRES</th>\n",
       "      <th>DEWP</th>\n",
       "      <th>RAIN</th>\n",
       "      <th>wd</th>\n",
       "      <th>WSPM</th>\n",
       "      <th>station</th>\n",
       "    </tr>\n",
       "  </thead>\n",
       "  <tbody>\n",
       "    <tr>\n",
       "      <th>175320</th>\n",
       "      <td>1</td>\n",
       "      <td>2013</td>\n",
       "      <td>3</td>\n",
       "      <td>1</td>\n",
       "      <td>0</td>\n",
       "      <td>6.0</td>\n",
       "      <td>18.0</td>\n",
       "      <td>5.0</td>\n",
       "      <td>18.8</td>\n",
       "      <td>800.0</td>\n",
       "      <td>88.0</td>\n",
       "      <td>0.1</td>\n",
       "      <td>1021.1</td>\n",
       "      <td>-18.6</td>\n",
       "      <td>0.0</td>\n",
       "      <td>NW</td>\n",
       "      <td>4.4</td>\n",
       "      <td>Gucheng</td>\n",
       "    </tr>\n",
       "    <tr>\n",
       "      <th>175321</th>\n",
       "      <td>2</td>\n",
       "      <td>2013</td>\n",
       "      <td>3</td>\n",
       "      <td>1</td>\n",
       "      <td>1</td>\n",
       "      <td>6.0</td>\n",
       "      <td>15.0</td>\n",
       "      <td>5.0</td>\n",
       "      <td>18.8</td>\n",
       "      <td>800.0</td>\n",
       "      <td>88.0</td>\n",
       "      <td>-0.3</td>\n",
       "      <td>1021.5</td>\n",
       "      <td>-19.0</td>\n",
       "      <td>0.0</td>\n",
       "      <td>NW</td>\n",
       "      <td>4.0</td>\n",
       "      <td>Gucheng</td>\n",
       "    </tr>\n",
       "    <tr>\n",
       "      <th>175322</th>\n",
       "      <td>3</td>\n",
       "      <td>2013</td>\n",
       "      <td>3</td>\n",
       "      <td>1</td>\n",
       "      <td>2</td>\n",
       "      <td>5.0</td>\n",
       "      <td>18.0</td>\n",
       "      <td>5.5</td>\n",
       "      <td>18.8</td>\n",
       "      <td>700.0</td>\n",
       "      <td>52.0</td>\n",
       "      <td>-0.7</td>\n",
       "      <td>1021.5</td>\n",
       "      <td>-19.8</td>\n",
       "      <td>0.0</td>\n",
       "      <td>WNW</td>\n",
       "      <td>4.6</td>\n",
       "      <td>Gucheng</td>\n",
       "    </tr>\n",
       "    <tr>\n",
       "      <th>175323</th>\n",
       "      <td>4</td>\n",
       "      <td>2013</td>\n",
       "      <td>3</td>\n",
       "      <td>1</td>\n",
       "      <td>3</td>\n",
       "      <td>6.0</td>\n",
       "      <td>20.0</td>\n",
       "      <td>6.0</td>\n",
       "      <td>18.8</td>\n",
       "      <td>650.0</td>\n",
       "      <td>62.5</td>\n",
       "      <td>-1.0</td>\n",
       "      <td>1022.7</td>\n",
       "      <td>-21.2</td>\n",
       "      <td>0.0</td>\n",
       "      <td>W</td>\n",
       "      <td>2.8</td>\n",
       "      <td>Gucheng</td>\n",
       "    </tr>\n",
       "    <tr>\n",
       "      <th>175324</th>\n",
       "      <td>5</td>\n",
       "      <td>2013</td>\n",
       "      <td>3</td>\n",
       "      <td>1</td>\n",
       "      <td>4</td>\n",
       "      <td>5.0</td>\n",
       "      <td>17.0</td>\n",
       "      <td>5.0</td>\n",
       "      <td>18.8</td>\n",
       "      <td>600.0</td>\n",
       "      <td>73.0</td>\n",
       "      <td>-1.3</td>\n",
       "      <td>1023.0</td>\n",
       "      <td>-21.4</td>\n",
       "      <td>0.0</td>\n",
       "      <td>WNW</td>\n",
       "      <td>3.6</td>\n",
       "      <td>Gucheng</td>\n",
       "    </tr>\n",
       "    <tr>\n",
       "      <th>175325</th>\n",
       "      <td>6</td>\n",
       "      <td>2013</td>\n",
       "      <td>3</td>\n",
       "      <td>1</td>\n",
       "      <td>5</td>\n",
       "      <td>4.0</td>\n",
       "      <td>11.0</td>\n",
       "      <td>3.0</td>\n",
       "      <td>18.8</td>\n",
       "      <td>700.0</td>\n",
       "      <td>87.0</td>\n",
       "      <td>-1.8</td>\n",
       "      <td>1023.6</td>\n",
       "      <td>-21.9</td>\n",
       "      <td>0.0</td>\n",
       "      <td>E</td>\n",
       "      <td>1.2</td>\n",
       "      <td>Gucheng</td>\n",
       "    </tr>\n",
       "    <tr>\n",
       "      <th>175326</th>\n",
       "      <td>7</td>\n",
       "      <td>2013</td>\n",
       "      <td>3</td>\n",
       "      <td>1</td>\n",
       "      <td>6</td>\n",
       "      <td>3.0</td>\n",
       "      <td>6.0</td>\n",
       "      <td>3.0</td>\n",
       "      <td>18.8</td>\n",
       "      <td>700.0</td>\n",
       "      <td>92.0</td>\n",
       "      <td>-2.6</td>\n",
       "      <td>1024.3</td>\n",
       "      <td>-20.4</td>\n",
       "      <td>0.0</td>\n",
       "      <td>ENE</td>\n",
       "      <td>1.2</td>\n",
       "      <td>Gucheng</td>\n",
       "    </tr>\n",
       "    <tr>\n",
       "      <th>175327</th>\n",
       "      <td>8</td>\n",
       "      <td>2013</td>\n",
       "      <td>3</td>\n",
       "      <td>1</td>\n",
       "      <td>7</td>\n",
       "      <td>5.0</td>\n",
       "      <td>5.0</td>\n",
       "      <td>3.0</td>\n",
       "      <td>18.8</td>\n",
       "      <td>800.0</td>\n",
       "      <td>86.0</td>\n",
       "      <td>-0.9</td>\n",
       "      <td>1025.6</td>\n",
       "      <td>-20.5</td>\n",
       "      <td>0.0</td>\n",
       "      <td>ENE</td>\n",
       "      <td>1.1</td>\n",
       "      <td>Gucheng</td>\n",
       "    </tr>\n",
       "    <tr>\n",
       "      <th>175328</th>\n",
       "      <td>9</td>\n",
       "      <td>2013</td>\n",
       "      <td>3</td>\n",
       "      <td>1</td>\n",
       "      <td>8</td>\n",
       "      <td>5.0</td>\n",
       "      <td>9.0</td>\n",
       "      <td>5.0</td>\n",
       "      <td>18.8</td>\n",
       "      <td>900.0</td>\n",
       "      <td>81.0</td>\n",
       "      <td>0.1</td>\n",
       "      <td>1026.1</td>\n",
       "      <td>-20.3</td>\n",
       "      <td>0.0</td>\n",
       "      <td>ENE</td>\n",
       "      <td>3.0</td>\n",
       "      <td>Gucheng</td>\n",
       "    </tr>\n",
       "    <tr>\n",
       "      <th>175329</th>\n",
       "      <td>10</td>\n",
       "      <td>2013</td>\n",
       "      <td>3</td>\n",
       "      <td>1</td>\n",
       "      <td>9</td>\n",
       "      <td>4.0</td>\n",
       "      <td>10.0</td>\n",
       "      <td>6.0</td>\n",
       "      <td>18.8</td>\n",
       "      <td>900.0</td>\n",
       "      <td>82.0</td>\n",
       "      <td>1.1</td>\n",
       "      <td>1026.1</td>\n",
       "      <td>-20.6</td>\n",
       "      <td>0.0</td>\n",
       "      <td>NE</td>\n",
       "      <td>2.8</td>\n",
       "      <td>Gucheng</td>\n",
       "    </tr>\n",
       "    <tr>\n",
       "      <th>175330</th>\n",
       "      <td>11</td>\n",
       "      <td>2013</td>\n",
       "      <td>3</td>\n",
       "      <td>1</td>\n",
       "      <td>10</td>\n",
       "      <td>7.0</td>\n",
       "      <td>8.0</td>\n",
       "      <td>8.0</td>\n",
       "      <td>18.8</td>\n",
       "      <td>900.0</td>\n",
       "      <td>82.0</td>\n",
       "      <td>1.9</td>\n",
       "      <td>1026.1</td>\n",
       "      <td>-21.3</td>\n",
       "      <td>0.0</td>\n",
       "      <td>ENE</td>\n",
       "      <td>3.0</td>\n",
       "      <td>Gucheng</td>\n",
       "    </tr>\n",
       "    <tr>\n",
       "      <th>175331</th>\n",
       "      <td>12</td>\n",
       "      <td>2013</td>\n",
       "      <td>3</td>\n",
       "      <td>1</td>\n",
       "      <td>11</td>\n",
       "      <td>3.0</td>\n",
       "      <td>6.0</td>\n",
       "      <td>8.0</td>\n",
       "      <td>18.8</td>\n",
       "      <td>800.0</td>\n",
       "      <td>85.0</td>\n",
       "      <td>3.3</td>\n",
       "      <td>1026.1</td>\n",
       "      <td>-20.9</td>\n",
       "      <td>0.0</td>\n",
       "      <td>ENE</td>\n",
       "      <td>3.2</td>\n",
       "      <td>Gucheng</td>\n",
       "    </tr>\n",
       "    <tr>\n",
       "      <th>175332</th>\n",
       "      <td>13</td>\n",
       "      <td>2013</td>\n",
       "      <td>3</td>\n",
       "      <td>1</td>\n",
       "      <td>12</td>\n",
       "      <td>9.0</td>\n",
       "      <td>10.0</td>\n",
       "      <td>8.0</td>\n",
       "      <td>18.8</td>\n",
       "      <td>800.0</td>\n",
       "      <td>86.0</td>\n",
       "      <td>4.1</td>\n",
       "      <td>1025.1</td>\n",
       "      <td>-20.3</td>\n",
       "      <td>0.0</td>\n",
       "      <td>ENE</td>\n",
       "      <td>3.2</td>\n",
       "      <td>Gucheng</td>\n",
       "    </tr>\n",
       "    <tr>\n",
       "      <th>175333</th>\n",
       "      <td>14</td>\n",
       "      <td>2013</td>\n",
       "      <td>3</td>\n",
       "      <td>1</td>\n",
       "      <td>13</td>\n",
       "      <td>10.0</td>\n",
       "      <td>19.0</td>\n",
       "      <td>9.0</td>\n",
       "      <td>18.8</td>\n",
       "      <td>900.0</td>\n",
       "      <td>86.0</td>\n",
       "      <td>5.3</td>\n",
       "      <td>1024.1</td>\n",
       "      <td>-20.1</td>\n",
       "      <td>0.0</td>\n",
       "      <td>NE</td>\n",
       "      <td>2.7</td>\n",
       "      <td>Gucheng</td>\n",
       "    </tr>\n",
       "    <tr>\n",
       "      <th>175334</th>\n",
       "      <td>15</td>\n",
       "      <td>2013</td>\n",
       "      <td>3</td>\n",
       "      <td>1</td>\n",
       "      <td>14</td>\n",
       "      <td>13.0</td>\n",
       "      <td>20.0</td>\n",
       "      <td>8.0</td>\n",
       "      <td>18.8</td>\n",
       "      <td>800.0</td>\n",
       "      <td>88.0</td>\n",
       "      <td>5.5</td>\n",
       "      <td>1023.8</td>\n",
       "      <td>-20.0</td>\n",
       "      <td>0.0</td>\n",
       "      <td>NE</td>\n",
       "      <td>2.1</td>\n",
       "      <td>Gucheng</td>\n",
       "    </tr>\n",
       "    <tr>\n",
       "      <th>175335</th>\n",
       "      <td>16</td>\n",
       "      <td>2013</td>\n",
       "      <td>3</td>\n",
       "      <td>1</td>\n",
       "      <td>15</td>\n",
       "      <td>13.0</td>\n",
       "      <td>16.0</td>\n",
       "      <td>8.0</td>\n",
       "      <td>18.8</td>\n",
       "      <td>800.0</td>\n",
       "      <td>90.0</td>\n",
       "      <td>6.3</td>\n",
       "      <td>1023.5</td>\n",
       "      <td>-19.3</td>\n",
       "      <td>0.0</td>\n",
       "      <td>ENE</td>\n",
       "      <td>2.7</td>\n",
       "      <td>Gucheng</td>\n",
       "    </tr>\n",
       "    <tr>\n",
       "      <th>175336</th>\n",
       "      <td>17</td>\n",
       "      <td>2013</td>\n",
       "      <td>3</td>\n",
       "      <td>1</td>\n",
       "      <td>16</td>\n",
       "      <td>11.0</td>\n",
       "      <td>22.0</td>\n",
       "      <td>6.0</td>\n",
       "      <td>18.8</td>\n",
       "      <td>800.0</td>\n",
       "      <td>90.0</td>\n",
       "      <td>5.9</td>\n",
       "      <td>1023.6</td>\n",
       "      <td>-18.8</td>\n",
       "      <td>0.0</td>\n",
       "      <td>ENE</td>\n",
       "      <td>1.8</td>\n",
       "      <td>Gucheng</td>\n",
       "    </tr>\n",
       "    <tr>\n",
       "      <th>175337</th>\n",
       "      <td>18</td>\n",
       "      <td>2013</td>\n",
       "      <td>3</td>\n",
       "      <td>1</td>\n",
       "      <td>17</td>\n",
       "      <td>10.0</td>\n",
       "      <td>20.0</td>\n",
       "      <td>4.0</td>\n",
       "      <td>18.8</td>\n",
       "      <td>800.0</td>\n",
       "      <td>87.0</td>\n",
       "      <td>5.1</td>\n",
       "      <td>1024.2</td>\n",
       "      <td>-18.7</td>\n",
       "      <td>0.0</td>\n",
       "      <td>WNW</td>\n",
       "      <td>1.0</td>\n",
       "      <td>Gucheng</td>\n",
       "    </tr>\n",
       "    <tr>\n",
       "      <th>175338</th>\n",
       "      <td>19</td>\n",
       "      <td>2013</td>\n",
       "      <td>3</td>\n",
       "      <td>1</td>\n",
       "      <td>18</td>\n",
       "      <td>11.0</td>\n",
       "      <td>20.0</td>\n",
       "      <td>6.0</td>\n",
       "      <td>18.8</td>\n",
       "      <td>900.0</td>\n",
       "      <td>80.0</td>\n",
       "      <td>3.7</td>\n",
       "      <td>1025.3</td>\n",
       "      <td>-19.2</td>\n",
       "      <td>0.0</td>\n",
       "      <td>E</td>\n",
       "      <td>1.6</td>\n",
       "      <td>Gucheng</td>\n",
       "    </tr>\n",
       "    <tr>\n",
       "      <th>175339</th>\n",
       "      <td>20</td>\n",
       "      <td>2013</td>\n",
       "      <td>3</td>\n",
       "      <td>1</td>\n",
       "      <td>19</td>\n",
       "      <td>11.0</td>\n",
       "      <td>31.0</td>\n",
       "      <td>8.0</td>\n",
       "      <td>18.8</td>\n",
       "      <td>1000.0</td>\n",
       "      <td>69.0</td>\n",
       "      <td>2.7</td>\n",
       "      <td>1026.1</td>\n",
       "      <td>-19.3</td>\n",
       "      <td>0.0</td>\n",
       "      <td>E</td>\n",
       "      <td>1.7</td>\n",
       "      <td>Gucheng</td>\n",
       "    </tr>\n",
       "  </tbody>\n",
       "</table>\n",
       "</div>"
      ],
      "text/plain": [
       "        No  year  month  day  hour  PM2.5  PM10  SO2   NO2      CO    O3  \\\n",
       "175320   1  2013      3    1     0    6.0  18.0  5.0  18.8   800.0  88.0   \n",
       "175321   2  2013      3    1     1    6.0  15.0  5.0  18.8   800.0  88.0   \n",
       "175322   3  2013      3    1     2    5.0  18.0  5.5  18.8   700.0  52.0   \n",
       "175323   4  2013      3    1     3    6.0  20.0  6.0  18.8   650.0  62.5   \n",
       "175324   5  2013      3    1     4    5.0  17.0  5.0  18.8   600.0  73.0   \n",
       "175325   6  2013      3    1     5    4.0  11.0  3.0  18.8   700.0  87.0   \n",
       "175326   7  2013      3    1     6    3.0   6.0  3.0  18.8   700.0  92.0   \n",
       "175327   8  2013      3    1     7    5.0   5.0  3.0  18.8   800.0  86.0   \n",
       "175328   9  2013      3    1     8    5.0   9.0  5.0  18.8   900.0  81.0   \n",
       "175329  10  2013      3    1     9    4.0  10.0  6.0  18.8   900.0  82.0   \n",
       "175330  11  2013      3    1    10    7.0   8.0  8.0  18.8   900.0  82.0   \n",
       "175331  12  2013      3    1    11    3.0   6.0  8.0  18.8   800.0  85.0   \n",
       "175332  13  2013      3    1    12    9.0  10.0  8.0  18.8   800.0  86.0   \n",
       "175333  14  2013      3    1    13   10.0  19.0  9.0  18.8   900.0  86.0   \n",
       "175334  15  2013      3    1    14   13.0  20.0  8.0  18.8   800.0  88.0   \n",
       "175335  16  2013      3    1    15   13.0  16.0  8.0  18.8   800.0  90.0   \n",
       "175336  17  2013      3    1    16   11.0  22.0  6.0  18.8   800.0  90.0   \n",
       "175337  18  2013      3    1    17   10.0  20.0  4.0  18.8   800.0  87.0   \n",
       "175338  19  2013      3    1    18   11.0  20.0  6.0  18.8   900.0  80.0   \n",
       "175339  20  2013      3    1    19   11.0  31.0  8.0  18.8  1000.0  69.0   \n",
       "\n",
       "        TEMP    PRES  DEWP  RAIN   wd  WSPM  station  \n",
       "175320   0.1  1021.1 -18.6   0.0   NW   4.4  Gucheng  \n",
       "175321  -0.3  1021.5 -19.0   0.0   NW   4.0  Gucheng  \n",
       "175322  -0.7  1021.5 -19.8   0.0  WNW   4.6  Gucheng  \n",
       "175323  -1.0  1022.7 -21.2   0.0    W   2.8  Gucheng  \n",
       "175324  -1.3  1023.0 -21.4   0.0  WNW   3.6  Gucheng  \n",
       "175325  -1.8  1023.6 -21.9   0.0    E   1.2  Gucheng  \n",
       "175326  -2.6  1024.3 -20.4   0.0  ENE   1.2  Gucheng  \n",
       "175327  -0.9  1025.6 -20.5   0.0  ENE   1.1  Gucheng  \n",
       "175328   0.1  1026.1 -20.3   0.0  ENE   3.0  Gucheng  \n",
       "175329   1.1  1026.1 -20.6   0.0   NE   2.8  Gucheng  \n",
       "175330   1.9  1026.1 -21.3   0.0  ENE   3.0  Gucheng  \n",
       "175331   3.3  1026.1 -20.9   0.0  ENE   3.2  Gucheng  \n",
       "175332   4.1  1025.1 -20.3   0.0  ENE   3.2  Gucheng  \n",
       "175333   5.3  1024.1 -20.1   0.0   NE   2.7  Gucheng  \n",
       "175334   5.5  1023.8 -20.0   0.0   NE   2.1  Gucheng  \n",
       "175335   6.3  1023.5 -19.3   0.0  ENE   2.7  Gucheng  \n",
       "175336   5.9  1023.6 -18.8   0.0  ENE   1.8  Gucheng  \n",
       "175337   5.1  1024.2 -18.7   0.0  WNW   1.0  Gucheng  \n",
       "175338   3.7  1025.3 -19.2   0.0    E   1.6  Gucheng  \n",
       "175339   2.7  1026.1 -19.3   0.0    E   1.7  Gucheng  "
      ]
     },
     "execution_count": 19,
     "metadata": {},
     "output_type": "execute_result"
    }
   ],
   "source": [
    "# mengisi nilai NO2 pada baris dengan no indeks 175320 hingga 175339\n",
    "df_new.loc[175320:175339, 'NO2'] = 18.8\n",
    "df_new.loc[175320:175339]"
   ]
  },
  {
   "cell_type": "code",
   "execution_count": 20,
   "metadata": {},
   "outputs": [
    {
     "data": {
      "text/html": [
       "<div>\n",
       "<style scoped>\n",
       "    .dataframe tbody tr th:only-of-type {\n",
       "        vertical-align: middle;\n",
       "    }\n",
       "\n",
       "    .dataframe tbody tr th {\n",
       "        vertical-align: top;\n",
       "    }\n",
       "\n",
       "    .dataframe thead th {\n",
       "        text-align: right;\n",
       "    }\n",
       "</style>\n",
       "<table border=\"1\" class=\"dataframe\">\n",
       "  <thead>\n",
       "    <tr style=\"text-align: right;\">\n",
       "      <th></th>\n",
       "      <th>No</th>\n",
       "      <th>year</th>\n",
       "      <th>month</th>\n",
       "      <th>day</th>\n",
       "      <th>hour</th>\n",
       "      <th>PM2.5</th>\n",
       "      <th>PM10</th>\n",
       "      <th>SO2</th>\n",
       "      <th>NO2</th>\n",
       "      <th>CO</th>\n",
       "      <th>O3</th>\n",
       "      <th>TEMP</th>\n",
       "      <th>PRES</th>\n",
       "      <th>DEWP</th>\n",
       "      <th>RAIN</th>\n",
       "      <th>wd</th>\n",
       "      <th>WSPM</th>\n",
       "      <th>station</th>\n",
       "    </tr>\n",
       "  </thead>\n",
       "  <tbody>\n",
       "    <tr>\n",
       "      <th>31316</th>\n",
       "      <td>31317</td>\n",
       "      <td>2016</td>\n",
       "      <td>9</td>\n",
       "      <td>25</td>\n",
       "      <td>20</td>\n",
       "      <td>182.0</td>\n",
       "      <td>182.0</td>\n",
       "      <td>2.0</td>\n",
       "      <td>82.0</td>\n",
       "      <td>1600.0</td>\n",
       "      <td>46.0</td>\n",
       "      <td>24.714286</td>\n",
       "      <td>1009.571429</td>\n",
       "      <td>19.114286</td>\n",
       "      <td>0.0</td>\n",
       "      <td>NaN</td>\n",
       "      <td>1.666667</td>\n",
       "      <td>Aotizhongxin</td>\n",
       "    </tr>\n",
       "    <tr>\n",
       "      <th>31317</th>\n",
       "      <td>31318</td>\n",
       "      <td>2016</td>\n",
       "      <td>9</td>\n",
       "      <td>25</td>\n",
       "      <td>21</td>\n",
       "      <td>137.0</td>\n",
       "      <td>146.0</td>\n",
       "      <td>2.0</td>\n",
       "      <td>44.0</td>\n",
       "      <td>1400.0</td>\n",
       "      <td>122.0</td>\n",
       "      <td>23.971429</td>\n",
       "      <td>1009.857143</td>\n",
       "      <td>18.871429</td>\n",
       "      <td>0.0</td>\n",
       "      <td>NaN</td>\n",
       "      <td>1.850000</td>\n",
       "      <td>Aotizhongxin</td>\n",
       "    </tr>\n",
       "    <tr>\n",
       "      <th>31318</th>\n",
       "      <td>31319</td>\n",
       "      <td>2016</td>\n",
       "      <td>9</td>\n",
       "      <td>25</td>\n",
       "      <td>22</td>\n",
       "      <td>107.0</td>\n",
       "      <td>107.0</td>\n",
       "      <td>2.0</td>\n",
       "      <td>34.0</td>\n",
       "      <td>1300.0</td>\n",
       "      <td>108.0</td>\n",
       "      <td>23.228571</td>\n",
       "      <td>1010.142857</td>\n",
       "      <td>18.628571</td>\n",
       "      <td>0.0</td>\n",
       "      <td>NaN</td>\n",
       "      <td>2.033333</td>\n",
       "      <td>Aotizhongxin</td>\n",
       "    </tr>\n",
       "    <tr>\n",
       "      <th>31392</th>\n",
       "      <td>31393</td>\n",
       "      <td>2016</td>\n",
       "      <td>9</td>\n",
       "      <td>29</td>\n",
       "      <td>0</td>\n",
       "      <td>43.0</td>\n",
       "      <td>106.0</td>\n",
       "      <td>2.0</td>\n",
       "      <td>85.0</td>\n",
       "      <td>1100.0</td>\n",
       "      <td>2.0</td>\n",
       "      <td>10.733333</td>\n",
       "      <td>1019.000000</td>\n",
       "      <td>5.700000</td>\n",
       "      <td>0.0</td>\n",
       "      <td>NaN</td>\n",
       "      <td>0.000000</td>\n",
       "      <td>Aotizhongxin</td>\n",
       "    </tr>\n",
       "    <tr>\n",
       "      <th>31393</th>\n",
       "      <td>31394</td>\n",
       "      <td>2016</td>\n",
       "      <td>9</td>\n",
       "      <td>29</td>\n",
       "      <td>1</td>\n",
       "      <td>36.0</td>\n",
       "      <td>83.0</td>\n",
       "      <td>2.0</td>\n",
       "      <td>67.0</td>\n",
       "      <td>800.0</td>\n",
       "      <td>2.0</td>\n",
       "      <td>9.900000</td>\n",
       "      <td>1018.750000</td>\n",
       "      <td>6.300000</td>\n",
       "      <td>0.0</td>\n",
       "      <td>NaN</td>\n",
       "      <td>0.000000</td>\n",
       "      <td>Aotizhongxin</td>\n",
       "    </tr>\n",
       "    <tr>\n",
       "      <th>...</th>\n",
       "      <td>...</td>\n",
       "      <td>...</td>\n",
       "      <td>...</td>\n",
       "      <td>...</td>\n",
       "      <td>...</td>\n",
       "      <td>...</td>\n",
       "      <td>...</td>\n",
       "      <td>...</td>\n",
       "      <td>...</td>\n",
       "      <td>...</td>\n",
       "      <td>...</td>\n",
       "      <td>...</td>\n",
       "      <td>...</td>\n",
       "      <td>...</td>\n",
       "      <td>...</td>\n",
       "      <td>...</td>\n",
       "      <td>...</td>\n",
       "      <td>...</td>\n",
       "    </tr>\n",
       "    <tr>\n",
       "      <th>419788</th>\n",
       "      <td>34085</td>\n",
       "      <td>2017</td>\n",
       "      <td>1</td>\n",
       "      <td>19</td>\n",
       "      <td>4</td>\n",
       "      <td>102.0</td>\n",
       "      <td>118.0</td>\n",
       "      <td>41.0</td>\n",
       "      <td>88.0</td>\n",
       "      <td>3100.0</td>\n",
       "      <td>42.0</td>\n",
       "      <td>-2.028571</td>\n",
       "      <td>1024.714286</td>\n",
       "      <td>-9.114286</td>\n",
       "      <td>0.0</td>\n",
       "      <td>NaN</td>\n",
       "      <td>1.033333</td>\n",
       "      <td>Wanshouxigong</td>\n",
       "    </tr>\n",
       "    <tr>\n",
       "      <th>419789</th>\n",
       "      <td>34086</td>\n",
       "      <td>2017</td>\n",
       "      <td>1</td>\n",
       "      <td>19</td>\n",
       "      <td>5</td>\n",
       "      <td>111.0</td>\n",
       "      <td>137.0</td>\n",
       "      <td>40.0</td>\n",
       "      <td>84.0</td>\n",
       "      <td>2800.0</td>\n",
       "      <td>5.0</td>\n",
       "      <td>-2.192857</td>\n",
       "      <td>1024.571429</td>\n",
       "      <td>-8.871429</td>\n",
       "      <td>0.0</td>\n",
       "      <td>NaN</td>\n",
       "      <td>1.050000</td>\n",
       "      <td>Wanshouxigong</td>\n",
       "    </tr>\n",
       "    <tr>\n",
       "      <th>419790</th>\n",
       "      <td>34087</td>\n",
       "      <td>2017</td>\n",
       "      <td>1</td>\n",
       "      <td>19</td>\n",
       "      <td>6</td>\n",
       "      <td>124.0</td>\n",
       "      <td>142.0</td>\n",
       "      <td>32.0</td>\n",
       "      <td>84.0</td>\n",
       "      <td>2700.0</td>\n",
       "      <td>4.0</td>\n",
       "      <td>-2.357143</td>\n",
       "      <td>1024.428571</td>\n",
       "      <td>-8.628571</td>\n",
       "      <td>0.0</td>\n",
       "      <td>NaN</td>\n",
       "      <td>1.066667</td>\n",
       "      <td>Wanshouxigong</td>\n",
       "    </tr>\n",
       "    <tr>\n",
       "      <th>419948</th>\n",
       "      <td>34245</td>\n",
       "      <td>2017</td>\n",
       "      <td>1</td>\n",
       "      <td>25</td>\n",
       "      <td>20</td>\n",
       "      <td>241.0</td>\n",
       "      <td>241.0</td>\n",
       "      <td>39.0</td>\n",
       "      <td>108.0</td>\n",
       "      <td>3200.0</td>\n",
       "      <td>10.0</td>\n",
       "      <td>-2.800000</td>\n",
       "      <td>1025.000000</td>\n",
       "      <td>-9.000000</td>\n",
       "      <td>0.0</td>\n",
       "      <td>NaN</td>\n",
       "      <td>0.000000</td>\n",
       "      <td>Wanshouxigong</td>\n",
       "    </tr>\n",
       "    <tr>\n",
       "      <th>419949</th>\n",
       "      <td>34246</td>\n",
       "      <td>2017</td>\n",
       "      <td>1</td>\n",
       "      <td>25</td>\n",
       "      <td>21</td>\n",
       "      <td>244.0</td>\n",
       "      <td>244.0</td>\n",
       "      <td>33.0</td>\n",
       "      <td>117.0</td>\n",
       "      <td>3500.0</td>\n",
       "      <td>28.0</td>\n",
       "      <td>-3.800000</td>\n",
       "      <td>1024.750000</td>\n",
       "      <td>-8.900000</td>\n",
       "      <td>0.0</td>\n",
       "      <td>NaN</td>\n",
       "      <td>0.000000</td>\n",
       "      <td>Wanshouxigong</td>\n",
       "    </tr>\n",
       "  </tbody>\n",
       "</table>\n",
       "<p>183 rows × 18 columns</p>\n",
       "</div>"
      ],
      "text/plain": [
       "           No  year  month  day  hour  PM2.5   PM10   SO2    NO2      CO  \\\n",
       "31316   31317  2016      9   25    20  182.0  182.0   2.0   82.0  1600.0   \n",
       "31317   31318  2016      9   25    21  137.0  146.0   2.0   44.0  1400.0   \n",
       "31318   31319  2016      9   25    22  107.0  107.0   2.0   34.0  1300.0   \n",
       "31392   31393  2016      9   29     0   43.0  106.0   2.0   85.0  1100.0   \n",
       "31393   31394  2016      9   29     1   36.0   83.0   2.0   67.0   800.0   \n",
       "...       ...   ...    ...  ...   ...    ...    ...   ...    ...     ...   \n",
       "419788  34085  2017      1   19     4  102.0  118.0  41.0   88.0  3100.0   \n",
       "419789  34086  2017      1   19     5  111.0  137.0  40.0   84.0  2800.0   \n",
       "419790  34087  2017      1   19     6  124.0  142.0  32.0   84.0  2700.0   \n",
       "419948  34245  2017      1   25    20  241.0  241.0  39.0  108.0  3200.0   \n",
       "419949  34246  2017      1   25    21  244.0  244.0  33.0  117.0  3500.0   \n",
       "\n",
       "           O3       TEMP         PRES       DEWP  RAIN   wd      WSPM  \\\n",
       "31316    46.0  24.714286  1009.571429  19.114286   0.0  NaN  1.666667   \n",
       "31317   122.0  23.971429  1009.857143  18.871429   0.0  NaN  1.850000   \n",
       "31318   108.0  23.228571  1010.142857  18.628571   0.0  NaN  2.033333   \n",
       "31392     2.0  10.733333  1019.000000   5.700000   0.0  NaN  0.000000   \n",
       "31393     2.0   9.900000  1018.750000   6.300000   0.0  NaN  0.000000   \n",
       "...       ...        ...          ...        ...   ...  ...       ...   \n",
       "419788   42.0  -2.028571  1024.714286  -9.114286   0.0  NaN  1.033333   \n",
       "419789    5.0  -2.192857  1024.571429  -8.871429   0.0  NaN  1.050000   \n",
       "419790    4.0  -2.357143  1024.428571  -8.628571   0.0  NaN  1.066667   \n",
       "419948   10.0  -2.800000  1025.000000  -9.000000   0.0  NaN  0.000000   \n",
       "419949   28.0  -3.800000  1024.750000  -8.900000   0.0  NaN  0.000000   \n",
       "\n",
       "              station  \n",
       "31316    Aotizhongxin  \n",
       "31317    Aotizhongxin  \n",
       "31318    Aotizhongxin  \n",
       "31392    Aotizhongxin  \n",
       "31393    Aotizhongxin  \n",
       "...               ...  \n",
       "419788  Wanshouxigong  \n",
       "419789  Wanshouxigong  \n",
       "419790  Wanshouxigong  \n",
       "419948  Wanshouxigong  \n",
       "419949  Wanshouxigong  \n",
       "\n",
       "[183 rows x 18 columns]"
      ]
     },
     "execution_count": 20,
     "metadata": {},
     "output_type": "execute_result"
    }
   ],
   "source": [
    "# mengecek nilai nan pada kolom wd\n",
    "df_new[df_new.isna().any(axis=1)]"
   ]
  },
  {
   "cell_type": "code",
   "execution_count": 21,
   "metadata": {},
   "outputs": [
    {
     "data": {
      "text/html": [
       "<div>\n",
       "<style scoped>\n",
       "    .dataframe tbody tr th:only-of-type {\n",
       "        vertical-align: middle;\n",
       "    }\n",
       "\n",
       "    .dataframe tbody tr th {\n",
       "        vertical-align: top;\n",
       "    }\n",
       "\n",
       "    .dataframe thead th {\n",
       "        text-align: right;\n",
       "    }\n",
       "</style>\n",
       "<table border=\"1\" class=\"dataframe\">\n",
       "  <thead>\n",
       "    <tr style=\"text-align: right;\">\n",
       "      <th></th>\n",
       "      <th>No</th>\n",
       "      <th>year</th>\n",
       "      <th>month</th>\n",
       "      <th>day</th>\n",
       "      <th>hour</th>\n",
       "      <th>PM2.5</th>\n",
       "      <th>PM10</th>\n",
       "      <th>SO2</th>\n",
       "      <th>NO2</th>\n",
       "      <th>CO</th>\n",
       "      <th>O3</th>\n",
       "      <th>TEMP</th>\n",
       "      <th>PRES</th>\n",
       "      <th>DEWP</th>\n",
       "      <th>RAIN</th>\n",
       "      <th>wd</th>\n",
       "      <th>WSPM</th>\n",
       "      <th>station</th>\n",
       "    </tr>\n",
       "  </thead>\n",
       "  <tbody>\n",
       "    <tr>\n",
       "      <th>31316</th>\n",
       "      <td>31317</td>\n",
       "      <td>2016</td>\n",
       "      <td>9</td>\n",
       "      <td>25</td>\n",
       "      <td>20</td>\n",
       "      <td>182.0</td>\n",
       "      <td>182.0</td>\n",
       "      <td>2.0</td>\n",
       "      <td>82.0</td>\n",
       "      <td>1600.0</td>\n",
       "      <td>46.0</td>\n",
       "      <td>24.714286</td>\n",
       "      <td>1009.571429</td>\n",
       "      <td>19.114286</td>\n",
       "      <td>0.0</td>\n",
       "      <td>Unknown</td>\n",
       "      <td>1.666667</td>\n",
       "      <td>Aotizhongxin</td>\n",
       "    </tr>\n",
       "    <tr>\n",
       "      <th>31317</th>\n",
       "      <td>31318</td>\n",
       "      <td>2016</td>\n",
       "      <td>9</td>\n",
       "      <td>25</td>\n",
       "      <td>21</td>\n",
       "      <td>137.0</td>\n",
       "      <td>146.0</td>\n",
       "      <td>2.0</td>\n",
       "      <td>44.0</td>\n",
       "      <td>1400.0</td>\n",
       "      <td>122.0</td>\n",
       "      <td>23.971429</td>\n",
       "      <td>1009.857143</td>\n",
       "      <td>18.871429</td>\n",
       "      <td>0.0</td>\n",
       "      <td>Unknown</td>\n",
       "      <td>1.850000</td>\n",
       "      <td>Aotizhongxin</td>\n",
       "    </tr>\n",
       "    <tr>\n",
       "      <th>31318</th>\n",
       "      <td>31319</td>\n",
       "      <td>2016</td>\n",
       "      <td>9</td>\n",
       "      <td>25</td>\n",
       "      <td>22</td>\n",
       "      <td>107.0</td>\n",
       "      <td>107.0</td>\n",
       "      <td>2.0</td>\n",
       "      <td>34.0</td>\n",
       "      <td>1300.0</td>\n",
       "      <td>108.0</td>\n",
       "      <td>23.228571</td>\n",
       "      <td>1010.142857</td>\n",
       "      <td>18.628571</td>\n",
       "      <td>0.0</td>\n",
       "      <td>Unknown</td>\n",
       "      <td>2.033333</td>\n",
       "      <td>Aotizhongxin</td>\n",
       "    </tr>\n",
       "    <tr>\n",
       "      <th>31392</th>\n",
       "      <td>31393</td>\n",
       "      <td>2016</td>\n",
       "      <td>9</td>\n",
       "      <td>29</td>\n",
       "      <td>0</td>\n",
       "      <td>43.0</td>\n",
       "      <td>106.0</td>\n",
       "      <td>2.0</td>\n",
       "      <td>85.0</td>\n",
       "      <td>1100.0</td>\n",
       "      <td>2.0</td>\n",
       "      <td>10.733333</td>\n",
       "      <td>1019.000000</td>\n",
       "      <td>5.700000</td>\n",
       "      <td>0.0</td>\n",
       "      <td>Unknown</td>\n",
       "      <td>0.000000</td>\n",
       "      <td>Aotizhongxin</td>\n",
       "    </tr>\n",
       "    <tr>\n",
       "      <th>31393</th>\n",
       "      <td>31394</td>\n",
       "      <td>2016</td>\n",
       "      <td>9</td>\n",
       "      <td>29</td>\n",
       "      <td>1</td>\n",
       "      <td>36.0</td>\n",
       "      <td>83.0</td>\n",
       "      <td>2.0</td>\n",
       "      <td>67.0</td>\n",
       "      <td>800.0</td>\n",
       "      <td>2.0</td>\n",
       "      <td>9.900000</td>\n",
       "      <td>1018.750000</td>\n",
       "      <td>6.300000</td>\n",
       "      <td>0.0</td>\n",
       "      <td>Unknown</td>\n",
       "      <td>0.000000</td>\n",
       "      <td>Aotizhongxin</td>\n",
       "    </tr>\n",
       "    <tr>\n",
       "      <th>...</th>\n",
       "      <td>...</td>\n",
       "      <td>...</td>\n",
       "      <td>...</td>\n",
       "      <td>...</td>\n",
       "      <td>...</td>\n",
       "      <td>...</td>\n",
       "      <td>...</td>\n",
       "      <td>...</td>\n",
       "      <td>...</td>\n",
       "      <td>...</td>\n",
       "      <td>...</td>\n",
       "      <td>...</td>\n",
       "      <td>...</td>\n",
       "      <td>...</td>\n",
       "      <td>...</td>\n",
       "      <td>...</td>\n",
       "      <td>...</td>\n",
       "      <td>...</td>\n",
       "    </tr>\n",
       "    <tr>\n",
       "      <th>419788</th>\n",
       "      <td>34085</td>\n",
       "      <td>2017</td>\n",
       "      <td>1</td>\n",
       "      <td>19</td>\n",
       "      <td>4</td>\n",
       "      <td>102.0</td>\n",
       "      <td>118.0</td>\n",
       "      <td>41.0</td>\n",
       "      <td>88.0</td>\n",
       "      <td>3100.0</td>\n",
       "      <td>42.0</td>\n",
       "      <td>-2.028571</td>\n",
       "      <td>1024.714286</td>\n",
       "      <td>-9.114286</td>\n",
       "      <td>0.0</td>\n",
       "      <td>Unknown</td>\n",
       "      <td>1.033333</td>\n",
       "      <td>Wanshouxigong</td>\n",
       "    </tr>\n",
       "    <tr>\n",
       "      <th>419789</th>\n",
       "      <td>34086</td>\n",
       "      <td>2017</td>\n",
       "      <td>1</td>\n",
       "      <td>19</td>\n",
       "      <td>5</td>\n",
       "      <td>111.0</td>\n",
       "      <td>137.0</td>\n",
       "      <td>40.0</td>\n",
       "      <td>84.0</td>\n",
       "      <td>2800.0</td>\n",
       "      <td>5.0</td>\n",
       "      <td>-2.192857</td>\n",
       "      <td>1024.571429</td>\n",
       "      <td>-8.871429</td>\n",
       "      <td>0.0</td>\n",
       "      <td>Unknown</td>\n",
       "      <td>1.050000</td>\n",
       "      <td>Wanshouxigong</td>\n",
       "    </tr>\n",
       "    <tr>\n",
       "      <th>419790</th>\n",
       "      <td>34087</td>\n",
       "      <td>2017</td>\n",
       "      <td>1</td>\n",
       "      <td>19</td>\n",
       "      <td>6</td>\n",
       "      <td>124.0</td>\n",
       "      <td>142.0</td>\n",
       "      <td>32.0</td>\n",
       "      <td>84.0</td>\n",
       "      <td>2700.0</td>\n",
       "      <td>4.0</td>\n",
       "      <td>-2.357143</td>\n",
       "      <td>1024.428571</td>\n",
       "      <td>-8.628571</td>\n",
       "      <td>0.0</td>\n",
       "      <td>Unknown</td>\n",
       "      <td>1.066667</td>\n",
       "      <td>Wanshouxigong</td>\n",
       "    </tr>\n",
       "    <tr>\n",
       "      <th>419948</th>\n",
       "      <td>34245</td>\n",
       "      <td>2017</td>\n",
       "      <td>1</td>\n",
       "      <td>25</td>\n",
       "      <td>20</td>\n",
       "      <td>241.0</td>\n",
       "      <td>241.0</td>\n",
       "      <td>39.0</td>\n",
       "      <td>108.0</td>\n",
       "      <td>3200.0</td>\n",
       "      <td>10.0</td>\n",
       "      <td>-2.800000</td>\n",
       "      <td>1025.000000</td>\n",
       "      <td>-9.000000</td>\n",
       "      <td>0.0</td>\n",
       "      <td>Unknown</td>\n",
       "      <td>0.000000</td>\n",
       "      <td>Wanshouxigong</td>\n",
       "    </tr>\n",
       "    <tr>\n",
       "      <th>419949</th>\n",
       "      <td>34246</td>\n",
       "      <td>2017</td>\n",
       "      <td>1</td>\n",
       "      <td>25</td>\n",
       "      <td>21</td>\n",
       "      <td>244.0</td>\n",
       "      <td>244.0</td>\n",
       "      <td>33.0</td>\n",
       "      <td>117.0</td>\n",
       "      <td>3500.0</td>\n",
       "      <td>28.0</td>\n",
       "      <td>-3.800000</td>\n",
       "      <td>1024.750000</td>\n",
       "      <td>-8.900000</td>\n",
       "      <td>0.0</td>\n",
       "      <td>Unknown</td>\n",
       "      <td>0.000000</td>\n",
       "      <td>Wanshouxigong</td>\n",
       "    </tr>\n",
       "  </tbody>\n",
       "</table>\n",
       "<p>183 rows × 18 columns</p>\n",
       "</div>"
      ],
      "text/plain": [
       "           No  year  month  day  hour  PM2.5   PM10   SO2    NO2      CO  \\\n",
       "31316   31317  2016      9   25    20  182.0  182.0   2.0   82.0  1600.0   \n",
       "31317   31318  2016      9   25    21  137.0  146.0   2.0   44.0  1400.0   \n",
       "31318   31319  2016      9   25    22  107.0  107.0   2.0   34.0  1300.0   \n",
       "31392   31393  2016      9   29     0   43.0  106.0   2.0   85.0  1100.0   \n",
       "31393   31394  2016      9   29     1   36.0   83.0   2.0   67.0   800.0   \n",
       "...       ...   ...    ...  ...   ...    ...    ...   ...    ...     ...   \n",
       "419788  34085  2017      1   19     4  102.0  118.0  41.0   88.0  3100.0   \n",
       "419789  34086  2017      1   19     5  111.0  137.0  40.0   84.0  2800.0   \n",
       "419790  34087  2017      1   19     6  124.0  142.0  32.0   84.0  2700.0   \n",
       "419948  34245  2017      1   25    20  241.0  241.0  39.0  108.0  3200.0   \n",
       "419949  34246  2017      1   25    21  244.0  244.0  33.0  117.0  3500.0   \n",
       "\n",
       "           O3       TEMP         PRES       DEWP  RAIN       wd      WSPM  \\\n",
       "31316    46.0  24.714286  1009.571429  19.114286   0.0  Unknown  1.666667   \n",
       "31317   122.0  23.971429  1009.857143  18.871429   0.0  Unknown  1.850000   \n",
       "31318   108.0  23.228571  1010.142857  18.628571   0.0  Unknown  2.033333   \n",
       "31392     2.0  10.733333  1019.000000   5.700000   0.0  Unknown  0.000000   \n",
       "31393     2.0   9.900000  1018.750000   6.300000   0.0  Unknown  0.000000   \n",
       "...       ...        ...          ...        ...   ...      ...       ...   \n",
       "419788   42.0  -2.028571  1024.714286  -9.114286   0.0  Unknown  1.033333   \n",
       "419789    5.0  -2.192857  1024.571429  -8.871429   0.0  Unknown  1.050000   \n",
       "419790    4.0  -2.357143  1024.428571  -8.628571   0.0  Unknown  1.066667   \n",
       "419948   10.0  -2.800000  1025.000000  -9.000000   0.0  Unknown  0.000000   \n",
       "419949   28.0  -3.800000  1024.750000  -8.900000   0.0  Unknown  0.000000   \n",
       "\n",
       "              station  \n",
       "31316    Aotizhongxin  \n",
       "31317    Aotizhongxin  \n",
       "31318    Aotizhongxin  \n",
       "31392    Aotizhongxin  \n",
       "31393    Aotizhongxin  \n",
       "...               ...  \n",
       "419788  Wanshouxigong  \n",
       "419789  Wanshouxigong  \n",
       "419790  Wanshouxigong  \n",
       "419948  Wanshouxigong  \n",
       "419949  Wanshouxigong  \n",
       "\n",
       "[183 rows x 18 columns]"
      ]
     },
     "execution_count": 21,
     "metadata": {},
     "output_type": "execute_result"
    }
   ],
   "source": [
    "# karena data merupakan data kategorikal dan baris nan dirasa terlalu banyak \n",
    "# maka kolom wd yang berisikan nan akan diubah menjadi 'Unknown'\n",
    "\n",
    "df_new['wd'].fillna('Unknown', inplace=True)\n",
    "df_new[df_new['wd'] == 'Unknown']"
   ]
  },
  {
   "cell_type": "code",
   "execution_count": 22,
   "metadata": {},
   "outputs": [
    {
     "data": {
      "text/plain": [
       "No         0\n",
       "year       0\n",
       "month      0\n",
       "day        0\n",
       "hour       0\n",
       "PM2.5      0\n",
       "PM10       0\n",
       "SO2        0\n",
       "NO2        0\n",
       "CO         0\n",
       "O3         0\n",
       "TEMP       0\n",
       "PRES       0\n",
       "DEWP       0\n",
       "RAIN       0\n",
       "wd         0\n",
       "WSPM       0\n",
       "station    0\n",
       "dtype: int64"
      ]
     },
     "execution_count": 22,
     "metadata": {},
     "output_type": "execute_result"
    }
   ],
   "source": [
    "# pengecekan terakhir memastikan semua nan sudah tidak ada\n",
    "df_new.isna().sum()"
   ]
  },
  {
   "cell_type": "code",
   "execution_count": 23,
   "metadata": {},
   "outputs": [],
   "source": [
    "# pandas date_range: https://pandas.pydata.org/pandas-docs/stable/reference/api/pandas.date_range.html\n",
    "# freq: https://pandas.pydata.org/pandas-docs/stable/user_guide/timeseries.html#timeseries-offset-aliases\n",
    "\n",
    "# pd.to_datetime(df_new[['year', 'month', 'day', 'hour']])\n",
    "# pd.date_range('2013-03-01 01:00:00', periods=5, freq='D')\n",
    "# pd.date_range(start='2013-03-01 01:00:00', periods=5, freq='-1D')"
   ]
  },
  {
   "attachments": {},
   "cell_type": "markdown",
   "metadata": {},
   "source": [
    "## Exploratory Data Analysis (EDA)"
   ]
  },
  {
   "cell_type": "markdown",
   "metadata": {},
   "source": [
    "### Eksplorasi data Numerik\n",
    "\n",
    "Tahap ini akan melakukan eksplorasi terhadap data numerin yang ada yaitu: \\\n",
    "PM2.5, PM10, SO2, NO2, CO, O3, TEMP, PRES, DEWP, RAIN, dan WSPM \n",
    "\n",
    "dan menampilkan data statistik masing-masing atribut untuk setiap stasiunnya, data statistik yang ditampilkan yaitu: \\\n",
    "Min, Max, Range, Mean, Median, dan Std"
   ]
  },
  {
   "cell_type": "code",
   "execution_count": 24,
   "metadata": {},
   "outputs": [],
   "source": [
    "# creating function for detailed descriptive analytic\n",
    "def summary_stats(df_model, n=4):\n",
    "    # central tendency: mean, median\n",
    "    mean = pd.DataFrame(df_model.apply(np.mean)).T\n",
    "    median = pd.DataFrame(df_model.apply(np.median)).T\n",
    "\n",
    "    # distribution: ,std, min, max, range\n",
    "    std = pd.DataFrame(df_model.apply(np.std)).T\n",
    "    min_value = pd.DataFrame(df_model.apply(min)).T\n",
    "    max_value = pd.DataFrame(df_model.apply(max)).T\n",
    "    range_value = pd.DataFrame(df_model.apply(lambda x: x.max() - x.min())).T\n",
    "\n",
    "    # concatenates\n",
    "    summary_stats = pd.concat([min_value, max_value, range_value, mean, median, std]).T.reset_index()\n",
    "    summary_stats.columns = ['attributes','min','max', 'range','mean','median', 'std']\n",
    "    \n",
    "    return round(summary_stats, n)"
   ]
  },
  {
   "cell_type": "code",
   "execution_count": 25,
   "metadata": {},
   "outputs": [
    {
     "name": "stdout",
     "output_type": "stream",
     "text": [
      "Aotizhongxin\n"
     ]
    },
    {
     "data": {
      "text/html": [
       "<div>\n",
       "<style scoped>\n",
       "    .dataframe tbody tr th:only-of-type {\n",
       "        vertical-align: middle;\n",
       "    }\n",
       "\n",
       "    .dataframe tbody tr th {\n",
       "        vertical-align: top;\n",
       "    }\n",
       "\n",
       "    .dataframe thead th {\n",
       "        text-align: right;\n",
       "    }\n",
       "</style>\n",
       "<table border=\"1\" class=\"dataframe\">\n",
       "  <thead>\n",
       "    <tr style=\"text-align: right;\">\n",
       "      <th></th>\n",
       "      <th>attributes</th>\n",
       "      <th>min</th>\n",
       "      <th>max</th>\n",
       "      <th>range</th>\n",
       "      <th>mean</th>\n",
       "      <th>median</th>\n",
       "      <th>std</th>\n",
       "    </tr>\n",
       "  </thead>\n",
       "  <tbody>\n",
       "    <tr>\n",
       "      <th>0</th>\n",
       "      <td>PM2.5</td>\n",
       "      <td>3.0000</td>\n",
       "      <td>898.0</td>\n",
       "      <td>895.0000</td>\n",
       "      <td>82.5406</td>\n",
       "      <td>58.0</td>\n",
       "      <td>81.9552</td>\n",
       "    </tr>\n",
       "    <tr>\n",
       "      <th>1</th>\n",
       "      <td>PM10</td>\n",
       "      <td>2.0000</td>\n",
       "      <td>984.0</td>\n",
       "      <td>982.0000</td>\n",
       "      <td>110.2100</td>\n",
       "      <td>87.0</td>\n",
       "      <td>95.2612</td>\n",
       "    </tr>\n",
       "    <tr>\n",
       "      <th>2</th>\n",
       "      <td>SO2</td>\n",
       "      <td>0.2856</td>\n",
       "      <td>341.0</td>\n",
       "      <td>340.7144</td>\n",
       "      <td>17.4593</td>\n",
       "      <td>9.0</td>\n",
       "      <td>22.7020</td>\n",
       "    </tr>\n",
       "    <tr>\n",
       "      <th>3</th>\n",
       "      <td>NO2</td>\n",
       "      <td>2.0000</td>\n",
       "      <td>290.0</td>\n",
       "      <td>288.0000</td>\n",
       "      <td>59.0741</td>\n",
       "      <td>53.0</td>\n",
       "      <td>37.0004</td>\n",
       "    </tr>\n",
       "    <tr>\n",
       "      <th>4</th>\n",
       "      <td>CO</td>\n",
       "      <td>100.0000</td>\n",
       "      <td>10000.0</td>\n",
       "      <td>9900.0000</td>\n",
       "      <td>1264.6924</td>\n",
       "      <td>900.0</td>\n",
       "      <td>1239.3942</td>\n",
       "    </tr>\n",
       "    <tr>\n",
       "      <th>5</th>\n",
       "      <td>O3</td>\n",
       "      <td>0.2142</td>\n",
       "      <td>423.0</td>\n",
       "      <td>422.7858</td>\n",
       "      <td>55.3286</td>\n",
       "      <td>41.0</td>\n",
       "      <td>57.3267</td>\n",
       "    </tr>\n",
       "    <tr>\n",
       "      <th>6</th>\n",
       "      <td>TEMP</td>\n",
       "      <td>-16.8000</td>\n",
       "      <td>40.5</td>\n",
       "      <td>57.3000</td>\n",
       "      <td>13.5814</td>\n",
       "      <td>14.5</td>\n",
       "      <td>11.4003</td>\n",
       "    </tr>\n",
       "    <tr>\n",
       "      <th>7</th>\n",
       "      <td>PRES</td>\n",
       "      <td>985.9000</td>\n",
       "      <td>1042.0</td>\n",
       "      <td>56.1000</td>\n",
       "      <td>1011.8517</td>\n",
       "      <td>1011.4</td>\n",
       "      <td>10.4044</td>\n",
       "    </tr>\n",
       "    <tr>\n",
       "      <th>8</th>\n",
       "      <td>DEWP</td>\n",
       "      <td>-35.3000</td>\n",
       "      <td>28.5</td>\n",
       "      <td>63.8000</td>\n",
       "      <td>3.1203</td>\n",
       "      <td>3.8</td>\n",
       "      <td>13.6901</td>\n",
       "    </tr>\n",
       "    <tr>\n",
       "      <th>9</th>\n",
       "      <td>RAIN</td>\n",
       "      <td>0.0000</td>\n",
       "      <td>72.5</td>\n",
       "      <td>72.5000</td>\n",
       "      <td>0.0674</td>\n",
       "      <td>0.0</td>\n",
       "      <td>0.9098</td>\n",
       "    </tr>\n",
       "    <tr>\n",
       "      <th>10</th>\n",
       "      <td>WSPM</td>\n",
       "      <td>0.0000</td>\n",
       "      <td>11.2</td>\n",
       "      <td>11.2000</td>\n",
       "      <td>1.7086</td>\n",
       "      <td>1.4</td>\n",
       "      <td>1.2042</td>\n",
       "    </tr>\n",
       "  </tbody>\n",
       "</table>\n",
       "</div>"
      ],
      "text/plain": [
       "   attributes       min      max      range       mean  median        std\n",
       "0       PM2.5    3.0000    898.0   895.0000    82.5406    58.0    81.9552\n",
       "1        PM10    2.0000    984.0   982.0000   110.2100    87.0    95.2612\n",
       "2         SO2    0.2856    341.0   340.7144    17.4593     9.0    22.7020\n",
       "3         NO2    2.0000    290.0   288.0000    59.0741    53.0    37.0004\n",
       "4          CO  100.0000  10000.0  9900.0000  1264.6924   900.0  1239.3942\n",
       "5          O3    0.2142    423.0   422.7858    55.3286    41.0    57.3267\n",
       "6        TEMP  -16.8000     40.5    57.3000    13.5814    14.5    11.4003\n",
       "7        PRES  985.9000   1042.0    56.1000  1011.8517  1011.4    10.4044\n",
       "8        DEWP  -35.3000     28.5    63.8000     3.1203     3.8    13.6901\n",
       "9        RAIN    0.0000     72.5    72.5000     0.0674     0.0     0.9098\n",
       "10       WSPM    0.0000     11.2    11.2000     1.7086     1.4     1.2042"
      ]
     },
     "metadata": {},
     "output_type": "display_data"
    },
    {
     "name": "stdout",
     "output_type": "stream",
     "text": [
      "---------------------------------------------------------------------------\n",
      "Changping\n"
     ]
    },
    {
     "data": {
      "text/html": [
       "<div>\n",
       "<style scoped>\n",
       "    .dataframe tbody tr th:only-of-type {\n",
       "        vertical-align: middle;\n",
       "    }\n",
       "\n",
       "    .dataframe tbody tr th {\n",
       "        vertical-align: top;\n",
       "    }\n",
       "\n",
       "    .dataframe thead th {\n",
       "        text-align: right;\n",
       "    }\n",
       "</style>\n",
       "<table border=\"1\" class=\"dataframe\">\n",
       "  <thead>\n",
       "    <tr style=\"text-align: right;\">\n",
       "      <th></th>\n",
       "      <th>attributes</th>\n",
       "      <th>min</th>\n",
       "      <th>max</th>\n",
       "      <th>range</th>\n",
       "      <th>mean</th>\n",
       "      <th>median</th>\n",
       "      <th>std</th>\n",
       "    </tr>\n",
       "  </thead>\n",
       "  <tbody>\n",
       "    <tr>\n",
       "      <th>0</th>\n",
       "      <td>PM2.5</td>\n",
       "      <td>2.0000</td>\n",
       "      <td>882.0</td>\n",
       "      <td>880.0000</td>\n",
       "      <td>70.9864</td>\n",
       "      <td>46.0</td>\n",
       "      <td>72.3967</td>\n",
       "    </tr>\n",
       "    <tr>\n",
       "      <th>1</th>\n",
       "      <td>PM10</td>\n",
       "      <td>2.0000</td>\n",
       "      <td>999.0</td>\n",
       "      <td>997.0000</td>\n",
       "      <td>94.7886</td>\n",
       "      <td>72.0</td>\n",
       "      <td>83.9273</td>\n",
       "    </tr>\n",
       "    <tr>\n",
       "      <th>2</th>\n",
       "      <td>SO2</td>\n",
       "      <td>0.2856</td>\n",
       "      <td>310.0</td>\n",
       "      <td>309.7144</td>\n",
       "      <td>14.9431</td>\n",
       "      <td>7.0</td>\n",
       "      <td>21.0119</td>\n",
       "    </tr>\n",
       "    <tr>\n",
       "      <th>3</th>\n",
       "      <td>NO2</td>\n",
       "      <td>1.8477</td>\n",
       "      <td>226.0</td>\n",
       "      <td>224.1523</td>\n",
       "      <td>44.2062</td>\n",
       "      <td>36.0</td>\n",
       "      <td>29.5023</td>\n",
       "    </tr>\n",
       "    <tr>\n",
       "      <th>4</th>\n",
       "      <td>CO</td>\n",
       "      <td>100.0000</td>\n",
       "      <td>10000.0</td>\n",
       "      <td>9900.0000</td>\n",
       "      <td>1156.9902</td>\n",
       "      <td>800.0</td>\n",
       "      <td>1122.5967</td>\n",
       "    </tr>\n",
       "    <tr>\n",
       "      <th>5</th>\n",
       "      <td>O3</td>\n",
       "      <td>0.2142</td>\n",
       "      <td>429.0</td>\n",
       "      <td>428.7858</td>\n",
       "      <td>57.9763</td>\n",
       "      <td>46.0</td>\n",
       "      <td>54.2579</td>\n",
       "    </tr>\n",
       "    <tr>\n",
       "      <th>6</th>\n",
       "      <td>TEMP</td>\n",
       "      <td>-16.6000</td>\n",
       "      <td>41.4</td>\n",
       "      <td>58.0000</td>\n",
       "      <td>13.6716</td>\n",
       "      <td>14.6</td>\n",
       "      <td>11.3673</td>\n",
       "    </tr>\n",
       "    <tr>\n",
       "      <th>7</th>\n",
       "      <td>PRES</td>\n",
       "      <td>982.4000</td>\n",
       "      <td>1036.5</td>\n",
       "      <td>54.1000</td>\n",
       "      <td>1007.7712</td>\n",
       "      <td>1007.4</td>\n",
       "      <td>10.2259</td>\n",
       "    </tr>\n",
       "    <tr>\n",
       "      <th>8</th>\n",
       "      <td>DEWP</td>\n",
       "      <td>-35.1000</td>\n",
       "      <td>27.2</td>\n",
       "      <td>62.3000</td>\n",
       "      <td>1.4869</td>\n",
       "      <td>1.7</td>\n",
       "      <td>13.8287</td>\n",
       "    </tr>\n",
       "    <tr>\n",
       "      <th>9</th>\n",
       "      <td>RAIN</td>\n",
       "      <td>0.0000</td>\n",
       "      <td>52.1</td>\n",
       "      <td>52.1000</td>\n",
       "      <td>0.0603</td>\n",
       "      <td>0.0</td>\n",
       "      <td>0.7523</td>\n",
       "    </tr>\n",
       "    <tr>\n",
       "      <th>10</th>\n",
       "      <td>WSPM</td>\n",
       "      <td>0.0000</td>\n",
       "      <td>10.0</td>\n",
       "      <td>10.0000</td>\n",
       "      <td>1.8549</td>\n",
       "      <td>1.5</td>\n",
       "      <td>1.3107</td>\n",
       "    </tr>\n",
       "  </tbody>\n",
       "</table>\n",
       "</div>"
      ],
      "text/plain": [
       "   attributes       min      max      range       mean  median        std\n",
       "0       PM2.5    2.0000    882.0   880.0000    70.9864    46.0    72.3967\n",
       "1        PM10    2.0000    999.0   997.0000    94.7886    72.0    83.9273\n",
       "2         SO2    0.2856    310.0   309.7144    14.9431     7.0    21.0119\n",
       "3         NO2    1.8477    226.0   224.1523    44.2062    36.0    29.5023\n",
       "4          CO  100.0000  10000.0  9900.0000  1156.9902   800.0  1122.5967\n",
       "5          O3    0.2142    429.0   428.7858    57.9763    46.0    54.2579\n",
       "6        TEMP  -16.6000     41.4    58.0000    13.6716    14.6    11.3673\n",
       "7        PRES  982.4000   1036.5    54.1000  1007.7712  1007.4    10.2259\n",
       "8        DEWP  -35.1000     27.2    62.3000     1.4869     1.7    13.8287\n",
       "9        RAIN    0.0000     52.1    52.1000     0.0603     0.0     0.7523\n",
       "10       WSPM    0.0000     10.0    10.0000     1.8549     1.5     1.3107"
      ]
     },
     "metadata": {},
     "output_type": "display_data"
    },
    {
     "name": "stdout",
     "output_type": "stream",
     "text": [
      "---------------------------------------------------------------------------\n",
      "Dingling\n"
     ]
    },
    {
     "data": {
      "text/html": [
       "<div>\n",
       "<style scoped>\n",
       "    .dataframe tbody tr th:only-of-type {\n",
       "        vertical-align: middle;\n",
       "    }\n",
       "\n",
       "    .dataframe tbody tr th {\n",
       "        vertical-align: top;\n",
       "    }\n",
       "\n",
       "    .dataframe thead th {\n",
       "        text-align: right;\n",
       "    }\n",
       "</style>\n",
       "<table border=\"1\" class=\"dataframe\">\n",
       "  <thead>\n",
       "    <tr style=\"text-align: right;\">\n",
       "      <th></th>\n",
       "      <th>attributes</th>\n",
       "      <th>min</th>\n",
       "      <th>max</th>\n",
       "      <th>range</th>\n",
       "      <th>mean</th>\n",
       "      <th>median</th>\n",
       "      <th>std</th>\n",
       "    </tr>\n",
       "  </thead>\n",
       "  <tbody>\n",
       "    <tr>\n",
       "      <th>0</th>\n",
       "      <td>PM2.5</td>\n",
       "      <td>3.0000</td>\n",
       "      <td>881.0</td>\n",
       "      <td>878.0000</td>\n",
       "      <td>66.8456</td>\n",
       "      <td>41.0</td>\n",
       "      <td>73.4440</td>\n",
       "    </tr>\n",
       "    <tr>\n",
       "      <th>1</th>\n",
       "      <td>PM10</td>\n",
       "      <td>2.0000</td>\n",
       "      <td>905.0</td>\n",
       "      <td>903.0000</td>\n",
       "      <td>84.1137</td>\n",
       "      <td>60.0</td>\n",
       "      <td>80.2409</td>\n",
       "    </tr>\n",
       "    <tr>\n",
       "      <th>2</th>\n",
       "      <td>SO2</td>\n",
       "      <td>0.2856</td>\n",
       "      <td>156.0</td>\n",
       "      <td>155.7144</td>\n",
       "      <td>11.7978</td>\n",
       "      <td>5.0</td>\n",
       "      <td>15.6521</td>\n",
       "    </tr>\n",
       "    <tr>\n",
       "      <th>3</th>\n",
       "      <td>NO2</td>\n",
       "      <td>1.0265</td>\n",
       "      <td>205.0</td>\n",
       "      <td>203.9735</td>\n",
       "      <td>27.3036</td>\n",
       "      <td>19.0</td>\n",
       "      <td>26.2964</td>\n",
       "    </tr>\n",
       "    <tr>\n",
       "      <th>4</th>\n",
       "      <td>CO</td>\n",
       "      <td>100.0000</td>\n",
       "      <td>10000.0</td>\n",
       "      <td>9900.0000</td>\n",
       "      <td>925.1118</td>\n",
       "      <td>600.0</td>\n",
       "      <td>894.6746</td>\n",
       "    </tr>\n",
       "    <tr>\n",
       "      <th>5</th>\n",
       "      <td>O3</td>\n",
       "      <td>0.2142</td>\n",
       "      <td>500.0</td>\n",
       "      <td>499.7858</td>\n",
       "      <td>70.5308</td>\n",
       "      <td>62.0</td>\n",
       "      <td>58.6238</td>\n",
       "    </tr>\n",
       "    <tr>\n",
       "      <th>6</th>\n",
       "      <td>TEMP</td>\n",
       "      <td>-16.6000</td>\n",
       "      <td>41.4</td>\n",
       "      <td>58.0000</td>\n",
       "      <td>13.6716</td>\n",
       "      <td>14.6</td>\n",
       "      <td>11.3673</td>\n",
       "    </tr>\n",
       "    <tr>\n",
       "      <th>7</th>\n",
       "      <td>PRES</td>\n",
       "      <td>982.4000</td>\n",
       "      <td>1036.5</td>\n",
       "      <td>54.1000</td>\n",
       "      <td>1007.7712</td>\n",
       "      <td>1007.4</td>\n",
       "      <td>10.2259</td>\n",
       "    </tr>\n",
       "    <tr>\n",
       "      <th>8</th>\n",
       "      <td>DEWP</td>\n",
       "      <td>-35.1000</td>\n",
       "      <td>27.2</td>\n",
       "      <td>62.3000</td>\n",
       "      <td>1.4869</td>\n",
       "      <td>1.7</td>\n",
       "      <td>13.8287</td>\n",
       "    </tr>\n",
       "    <tr>\n",
       "      <th>9</th>\n",
       "      <td>RAIN</td>\n",
       "      <td>0.0000</td>\n",
       "      <td>52.1</td>\n",
       "      <td>52.1000</td>\n",
       "      <td>0.0603</td>\n",
       "      <td>0.0</td>\n",
       "      <td>0.7523</td>\n",
       "    </tr>\n",
       "    <tr>\n",
       "      <th>10</th>\n",
       "      <td>WSPM</td>\n",
       "      <td>0.0000</td>\n",
       "      <td>10.0</td>\n",
       "      <td>10.0000</td>\n",
       "      <td>1.8549</td>\n",
       "      <td>1.5</td>\n",
       "      <td>1.3107</td>\n",
       "    </tr>\n",
       "  </tbody>\n",
       "</table>\n",
       "</div>"
      ],
      "text/plain": [
       "   attributes       min      max      range       mean  median       std\n",
       "0       PM2.5    3.0000    881.0   878.0000    66.8456    41.0   73.4440\n",
       "1        PM10    2.0000    905.0   903.0000    84.1137    60.0   80.2409\n",
       "2         SO2    0.2856    156.0   155.7144    11.7978     5.0   15.6521\n",
       "3         NO2    1.0265    205.0   203.9735    27.3036    19.0   26.2964\n",
       "4          CO  100.0000  10000.0  9900.0000   925.1118   600.0  894.6746\n",
       "5          O3    0.2142    500.0   499.7858    70.5308    62.0   58.6238\n",
       "6        TEMP  -16.6000     41.4    58.0000    13.6716    14.6   11.3673\n",
       "7        PRES  982.4000   1036.5    54.1000  1007.7712  1007.4   10.2259\n",
       "8        DEWP  -35.1000     27.2    62.3000     1.4869     1.7   13.8287\n",
       "9        RAIN    0.0000     52.1    52.1000     0.0603     0.0    0.7523\n",
       "10       WSPM    0.0000     10.0    10.0000     1.8549     1.5    1.3107"
      ]
     },
     "metadata": {},
     "output_type": "display_data"
    },
    {
     "name": "stdout",
     "output_type": "stream",
     "text": [
      "---------------------------------------------------------------------------\n",
      "Dongsi\n"
     ]
    },
    {
     "data": {
      "text/html": [
       "<div>\n",
       "<style scoped>\n",
       "    .dataframe tbody tr th:only-of-type {\n",
       "        vertical-align: middle;\n",
       "    }\n",
       "\n",
       "    .dataframe tbody tr th {\n",
       "        vertical-align: top;\n",
       "    }\n",
       "\n",
       "    .dataframe thead th {\n",
       "        text-align: right;\n",
       "    }\n",
       "</style>\n",
       "<table border=\"1\" class=\"dataframe\">\n",
       "  <thead>\n",
       "    <tr style=\"text-align: right;\">\n",
       "      <th></th>\n",
       "      <th>attributes</th>\n",
       "      <th>min</th>\n",
       "      <th>max</th>\n",
       "      <th>range</th>\n",
       "      <th>mean</th>\n",
       "      <th>median</th>\n",
       "      <th>std</th>\n",
       "    </tr>\n",
       "  </thead>\n",
       "  <tbody>\n",
       "    <tr>\n",
       "      <th>0</th>\n",
       "      <td>PM2.5</td>\n",
       "      <td>3.0000</td>\n",
       "      <td>737.0</td>\n",
       "      <td>734.0000</td>\n",
       "      <td>86.1442</td>\n",
       "      <td>61.0</td>\n",
       "      <td>86.2590</td>\n",
       "    </tr>\n",
       "    <tr>\n",
       "      <th>1</th>\n",
       "      <td>PM10</td>\n",
       "      <td>2.0000</td>\n",
       "      <td>955.0</td>\n",
       "      <td>953.0000</td>\n",
       "      <td>110.3476</td>\n",
       "      <td>86.0</td>\n",
       "      <td>98.2385</td>\n",
       "    </tr>\n",
       "    <tr>\n",
       "      <th>2</th>\n",
       "      <td>SO2</td>\n",
       "      <td>0.2856</td>\n",
       "      <td>300.0</td>\n",
       "      <td>299.7144</td>\n",
       "      <td>18.5061</td>\n",
       "      <td>10.0</td>\n",
       "      <td>22.9544</td>\n",
       "    </tr>\n",
       "    <tr>\n",
       "      <th>3</th>\n",
       "      <td>NO2</td>\n",
       "      <td>2.0000</td>\n",
       "      <td>258.0</td>\n",
       "      <td>256.0000</td>\n",
       "      <td>53.9531</td>\n",
       "      <td>47.0</td>\n",
       "      <td>34.2128</td>\n",
       "    </tr>\n",
       "    <tr>\n",
       "      <th>4</th>\n",
       "      <td>CO</td>\n",
       "      <td>100.0000</td>\n",
       "      <td>10000.0</td>\n",
       "      <td>9900.0000</td>\n",
       "      <td>1331.9130</td>\n",
       "      <td>1000.0</td>\n",
       "      <td>1169.0186</td>\n",
       "    </tr>\n",
       "    <tr>\n",
       "      <th>5</th>\n",
       "      <td>O3</td>\n",
       "      <td>0.6426</td>\n",
       "      <td>1071.0</td>\n",
       "      <td>1070.3574</td>\n",
       "      <td>57.7004</td>\n",
       "      <td>45.0</td>\n",
       "      <td>58.3263</td>\n",
       "    </tr>\n",
       "    <tr>\n",
       "      <th>6</th>\n",
       "      <td>TEMP</td>\n",
       "      <td>-16.8000</td>\n",
       "      <td>41.1</td>\n",
       "      <td>57.9000</td>\n",
       "      <td>13.6682</td>\n",
       "      <td>14.6</td>\n",
       "      <td>11.4596</td>\n",
       "    </tr>\n",
       "    <tr>\n",
       "      <th>7</th>\n",
       "      <td>PRES</td>\n",
       "      <td>987.1000</td>\n",
       "      <td>1042.0</td>\n",
       "      <td>54.9000</td>\n",
       "      <td>1012.5519</td>\n",
       "      <td>1012.2</td>\n",
       "      <td>10.2663</td>\n",
       "    </tr>\n",
       "    <tr>\n",
       "      <th>8</th>\n",
       "      <td>DEWP</td>\n",
       "      <td>-35.3000</td>\n",
       "      <td>28.8</td>\n",
       "      <td>64.1000</td>\n",
       "      <td>2.4451</td>\n",
       "      <td>3.0</td>\n",
       "      <td>13.8117</td>\n",
       "    </tr>\n",
       "    <tr>\n",
       "      <th>9</th>\n",
       "      <td>RAIN</td>\n",
       "      <td>0.0000</td>\n",
       "      <td>46.4</td>\n",
       "      <td>46.4000</td>\n",
       "      <td>0.0640</td>\n",
       "      <td>0.0</td>\n",
       "      <td>0.7860</td>\n",
       "    </tr>\n",
       "    <tr>\n",
       "      <th>10</th>\n",
       "      <td>WSPM</td>\n",
       "      <td>0.0000</td>\n",
       "      <td>10.5</td>\n",
       "      <td>10.5000</td>\n",
       "      <td>1.8608</td>\n",
       "      <td>1.5</td>\n",
       "      <td>1.2804</td>\n",
       "    </tr>\n",
       "  </tbody>\n",
       "</table>\n",
       "</div>"
      ],
      "text/plain": [
       "   attributes       min      max      range       mean  median        std\n",
       "0       PM2.5    3.0000    737.0   734.0000    86.1442    61.0    86.2590\n",
       "1        PM10    2.0000    955.0   953.0000   110.3476    86.0    98.2385\n",
       "2         SO2    0.2856    300.0   299.7144    18.5061    10.0    22.9544\n",
       "3         NO2    2.0000    258.0   256.0000    53.9531    47.0    34.2128\n",
       "4          CO  100.0000  10000.0  9900.0000  1331.9130  1000.0  1169.0186\n",
       "5          O3    0.6426   1071.0  1070.3574    57.7004    45.0    58.3263\n",
       "6        TEMP  -16.8000     41.1    57.9000    13.6682    14.6    11.4596\n",
       "7        PRES  987.1000   1042.0    54.9000  1012.5519  1012.2    10.2663\n",
       "8        DEWP  -35.3000     28.8    64.1000     2.4451     3.0    13.8117\n",
       "9        RAIN    0.0000     46.4    46.4000     0.0640     0.0     0.7860\n",
       "10       WSPM    0.0000     10.5    10.5000     1.8608     1.5     1.2804"
      ]
     },
     "metadata": {},
     "output_type": "display_data"
    },
    {
     "name": "stdout",
     "output_type": "stream",
     "text": [
      "---------------------------------------------------------------------------\n",
      "Guanyuan\n"
     ]
    },
    {
     "data": {
      "text/html": [
       "<div>\n",
       "<style scoped>\n",
       "    .dataframe tbody tr th:only-of-type {\n",
       "        vertical-align: middle;\n",
       "    }\n",
       "\n",
       "    .dataframe tbody tr th {\n",
       "        vertical-align: top;\n",
       "    }\n",
       "\n",
       "    .dataframe thead th {\n",
       "        text-align: right;\n",
       "    }\n",
       "</style>\n",
       "<table border=\"1\" class=\"dataframe\">\n",
       "  <thead>\n",
       "    <tr style=\"text-align: right;\">\n",
       "      <th></th>\n",
       "      <th>attributes</th>\n",
       "      <th>min</th>\n",
       "      <th>max</th>\n",
       "      <th>range</th>\n",
       "      <th>mean</th>\n",
       "      <th>median</th>\n",
       "      <th>std</th>\n",
       "    </tr>\n",
       "  </thead>\n",
       "  <tbody>\n",
       "    <tr>\n",
       "      <th>0</th>\n",
       "      <td>PM2.5</td>\n",
       "      <td>2.0000</td>\n",
       "      <td>680.0</td>\n",
       "      <td>678.0000</td>\n",
       "      <td>82.8975</td>\n",
       "      <td>59.0</td>\n",
       "      <td>81.0691</td>\n",
       "    </tr>\n",
       "    <tr>\n",
       "      <th>1</th>\n",
       "      <td>PM10</td>\n",
       "      <td>2.0000</td>\n",
       "      <td>999.0</td>\n",
       "      <td>997.0000</td>\n",
       "      <td>109.3723</td>\n",
       "      <td>89.0</td>\n",
       "      <td>92.3396</td>\n",
       "    </tr>\n",
       "    <tr>\n",
       "      <th>2</th>\n",
       "      <td>SO2</td>\n",
       "      <td>1.0000</td>\n",
       "      <td>293.0</td>\n",
       "      <td>292.0000</td>\n",
       "      <td>17.6093</td>\n",
       "      <td>8.0</td>\n",
       "      <td>23.6312</td>\n",
       "    </tr>\n",
       "    <tr>\n",
       "      <th>3</th>\n",
       "      <td>NO2</td>\n",
       "      <td>2.0000</td>\n",
       "      <td>270.0</td>\n",
       "      <td>268.0000</td>\n",
       "      <td>58.1393</td>\n",
       "      <td>51.0</td>\n",
       "      <td>35.2097</td>\n",
       "    </tr>\n",
       "    <tr>\n",
       "      <th>4</th>\n",
       "      <td>CO</td>\n",
       "      <td>100.0000</td>\n",
       "      <td>10000.0</td>\n",
       "      <td>9900.0000</td>\n",
       "      <td>1258.3270</td>\n",
       "      <td>900.0</td>\n",
       "      <td>1151.6310</td>\n",
       "    </tr>\n",
       "    <tr>\n",
       "      <th>5</th>\n",
       "      <td>O3</td>\n",
       "      <td>0.2142</td>\n",
       "      <td>415.0</td>\n",
       "      <td>414.7858</td>\n",
       "      <td>54.8171</td>\n",
       "      <td>40.0</td>\n",
       "      <td>57.1984</td>\n",
       "    </tr>\n",
       "    <tr>\n",
       "      <th>6</th>\n",
       "      <td>TEMP</td>\n",
       "      <td>-16.8000</td>\n",
       "      <td>40.5</td>\n",
       "      <td>57.3000</td>\n",
       "      <td>13.5814</td>\n",
       "      <td>14.5</td>\n",
       "      <td>11.4003</td>\n",
       "    </tr>\n",
       "    <tr>\n",
       "      <th>7</th>\n",
       "      <td>PRES</td>\n",
       "      <td>985.9000</td>\n",
       "      <td>1042.0</td>\n",
       "      <td>56.1000</td>\n",
       "      <td>1011.8517</td>\n",
       "      <td>1011.4</td>\n",
       "      <td>10.4044</td>\n",
       "    </tr>\n",
       "    <tr>\n",
       "      <th>8</th>\n",
       "      <td>DEWP</td>\n",
       "      <td>-35.3000</td>\n",
       "      <td>28.5</td>\n",
       "      <td>63.8000</td>\n",
       "      <td>3.1203</td>\n",
       "      <td>3.8</td>\n",
       "      <td>13.6901</td>\n",
       "    </tr>\n",
       "    <tr>\n",
       "      <th>9</th>\n",
       "      <td>RAIN</td>\n",
       "      <td>0.0000</td>\n",
       "      <td>72.5</td>\n",
       "      <td>72.5000</td>\n",
       "      <td>0.0674</td>\n",
       "      <td>0.0</td>\n",
       "      <td>0.9098</td>\n",
       "    </tr>\n",
       "    <tr>\n",
       "      <th>10</th>\n",
       "      <td>WSPM</td>\n",
       "      <td>0.0000</td>\n",
       "      <td>11.2</td>\n",
       "      <td>11.2000</td>\n",
       "      <td>1.7086</td>\n",
       "      <td>1.4</td>\n",
       "      <td>1.2042</td>\n",
       "    </tr>\n",
       "  </tbody>\n",
       "</table>\n",
       "</div>"
      ],
      "text/plain": [
       "   attributes       min      max      range       mean  median        std\n",
       "0       PM2.5    2.0000    680.0   678.0000    82.8975    59.0    81.0691\n",
       "1        PM10    2.0000    999.0   997.0000   109.3723    89.0    92.3396\n",
       "2         SO2    1.0000    293.0   292.0000    17.6093     8.0    23.6312\n",
       "3         NO2    2.0000    270.0   268.0000    58.1393    51.0    35.2097\n",
       "4          CO  100.0000  10000.0  9900.0000  1258.3270   900.0  1151.6310\n",
       "5          O3    0.2142    415.0   414.7858    54.8171    40.0    57.1984\n",
       "6        TEMP  -16.8000     40.5    57.3000    13.5814    14.5    11.4003\n",
       "7        PRES  985.9000   1042.0    56.1000  1011.8517  1011.4    10.4044\n",
       "8        DEWP  -35.3000     28.5    63.8000     3.1203     3.8    13.6901\n",
       "9        RAIN    0.0000     72.5    72.5000     0.0674     0.0     0.9098\n",
       "10       WSPM    0.0000     11.2    11.2000     1.7086     1.4     1.2042"
      ]
     },
     "metadata": {},
     "output_type": "display_data"
    },
    {
     "name": "stdout",
     "output_type": "stream",
     "text": [
      "---------------------------------------------------------------------------\n",
      "Gucheng\n"
     ]
    },
    {
     "data": {
      "text/html": [
       "<div>\n",
       "<style scoped>\n",
       "    .dataframe tbody tr th:only-of-type {\n",
       "        vertical-align: middle;\n",
       "    }\n",
       "\n",
       "    .dataframe tbody tr th {\n",
       "        vertical-align: top;\n",
       "    }\n",
       "\n",
       "    .dataframe thead th {\n",
       "        text-align: right;\n",
       "    }\n",
       "</style>\n",
       "<table border=\"1\" class=\"dataframe\">\n",
       "  <thead>\n",
       "    <tr style=\"text-align: right;\">\n",
       "      <th></th>\n",
       "      <th>attributes</th>\n",
       "      <th>min</th>\n",
       "      <th>max</th>\n",
       "      <th>range</th>\n",
       "      <th>mean</th>\n",
       "      <th>median</th>\n",
       "      <th>std</th>\n",
       "    </tr>\n",
       "  </thead>\n",
       "  <tbody>\n",
       "    <tr>\n",
       "      <th>0</th>\n",
       "      <td>PM2.5</td>\n",
       "      <td>2.0000</td>\n",
       "      <td>770.0</td>\n",
       "      <td>768.0000</td>\n",
       "      <td>84.0748</td>\n",
       "      <td>60.0000</td>\n",
       "      <td>82.9935</td>\n",
       "    </tr>\n",
       "    <tr>\n",
       "      <th>1</th>\n",
       "      <td>PM10</td>\n",
       "      <td>2.0000</td>\n",
       "      <td>994.0</td>\n",
       "      <td>992.0000</td>\n",
       "      <td>119.2616</td>\n",
       "      <td>100.0000</td>\n",
       "      <td>97.5318</td>\n",
       "    </tr>\n",
       "    <tr>\n",
       "      <th>2</th>\n",
       "      <td>SO2</td>\n",
       "      <td>0.2856</td>\n",
       "      <td>500.0</td>\n",
       "      <td>499.7144</td>\n",
       "      <td>15.7058</td>\n",
       "      <td>7.0000</td>\n",
       "      <td>23.2823</td>\n",
       "    </tr>\n",
       "    <tr>\n",
       "      <th>3</th>\n",
       "      <td>NO2</td>\n",
       "      <td>2.0000</td>\n",
       "      <td>276.0</td>\n",
       "      <td>274.0000</td>\n",
       "      <td>55.8302</td>\n",
       "      <td>50.0000</td>\n",
       "      <td>36.5127</td>\n",
       "    </tr>\n",
       "    <tr>\n",
       "      <th>4</th>\n",
       "      <td>CO</td>\n",
       "      <td>100.0000</td>\n",
       "      <td>10000.0</td>\n",
       "      <td>9900.0000</td>\n",
       "      <td>1338.1001</td>\n",
       "      <td>985.7143</td>\n",
       "      <td>1214.0277</td>\n",
       "    </tr>\n",
       "    <tr>\n",
       "      <th>5</th>\n",
       "      <td>O3</td>\n",
       "      <td>0.2142</td>\n",
       "      <td>450.0</td>\n",
       "      <td>449.7858</td>\n",
       "      <td>58.0000</td>\n",
       "      <td>45.0000</td>\n",
       "      <td>57.1710</td>\n",
       "    </tr>\n",
       "    <tr>\n",
       "      <th>6</th>\n",
       "      <td>TEMP</td>\n",
       "      <td>-15.6000</td>\n",
       "      <td>41.6</td>\n",
       "      <td>57.2000</td>\n",
       "      <td>13.8558</td>\n",
       "      <td>14.8000</td>\n",
       "      <td>11.2948</td>\n",
       "    </tr>\n",
       "    <tr>\n",
       "      <th>7</th>\n",
       "      <td>PRES</td>\n",
       "      <td>984.0000</td>\n",
       "      <td>1038.1</td>\n",
       "      <td>54.1000</td>\n",
       "      <td>1008.8357</td>\n",
       "      <td>1008.5000</td>\n",
       "      <td>10.1042</td>\n",
       "    </tr>\n",
       "    <tr>\n",
       "      <th>8</th>\n",
       "      <td>DEWP</td>\n",
       "      <td>-34.6000</td>\n",
       "      <td>27.4</td>\n",
       "      <td>62.0000</td>\n",
       "      <td>2.6004</td>\n",
       "      <td>3.0000</td>\n",
       "      <td>13.7899</td>\n",
       "    </tr>\n",
       "    <tr>\n",
       "      <th>9</th>\n",
       "      <td>RAIN</td>\n",
       "      <td>0.0000</td>\n",
       "      <td>41.9</td>\n",
       "      <td>41.9000</td>\n",
       "      <td>0.0644</td>\n",
       "      <td>0.0000</td>\n",
       "      <td>0.8381</td>\n",
       "    </tr>\n",
       "    <tr>\n",
       "      <th>10</th>\n",
       "      <td>WSPM</td>\n",
       "      <td>0.0000</td>\n",
       "      <td>12.0</td>\n",
       "      <td>12.0000</td>\n",
       "      <td>1.3437</td>\n",
       "      <td>1.0000</td>\n",
       "      <td>1.1510</td>\n",
       "    </tr>\n",
       "  </tbody>\n",
       "</table>\n",
       "</div>"
      ],
      "text/plain": [
       "   attributes       min      max      range       mean     median        std\n",
       "0       PM2.5    2.0000    770.0   768.0000    84.0748    60.0000    82.9935\n",
       "1        PM10    2.0000    994.0   992.0000   119.2616   100.0000    97.5318\n",
       "2         SO2    0.2856    500.0   499.7144    15.7058     7.0000    23.2823\n",
       "3         NO2    2.0000    276.0   274.0000    55.8302    50.0000    36.5127\n",
       "4          CO  100.0000  10000.0  9900.0000  1338.1001   985.7143  1214.0277\n",
       "5          O3    0.2142    450.0   449.7858    58.0000    45.0000    57.1710\n",
       "6        TEMP  -15.6000     41.6    57.2000    13.8558    14.8000    11.2948\n",
       "7        PRES  984.0000   1038.1    54.1000  1008.8357  1008.5000    10.1042\n",
       "8        DEWP  -34.6000     27.4    62.0000     2.6004     3.0000    13.7899\n",
       "9        RAIN    0.0000     41.9    41.9000     0.0644     0.0000     0.8381\n",
       "10       WSPM    0.0000     12.0    12.0000     1.3437     1.0000     1.1510"
      ]
     },
     "metadata": {},
     "output_type": "display_data"
    },
    {
     "name": "stdout",
     "output_type": "stream",
     "text": [
      "---------------------------------------------------------------------------\n",
      "Huairou\n"
     ]
    },
    {
     "data": {
      "text/html": [
       "<div>\n",
       "<style scoped>\n",
       "    .dataframe tbody tr th:only-of-type {\n",
       "        vertical-align: middle;\n",
       "    }\n",
       "\n",
       "    .dataframe tbody tr th {\n",
       "        vertical-align: top;\n",
       "    }\n",
       "\n",
       "    .dataframe thead th {\n",
       "        text-align: right;\n",
       "    }\n",
       "</style>\n",
       "<table border=\"1\" class=\"dataframe\">\n",
       "  <thead>\n",
       "    <tr style=\"text-align: right;\">\n",
       "      <th></th>\n",
       "      <th>attributes</th>\n",
       "      <th>min</th>\n",
       "      <th>max</th>\n",
       "      <th>range</th>\n",
       "      <th>mean</th>\n",
       "      <th>median</th>\n",
       "      <th>std</th>\n",
       "    </tr>\n",
       "  </thead>\n",
       "  <tbody>\n",
       "    <tr>\n",
       "      <th>0</th>\n",
       "      <td>PM2.5</td>\n",
       "      <td>2.0000</td>\n",
       "      <td>762.0</td>\n",
       "      <td>760.0000</td>\n",
       "      <td>69.5017</td>\n",
       "      <td>47.0</td>\n",
       "      <td>70.9899</td>\n",
       "    </tr>\n",
       "    <tr>\n",
       "      <th>1</th>\n",
       "      <td>PM10</td>\n",
       "      <td>2.0000</td>\n",
       "      <td>993.0</td>\n",
       "      <td>991.0000</td>\n",
       "      <td>92.4227</td>\n",
       "      <td>69.0</td>\n",
       "      <td>84.7909</td>\n",
       "    </tr>\n",
       "    <tr>\n",
       "      <th>2</th>\n",
       "      <td>SO2</td>\n",
       "      <td>0.2856</td>\n",
       "      <td>315.0</td>\n",
       "      <td>314.7144</td>\n",
       "      <td>12.4467</td>\n",
       "      <td>4.0</td>\n",
       "      <td>19.3616</td>\n",
       "    </tr>\n",
       "    <tr>\n",
       "      <th>3</th>\n",
       "      <td>NO2</td>\n",
       "      <td>1.0265</td>\n",
       "      <td>231.0</td>\n",
       "      <td>229.9735</td>\n",
       "      <td>32.0773</td>\n",
       "      <td>25.0</td>\n",
       "      <td>26.2692</td>\n",
       "    </tr>\n",
       "    <tr>\n",
       "      <th>4</th>\n",
       "      <td>CO</td>\n",
       "      <td>100.0000</td>\n",
       "      <td>10000.0</td>\n",
       "      <td>9900.0000</td>\n",
       "      <td>1019.6719</td>\n",
       "      <td>800.0</td>\n",
       "      <td>890.5267</td>\n",
       "    </tr>\n",
       "    <tr>\n",
       "      <th>5</th>\n",
       "      <td>O3</td>\n",
       "      <td>0.2142</td>\n",
       "      <td>444.0</td>\n",
       "      <td>443.7858</td>\n",
       "      <td>60.8722</td>\n",
       "      <td>50.0</td>\n",
       "      <td>55.6194</td>\n",
       "    </tr>\n",
       "    <tr>\n",
       "      <th>6</th>\n",
       "      <td>TEMP</td>\n",
       "      <td>-19.9000</td>\n",
       "      <td>40.3</td>\n",
       "      <td>60.2000</td>\n",
       "      <td>12.4306</td>\n",
       "      <td>13.5</td>\n",
       "      <td>11.7542</td>\n",
       "    </tr>\n",
       "    <tr>\n",
       "      <th>7</th>\n",
       "      <td>PRES</td>\n",
       "      <td>982.8000</td>\n",
       "      <td>1036.5</td>\n",
       "      <td>53.7000</td>\n",
       "      <td>1007.6123</td>\n",
       "      <td>1007.3</td>\n",
       "      <td>10.0251</td>\n",
       "    </tr>\n",
       "    <tr>\n",
       "      <th>8</th>\n",
       "      <td>DEWP</td>\n",
       "      <td>-43.4000</td>\n",
       "      <td>29.1</td>\n",
       "      <td>72.5000</td>\n",
       "      <td>2.2188</td>\n",
       "      <td>2.7</td>\n",
       "      <td>14.0597</td>\n",
       "    </tr>\n",
       "    <tr>\n",
       "      <th>9</th>\n",
       "      <td>RAIN</td>\n",
       "      <td>0.0000</td>\n",
       "      <td>45.9</td>\n",
       "      <td>45.9000</td>\n",
       "      <td>0.0680</td>\n",
       "      <td>0.0</td>\n",
       "      <td>0.8485</td>\n",
       "    </tr>\n",
       "    <tr>\n",
       "      <th>10</th>\n",
       "      <td>WSPM</td>\n",
       "      <td>0.0000</td>\n",
       "      <td>12.9</td>\n",
       "      <td>12.9000</td>\n",
       "      <td>1.6528</td>\n",
       "      <td>1.3</td>\n",
       "      <td>1.2002</td>\n",
       "    </tr>\n",
       "  </tbody>\n",
       "</table>\n",
       "</div>"
      ],
      "text/plain": [
       "   attributes       min      max      range       mean  median       std\n",
       "0       PM2.5    2.0000    762.0   760.0000    69.5017    47.0   70.9899\n",
       "1        PM10    2.0000    993.0   991.0000    92.4227    69.0   84.7909\n",
       "2         SO2    0.2856    315.0   314.7144    12.4467     4.0   19.3616\n",
       "3         NO2    1.0265    231.0   229.9735    32.0773    25.0   26.2692\n",
       "4          CO  100.0000  10000.0  9900.0000  1019.6719   800.0  890.5267\n",
       "5          O3    0.2142    444.0   443.7858    60.8722    50.0   55.6194\n",
       "6        TEMP  -19.9000     40.3    60.2000    12.4306    13.5   11.7542\n",
       "7        PRES  982.8000   1036.5    53.7000  1007.6123  1007.3   10.0251\n",
       "8        DEWP  -43.4000     29.1    72.5000     2.2188     2.7   14.0597\n",
       "9        RAIN    0.0000     45.9    45.9000     0.0680     0.0    0.8485\n",
       "10       WSPM    0.0000     12.9    12.9000     1.6528     1.3    1.2002"
      ]
     },
     "metadata": {},
     "output_type": "display_data"
    },
    {
     "name": "stdout",
     "output_type": "stream",
     "text": [
      "---------------------------------------------------------------------------\n",
      "Nongzhanguan\n"
     ]
    },
    {
     "data": {
      "text/html": [
       "<div>\n",
       "<style scoped>\n",
       "    .dataframe tbody tr th:only-of-type {\n",
       "        vertical-align: middle;\n",
       "    }\n",
       "\n",
       "    .dataframe tbody tr th {\n",
       "        vertical-align: top;\n",
       "    }\n",
       "\n",
       "    .dataframe thead th {\n",
       "        text-align: right;\n",
       "    }\n",
       "</style>\n",
       "<table border=\"1\" class=\"dataframe\">\n",
       "  <thead>\n",
       "    <tr style=\"text-align: right;\">\n",
       "      <th></th>\n",
       "      <th>attributes</th>\n",
       "      <th>min</th>\n",
       "      <th>max</th>\n",
       "      <th>range</th>\n",
       "      <th>mean</th>\n",
       "      <th>median</th>\n",
       "      <th>std</th>\n",
       "    </tr>\n",
       "  </thead>\n",
       "  <tbody>\n",
       "    <tr>\n",
       "      <th>0</th>\n",
       "      <td>PM2.5</td>\n",
       "      <td>2.0000</td>\n",
       "      <td>844.0</td>\n",
       "      <td>842.0000</td>\n",
       "      <td>85.0795</td>\n",
       "      <td>59.0</td>\n",
       "      <td>86.6913</td>\n",
       "    </tr>\n",
       "    <tr>\n",
       "      <th>1</th>\n",
       "      <td>PM10</td>\n",
       "      <td>2.0000</td>\n",
       "      <td>995.0</td>\n",
       "      <td>993.0000</td>\n",
       "      <td>109.3840</td>\n",
       "      <td>85.0</td>\n",
       "      <td>96.0870</td>\n",
       "    </tr>\n",
       "    <tr>\n",
       "      <th>2</th>\n",
       "      <td>SO2</td>\n",
       "      <td>0.5712</td>\n",
       "      <td>257.0</td>\n",
       "      <td>256.4288</td>\n",
       "      <td>18.7601</td>\n",
       "      <td>9.0</td>\n",
       "      <td>24.3796</td>\n",
       "    </tr>\n",
       "    <tr>\n",
       "      <th>3</th>\n",
       "      <td>NO2</td>\n",
       "      <td>2.0000</td>\n",
       "      <td>273.0</td>\n",
       "      <td>271.0000</td>\n",
       "      <td>58.0951</td>\n",
       "      <td>51.0</td>\n",
       "      <td>36.3798</td>\n",
       "    </tr>\n",
       "    <tr>\n",
       "      <th>4</th>\n",
       "      <td>CO</td>\n",
       "      <td>100.0000</td>\n",
       "      <td>10000.0</td>\n",
       "      <td>9900.0000</td>\n",
       "      <td>1327.7676</td>\n",
       "      <td>900.0</td>\n",
       "      <td>1257.0808</td>\n",
       "    </tr>\n",
       "    <tr>\n",
       "      <th>5</th>\n",
       "      <td>O3</td>\n",
       "      <td>0.2142</td>\n",
       "      <td>390.0</td>\n",
       "      <td>389.7858</td>\n",
       "      <td>58.4329</td>\n",
       "      <td>45.0</td>\n",
       "      <td>58.3298</td>\n",
       "    </tr>\n",
       "    <tr>\n",
       "      <th>6</th>\n",
       "      <td>TEMP</td>\n",
       "      <td>-16.8000</td>\n",
       "      <td>41.1</td>\n",
       "      <td>57.9000</td>\n",
       "      <td>13.6682</td>\n",
       "      <td>14.6</td>\n",
       "      <td>11.4596</td>\n",
       "    </tr>\n",
       "    <tr>\n",
       "      <th>7</th>\n",
       "      <td>PRES</td>\n",
       "      <td>987.1000</td>\n",
       "      <td>1042.0</td>\n",
       "      <td>54.9000</td>\n",
       "      <td>1012.5519</td>\n",
       "      <td>1012.2</td>\n",
       "      <td>10.2663</td>\n",
       "    </tr>\n",
       "    <tr>\n",
       "      <th>8</th>\n",
       "      <td>DEWP</td>\n",
       "      <td>-35.3000</td>\n",
       "      <td>28.8</td>\n",
       "      <td>64.1000</td>\n",
       "      <td>2.4451</td>\n",
       "      <td>3.0</td>\n",
       "      <td>13.8117</td>\n",
       "    </tr>\n",
       "    <tr>\n",
       "      <th>9</th>\n",
       "      <td>RAIN</td>\n",
       "      <td>0.0000</td>\n",
       "      <td>46.4</td>\n",
       "      <td>46.4000</td>\n",
       "      <td>0.0640</td>\n",
       "      <td>0.0</td>\n",
       "      <td>0.7860</td>\n",
       "    </tr>\n",
       "    <tr>\n",
       "      <th>10</th>\n",
       "      <td>WSPM</td>\n",
       "      <td>0.0000</td>\n",
       "      <td>10.5</td>\n",
       "      <td>10.5000</td>\n",
       "      <td>1.8608</td>\n",
       "      <td>1.5</td>\n",
       "      <td>1.2804</td>\n",
       "    </tr>\n",
       "  </tbody>\n",
       "</table>\n",
       "</div>"
      ],
      "text/plain": [
       "   attributes       min      max      range       mean  median        std\n",
       "0       PM2.5    2.0000    844.0   842.0000    85.0795    59.0    86.6913\n",
       "1        PM10    2.0000    995.0   993.0000   109.3840    85.0    96.0870\n",
       "2         SO2    0.5712    257.0   256.4288    18.7601     9.0    24.3796\n",
       "3         NO2    2.0000    273.0   271.0000    58.0951    51.0    36.3798\n",
       "4          CO  100.0000  10000.0  9900.0000  1327.7676   900.0  1257.0808\n",
       "5          O3    0.2142    390.0   389.7858    58.4329    45.0    58.3298\n",
       "6        TEMP  -16.8000     41.1    57.9000    13.6682    14.6    11.4596\n",
       "7        PRES  987.1000   1042.0    54.9000  1012.5519  1012.2    10.2663\n",
       "8        DEWP  -35.3000     28.8    64.1000     2.4451     3.0    13.8117\n",
       "9        RAIN    0.0000     46.4    46.4000     0.0640     0.0     0.7860\n",
       "10       WSPM    0.0000     10.5    10.5000     1.8608     1.5     1.2804"
      ]
     },
     "metadata": {},
     "output_type": "display_data"
    },
    {
     "name": "stdout",
     "output_type": "stream",
     "text": [
      "---------------------------------------------------------------------------\n",
      "Shunyi\n"
     ]
    },
    {
     "data": {
      "text/html": [
       "<div>\n",
       "<style scoped>\n",
       "    .dataframe tbody tr th:only-of-type {\n",
       "        vertical-align: middle;\n",
       "    }\n",
       "\n",
       "    .dataframe tbody tr th {\n",
       "        vertical-align: top;\n",
       "    }\n",
       "\n",
       "    .dataframe thead th {\n",
       "        text-align: right;\n",
       "    }\n",
       "</style>\n",
       "<table border=\"1\" class=\"dataframe\">\n",
       "  <thead>\n",
       "    <tr style=\"text-align: right;\">\n",
       "      <th></th>\n",
       "      <th>attributes</th>\n",
       "      <th>min</th>\n",
       "      <th>max</th>\n",
       "      <th>range</th>\n",
       "      <th>mean</th>\n",
       "      <th>median</th>\n",
       "      <th>std</th>\n",
       "    </tr>\n",
       "  </thead>\n",
       "  <tbody>\n",
       "    <tr>\n",
       "      <th>0</th>\n",
       "      <td>PM2.5</td>\n",
       "      <td>2.0000</td>\n",
       "      <td>941.0000</td>\n",
       "      <td>939.0000</td>\n",
       "      <td>79.4380</td>\n",
       "      <td>55.0</td>\n",
       "      <td>81.4991</td>\n",
       "    </tr>\n",
       "    <tr>\n",
       "      <th>1</th>\n",
       "      <td>PM10</td>\n",
       "      <td>2.0000</td>\n",
       "      <td>999.0000</td>\n",
       "      <td>997.0000</td>\n",
       "      <td>99.2719</td>\n",
       "      <td>77.0</td>\n",
       "      <td>90.5777</td>\n",
       "    </tr>\n",
       "    <tr>\n",
       "      <th>2</th>\n",
       "      <td>SO2</td>\n",
       "      <td>0.2856</td>\n",
       "      <td>239.0000</td>\n",
       "      <td>238.7144</td>\n",
       "      <td>13.4460</td>\n",
       "      <td>5.0</td>\n",
       "      <td>19.4632</td>\n",
       "    </tr>\n",
       "    <tr>\n",
       "      <th>3</th>\n",
       "      <td>NO2</td>\n",
       "      <td>2.0000</td>\n",
       "      <td>258.0000</td>\n",
       "      <td>256.0000</td>\n",
       "      <td>44.0947</td>\n",
       "      <td>37.0</td>\n",
       "      <td>30.9073</td>\n",
       "    </tr>\n",
       "    <tr>\n",
       "      <th>4</th>\n",
       "      <td>CO</td>\n",
       "      <td>100.0000</td>\n",
       "      <td>10000.0000</td>\n",
       "      <td>9900.0000</td>\n",
       "      <td>1197.9047</td>\n",
       "      <td>900.0</td>\n",
       "      <td>1162.9043</td>\n",
       "    </tr>\n",
       "    <tr>\n",
       "      <th>5</th>\n",
       "      <td>O3</td>\n",
       "      <td>0.2142</td>\n",
       "      <td>351.7164</td>\n",
       "      <td>351.5022</td>\n",
       "      <td>54.2188</td>\n",
       "      <td>42.0</td>\n",
       "      <td>54.5919</td>\n",
       "    </tr>\n",
       "    <tr>\n",
       "      <th>6</th>\n",
       "      <td>TEMP</td>\n",
       "      <td>-16.8000</td>\n",
       "      <td>40.6000</td>\n",
       "      <td>57.4000</td>\n",
       "      <td>13.3755</td>\n",
       "      <td>14.4</td>\n",
       "      <td>11.4847</td>\n",
       "    </tr>\n",
       "    <tr>\n",
       "      <th>7</th>\n",
       "      <td>PRES</td>\n",
       "      <td>988.0000</td>\n",
       "      <td>1042.8000</td>\n",
       "      <td>54.8000</td>\n",
       "      <td>1013.0719</td>\n",
       "      <td>1012.8</td>\n",
       "      <td>10.1774</td>\n",
       "    </tr>\n",
       "    <tr>\n",
       "      <th>8</th>\n",
       "      <td>DEWP</td>\n",
       "      <td>-36.0000</td>\n",
       "      <td>27.5000</td>\n",
       "      <td>63.5000</td>\n",
       "      <td>2.4508</td>\n",
       "      <td>3.1</td>\n",
       "      <td>13.7323</td>\n",
       "    </tr>\n",
       "    <tr>\n",
       "      <th>9</th>\n",
       "      <td>RAIN</td>\n",
       "      <td>0.0000</td>\n",
       "      <td>37.3000</td>\n",
       "      <td>37.3000</td>\n",
       "      <td>0.0610</td>\n",
       "      <td>0.0</td>\n",
       "      <td>0.7611</td>\n",
       "    </tr>\n",
       "    <tr>\n",
       "      <th>10</th>\n",
       "      <td>WSPM</td>\n",
       "      <td>0.0000</td>\n",
       "      <td>12.8000</td>\n",
       "      <td>12.8000</td>\n",
       "      <td>1.8078</td>\n",
       "      <td>1.5</td>\n",
       "      <td>1.2875</td>\n",
       "    </tr>\n",
       "  </tbody>\n",
       "</table>\n",
       "</div>"
      ],
      "text/plain": [
       "   attributes       min         max      range       mean  median        std\n",
       "0       PM2.5    2.0000    941.0000   939.0000    79.4380    55.0    81.4991\n",
       "1        PM10    2.0000    999.0000   997.0000    99.2719    77.0    90.5777\n",
       "2         SO2    0.2856    239.0000   238.7144    13.4460     5.0    19.4632\n",
       "3         NO2    2.0000    258.0000   256.0000    44.0947    37.0    30.9073\n",
       "4          CO  100.0000  10000.0000  9900.0000  1197.9047   900.0  1162.9043\n",
       "5          O3    0.2142    351.7164   351.5022    54.2188    42.0    54.5919\n",
       "6        TEMP  -16.8000     40.6000    57.4000    13.3755    14.4    11.4847\n",
       "7        PRES  988.0000   1042.8000    54.8000  1013.0719  1012.8    10.1774\n",
       "8        DEWP  -36.0000     27.5000    63.5000     2.4508     3.1    13.7323\n",
       "9        RAIN    0.0000     37.3000    37.3000     0.0610     0.0     0.7611\n",
       "10       WSPM    0.0000     12.8000    12.8000     1.8078     1.5     1.2875"
      ]
     },
     "metadata": {},
     "output_type": "display_data"
    },
    {
     "name": "stdout",
     "output_type": "stream",
     "text": [
      "---------------------------------------------------------------------------\n",
      "Tiantan\n"
     ]
    },
    {
     "data": {
      "text/html": [
       "<div>\n",
       "<style scoped>\n",
       "    .dataframe tbody tr th:only-of-type {\n",
       "        vertical-align: middle;\n",
       "    }\n",
       "\n",
       "    .dataframe tbody tr th {\n",
       "        vertical-align: top;\n",
       "    }\n",
       "\n",
       "    .dataframe thead th {\n",
       "        text-align: right;\n",
       "    }\n",
       "</style>\n",
       "<table border=\"1\" class=\"dataframe\">\n",
       "  <thead>\n",
       "    <tr style=\"text-align: right;\">\n",
       "      <th></th>\n",
       "      <th>attributes</th>\n",
       "      <th>min</th>\n",
       "      <th>max</th>\n",
       "      <th>range</th>\n",
       "      <th>mean</th>\n",
       "      <th>median</th>\n",
       "      <th>std</th>\n",
       "    </tr>\n",
       "  </thead>\n",
       "  <tbody>\n",
       "    <tr>\n",
       "      <th>0</th>\n",
       "      <td>PM2.5</td>\n",
       "      <td>3.0000</td>\n",
       "      <td>821.0</td>\n",
       "      <td>818.0000</td>\n",
       "      <td>82.0331</td>\n",
       "      <td>58.0</td>\n",
       "      <td>80.8943</td>\n",
       "    </tr>\n",
       "    <tr>\n",
       "      <th>1</th>\n",
       "      <td>PM10</td>\n",
       "      <td>2.0000</td>\n",
       "      <td>988.0</td>\n",
       "      <td>986.0000</td>\n",
       "      <td>106.5371</td>\n",
       "      <td>85.0</td>\n",
       "      <td>90.2765</td>\n",
       "    </tr>\n",
       "    <tr>\n",
       "      <th>2</th>\n",
       "      <td>SO2</td>\n",
       "      <td>0.5712</td>\n",
       "      <td>273.0</td>\n",
       "      <td>272.4288</td>\n",
       "      <td>14.5100</td>\n",
       "      <td>7.0</td>\n",
       "      <td>20.2772</td>\n",
       "    </tr>\n",
       "    <tr>\n",
       "      <th>3</th>\n",
       "      <td>NO2</td>\n",
       "      <td>2.0000</td>\n",
       "      <td>241.0</td>\n",
       "      <td>239.0000</td>\n",
       "      <td>53.2588</td>\n",
       "      <td>47.0</td>\n",
       "      <td>32.0158</td>\n",
       "    </tr>\n",
       "    <tr>\n",
       "      <th>4</th>\n",
       "      <td>CO</td>\n",
       "      <td>100.0000</td>\n",
       "      <td>10000.0</td>\n",
       "      <td>9900.0000</td>\n",
       "      <td>1305.3333</td>\n",
       "      <td>900.0</td>\n",
       "      <td>1179.4332</td>\n",
       "    </tr>\n",
       "    <tr>\n",
       "      <th>5</th>\n",
       "      <td>O3</td>\n",
       "      <td>0.4284</td>\n",
       "      <td>674.0</td>\n",
       "      <td>673.5716</td>\n",
       "      <td>56.1481</td>\n",
       "      <td>40.0</td>\n",
       "      <td>59.4575</td>\n",
       "    </tr>\n",
       "    <tr>\n",
       "      <th>6</th>\n",
       "      <td>TEMP</td>\n",
       "      <td>-16.8000</td>\n",
       "      <td>41.1</td>\n",
       "      <td>57.9000</td>\n",
       "      <td>13.6682</td>\n",
       "      <td>14.6</td>\n",
       "      <td>11.4596</td>\n",
       "    </tr>\n",
       "    <tr>\n",
       "      <th>7</th>\n",
       "      <td>PRES</td>\n",
       "      <td>987.1000</td>\n",
       "      <td>1042.0</td>\n",
       "      <td>54.9000</td>\n",
       "      <td>1012.5519</td>\n",
       "      <td>1012.2</td>\n",
       "      <td>10.2663</td>\n",
       "    </tr>\n",
       "    <tr>\n",
       "      <th>8</th>\n",
       "      <td>DEWP</td>\n",
       "      <td>-35.3000</td>\n",
       "      <td>28.8</td>\n",
       "      <td>64.1000</td>\n",
       "      <td>2.4451</td>\n",
       "      <td>3.0</td>\n",
       "      <td>13.8117</td>\n",
       "    </tr>\n",
       "    <tr>\n",
       "      <th>9</th>\n",
       "      <td>RAIN</td>\n",
       "      <td>0.0000</td>\n",
       "      <td>46.4</td>\n",
       "      <td>46.4000</td>\n",
       "      <td>0.0640</td>\n",
       "      <td>0.0</td>\n",
       "      <td>0.7860</td>\n",
       "    </tr>\n",
       "    <tr>\n",
       "      <th>10</th>\n",
       "      <td>WSPM</td>\n",
       "      <td>0.0000</td>\n",
       "      <td>10.5</td>\n",
       "      <td>10.5000</td>\n",
       "      <td>1.8608</td>\n",
       "      <td>1.5</td>\n",
       "      <td>1.2804</td>\n",
       "    </tr>\n",
       "  </tbody>\n",
       "</table>\n",
       "</div>"
      ],
      "text/plain": [
       "   attributes       min      max      range       mean  median        std\n",
       "0       PM2.5    3.0000    821.0   818.0000    82.0331    58.0    80.8943\n",
       "1        PM10    2.0000    988.0   986.0000   106.5371    85.0    90.2765\n",
       "2         SO2    0.5712    273.0   272.4288    14.5100     7.0    20.2772\n",
       "3         NO2    2.0000    241.0   239.0000    53.2588    47.0    32.0158\n",
       "4          CO  100.0000  10000.0  9900.0000  1305.3333   900.0  1179.4332\n",
       "5          O3    0.4284    674.0   673.5716    56.1481    40.0    59.4575\n",
       "6        TEMP  -16.8000     41.1    57.9000    13.6682    14.6    11.4596\n",
       "7        PRES  987.1000   1042.0    54.9000  1012.5519  1012.2    10.2663\n",
       "8        DEWP  -35.3000     28.8    64.1000     2.4451     3.0    13.8117\n",
       "9        RAIN    0.0000     46.4    46.4000     0.0640     0.0     0.7860\n",
       "10       WSPM    0.0000     10.5    10.5000     1.8608     1.5     1.2804"
      ]
     },
     "metadata": {},
     "output_type": "display_data"
    },
    {
     "name": "stdout",
     "output_type": "stream",
     "text": [
      "---------------------------------------------------------------------------\n",
      "Wanliu\n"
     ]
    },
    {
     "data": {
      "text/html": [
       "<div>\n",
       "<style scoped>\n",
       "    .dataframe tbody tr th:only-of-type {\n",
       "        vertical-align: middle;\n",
       "    }\n",
       "\n",
       "    .dataframe tbody tr th {\n",
       "        vertical-align: top;\n",
       "    }\n",
       "\n",
       "    .dataframe thead th {\n",
       "        text-align: right;\n",
       "    }\n",
       "</style>\n",
       "<table border=\"1\" class=\"dataframe\">\n",
       "  <thead>\n",
       "    <tr style=\"text-align: right;\">\n",
       "      <th></th>\n",
       "      <th>attributes</th>\n",
       "      <th>min</th>\n",
       "      <th>max</th>\n",
       "      <th>range</th>\n",
       "      <th>mean</th>\n",
       "      <th>median</th>\n",
       "      <th>std</th>\n",
       "    </tr>\n",
       "  </thead>\n",
       "  <tbody>\n",
       "    <tr>\n",
       "      <th>0</th>\n",
       "      <td>PM2.5</td>\n",
       "      <td>2.0000</td>\n",
       "      <td>957.0</td>\n",
       "      <td>955.0000</td>\n",
       "      <td>83.4676</td>\n",
       "      <td>59.0</td>\n",
       "      <td>82.1239</td>\n",
       "    </tr>\n",
       "    <tr>\n",
       "      <th>1</th>\n",
       "      <td>PM10</td>\n",
       "      <td>2.0000</td>\n",
       "      <td>951.0</td>\n",
       "      <td>949.0000</td>\n",
       "      <td>110.7079</td>\n",
       "      <td>88.0</td>\n",
       "      <td>93.5383</td>\n",
       "    </tr>\n",
       "    <tr>\n",
       "      <th>2</th>\n",
       "      <td>SO2</td>\n",
       "      <td>0.2856</td>\n",
       "      <td>282.0</td>\n",
       "      <td>281.7144</td>\n",
       "      <td>18.4095</td>\n",
       "      <td>10.0</td>\n",
       "      <td>22.6796</td>\n",
       "    </tr>\n",
       "    <tr>\n",
       "      <th>3</th>\n",
       "      <td>NO2</td>\n",
       "      <td>1.6424</td>\n",
       "      <td>264.0</td>\n",
       "      <td>262.3576</td>\n",
       "      <td>65.6684</td>\n",
       "      <td>61.0</td>\n",
       "      <td>37.9664</td>\n",
       "    </tr>\n",
       "    <tr>\n",
       "      <th>4</th>\n",
       "      <td>CO</td>\n",
       "      <td>100.0000</td>\n",
       "      <td>10000.0</td>\n",
       "      <td>9900.0000</td>\n",
       "      <td>1328.7612</td>\n",
       "      <td>900.0</td>\n",
       "      <td>1263.2009</td>\n",
       "    </tr>\n",
       "    <tr>\n",
       "      <th>5</th>\n",
       "      <td>O3</td>\n",
       "      <td>0.2142</td>\n",
       "      <td>364.0</td>\n",
       "      <td>363.7858</td>\n",
       "      <td>46.9094</td>\n",
       "      <td>29.0</td>\n",
       "      <td>54.4509</td>\n",
       "    </tr>\n",
       "    <tr>\n",
       "      <th>6</th>\n",
       "      <td>TEMP</td>\n",
       "      <td>-15.8000</td>\n",
       "      <td>40.5</td>\n",
       "      <td>56.3000</td>\n",
       "      <td>13.4258</td>\n",
       "      <td>14.3</td>\n",
       "      <td>11.3480</td>\n",
       "    </tr>\n",
       "    <tr>\n",
       "      <th>7</th>\n",
       "      <td>PRES</td>\n",
       "      <td>985.9000</td>\n",
       "      <td>1040.3</td>\n",
       "      <td>54.4000</td>\n",
       "      <td>1011.1027</td>\n",
       "      <td>1010.8</td>\n",
       "      <td>10.3560</td>\n",
       "    </tr>\n",
       "    <tr>\n",
       "      <th>8</th>\n",
       "      <td>DEWP</td>\n",
       "      <td>-34.9000</td>\n",
       "      <td>28.5</td>\n",
       "      <td>63.4000</td>\n",
       "      <td>3.2638</td>\n",
       "      <td>4.0</td>\n",
       "      <td>13.6793</td>\n",
       "    </tr>\n",
       "    <tr>\n",
       "      <th>9</th>\n",
       "      <td>RAIN</td>\n",
       "      <td>0.0000</td>\n",
       "      <td>72.5</td>\n",
       "      <td>72.5000</td>\n",
       "      <td>0.0682</td>\n",
       "      <td>0.0</td>\n",
       "      <td>0.8965</td>\n",
       "    </tr>\n",
       "    <tr>\n",
       "      <th>10</th>\n",
       "      <td>WSPM</td>\n",
       "      <td>0.0000</td>\n",
       "      <td>11.2</td>\n",
       "      <td>11.2000</td>\n",
       "      <td>1.5014</td>\n",
       "      <td>1.2</td>\n",
       "      <td>1.1046</td>\n",
       "    </tr>\n",
       "  </tbody>\n",
       "</table>\n",
       "</div>"
      ],
      "text/plain": [
       "   attributes       min      max      range       mean  median        std\n",
       "0       PM2.5    2.0000    957.0   955.0000    83.4676    59.0    82.1239\n",
       "1        PM10    2.0000    951.0   949.0000   110.7079    88.0    93.5383\n",
       "2         SO2    0.2856    282.0   281.7144    18.4095    10.0    22.6796\n",
       "3         NO2    1.6424    264.0   262.3576    65.6684    61.0    37.9664\n",
       "4          CO  100.0000  10000.0  9900.0000  1328.7612   900.0  1263.2009\n",
       "5          O3    0.2142    364.0   363.7858    46.9094    29.0    54.4509\n",
       "6        TEMP  -15.8000     40.5    56.3000    13.4258    14.3    11.3480\n",
       "7        PRES  985.9000   1040.3    54.4000  1011.1027  1010.8    10.3560\n",
       "8        DEWP  -34.9000     28.5    63.4000     3.2638     4.0    13.6793\n",
       "9        RAIN    0.0000     72.5    72.5000     0.0682     0.0     0.8965\n",
       "10       WSPM    0.0000     11.2    11.2000     1.5014     1.2     1.1046"
      ]
     },
     "metadata": {},
     "output_type": "display_data"
    },
    {
     "name": "stdout",
     "output_type": "stream",
     "text": [
      "---------------------------------------------------------------------------\n",
      "Wanshouxigong\n"
     ]
    },
    {
     "data": {
      "text/html": [
       "<div>\n",
       "<style scoped>\n",
       "    .dataframe tbody tr th:only-of-type {\n",
       "        vertical-align: middle;\n",
       "    }\n",
       "\n",
       "    .dataframe tbody tr th {\n",
       "        vertical-align: top;\n",
       "    }\n",
       "\n",
       "    .dataframe thead th {\n",
       "        text-align: right;\n",
       "    }\n",
       "</style>\n",
       "<table border=\"1\" class=\"dataframe\">\n",
       "  <thead>\n",
       "    <tr style=\"text-align: right;\">\n",
       "      <th></th>\n",
       "      <th>attributes</th>\n",
       "      <th>min</th>\n",
       "      <th>max</th>\n",
       "      <th>range</th>\n",
       "      <th>mean</th>\n",
       "      <th>median</th>\n",
       "      <th>std</th>\n",
       "    </tr>\n",
       "  </thead>\n",
       "  <tbody>\n",
       "    <tr>\n",
       "      <th>0</th>\n",
       "      <td>PM2.5</td>\n",
       "      <td>3.0000</td>\n",
       "      <td>999.0</td>\n",
       "      <td>996.0000</td>\n",
       "      <td>85.0675</td>\n",
       "      <td>60.0</td>\n",
       "      <td>85.9985</td>\n",
       "    </tr>\n",
       "    <tr>\n",
       "      <th>1</th>\n",
       "      <td>PM10</td>\n",
       "      <td>2.0000</td>\n",
       "      <td>961.0</td>\n",
       "      <td>959.0000</td>\n",
       "      <td>112.5058</td>\n",
       "      <td>91.0</td>\n",
       "      <td>98.1307</td>\n",
       "    </tr>\n",
       "    <tr>\n",
       "      <th>2</th>\n",
       "      <td>SO2</td>\n",
       "      <td>0.2856</td>\n",
       "      <td>411.0</td>\n",
       "      <td>410.7144</td>\n",
       "      <td>17.3634</td>\n",
       "      <td>8.0</td>\n",
       "      <td>24.1713</td>\n",
       "    </tr>\n",
       "    <tr>\n",
       "      <th>3</th>\n",
       "      <td>NO2</td>\n",
       "      <td>2.0000</td>\n",
       "      <td>251.0</td>\n",
       "      <td>249.0000</td>\n",
       "      <td>55.4954</td>\n",
       "      <td>49.0</td>\n",
       "      <td>35.8325</td>\n",
       "    </tr>\n",
       "    <tr>\n",
       "      <th>4</th>\n",
       "      <td>CO</td>\n",
       "      <td>100.0000</td>\n",
       "      <td>9800.0</td>\n",
       "      <td>9700.0000</td>\n",
       "      <td>1373.6186</td>\n",
       "      <td>1000.0</td>\n",
       "      <td>1228.1440</td>\n",
       "    </tr>\n",
       "    <tr>\n",
       "      <th>5</th>\n",
       "      <td>O3</td>\n",
       "      <td>0.2142</td>\n",
       "      <td>358.0</td>\n",
       "      <td>357.7858</td>\n",
       "      <td>55.9200</td>\n",
       "      <td>42.0</td>\n",
       "      <td>57.1555</td>\n",
       "    </tr>\n",
       "    <tr>\n",
       "      <th>6</th>\n",
       "      <td>TEMP</td>\n",
       "      <td>-16.8000</td>\n",
       "      <td>40.6</td>\n",
       "      <td>57.4000</td>\n",
       "      <td>13.7818</td>\n",
       "      <td>14.8</td>\n",
       "      <td>11.3860</td>\n",
       "    </tr>\n",
       "    <tr>\n",
       "      <th>7</th>\n",
       "      <td>PRES</td>\n",
       "      <td>985.1000</td>\n",
       "      <td>1042.0</td>\n",
       "      <td>56.9000</td>\n",
       "      <td>1011.5162</td>\n",
       "      <td>1011.0</td>\n",
       "      <td>10.5710</td>\n",
       "    </tr>\n",
       "    <tr>\n",
       "      <th>8</th>\n",
       "      <td>DEWP</td>\n",
       "      <td>-35.3000</td>\n",
       "      <td>28.5</td>\n",
       "      <td>63.8000</td>\n",
       "      <td>2.7055</td>\n",
       "      <td>3.3</td>\n",
       "      <td>13.7049</td>\n",
       "    </tr>\n",
       "    <tr>\n",
       "      <th>9</th>\n",
       "      <td>RAIN</td>\n",
       "      <td>0.0000</td>\n",
       "      <td>46.4</td>\n",
       "      <td>46.4000</td>\n",
       "      <td>0.0643</td>\n",
       "      <td>0.0</td>\n",
       "      <td>0.7968</td>\n",
       "    </tr>\n",
       "    <tr>\n",
       "      <th>10</th>\n",
       "      <td>WSPM</td>\n",
       "      <td>0.0000</td>\n",
       "      <td>13.2</td>\n",
       "      <td>13.2000</td>\n",
       "      <td>1.7454</td>\n",
       "      <td>1.4</td>\n",
       "      <td>1.2064</td>\n",
       "    </tr>\n",
       "  </tbody>\n",
       "</table>\n",
       "</div>"
      ],
      "text/plain": [
       "   attributes       min     max      range       mean  median        std\n",
       "0       PM2.5    3.0000   999.0   996.0000    85.0675    60.0    85.9985\n",
       "1        PM10    2.0000   961.0   959.0000   112.5058    91.0    98.1307\n",
       "2         SO2    0.2856   411.0   410.7144    17.3634     8.0    24.1713\n",
       "3         NO2    2.0000   251.0   249.0000    55.4954    49.0    35.8325\n",
       "4          CO  100.0000  9800.0  9700.0000  1373.6186  1000.0  1228.1440\n",
       "5          O3    0.2142   358.0   357.7858    55.9200    42.0    57.1555\n",
       "6        TEMP  -16.8000    40.6    57.4000    13.7818    14.8    11.3860\n",
       "7        PRES  985.1000  1042.0    56.9000  1011.5162  1011.0    10.5710\n",
       "8        DEWP  -35.3000    28.5    63.8000     2.7055     3.3    13.7049\n",
       "9        RAIN    0.0000    46.4    46.4000     0.0643     0.0     0.7968\n",
       "10       WSPM    0.0000    13.2    13.2000     1.7454     1.4     1.2064"
      ]
     },
     "metadata": {},
     "output_type": "display_data"
    },
    {
     "name": "stdout",
     "output_type": "stream",
     "text": [
      "---------------------------------------------------------------------------\n"
     ]
    }
   ],
   "source": [
    "for station in stations:\n",
    "    print(station)\n",
    "    display(summary_stats(df_new[df_new['station'] == station][numerical]))\n",
    "    print('-'*75)"
   ]
  },
  {
   "cell_type": "markdown",
   "metadata": {},
   "source": [
    "### Eksplorasi data Kategorik (wd)\n",
    "\n",
    "Tahap ini akan melakukan eksplorasi terhadap data kategorik yang ada yaitu wd atau wind direction (arah angin)\\\n",
    "untuk detailnya, tahap ini akan menghitung jumlah untuk masing-masing arah angin untuk setiap stasiunnya.\n"
   ]
  },
  {
   "cell_type": "code",
   "execution_count": 26,
   "metadata": {},
   "outputs": [
    {
     "name": "stdout",
     "output_type": "stream",
     "text": [
      "Aotizhongxin\n"
     ]
    },
    {
     "name": "stdout",
     "output_type": "stream",
     "text": [
      "NE         5161 (14.72%)\n",
      "ENE        3956 (11.28%)\n",
      "SW          3377 (9.63%)\n",
      "E           2611 (7.45%)\n",
      "NNE         2446 (6.98%)\n",
      "WSW         2213 (6.31%)\n",
      "SSW         2099 (5.99%)\n",
      "N           2067 (5.89%)\n",
      "NW          1867 (5.32%)\n",
      "ESE         1719 (4.90%)\n",
      "NNW         1589 (4.53%)\n",
      "SE          1345 (3.84%)\n",
      "S           1304 (3.72%)\n",
      "W           1175 (3.35%)\n",
      "WNW         1102 (3.14%)\n",
      "SSE         1022 (2.91%)\n",
      "Unknown       11 (0.03%)\n",
      "----------------------\n",
      "Changping\n",
      "NNW        4791 (13.66%)\n",
      "NW         3868 (11.03%)\n",
      "N          3794 (10.82%)\n",
      "WNW         2887 (8.23%)\n",
      "ESE         2789 (7.95%)\n",
      "E           2432 (6.94%)\n",
      "NNE         1924 (5.49%)\n",
      "SSE         1856 (5.29%)\n",
      "SE          1829 (5.22%)\n",
      "NE          1736 (4.95%)\n",
      "S           1701 (4.85%)\n",
      "W           1418 (4.04%)\n",
      "ENE         1311 (3.74%)\n",
      "SSW         1128 (3.22%)\n",
      "SW           885 (2.52%)\n",
      "WSW          706 (2.01%)\n",
      "Unknown        9 (0.03%)\n",
      "----------------------\n",
      "Dingling\n",
      "NNW        4791 (13.66%)\n",
      "NW         3868 (11.03%)\n",
      "N          3794 (10.82%)\n",
      "WNW         2887 (8.23%)\n",
      "ESE         2789 (7.95%)\n",
      "E           2432 (6.94%)\n",
      "NNE         1924 (5.49%)\n",
      "SSE         1856 (5.29%)\n",
      "SE          1829 (5.22%)\n",
      "NE          1736 (4.95%)\n",
      "S           1701 (4.85%)\n",
      "W           1418 (4.04%)\n",
      "ENE         1311 (3.74%)\n",
      "SSW         1128 (3.22%)\n",
      "SW           885 (2.52%)\n",
      "WSW          706 (2.01%)\n",
      "Unknown        9 (0.03%)\n",
      "----------------------\n",
      "Dongsi\n",
      "ENE        3867 (11.03%)\n",
      "E          3567 (10.17%)\n",
      "NE         3560 (10.15%)\n",
      "ESE         2708 (7.72%)\n",
      "SW          2497 (7.12%)\n",
      "NW          2474 (7.06%)\n",
      "SSW         1954 (5.57%)\n",
      "NNE         1929 (5.50%)\n",
      "SE          1884 (5.37%)\n",
      "N           1866 (5.32%)\n",
      "WSW         1770 (5.05%)\n",
      "NNW         1693 (4.83%)\n",
      "S           1547 (4.41%)\n",
      "SSE         1402 (4.00%)\n",
      "WNW         1348 (3.84%)\n",
      "W            987 (2.81%)\n",
      "Unknown       11 (0.03%)\n",
      "----------------------\n",
      "Guanyuan\n",
      "NE         5161 (14.72%)\n",
      "ENE        3956 (11.28%)\n",
      "SW          3377 (9.63%)\n",
      "E           2611 (7.45%)\n",
      "NNE         2446 (6.98%)\n",
      "WSW         2213 (6.31%)\n",
      "SSW         2099 (5.99%)\n",
      "N           2067 (5.89%)\n",
      "NW          1867 (5.32%)\n",
      "ESE         1719 (4.90%)\n",
      "NNW         1589 (4.53%)\n",
      "SE          1345 (3.84%)\n",
      "S           1304 (3.72%)\n",
      "W           1175 (3.35%)\n",
      "WNW         1102 (3.14%)\n",
      "SSE         1022 (2.91%)\n",
      "Unknown       11 (0.03%)\n",
      "----------------------\n",
      "Gucheng\n",
      "N          3957 (11.29%)\n",
      "NE          3134 (8.94%)\n",
      "NW          2779 (7.93%)\n",
      "SSW         2768 (7.89%)\n",
      "NNE         2607 (7.43%)\n",
      "S           2346 (6.69%)\n",
      "W           2345 (6.69%)\n",
      "WNW         2095 (5.97%)\n",
      "SW          2000 (5.70%)\n",
      "ENE         1889 (5.39%)\n",
      "WSW         1626 (4.64%)\n",
      "NNW         1617 (4.61%)\n",
      "E           1613 (4.60%)\n",
      "SSE         1560 (4.45%)\n",
      "ESE         1358 (3.87%)\n",
      "SE          1353 (3.86%)\n",
      "Unknown       17 (0.05%)\n",
      "----------------------\n",
      "Huairou\n",
      "NW         5038 (14.37%)\n",
      "WNW        4899 (13.97%)\n",
      "NE          2274 (6.49%)\n",
      "E           2181 (6.22%)\n",
      "W           2150 (6.13%)\n",
      "SE          2129 (6.07%)\n",
      "ENE         2038 (5.81%)\n",
      "ESE         2034 (5.80%)\n",
      "SW          1815 (5.18%)\n",
      "NNE         1695 (4.83%)\n",
      "NNW         1680 (4.79%)\n",
      "SSE         1575 (4.49%)\n",
      "WSW         1473 (4.20%)\n",
      "N           1376 (3.92%)\n",
      "SSW         1351 (3.85%)\n",
      "S           1334 (3.80%)\n",
      "Unknown       22 (0.06%)\n",
      "----------------------\n",
      "Nongzhanguan\n",
      "ENE        3867 (11.03%)\n",
      "E          3567 (10.17%)\n",
      "NE         3560 (10.15%)\n",
      "ESE         2708 (7.72%)\n",
      "SW          2497 (7.12%)\n",
      "NW          2474 (7.06%)\n",
      "SSW         1954 (5.57%)\n",
      "NNE         1929 (5.50%)\n",
      "SE          1884 (5.37%)\n",
      "N           1866 (5.32%)\n",
      "WSW         1770 (5.05%)\n",
      "NNW         1693 (4.83%)\n",
      "S           1547 (4.41%)\n",
      "SSE         1402 (4.00%)\n",
      "WNW         1348 (3.84%)\n",
      "W            987 (2.81%)\n",
      "Unknown       11 (0.03%)\n",
      "----------------------\n",
      "Shunyi\n",
      "NNE        4604 (13.13%)\n",
      "N          3920 (11.18%)\n",
      "NE          3431 (9.78%)\n",
      "SSE         2985 (8.51%)\n",
      "SE          2687 (7.66%)\n",
      "S           2632 (7.51%)\n",
      "NW          2475 (7.06%)\n",
      "WNW         2075 (5.92%)\n",
      "NNW         1679 (4.79%)\n",
      "SSW         1603 (4.57%)\n",
      "ENE         1421 (4.05%)\n",
      "ESE         1387 (3.96%)\n",
      "W           1208 (3.45%)\n",
      "E           1163 (3.32%)\n",
      "SW           998 (2.85%)\n",
      "WSW          753 (2.15%)\n",
      "Unknown       43 (0.12%)\n",
      "----------------------\n",
      "Tiantan\n",
      "ENE        3867 (11.03%)\n",
      "E          3567 (10.17%)\n",
      "NE         3560 (10.15%)\n",
      "ESE         2708 (7.72%)\n",
      "SW          2497 (7.12%)\n",
      "NW          2474 (7.06%)\n",
      "SSW         1954 (5.57%)\n",
      "NNE         1929 (5.50%)\n",
      "SE          1884 (5.37%)\n",
      "N           1866 (5.32%)\n",
      "WSW         1770 (5.05%)\n",
      "NNW         1693 (4.83%)\n",
      "S           1547 (4.41%)\n",
      "SSE         1402 (4.00%)\n",
      "WNW         1348 (3.84%)\n",
      "W            987 (2.81%)\n",
      "Unknown       11 (0.03%)\n",
      "----------------------\n",
      "Wanliu\n",
      "NE         6742 (19.23%)\n",
      "SW         4671 (13.32%)\n",
      "ENE        3643 (10.39%)\n",
      "NNE         3333 (9.51%)\n",
      "N           3221 (9.19%)\n",
      "WSW         2533 (7.22%)\n",
      "SSW         2103 (6.00%)\n",
      "NNW         1398 (3.99%)\n",
      "W           1336 (3.81%)\n",
      "E           1265 (3.61%)\n",
      "NW          1117 (3.19%)\n",
      "S            969 (2.76%)\n",
      "WNW          816 (2.33%)\n",
      "SE           712 (2.03%)\n",
      "SSE          616 (1.76%)\n",
      "ESE          572 (1.63%)\n",
      "Unknown       17 (0.05%)\n",
      "----------------------\n",
      "Wanshouxigong\n",
      "NE         3588 (10.23%)\n",
      "SW          3444 (9.82%)\n",
      "ENE         3085 (8.80%)\n",
      "E           2810 (8.01%)\n",
      "WNW         2566 (7.32%)\n",
      "NW          2559 (7.30%)\n",
      "WSW         2547 (7.26%)\n",
      "W           2469 (7.04%)\n",
      "SSW         2458 (7.01%)\n",
      "ESE         1774 (5.06%)\n",
      "NNE         1565 (4.46%)\n",
      "S           1506 (4.30%)\n",
      "SE          1283 (3.66%)\n",
      "NNW         1187 (3.39%)\n",
      "N           1177 (3.36%)\n",
      "SSE         1035 (2.95%)\n",
      "Unknown       11 (0.03%)\n",
      "----------------------\n"
     ]
    }
   ],
   "source": [
    "for station in stations:\n",
    "    st_len = len(df_new[df_new['station'] == station])\n",
    "    print(station)\n",
    "    print(df_new[df_new['station'] == station]['wd'].value_counts().map(lambda x: f'{x} ({x / st_len * 100:.2f}%)').to_string())\n",
    "    print('-'*22)"
   ]
  },
  {
   "attachments": {},
   "cell_type": "markdown",
   "metadata": {},
   "source": [
    "## Visualization & Explanatory Analysis"
   ]
  },
  {
   "cell_type": "markdown",
   "metadata": {},
   "source": [
    "### Pertanyaan 1: Bagaimana bulan dengan kualitas udara terbaik dan terburuk untuk setiap tahunnya, dilihat pada variabel yang yang menggambarkan AQI seperti PM2.5, PM10, SO2, NO2, CO, dan O3?"
   ]
  },
  {
   "cell_type": "markdown",
   "metadata": {},
   "source": [
    "#### PM2.5 (Particulate Matter 2.5)"
   ]
  },
  {
   "cell_type": "code",
   "execution_count": 27,
   "metadata": {},
   "outputs": [
    {
     "data": {
      "application/vnd.plotly.v1+json": {
       "config": {
        "plotlyServerURL": "https://plot.ly"
       },
       "data": [
        {
         "mode": "lines",
         "name": "Aotizhongxin",
         "type": "scatter",
         "x": [
          "2013-03-01T00:00:00",
          "2013-04-01T00:00:00",
          "2013-05-01T00:00:00",
          "2013-06-01T00:00:00",
          "2013-07-01T00:00:00",
          "2013-08-01T00:00:00",
          "2013-09-01T00:00:00",
          "2013-10-01T00:00:00",
          "2013-11-01T00:00:00",
          "2013-12-01T00:00:00",
          "2014-01-01T00:00:00",
          "2014-02-01T00:00:00",
          "2014-03-01T00:00:00",
          "2014-04-01T00:00:00",
          "2014-05-01T00:00:00",
          "2014-06-01T00:00:00",
          "2014-07-01T00:00:00",
          "2014-08-01T00:00:00",
          "2014-09-01T00:00:00",
          "2014-10-01T00:00:00",
          "2014-11-01T00:00:00",
          "2014-12-01T00:00:00",
          "2015-01-01T00:00:00",
          "2015-02-01T00:00:00",
          "2015-03-01T00:00:00",
          "2015-04-01T00:00:00",
          "2015-05-01T00:00:00",
          "2015-06-01T00:00:00",
          "2015-07-01T00:00:00",
          "2015-08-01T00:00:00",
          "2015-09-01T00:00:00",
          "2015-10-01T00:00:00",
          "2015-11-01T00:00:00",
          "2015-12-01T00:00:00",
          "2016-01-01T00:00:00",
          "2016-02-01T00:00:00",
          "2016-03-01T00:00:00",
          "2016-04-01T00:00:00",
          "2016-05-01T00:00:00",
          "2016-06-01T00:00:00",
          "2016-07-01T00:00:00",
          "2016-08-01T00:00:00",
          "2016-09-01T00:00:00",
          "2016-10-01T00:00:00",
          "2016-11-01T00:00:00",
          "2016-12-01T00:00:00",
          "2017-01-01T00:00:00",
          "2017-02-01T00:00:00"
         ],
         "y": [
          110.09274193548387,
          62.75138888888889,
          85.39448924731182,
          106.20347222222222,
          68.91129032258064,
          62.28965053763441,
          79.32708333333333,
          95.28225806451613,
          77.28263888888888,
          76.72177419354838,
          95.37903225806451,
          149.55580357142858,
          98.93817204301075,
          102.76597222222222,
          71.40201612903226,
          60.00972222222222,
          93.21505376344086,
          68.12970430107526,
          69.97680555555556,
          130.43548387096774,
          93.80291666666668,
          48.10215053763441,
          91.04986559139786,
          85.18824404761905,
          87.53803763440861,
          77.26805555555555,
          59.19018817204301,
          61.88263888888889,
          66.29368279569893,
          46.73118279569893,
          52.47013888888889,
          77.81586021505376,
          122.78819444444444,
          153.67271505376345,
          67.66599462365592,
          44.70330459770115,
          103.17809139784946,
          71.10972222222222,
          53.36290322580645,
          57.298611111111114,
          71.14247311827957,
          46.25672043010753,
          55.826388888888886,
          85.3635752688172,
          100.30277777777778,
          132.32392473118279,
          115.56182795698925,
          70.92708333333333
         ]
        },
        {
         "mode": "lines",
         "name": "Changping",
         "type": "scatter",
         "x": [
          "2013-03-01T00:00:00",
          "2013-04-01T00:00:00",
          "2013-05-01T00:00:00",
          "2013-06-01T00:00:00",
          "2013-07-01T00:00:00",
          "2013-08-01T00:00:00",
          "2013-09-01T00:00:00",
          "2013-10-01T00:00:00",
          "2013-11-01T00:00:00",
          "2013-12-01T00:00:00",
          "2014-01-01T00:00:00",
          "2014-02-01T00:00:00",
          "2014-03-01T00:00:00",
          "2014-04-01T00:00:00",
          "2014-05-01T00:00:00",
          "2014-06-01T00:00:00",
          "2014-07-01T00:00:00",
          "2014-08-01T00:00:00",
          "2014-09-01T00:00:00",
          "2014-10-01T00:00:00",
          "2014-11-01T00:00:00",
          "2014-12-01T00:00:00",
          "2015-01-01T00:00:00",
          "2015-02-01T00:00:00",
          "2015-03-01T00:00:00",
          "2015-04-01T00:00:00",
          "2015-05-01T00:00:00",
          "2015-06-01T00:00:00",
          "2015-07-01T00:00:00",
          "2015-08-01T00:00:00",
          "2015-09-01T00:00:00",
          "2015-10-01T00:00:00",
          "2015-11-01T00:00:00",
          "2015-12-01T00:00:00",
          "2016-01-01T00:00:00",
          "2016-02-01T00:00:00",
          "2016-03-01T00:00:00",
          "2016-04-01T00:00:00",
          "2016-05-01T00:00:00",
          "2016-06-01T00:00:00",
          "2016-07-01T00:00:00",
          "2016-08-01T00:00:00",
          "2016-09-01T00:00:00",
          "2016-10-01T00:00:00",
          "2016-11-01T00:00:00",
          "2016-12-01T00:00:00",
          "2017-01-01T00:00:00",
          "2017-02-01T00:00:00"
         ],
         "y": [
          98.91666666666667,
          59.44444444444444,
          82.98252688172043,
          81.06111111111112,
          61.97715053763441,
          55.350806451612904,
          73.30277777777778,
          82.48924731182795,
          60.77916666666667,
          67.14516129032258,
          88.14717741935483,
          144.25372023809524,
          86,
          103.95902777777778,
          53.94569892473118,
          46.04375,
          76.96975806451613,
          56.550134408602155,
          60.41875,
          118.40120967741936,
          76.82694444444445,
          52.256048387096776,
          96.25793010752687,
          86.73660714285714,
          78.03662634408602,
          61.25347222222222,
          54.556451612903224,
          58.05486111111111,
          56.08467741935484,
          38.62096774193548,
          42.927083333333336,
          43.758736559139784,
          90.53958333333334,
          120.16935483870968,
          54.682123655913976,
          38.41954022988506,
          73.0524193548387,
          56.84861111111111,
          50.92352150537634,
          52.90680555555556,
          54.86357526881721,
          36.66599462365591,
          44.55694444444445,
          79.75201612903226,
          85.78611111111111,
          109.81922043010752,
          98.30779569892474,
          59.31547619047619
         ]
        },
        {
         "mode": "lines",
         "name": "Dingling",
         "type": "scatter",
         "x": [
          "2013-03-01T00:00:00",
          "2013-04-01T00:00:00",
          "2013-05-01T00:00:00",
          "2013-06-01T00:00:00",
          "2013-07-01T00:00:00",
          "2013-08-01T00:00:00",
          "2013-09-01T00:00:00",
          "2013-10-01T00:00:00",
          "2013-11-01T00:00:00",
          "2013-12-01T00:00:00",
          "2014-01-01T00:00:00",
          "2014-02-01T00:00:00",
          "2014-03-01T00:00:00",
          "2014-04-01T00:00:00",
          "2014-05-01T00:00:00",
          "2014-06-01T00:00:00",
          "2014-07-01T00:00:00",
          "2014-08-01T00:00:00",
          "2014-09-01T00:00:00",
          "2014-10-01T00:00:00",
          "2014-11-01T00:00:00",
          "2014-12-01T00:00:00",
          "2015-01-01T00:00:00",
          "2015-02-01T00:00:00",
          "2015-03-01T00:00:00",
          "2015-04-01T00:00:00",
          "2015-05-01T00:00:00",
          "2015-06-01T00:00:00",
          "2015-07-01T00:00:00",
          "2015-08-01T00:00:00",
          "2015-09-01T00:00:00",
          "2015-10-01T00:00:00",
          "2015-11-01T00:00:00",
          "2015-12-01T00:00:00",
          "2016-01-01T00:00:00",
          "2016-02-01T00:00:00",
          "2016-03-01T00:00:00",
          "2016-04-01T00:00:00",
          "2016-05-01T00:00:00",
          "2016-06-01T00:00:00",
          "2016-07-01T00:00:00",
          "2016-08-01T00:00:00",
          "2016-09-01T00:00:00",
          "2016-10-01T00:00:00",
          "2016-11-01T00:00:00",
          "2016-12-01T00:00:00",
          "2017-01-01T00:00:00",
          "2017-02-01T00:00:00"
         ],
         "y": [
          95.70564516129032,
          55.7,
          70.63373655913979,
          86.34232456140352,
          57.91334182229768,
          49.791666666666664,
          63.535037878787875,
          72.97146871945259,
          47.30694444444445,
          51.854166666666664,
          73.08400537634408,
          158.68824404761904,
          83.51478494623656,
          90.14027777777778,
          48.0925219941349,
          39.63453282828283,
          79.5845430107527,
          51.40712365591398,
          54.02583333333333,
          116.91465053763442,
          71.24555555555555,
          47.88754480286739,
          84.92213261648746,
          81.00744047619048,
          75.05604838709677,
          56.34138888888889,
          45.88911290322581,
          51.02888888888889,
          49.486559139784944,
          35.079301075268816,
          37.770833333333336,
          52.47715053763441,
          85.22638888888889,
          118.69153225806451,
          53.200940860215056,
          35.36206896551724,
          82.6633064516129,
          60.83541666666667,
          52.60215053763441,
          49.05555555555556,
          57.368951612903224,
          37.19018817204301,
          42.233333333333334,
          97.02486559139786,
          75.79722222222222,
          94.77217741935483,
          81.66666666666667,
          53.46279761904762
         ]
        },
        {
         "mode": "lines",
         "name": "Dongsi",
         "type": "scatter",
         "x": [
          "2013-03-01T00:00:00",
          "2013-04-01T00:00:00",
          "2013-05-01T00:00:00",
          "2013-06-01T00:00:00",
          "2013-07-01T00:00:00",
          "2013-08-01T00:00:00",
          "2013-09-01T00:00:00",
          "2013-10-01T00:00:00",
          "2013-11-01T00:00:00",
          "2013-12-01T00:00:00",
          "2014-01-01T00:00:00",
          "2014-02-01T00:00:00",
          "2014-03-01T00:00:00",
          "2014-04-01T00:00:00",
          "2014-05-01T00:00:00",
          "2014-06-01T00:00:00",
          "2014-07-01T00:00:00",
          "2014-08-01T00:00:00",
          "2014-09-01T00:00:00",
          "2014-10-01T00:00:00",
          "2014-11-01T00:00:00",
          "2014-12-01T00:00:00",
          "2015-01-01T00:00:00",
          "2015-02-01T00:00:00",
          "2015-03-01T00:00:00",
          "2015-04-01T00:00:00",
          "2015-05-01T00:00:00",
          "2015-06-01T00:00:00",
          "2015-07-01T00:00:00",
          "2015-08-01T00:00:00",
          "2015-09-01T00:00:00",
          "2015-10-01T00:00:00",
          "2015-11-01T00:00:00",
          "2015-12-01T00:00:00",
          "2016-01-01T00:00:00",
          "2016-02-01T00:00:00",
          "2016-03-01T00:00:00",
          "2016-04-01T00:00:00",
          "2016-05-01T00:00:00",
          "2016-06-01T00:00:00",
          "2016-07-01T00:00:00",
          "2016-08-01T00:00:00",
          "2016-09-01T00:00:00",
          "2016-10-01T00:00:00",
          "2016-11-01T00:00:00",
          "2016-12-01T00:00:00",
          "2017-01-01T00:00:00",
          "2017-02-01T00:00:00"
         ],
         "y": [
          108.41397849462365,
          65.28055555555555,
          91.39247311827957,
          109.45277777777778,
          72.96774193548387,
          63.98924731182796,
          85.27083333333333,
          102.6149193548387,
          82.94166666666666,
          85.68145161290323,
          104.1377688172043,
          154.6547619047619,
          99.87096774193549,
          89.88125,
          63.65443548387097,
          57.704166666666666,
          98.8736559139785,
          69.45860215053763,
          67.66444444444444,
          116.89314516129032,
          81.74805555555555,
          55.891263440860214,
          101.0108870967742,
          108.99627976190476,
          93.3440188172043,
          77.17430555555555,
          60.3125,
          66.44027777777778,
          69.10282258064517,
          49.578629032258064,
          54.420833333333334,
          80.07930107526882,
          125.1375,
          161.24529569892474,
          69.35349462365592,
          43.17097701149425,
          98.70766129032258,
          77.04097222222222,
          63.41263440860215,
          66.01666666666667,
          80.51814516129032,
          50.9744623655914,
          60.239583333333336,
          92.07728494623656,
          108.28680555555556,
          149.68548387096774,
          126.86559139784946,
          74.93526785714286
         ]
        },
        {
         "mode": "lines",
         "name": "Guanyuan",
         "type": "scatter",
         "x": [
          "2013-03-01T00:00:00",
          "2013-04-01T00:00:00",
          "2013-05-01T00:00:00",
          "2013-06-01T00:00:00",
          "2013-07-01T00:00:00",
          "2013-08-01T00:00:00",
          "2013-09-01T00:00:00",
          "2013-10-01T00:00:00",
          "2013-11-01T00:00:00",
          "2013-12-01T00:00:00",
          "2014-01-01T00:00:00",
          "2014-02-01T00:00:00",
          "2014-03-01T00:00:00",
          "2014-04-01T00:00:00",
          "2014-05-01T00:00:00",
          "2014-06-01T00:00:00",
          "2014-07-01T00:00:00",
          "2014-08-01T00:00:00",
          "2014-09-01T00:00:00",
          "2014-10-01T00:00:00",
          "2014-11-01T00:00:00",
          "2014-12-01T00:00:00",
          "2015-01-01T00:00:00",
          "2015-02-01T00:00:00",
          "2015-03-01T00:00:00",
          "2015-04-01T00:00:00",
          "2015-05-01T00:00:00",
          "2015-06-01T00:00:00",
          "2015-07-01T00:00:00",
          "2015-08-01T00:00:00",
          "2015-09-01T00:00:00",
          "2015-10-01T00:00:00",
          "2015-11-01T00:00:00",
          "2015-12-01T00:00:00",
          "2016-01-01T00:00:00",
          "2016-02-01T00:00:00",
          "2016-03-01T00:00:00",
          "2016-04-01T00:00:00",
          "2016-05-01T00:00:00",
          "2016-06-01T00:00:00",
          "2016-07-01T00:00:00",
          "2016-08-01T00:00:00",
          "2016-09-01T00:00:00",
          "2016-10-01T00:00:00",
          "2016-11-01T00:00:00",
          "2016-12-01T00:00:00",
          "2017-01-01T00:00:00",
          "2017-02-01T00:00:00"
         ],
         "y": [
          102.71908602150538,
          59.33263888888889,
          80.55779569892474,
          107.01527777777778,
          65.99260752688173,
          61.564516129032256,
          80.00625,
          96.49059139784946,
          79.46388888888889,
          83.3508064516129,
          100.87231182795699,
          150.15699404761904,
          94.81989247311827,
          89.99375,
          63.34314516129032,
          59.579861111111114,
          85.88978494623656,
          72.0633064516129,
          70.28013888888889,
          129.62432795698925,
          89.37180555555555,
          60.8494623655914,
          94.84032258064516,
          93.1264880952381,
          85.12123655913977,
          72.56180555555555,
          54.707661290322584,
          62.422222222222224,
          67.38104838709677,
          51.20564516129032,
          53.31527777777778,
          75.25403225806451,
          120.8236111111111,
          155.24126344086022,
          67.23521505376344,
          41.0323275862069,
          95.07661290322581,
          73.27291666666666,
          56.946236559139784,
          66.20208333333333,
          80.11895161290323,
          48.990591397849464,
          57.24861111111111,
          87.02956989247312,
          107.03125,
          142.92271505376345,
          116.23387096774194,
          71.57291666666667
         ]
        },
        {
         "mode": "lines",
         "name": "Gucheng",
         "type": "scatter",
         "x": [
          "2013-03-01T00:00:00",
          "2013-04-01T00:00:00",
          "2013-05-01T00:00:00",
          "2013-06-01T00:00:00",
          "2013-07-01T00:00:00",
          "2013-08-01T00:00:00",
          "2013-09-01T00:00:00",
          "2013-10-01T00:00:00",
          "2013-11-01T00:00:00",
          "2013-12-01T00:00:00",
          "2014-01-01T00:00:00",
          "2014-02-01T00:00:00",
          "2014-03-01T00:00:00",
          "2014-04-01T00:00:00",
          "2014-05-01T00:00:00",
          "2014-06-01T00:00:00",
          "2014-07-01T00:00:00",
          "2014-08-01T00:00:00",
          "2014-09-01T00:00:00",
          "2014-10-01T00:00:00",
          "2014-11-01T00:00:00",
          "2014-12-01T00:00:00",
          "2015-01-01T00:00:00",
          "2015-02-01T00:00:00",
          "2015-03-01T00:00:00",
          "2015-04-01T00:00:00",
          "2015-05-01T00:00:00",
          "2015-06-01T00:00:00",
          "2015-07-01T00:00:00",
          "2015-08-01T00:00:00",
          "2015-09-01T00:00:00",
          "2015-10-01T00:00:00",
          "2015-11-01T00:00:00",
          "2015-12-01T00:00:00",
          "2016-01-01T00:00:00",
          "2016-02-01T00:00:00",
          "2016-03-01T00:00:00",
          "2016-04-01T00:00:00",
          "2016-05-01T00:00:00",
          "2016-06-01T00:00:00",
          "2016-07-01T00:00:00",
          "2016-08-01T00:00:00",
          "2016-09-01T00:00:00",
          "2016-10-01T00:00:00",
          "2016-11-01T00:00:00",
          "2016-12-01T00:00:00",
          "2017-01-01T00:00:00",
          "2017-02-01T00:00:00"
         ],
         "y": [
          108.84139784946237,
          65.07291666666667,
          82.61021505376344,
          103.26527777777778,
          61.69086021505376,
          58.63306451612903,
          80.39722222222223,
          95.9502688172043,
          77.21805555555555,
          81.3024193548387,
          105.77755376344086,
          155.27232142857142,
          99.48185483870968,
          101.21944444444445,
          69.90241935483871,
          56.94166666666667,
          90.59341397849462,
          65.3358870967742,
          72.10097222222223,
          124.53494623655914,
          90.15597222222223,
          60.188844086021504,
          95.42620967741937,
          95.34375,
          88.17399193548387,
          71.93055555555556,
          58.07392473118279,
          63.02013888888889,
          61.56518817204301,
          46.383736559139784,
          49.92916666666667,
          77.63575268817205,
          131.99791666666667,
          165.2923387096774,
          76.36088709677419,
          43.74568965517241,
          98.71034946236558,
          72.11111111111111,
          59.448476702508955,
          64.60462962962963,
          70.34946236559139,
          48.27150537634409,
          60.77013888888889,
          93.1760752688172,
          105.3013888888889,
          134.0013440860215,
          126.54905913978494,
          72.65029761904762
         ]
        },
        {
         "mode": "lines",
         "name": "Huairou",
         "type": "scatter",
         "x": [
          "2013-03-01T00:00:00",
          "2013-04-01T00:00:00",
          "2013-05-01T00:00:00",
          "2013-06-01T00:00:00",
          "2013-07-01T00:00:00",
          "2013-08-01T00:00:00",
          "2013-09-01T00:00:00",
          "2013-10-01T00:00:00",
          "2013-11-01T00:00:00",
          "2013-12-01T00:00:00",
          "2014-01-01T00:00:00",
          "2014-02-01T00:00:00",
          "2014-03-01T00:00:00",
          "2014-04-01T00:00:00",
          "2014-05-01T00:00:00",
          "2014-06-01T00:00:00",
          "2014-07-01T00:00:00",
          "2014-08-01T00:00:00",
          "2014-09-01T00:00:00",
          "2014-10-01T00:00:00",
          "2014-11-01T00:00:00",
          "2014-12-01T00:00:00",
          "2015-01-01T00:00:00",
          "2015-02-01T00:00:00",
          "2015-03-01T00:00:00",
          "2015-04-01T00:00:00",
          "2015-05-01T00:00:00",
          "2015-06-01T00:00:00",
          "2015-07-01T00:00:00",
          "2015-08-01T00:00:00",
          "2015-09-01T00:00:00",
          "2015-10-01T00:00:00",
          "2015-11-01T00:00:00",
          "2015-12-01T00:00:00",
          "2016-01-01T00:00:00",
          "2016-02-01T00:00:00",
          "2016-03-01T00:00:00",
          "2016-04-01T00:00:00",
          "2016-05-01T00:00:00",
          "2016-06-01T00:00:00",
          "2016-07-01T00:00:00",
          "2016-08-01T00:00:00",
          "2016-09-01T00:00:00",
          "2016-10-01T00:00:00",
          "2016-11-01T00:00:00",
          "2016-12-01T00:00:00",
          "2017-01-01T00:00:00",
          "2017-02-01T00:00:00"
         ],
         "y": [
          95.83602150537635,
          57.355555555555554,
          76.6135752688172,
          74.8125,
          62.0994623655914,
          56.19758064516129,
          68.97777777777777,
          77.41061827956989,
          58.49583333333333,
          57.913978494623656,
          86.53293010752688,
          150.96354166666666,
          90.44825268817205,
          84.81319444444445,
          51.418860100663466,
          45.77634456264775,
          96.39422043010754,
          55.29220430107527,
          60.00625,
          96.28763440860214,
          67.68548611111112,
          45.6244623655914,
          79.8649193548387,
          80.33645833333333,
          86.34415322580645,
          72.26458333333333,
          52.09092741935484,
          53.62361111111111,
          52.14784946236559,
          38.196908602150536,
          42.81736111111111,
          63.060483870967744,
          97.42361111111111,
          128.27083333333334,
          58.55174731182796,
          38.57183908045977,
          82.93279569892474,
          57.510416666666664,
          48.19153225806452,
          46.90208333333333,
          58.36290322580645,
          41.38642473118279,
          44.450694444444444,
          78.1633064516129,
          82.92777777777778,
          91.25873655913979,
          88.70228494623656,
          57.439732142857146
         ]
        },
        {
         "mode": "lines",
         "name": "Nongzhanguan",
         "type": "scatter",
         "x": [
          "2013-03-01T00:00:00",
          "2013-04-01T00:00:00",
          "2013-05-01T00:00:00",
          "2013-06-01T00:00:00",
          "2013-07-01T00:00:00",
          "2013-08-01T00:00:00",
          "2013-09-01T00:00:00",
          "2013-10-01T00:00:00",
          "2013-11-01T00:00:00",
          "2013-12-01T00:00:00",
          "2014-01-01T00:00:00",
          "2014-02-01T00:00:00",
          "2014-03-01T00:00:00",
          "2014-04-01T00:00:00",
          "2014-05-01T00:00:00",
          "2014-06-01T00:00:00",
          "2014-07-01T00:00:00",
          "2014-08-01T00:00:00",
          "2014-09-01T00:00:00",
          "2014-10-01T00:00:00",
          "2014-11-01T00:00:00",
          "2014-12-01T00:00:00",
          "2015-01-01T00:00:00",
          "2015-02-01T00:00:00",
          "2015-03-01T00:00:00",
          "2015-04-01T00:00:00",
          "2015-05-01T00:00:00",
          "2015-06-01T00:00:00",
          "2015-07-01T00:00:00",
          "2015-08-01T00:00:00",
          "2015-09-01T00:00:00",
          "2015-10-01T00:00:00",
          "2015-11-01T00:00:00",
          "2015-12-01T00:00:00",
          "2016-01-01T00:00:00",
          "2016-02-01T00:00:00",
          "2016-03-01T00:00:00",
          "2016-04-01T00:00:00",
          "2016-05-01T00:00:00",
          "2016-06-01T00:00:00",
          "2016-07-01T00:00:00",
          "2016-08-01T00:00:00",
          "2016-09-01T00:00:00",
          "2016-10-01T00:00:00",
          "2016-11-01T00:00:00",
          "2016-12-01T00:00:00",
          "2017-01-01T00:00:00",
          "2017-02-01T00:00:00"
         ],
         "y": [
          106.77016129032258,
          57.35,
          77.24731182795699,
          108.32013888888889,
          75.43548387096774,
          68.15456989247312,
          82.11805555555556,
          96.91532258064517,
          83.35138888888889,
          87.91196236559139,
          106.12567204301075,
          156.47395833333334,
          100.23588709677419,
          86.75486111111111,
          68.09811827956989,
          56.84166666666667,
          84.35053763440861,
          60.74327956989247,
          63.97138888888889,
          136.997311827957,
          110.75625,
          77.26545698924731,
          108.11438172043012,
          101.24479166666667,
          95.4600806451613,
          79.09305555555555,
          59.153225806451616,
          64,
          56.71370967741935,
          41.82661290322581,
          51.010416666666664,
          78.85819892473118,
          126.19583333333334,
          161.36895161290323,
          70.11559139784946,
          43.19683908045977,
          93.6633064516129,
          72.28263888888888,
          54.19959677419355,
          61.475,
          71.08870967741936,
          49.2130376344086,
          59.46388888888889,
          86.43010752688173,
          104.80416666666666,
          144.8978494623656,
          123.67943548387096,
          75.94866071428571
         ]
        },
        {
         "mode": "lines",
         "name": "Shunyi",
         "type": "scatter",
         "x": [
          "2013-03-01T00:00:00",
          "2013-04-01T00:00:00",
          "2013-05-01T00:00:00",
          "2013-06-01T00:00:00",
          "2013-07-01T00:00:00",
          "2013-08-01T00:00:00",
          "2013-09-01T00:00:00",
          "2013-10-01T00:00:00",
          "2013-11-01T00:00:00",
          "2013-12-01T00:00:00",
          "2014-01-01T00:00:00",
          "2014-02-01T00:00:00",
          "2014-03-01T00:00:00",
          "2014-04-01T00:00:00",
          "2014-05-01T00:00:00",
          "2014-06-01T00:00:00",
          "2014-07-01T00:00:00",
          "2014-08-01T00:00:00",
          "2014-09-01T00:00:00",
          "2014-10-01T00:00:00",
          "2014-11-01T00:00:00",
          "2014-12-01T00:00:00",
          "2015-01-01T00:00:00",
          "2015-02-01T00:00:00",
          "2015-03-01T00:00:00",
          "2015-04-01T00:00:00",
          "2015-05-01T00:00:00",
          "2015-06-01T00:00:00",
          "2015-07-01T00:00:00",
          "2015-08-01T00:00:00",
          "2015-09-01T00:00:00",
          "2015-10-01T00:00:00",
          "2015-11-01T00:00:00",
          "2015-12-01T00:00:00",
          "2016-01-01T00:00:00",
          "2016-02-01T00:00:00",
          "2016-03-01T00:00:00",
          "2016-04-01T00:00:00",
          "2016-05-01T00:00:00",
          "2016-06-01T00:00:00",
          "2016-07-01T00:00:00",
          "2016-08-01T00:00:00",
          "2016-09-01T00:00:00",
          "2016-10-01T00:00:00",
          "2016-11-01T00:00:00",
          "2016-12-01T00:00:00",
          "2017-01-01T00:00:00",
          "2017-02-01T00:00:00"
         ],
         "y": [
          104.6364247311828,
          57.78125,
          79.92405913978494,
          105.725,
          61.924731182795696,
          60.41532258064516,
          72.48333333333333,
          83.16129032258064,
          66.9576388888889,
          64.45430107526882,
          93.64247311827957,
          161.18675595238096,
          97.76075268817205,
          87.9263888888889,
          64.37379032258065,
          55.82083333333333,
          95.29247311827957,
          62.567338709677415,
          68.20277777777778,
          108.21505376344086,
          81.26763888888888,
          51.85631720430107,
          99.03736559139786,
          91.83333333333333,
          87.92338709677419,
          74.1125,
          58.14045698924731,
          64.65388888888889,
          62.15860215053763,
          43.66599462365591,
          48.62569444444444,
          75.27352150537635,
          116.9,
          155.45833333333334,
          70.51545698924731,
          49.27442528735632,
          97.71572580645162,
          75.62777777777778,
          56.84879032258065,
          56.13611111111111,
          63.69422043010753,
          46.64650537634409,
          54.666666666666664,
          81.39247311827957,
          93.98333333333333,
          118.4274193548387,
          117.86827956989248,
          70.23214285714286
         ]
        },
        {
         "mode": "lines",
         "name": "Tiantan",
         "type": "scatter",
         "x": [
          "2013-03-01T00:00:00",
          "2013-04-01T00:00:00",
          "2013-05-01T00:00:00",
          "2013-06-01T00:00:00",
          "2013-07-01T00:00:00",
          "2013-08-01T00:00:00",
          "2013-09-01T00:00:00",
          "2013-10-01T00:00:00",
          "2013-11-01T00:00:00",
          "2013-12-01T00:00:00",
          "2014-01-01T00:00:00",
          "2014-02-01T00:00:00",
          "2014-03-01T00:00:00",
          "2014-04-01T00:00:00",
          "2014-05-01T00:00:00",
          "2014-06-01T00:00:00",
          "2014-07-01T00:00:00",
          "2014-08-01T00:00:00",
          "2014-09-01T00:00:00",
          "2014-10-01T00:00:00",
          "2014-11-01T00:00:00",
          "2014-12-01T00:00:00",
          "2015-01-01T00:00:00",
          "2015-02-01T00:00:00",
          "2015-03-01T00:00:00",
          "2015-04-01T00:00:00",
          "2015-05-01T00:00:00",
          "2015-06-01T00:00:00",
          "2015-07-01T00:00:00",
          "2015-08-01T00:00:00",
          "2015-09-01T00:00:00",
          "2015-10-01T00:00:00",
          "2015-11-01T00:00:00",
          "2015-12-01T00:00:00",
          "2016-01-01T00:00:00",
          "2016-02-01T00:00:00",
          "2016-03-01T00:00:00",
          "2016-04-01T00:00:00",
          "2016-05-01T00:00:00",
          "2016-06-01T00:00:00",
          "2016-07-01T00:00:00",
          "2016-08-01T00:00:00",
          "2016-09-01T00:00:00",
          "2016-10-01T00:00:00",
          "2016-11-01T00:00:00",
          "2016-12-01T00:00:00",
          "2017-01-01T00:00:00",
          "2017-02-01T00:00:00"
         ],
         "y": [
          105.95900537634408,
          60.97361111111111,
          80.4133064516129,
          110.45902777777778,
          69.29838709677419,
          64.23790322580645,
          80.15694444444445,
          95.06317204301075,
          80.3861111111111,
          85.1263440860215,
          99.91868279569893,
          144.4233630952381,
          94.1774193548387,
          85.29861111111111,
          63.52486559139785,
          60.356944444444444,
          91.8877688172043,
          65.8771505376344,
          68.29722222222222,
          114.52620967741936,
          88.86111111111111,
          67.2986559139785,
          101.55551075268818,
          96.31175595238095,
          87.60940860215054,
          73.30208333333333,
          53.60349462365591,
          62.145833333333336,
          63.80107526881721,
          47.37231182795699,
          49.30416666666667,
          71.94825268817205,
          121.15694444444445,
          157.4616935483871,
          71.58803763440861,
          44.742097701149426,
          90.49260752688173,
          65.8125,
          48.961021505376344,
          62.451388888888886,
          71.19153225806451,
          48.28360215053763,
          56.415277777777774,
          80.39650537634408,
          99.84583333333333,
          143.21370967741936,
          121.5241935483871,
          71.78125
         ]
        },
        {
         "mode": "lines",
         "name": "Wanliu",
         "type": "scatter",
         "x": [
          "2013-03-01T00:00:00",
          "2013-04-01T00:00:00",
          "2013-05-01T00:00:00",
          "2013-06-01T00:00:00",
          "2013-07-01T00:00:00",
          "2013-08-01T00:00:00",
          "2013-09-01T00:00:00",
          "2013-10-01T00:00:00",
          "2013-11-01T00:00:00",
          "2013-12-01T00:00:00",
          "2014-01-01T00:00:00",
          "2014-02-01T00:00:00",
          "2014-03-01T00:00:00",
          "2014-04-01T00:00:00",
          "2014-05-01T00:00:00",
          "2014-06-01T00:00:00",
          "2014-07-01T00:00:00",
          "2014-08-01T00:00:00",
          "2014-09-01T00:00:00",
          "2014-10-01T00:00:00",
          "2014-11-01T00:00:00",
          "2014-12-01T00:00:00",
          "2015-01-01T00:00:00",
          "2015-02-01T00:00:00",
          "2015-03-01T00:00:00",
          "2015-04-01T00:00:00",
          "2015-05-01T00:00:00",
          "2015-06-01T00:00:00",
          "2015-07-01T00:00:00",
          "2015-08-01T00:00:00",
          "2015-09-01T00:00:00",
          "2015-10-01T00:00:00",
          "2015-11-01T00:00:00",
          "2015-12-01T00:00:00",
          "2016-01-01T00:00:00",
          "2016-02-01T00:00:00",
          "2016-03-01T00:00:00",
          "2016-04-01T00:00:00",
          "2016-05-01T00:00:00",
          "2016-06-01T00:00:00",
          "2016-07-01T00:00:00",
          "2016-08-01T00:00:00",
          "2016-09-01T00:00:00",
          "2016-10-01T00:00:00",
          "2016-11-01T00:00:00",
          "2016-12-01T00:00:00",
          "2017-01-01T00:00:00",
          "2017-02-01T00:00:00"
         ],
         "y": [
          110.27284946236558,
          66.54166666666667,
          92.97849462365592,
          119.98055555555555,
          75.71438172043011,
          67.03696236559139,
          86.82083333333334,
          103.8508064516129,
          87.34652777777778,
          104.1491935483871,
          110.05376344086021,
          162.28199404761904,
          98.7385752688172,
          92.45625,
          63.70403225806452,
          56.48125,
          91.1989247311828,
          66.04529569892473,
          66.12805555555555,
          127.55510752688173,
          92.55097222222221,
          62.480510752688176,
          98.09153225806452,
          93.65327380952381,
          84.3331317204301,
          74.32291666666667,
          58.534274193548384,
          61.450694444444444,
          65.01680107526882,
          47.04435483870968,
          49.425,
          68.59408602150538,
          113.16944444444445,
          149.6747311827957,
          67.05779569892474,
          43.21192528735632,
          94.92204301075269,
          61.981944444444444,
          52.590053763440864,
          58.31875,
          70.86290322580645,
          45.203629032258064,
          53.10486111111111,
          82.3635752688172,
          98.79444444444445,
          126.52822580645162,
          115.72647849462365,
          69.66517857142857
         ]
        },
        {
         "mode": "lines",
         "name": "Wanshouxigong",
         "type": "scatter",
         "x": [
          "2013-03-01T00:00:00",
          "2013-04-01T00:00:00",
          "2013-05-01T00:00:00",
          "2013-06-01T00:00:00",
          "2013-07-01T00:00:00",
          "2013-08-01T00:00:00",
          "2013-09-01T00:00:00",
          "2013-10-01T00:00:00",
          "2013-11-01T00:00:00",
          "2013-12-01T00:00:00",
          "2014-01-01T00:00:00",
          "2014-02-01T00:00:00",
          "2014-03-01T00:00:00",
          "2014-04-01T00:00:00",
          "2014-05-01T00:00:00",
          "2014-06-01T00:00:00",
          "2014-07-01T00:00:00",
          "2014-08-01T00:00:00",
          "2014-09-01T00:00:00",
          "2014-10-01T00:00:00",
          "2014-11-01T00:00:00",
          "2014-12-01T00:00:00",
          "2015-01-01T00:00:00",
          "2015-02-01T00:00:00",
          "2015-03-01T00:00:00",
          "2015-04-01T00:00:00",
          "2015-05-01T00:00:00",
          "2015-06-01T00:00:00",
          "2015-07-01T00:00:00",
          "2015-08-01T00:00:00",
          "2015-09-01T00:00:00",
          "2015-10-01T00:00:00",
          "2015-11-01T00:00:00",
          "2015-12-01T00:00:00",
          "2016-01-01T00:00:00",
          "2016-02-01T00:00:00",
          "2016-03-01T00:00:00",
          "2016-04-01T00:00:00",
          "2016-05-01T00:00:00",
          "2016-06-01T00:00:00",
          "2016-07-01T00:00:00",
          "2016-08-01T00:00:00",
          "2016-09-01T00:00:00",
          "2016-10-01T00:00:00",
          "2016-11-01T00:00:00",
          "2016-12-01T00:00:00",
          "2017-01-01T00:00:00",
          "2017-02-01T00:00:00"
         ],
         "y": [
          106.6989247311828,
          78.90347222222222,
          81.77016129032258,
          105.86944444444444,
          68.15053763440861,
          59.399193548387096,
          61.2875,
          98.98387096774194,
          84.32222222222222,
          92.30712365591398,
          117.00940860215054,
          157.7938988095238,
          98.74260752688173,
          86.69375,
          64.66787634408603,
          58.03611111111111,
          85.52755376344086,
          64.42137096774194,
          73.93791666666667,
          112.1236559139785,
          103.08722222222222,
          68.96196236559139,
          103.30147849462367,
          103.15997023809524,
          87.66935483870968,
          72.45,
          54.47782258064516,
          59.297916666666666,
          61.66599462365591,
          45.938844086021504,
          53.08263888888889,
          76.83736559139786,
          125.73055555555555,
          168.67405913978496,
          75.26814516129032,
          48.43247126436781,
          95.20967741935483,
          66.72430555555556,
          55.112231182795696,
          63.079861111111114,
          74.42002688172043,
          50.663978494623656,
          58.72222222222222,
          83.90658602150538,
          106.3875,
          156.94758064516128,
          132.07258064516128,
          77.68675595238095
         ]
        }
       ],
       "layout": {
        "plot_bgcolor": "white",
        "showlegend": true,
        "template": {
         "data": {
          "bar": [
           {
            "error_x": {
             "color": "#2a3f5f"
            },
            "error_y": {
             "color": "#2a3f5f"
            },
            "marker": {
             "line": {
              "color": "#E5ECF6",
              "width": 0.5
             },
             "pattern": {
              "fillmode": "overlay",
              "size": 10,
              "solidity": 0.2
             }
            },
            "type": "bar"
           }
          ],
          "barpolar": [
           {
            "marker": {
             "line": {
              "color": "#E5ECF6",
              "width": 0.5
             },
             "pattern": {
              "fillmode": "overlay",
              "size": 10,
              "solidity": 0.2
             }
            },
            "type": "barpolar"
           }
          ],
          "carpet": [
           {
            "aaxis": {
             "endlinecolor": "#2a3f5f",
             "gridcolor": "white",
             "linecolor": "white",
             "minorgridcolor": "white",
             "startlinecolor": "#2a3f5f"
            },
            "baxis": {
             "endlinecolor": "#2a3f5f",
             "gridcolor": "white",
             "linecolor": "white",
             "minorgridcolor": "white",
             "startlinecolor": "#2a3f5f"
            },
            "type": "carpet"
           }
          ],
          "choropleth": [
           {
            "colorbar": {
             "outlinewidth": 0,
             "ticks": ""
            },
            "type": "choropleth"
           }
          ],
          "contour": [
           {
            "colorbar": {
             "outlinewidth": 0,
             "ticks": ""
            },
            "colorscale": [
             [
              0,
              "#0d0887"
             ],
             [
              0.1111111111111111,
              "#46039f"
             ],
             [
              0.2222222222222222,
              "#7201a8"
             ],
             [
              0.3333333333333333,
              "#9c179e"
             ],
             [
              0.4444444444444444,
              "#bd3786"
             ],
             [
              0.5555555555555556,
              "#d8576b"
             ],
             [
              0.6666666666666666,
              "#ed7953"
             ],
             [
              0.7777777777777778,
              "#fb9f3a"
             ],
             [
              0.8888888888888888,
              "#fdca26"
             ],
             [
              1,
              "#f0f921"
             ]
            ],
            "type": "contour"
           }
          ],
          "contourcarpet": [
           {
            "colorbar": {
             "outlinewidth": 0,
             "ticks": ""
            },
            "type": "contourcarpet"
           }
          ],
          "heatmap": [
           {
            "colorbar": {
             "outlinewidth": 0,
             "ticks": ""
            },
            "colorscale": [
             [
              0,
              "#0d0887"
             ],
             [
              0.1111111111111111,
              "#46039f"
             ],
             [
              0.2222222222222222,
              "#7201a8"
             ],
             [
              0.3333333333333333,
              "#9c179e"
             ],
             [
              0.4444444444444444,
              "#bd3786"
             ],
             [
              0.5555555555555556,
              "#d8576b"
             ],
             [
              0.6666666666666666,
              "#ed7953"
             ],
             [
              0.7777777777777778,
              "#fb9f3a"
             ],
             [
              0.8888888888888888,
              "#fdca26"
             ],
             [
              1,
              "#f0f921"
             ]
            ],
            "type": "heatmap"
           }
          ],
          "heatmapgl": [
           {
            "colorbar": {
             "outlinewidth": 0,
             "ticks": ""
            },
            "colorscale": [
             [
              0,
              "#0d0887"
             ],
             [
              0.1111111111111111,
              "#46039f"
             ],
             [
              0.2222222222222222,
              "#7201a8"
             ],
             [
              0.3333333333333333,
              "#9c179e"
             ],
             [
              0.4444444444444444,
              "#bd3786"
             ],
             [
              0.5555555555555556,
              "#d8576b"
             ],
             [
              0.6666666666666666,
              "#ed7953"
             ],
             [
              0.7777777777777778,
              "#fb9f3a"
             ],
             [
              0.8888888888888888,
              "#fdca26"
             ],
             [
              1,
              "#f0f921"
             ]
            ],
            "type": "heatmapgl"
           }
          ],
          "histogram": [
           {
            "marker": {
             "pattern": {
              "fillmode": "overlay",
              "size": 10,
              "solidity": 0.2
             }
            },
            "type": "histogram"
           }
          ],
          "histogram2d": [
           {
            "colorbar": {
             "outlinewidth": 0,
             "ticks": ""
            },
            "colorscale": [
             [
              0,
              "#0d0887"
             ],
             [
              0.1111111111111111,
              "#46039f"
             ],
             [
              0.2222222222222222,
              "#7201a8"
             ],
             [
              0.3333333333333333,
              "#9c179e"
             ],
             [
              0.4444444444444444,
              "#bd3786"
             ],
             [
              0.5555555555555556,
              "#d8576b"
             ],
             [
              0.6666666666666666,
              "#ed7953"
             ],
             [
              0.7777777777777778,
              "#fb9f3a"
             ],
             [
              0.8888888888888888,
              "#fdca26"
             ],
             [
              1,
              "#f0f921"
             ]
            ],
            "type": "histogram2d"
           }
          ],
          "histogram2dcontour": [
           {
            "colorbar": {
             "outlinewidth": 0,
             "ticks": ""
            },
            "colorscale": [
             [
              0,
              "#0d0887"
             ],
             [
              0.1111111111111111,
              "#46039f"
             ],
             [
              0.2222222222222222,
              "#7201a8"
             ],
             [
              0.3333333333333333,
              "#9c179e"
             ],
             [
              0.4444444444444444,
              "#bd3786"
             ],
             [
              0.5555555555555556,
              "#d8576b"
             ],
             [
              0.6666666666666666,
              "#ed7953"
             ],
             [
              0.7777777777777778,
              "#fb9f3a"
             ],
             [
              0.8888888888888888,
              "#fdca26"
             ],
             [
              1,
              "#f0f921"
             ]
            ],
            "type": "histogram2dcontour"
           }
          ],
          "mesh3d": [
           {
            "colorbar": {
             "outlinewidth": 0,
             "ticks": ""
            },
            "type": "mesh3d"
           }
          ],
          "parcoords": [
           {
            "line": {
             "colorbar": {
              "outlinewidth": 0,
              "ticks": ""
             }
            },
            "type": "parcoords"
           }
          ],
          "pie": [
           {
            "automargin": true,
            "type": "pie"
           }
          ],
          "scatter": [
           {
            "fillpattern": {
             "fillmode": "overlay",
             "size": 10,
             "solidity": 0.2
            },
            "type": "scatter"
           }
          ],
          "scatter3d": [
           {
            "line": {
             "colorbar": {
              "outlinewidth": 0,
              "ticks": ""
             }
            },
            "marker": {
             "colorbar": {
              "outlinewidth": 0,
              "ticks": ""
             }
            },
            "type": "scatter3d"
           }
          ],
          "scattercarpet": [
           {
            "marker": {
             "colorbar": {
              "outlinewidth": 0,
              "ticks": ""
             }
            },
            "type": "scattercarpet"
           }
          ],
          "scattergeo": [
           {
            "marker": {
             "colorbar": {
              "outlinewidth": 0,
              "ticks": ""
             }
            },
            "type": "scattergeo"
           }
          ],
          "scattergl": [
           {
            "marker": {
             "colorbar": {
              "outlinewidth": 0,
              "ticks": ""
             }
            },
            "type": "scattergl"
           }
          ],
          "scattermapbox": [
           {
            "marker": {
             "colorbar": {
              "outlinewidth": 0,
              "ticks": ""
             }
            },
            "type": "scattermapbox"
           }
          ],
          "scatterpolar": [
           {
            "marker": {
             "colorbar": {
              "outlinewidth": 0,
              "ticks": ""
             }
            },
            "type": "scatterpolar"
           }
          ],
          "scatterpolargl": [
           {
            "marker": {
             "colorbar": {
              "outlinewidth": 0,
              "ticks": ""
             }
            },
            "type": "scatterpolargl"
           }
          ],
          "scatterternary": [
           {
            "marker": {
             "colorbar": {
              "outlinewidth": 0,
              "ticks": ""
             }
            },
            "type": "scatterternary"
           }
          ],
          "surface": [
           {
            "colorbar": {
             "outlinewidth": 0,
             "ticks": ""
            },
            "colorscale": [
             [
              0,
              "#0d0887"
             ],
             [
              0.1111111111111111,
              "#46039f"
             ],
             [
              0.2222222222222222,
              "#7201a8"
             ],
             [
              0.3333333333333333,
              "#9c179e"
             ],
             [
              0.4444444444444444,
              "#bd3786"
             ],
             [
              0.5555555555555556,
              "#d8576b"
             ],
             [
              0.6666666666666666,
              "#ed7953"
             ],
             [
              0.7777777777777778,
              "#fb9f3a"
             ],
             [
              0.8888888888888888,
              "#fdca26"
             ],
             [
              1,
              "#f0f921"
             ]
            ],
            "type": "surface"
           }
          ],
          "table": [
           {
            "cells": {
             "fill": {
              "color": "#EBF0F8"
             },
             "line": {
              "color": "white"
             }
            },
            "header": {
             "fill": {
              "color": "#C8D4E3"
             },
             "line": {
              "color": "white"
             }
            },
            "type": "table"
           }
          ]
         },
         "layout": {
          "annotationdefaults": {
           "arrowcolor": "#2a3f5f",
           "arrowhead": 0,
           "arrowwidth": 1
          },
          "autotypenumbers": "strict",
          "coloraxis": {
           "colorbar": {
            "outlinewidth": 0,
            "ticks": ""
           }
          },
          "colorscale": {
           "diverging": [
            [
             0,
             "#8e0152"
            ],
            [
             0.1,
             "#c51b7d"
            ],
            [
             0.2,
             "#de77ae"
            ],
            [
             0.3,
             "#f1b6da"
            ],
            [
             0.4,
             "#fde0ef"
            ],
            [
             0.5,
             "#f7f7f7"
            ],
            [
             0.6,
             "#e6f5d0"
            ],
            [
             0.7,
             "#b8e186"
            ],
            [
             0.8,
             "#7fbc41"
            ],
            [
             0.9,
             "#4d9221"
            ],
            [
             1,
             "#276419"
            ]
           ],
           "sequential": [
            [
             0,
             "#0d0887"
            ],
            [
             0.1111111111111111,
             "#46039f"
            ],
            [
             0.2222222222222222,
             "#7201a8"
            ],
            [
             0.3333333333333333,
             "#9c179e"
            ],
            [
             0.4444444444444444,
             "#bd3786"
            ],
            [
             0.5555555555555556,
             "#d8576b"
            ],
            [
             0.6666666666666666,
             "#ed7953"
            ],
            [
             0.7777777777777778,
             "#fb9f3a"
            ],
            [
             0.8888888888888888,
             "#fdca26"
            ],
            [
             1,
             "#f0f921"
            ]
           ],
           "sequentialminus": [
            [
             0,
             "#0d0887"
            ],
            [
             0.1111111111111111,
             "#46039f"
            ],
            [
             0.2222222222222222,
             "#7201a8"
            ],
            [
             0.3333333333333333,
             "#9c179e"
            ],
            [
             0.4444444444444444,
             "#bd3786"
            ],
            [
             0.5555555555555556,
             "#d8576b"
            ],
            [
             0.6666666666666666,
             "#ed7953"
            ],
            [
             0.7777777777777778,
             "#fb9f3a"
            ],
            [
             0.8888888888888888,
             "#fdca26"
            ],
            [
             1,
             "#f0f921"
            ]
           ]
          },
          "colorway": [
           "#636efa",
           "#EF553B",
           "#00cc96",
           "#ab63fa",
           "#FFA15A",
           "#19d3f3",
           "#FF6692",
           "#B6E880",
           "#FF97FF",
           "#FECB52"
          ],
          "font": {
           "color": "#2a3f5f"
          },
          "geo": {
           "bgcolor": "white",
           "lakecolor": "white",
           "landcolor": "#E5ECF6",
           "showlakes": true,
           "showland": true,
           "subunitcolor": "white"
          },
          "hoverlabel": {
           "align": "left"
          },
          "hovermode": "closest",
          "mapbox": {
           "style": "light"
          },
          "paper_bgcolor": "white",
          "plot_bgcolor": "#E5ECF6",
          "polar": {
           "angularaxis": {
            "gridcolor": "white",
            "linecolor": "white",
            "ticks": ""
           },
           "bgcolor": "#E5ECF6",
           "radialaxis": {
            "gridcolor": "white",
            "linecolor": "white",
            "ticks": ""
           }
          },
          "scene": {
           "xaxis": {
            "backgroundcolor": "#E5ECF6",
            "gridcolor": "white",
            "gridwidth": 2,
            "linecolor": "white",
            "showbackground": true,
            "ticks": "",
            "zerolinecolor": "white"
           },
           "yaxis": {
            "backgroundcolor": "#E5ECF6",
            "gridcolor": "white",
            "gridwidth": 2,
            "linecolor": "white",
            "showbackground": true,
            "ticks": "",
            "zerolinecolor": "white"
           },
           "zaxis": {
            "backgroundcolor": "#E5ECF6",
            "gridcolor": "white",
            "gridwidth": 2,
            "linecolor": "white",
            "showbackground": true,
            "ticks": "",
            "zerolinecolor": "white"
           }
          },
          "shapedefaults": {
           "line": {
            "color": "#2a3f5f"
           }
          },
          "ternary": {
           "aaxis": {
            "gridcolor": "white",
            "linecolor": "white",
            "ticks": ""
           },
           "baxis": {
            "gridcolor": "white",
            "linecolor": "white",
            "ticks": ""
           },
           "bgcolor": "#E5ECF6",
           "caxis": {
            "gridcolor": "white",
            "linecolor": "white",
            "ticks": ""
           }
          },
          "title": {
           "x": 0.05
          },
          "xaxis": {
           "automargin": true,
           "gridcolor": "white",
           "linecolor": "white",
           "ticks": "",
           "title": {
            "standoff": 15
           },
           "zerolinecolor": "white",
           "zerolinewidth": 2
          },
          "yaxis": {
           "automargin": true,
           "gridcolor": "white",
           "linecolor": "white",
           "ticks": "",
           "title": {
            "standoff": 15
           },
           "zerolinecolor": "white",
           "zerolinewidth": 2
          }
         }
        },
        "title": {
         "text": "Average PM2.5 per Month"
        }
       }
      }
     },
     "metadata": {},
     "output_type": "display_data"
    }
   ],
   "source": [
    "v1 = df_new.drop(['No', 'day', 'hour'], axis=1).groupby(['station', 'year', 'month']).mean(numeric_only=True).reset_index()\n",
    "v1['year_month'] = pd.to_datetime(dict(year=v1['year'], month=v1['month'], day=1))\n",
    "\n",
    "fig = go.Figure()\n",
    "\n",
    "for station in stations:\n",
    "    fig.add_trace(go.Scatter(\n",
    "        x=v1[v1['station'] == station]['year_month'],\n",
    "        y=v1[v1['station'] == station]['PM2.5'], \n",
    "        mode='lines', \n",
    "        name=station \n",
    "    ))\n",
    "\n",
    "fig.update_layout(\n",
    "    title='Average PM2.5 per Month',\n",
    "    showlegend=True,\n",
    "    plot_bgcolor='white',\n",
    ")"
   ]
  },
  {
   "cell_type": "markdown",
   "metadata": {},
   "source": [
    "Berdasarkan grafik diatas, dapat dilihat untuk variabel PM2.5 pada seluruh stasiun secara konsisten udara terbaik berada di sekitar bulan `juli` dan `januari` untuk setiap tahunnya."
   ]
  },
  {
   "cell_type": "markdown",
   "metadata": {},
   "source": [
    "#### PM10 (Particulate Matter 10)"
   ]
  },
  {
   "cell_type": "code",
   "execution_count": 28,
   "metadata": {},
   "outputs": [
    {
     "data": {
      "application/vnd.plotly.v1+json": {
       "config": {
        "plotlyServerURL": "https://plot.ly"
       },
       "data": [
        {
         "mode": "lines",
         "name": "Aotizhongxin",
         "type": "scatter",
         "x": [
          "2013-03-01T00:00:00",
          "2013-04-01T00:00:00",
          "2013-05-01T00:00:00",
          "2013-06-01T00:00:00",
          "2013-07-01T00:00:00",
          "2013-08-01T00:00:00",
          "2013-09-01T00:00:00",
          "2013-10-01T00:00:00",
          "2013-11-01T00:00:00",
          "2013-12-01T00:00:00",
          "2014-01-01T00:00:00",
          "2014-02-01T00:00:00",
          "2014-03-01T00:00:00",
          "2014-04-01T00:00:00",
          "2014-05-01T00:00:00",
          "2014-06-01T00:00:00",
          "2014-07-01T00:00:00",
          "2014-08-01T00:00:00",
          "2014-09-01T00:00:00",
          "2014-10-01T00:00:00",
          "2014-11-01T00:00:00",
          "2014-12-01T00:00:00",
          "2015-01-01T00:00:00",
          "2015-02-01T00:00:00",
          "2015-03-01T00:00:00",
          "2015-04-01T00:00:00",
          "2015-05-01T00:00:00",
          "2015-06-01T00:00:00",
          "2015-07-01T00:00:00",
          "2015-08-01T00:00:00",
          "2015-09-01T00:00:00",
          "2015-10-01T00:00:00",
          "2015-11-01T00:00:00",
          "2015-12-01T00:00:00",
          "2016-01-01T00:00:00",
          "2016-02-01T00:00:00",
          "2016-03-01T00:00:00",
          "2016-04-01T00:00:00",
          "2016-05-01T00:00:00",
          "2016-06-01T00:00:00",
          "2016-07-01T00:00:00",
          "2016-08-01T00:00:00",
          "2016-09-01T00:00:00",
          "2016-10-01T00:00:00",
          "2016-11-01T00:00:00",
          "2016-12-01T00:00:00",
          "2017-01-01T00:00:00",
          "2017-02-01T00:00:00"
         ],
         "y": [
          144.62298387096774,
          108.20416666666667,
          140.77822580645162,
          128.71666666666667,
          85.27150537634408,
          84.45564516129032,
          104.82222222222222,
          120.08602150537635,
          105.63333333333334,
          106.6760752688172,
          125.41868279569893,
          156.28720238095238,
          146.84005376344086,
          168.06319444444443,
          134.25416666666666,
          61.327777777777776,
          93.21505376344086,
          83.50551075268817,
          102.71430555555555,
          164.88306451612902,
          132.3525,
          101.01881720430107,
          114.62916666666668,
          123.13169642857143,
          155.76505376344085,
          135.23819444444445,
          110.34677419354838,
          86.42430555555555,
          83.59072580645162,
          71.12701612903226,
          72.28194444444445,
          97.38440860215054,
          130.45763888888888,
          166.0201612903226,
          86.46303763440861,
          61.35057471264368,
          154.74193548387098,
          114.93472222222222,
          76.12768817204301,
          71.73333333333333,
          76.94556451612904,
          49.30981182795699,
          68.50208333333333,
          99.5114247311828,
          126.18194444444444,
          145.52755376344086,
          127.9986559139785,
          83.72693452380952
         ]
        },
        {
         "mode": "lines",
         "name": "Changping",
         "type": "scatter",
         "x": [
          "2013-03-01T00:00:00",
          "2013-04-01T00:00:00",
          "2013-05-01T00:00:00",
          "2013-06-01T00:00:00",
          "2013-07-01T00:00:00",
          "2013-08-01T00:00:00",
          "2013-09-01T00:00:00",
          "2013-10-01T00:00:00",
          "2013-11-01T00:00:00",
          "2013-12-01T00:00:00",
          "2014-01-01T00:00:00",
          "2014-02-01T00:00:00",
          "2014-03-01T00:00:00",
          "2014-04-01T00:00:00",
          "2014-05-01T00:00:00",
          "2014-06-01T00:00:00",
          "2014-07-01T00:00:00",
          "2014-08-01T00:00:00",
          "2014-09-01T00:00:00",
          "2014-10-01T00:00:00",
          "2014-11-01T00:00:00",
          "2014-12-01T00:00:00",
          "2015-01-01T00:00:00",
          "2015-02-01T00:00:00",
          "2015-03-01T00:00:00",
          "2015-04-01T00:00:00",
          "2015-05-01T00:00:00",
          "2015-06-01T00:00:00",
          "2015-07-01T00:00:00",
          "2015-08-01T00:00:00",
          "2015-09-01T00:00:00",
          "2015-10-01T00:00:00",
          "2015-11-01T00:00:00",
          "2015-12-01T00:00:00",
          "2016-01-01T00:00:00",
          "2016-02-01T00:00:00",
          "2016-03-01T00:00:00",
          "2016-04-01T00:00:00",
          "2016-05-01T00:00:00",
          "2016-06-01T00:00:00",
          "2016-07-01T00:00:00",
          "2016-08-01T00:00:00",
          "2016-09-01T00:00:00",
          "2016-10-01T00:00:00",
          "2016-11-01T00:00:00",
          "2016-12-01T00:00:00",
          "2017-01-01T00:00:00",
          "2017-02-01T00:00:00"
         ],
         "y": [
          123.43010752688173,
          90.16180555555556,
          118.16801075268818,
          102.31666666666666,
          64.95161290322581,
          67.4361559139785,
          82.97638888888889,
          99.90524193548387,
          81.325,
          80.84005376344086,
          110.27217741935483,
          150.3125,
          127.84946236559139,
          142.1201388888889,
          100.35282258064517,
          60.49583333333333,
          101.93548387096774,
          75.97379032258064,
          78.76597222222222,
          138.2715053763441,
          118.80972222222222,
          89.33400537634408,
          114.70618279569892,
          116.95386904761905,
          143.99220430107528,
          100.21111111111111,
          87.3252688172043,
          75.13541666666667,
          66.59610215053763,
          57.03360215053763,
          50.77291666666667,
          61.57997311827957,
          99.22222222222223,
          146.53024193548387,
          80.87836021505376,
          58.59626436781609,
          125.04301075268818,
          106.52916666666667,
          80.19059139784946,
          67.34888888888888,
          67.90591397849462,
          52.62163978494624,
          57.21597222222222,
          96.27956989247312,
          119.6875,
          125.61693548387096,
          113.94086021505376,
          72.24032738095238
         ]
        },
        {
         "mode": "lines",
         "name": "Dingling",
         "type": "scatter",
         "x": [
          "2013-03-01T00:00:00",
          "2013-04-01T00:00:00",
          "2013-05-01T00:00:00",
          "2013-06-01T00:00:00",
          "2013-07-01T00:00:00",
          "2013-08-01T00:00:00",
          "2013-09-01T00:00:00",
          "2013-10-01T00:00:00",
          "2013-11-01T00:00:00",
          "2013-12-01T00:00:00",
          "2014-01-01T00:00:00",
          "2014-02-01T00:00:00",
          "2014-03-01T00:00:00",
          "2014-04-01T00:00:00",
          "2014-05-01T00:00:00",
          "2014-06-01T00:00:00",
          "2014-07-01T00:00:00",
          "2014-08-01T00:00:00",
          "2014-09-01T00:00:00",
          "2014-10-01T00:00:00",
          "2014-11-01T00:00:00",
          "2014-12-01T00:00:00",
          "2015-01-01T00:00:00",
          "2015-02-01T00:00:00",
          "2015-03-01T00:00:00",
          "2015-04-01T00:00:00",
          "2015-05-01T00:00:00",
          "2015-06-01T00:00:00",
          "2015-07-01T00:00:00",
          "2015-08-01T00:00:00",
          "2015-09-01T00:00:00",
          "2015-10-01T00:00:00",
          "2015-11-01T00:00:00",
          "2015-12-01T00:00:00",
          "2016-01-01T00:00:00",
          "2016-02-01T00:00:00",
          "2016-03-01T00:00:00",
          "2016-04-01T00:00:00",
          "2016-05-01T00:00:00",
          "2016-06-01T00:00:00",
          "2016-07-01T00:00:00",
          "2016-08-01T00:00:00",
          "2016-09-01T00:00:00",
          "2016-10-01T00:00:00",
          "2016-11-01T00:00:00",
          "2016-12-01T00:00:00",
          "2017-01-01T00:00:00",
          "2017-02-01T00:00:00"
         ],
         "y": [
          109.64516129032258,
          81.67395833333333,
          111.59845430107526,
          87.86593567251462,
          60.40191709111488,
          51.28360215053763,
          62.623926767676764,
          87.40224828934507,
          71.73194444444445,
          64.24663978494624,
          100.42405913978494,
          148.2217261904762,
          112.92540322580645,
          116.9125,
          72.52963098729228,
          42.847853535353536,
          89.14697580645162,
          67.1130376344086,
          70.94527777777778,
          126.30913978494624,
          90.00819444444444,
          65.29054659498208,
          92.9418458781362,
          104.46577380952381,
          126.2424059139785,
          92.87312499999999,
          84.57123655913979,
          68.78138888888888,
          63.92916666666667,
          57.196236559139784,
          48.25138888888889,
          66.85147849462365,
          90.47222222222223,
          128.440188172043,
          72.21975806451613,
          51.548132183908045,
          131.86962365591398,
          117.07986111111111,
          85.68548387096774,
          63.78611111111111,
          62.288978494623656,
          44.631048387096776,
          49.88333333333333,
          82.78024193548387,
          99.72222222222223,
          105.36290322580645,
          91.39381720430107,
          64.28050595238095
         ]
        },
        {
         "mode": "lines",
         "name": "Dongsi",
         "type": "scatter",
         "x": [
          "2013-03-01T00:00:00",
          "2013-04-01T00:00:00",
          "2013-05-01T00:00:00",
          "2013-06-01T00:00:00",
          "2013-07-01T00:00:00",
          "2013-08-01T00:00:00",
          "2013-09-01T00:00:00",
          "2013-10-01T00:00:00",
          "2013-11-01T00:00:00",
          "2013-12-01T00:00:00",
          "2014-01-01T00:00:00",
          "2014-02-01T00:00:00",
          "2014-03-01T00:00:00",
          "2014-04-01T00:00:00",
          "2014-05-01T00:00:00",
          "2014-06-01T00:00:00",
          "2014-07-01T00:00:00",
          "2014-08-01T00:00:00",
          "2014-09-01T00:00:00",
          "2014-10-01T00:00:00",
          "2014-11-01T00:00:00",
          "2014-12-01T00:00:00",
          "2015-01-01T00:00:00",
          "2015-02-01T00:00:00",
          "2015-03-01T00:00:00",
          "2015-04-01T00:00:00",
          "2015-05-01T00:00:00",
          "2015-06-01T00:00:00",
          "2015-07-01T00:00:00",
          "2015-08-01T00:00:00",
          "2015-09-01T00:00:00",
          "2015-10-01T00:00:00",
          "2015-11-01T00:00:00",
          "2015-12-01T00:00:00",
          "2016-01-01T00:00:00",
          "2016-02-01T00:00:00",
          "2016-03-01T00:00:00",
          "2016-04-01T00:00:00",
          "2016-05-01T00:00:00",
          "2016-06-01T00:00:00",
          "2016-07-01T00:00:00",
          "2016-08-01T00:00:00",
          "2016-09-01T00:00:00",
          "2016-10-01T00:00:00",
          "2016-11-01T00:00:00",
          "2016-12-01T00:00:00",
          "2017-01-01T00:00:00",
          "2017-02-01T00:00:00"
         ],
         "y": [
          131.57930107526883,
          98.57222222222222,
          131.98521505376345,
          115.71111111111111,
          79.99059139784946,
          85.6888440860215,
          99.94722222222222,
          108.55779569892474,
          99.45,
          94.55510752688173,
          112.14314516129032,
          151.33630952380952,
          130.27822580645162,
          147.8138888888889,
          123.44193548387098,
          76.93333333333334,
          98.8736559139785,
          81.76895161290322,
          94.88944444444444,
          158.37701612903226,
          134.36555555555555,
          101.97163978494623,
          116.69314516129032,
          129.12425595238096,
          169.27977150537635,
          123.99444444444444,
          92.43548387096774,
          82.57930555555555,
          82.71236559139786,
          68.97647849462365,
          70.90555555555555,
          105.20766129032258,
          132.44027777777777,
          171.45564516129033,
          87.96034946236558,
          61.401580459770116,
          143.36021505376345,
          117.67986111111111,
          84.52889784946237,
          78.68472222222222,
          83.14583333333333,
          57.88508064516129,
          70.87361111111112,
          117.34408602150538,
          140.25277777777777,
          188.0356182795699,
          158.13104838709677,
          102.65252976190476
         ]
        },
        {
         "mode": "lines",
         "name": "Guanyuan",
         "type": "scatter",
         "x": [
          "2013-03-01T00:00:00",
          "2013-04-01T00:00:00",
          "2013-05-01T00:00:00",
          "2013-06-01T00:00:00",
          "2013-07-01T00:00:00",
          "2013-08-01T00:00:00",
          "2013-09-01T00:00:00",
          "2013-10-01T00:00:00",
          "2013-11-01T00:00:00",
          "2013-12-01T00:00:00",
          "2014-01-01T00:00:00",
          "2014-02-01T00:00:00",
          "2014-03-01T00:00:00",
          "2014-04-01T00:00:00",
          "2014-05-01T00:00:00",
          "2014-06-01T00:00:00",
          "2014-07-01T00:00:00",
          "2014-08-01T00:00:00",
          "2014-09-01T00:00:00",
          "2014-10-01T00:00:00",
          "2014-11-01T00:00:00",
          "2014-12-01T00:00:00",
          "2015-01-01T00:00:00",
          "2015-02-01T00:00:00",
          "2015-03-01T00:00:00",
          "2015-04-01T00:00:00",
          "2015-05-01T00:00:00",
          "2015-06-01T00:00:00",
          "2015-07-01T00:00:00",
          "2015-08-01T00:00:00",
          "2015-09-01T00:00:00",
          "2015-10-01T00:00:00",
          "2015-11-01T00:00:00",
          "2015-12-01T00:00:00",
          "2016-01-01T00:00:00",
          "2016-02-01T00:00:00",
          "2016-03-01T00:00:00",
          "2016-04-01T00:00:00",
          "2016-05-01T00:00:00",
          "2016-06-01T00:00:00",
          "2016-07-01T00:00:00",
          "2016-08-01T00:00:00",
          "2016-09-01T00:00:00",
          "2016-10-01T00:00:00",
          "2016-11-01T00:00:00",
          "2016-12-01T00:00:00",
          "2017-01-01T00:00:00",
          "2017-02-01T00:00:00"
         ],
         "y": [
          130.4220430107527,
          95.81388888888888,
          145.53763440860214,
          122.36041666666667,
          80.14247311827957,
          81.94825268817205,
          99.98472222222222,
          119.9616935483871,
          105.86180555555555,
          107.07795698924731,
          132.56720430107526,
          157.04315476190476,
          133.31586021505376,
          137.10694444444445,
          124.05591397849463,
          76.42986111111111,
          108.48387096774194,
          87.69206989247311,
          87.98013888888889,
          148.30107526881721,
          118.0476388888889,
          84.96774193548387,
          105.69946236559139,
          114.45833333333333,
          137.9040994623656,
          119.62152777777777,
          106.97177419354838,
          83.92013888888889,
          80.05376344086021,
          69.44690860215054,
          68.40555555555555,
          94.36559139784946,
          128.18958333333333,
          166.7923387096774,
          84.87970430107526,
          56.758620689655174,
          143.73857526881721,
          128.47430555555556,
          102.70631720430107,
          86.06597222222223,
          89.3239247311828,
          65.40389784946237,
          76.39791666666666,
          111.12836021505376,
          147.11180555555555,
          164.61895161290323,
          140.53360215053763,
          89.37574404761905
         ]
        },
        {
         "mode": "lines",
         "name": "Gucheng",
         "type": "scatter",
         "x": [
          "2013-03-01T00:00:00",
          "2013-04-01T00:00:00",
          "2013-05-01T00:00:00",
          "2013-06-01T00:00:00",
          "2013-07-01T00:00:00",
          "2013-08-01T00:00:00",
          "2013-09-01T00:00:00",
          "2013-10-01T00:00:00",
          "2013-11-01T00:00:00",
          "2013-12-01T00:00:00",
          "2014-01-01T00:00:00",
          "2014-02-01T00:00:00",
          "2014-03-01T00:00:00",
          "2014-04-01T00:00:00",
          "2014-05-01T00:00:00",
          "2014-06-01T00:00:00",
          "2014-07-01T00:00:00",
          "2014-08-01T00:00:00",
          "2014-09-01T00:00:00",
          "2014-10-01T00:00:00",
          "2014-11-01T00:00:00",
          "2014-12-01T00:00:00",
          "2015-01-01T00:00:00",
          "2015-02-01T00:00:00",
          "2015-03-01T00:00:00",
          "2015-04-01T00:00:00",
          "2015-05-01T00:00:00",
          "2015-06-01T00:00:00",
          "2015-07-01T00:00:00",
          "2015-08-01T00:00:00",
          "2015-09-01T00:00:00",
          "2015-10-01T00:00:00",
          "2015-11-01T00:00:00",
          "2015-12-01T00:00:00",
          "2016-01-01T00:00:00",
          "2016-02-01T00:00:00",
          "2016-03-01T00:00:00",
          "2016-04-01T00:00:00",
          "2016-05-01T00:00:00",
          "2016-06-01T00:00:00",
          "2016-07-01T00:00:00",
          "2016-08-01T00:00:00",
          "2016-09-01T00:00:00",
          "2016-10-01T00:00:00",
          "2016-11-01T00:00:00",
          "2016-12-01T00:00:00",
          "2017-01-01T00:00:00",
          "2017-02-01T00:00:00"
         ],
         "y": [
          148.1290322580645,
          108.71736111111112,
          150.2755376344086,
          132.125,
          82.95967741935483,
          89.53696236559139,
          100.38055555555556,
          120.11559139784946,
          93.74097222222223,
          99.10887096774194,
          126.58333333333333,
          154.15997023809524,
          155.22043010752688,
          179.08055555555555,
          150.80094086021504,
          91.77361111111111,
          137.54771505376345,
          106.897311827957,
          114.81902777777778,
          163.63104838709677,
          138.80222222222224,
          99.46370967741936,
          115.17096774193548,
          124.09375,
          156.5720430107527,
          127.60972222222222,
          113.5013440860215,
          94.80208333333333,
          85.08870967741936,
          75.48588709677419,
          75.92361111111111,
          110.44623655913979,
          138.84791666666666,
          178.69623655913978,
          96.41801075268818,
          60.730603448275865,
          152.15725806451613,
          135.23055555555555,
          107.70161290322581,
          97.27847222222222,
          93.40793010752688,
          75.95900537634408,
          92.39930555555556,
          112.15927419354838,
          143.5,
          164.0013440860215,
          152.6122311827957,
          97.45833333333333
         ]
        },
        {
         "mode": "lines",
         "name": "Huairou",
         "type": "scatter",
         "x": [
          "2013-03-01T00:00:00",
          "2013-04-01T00:00:00",
          "2013-05-01T00:00:00",
          "2013-06-01T00:00:00",
          "2013-07-01T00:00:00",
          "2013-08-01T00:00:00",
          "2013-09-01T00:00:00",
          "2013-10-01T00:00:00",
          "2013-11-01T00:00:00",
          "2013-12-01T00:00:00",
          "2014-01-01T00:00:00",
          "2014-02-01T00:00:00",
          "2014-03-01T00:00:00",
          "2014-04-01T00:00:00",
          "2014-05-01T00:00:00",
          "2014-06-01T00:00:00",
          "2014-07-01T00:00:00",
          "2014-08-01T00:00:00",
          "2014-09-01T00:00:00",
          "2014-10-01T00:00:00",
          "2014-11-01T00:00:00",
          "2014-12-01T00:00:00",
          "2015-01-01T00:00:00",
          "2015-02-01T00:00:00",
          "2015-03-01T00:00:00",
          "2015-04-01T00:00:00",
          "2015-05-01T00:00:00",
          "2015-06-01T00:00:00",
          "2015-07-01T00:00:00",
          "2015-08-01T00:00:00",
          "2015-09-01T00:00:00",
          "2015-10-01T00:00:00",
          "2015-11-01T00:00:00",
          "2015-12-01T00:00:00",
          "2016-01-01T00:00:00",
          "2016-02-01T00:00:00",
          "2016-03-01T00:00:00",
          "2016-04-01T00:00:00",
          "2016-05-01T00:00:00",
          "2016-06-01T00:00:00",
          "2016-07-01T00:00:00",
          "2016-08-01T00:00:00",
          "2016-09-01T00:00:00",
          "2016-10-01T00:00:00",
          "2016-11-01T00:00:00",
          "2016-12-01T00:00:00",
          "2017-01-01T00:00:00",
          "2017-02-01T00:00:00"
         ],
         "y": [
          119.26814516129032,
          94.61805555555556,
          162.88172043010752,
          115.15416666666667,
          85.89516129032258,
          75.0638440860215,
          89.17083333333333,
          97.40188172043011,
          75.44027777777778,
          69.5638440860215,
          103.6135752688172,
          148.6748511904762,
          119.48655913978494,
          129.14652777777778,
          90.12378460306566,
          66.73458924349882,
          115.44193548387098,
          74.03077956989247,
          75.69097222222223,
          115.94086021505376,
          94.34902777777778,
          68.93373655913977,
          94.88333333333333,
          111.6921130952381,
          134.45840053763442,
          100.92965277777779,
          87.31532258064516,
          69.00833333333334,
          63.49663978494624,
          58.34274193548387,
          52.44097222222222,
          78.25537634408602,
          99.65902777777778,
          132.34206989247312,
          66.40927419354838,
          49.560344827586206,
          114.14247311827957,
          106.65069444444444,
          84.63709677419355,
          68.70694444444445,
          67.50470430107526,
          52.020833333333336,
          54.725,
          93.17069892473118,
          117.39583333333333,
          110.75537634408602,
          109.32930107526882,
          72.19196428571429
         ]
        },
        {
         "mode": "lines",
         "name": "Nongzhanguan",
         "type": "scatter",
         "x": [
          "2013-03-01T00:00:00",
          "2013-04-01T00:00:00",
          "2013-05-01T00:00:00",
          "2013-06-01T00:00:00",
          "2013-07-01T00:00:00",
          "2013-08-01T00:00:00",
          "2013-09-01T00:00:00",
          "2013-10-01T00:00:00",
          "2013-11-01T00:00:00",
          "2013-12-01T00:00:00",
          "2014-01-01T00:00:00",
          "2014-02-01T00:00:00",
          "2014-03-01T00:00:00",
          "2014-04-01T00:00:00",
          "2014-05-01T00:00:00",
          "2014-06-01T00:00:00",
          "2014-07-01T00:00:00",
          "2014-08-01T00:00:00",
          "2014-09-01T00:00:00",
          "2014-10-01T00:00:00",
          "2014-11-01T00:00:00",
          "2014-12-01T00:00:00",
          "2015-01-01T00:00:00",
          "2015-02-01T00:00:00",
          "2015-03-01T00:00:00",
          "2015-04-01T00:00:00",
          "2015-05-01T00:00:00",
          "2015-06-01T00:00:00",
          "2015-07-01T00:00:00",
          "2015-08-01T00:00:00",
          "2015-09-01T00:00:00",
          "2015-10-01T00:00:00",
          "2015-11-01T00:00:00",
          "2015-12-01T00:00:00",
          "2016-01-01T00:00:00",
          "2016-02-01T00:00:00",
          "2016-03-01T00:00:00",
          "2016-04-01T00:00:00",
          "2016-05-01T00:00:00",
          "2016-06-01T00:00:00",
          "2016-07-01T00:00:00",
          "2016-08-01T00:00:00",
          "2016-09-01T00:00:00",
          "2016-10-01T00:00:00",
          "2016-11-01T00:00:00",
          "2016-12-01T00:00:00",
          "2017-01-01T00:00:00",
          "2017-02-01T00:00:00"
         ],
         "y": [
          126.96370967741936,
          96.97083333333333,
          129.34408602150538,
          107.38958333333333,
          70.95900537634408,
          74.57997311827957,
          99.14791666666666,
          111.10483870967742,
          105.48819444444445,
          115.21102150537635,
          136.2641129032258,
          167.16741071428572,
          139.53360215053763,
          142.30555555555554,
          132.48185483870967,
          86.58958333333334,
          111.67782258064517,
          87.79677419354839,
          94.54152777777777,
          169.0866935483871,
          145.56694444444443,
          116.25537634408602,
          131.28494623655914,
          124.57514880952381,
          141.0684811827957,
          114.9061111111111,
          98.6263440860215,
          82.83513888888889,
          75.32661290322581,
          64.67338709677419,
          63.56875,
          93.78763440860214,
          129.1340277777778,
          164.5752688172043,
          79.88978494623656,
          53.36997126436781,
          131.50806451612902,
          108.50486111111111,
          84.53158602150538,
          76.57638888888889,
          76.12836021505376,
          59.39784946236559,
          73.37986111111111,
          107.96236559139786,
          145.14305555555555,
          165.84879032258064,
          143.99327956989248,
          92.72767857142857
         ]
        },
        {
         "mode": "lines",
         "name": "Shunyi",
         "type": "scatter",
         "x": [
          "2013-03-01T00:00:00",
          "2013-04-01T00:00:00",
          "2013-05-01T00:00:00",
          "2013-06-01T00:00:00",
          "2013-07-01T00:00:00",
          "2013-08-01T00:00:00",
          "2013-09-01T00:00:00",
          "2013-10-01T00:00:00",
          "2013-11-01T00:00:00",
          "2013-12-01T00:00:00",
          "2014-01-01T00:00:00",
          "2014-02-01T00:00:00",
          "2014-03-01T00:00:00",
          "2014-04-01T00:00:00",
          "2014-05-01T00:00:00",
          "2014-06-01T00:00:00",
          "2014-07-01T00:00:00",
          "2014-08-01T00:00:00",
          "2014-09-01T00:00:00",
          "2014-10-01T00:00:00",
          "2014-11-01T00:00:00",
          "2014-12-01T00:00:00",
          "2015-01-01T00:00:00",
          "2015-02-01T00:00:00",
          "2015-03-01T00:00:00",
          "2015-04-01T00:00:00",
          "2015-05-01T00:00:00",
          "2015-06-01T00:00:00",
          "2015-07-01T00:00:00",
          "2015-08-01T00:00:00",
          "2015-09-01T00:00:00",
          "2015-10-01T00:00:00",
          "2015-11-01T00:00:00",
          "2015-12-01T00:00:00",
          "2016-01-01T00:00:00",
          "2016-02-01T00:00:00",
          "2016-03-01T00:00:00",
          "2016-04-01T00:00:00",
          "2016-05-01T00:00:00",
          "2016-06-01T00:00:00",
          "2016-07-01T00:00:00",
          "2016-08-01T00:00:00",
          "2016-09-01T00:00:00",
          "2016-10-01T00:00:00",
          "2016-11-01T00:00:00",
          "2016-12-01T00:00:00",
          "2017-01-01T00:00:00",
          "2017-02-01T00:00:00"
         ],
         "y": [
          127.72110215053763,
          83.02916666666667,
          125.3649193548387,
          112.92777777777778,
          68.6135752688172,
          70.00268817204301,
          92.05,
          108.05174731182795,
          88.15625,
          75.39112903225806,
          112.89247311827957,
          155.15252976190476,
          132.4758064516129,
          141.17430555555555,
          109.69193548387098,
          74.88263888888889,
          113.2133064516129,
          83.19126344086023,
          83.51388888888889,
          128.87701612903226,
          120.54708333333332,
          87.20094086021506,
          108.82567204301075,
          117.83482142857143,
          142.10940860215052,
          112.08465277777778,
          84.10954301075269,
          78.85527777777779,
          71.89448924731182,
          61.05913978494624,
          60.61527777777778,
          90.00403225806451,
          118.91111111111111,
          159.32997311827958,
          77.6149193548387,
          54.70617816091954,
          121.43010752688173,
          109.30972222222222,
          80.68279569892474,
          65.0423611111111,
          71.13911290322581,
          58.48924731182796,
          66.95138888888889,
          95.99596774193549,
          123.05833333333334,
          130.38844086021504,
          130.88978494623655,
          80.24032738095238
         ]
        },
        {
         "mode": "lines",
         "name": "Tiantan",
         "type": "scatter",
         "x": [
          "2013-03-01T00:00:00",
          "2013-04-01T00:00:00",
          "2013-05-01T00:00:00",
          "2013-06-01T00:00:00",
          "2013-07-01T00:00:00",
          "2013-08-01T00:00:00",
          "2013-09-01T00:00:00",
          "2013-10-01T00:00:00",
          "2013-11-01T00:00:00",
          "2013-12-01T00:00:00",
          "2014-01-01T00:00:00",
          "2014-02-01T00:00:00",
          "2014-03-01T00:00:00",
          "2014-04-01T00:00:00",
          "2014-05-01T00:00:00",
          "2014-06-01T00:00:00",
          "2014-07-01T00:00:00",
          "2014-08-01T00:00:00",
          "2014-09-01T00:00:00",
          "2014-10-01T00:00:00",
          "2014-11-01T00:00:00",
          "2014-12-01T00:00:00",
          "2015-01-01T00:00:00",
          "2015-02-01T00:00:00",
          "2015-03-01T00:00:00",
          "2015-04-01T00:00:00",
          "2015-05-01T00:00:00",
          "2015-06-01T00:00:00",
          "2015-07-01T00:00:00",
          "2015-08-01T00:00:00",
          "2015-09-01T00:00:00",
          "2015-10-01T00:00:00",
          "2015-11-01T00:00:00",
          "2015-12-01T00:00:00",
          "2016-01-01T00:00:00",
          "2016-02-01T00:00:00",
          "2016-03-01T00:00:00",
          "2016-04-01T00:00:00",
          "2016-05-01T00:00:00",
          "2016-06-01T00:00:00",
          "2016-07-01T00:00:00",
          "2016-08-01T00:00:00",
          "2016-09-01T00:00:00",
          "2016-10-01T00:00:00",
          "2016-11-01T00:00:00",
          "2016-12-01T00:00:00",
          "2017-01-01T00:00:00",
          "2017-02-01T00:00:00"
         ],
         "y": [
          123.26209677419355,
          90.94166666666666,
          138.1209677419355,
          133.7576388888889,
          84.125,
          82.29502688172043,
          105.96458333333334,
          118.75940860215054,
          103.43333333333334,
          102.49462365591398,
          125.86693548387096,
          148.40029761904762,
          127.75,
          126.70138888888889,
          114.75456989247311,
          82.45208333333333,
          115.53494623655914,
          82.84529569892473,
          85.30972222222222,
          137.1673387096774,
          126.48069444444445,
          107.40840053763442,
          115.3111559139785,
          121.28571428571429,
          136.75981182795698,
          110.49069444444444,
          94.02755376344086,
          79.8586111111111,
          75.7002688172043,
          60.74193548387097,
          61.922916666666666,
          88.94086021505376,
          125.95347222222222,
          164.08198924731184,
          87.30040322580645,
          60.992097701149426,
          124.98655913978494,
          112.10763888888889,
          88.12836021505376,
          81.20416666666667,
          76.56854838709677,
          58.77150537634409,
          68.76805555555555,
          97.03965053763442,
          130.69583333333333,
          178.47043010752688,
          153.09610215053763,
          95.70758928571429
         ]
        },
        {
         "mode": "lines",
         "name": "Wanliu",
         "type": "scatter",
         "x": [
          "2013-03-01T00:00:00",
          "2013-04-01T00:00:00",
          "2013-05-01T00:00:00",
          "2013-06-01T00:00:00",
          "2013-07-01T00:00:00",
          "2013-08-01T00:00:00",
          "2013-09-01T00:00:00",
          "2013-10-01T00:00:00",
          "2013-11-01T00:00:00",
          "2013-12-01T00:00:00",
          "2014-01-01T00:00:00",
          "2014-02-01T00:00:00",
          "2014-03-01T00:00:00",
          "2014-04-01T00:00:00",
          "2014-05-01T00:00:00",
          "2014-06-01T00:00:00",
          "2014-07-01T00:00:00",
          "2014-08-01T00:00:00",
          "2014-09-01T00:00:00",
          "2014-10-01T00:00:00",
          "2014-11-01T00:00:00",
          "2014-12-01T00:00:00",
          "2015-01-01T00:00:00",
          "2015-02-01T00:00:00",
          "2015-03-01T00:00:00",
          "2015-04-01T00:00:00",
          "2015-05-01T00:00:00",
          "2015-06-01T00:00:00",
          "2015-07-01T00:00:00",
          "2015-08-01T00:00:00",
          "2015-09-01T00:00:00",
          "2015-10-01T00:00:00",
          "2015-11-01T00:00:00",
          "2015-12-01T00:00:00",
          "2016-01-01T00:00:00",
          "2016-02-01T00:00:00",
          "2016-03-01T00:00:00",
          "2016-04-01T00:00:00",
          "2016-05-01T00:00:00",
          "2016-06-01T00:00:00",
          "2016-07-01T00:00:00",
          "2016-08-01T00:00:00",
          "2016-09-01T00:00:00",
          "2016-10-01T00:00:00",
          "2016-11-01T00:00:00",
          "2016-12-01T00:00:00",
          "2017-01-01T00:00:00",
          "2017-02-01T00:00:00"
         ],
         "y": [
          147.76075268817203,
          108.54444444444445,
          129.81317204301075,
          113.60277777777777,
          80.05174731182795,
          85.65188172043011,
          102.27569444444444,
          126.79569892473118,
          112.9888888888889,
          115.79301075268818,
          141.52083333333334,
          167.11532738095238,
          150.72177419354838,
          157.9138888888889,
          132.51827956989248,
          86.80277777777778,
          122.00940860215054,
          103.4497311827957,
          96.90513888888889,
          163.93010752688173,
          144.7625,
          109.91935483870968,
          126.09677419354838,
          127.93526785714286,
          153.39012096774192,
          123.00277777777778,
          94.65658602150538,
          83.13638888888889,
          79.21908602150538,
          66.19422043010752,
          65.60902777777778,
          86.25537634408602,
          118.07708333333333,
          156.49126344086022,
          81.86827956989248,
          56.576149425287355,
          139.0228494623656,
          103.26736111111111,
          71.5739247311828,
          75.17986111111111,
          79.75537634408602,
          57.868951612903224,
          66.03611111111111,
          99.93817204301075,
          134.7722222222222,
          147.0040322580645,
          133.2244623655914,
          85.65699404761905
         ]
        },
        {
         "mode": "lines",
         "name": "Wanshouxigong",
         "type": "scatter",
         "x": [
          "2013-03-01T00:00:00",
          "2013-04-01T00:00:00",
          "2013-05-01T00:00:00",
          "2013-06-01T00:00:00",
          "2013-07-01T00:00:00",
          "2013-08-01T00:00:00",
          "2013-09-01T00:00:00",
          "2013-10-01T00:00:00",
          "2013-11-01T00:00:00",
          "2013-12-01T00:00:00",
          "2014-01-01T00:00:00",
          "2014-02-01T00:00:00",
          "2014-03-01T00:00:00",
          "2014-04-01T00:00:00",
          "2014-05-01T00:00:00",
          "2014-06-01T00:00:00",
          "2014-07-01T00:00:00",
          "2014-08-01T00:00:00",
          "2014-09-01T00:00:00",
          "2014-10-01T00:00:00",
          "2014-11-01T00:00:00",
          "2014-12-01T00:00:00",
          "2015-01-01T00:00:00",
          "2015-02-01T00:00:00",
          "2015-03-01T00:00:00",
          "2015-04-01T00:00:00",
          "2015-05-01T00:00:00",
          "2015-06-01T00:00:00",
          "2015-07-01T00:00:00",
          "2015-08-01T00:00:00",
          "2015-09-01T00:00:00",
          "2015-10-01T00:00:00",
          "2015-11-01T00:00:00",
          "2015-12-01T00:00:00",
          "2016-01-01T00:00:00",
          "2016-02-01T00:00:00",
          "2016-03-01T00:00:00",
          "2016-04-01T00:00:00",
          "2016-05-01T00:00:00",
          "2016-06-01T00:00:00",
          "2016-07-01T00:00:00",
          "2016-08-01T00:00:00",
          "2016-09-01T00:00:00",
          "2016-10-01T00:00:00",
          "2016-11-01T00:00:00",
          "2016-12-01T00:00:00",
          "2017-01-01T00:00:00",
          "2017-02-01T00:00:00"
         ],
         "y": [
          130.19354838709677,
          93.93055555555556,
          129.03360215053763,
          118.38680555555555,
          73.72715053763442,
          81.59274193548387,
          117.49027777777778,
          133.95833333333334,
          111.68611111111112,
          121.84543010752688,
          156.1747311827957,
          176.3125,
          158.07056451612902,
          141.15277777777777,
          118.91881720430108,
          81.17777777777778,
          110.32862903225806,
          91.19086021505376,
          97.71708333333333,
          143.29166666666666,
          142.11166666666665,
          112.69610215053763,
          128.39180107526883,
          133.85119047619048,
          154.65322580645162,
          119.97916666666667,
          93.51747311827957,
          80.95555555555555,
          77.34139784946237,
          68.07190860215054,
          68.275,
          98.72715053763442,
          131.6548611111111,
          179.74395161290323,
          88.44220430107526,
          60.015086206896555,
          130.82258064516128,
          109.25902777777777,
          96.33400537634408,
          80.79513888888889,
          82.05309139784946,
          64.59475806451613,
          70.39791666666666,
          95.0611559139785,
          136.37777777777777,
          169.17809139784947,
          149.46908602150538,
          90.90625
         ]
        }
       ],
       "layout": {
        "plot_bgcolor": "white",
        "showlegend": true,
        "template": {
         "data": {
          "bar": [
           {
            "error_x": {
             "color": "#2a3f5f"
            },
            "error_y": {
             "color": "#2a3f5f"
            },
            "marker": {
             "line": {
              "color": "#E5ECF6",
              "width": 0.5
             },
             "pattern": {
              "fillmode": "overlay",
              "size": 10,
              "solidity": 0.2
             }
            },
            "type": "bar"
           }
          ],
          "barpolar": [
           {
            "marker": {
             "line": {
              "color": "#E5ECF6",
              "width": 0.5
             },
             "pattern": {
              "fillmode": "overlay",
              "size": 10,
              "solidity": 0.2
             }
            },
            "type": "barpolar"
           }
          ],
          "carpet": [
           {
            "aaxis": {
             "endlinecolor": "#2a3f5f",
             "gridcolor": "white",
             "linecolor": "white",
             "minorgridcolor": "white",
             "startlinecolor": "#2a3f5f"
            },
            "baxis": {
             "endlinecolor": "#2a3f5f",
             "gridcolor": "white",
             "linecolor": "white",
             "minorgridcolor": "white",
             "startlinecolor": "#2a3f5f"
            },
            "type": "carpet"
           }
          ],
          "choropleth": [
           {
            "colorbar": {
             "outlinewidth": 0,
             "ticks": ""
            },
            "type": "choropleth"
           }
          ],
          "contour": [
           {
            "colorbar": {
             "outlinewidth": 0,
             "ticks": ""
            },
            "colorscale": [
             [
              0,
              "#0d0887"
             ],
             [
              0.1111111111111111,
              "#46039f"
             ],
             [
              0.2222222222222222,
              "#7201a8"
             ],
             [
              0.3333333333333333,
              "#9c179e"
             ],
             [
              0.4444444444444444,
              "#bd3786"
             ],
             [
              0.5555555555555556,
              "#d8576b"
             ],
             [
              0.6666666666666666,
              "#ed7953"
             ],
             [
              0.7777777777777778,
              "#fb9f3a"
             ],
             [
              0.8888888888888888,
              "#fdca26"
             ],
             [
              1,
              "#f0f921"
             ]
            ],
            "type": "contour"
           }
          ],
          "contourcarpet": [
           {
            "colorbar": {
             "outlinewidth": 0,
             "ticks": ""
            },
            "type": "contourcarpet"
           }
          ],
          "heatmap": [
           {
            "colorbar": {
             "outlinewidth": 0,
             "ticks": ""
            },
            "colorscale": [
             [
              0,
              "#0d0887"
             ],
             [
              0.1111111111111111,
              "#46039f"
             ],
             [
              0.2222222222222222,
              "#7201a8"
             ],
             [
              0.3333333333333333,
              "#9c179e"
             ],
             [
              0.4444444444444444,
              "#bd3786"
             ],
             [
              0.5555555555555556,
              "#d8576b"
             ],
             [
              0.6666666666666666,
              "#ed7953"
             ],
             [
              0.7777777777777778,
              "#fb9f3a"
             ],
             [
              0.8888888888888888,
              "#fdca26"
             ],
             [
              1,
              "#f0f921"
             ]
            ],
            "type": "heatmap"
           }
          ],
          "heatmapgl": [
           {
            "colorbar": {
             "outlinewidth": 0,
             "ticks": ""
            },
            "colorscale": [
             [
              0,
              "#0d0887"
             ],
             [
              0.1111111111111111,
              "#46039f"
             ],
             [
              0.2222222222222222,
              "#7201a8"
             ],
             [
              0.3333333333333333,
              "#9c179e"
             ],
             [
              0.4444444444444444,
              "#bd3786"
             ],
             [
              0.5555555555555556,
              "#d8576b"
             ],
             [
              0.6666666666666666,
              "#ed7953"
             ],
             [
              0.7777777777777778,
              "#fb9f3a"
             ],
             [
              0.8888888888888888,
              "#fdca26"
             ],
             [
              1,
              "#f0f921"
             ]
            ],
            "type": "heatmapgl"
           }
          ],
          "histogram": [
           {
            "marker": {
             "pattern": {
              "fillmode": "overlay",
              "size": 10,
              "solidity": 0.2
             }
            },
            "type": "histogram"
           }
          ],
          "histogram2d": [
           {
            "colorbar": {
             "outlinewidth": 0,
             "ticks": ""
            },
            "colorscale": [
             [
              0,
              "#0d0887"
             ],
             [
              0.1111111111111111,
              "#46039f"
             ],
             [
              0.2222222222222222,
              "#7201a8"
             ],
             [
              0.3333333333333333,
              "#9c179e"
             ],
             [
              0.4444444444444444,
              "#bd3786"
             ],
             [
              0.5555555555555556,
              "#d8576b"
             ],
             [
              0.6666666666666666,
              "#ed7953"
             ],
             [
              0.7777777777777778,
              "#fb9f3a"
             ],
             [
              0.8888888888888888,
              "#fdca26"
             ],
             [
              1,
              "#f0f921"
             ]
            ],
            "type": "histogram2d"
           }
          ],
          "histogram2dcontour": [
           {
            "colorbar": {
             "outlinewidth": 0,
             "ticks": ""
            },
            "colorscale": [
             [
              0,
              "#0d0887"
             ],
             [
              0.1111111111111111,
              "#46039f"
             ],
             [
              0.2222222222222222,
              "#7201a8"
             ],
             [
              0.3333333333333333,
              "#9c179e"
             ],
             [
              0.4444444444444444,
              "#bd3786"
             ],
             [
              0.5555555555555556,
              "#d8576b"
             ],
             [
              0.6666666666666666,
              "#ed7953"
             ],
             [
              0.7777777777777778,
              "#fb9f3a"
             ],
             [
              0.8888888888888888,
              "#fdca26"
             ],
             [
              1,
              "#f0f921"
             ]
            ],
            "type": "histogram2dcontour"
           }
          ],
          "mesh3d": [
           {
            "colorbar": {
             "outlinewidth": 0,
             "ticks": ""
            },
            "type": "mesh3d"
           }
          ],
          "parcoords": [
           {
            "line": {
             "colorbar": {
              "outlinewidth": 0,
              "ticks": ""
             }
            },
            "type": "parcoords"
           }
          ],
          "pie": [
           {
            "automargin": true,
            "type": "pie"
           }
          ],
          "scatter": [
           {
            "fillpattern": {
             "fillmode": "overlay",
             "size": 10,
             "solidity": 0.2
            },
            "type": "scatter"
           }
          ],
          "scatter3d": [
           {
            "line": {
             "colorbar": {
              "outlinewidth": 0,
              "ticks": ""
             }
            },
            "marker": {
             "colorbar": {
              "outlinewidth": 0,
              "ticks": ""
             }
            },
            "type": "scatter3d"
           }
          ],
          "scattercarpet": [
           {
            "marker": {
             "colorbar": {
              "outlinewidth": 0,
              "ticks": ""
             }
            },
            "type": "scattercarpet"
           }
          ],
          "scattergeo": [
           {
            "marker": {
             "colorbar": {
              "outlinewidth": 0,
              "ticks": ""
             }
            },
            "type": "scattergeo"
           }
          ],
          "scattergl": [
           {
            "marker": {
             "colorbar": {
              "outlinewidth": 0,
              "ticks": ""
             }
            },
            "type": "scattergl"
           }
          ],
          "scattermapbox": [
           {
            "marker": {
             "colorbar": {
              "outlinewidth": 0,
              "ticks": ""
             }
            },
            "type": "scattermapbox"
           }
          ],
          "scatterpolar": [
           {
            "marker": {
             "colorbar": {
              "outlinewidth": 0,
              "ticks": ""
             }
            },
            "type": "scatterpolar"
           }
          ],
          "scatterpolargl": [
           {
            "marker": {
             "colorbar": {
              "outlinewidth": 0,
              "ticks": ""
             }
            },
            "type": "scatterpolargl"
           }
          ],
          "scatterternary": [
           {
            "marker": {
             "colorbar": {
              "outlinewidth": 0,
              "ticks": ""
             }
            },
            "type": "scatterternary"
           }
          ],
          "surface": [
           {
            "colorbar": {
             "outlinewidth": 0,
             "ticks": ""
            },
            "colorscale": [
             [
              0,
              "#0d0887"
             ],
             [
              0.1111111111111111,
              "#46039f"
             ],
             [
              0.2222222222222222,
              "#7201a8"
             ],
             [
              0.3333333333333333,
              "#9c179e"
             ],
             [
              0.4444444444444444,
              "#bd3786"
             ],
             [
              0.5555555555555556,
              "#d8576b"
             ],
             [
              0.6666666666666666,
              "#ed7953"
             ],
             [
              0.7777777777777778,
              "#fb9f3a"
             ],
             [
              0.8888888888888888,
              "#fdca26"
             ],
             [
              1,
              "#f0f921"
             ]
            ],
            "type": "surface"
           }
          ],
          "table": [
           {
            "cells": {
             "fill": {
              "color": "#EBF0F8"
             },
             "line": {
              "color": "white"
             }
            },
            "header": {
             "fill": {
              "color": "#C8D4E3"
             },
             "line": {
              "color": "white"
             }
            },
            "type": "table"
           }
          ]
         },
         "layout": {
          "annotationdefaults": {
           "arrowcolor": "#2a3f5f",
           "arrowhead": 0,
           "arrowwidth": 1
          },
          "autotypenumbers": "strict",
          "coloraxis": {
           "colorbar": {
            "outlinewidth": 0,
            "ticks": ""
           }
          },
          "colorscale": {
           "diverging": [
            [
             0,
             "#8e0152"
            ],
            [
             0.1,
             "#c51b7d"
            ],
            [
             0.2,
             "#de77ae"
            ],
            [
             0.3,
             "#f1b6da"
            ],
            [
             0.4,
             "#fde0ef"
            ],
            [
             0.5,
             "#f7f7f7"
            ],
            [
             0.6,
             "#e6f5d0"
            ],
            [
             0.7,
             "#b8e186"
            ],
            [
             0.8,
             "#7fbc41"
            ],
            [
             0.9,
             "#4d9221"
            ],
            [
             1,
             "#276419"
            ]
           ],
           "sequential": [
            [
             0,
             "#0d0887"
            ],
            [
             0.1111111111111111,
             "#46039f"
            ],
            [
             0.2222222222222222,
             "#7201a8"
            ],
            [
             0.3333333333333333,
             "#9c179e"
            ],
            [
             0.4444444444444444,
             "#bd3786"
            ],
            [
             0.5555555555555556,
             "#d8576b"
            ],
            [
             0.6666666666666666,
             "#ed7953"
            ],
            [
             0.7777777777777778,
             "#fb9f3a"
            ],
            [
             0.8888888888888888,
             "#fdca26"
            ],
            [
             1,
             "#f0f921"
            ]
           ],
           "sequentialminus": [
            [
             0,
             "#0d0887"
            ],
            [
             0.1111111111111111,
             "#46039f"
            ],
            [
             0.2222222222222222,
             "#7201a8"
            ],
            [
             0.3333333333333333,
             "#9c179e"
            ],
            [
             0.4444444444444444,
             "#bd3786"
            ],
            [
             0.5555555555555556,
             "#d8576b"
            ],
            [
             0.6666666666666666,
             "#ed7953"
            ],
            [
             0.7777777777777778,
             "#fb9f3a"
            ],
            [
             0.8888888888888888,
             "#fdca26"
            ],
            [
             1,
             "#f0f921"
            ]
           ]
          },
          "colorway": [
           "#636efa",
           "#EF553B",
           "#00cc96",
           "#ab63fa",
           "#FFA15A",
           "#19d3f3",
           "#FF6692",
           "#B6E880",
           "#FF97FF",
           "#FECB52"
          ],
          "font": {
           "color": "#2a3f5f"
          },
          "geo": {
           "bgcolor": "white",
           "lakecolor": "white",
           "landcolor": "#E5ECF6",
           "showlakes": true,
           "showland": true,
           "subunitcolor": "white"
          },
          "hoverlabel": {
           "align": "left"
          },
          "hovermode": "closest",
          "mapbox": {
           "style": "light"
          },
          "paper_bgcolor": "white",
          "plot_bgcolor": "#E5ECF6",
          "polar": {
           "angularaxis": {
            "gridcolor": "white",
            "linecolor": "white",
            "ticks": ""
           },
           "bgcolor": "#E5ECF6",
           "radialaxis": {
            "gridcolor": "white",
            "linecolor": "white",
            "ticks": ""
           }
          },
          "scene": {
           "xaxis": {
            "backgroundcolor": "#E5ECF6",
            "gridcolor": "white",
            "gridwidth": 2,
            "linecolor": "white",
            "showbackground": true,
            "ticks": "",
            "zerolinecolor": "white"
           },
           "yaxis": {
            "backgroundcolor": "#E5ECF6",
            "gridcolor": "white",
            "gridwidth": 2,
            "linecolor": "white",
            "showbackground": true,
            "ticks": "",
            "zerolinecolor": "white"
           },
           "zaxis": {
            "backgroundcolor": "#E5ECF6",
            "gridcolor": "white",
            "gridwidth": 2,
            "linecolor": "white",
            "showbackground": true,
            "ticks": "",
            "zerolinecolor": "white"
           }
          },
          "shapedefaults": {
           "line": {
            "color": "#2a3f5f"
           }
          },
          "ternary": {
           "aaxis": {
            "gridcolor": "white",
            "linecolor": "white",
            "ticks": ""
           },
           "baxis": {
            "gridcolor": "white",
            "linecolor": "white",
            "ticks": ""
           },
           "bgcolor": "#E5ECF6",
           "caxis": {
            "gridcolor": "white",
            "linecolor": "white",
            "ticks": ""
           }
          },
          "title": {
           "x": 0.05
          },
          "xaxis": {
           "automargin": true,
           "gridcolor": "white",
           "linecolor": "white",
           "ticks": "",
           "title": {
            "standoff": 15
           },
           "zerolinecolor": "white",
           "zerolinewidth": 2
          },
          "yaxis": {
           "automargin": true,
           "gridcolor": "white",
           "linecolor": "white",
           "ticks": "",
           "title": {
            "standoff": 15
           },
           "zerolinecolor": "white",
           "zerolinewidth": 2
          }
         }
        },
        "title": {
         "text": "Average PM10 per Month"
        }
       }
      }
     },
     "metadata": {},
     "output_type": "display_data"
    }
   ],
   "source": [
    "fig = go.Figure()\n",
    "\n",
    "for station in stations:\n",
    "    fig.add_trace(go.Scatter(\n",
    "        x=v1[v1['station'] == station]['year_month'],\n",
    "        y=v1[v1['station'] == station]['PM10'], \n",
    "        mode='lines', \n",
    "        name=station \n",
    "    ))\n",
    "\n",
    "fig.update_layout(\n",
    "    title='Average PM10 per Month',\n",
    "    showlegend=True,\n",
    "    plot_bgcolor='white',\n",
    ")"
   ]
  },
  {
   "cell_type": "markdown",
   "metadata": {},
   "source": [
    "Berdasarkan grafik diatas, dapat dilihat untuk variabel PM10 pada seluruh stasiun secara konsisten udara terbaik berada di sekitar bulan `juli` dan `januari` untuk setiap tahunnya."
   ]
  },
  {
   "cell_type": "markdown",
   "metadata": {},
   "source": [
    "#### SO2 (Sodium Dioxide)"
   ]
  },
  {
   "cell_type": "code",
   "execution_count": 29,
   "metadata": {},
   "outputs": [
    {
     "data": {
      "application/vnd.plotly.v1+json": {
       "config": {
        "plotlyServerURL": "https://plot.ly"
       },
       "data": [
        {
         "mode": "lines",
         "name": "Aotizhongxin",
         "type": "scatter",
         "x": [
          "2013-03-01T00:00:00",
          "2013-04-01T00:00:00",
          "2013-05-01T00:00:00",
          "2013-06-01T00:00:00",
          "2013-07-01T00:00:00",
          "2013-08-01T00:00:00",
          "2013-09-01T00:00:00",
          "2013-10-01T00:00:00",
          "2013-11-01T00:00:00",
          "2013-12-01T00:00:00",
          "2014-01-01T00:00:00",
          "2014-02-01T00:00:00",
          "2014-03-01T00:00:00",
          "2014-04-01T00:00:00",
          "2014-05-01T00:00:00",
          "2014-06-01T00:00:00",
          "2014-07-01T00:00:00",
          "2014-08-01T00:00:00",
          "2014-09-01T00:00:00",
          "2014-10-01T00:00:00",
          "2014-11-01T00:00:00",
          "2014-12-01T00:00:00",
          "2015-01-01T00:00:00",
          "2015-02-01T00:00:00",
          "2015-03-01T00:00:00",
          "2015-04-01T00:00:00",
          "2015-05-01T00:00:00",
          "2015-06-01T00:00:00",
          "2015-07-01T00:00:00",
          "2015-08-01T00:00:00",
          "2015-09-01T00:00:00",
          "2015-10-01T00:00:00",
          "2015-11-01T00:00:00",
          "2015-12-01T00:00:00",
          "2016-01-01T00:00:00",
          "2016-02-01T00:00:00",
          "2016-03-01T00:00:00",
          "2016-04-01T00:00:00",
          "2016-05-01T00:00:00",
          "2016-06-01T00:00:00",
          "2016-07-01T00:00:00",
          "2016-08-01T00:00:00",
          "2016-09-01T00:00:00",
          "2016-10-01T00:00:00",
          "2016-11-01T00:00:00",
          "2016-12-01T00:00:00",
          "2017-01-01T00:00:00",
          "2017-02-01T00:00:00"
         ],
         "y": [
          44.94506774193549,
          24.796645555555557,
          30.442204301075268,
          14.627276111111112,
          9.285232258064516,
          6.918245698924731,
          13.816618888888888,
          22.42548172043011,
          25.961111111111112,
          42.28986559139785,
          58.35752688172043,
          57.367559523809526,
          36.61693548387097,
          19.891666666666666,
          15.475403225806453,
          6.2972222222222225,
          4.495295698924731,
          4.037096774193548,
          5.545833333333333,
          10.828629032258064,
          17.151666666666667,
          24.392473118279568,
          37.946908602150536,
          30.427083333333332,
          22.835819892473115,
          9.659583333333332,
          8.680779569892474,
          7.3381944444444445,
          5.737231182795699,
          4.158602150537634,
          5.81875,
          6.366935483870968,
          10.518055555555556,
          23.540994623655912,
          22.913306451612904,
          18.12787356321839,
          22.306451612903224,
          11.411805555555556,
          9.450940860215054,
          5.504166666666666,
          3.4408602150537635,
          2.682795698924731,
          3.0395833333333333,
          3.3178763440860215,
          9.785416666666666,
          18.055779569892472,
          20.39516129032258,
          21.305803571428573
         ]
        },
        {
         "mode": "lines",
         "name": "Changping",
         "type": "scatter",
         "x": [
          "2013-03-01T00:00:00",
          "2013-04-01T00:00:00",
          "2013-05-01T00:00:00",
          "2013-06-01T00:00:00",
          "2013-07-01T00:00:00",
          "2013-08-01T00:00:00",
          "2013-09-01T00:00:00",
          "2013-10-01T00:00:00",
          "2013-11-01T00:00:00",
          "2013-12-01T00:00:00",
          "2014-01-01T00:00:00",
          "2014-02-01T00:00:00",
          "2014-03-01T00:00:00",
          "2014-04-01T00:00:00",
          "2014-05-01T00:00:00",
          "2014-06-01T00:00:00",
          "2014-07-01T00:00:00",
          "2014-08-01T00:00:00",
          "2014-09-01T00:00:00",
          "2014-10-01T00:00:00",
          "2014-11-01T00:00:00",
          "2014-12-01T00:00:00",
          "2015-01-01T00:00:00",
          "2015-02-01T00:00:00",
          "2015-03-01T00:00:00",
          "2015-04-01T00:00:00",
          "2015-05-01T00:00:00",
          "2015-06-01T00:00:00",
          "2015-07-01T00:00:00",
          "2015-08-01T00:00:00",
          "2015-09-01T00:00:00",
          "2015-10-01T00:00:00",
          "2015-11-01T00:00:00",
          "2015-12-01T00:00:00",
          "2016-01-01T00:00:00",
          "2016-02-01T00:00:00",
          "2016-03-01T00:00:00",
          "2016-04-01T00:00:00",
          "2016-05-01T00:00:00",
          "2016-06-01T00:00:00",
          "2016-07-01T00:00:00",
          "2016-08-01T00:00:00",
          "2016-09-01T00:00:00",
          "2016-10-01T00:00:00",
          "2016-11-01T00:00:00",
          "2016-12-01T00:00:00",
          "2017-01-01T00:00:00",
          "2017-02-01T00:00:00"
         ],
         "y": [
          34.977694623655914,
          16.716323333333335,
          23.327701075268816,
          14.018699444444444,
          6.5502806451612905,
          7.047229032258064,
          6.75464,
          12.535789247311829,
          24.884736666666665,
          44.07783010752688,
          57.946908602150536,
          62.39434523809524,
          34.60752688172043,
          15.792361111111111,
          12.308736559139787,
          5.326388888888889,
          5.544354838709677,
          4.777822580645161,
          5.346527777777778,
          6.497983870967742,
          17.81263888888889,
          29.315188172043012,
          37.2755376344086,
          28.745535714285715,
          20.896908602150535,
          6.1090277777777775,
          6.018817204301075,
          4.554861111111111,
          4.264784946236559,
          2.75,
          4.153472222222222,
          4.88239247311828,
          7.538888888888889,
          14.055779569892474,
          16.43010752688172,
          13.023706896551724,
          12.563844086021506,
          7.497916666666667,
          6.170430107526882,
          3.9412499999999997,
          3.088709677419355,
          2.894489247311828,
          3.323611111111111,
          3.428494623655914,
          10.006527777777778,
          15.423387096774194,
          17.094086021505376,
          15.697916666666666
         ]
        },
        {
         "mode": "lines",
         "name": "Dingling",
         "type": "scatter",
         "x": [
          "2013-03-01T00:00:00",
          "2013-04-01T00:00:00",
          "2013-05-01T00:00:00",
          "2013-06-01T00:00:00",
          "2013-07-01T00:00:00",
          "2013-08-01T00:00:00",
          "2013-09-01T00:00:00",
          "2013-10-01T00:00:00",
          "2013-11-01T00:00:00",
          "2013-12-01T00:00:00",
          "2014-01-01T00:00:00",
          "2014-02-01T00:00:00",
          "2014-03-01T00:00:00",
          "2014-04-01T00:00:00",
          "2014-05-01T00:00:00",
          "2014-06-01T00:00:00",
          "2014-07-01T00:00:00",
          "2014-08-01T00:00:00",
          "2014-09-01T00:00:00",
          "2014-10-01T00:00:00",
          "2014-11-01T00:00:00",
          "2014-12-01T00:00:00",
          "2015-01-01T00:00:00",
          "2015-02-01T00:00:00",
          "2015-03-01T00:00:00",
          "2015-04-01T00:00:00",
          "2015-05-01T00:00:00",
          "2015-06-01T00:00:00",
          "2015-07-01T00:00:00",
          "2015-08-01T00:00:00",
          "2015-09-01T00:00:00",
          "2015-10-01T00:00:00",
          "2015-11-01T00:00:00",
          "2015-12-01T00:00:00",
          "2016-01-01T00:00:00",
          "2016-02-01T00:00:00",
          "2016-03-01T00:00:00",
          "2016-04-01T00:00:00",
          "2016-05-01T00:00:00",
          "2016-06-01T00:00:00",
          "2016-07-01T00:00:00",
          "2016-08-01T00:00:00",
          "2016-09-01T00:00:00",
          "2016-10-01T00:00:00",
          "2016-11-01T00:00:00",
          "2016-12-01T00:00:00",
          "2017-01-01T00:00:00",
          "2017-02-01T00:00:00"
         ],
         "y": [
          24.388039784946237,
          13.64971455026455,
          17.4210595750128,
          7.7896192592592595,
          4.081229211469535,
          4.807795698924731,
          5.463482716049383,
          11.345827479091994,
          19.334163333333333,
          30.965641935483873,
          37.049731182795696,
          37.61904761904762,
          22.844086021505376,
          11.447222222222223,
          9.233003421309872,
          4.231313131313131,
          4.863037634408602,
          4.608198924731183,
          5.157638888888889,
          6.530241935483871,
          15.718055555555555,
          20.635528673835125,
          27.902240143369177,
          23.548363095238095,
          14.79516129032258,
          6.5031944444444445,
          6.60752688172043,
          6.7444444444444445,
          4.914650537634409,
          5.745967741935484,
          3.838888888888889,
          7.866263440860215,
          12.604166666666666,
          15.479166666666666,
          15.485887096774194,
          9.655890804597702,
          12.381720430107526,
          7.008333333333334,
          3.9905913978494625,
          3.3944444444444444,
          2.612231182795699,
          2.2143817204301075,
          3.015277777777778,
          2.991263440860215,
          9.015277777777778,
          14.186827956989248,
          13.906586021505376,
          12.536458333333334
         ]
        },
        {
         "mode": "lines",
         "name": "Dongsi",
         "type": "scatter",
         "x": [
          "2013-03-01T00:00:00",
          "2013-04-01T00:00:00",
          "2013-05-01T00:00:00",
          "2013-06-01T00:00:00",
          "2013-07-01T00:00:00",
          "2013-08-01T00:00:00",
          "2013-09-01T00:00:00",
          "2013-10-01T00:00:00",
          "2013-11-01T00:00:00",
          "2013-12-01T00:00:00",
          "2014-01-01T00:00:00",
          "2014-02-01T00:00:00",
          "2014-03-01T00:00:00",
          "2014-04-01T00:00:00",
          "2014-05-01T00:00:00",
          "2014-06-01T00:00:00",
          "2014-07-01T00:00:00",
          "2014-08-01T00:00:00",
          "2014-09-01T00:00:00",
          "2014-10-01T00:00:00",
          "2014-11-01T00:00:00",
          "2014-12-01T00:00:00",
          "2015-01-01T00:00:00",
          "2015-02-01T00:00:00",
          "2015-03-01T00:00:00",
          "2015-04-01T00:00:00",
          "2015-05-01T00:00:00",
          "2015-06-01T00:00:00",
          "2015-07-01T00:00:00",
          "2015-08-01T00:00:00",
          "2015-09-01T00:00:00",
          "2015-10-01T00:00:00",
          "2015-11-01T00:00:00",
          "2015-12-01T00:00:00",
          "2016-01-01T00:00:00",
          "2016-02-01T00:00:00",
          "2016-03-01T00:00:00",
          "2016-04-01T00:00:00",
          "2016-05-01T00:00:00",
          "2016-06-01T00:00:00",
          "2016-07-01T00:00:00",
          "2016-08-01T00:00:00",
          "2016-09-01T00:00:00",
          "2016-10-01T00:00:00",
          "2016-11-01T00:00:00",
          "2016-12-01T00:00:00",
          "2017-01-01T00:00:00",
          "2017-02-01T00:00:00"
         ],
         "y": [
          39.964802150537636,
          22.36589777777778,
          31.587365591397848,
          20.788428888888888,
          8.814829032258064,
          9.863050537634408,
          11.976084444444446,
          23.10118817204301,
          27.198611111111113,
          40.992558064516125,
          56.6875,
          63.292410714285715,
          38.00739247311828,
          20.654166666666665,
          17.620698924731183,
          8.259027777777778,
          9.30241935483871,
          7.559677419354839,
          9.969583333333334,
          11.910618279569892,
          19.36236111111111,
          30.420295698924733,
          36.11868279569892,
          28.621279761904763,
          23.86673387096774,
          12.203472222222222,
          11.22983870967742,
          8.666666666666666,
          5.247311827956989,
          3.788306451612903,
          6.518055555555556,
          7.534274193548387,
          15.811111111111112,
          23.549059139784948,
          19.774193548387096,
          15.446120689655173,
          20.313172043010752,
          11.054166666666667,
          9.579301075268818,
          6.118055555555555,
          4.690860215053763,
          3.096774193548387,
          4.106944444444444,
          6.309811827956989,
          14.795833333333333,
          22.263440860215052,
          21.180779569892472,
          19.459821428571427
         ]
        },
        {
         "mode": "lines",
         "name": "Guanyuan",
         "type": "scatter",
         "x": [
          "2013-03-01T00:00:00",
          "2013-04-01T00:00:00",
          "2013-05-01T00:00:00",
          "2013-06-01T00:00:00",
          "2013-07-01T00:00:00",
          "2013-08-01T00:00:00",
          "2013-09-01T00:00:00",
          "2013-10-01T00:00:00",
          "2013-11-01T00:00:00",
          "2013-12-01T00:00:00",
          "2014-01-01T00:00:00",
          "2014-02-01T00:00:00",
          "2014-03-01T00:00:00",
          "2014-04-01T00:00:00",
          "2014-05-01T00:00:00",
          "2014-06-01T00:00:00",
          "2014-07-01T00:00:00",
          "2014-08-01T00:00:00",
          "2014-09-01T00:00:00",
          "2014-10-01T00:00:00",
          "2014-11-01T00:00:00",
          "2014-12-01T00:00:00",
          "2015-01-01T00:00:00",
          "2015-02-01T00:00:00",
          "2015-03-01T00:00:00",
          "2015-04-01T00:00:00",
          "2015-05-01T00:00:00",
          "2015-06-01T00:00:00",
          "2015-07-01T00:00:00",
          "2015-08-01T00:00:00",
          "2015-09-01T00:00:00",
          "2015-10-01T00:00:00",
          "2015-11-01T00:00:00",
          "2015-12-01T00:00:00",
          "2016-01-01T00:00:00",
          "2016-02-01T00:00:00",
          "2016-03-01T00:00:00",
          "2016-04-01T00:00:00",
          "2016-05-01T00:00:00",
          "2016-06-01T00:00:00",
          "2016-07-01T00:00:00",
          "2016-08-01T00:00:00",
          "2016-09-01T00:00:00",
          "2016-10-01T00:00:00",
          "2016-11-01T00:00:00",
          "2016-12-01T00:00:00",
          "2017-01-01T00:00:00",
          "2017-02-01T00:00:00"
         ],
         "y": [
          45.68150860215054,
          22.645806666666665,
          28.478882795698922,
          14.294443333333334,
          10.347447311827956,
          7.185865591397849,
          9.899534444444443,
          15.193322580645162,
          24.654166666666665,
          39.69862903225806,
          55.67674731182796,
          62.98809523809524,
          37.778225806451616,
          18.505555555555556,
          15.741129032258064,
          7.23125,
          7.498655913978495,
          5.316263440860215,
          7.322916666666667,
          8.891801075268818,
          19.390694444444442,
          33.825268817204304,
          38.448051075268815,
          29.711309523809526,
          22.598387096774193,
          9.630555555555556,
          8.907930107526882,
          6.6375,
          5.285618279569892,
          3.448252688172043,
          5.374305555555556,
          6.029569892473118,
          10.878472222222221,
          22.679435483870968,
          23.456989247311828,
          15.060344827586206,
          19.28293010752688,
          11.11736111111111,
          9.75268817204301,
          5.781944444444444,
          4.985887096774194,
          3.943548387096774,
          3.938888888888889,
          5.214381720430108,
          13.463888888888889,
          21.670698924731184,
          21.621639784946236,
          20.857886904761905
         ]
        },
        {
         "mode": "lines",
         "name": "Gucheng",
         "type": "scatter",
         "x": [
          "2013-03-01T00:00:00",
          "2013-04-01T00:00:00",
          "2013-05-01T00:00:00",
          "2013-06-01T00:00:00",
          "2013-07-01T00:00:00",
          "2013-08-01T00:00:00",
          "2013-09-01T00:00:00",
          "2013-10-01T00:00:00",
          "2013-11-01T00:00:00",
          "2013-12-01T00:00:00",
          "2014-01-01T00:00:00",
          "2014-02-01T00:00:00",
          "2014-03-01T00:00:00",
          "2014-04-01T00:00:00",
          "2014-05-01T00:00:00",
          "2014-06-01T00:00:00",
          "2014-07-01T00:00:00",
          "2014-08-01T00:00:00",
          "2014-09-01T00:00:00",
          "2014-10-01T00:00:00",
          "2014-11-01T00:00:00",
          "2014-12-01T00:00:00",
          "2015-01-01T00:00:00",
          "2015-02-01T00:00:00",
          "2015-03-01T00:00:00",
          "2015-04-01T00:00:00",
          "2015-05-01T00:00:00",
          "2015-06-01T00:00:00",
          "2015-07-01T00:00:00",
          "2015-08-01T00:00:00",
          "2015-09-01T00:00:00",
          "2015-10-01T00:00:00",
          "2015-11-01T00:00:00",
          "2015-12-01T00:00:00",
          "2016-01-01T00:00:00",
          "2016-02-01T00:00:00",
          "2016-03-01T00:00:00",
          "2016-04-01T00:00:00",
          "2016-05-01T00:00:00",
          "2016-06-01T00:00:00",
          "2016-07-01T00:00:00",
          "2016-08-01T00:00:00",
          "2016-09-01T00:00:00",
          "2016-10-01T00:00:00",
          "2016-11-01T00:00:00",
          "2016-12-01T00:00:00",
          "2017-01-01T00:00:00",
          "2017-02-01T00:00:00"
         ],
         "y": [
          38.19857741935484,
          18.885862222222222,
          22.0217623655914,
          9.202774444444444,
          4.05768870967742,
          3.7271505376344085,
          6.666652222222222,
          10.874941935483871,
          20.709722222222222,
          40.2651688172043,
          52.74529569892473,
          53.06919642857143,
          31.893145161290324,
          15.620833333333334,
          29.34704301075269,
          3.061111111111111,
          4.459677419354839,
          3.972715053763441,
          4.726388888888889,
          8.227150537634408,
          19.002361111111114,
          31.052688172043013,
          35.90174731182796,
          28.470238095238095,
          22.502419354838707,
          9.115277777777777,
          8.526881720430108,
          6.392361111111111,
          3.4301075268817205,
          2.282258064516129,
          4.179166666666666,
          4.932795698924731,
          11.934722222222222,
          23.15456989247312,
          24.778225806451612,
          17.10632183908046,
          19.107526881720432,
          8.799305555555556,
          7.879704301075269,
          4.575,
          2.8239247311827955,
          2.586021505376344,
          2.604861111111111,
          2.928763440860215,
          12.136111111111111,
          17.159274193548388,
          21.649865591397848,
          19.41220238095238
         ]
        },
        {
         "mode": "lines",
         "name": "Huairou",
         "type": "scatter",
         "x": [
          "2013-03-01T00:00:00",
          "2013-04-01T00:00:00",
          "2013-05-01T00:00:00",
          "2013-06-01T00:00:00",
          "2013-07-01T00:00:00",
          "2013-08-01T00:00:00",
          "2013-09-01T00:00:00",
          "2013-10-01T00:00:00",
          "2013-11-01T00:00:00",
          "2013-12-01T00:00:00",
          "2014-01-01T00:00:00",
          "2014-02-01T00:00:00",
          "2014-03-01T00:00:00",
          "2014-04-01T00:00:00",
          "2014-05-01T00:00:00",
          "2014-06-01T00:00:00",
          "2014-07-01T00:00:00",
          "2014-08-01T00:00:00",
          "2014-09-01T00:00:00",
          "2014-10-01T00:00:00",
          "2014-11-01T00:00:00",
          "2014-12-01T00:00:00",
          "2015-01-01T00:00:00",
          "2015-02-01T00:00:00",
          "2015-03-01T00:00:00",
          "2015-04-01T00:00:00",
          "2015-05-01T00:00:00",
          "2015-06-01T00:00:00",
          "2015-07-01T00:00:00",
          "2015-08-01T00:00:00",
          "2015-09-01T00:00:00",
          "2015-10-01T00:00:00",
          "2015-11-01T00:00:00",
          "2015-12-01T00:00:00",
          "2016-01-01T00:00:00",
          "2016-02-01T00:00:00",
          "2016-03-01T00:00:00",
          "2016-04-01T00:00:00",
          "2016-05-01T00:00:00",
          "2016-06-01T00:00:00",
          "2016-07-01T00:00:00",
          "2016-08-01T00:00:00",
          "2016-09-01T00:00:00",
          "2016-10-01T00:00:00",
          "2016-11-01T00:00:00",
          "2016-12-01T00:00:00",
          "2017-01-01T00:00:00",
          "2017-02-01T00:00:00"
         ],
         "y": [
          32.99665053763441,
          19.261482222222224,
          35.378706451612906,
          9.94716888888889,
          5.30238064516129,
          4.212939784946236,
          7.850881111111111,
          10.836403225806452,
          19.743055555555557,
          36.90162258064516,
          47.53763440860215,
          54.923363095238095,
          30.263440860215052,
          13.565277777777778,
          10.209620224204986,
          5.152142434988179,
          4.463709677419355,
          4.356854838709677,
          5.1722222222222225,
          6.839381720430108,
          12.46111111111111,
          18.559677419354838,
          21.75,
          15.70639880952381,
          14.25,
          6.685,
          7.20497311827957,
          5.284027777777778,
          4.348118279569892,
          2.5853494623655915,
          3.870833333333333,
          4.714381720430108,
          7.954861111111111,
          9.931451612903226,
          11.906586021505376,
          8.801005747126437,
          11.734543010752688,
          7.847222222222222,
          6.73991935483871,
          4.743055555555555,
          3.0181451612903225,
          2.680779569892473,
          3.1770833333333335,
          4.86760752688172,
          6.248611111111111,
          7.885752688172043,
          9.311155913978494,
          10.29985119047619
         ]
        },
        {
         "mode": "lines",
         "name": "Nongzhanguan",
         "type": "scatter",
         "x": [
          "2013-03-01T00:00:00",
          "2013-04-01T00:00:00",
          "2013-05-01T00:00:00",
          "2013-06-01T00:00:00",
          "2013-07-01T00:00:00",
          "2013-08-01T00:00:00",
          "2013-09-01T00:00:00",
          "2013-10-01T00:00:00",
          "2013-11-01T00:00:00",
          "2013-12-01T00:00:00",
          "2014-01-01T00:00:00",
          "2014-02-01T00:00:00",
          "2014-03-01T00:00:00",
          "2014-04-01T00:00:00",
          "2014-05-01T00:00:00",
          "2014-06-01T00:00:00",
          "2014-07-01T00:00:00",
          "2014-08-01T00:00:00",
          "2014-09-01T00:00:00",
          "2014-10-01T00:00:00",
          "2014-11-01T00:00:00",
          "2014-12-01T00:00:00",
          "2015-01-01T00:00:00",
          "2015-02-01T00:00:00",
          "2015-03-01T00:00:00",
          "2015-04-01T00:00:00",
          "2015-05-01T00:00:00",
          "2015-06-01T00:00:00",
          "2015-07-01T00:00:00",
          "2015-08-01T00:00:00",
          "2015-09-01T00:00:00",
          "2015-10-01T00:00:00",
          "2015-11-01T00:00:00",
          "2015-12-01T00:00:00",
          "2016-01-01T00:00:00",
          "2016-02-01T00:00:00",
          "2016-03-01T00:00:00",
          "2016-04-01T00:00:00",
          "2016-05-01T00:00:00",
          "2016-06-01T00:00:00",
          "2016-07-01T00:00:00",
          "2016-08-01T00:00:00",
          "2016-09-01T00:00:00",
          "2016-10-01T00:00:00",
          "2016-11-01T00:00:00",
          "2016-12-01T00:00:00",
          "2017-01-01T00:00:00",
          "2017-02-01T00:00:00"
         ],
         "y": [
          45.27693548387097,
          23.35085333333333,
          28.301747311827956,
          17.54670666666667,
          8.965916129032259,
          6.110215053763441,
          14.095594444444444,
          19.834358064516127,
          24.135904444444446,
          44.36614301075269,
          60.62163978494624,
          65.75595238095238,
          39.14784946236559,
          19.649305555555557,
          17.23481182795699,
          8.417361111111111,
          8.088172043010752,
          6.463172043010753,
          8.915972222222223,
          10.366935483870968,
          20.26138888888889,
          36.18817204301075,
          42.54865591397849,
          32.30654761904762,
          24.45315860215054,
          11.521527777777777,
          9.899193548387096,
          8.176388888888889,
          5.719086021505376,
          3.8716397849462365,
          5.879861111111111,
          7.493279569892473,
          15.591666666666667,
          23.141801075268816,
          22.526881720430108,
          16.579741379310345,
          21.627688172043012,
          11.532638888888888,
          10.17271505376344,
          5.884722222222222,
          3.8756720430107525,
          3.5940860215053765,
          4.4840277777777775,
          5.954301075268817,
          12.82638888888889,
          19.576612903225808,
          21.80510752688172,
          19.279761904761905
         ]
        },
        {
         "mode": "lines",
         "name": "Shunyi",
         "type": "scatter",
         "x": [
          "2013-03-01T00:00:00",
          "2013-04-01T00:00:00",
          "2013-05-01T00:00:00",
          "2013-06-01T00:00:00",
          "2013-07-01T00:00:00",
          "2013-08-01T00:00:00",
          "2013-09-01T00:00:00",
          "2013-10-01T00:00:00",
          "2013-11-01T00:00:00",
          "2013-12-01T00:00:00",
          "2014-01-01T00:00:00",
          "2014-02-01T00:00:00",
          "2014-03-01T00:00:00",
          "2014-04-01T00:00:00",
          "2014-05-01T00:00:00",
          "2014-06-01T00:00:00",
          "2014-07-01T00:00:00",
          "2014-08-01T00:00:00",
          "2014-09-01T00:00:00",
          "2014-10-01T00:00:00",
          "2014-11-01T00:00:00",
          "2014-12-01T00:00:00",
          "2015-01-01T00:00:00",
          "2015-02-01T00:00:00",
          "2015-03-01T00:00:00",
          "2015-04-01T00:00:00",
          "2015-05-01T00:00:00",
          "2015-06-01T00:00:00",
          "2015-07-01T00:00:00",
          "2015-08-01T00:00:00",
          "2015-09-01T00:00:00",
          "2015-10-01T00:00:00",
          "2015-11-01T00:00:00",
          "2015-12-01T00:00:00",
          "2016-01-01T00:00:00",
          "2016-02-01T00:00:00",
          "2016-03-01T00:00:00",
          "2016-04-01T00:00:00",
          "2016-05-01T00:00:00",
          "2016-06-01T00:00:00",
          "2016-07-01T00:00:00",
          "2016-08-01T00:00:00",
          "2016-09-01T00:00:00",
          "2016-10-01T00:00:00",
          "2016-11-01T00:00:00",
          "2016-12-01T00:00:00",
          "2017-01-01T00:00:00",
          "2017-02-01T00:00:00"
         ],
         "y": [
          32.847943010752694,
          17.333270000000002,
          21.248655913978496,
          5.4864822222222225,
          5.869334072580646,
          4.03783313172043,
          8.57031888888889,
          9.826017204301076,
          15.741666666666667,
          29.4460623655914,
          44.17338709677419,
          47.963541666666664,
          30.836021505376344,
          16.997222222222224,
          11.564112903225807,
          4.745833333333334,
          6.270698924731183,
          4.524596774193548,
          4.440277777777778,
          7.348790322580645,
          11.93388888888889,
          23.469086021505376,
          26.558736559139785,
          20.55654761904762,
          17.676680107526884,
          10.610416666666667,
          9.10483870967742,
          4.430555555555555,
          3.1391129032258065,
          2.9254032258064515,
          3.1486111111111112,
          4.190188172043011,
          9.759722222222223,
          13.881048387096774,
          15.456989247311828,
          12.582614942528735,
          16.87298387096774,
          8.841666666666667,
          6.452956989247312,
          3.754861111111111,
          2.3373655913978495,
          2.528225806451613,
          3.61875,
          5.906586021505376,
          16.02638888888889,
          20.419354838709676,
          22.712365591397848,
          19.554315476190474
         ]
        },
        {
         "mode": "lines",
         "name": "Tiantan",
         "type": "scatter",
         "x": [
          "2013-03-01T00:00:00",
          "2013-04-01T00:00:00",
          "2013-05-01T00:00:00",
          "2013-06-01T00:00:00",
          "2013-07-01T00:00:00",
          "2013-08-01T00:00:00",
          "2013-09-01T00:00:00",
          "2013-10-01T00:00:00",
          "2013-11-01T00:00:00",
          "2013-12-01T00:00:00",
          "2014-01-01T00:00:00",
          "2014-02-01T00:00:00",
          "2014-03-01T00:00:00",
          "2014-04-01T00:00:00",
          "2014-05-01T00:00:00",
          "2014-06-01T00:00:00",
          "2014-07-01T00:00:00",
          "2014-08-01T00:00:00",
          "2014-09-01T00:00:00",
          "2014-10-01T00:00:00",
          "2014-11-01T00:00:00",
          "2014-12-01T00:00:00",
          "2015-01-01T00:00:00",
          "2015-02-01T00:00:00",
          "2015-03-01T00:00:00",
          "2015-04-01T00:00:00",
          "2015-05-01T00:00:00",
          "2015-06-01T00:00:00",
          "2015-07-01T00:00:00",
          "2015-08-01T00:00:00",
          "2015-09-01T00:00:00",
          "2015-10-01T00:00:00",
          "2015-11-01T00:00:00",
          "2015-12-01T00:00:00",
          "2016-01-01T00:00:00",
          "2016-02-01T00:00:00",
          "2016-03-01T00:00:00",
          "2016-04-01T00:00:00",
          "2016-05-01T00:00:00",
          "2016-06-01T00:00:00",
          "2016-07-01T00:00:00",
          "2016-08-01T00:00:00",
          "2016-09-01T00:00:00",
          "2016-10-01T00:00:00",
          "2016-11-01T00:00:00",
          "2016-12-01T00:00:00",
          "2017-01-01T00:00:00",
          "2017-02-01T00:00:00"
         ],
         "y": [
          37.740912903225805,
          21.31117111111111,
          26.999327956989248,
          15.270931111111112,
          6.993544623655914,
          6.2873430107526875,
          10.430247777777778,
          13.325233333333333,
          14.547222222222222,
          28.76018387096774,
          48.54099462365591,
          56.058035714285715,
          33.526881720430104,
          16.477083333333333,
          11.04614206226229,
          8.615514313440077,
          6.853494623655914,
          5.460752688172043,
          7.7,
          10.459677419354838,
          10.677777777777777,
          24.206451612903223,
          29.09905913978495,
          22.69047619047619,
          18.87701612903226,
          8.871527777777779,
          10.008736559139784,
          7.013194444444444,
          5.145833333333333,
          5.317876344086022,
          6.3069444444444445,
          5.331989247311828,
          10.854861111111111,
          12.736559139784946,
          18.100134408602152,
          12.897270114942529,
          15.91263440860215,
          11.26388888888889,
          9.251344086021506,
          6.0784722222222225,
          4.674731182795699,
          3.1169354838709675,
          3.5708333333333333,
          4.190188172043011,
          7.998611111111111,
          10.341397849462366,
          14.127016129032258,
          13.968005952380953
         ]
        },
        {
         "mode": "lines",
         "name": "Wanliu",
         "type": "scatter",
         "x": [
          "2013-03-01T00:00:00",
          "2013-04-01T00:00:00",
          "2013-05-01T00:00:00",
          "2013-06-01T00:00:00",
          "2013-07-01T00:00:00",
          "2013-08-01T00:00:00",
          "2013-09-01T00:00:00",
          "2013-10-01T00:00:00",
          "2013-11-01T00:00:00",
          "2013-12-01T00:00:00",
          "2014-01-01T00:00:00",
          "2014-02-01T00:00:00",
          "2014-03-01T00:00:00",
          "2014-04-01T00:00:00",
          "2014-05-01T00:00:00",
          "2014-06-01T00:00:00",
          "2014-07-01T00:00:00",
          "2014-08-01T00:00:00",
          "2014-09-01T00:00:00",
          "2014-10-01T00:00:00",
          "2014-11-01T00:00:00",
          "2014-12-01T00:00:00",
          "2015-01-01T00:00:00",
          "2015-02-01T00:00:00",
          "2015-03-01T00:00:00",
          "2015-04-01T00:00:00",
          "2015-05-01T00:00:00",
          "2015-06-01T00:00:00",
          "2015-07-01T00:00:00",
          "2015-08-01T00:00:00",
          "2015-09-01T00:00:00",
          "2015-10-01T00:00:00",
          "2015-11-01T00:00:00",
          "2015-12-01T00:00:00",
          "2016-01-01T00:00:00",
          "2016-02-01T00:00:00",
          "2016-03-01T00:00:00",
          "2016-04-01T00:00:00",
          "2016-05-01T00:00:00",
          "2016-06-01T00:00:00",
          "2016-07-01T00:00:00",
          "2016-08-01T00:00:00",
          "2016-09-01T00:00:00",
          "2016-10-01T00:00:00",
          "2016-11-01T00:00:00",
          "2016-12-01T00:00:00",
          "2017-01-01T00:00:00",
          "2017-02-01T00:00:00"
         ],
         "y": [
          43.46997849462365,
          25.897061111111107,
          24.678091397849464,
          19.664975,
          9.211751612903226,
          15.651762903225805,
          13.32443,
          22.40972580645161,
          21.647222222222222,
          39.75393548387097,
          59.48790322580645,
          65.03497023809524,
          41.41263440860215,
          18.183333333333334,
          16.69543010752688,
          7.697222222222222,
          11.420698924731182,
          9.409139784946236,
          10.240833333333333,
          11.59005376344086,
          19.335416666666667,
          32.652016129032255,
          38.77177419354839,
          30.77529761904762,
          23.480577956989247,
          10.818055555555556,
          9.468413978494624,
          8.371527777777779,
          5.362903225806452,
          3.155241935483871,
          4.702083333333333,
          5.48252688172043,
          13.276388888888889,
          25.325940860215052,
          23.284274193548388,
          18.395833333333332,
          20.625672043010752,
          9.934027777777779,
          8.241263440860216,
          5.186805555555556,
          2.864247311827957,
          2.309811827956989,
          2.9680555555555554,
          3.391801075268817,
          10.655555555555555,
          20.19287634408602,
          20.267473118279568,
          20.390625
         ]
        },
        {
         "mode": "lines",
         "name": "Wanshouxigong",
         "type": "scatter",
         "x": [
          "2013-03-01T00:00:00",
          "2013-04-01T00:00:00",
          "2013-05-01T00:00:00",
          "2013-06-01T00:00:00",
          "2013-07-01T00:00:00",
          "2013-08-01T00:00:00",
          "2013-09-01T00:00:00",
          "2013-10-01T00:00:00",
          "2013-11-01T00:00:00",
          "2013-12-01T00:00:00",
          "2014-01-01T00:00:00",
          "2014-02-01T00:00:00",
          "2014-03-01T00:00:00",
          "2014-04-01T00:00:00",
          "2014-05-01T00:00:00",
          "2014-06-01T00:00:00",
          "2014-07-01T00:00:00",
          "2014-08-01T00:00:00",
          "2014-09-01T00:00:00",
          "2014-10-01T00:00:00",
          "2014-11-01T00:00:00",
          "2014-12-01T00:00:00",
          "2015-01-01T00:00:00",
          "2015-02-01T00:00:00",
          "2015-03-01T00:00:00",
          "2015-04-01T00:00:00",
          "2015-05-01T00:00:00",
          "2015-06-01T00:00:00",
          "2015-07-01T00:00:00",
          "2015-08-01T00:00:00",
          "2015-09-01T00:00:00",
          "2015-10-01T00:00:00",
          "2015-11-01T00:00:00",
          "2015-12-01T00:00:00",
          "2016-01-01T00:00:00",
          "2016-02-01T00:00:00",
          "2016-03-01T00:00:00",
          "2016-04-01T00:00:00",
          "2016-05-01T00:00:00",
          "2016-06-01T00:00:00",
          "2016-07-01T00:00:00",
          "2016-08-01T00:00:00",
          "2016-09-01T00:00:00",
          "2016-10-01T00:00:00",
          "2016-11-01T00:00:00",
          "2016-12-01T00:00:00",
          "2017-01-01T00:00:00",
          "2017-02-01T00:00:00"
         ],
         "y": [
          41.875129032258066,
          22.028302222222223,
          26.63659032258065,
          14.65008,
          7.802751075268817,
          6.996331182795699,
          13.512820000000001,
          15.549886559139784,
          23.508333333333333,
          44.816954838709684,
          61.87768817204301,
          68.58482142857143,
          40.06720430107527,
          18.763194444444444,
          15.474462365591398,
          6.340277777777778,
          5.241935483870968,
          4.044623655913978,
          5.679166666666666,
          7.432795698924731,
          14.213194444444444,
          33.41505376344086,
          38.781317204301075,
          28.405505952380953,
          23.27016129032258,
          9.696527777777778,
          9.009408602150538,
          6.875,
          4.935483870967742,
          3.1061827956989245,
          4.938888888888889,
          5.426075268817204,
          14.54375,
          24.295026881720432,
          24.372311827956988,
          17.173132183908045,
          20.520833333333332,
          11.221527777777778,
          9.151881720430108,
          5.2625,
          3.3225806451612905,
          2.646505376344086,
          2.7666666666666666,
          3.309811827956989,
          10.468055555555555,
          17.418010752688172,
          18.588709677419356,
          18.539434523809526
         ]
        }
       ],
       "layout": {
        "plot_bgcolor": "white",
        "showlegend": true,
        "template": {
         "data": {
          "bar": [
           {
            "error_x": {
             "color": "#2a3f5f"
            },
            "error_y": {
             "color": "#2a3f5f"
            },
            "marker": {
             "line": {
              "color": "#E5ECF6",
              "width": 0.5
             },
             "pattern": {
              "fillmode": "overlay",
              "size": 10,
              "solidity": 0.2
             }
            },
            "type": "bar"
           }
          ],
          "barpolar": [
           {
            "marker": {
             "line": {
              "color": "#E5ECF6",
              "width": 0.5
             },
             "pattern": {
              "fillmode": "overlay",
              "size": 10,
              "solidity": 0.2
             }
            },
            "type": "barpolar"
           }
          ],
          "carpet": [
           {
            "aaxis": {
             "endlinecolor": "#2a3f5f",
             "gridcolor": "white",
             "linecolor": "white",
             "minorgridcolor": "white",
             "startlinecolor": "#2a3f5f"
            },
            "baxis": {
             "endlinecolor": "#2a3f5f",
             "gridcolor": "white",
             "linecolor": "white",
             "minorgridcolor": "white",
             "startlinecolor": "#2a3f5f"
            },
            "type": "carpet"
           }
          ],
          "choropleth": [
           {
            "colorbar": {
             "outlinewidth": 0,
             "ticks": ""
            },
            "type": "choropleth"
           }
          ],
          "contour": [
           {
            "colorbar": {
             "outlinewidth": 0,
             "ticks": ""
            },
            "colorscale": [
             [
              0,
              "#0d0887"
             ],
             [
              0.1111111111111111,
              "#46039f"
             ],
             [
              0.2222222222222222,
              "#7201a8"
             ],
             [
              0.3333333333333333,
              "#9c179e"
             ],
             [
              0.4444444444444444,
              "#bd3786"
             ],
             [
              0.5555555555555556,
              "#d8576b"
             ],
             [
              0.6666666666666666,
              "#ed7953"
             ],
             [
              0.7777777777777778,
              "#fb9f3a"
             ],
             [
              0.8888888888888888,
              "#fdca26"
             ],
             [
              1,
              "#f0f921"
             ]
            ],
            "type": "contour"
           }
          ],
          "contourcarpet": [
           {
            "colorbar": {
             "outlinewidth": 0,
             "ticks": ""
            },
            "type": "contourcarpet"
           }
          ],
          "heatmap": [
           {
            "colorbar": {
             "outlinewidth": 0,
             "ticks": ""
            },
            "colorscale": [
             [
              0,
              "#0d0887"
             ],
             [
              0.1111111111111111,
              "#46039f"
             ],
             [
              0.2222222222222222,
              "#7201a8"
             ],
             [
              0.3333333333333333,
              "#9c179e"
             ],
             [
              0.4444444444444444,
              "#bd3786"
             ],
             [
              0.5555555555555556,
              "#d8576b"
             ],
             [
              0.6666666666666666,
              "#ed7953"
             ],
             [
              0.7777777777777778,
              "#fb9f3a"
             ],
             [
              0.8888888888888888,
              "#fdca26"
             ],
             [
              1,
              "#f0f921"
             ]
            ],
            "type": "heatmap"
           }
          ],
          "heatmapgl": [
           {
            "colorbar": {
             "outlinewidth": 0,
             "ticks": ""
            },
            "colorscale": [
             [
              0,
              "#0d0887"
             ],
             [
              0.1111111111111111,
              "#46039f"
             ],
             [
              0.2222222222222222,
              "#7201a8"
             ],
             [
              0.3333333333333333,
              "#9c179e"
             ],
             [
              0.4444444444444444,
              "#bd3786"
             ],
             [
              0.5555555555555556,
              "#d8576b"
             ],
             [
              0.6666666666666666,
              "#ed7953"
             ],
             [
              0.7777777777777778,
              "#fb9f3a"
             ],
             [
              0.8888888888888888,
              "#fdca26"
             ],
             [
              1,
              "#f0f921"
             ]
            ],
            "type": "heatmapgl"
           }
          ],
          "histogram": [
           {
            "marker": {
             "pattern": {
              "fillmode": "overlay",
              "size": 10,
              "solidity": 0.2
             }
            },
            "type": "histogram"
           }
          ],
          "histogram2d": [
           {
            "colorbar": {
             "outlinewidth": 0,
             "ticks": ""
            },
            "colorscale": [
             [
              0,
              "#0d0887"
             ],
             [
              0.1111111111111111,
              "#46039f"
             ],
             [
              0.2222222222222222,
              "#7201a8"
             ],
             [
              0.3333333333333333,
              "#9c179e"
             ],
             [
              0.4444444444444444,
              "#bd3786"
             ],
             [
              0.5555555555555556,
              "#d8576b"
             ],
             [
              0.6666666666666666,
              "#ed7953"
             ],
             [
              0.7777777777777778,
              "#fb9f3a"
             ],
             [
              0.8888888888888888,
              "#fdca26"
             ],
             [
              1,
              "#f0f921"
             ]
            ],
            "type": "histogram2d"
           }
          ],
          "histogram2dcontour": [
           {
            "colorbar": {
             "outlinewidth": 0,
             "ticks": ""
            },
            "colorscale": [
             [
              0,
              "#0d0887"
             ],
             [
              0.1111111111111111,
              "#46039f"
             ],
             [
              0.2222222222222222,
              "#7201a8"
             ],
             [
              0.3333333333333333,
              "#9c179e"
             ],
             [
              0.4444444444444444,
              "#bd3786"
             ],
             [
              0.5555555555555556,
              "#d8576b"
             ],
             [
              0.6666666666666666,
              "#ed7953"
             ],
             [
              0.7777777777777778,
              "#fb9f3a"
             ],
             [
              0.8888888888888888,
              "#fdca26"
             ],
             [
              1,
              "#f0f921"
             ]
            ],
            "type": "histogram2dcontour"
           }
          ],
          "mesh3d": [
           {
            "colorbar": {
             "outlinewidth": 0,
             "ticks": ""
            },
            "type": "mesh3d"
           }
          ],
          "parcoords": [
           {
            "line": {
             "colorbar": {
              "outlinewidth": 0,
              "ticks": ""
             }
            },
            "type": "parcoords"
           }
          ],
          "pie": [
           {
            "automargin": true,
            "type": "pie"
           }
          ],
          "scatter": [
           {
            "fillpattern": {
             "fillmode": "overlay",
             "size": 10,
             "solidity": 0.2
            },
            "type": "scatter"
           }
          ],
          "scatter3d": [
           {
            "line": {
             "colorbar": {
              "outlinewidth": 0,
              "ticks": ""
             }
            },
            "marker": {
             "colorbar": {
              "outlinewidth": 0,
              "ticks": ""
             }
            },
            "type": "scatter3d"
           }
          ],
          "scattercarpet": [
           {
            "marker": {
             "colorbar": {
              "outlinewidth": 0,
              "ticks": ""
             }
            },
            "type": "scattercarpet"
           }
          ],
          "scattergeo": [
           {
            "marker": {
             "colorbar": {
              "outlinewidth": 0,
              "ticks": ""
             }
            },
            "type": "scattergeo"
           }
          ],
          "scattergl": [
           {
            "marker": {
             "colorbar": {
              "outlinewidth": 0,
              "ticks": ""
             }
            },
            "type": "scattergl"
           }
          ],
          "scattermapbox": [
           {
            "marker": {
             "colorbar": {
              "outlinewidth": 0,
              "ticks": ""
             }
            },
            "type": "scattermapbox"
           }
          ],
          "scatterpolar": [
           {
            "marker": {
             "colorbar": {
              "outlinewidth": 0,
              "ticks": ""
             }
            },
            "type": "scatterpolar"
           }
          ],
          "scatterpolargl": [
           {
            "marker": {
             "colorbar": {
              "outlinewidth": 0,
              "ticks": ""
             }
            },
            "type": "scatterpolargl"
           }
          ],
          "scatterternary": [
           {
            "marker": {
             "colorbar": {
              "outlinewidth": 0,
              "ticks": ""
             }
            },
            "type": "scatterternary"
           }
          ],
          "surface": [
           {
            "colorbar": {
             "outlinewidth": 0,
             "ticks": ""
            },
            "colorscale": [
             [
              0,
              "#0d0887"
             ],
             [
              0.1111111111111111,
              "#46039f"
             ],
             [
              0.2222222222222222,
              "#7201a8"
             ],
             [
              0.3333333333333333,
              "#9c179e"
             ],
             [
              0.4444444444444444,
              "#bd3786"
             ],
             [
              0.5555555555555556,
              "#d8576b"
             ],
             [
              0.6666666666666666,
              "#ed7953"
             ],
             [
              0.7777777777777778,
              "#fb9f3a"
             ],
             [
              0.8888888888888888,
              "#fdca26"
             ],
             [
              1,
              "#f0f921"
             ]
            ],
            "type": "surface"
           }
          ],
          "table": [
           {
            "cells": {
             "fill": {
              "color": "#EBF0F8"
             },
             "line": {
              "color": "white"
             }
            },
            "header": {
             "fill": {
              "color": "#C8D4E3"
             },
             "line": {
              "color": "white"
             }
            },
            "type": "table"
           }
          ]
         },
         "layout": {
          "annotationdefaults": {
           "arrowcolor": "#2a3f5f",
           "arrowhead": 0,
           "arrowwidth": 1
          },
          "autotypenumbers": "strict",
          "coloraxis": {
           "colorbar": {
            "outlinewidth": 0,
            "ticks": ""
           }
          },
          "colorscale": {
           "diverging": [
            [
             0,
             "#8e0152"
            ],
            [
             0.1,
             "#c51b7d"
            ],
            [
             0.2,
             "#de77ae"
            ],
            [
             0.3,
             "#f1b6da"
            ],
            [
             0.4,
             "#fde0ef"
            ],
            [
             0.5,
             "#f7f7f7"
            ],
            [
             0.6,
             "#e6f5d0"
            ],
            [
             0.7,
             "#b8e186"
            ],
            [
             0.8,
             "#7fbc41"
            ],
            [
             0.9,
             "#4d9221"
            ],
            [
             1,
             "#276419"
            ]
           ],
           "sequential": [
            [
             0,
             "#0d0887"
            ],
            [
             0.1111111111111111,
             "#46039f"
            ],
            [
             0.2222222222222222,
             "#7201a8"
            ],
            [
             0.3333333333333333,
             "#9c179e"
            ],
            [
             0.4444444444444444,
             "#bd3786"
            ],
            [
             0.5555555555555556,
             "#d8576b"
            ],
            [
             0.6666666666666666,
             "#ed7953"
            ],
            [
             0.7777777777777778,
             "#fb9f3a"
            ],
            [
             0.8888888888888888,
             "#fdca26"
            ],
            [
             1,
             "#f0f921"
            ]
           ],
           "sequentialminus": [
            [
             0,
             "#0d0887"
            ],
            [
             0.1111111111111111,
             "#46039f"
            ],
            [
             0.2222222222222222,
             "#7201a8"
            ],
            [
             0.3333333333333333,
             "#9c179e"
            ],
            [
             0.4444444444444444,
             "#bd3786"
            ],
            [
             0.5555555555555556,
             "#d8576b"
            ],
            [
             0.6666666666666666,
             "#ed7953"
            ],
            [
             0.7777777777777778,
             "#fb9f3a"
            ],
            [
             0.8888888888888888,
             "#fdca26"
            ],
            [
             1,
             "#f0f921"
            ]
           ]
          },
          "colorway": [
           "#636efa",
           "#EF553B",
           "#00cc96",
           "#ab63fa",
           "#FFA15A",
           "#19d3f3",
           "#FF6692",
           "#B6E880",
           "#FF97FF",
           "#FECB52"
          ],
          "font": {
           "color": "#2a3f5f"
          },
          "geo": {
           "bgcolor": "white",
           "lakecolor": "white",
           "landcolor": "#E5ECF6",
           "showlakes": true,
           "showland": true,
           "subunitcolor": "white"
          },
          "hoverlabel": {
           "align": "left"
          },
          "hovermode": "closest",
          "mapbox": {
           "style": "light"
          },
          "paper_bgcolor": "white",
          "plot_bgcolor": "#E5ECF6",
          "polar": {
           "angularaxis": {
            "gridcolor": "white",
            "linecolor": "white",
            "ticks": ""
           },
           "bgcolor": "#E5ECF6",
           "radialaxis": {
            "gridcolor": "white",
            "linecolor": "white",
            "ticks": ""
           }
          },
          "scene": {
           "xaxis": {
            "backgroundcolor": "#E5ECF6",
            "gridcolor": "white",
            "gridwidth": 2,
            "linecolor": "white",
            "showbackground": true,
            "ticks": "",
            "zerolinecolor": "white"
           },
           "yaxis": {
            "backgroundcolor": "#E5ECF6",
            "gridcolor": "white",
            "gridwidth": 2,
            "linecolor": "white",
            "showbackground": true,
            "ticks": "",
            "zerolinecolor": "white"
           },
           "zaxis": {
            "backgroundcolor": "#E5ECF6",
            "gridcolor": "white",
            "gridwidth": 2,
            "linecolor": "white",
            "showbackground": true,
            "ticks": "",
            "zerolinecolor": "white"
           }
          },
          "shapedefaults": {
           "line": {
            "color": "#2a3f5f"
           }
          },
          "ternary": {
           "aaxis": {
            "gridcolor": "white",
            "linecolor": "white",
            "ticks": ""
           },
           "baxis": {
            "gridcolor": "white",
            "linecolor": "white",
            "ticks": ""
           },
           "bgcolor": "#E5ECF6",
           "caxis": {
            "gridcolor": "white",
            "linecolor": "white",
            "ticks": ""
           }
          },
          "title": {
           "x": 0.05
          },
          "xaxis": {
           "automargin": true,
           "gridcolor": "white",
           "linecolor": "white",
           "ticks": "",
           "title": {
            "standoff": 15
           },
           "zerolinecolor": "white",
           "zerolinewidth": 2
          },
          "yaxis": {
           "automargin": true,
           "gridcolor": "white",
           "linecolor": "white",
           "ticks": "",
           "title": {
            "standoff": 15
           },
           "zerolinecolor": "white",
           "zerolinewidth": 2
          }
         }
        },
        "title": {
         "text": "Average SO2 per Month"
        }
       }
      }
     },
     "metadata": {},
     "output_type": "display_data"
    }
   ],
   "source": [
    "fig = go.Figure()\n",
    "\n",
    "for station in stations:\n",
    "    fig.add_trace(go.Scatter(\n",
    "        x=v1[v1['station'] == station]['year_month'],\n",
    "        y=v1[v1['station'] == station]['SO2'], \n",
    "        mode='lines', \n",
    "        name=station \n",
    "    ))\n",
    "\n",
    "fig.update_layout(\n",
    "    title='Average SO2 per Month',\n",
    "    showlegend=True,\n",
    "    plot_bgcolor='white',\n",
    ")"
   ]
  },
  {
   "cell_type": "markdown",
   "metadata": {},
   "source": [
    "Berdasarkan grafik diatas, dapat dilihat untuk variabel SO2 pada seluruh stasiun secara konsisten udara terbaik berada di sekitar bulan `juli` untuk setiap tahunnya."
   ]
  },
  {
   "cell_type": "markdown",
   "metadata": {},
   "source": [
    "#### NO2 (Nitrogen Dioxide)"
   ]
  },
  {
   "cell_type": "code",
   "execution_count": 30,
   "metadata": {},
   "outputs": [
    {
     "data": {
      "application/vnd.plotly.v1+json": {
       "config": {
        "plotlyServerURL": "https://plot.ly"
       },
       "data": [
        {
         "mode": "lines",
         "name": "Aotizhongxin",
         "type": "scatter",
         "x": [
          "2013-03-01T00:00:00",
          "2013-04-01T00:00:00",
          "2013-05-01T00:00:00",
          "2013-06-01T00:00:00",
          "2013-07-01T00:00:00",
          "2013-08-01T00:00:00",
          "2013-09-01T00:00:00",
          "2013-10-01T00:00:00",
          "2013-11-01T00:00:00",
          "2013-12-01T00:00:00",
          "2014-01-01T00:00:00",
          "2014-02-01T00:00:00",
          "2014-03-01T00:00:00",
          "2014-04-01T00:00:00",
          "2014-05-01T00:00:00",
          "2014-06-01T00:00:00",
          "2014-07-01T00:00:00",
          "2014-08-01T00:00:00",
          "2014-09-01T00:00:00",
          "2014-10-01T00:00:00",
          "2014-11-01T00:00:00",
          "2014-12-01T00:00:00",
          "2015-01-01T00:00:00",
          "2015-02-01T00:00:00",
          "2015-03-01T00:00:00",
          "2015-04-01T00:00:00",
          "2015-05-01T00:00:00",
          "2015-06-01T00:00:00",
          "2015-07-01T00:00:00",
          "2015-08-01T00:00:00",
          "2015-09-01T00:00:00",
          "2015-10-01T00:00:00",
          "2015-11-01T00:00:00",
          "2015-12-01T00:00:00",
          "2016-01-01T00:00:00",
          "2016-02-01T00:00:00",
          "2016-03-01T00:00:00",
          "2016-04-01T00:00:00",
          "2016-05-01T00:00:00",
          "2016-06-01T00:00:00",
          "2016-07-01T00:00:00",
          "2016-08-01T00:00:00",
          "2016-09-01T00:00:00",
          "2016-10-01T00:00:00",
          "2016-11-01T00:00:00",
          "2016-12-01T00:00:00",
          "2017-01-01T00:00:00",
          "2017-02-01T00:00:00"
         ],
         "y": [
          74.81740873655914,
          53.50137361111111,
          61.016129032258064,
          72.7983223611111,
          55.10538172043011,
          56.34550282258065,
          64.15768152777778,
          73.61059637096774,
          59.951388888888886,
          62.154011223118275,
          66.71975806451613,
          67.56547619047619,
          68.69220430107526,
          67.38055555555556,
          56.23185483870968,
          51.293055555555554,
          48.71706989247312,
          54.89677419354838,
          64.63763888888889,
          88.70631720430107,
          78.90111111111112,
          44.961021505376344,
          69.08387096774194,
          56.623511904761905,
          61.18931451612903,
          54.64347222222223,
          47.81989247311828,
          45.45763888888889,
          52.339381720430104,
          43.236559139784944,
          59.830555555555556,
          72.10618279569893,
          78.54305555555555,
          89.80712365591398,
          55.76545698924731,
          33.321120689655174,
          48.479166666666664,
          35.53541666666667,
          30.793010752688172,
          28.195138888888888,
          34.73790322580645,
          39.45564516129032,
          48.53055555555556,
          64.00873655913979,
          74.54305555555555,
          86.27217741935483,
          71.29771505376344,
          60.61830357142857
         ]
        },
        {
         "mode": "lines",
         "name": "Changping",
         "type": "scatter",
         "x": [
          "2013-03-01T00:00:00",
          "2013-04-01T00:00:00",
          "2013-05-01T00:00:00",
          "2013-06-01T00:00:00",
          "2013-07-01T00:00:00",
          "2013-08-01T00:00:00",
          "2013-09-01T00:00:00",
          "2013-10-01T00:00:00",
          "2013-11-01T00:00:00",
          "2013-12-01T00:00:00",
          "2014-01-01T00:00:00",
          "2014-02-01T00:00:00",
          "2014-03-01T00:00:00",
          "2014-04-01T00:00:00",
          "2014-05-01T00:00:00",
          "2014-06-01T00:00:00",
          "2014-07-01T00:00:00",
          "2014-08-01T00:00:00",
          "2014-09-01T00:00:00",
          "2014-10-01T00:00:00",
          "2014-11-01T00:00:00",
          "2014-12-01T00:00:00",
          "2015-01-01T00:00:00",
          "2015-02-01T00:00:00",
          "2015-03-01T00:00:00",
          "2015-04-01T00:00:00",
          "2015-05-01T00:00:00",
          "2015-06-01T00:00:00",
          "2015-07-01T00:00:00",
          "2015-08-01T00:00:00",
          "2015-09-01T00:00:00",
          "2015-10-01T00:00:00",
          "2015-11-01T00:00:00",
          "2015-12-01T00:00:00",
          "2016-01-01T00:00:00",
          "2016-02-01T00:00:00",
          "2016-03-01T00:00:00",
          "2016-04-01T00:00:00",
          "2016-05-01T00:00:00",
          "2016-06-01T00:00:00",
          "2016-07-01T00:00:00",
          "2016-08-01T00:00:00",
          "2016-09-01T00:00:00",
          "2016-10-01T00:00:00",
          "2016-11-01T00:00:00",
          "2016-12-01T00:00:00",
          "2017-01-01T00:00:00",
          "2017-02-01T00:00:00"
         ],
         "y": [
          59.38982177419355,
          36.71878888888889,
          37.745093548387096,
          31.72958541666667,
          24.684136155913976,
          23.85852069892473,
          41.9419725,
          55.5175310483871,
          47.65176611111111,
          50.180956989247306,
          56.318548387096776,
          60.23139880952381,
          53.67002688172043,
          49.172916666666666,
          36.318548387096776,
          31.391666666666666,
          32.65524193548387,
          35.98413978494624,
          35.16083333333333,
          56.986559139784944,
          56.530138888888885,
          48.20161290322581,
          63.211693548387096,
          44.52157738095238,
          47.599126344086024,
          36.102777777777774,
          28.278897849462364,
          24.233333333333334,
          23.262096774193548,
          22.390456989247312,
          38.105555555555554,
          48.39314516129032,
          59.47291666666667,
          76.89448924731182,
          55.33736559139785,
          43.88433908045977,
          60.39314516129032,
          43.35138888888889,
          34.45981182795699,
          31.724861111111114,
          27.223790322580644,
          27.816532258064516,
          36.924305555555556,
          53.51814516129032,
          61.88263888888889,
          69.60483870967742,
          55.395833333333336,
          46.164434523809526
         ]
        },
        {
         "mode": "lines",
         "name": "Dingling",
         "type": "scatter",
         "x": [
          "2013-03-01T00:00:00",
          "2013-04-01T00:00:00",
          "2013-05-01T00:00:00",
          "2013-06-01T00:00:00",
          "2013-07-01T00:00:00",
          "2013-08-01T00:00:00",
          "2013-09-01T00:00:00",
          "2013-10-01T00:00:00",
          "2013-11-01T00:00:00",
          "2013-12-01T00:00:00",
          "2014-01-01T00:00:00",
          "2014-02-01T00:00:00",
          "2014-03-01T00:00:00",
          "2014-04-01T00:00:00",
          "2014-05-01T00:00:00",
          "2014-06-01T00:00:00",
          "2014-07-01T00:00:00",
          "2014-08-01T00:00:00",
          "2014-09-01T00:00:00",
          "2014-10-01T00:00:00",
          "2014-11-01T00:00:00",
          "2014-12-01T00:00:00",
          "2015-01-01T00:00:00",
          "2015-02-01T00:00:00",
          "2015-03-01T00:00:00",
          "2015-04-01T00:00:00",
          "2015-05-01T00:00:00",
          "2015-06-01T00:00:00",
          "2015-07-01T00:00:00",
          "2015-08-01T00:00:00",
          "2015-09-01T00:00:00",
          "2015-10-01T00:00:00",
          "2015-11-01T00:00:00",
          "2015-12-01T00:00:00",
          "2016-01-01T00:00:00",
          "2016-02-01T00:00:00",
          "2016-03-01T00:00:00",
          "2016-04-01T00:00:00",
          "2016-05-01T00:00:00",
          "2016-06-01T00:00:00",
          "2016-07-01T00:00:00",
          "2016-08-01T00:00:00",
          "2016-09-01T00:00:00",
          "2016-10-01T00:00:00",
          "2016-11-01T00:00:00",
          "2016-12-01T00:00:00",
          "2017-01-01T00:00:00",
          "2017-02-01T00:00:00"
         ],
         "y": [
          45.8998564516129,
          25.760234538113693,
          26.811987946986747,
          20.78387614197531,
          15.846519862604541,
          12.20228494623656,
          22.078757098765433,
          37.19502612753883,
          40.76356208333333,
          40.16465174731183,
          38.66263440860215,
          43.989583333333336,
          30.081317204301076,
          30.0625,
          17.715676930596285,
          13.698106060606062,
          16.454973118279568,
          18.64731182795699,
          19.74041666666667,
          35.149193548387096,
          38.6,
          26.9502688172043,
          44.88884408602151,
          27.604166666666668,
          26.600067204301077,
          20.560347222222223,
          15.971102150537634,
          15.535694444444445,
          17.339381720430108,
          13.968413978494624,
          17.435416666666665,
          25.055779569892472,
          45.202083333333334,
          51.49327956989247,
          29.844086021505376,
          14.520114942528735,
          33.66935483870968,
          26.356944444444444,
          18.961021505376344,
          20.166666666666668,
          14.526881720430108,
          8.603494623655914,
          12.404166666666667,
          24.923387096774192,
          44.575,
          55.314516129032256,
          40.23790322580645,
          27.665178571428573
         ]
        },
        {
         "mode": "lines",
         "name": "Dongsi",
         "type": "scatter",
         "x": [
          "2013-03-01T00:00:00",
          "2013-04-01T00:00:00",
          "2013-05-01T00:00:00",
          "2013-06-01T00:00:00",
          "2013-07-01T00:00:00",
          "2013-08-01T00:00:00",
          "2013-09-01T00:00:00",
          "2013-10-01T00:00:00",
          "2013-11-01T00:00:00",
          "2013-12-01T00:00:00",
          "2014-01-01T00:00:00",
          "2014-02-01T00:00:00",
          "2014-03-01T00:00:00",
          "2014-04-01T00:00:00",
          "2014-05-01T00:00:00",
          "2014-06-01T00:00:00",
          "2014-07-01T00:00:00",
          "2014-08-01T00:00:00",
          "2014-09-01T00:00:00",
          "2014-10-01T00:00:00",
          "2014-11-01T00:00:00",
          "2014-12-01T00:00:00",
          "2015-01-01T00:00:00",
          "2015-02-01T00:00:00",
          "2015-03-01T00:00:00",
          "2015-04-01T00:00:00",
          "2015-05-01T00:00:00",
          "2015-06-01T00:00:00",
          "2015-07-01T00:00:00",
          "2015-08-01T00:00:00",
          "2015-09-01T00:00:00",
          "2015-10-01T00:00:00",
          "2015-11-01T00:00:00",
          "2015-12-01T00:00:00",
          "2016-01-01T00:00:00",
          "2016-02-01T00:00:00",
          "2016-03-01T00:00:00",
          "2016-04-01T00:00:00",
          "2016-05-01T00:00:00",
          "2016-06-01T00:00:00",
          "2016-07-01T00:00:00",
          "2016-08-01T00:00:00",
          "2016-09-01T00:00:00",
          "2016-10-01T00:00:00",
          "2016-11-01T00:00:00",
          "2016-12-01T00:00:00",
          "2017-01-01T00:00:00",
          "2017-02-01T00:00:00"
         ],
         "y": [
          76.90098629032258,
          43.79480652777777,
          52.174731182795696,
          56.007834236111115,
          47.38677204301075,
          43.16316586021505,
          60.01042326388889,
          71.79813998655914,
          59.895833333333336,
          61.830057862903224,
          49.18839357106202,
          94.36061783203847,
          61.23185483870968,
          55.767361111111114,
          45.22654569892474,
          45.368402777777774,
          43.2755376344086,
          47.70174731182796,
          55.83861111111111,
          77.9388440860215,
          64.75361111111111,
          52.07352150537634,
          64.31102150537635,
          50.83482142857143,
          51.94764784946237,
          45.272222222222226,
          39.788978494623656,
          39.06597222222222,
          37.868951612903224,
          33.04032258064516,
          48.111805555555556,
          58.872983870967744,
          61.81319444444444,
          72.75806451612904,
          49.81317204301075,
          33.900862068965516,
          56.44220430107527,
          43.89513888888889,
          41.108198924731184,
          38.54375,
          36.57997311827957,
          39.74596774193548,
          50.55625,
          64.3252688172043,
          70.01944444444445,
          81.56653225806451,
          63.803763440860216,
          51.34449404761905
         ]
        },
        {
         "mode": "lines",
         "name": "Guanyuan",
         "type": "scatter",
         "x": [
          "2013-03-01T00:00:00",
          "2013-04-01T00:00:00",
          "2013-05-01T00:00:00",
          "2013-06-01T00:00:00",
          "2013-07-01T00:00:00",
          "2013-08-01T00:00:00",
          "2013-09-01T00:00:00",
          "2013-10-01T00:00:00",
          "2013-11-01T00:00:00",
          "2013-12-01T00:00:00",
          "2014-01-01T00:00:00",
          "2014-02-01T00:00:00",
          "2014-03-01T00:00:00",
          "2014-04-01T00:00:00",
          "2014-05-01T00:00:00",
          "2014-06-01T00:00:00",
          "2014-07-01T00:00:00",
          "2014-08-01T00:00:00",
          "2014-09-01T00:00:00",
          "2014-10-01T00:00:00",
          "2014-11-01T00:00:00",
          "2014-12-01T00:00:00",
          "2015-01-01T00:00:00",
          "2015-02-01T00:00:00",
          "2015-03-01T00:00:00",
          "2015-04-01T00:00:00",
          "2015-05-01T00:00:00",
          "2015-06-01T00:00:00",
          "2015-07-01T00:00:00",
          "2015-08-01T00:00:00",
          "2015-09-01T00:00:00",
          "2015-10-01T00:00:00",
          "2015-11-01T00:00:00",
          "2015-12-01T00:00:00",
          "2016-01-01T00:00:00",
          "2016-02-01T00:00:00",
          "2016-03-01T00:00:00",
          "2016-04-01T00:00:00",
          "2016-05-01T00:00:00",
          "2016-06-01T00:00:00",
          "2016-07-01T00:00:00",
          "2016-08-01T00:00:00",
          "2016-09-01T00:00:00",
          "2016-10-01T00:00:00",
          "2016-11-01T00:00:00",
          "2016-12-01T00:00:00",
          "2017-01-01T00:00:00",
          "2017-02-01T00:00:00"
         ],
         "y": [
          73.74540537634408,
          57.95395,
          56.27202204301076,
          49.50818208333333,
          43.92900967741935,
          45.2766872311828,
          56.97506375,
          71.0354502688172,
          63.90277777777778,
          69.833444422043,
          74.7513440860215,
          75.6577380952381,
          73.99731182795699,
          67.69583333333334,
          57.97721774193549,
          45.37708333333333,
          42.39247311827957,
          50.3875,
          58.12291666666667,
          82.30846774193549,
          79.22486111111111,
          65.09610215053763,
          76.91129032258064,
          61.970238095238095,
          59.43797043010753,
          47.86875,
          40.159946236559136,
          39.080555555555556,
          39.990591397849464,
          39.902553763440864,
          46.706944444444446,
          58.836021505376344,
          64.8,
          83.39583333333333,
          56.887768817204304,
          39.94181034482759,
          62.16465053763441,
          47.35486111111111,
          40.880376344086024,
          40.27430555555556,
          38.16599462365591,
          41.082661290322584,
          51.950694444444444,
          63.88709677419355,
          71.32152777777777,
          86.64112903225806,
          71.35551075268818,
          57.796875
         ]
        },
        {
         "mode": "lines",
         "name": "Gucheng",
         "type": "scatter",
         "x": [
          "2013-03-01T00:00:00",
          "2013-04-01T00:00:00",
          "2013-05-01T00:00:00",
          "2013-06-01T00:00:00",
          "2013-07-01T00:00:00",
          "2013-08-01T00:00:00",
          "2013-09-01T00:00:00",
          "2013-10-01T00:00:00",
          "2013-11-01T00:00:00",
          "2013-12-01T00:00:00",
          "2014-01-01T00:00:00",
          "2014-02-01T00:00:00",
          "2014-03-01T00:00:00",
          "2014-04-01T00:00:00",
          "2014-05-01T00:00:00",
          "2014-06-01T00:00:00",
          "2014-07-01T00:00:00",
          "2014-08-01T00:00:00",
          "2014-09-01T00:00:00",
          "2014-10-01T00:00:00",
          "2014-11-01T00:00:00",
          "2014-12-01T00:00:00",
          "2015-01-01T00:00:00",
          "2015-02-01T00:00:00",
          "2015-03-01T00:00:00",
          "2015-04-01T00:00:00",
          "2015-05-01T00:00:00",
          "2015-06-01T00:00:00",
          "2015-07-01T00:00:00",
          "2015-08-01T00:00:00",
          "2015-09-01T00:00:00",
          "2015-10-01T00:00:00",
          "2015-11-01T00:00:00",
          "2015-12-01T00:00:00",
          "2016-01-01T00:00:00",
          "2016-02-01T00:00:00",
          "2016-03-01T00:00:00",
          "2016-04-01T00:00:00",
          "2016-05-01T00:00:00",
          "2016-06-01T00:00:00",
          "2016-07-01T00:00:00",
          "2016-08-01T00:00:00",
          "2016-09-01T00:00:00",
          "2016-10-01T00:00:00",
          "2016-11-01T00:00:00",
          "2016-12-01T00:00:00",
          "2017-01-01T00:00:00",
          "2017-02-01T00:00:00"
         ],
         "y": [
          75.67758306451613,
          52.14926638888889,
          59.485754838709674,
          62.44586208333333,
          47.38592002688172,
          44.57011545698925,
          61.295048888888886,
          75.36382123655913,
          64.29583333333333,
          71.14001518817204,
          77.0241935483871,
          77.6860119047619,
          73.5725806451613,
          69.94166666666666,
          59.834946236559134,
          45.204861111111114,
          45.35013440860215,
          42.957392473118276,
          55.520694444444445,
          78.09879032258064,
          69.06263888888888,
          55.995026881720435,
          67.57150537634408,
          49.410714285714285,
          52.029637096774195,
          47.017361111111114,
          40.19018817204301,
          41.4,
          37.58736559139785,
          32.56182795698925,
          39.30486111111111,
          53.956989247311824,
          59.61875,
          74.03763440860214,
          48.68010752688172,
          28.217672413793103,
          54.00336021505376,
          47.08680555555556,
          40.42741935483871,
          41.99513888888889,
          37.39045698924731,
          38.395833333333336,
          44.834722222222226,
          59.784274193548384,
          72.37361111111112,
          82.97849462365592,
          69.65255376344086,
          54.201636904761905
         ]
        },
        {
         "mode": "lines",
         "name": "Huairou",
         "type": "scatter",
         "x": [
          "2013-03-01T00:00:00",
          "2013-04-01T00:00:00",
          "2013-05-01T00:00:00",
          "2013-06-01T00:00:00",
          "2013-07-01T00:00:00",
          "2013-08-01T00:00:00",
          "2013-09-01T00:00:00",
          "2013-10-01T00:00:00",
          "2013-11-01T00:00:00",
          "2013-12-01T00:00:00",
          "2014-01-01T00:00:00",
          "2014-02-01T00:00:00",
          "2014-03-01T00:00:00",
          "2014-04-01T00:00:00",
          "2014-05-01T00:00:00",
          "2014-06-01T00:00:00",
          "2014-07-01T00:00:00",
          "2014-08-01T00:00:00",
          "2014-09-01T00:00:00",
          "2014-10-01T00:00:00",
          "2014-11-01T00:00:00",
          "2014-12-01T00:00:00",
          "2015-01-01T00:00:00",
          "2015-02-01T00:00:00",
          "2015-03-01T00:00:00",
          "2015-04-01T00:00:00",
          "2015-05-01T00:00:00",
          "2015-06-01T00:00:00",
          "2015-07-01T00:00:00",
          "2015-08-01T00:00:00",
          "2015-09-01T00:00:00",
          "2015-10-01T00:00:00",
          "2015-11-01T00:00:00",
          "2015-12-01T00:00:00",
          "2016-01-01T00:00:00",
          "2016-02-01T00:00:00",
          "2016-03-01T00:00:00",
          "2016-04-01T00:00:00",
          "2016-05-01T00:00:00",
          "2016-06-01T00:00:00",
          "2016-07-01T00:00:00",
          "2016-08-01T00:00:00",
          "2016-09-01T00:00:00",
          "2016-10-01T00:00:00",
          "2016-11-01T00:00:00",
          "2016-12-01T00:00:00",
          "2017-01-01T00:00:00",
          "2017-02-01T00:00:00"
         ],
         "y": [
          48.8110060483871,
          30.87501409722222,
          41.61406969086021,
          27.067731666666667,
          14.909686626344087,
          20.884159677419355,
          31.910952847222223,
          41.66248803763441,
          46.93680555555556,
          45.976741868279575,
          55.35954301075269,
          56.729166666666664,
          46.483870967741936,
          41.918055555555554,
          28.434851864561885,
          21.53981973995272,
          22.917876344086025,
          22.002956989247313,
          26.38125,
          39.236559139784944,
          46.42611111111111,
          38.56653225806452,
          48.898118279569886,
          34.5875,
          34.33971774193548,
          26.87527777777778,
          22.008602150537634,
          15.8375,
          15.227822580645162,
          10.706317204301076,
          15.095833333333333,
          24.9872311827957,
          41.37638888888889,
          50.012768817204304,
          33.80241935483871,
          19.139367816091955,
          33.656586021505376,
          24.160416666666666,
          21.50537634408602,
          18.6375,
          16.086021505376344,
          14.465725806451612,
          14.844444444444445,
          31.49798387096774,
          48.5,
          50.42674731182796,
          41.60215053763441,
          35.817708333333336
         ]
        },
        {
         "mode": "lines",
         "name": "Nongzhanguan",
         "type": "scatter",
         "x": [
          "2013-03-01T00:00:00",
          "2013-04-01T00:00:00",
          "2013-05-01T00:00:00",
          "2013-06-01T00:00:00",
          "2013-07-01T00:00:00",
          "2013-08-01T00:00:00",
          "2013-09-01T00:00:00",
          "2013-10-01T00:00:00",
          "2013-11-01T00:00:00",
          "2013-12-01T00:00:00",
          "2014-01-01T00:00:00",
          "2014-02-01T00:00:00",
          "2014-03-01T00:00:00",
          "2014-04-01T00:00:00",
          "2014-05-01T00:00:00",
          "2014-06-01T00:00:00",
          "2014-07-01T00:00:00",
          "2014-08-01T00:00:00",
          "2014-09-01T00:00:00",
          "2014-10-01T00:00:00",
          "2014-11-01T00:00:00",
          "2014-12-01T00:00:00",
          "2015-01-01T00:00:00",
          "2015-02-01T00:00:00",
          "2015-03-01T00:00:00",
          "2015-04-01T00:00:00",
          "2015-05-01T00:00:00",
          "2015-06-01T00:00:00",
          "2015-07-01T00:00:00",
          "2015-08-01T00:00:00",
          "2015-09-01T00:00:00",
          "2015-10-01T00:00:00",
          "2015-11-01T00:00:00",
          "2015-12-01T00:00:00",
          "2016-01-01T00:00:00",
          "2016-02-01T00:00:00",
          "2016-03-01T00:00:00",
          "2016-04-01T00:00:00",
          "2016-05-01T00:00:00",
          "2016-06-01T00:00:00",
          "2016-07-01T00:00:00",
          "2016-08-01T00:00:00",
          "2016-09-01T00:00:00",
          "2016-10-01T00:00:00",
          "2016-11-01T00:00:00",
          "2016-12-01T00:00:00",
          "2017-01-01T00:00:00",
          "2017-02-01T00:00:00"
         ],
         "y": [
          76.71226075268817,
          54.10156611111111,
          59.244623655913976,
          52.95439020833333,
          40.84416196236559,
          49.332021370967745,
          69.67407805555555,
          65.91687688172043,
          60.76950423611111,
          65.6140753360215,
          67.33870967741936,
          68.125,
          68.32594086021506,
          60.87430555555556,
          55.729301075268815,
          48.294444444444444,
          44.563709677419354,
          48.31989247311828,
          57.55083333333333,
          84.02486559139786,
          79.54888888888888,
          65.3366935483871,
          76.9236559139785,
          58.90327380952381,
          63.532594086021504,
          53.47638888888889,
          45.51881720430107,
          43.58888888888889,
          41.18279569892473,
          34.913978494623656,
          50.43194444444445,
          64.25672043010752,
          69.60555555555555,
          96.21236559139786,
          60.651881720430104,
          41.39870689655172,
          68.13172043010752,
          51.263194444444444,
          44.932123655913976,
          40.025,
          39.42674731182796,
          38.060483870967744,
          46.23888888888889,
          52.11290322580645,
          65.64930555555556,
          81.63037634408602,
          65.99932795698925,
          49.629464285714285
         ]
        },
        {
         "mode": "lines",
         "name": "Shunyi",
         "type": "scatter",
         "x": [
          "2013-03-01T00:00:00",
          "2013-04-01T00:00:00",
          "2013-05-01T00:00:00",
          "2013-06-01T00:00:00",
          "2013-07-01T00:00:00",
          "2013-08-01T00:00:00",
          "2013-09-01T00:00:00",
          "2013-10-01T00:00:00",
          "2013-11-01T00:00:00",
          "2013-12-01T00:00:00",
          "2014-01-01T00:00:00",
          "2014-02-01T00:00:00",
          "2014-03-01T00:00:00",
          "2014-04-01T00:00:00",
          "2014-05-01T00:00:00",
          "2014-06-01T00:00:00",
          "2014-07-01T00:00:00",
          "2014-08-01T00:00:00",
          "2014-09-01T00:00:00",
          "2014-10-01T00:00:00",
          "2014-11-01T00:00:00",
          "2014-12-01T00:00:00",
          "2015-01-01T00:00:00",
          "2015-02-01T00:00:00",
          "2015-03-01T00:00:00",
          "2015-04-01T00:00:00",
          "2015-05-01T00:00:00",
          "2015-06-01T00:00:00",
          "2015-07-01T00:00:00",
          "2015-08-01T00:00:00",
          "2015-09-01T00:00:00",
          "2015-10-01T00:00:00",
          "2015-11-01T00:00:00",
          "2015-12-01T00:00:00",
          "2016-01-01T00:00:00",
          "2016-02-01T00:00:00",
          "2016-03-01T00:00:00",
          "2016-04-01T00:00:00",
          "2016-05-01T00:00:00",
          "2016-06-01T00:00:00",
          "2016-07-01T00:00:00",
          "2016-08-01T00:00:00",
          "2016-09-01T00:00:00",
          "2016-10-01T00:00:00",
          "2016-11-01T00:00:00",
          "2016-12-01T00:00:00",
          "2017-01-01T00:00:00",
          "2017-02-01T00:00:00"
         ],
         "y": [
          59.324286559139786,
          40.00902541666667,
          42.759408602150536,
          34.28528708333333,
          30.930843817204302,
          28.873396236559138,
          27.79755638888889,
          52.38547795698924,
          51.96487375,
          47.913323790322586,
          55.56720430107527,
          56.060267857142854,
          60.043010752688176,
          54.78055555555556,
          53.18989336072225,
          31.42044352725367,
          27.508064516129032,
          28.823252688172044,
          35.24125,
          55.37231182795699,
          56.94513888888889,
          47.571236559139784,
          57.94448924731182,
          44.723214285714285,
          51.708198924731185,
          43.93263888888889,
          35.442876344086024,
          32.13097222222222,
          28.692204301075268,
          22.467741935483872,
          37.27430555555556,
          50.12903225806452,
          49.39930555555556,
          63.16868279569893,
          44.23857526881721,
          29.62787356321839,
          52.851478494623656,
          39.87708333333333,
          39.81720430107527,
          30.16111111111111,
          25.710349462365592,
          29.796370967741936,
          34.84930555555555,
          48.766801075268816,
          64.1451388888889,
          69.77688172043011,
          60.50739247311828,
          50.182291666666664
         ]
        },
        {
         "mode": "lines",
         "name": "Tiantan",
         "type": "scatter",
         "x": [
          "2013-03-01T00:00:00",
          "2013-04-01T00:00:00",
          "2013-05-01T00:00:00",
          "2013-06-01T00:00:00",
          "2013-07-01T00:00:00",
          "2013-08-01T00:00:00",
          "2013-09-01T00:00:00",
          "2013-10-01T00:00:00",
          "2013-11-01T00:00:00",
          "2013-12-01T00:00:00",
          "2014-01-01T00:00:00",
          "2014-02-01T00:00:00",
          "2014-03-01T00:00:00",
          "2014-04-01T00:00:00",
          "2014-05-01T00:00:00",
          "2014-06-01T00:00:00",
          "2014-07-01T00:00:00",
          "2014-08-01T00:00:00",
          "2014-09-01T00:00:00",
          "2014-10-01T00:00:00",
          "2014-11-01T00:00:00",
          "2014-12-01T00:00:00",
          "2015-01-01T00:00:00",
          "2015-02-01T00:00:00",
          "2015-03-01T00:00:00",
          "2015-04-01T00:00:00",
          "2015-05-01T00:00:00",
          "2015-06-01T00:00:00",
          "2015-07-01T00:00:00",
          "2015-08-01T00:00:00",
          "2015-09-01T00:00:00",
          "2015-10-01T00:00:00",
          "2015-11-01T00:00:00",
          "2015-12-01T00:00:00",
          "2016-01-01T00:00:00",
          "2016-02-01T00:00:00",
          "2016-03-01T00:00:00",
          "2016-04-01T00:00:00",
          "2016-05-01T00:00:00",
          "2016-06-01T00:00:00",
          "2016-07-01T00:00:00",
          "2016-08-01T00:00:00",
          "2016-09-01T00:00:00",
          "2016-10-01T00:00:00",
          "2016-11-01T00:00:00",
          "2016-12-01T00:00:00",
          "2017-01-01T00:00:00",
          "2017-02-01T00:00:00"
         ],
         "y": [
          63.998876747311826,
          43.57627166666667,
          42.23588709677419,
          48.78758333333333,
          43.41349838709677,
          40.78017580645161,
          57.639090833333334,
          65.6418688172043,
          57.394444444444446,
          68.1073621639785,
          73.70497311827957,
          71.37946428571429,
          65.48118279569893,
          54.12638888888889,
          45.11451612903225,
          40.240972222222226,
          36.519489247311824,
          43.45779569892473,
          50.08277777777778,
          71.42674731182795,
          62.709999999999994,
          60.57573924731182,
          68.4247311827957,
          51.60267857142857,
          51.520564516129035,
          44.227777777777774,
          42.579301075268816,
          42.109722222222224,
          41.46975806451613,
          36.924731182795696,
          48.90625,
          56.20295698924731,
          60.793055555555554,
          79.05846774193549,
          60.17674731182796,
          40.372844827586206,
          60.719086021505376,
          44.989583333333336,
          36.06720430107527,
          36.08611111111111,
          32.37231182795699,
          35.185483870967744,
          47.009027777777774,
          53.10349462365591,
          68.00972222222222,
          84.55510752688173,
          71.11626344086021,
          56.007440476190474
         ]
        },
        {
         "mode": "lines",
         "name": "Wanliu",
         "type": "scatter",
         "x": [
          "2013-03-01T00:00:00",
          "2013-04-01T00:00:00",
          "2013-05-01T00:00:00",
          "2013-06-01T00:00:00",
          "2013-07-01T00:00:00",
          "2013-08-01T00:00:00",
          "2013-09-01T00:00:00",
          "2013-10-01T00:00:00",
          "2013-11-01T00:00:00",
          "2013-12-01T00:00:00",
          "2014-01-01T00:00:00",
          "2014-02-01T00:00:00",
          "2014-03-01T00:00:00",
          "2014-04-01T00:00:00",
          "2014-05-01T00:00:00",
          "2014-06-01T00:00:00",
          "2014-07-01T00:00:00",
          "2014-08-01T00:00:00",
          "2014-09-01T00:00:00",
          "2014-10-01T00:00:00",
          "2014-11-01T00:00:00",
          "2014-12-01T00:00:00",
          "2015-01-01T00:00:00",
          "2015-02-01T00:00:00",
          "2015-03-01T00:00:00",
          "2015-04-01T00:00:00",
          "2015-05-01T00:00:00",
          "2015-06-01T00:00:00",
          "2015-07-01T00:00:00",
          "2015-08-01T00:00:00",
          "2015-09-01T00:00:00",
          "2015-10-01T00:00:00",
          "2015-11-01T00:00:00",
          "2015-12-01T00:00:00",
          "2016-01-01T00:00:00",
          "2016-02-01T00:00:00",
          "2016-03-01T00:00:00",
          "2016-04-01T00:00:00",
          "2016-05-01T00:00:00",
          "2016-06-01T00:00:00",
          "2016-07-01T00:00:00",
          "2016-08-01T00:00:00",
          "2016-09-01T00:00:00",
          "2016-10-01T00:00:00",
          "2016-11-01T00:00:00",
          "2016-12-01T00:00:00",
          "2017-01-01T00:00:00",
          "2017-02-01T00:00:00"
         ],
         "y": [
          88.36415766129033,
          72.48246152777779,
          70.11155913978494,
          67.21905527777777,
          54.509771438172045,
          57.133003225806455,
          67.78122069444444,
          75.76135678763441,
          58.36151493055556,
          73.48273051075269,
          91.96102150537635,
          116.44270833333333,
          93.60215053763442,
          80.71111111111111,
          64.15658602150538,
          51.43819444444444,
          53.58400537634409,
          58.89274193548387,
          65.52666666666666,
          94.02016129032258,
          78.56222222222223,
          63.05981182795699,
          77.30793010752689,
          73.35639880952381,
          87.17414972481735,
          77.99296195102207,
          47.59543010752688,
          41.75138888888889,
          40.461021505376344,
          32.53225806451613,
          43.08958333333333,
          55.95161290322581,
          64.53472222222223,
          79.83266129032258,
          58.54099462365591,
          43.13505747126437,
          78.80174731182795,
          57.291666666666664,
          48.16935483870968,
          48.92916666666667,
          42.40793010752688,
          42.96639784946237,
          48.72291666666667,
          62.611559139784944,
          75.21388888888889,
          91.2627688172043,
          75.08131720430107,
          62.44940476190476
         ]
        },
        {
         "mode": "lines",
         "name": "Wanshouxigong",
         "type": "scatter",
         "x": [
          "2013-03-01T00:00:00",
          "2013-04-01T00:00:00",
          "2013-05-01T00:00:00",
          "2013-06-01T00:00:00",
          "2013-07-01T00:00:00",
          "2013-08-01T00:00:00",
          "2013-09-01T00:00:00",
          "2013-10-01T00:00:00",
          "2013-11-01T00:00:00",
          "2013-12-01T00:00:00",
          "2014-01-01T00:00:00",
          "2014-02-01T00:00:00",
          "2014-03-01T00:00:00",
          "2014-04-01T00:00:00",
          "2014-05-01T00:00:00",
          "2014-06-01T00:00:00",
          "2014-07-01T00:00:00",
          "2014-08-01T00:00:00",
          "2014-09-01T00:00:00",
          "2014-10-01T00:00:00",
          "2014-11-01T00:00:00",
          "2014-12-01T00:00:00",
          "2015-01-01T00:00:00",
          "2015-02-01T00:00:00",
          "2015-03-01T00:00:00",
          "2015-04-01T00:00:00",
          "2015-05-01T00:00:00",
          "2015-06-01T00:00:00",
          "2015-07-01T00:00:00",
          "2015-08-01T00:00:00",
          "2015-09-01T00:00:00",
          "2015-10-01T00:00:00",
          "2015-11-01T00:00:00",
          "2015-12-01T00:00:00",
          "2016-01-01T00:00:00",
          "2016-02-01T00:00:00",
          "2016-03-01T00:00:00",
          "2016-04-01T00:00:00",
          "2016-05-01T00:00:00",
          "2016-06-01T00:00:00",
          "2016-07-01T00:00:00",
          "2016-08-01T00:00:00",
          "2016-09-01T00:00:00",
          "2016-10-01T00:00:00",
          "2016-11-01T00:00:00",
          "2016-12-01T00:00:00",
          "2017-01-01T00:00:00",
          "2017-02-01T00:00:00"
         ],
         "y": [
          63.42521115591398,
          42.773760833333334,
          52.47221102150537,
          53.70585305555556,
          45.29311202956989,
          45.756515188172045,
          57.62965333333334,
          73.5831689516129,
          58.00138888888889,
          66.48270309139785,
          80.44422043010752,
          75.74107142857143,
          66.39381720430107,
          54.91458333333333,
          48.5616935483871,
          46.40416666666667,
          40.476478494623656,
          49.19301075268817,
          59.147222222222226,
          79.92069892473118,
          77.10013888888889,
          64.31263440860215,
          76.79274193548387,
          59.458333333333336,
          59.791666666666664,
          49.65069444444445,
          41.76814516129032,
          37.365972222222226,
          38.19153225806452,
          35.48252688172043,
          42.6,
          55.763440860215056,
          60.22222222222222,
          75.6364247311828,
          52.98588709677419,
          34.48347701149425,
          53.99932795698925,
          40.990972222222226,
          37.458333333333336,
          34.12430555555556,
          34.48521505376344,
          39.72715053763441,
          50.392361111111114,
          61.002016129032256,
          71.47777777777777,
          89.93682795698925,
          71.21034946236558,
          56.470982142857146
         ]
        }
       ],
       "layout": {
        "plot_bgcolor": "white",
        "showlegend": true,
        "template": {
         "data": {
          "bar": [
           {
            "error_x": {
             "color": "#2a3f5f"
            },
            "error_y": {
             "color": "#2a3f5f"
            },
            "marker": {
             "line": {
              "color": "#E5ECF6",
              "width": 0.5
             },
             "pattern": {
              "fillmode": "overlay",
              "size": 10,
              "solidity": 0.2
             }
            },
            "type": "bar"
           }
          ],
          "barpolar": [
           {
            "marker": {
             "line": {
              "color": "#E5ECF6",
              "width": 0.5
             },
             "pattern": {
              "fillmode": "overlay",
              "size": 10,
              "solidity": 0.2
             }
            },
            "type": "barpolar"
           }
          ],
          "carpet": [
           {
            "aaxis": {
             "endlinecolor": "#2a3f5f",
             "gridcolor": "white",
             "linecolor": "white",
             "minorgridcolor": "white",
             "startlinecolor": "#2a3f5f"
            },
            "baxis": {
             "endlinecolor": "#2a3f5f",
             "gridcolor": "white",
             "linecolor": "white",
             "minorgridcolor": "white",
             "startlinecolor": "#2a3f5f"
            },
            "type": "carpet"
           }
          ],
          "choropleth": [
           {
            "colorbar": {
             "outlinewidth": 0,
             "ticks": ""
            },
            "type": "choropleth"
           }
          ],
          "contour": [
           {
            "colorbar": {
             "outlinewidth": 0,
             "ticks": ""
            },
            "colorscale": [
             [
              0,
              "#0d0887"
             ],
             [
              0.1111111111111111,
              "#46039f"
             ],
             [
              0.2222222222222222,
              "#7201a8"
             ],
             [
              0.3333333333333333,
              "#9c179e"
             ],
             [
              0.4444444444444444,
              "#bd3786"
             ],
             [
              0.5555555555555556,
              "#d8576b"
             ],
             [
              0.6666666666666666,
              "#ed7953"
             ],
             [
              0.7777777777777778,
              "#fb9f3a"
             ],
             [
              0.8888888888888888,
              "#fdca26"
             ],
             [
              1,
              "#f0f921"
             ]
            ],
            "type": "contour"
           }
          ],
          "contourcarpet": [
           {
            "colorbar": {
             "outlinewidth": 0,
             "ticks": ""
            },
            "type": "contourcarpet"
           }
          ],
          "heatmap": [
           {
            "colorbar": {
             "outlinewidth": 0,
             "ticks": ""
            },
            "colorscale": [
             [
              0,
              "#0d0887"
             ],
             [
              0.1111111111111111,
              "#46039f"
             ],
             [
              0.2222222222222222,
              "#7201a8"
             ],
             [
              0.3333333333333333,
              "#9c179e"
             ],
             [
              0.4444444444444444,
              "#bd3786"
             ],
             [
              0.5555555555555556,
              "#d8576b"
             ],
             [
              0.6666666666666666,
              "#ed7953"
             ],
             [
              0.7777777777777778,
              "#fb9f3a"
             ],
             [
              0.8888888888888888,
              "#fdca26"
             ],
             [
              1,
              "#f0f921"
             ]
            ],
            "type": "heatmap"
           }
          ],
          "heatmapgl": [
           {
            "colorbar": {
             "outlinewidth": 0,
             "ticks": ""
            },
            "colorscale": [
             [
              0,
              "#0d0887"
             ],
             [
              0.1111111111111111,
              "#46039f"
             ],
             [
              0.2222222222222222,
              "#7201a8"
             ],
             [
              0.3333333333333333,
              "#9c179e"
             ],
             [
              0.4444444444444444,
              "#bd3786"
             ],
             [
              0.5555555555555556,
              "#d8576b"
             ],
             [
              0.6666666666666666,
              "#ed7953"
             ],
             [
              0.7777777777777778,
              "#fb9f3a"
             ],
             [
              0.8888888888888888,
              "#fdca26"
             ],
             [
              1,
              "#f0f921"
             ]
            ],
            "type": "heatmapgl"
           }
          ],
          "histogram": [
           {
            "marker": {
             "pattern": {
              "fillmode": "overlay",
              "size": 10,
              "solidity": 0.2
             }
            },
            "type": "histogram"
           }
          ],
          "histogram2d": [
           {
            "colorbar": {
             "outlinewidth": 0,
             "ticks": ""
            },
            "colorscale": [
             [
              0,
              "#0d0887"
             ],
             [
              0.1111111111111111,
              "#46039f"
             ],
             [
              0.2222222222222222,
              "#7201a8"
             ],
             [
              0.3333333333333333,
              "#9c179e"
             ],
             [
              0.4444444444444444,
              "#bd3786"
             ],
             [
              0.5555555555555556,
              "#d8576b"
             ],
             [
              0.6666666666666666,
              "#ed7953"
             ],
             [
              0.7777777777777778,
              "#fb9f3a"
             ],
             [
              0.8888888888888888,
              "#fdca26"
             ],
             [
              1,
              "#f0f921"
             ]
            ],
            "type": "histogram2d"
           }
          ],
          "histogram2dcontour": [
           {
            "colorbar": {
             "outlinewidth": 0,
             "ticks": ""
            },
            "colorscale": [
             [
              0,
              "#0d0887"
             ],
             [
              0.1111111111111111,
              "#46039f"
             ],
             [
              0.2222222222222222,
              "#7201a8"
             ],
             [
              0.3333333333333333,
              "#9c179e"
             ],
             [
              0.4444444444444444,
              "#bd3786"
             ],
             [
              0.5555555555555556,
              "#d8576b"
             ],
             [
              0.6666666666666666,
              "#ed7953"
             ],
             [
              0.7777777777777778,
              "#fb9f3a"
             ],
             [
              0.8888888888888888,
              "#fdca26"
             ],
             [
              1,
              "#f0f921"
             ]
            ],
            "type": "histogram2dcontour"
           }
          ],
          "mesh3d": [
           {
            "colorbar": {
             "outlinewidth": 0,
             "ticks": ""
            },
            "type": "mesh3d"
           }
          ],
          "parcoords": [
           {
            "line": {
             "colorbar": {
              "outlinewidth": 0,
              "ticks": ""
             }
            },
            "type": "parcoords"
           }
          ],
          "pie": [
           {
            "automargin": true,
            "type": "pie"
           }
          ],
          "scatter": [
           {
            "fillpattern": {
             "fillmode": "overlay",
             "size": 10,
             "solidity": 0.2
            },
            "type": "scatter"
           }
          ],
          "scatter3d": [
           {
            "line": {
             "colorbar": {
              "outlinewidth": 0,
              "ticks": ""
             }
            },
            "marker": {
             "colorbar": {
              "outlinewidth": 0,
              "ticks": ""
             }
            },
            "type": "scatter3d"
           }
          ],
          "scattercarpet": [
           {
            "marker": {
             "colorbar": {
              "outlinewidth": 0,
              "ticks": ""
             }
            },
            "type": "scattercarpet"
           }
          ],
          "scattergeo": [
           {
            "marker": {
             "colorbar": {
              "outlinewidth": 0,
              "ticks": ""
             }
            },
            "type": "scattergeo"
           }
          ],
          "scattergl": [
           {
            "marker": {
             "colorbar": {
              "outlinewidth": 0,
              "ticks": ""
             }
            },
            "type": "scattergl"
           }
          ],
          "scattermapbox": [
           {
            "marker": {
             "colorbar": {
              "outlinewidth": 0,
              "ticks": ""
             }
            },
            "type": "scattermapbox"
           }
          ],
          "scatterpolar": [
           {
            "marker": {
             "colorbar": {
              "outlinewidth": 0,
              "ticks": ""
             }
            },
            "type": "scatterpolar"
           }
          ],
          "scatterpolargl": [
           {
            "marker": {
             "colorbar": {
              "outlinewidth": 0,
              "ticks": ""
             }
            },
            "type": "scatterpolargl"
           }
          ],
          "scatterternary": [
           {
            "marker": {
             "colorbar": {
              "outlinewidth": 0,
              "ticks": ""
             }
            },
            "type": "scatterternary"
           }
          ],
          "surface": [
           {
            "colorbar": {
             "outlinewidth": 0,
             "ticks": ""
            },
            "colorscale": [
             [
              0,
              "#0d0887"
             ],
             [
              0.1111111111111111,
              "#46039f"
             ],
             [
              0.2222222222222222,
              "#7201a8"
             ],
             [
              0.3333333333333333,
              "#9c179e"
             ],
             [
              0.4444444444444444,
              "#bd3786"
             ],
             [
              0.5555555555555556,
              "#d8576b"
             ],
             [
              0.6666666666666666,
              "#ed7953"
             ],
             [
              0.7777777777777778,
              "#fb9f3a"
             ],
             [
              0.8888888888888888,
              "#fdca26"
             ],
             [
              1,
              "#f0f921"
             ]
            ],
            "type": "surface"
           }
          ],
          "table": [
           {
            "cells": {
             "fill": {
              "color": "#EBF0F8"
             },
             "line": {
              "color": "white"
             }
            },
            "header": {
             "fill": {
              "color": "#C8D4E3"
             },
             "line": {
              "color": "white"
             }
            },
            "type": "table"
           }
          ]
         },
         "layout": {
          "annotationdefaults": {
           "arrowcolor": "#2a3f5f",
           "arrowhead": 0,
           "arrowwidth": 1
          },
          "autotypenumbers": "strict",
          "coloraxis": {
           "colorbar": {
            "outlinewidth": 0,
            "ticks": ""
           }
          },
          "colorscale": {
           "diverging": [
            [
             0,
             "#8e0152"
            ],
            [
             0.1,
             "#c51b7d"
            ],
            [
             0.2,
             "#de77ae"
            ],
            [
             0.3,
             "#f1b6da"
            ],
            [
             0.4,
             "#fde0ef"
            ],
            [
             0.5,
             "#f7f7f7"
            ],
            [
             0.6,
             "#e6f5d0"
            ],
            [
             0.7,
             "#b8e186"
            ],
            [
             0.8,
             "#7fbc41"
            ],
            [
             0.9,
             "#4d9221"
            ],
            [
             1,
             "#276419"
            ]
           ],
           "sequential": [
            [
             0,
             "#0d0887"
            ],
            [
             0.1111111111111111,
             "#46039f"
            ],
            [
             0.2222222222222222,
             "#7201a8"
            ],
            [
             0.3333333333333333,
             "#9c179e"
            ],
            [
             0.4444444444444444,
             "#bd3786"
            ],
            [
             0.5555555555555556,
             "#d8576b"
            ],
            [
             0.6666666666666666,
             "#ed7953"
            ],
            [
             0.7777777777777778,
             "#fb9f3a"
            ],
            [
             0.8888888888888888,
             "#fdca26"
            ],
            [
             1,
             "#f0f921"
            ]
           ],
           "sequentialminus": [
            [
             0,
             "#0d0887"
            ],
            [
             0.1111111111111111,
             "#46039f"
            ],
            [
             0.2222222222222222,
             "#7201a8"
            ],
            [
             0.3333333333333333,
             "#9c179e"
            ],
            [
             0.4444444444444444,
             "#bd3786"
            ],
            [
             0.5555555555555556,
             "#d8576b"
            ],
            [
             0.6666666666666666,
             "#ed7953"
            ],
            [
             0.7777777777777778,
             "#fb9f3a"
            ],
            [
             0.8888888888888888,
             "#fdca26"
            ],
            [
             1,
             "#f0f921"
            ]
           ]
          },
          "colorway": [
           "#636efa",
           "#EF553B",
           "#00cc96",
           "#ab63fa",
           "#FFA15A",
           "#19d3f3",
           "#FF6692",
           "#B6E880",
           "#FF97FF",
           "#FECB52"
          ],
          "font": {
           "color": "#2a3f5f"
          },
          "geo": {
           "bgcolor": "white",
           "lakecolor": "white",
           "landcolor": "#E5ECF6",
           "showlakes": true,
           "showland": true,
           "subunitcolor": "white"
          },
          "hoverlabel": {
           "align": "left"
          },
          "hovermode": "closest",
          "mapbox": {
           "style": "light"
          },
          "paper_bgcolor": "white",
          "plot_bgcolor": "#E5ECF6",
          "polar": {
           "angularaxis": {
            "gridcolor": "white",
            "linecolor": "white",
            "ticks": ""
           },
           "bgcolor": "#E5ECF6",
           "radialaxis": {
            "gridcolor": "white",
            "linecolor": "white",
            "ticks": ""
           }
          },
          "scene": {
           "xaxis": {
            "backgroundcolor": "#E5ECF6",
            "gridcolor": "white",
            "gridwidth": 2,
            "linecolor": "white",
            "showbackground": true,
            "ticks": "",
            "zerolinecolor": "white"
           },
           "yaxis": {
            "backgroundcolor": "#E5ECF6",
            "gridcolor": "white",
            "gridwidth": 2,
            "linecolor": "white",
            "showbackground": true,
            "ticks": "",
            "zerolinecolor": "white"
           },
           "zaxis": {
            "backgroundcolor": "#E5ECF6",
            "gridcolor": "white",
            "gridwidth": 2,
            "linecolor": "white",
            "showbackground": true,
            "ticks": "",
            "zerolinecolor": "white"
           }
          },
          "shapedefaults": {
           "line": {
            "color": "#2a3f5f"
           }
          },
          "ternary": {
           "aaxis": {
            "gridcolor": "white",
            "linecolor": "white",
            "ticks": ""
           },
           "baxis": {
            "gridcolor": "white",
            "linecolor": "white",
            "ticks": ""
           },
           "bgcolor": "#E5ECF6",
           "caxis": {
            "gridcolor": "white",
            "linecolor": "white",
            "ticks": ""
           }
          },
          "title": {
           "x": 0.05
          },
          "xaxis": {
           "automargin": true,
           "gridcolor": "white",
           "linecolor": "white",
           "ticks": "",
           "title": {
            "standoff": 15
           },
           "zerolinecolor": "white",
           "zerolinewidth": 2
          },
          "yaxis": {
           "automargin": true,
           "gridcolor": "white",
           "linecolor": "white",
           "ticks": "",
           "title": {
            "standoff": 15
           },
           "zerolinecolor": "white",
           "zerolinewidth": 2
          }
         }
        },
        "title": {
         "text": "Average NO2 per Month"
        }
       }
      }
     },
     "metadata": {},
     "output_type": "display_data"
    }
   ],
   "source": [
    "fig = go.Figure()\n",
    "\n",
    "for station in stations:\n",
    "    fig.add_trace(go.Scatter(\n",
    "        x=v1[v1['station'] == station]['year_month'],\n",
    "        y=v1[v1['station'] == station]['NO2'], \n",
    "        mode='lines', \n",
    "        name=station \n",
    "    ))\n",
    "\n",
    "fig.update_layout(\n",
    "    title='Average NO2 per Month',\n",
    "    showlegend=True,\n",
    "    plot_bgcolor='white',\n",
    ")"
   ]
  },
  {
   "cell_type": "markdown",
   "metadata": {},
   "source": [
    "Berdasarkan grafik diatas, dapat dilihat untuk variabel NO2 terdapat perbedaan nilai yang cukup jauh untuk setiap stasiunnya, namun data-data tersebut secara konsisten memiliki pola yang sama yaitu paling rendah atau terbaik sekitar bulan `juli` setiap tahunnya."
   ]
  },
  {
   "cell_type": "markdown",
   "metadata": {},
   "source": [
    "#### CO (Carbon Dioxide)"
   ]
  },
  {
   "cell_type": "code",
   "execution_count": 31,
   "metadata": {},
   "outputs": [
    {
     "data": {
      "application/vnd.plotly.v1+json": {
       "config": {
        "plotlyServerURL": "https://plot.ly"
       },
       "data": [
        {
         "mode": "lines",
         "name": "Aotizhongxin",
         "type": "scatter",
         "x": [
          "2013-03-01T00:00:00",
          "2013-04-01T00:00:00",
          "2013-05-01T00:00:00",
          "2013-06-01T00:00:00",
          "2013-07-01T00:00:00",
          "2013-08-01T00:00:00",
          "2013-09-01T00:00:00",
          "2013-10-01T00:00:00",
          "2013-11-01T00:00:00",
          "2013-12-01T00:00:00",
          "2014-01-01T00:00:00",
          "2014-02-01T00:00:00",
          "2014-03-01T00:00:00",
          "2014-04-01T00:00:00",
          "2014-05-01T00:00:00",
          "2014-06-01T00:00:00",
          "2014-07-01T00:00:00",
          "2014-08-01T00:00:00",
          "2014-09-01T00:00:00",
          "2014-10-01T00:00:00",
          "2014-11-01T00:00:00",
          "2014-12-01T00:00:00",
          "2015-01-01T00:00:00",
          "2015-02-01T00:00:00",
          "2015-03-01T00:00:00",
          "2015-04-01T00:00:00",
          "2015-05-01T00:00:00",
          "2015-06-01T00:00:00",
          "2015-07-01T00:00:00",
          "2015-08-01T00:00:00",
          "2015-09-01T00:00:00",
          "2015-10-01T00:00:00",
          "2015-11-01T00:00:00",
          "2015-12-01T00:00:00",
          "2016-01-01T00:00:00",
          "2016-02-01T00:00:00",
          "2016-03-01T00:00:00",
          "2016-04-01T00:00:00",
          "2016-05-01T00:00:00",
          "2016-06-01T00:00:00",
          "2016-07-01T00:00:00",
          "2016-08-01T00:00:00",
          "2016-09-01T00:00:00",
          "2016-10-01T00:00:00",
          "2016-11-01T00:00:00",
          "2016-12-01T00:00:00",
          "2017-01-01T00:00:00",
          "2017-02-01T00:00:00"
         ],
         "y": [
          1477.7305107526881,
          910.0125,
          944.5282258064516,
          1295.1645833333334,
          820.551747311828,
          776.9489247311828,
          1064.4388888888889,
          1099.3951612903227,
          1459.1666666666667,
          1793.6155913978494,
          1863.3064516129032,
          2140.848214285714,
          1386.4247311827958,
          888.3333333333334,
          801.0752688172043,
          698.9583333333334,
          801.4784946236559,
          719.758064516129,
          910.5555555555555,
          1304.7043010752689,
          1596.6666666666667,
          1199.7983870967741,
          2046.9086021505377,
          1506.3988095238096,
          1249.7983870967741,
          816.7361111111111,
          762.8360215053764,
          1046.5972222222222,
          844.2876344086021,
          869.6908602150538,
          990.2777777777778,
          1181.989247311828,
          2443.4375,
          3475.907258064516,
          1807.6612903225807,
          1007.6867816091954,
          1375.470430107527,
          762.9166666666666,
          660.1478494623656,
          735.2083333333334,
          847.7822580645161,
          754.3010752688172,
          681.3194444444445,
          1128.8306451612902,
          1942.2222222222222,
          2546.6397849462364,
          2059.8790322580644,
          1230.8779761904761
         ]
        },
        {
         "mode": "lines",
         "name": "Changping",
         "type": "scatter",
         "x": [
          "2013-03-01T00:00:00",
          "2013-04-01T00:00:00",
          "2013-05-01T00:00:00",
          "2013-06-01T00:00:00",
          "2013-07-01T00:00:00",
          "2013-08-01T00:00:00",
          "2013-09-01T00:00:00",
          "2013-10-01T00:00:00",
          "2013-11-01T00:00:00",
          "2013-12-01T00:00:00",
          "2014-01-01T00:00:00",
          "2014-02-01T00:00:00",
          "2014-03-01T00:00:00",
          "2014-04-01T00:00:00",
          "2014-05-01T00:00:00",
          "2014-06-01T00:00:00",
          "2014-07-01T00:00:00",
          "2014-08-01T00:00:00",
          "2014-09-01T00:00:00",
          "2014-10-01T00:00:00",
          "2014-11-01T00:00:00",
          "2014-12-01T00:00:00",
          "2015-01-01T00:00:00",
          "2015-02-01T00:00:00",
          "2015-03-01T00:00:00",
          "2015-04-01T00:00:00",
          "2015-05-01T00:00:00",
          "2015-06-01T00:00:00",
          "2015-07-01T00:00:00",
          "2015-08-01T00:00:00",
          "2015-09-01T00:00:00",
          "2015-10-01T00:00:00",
          "2015-11-01T00:00:00",
          "2015-12-01T00:00:00",
          "2016-01-01T00:00:00",
          "2016-02-01T00:00:00",
          "2016-03-01T00:00:00",
          "2016-04-01T00:00:00",
          "2016-05-01T00:00:00",
          "2016-06-01T00:00:00",
          "2016-07-01T00:00:00",
          "2016-08-01T00:00:00",
          "2016-09-01T00:00:00",
          "2016-10-01T00:00:00",
          "2016-11-01T00:00:00",
          "2016-12-01T00:00:00",
          "2017-01-01T00:00:00",
          "2017-02-01T00:00:00"
         ],
         "y": [
          1386.2620967741937,
          776.1243055555556,
          776.6935483870968,
          1091.1123106060606,
          823.6715542521994,
          783.9381720430108,
          967.0763888888889,
          962.7016129032259,
          1102.2916666666667,
          1554.9059139784947,
          2293.6155913978496,
          2166.592261904762,
          1308.0645161290322,
          879.0972222222222,
          744.3548387096774,
          692.2916666666666,
          878.8306451612904,
          746.9086021505376,
          913.2638888888889,
          1260.6854838709678,
          1502.8472222222222,
          1433.6693548387098,
          2050.3360215053763,
          1418.8244047619048,
          1151.0752688172042,
          678.3333333333334,
          636.491935483871,
          772.7083333333334,
          604.5698924731183,
          502.35215053763443,
          736.3194444444445,
          876.0752688172043,
          1870.763888888889,
          2657.0564516129034,
          1495.4301075268818,
          943.8936781609195,
          1142.3387096774193,
          746.1111111111111,
          593.5349462365591,
          649.5277777777778,
          956.3844086021505,
          879.502688172043,
          792.7777777777778,
          1166.0618279569892,
          1797.7777777777778,
          2364.6505376344085,
          1901.3440860215053,
          1131.0267857142858
         ]
        },
        {
         "mode": "lines",
         "name": "Dingling",
         "type": "scatter",
         "x": [
          "2013-03-01T00:00:00",
          "2013-04-01T00:00:00",
          "2013-05-01T00:00:00",
          "2013-06-01T00:00:00",
          "2013-07-01T00:00:00",
          "2013-08-01T00:00:00",
          "2013-09-01T00:00:00",
          "2013-10-01T00:00:00",
          "2013-11-01T00:00:00",
          "2013-12-01T00:00:00",
          "2014-01-01T00:00:00",
          "2014-02-01T00:00:00",
          "2014-03-01T00:00:00",
          "2014-04-01T00:00:00",
          "2014-05-01T00:00:00",
          "2014-06-01T00:00:00",
          "2014-07-01T00:00:00",
          "2014-08-01T00:00:00",
          "2014-09-01T00:00:00",
          "2014-10-01T00:00:00",
          "2014-11-01T00:00:00",
          "2014-12-01T00:00:00",
          "2015-01-01T00:00:00",
          "2015-02-01T00:00:00",
          "2015-03-01T00:00:00",
          "2015-04-01T00:00:00",
          "2015-05-01T00:00:00",
          "2015-06-01T00:00:00",
          "2015-07-01T00:00:00",
          "2015-08-01T00:00:00",
          "2015-09-01T00:00:00",
          "2015-10-01T00:00:00",
          "2015-11-01T00:00:00",
          "2015-12-01T00:00:00",
          "2016-01-01T00:00:00",
          "2016-02-01T00:00:00",
          "2016-03-01T00:00:00",
          "2016-04-01T00:00:00",
          "2016-05-01T00:00:00",
          "2016-06-01T00:00:00",
          "2016-07-01T00:00:00",
          "2016-08-01T00:00:00",
          "2016-09-01T00:00:00",
          "2016-10-01T00:00:00",
          "2016-11-01T00:00:00",
          "2016-12-01T00:00:00",
          "2017-01-01T00:00:00",
          "2017-02-01T00:00:00"
         ],
         "y": [
          1014.5712365591398,
          641.6433139534884,
          765.42448112028,
          1131.5077651515153,
          820.5509530791788,
          692.741935483871,
          866.1055555555556,
          1500,
          941.1805555555555,
          1020.8333333333334,
          1183.0645161290322,
          1790.1785714285713,
          1099.8655913978494,
          684.5833333333334,
          454.58822091886606,
          449.7727272727273,
          787.7016129032259,
          656.6532258064516,
          710.6944444444445,
          1012.5,
          982.2222222222222,
          940.3001792114696,
          1460.7078853046596,
          1201.4136904761904,
          896.505376344086,
          528.2638888888889,
          542.8091397849462,
          633.2638888888889,
          481.6532258064516,
          613.1048387096774,
          586.5972222222222,
          842.2715053763441,
          1749.6527777777778,
          2042.4059139784947,
          1336.22311827957,
          670.2586206896551,
          995.497311827957,
          670.1388888888889,
          467.4059139784946,
          556.25,
          694.4957509538675,
          634.9397329171003,
          450.1388888888889,
          854.5698924731183,
          1326.388888888889,
          1764.986559139785,
          1410.9543010752689,
          875.9672619047619
         ]
        },
        {
         "mode": "lines",
         "name": "Dongsi",
         "type": "scatter",
         "x": [
          "2013-03-01T00:00:00",
          "2013-04-01T00:00:00",
          "2013-05-01T00:00:00",
          "2013-06-01T00:00:00",
          "2013-07-01T00:00:00",
          "2013-08-01T00:00:00",
          "2013-09-01T00:00:00",
          "2013-10-01T00:00:00",
          "2013-11-01T00:00:00",
          "2013-12-01T00:00:00",
          "2014-01-01T00:00:00",
          "2014-02-01T00:00:00",
          "2014-03-01T00:00:00",
          "2014-04-01T00:00:00",
          "2014-05-01T00:00:00",
          "2014-06-01T00:00:00",
          "2014-07-01T00:00:00",
          "2014-08-01T00:00:00",
          "2014-09-01T00:00:00",
          "2014-10-01T00:00:00",
          "2014-11-01T00:00:00",
          "2014-12-01T00:00:00",
          "2015-01-01T00:00:00",
          "2015-02-01T00:00:00",
          "2015-03-01T00:00:00",
          "2015-04-01T00:00:00",
          "2015-05-01T00:00:00",
          "2015-06-01T00:00:00",
          "2015-07-01T00:00:00",
          "2015-08-01T00:00:00",
          "2015-09-01T00:00:00",
          "2015-10-01T00:00:00",
          "2015-11-01T00:00:00",
          "2015-12-01T00:00:00",
          "2016-01-01T00:00:00",
          "2016-02-01T00:00:00",
          "2016-03-01T00:00:00",
          "2016-04-01T00:00:00",
          "2016-05-01T00:00:00",
          "2016-06-01T00:00:00",
          "2016-07-01T00:00:00",
          "2016-08-01T00:00:00",
          "2016-09-01T00:00:00",
          "2016-10-01T00:00:00",
          "2016-11-01T00:00:00",
          "2016-12-01T00:00:00",
          "2017-01-01T00:00:00",
          "2017-02-01T00:00:00"
         ],
         "y": [
          1553.0006720430108,
          958.8694444444444,
          1167.440188172043,
          1182.7620059288538,
          955.368906455863,
          1061.3251200646012,
          1394.0916666666667,
          1359.005376344086,
          2122.1551404077222,
          1505.105240465645,
          1876.478494623656,
          2166.8898809523807,
          1502.486559139785,
          997.3611111111111,
          960.013440860215,
          957.3611111111111,
          1060.483870967742,
          1000.6720430107526,
          1163.888888888889,
          1517.741935483871,
          1731.8055555555557,
          1678.5618279569892,
          1974.529569892473,
          1532.217261904762,
          1356.1155913978494,
          850.7638888888889,
          763.1720430107526,
          1159.5833333333333,
          957.3924731182796,
          840.3897849462365,
          908.1944444444445,
          1008.9381720430108,
          1979.7916666666667,
          2734.94623655914,
          1465.4569892473119,
          897.9885057471264,
          1271.975806451613,
          860.9722222222222,
          858.8709677419355,
          851.4583333333334,
          1061.3575268817203,
          959.8118279569892,
          887.5694444444445,
          1245.8333333333333,
          1832.5,
          2604.97311827957,
          2025.2016129032259,
          1178.8690476190477
         ]
        },
        {
         "mode": "lines",
         "name": "Guanyuan",
         "type": "scatter",
         "x": [
          "2013-03-01T00:00:00",
          "2013-04-01T00:00:00",
          "2013-05-01T00:00:00",
          "2013-06-01T00:00:00",
          "2013-07-01T00:00:00",
          "2013-08-01T00:00:00",
          "2013-09-01T00:00:00",
          "2013-10-01T00:00:00",
          "2013-11-01T00:00:00",
          "2013-12-01T00:00:00",
          "2014-01-01T00:00:00",
          "2014-02-01T00:00:00",
          "2014-03-01T00:00:00",
          "2014-04-01T00:00:00",
          "2014-05-01T00:00:00",
          "2014-06-01T00:00:00",
          "2014-07-01T00:00:00",
          "2014-08-01T00:00:00",
          "2014-09-01T00:00:00",
          "2014-10-01T00:00:00",
          "2014-11-01T00:00:00",
          "2014-12-01T00:00:00",
          "2015-01-01T00:00:00",
          "2015-02-01T00:00:00",
          "2015-03-01T00:00:00",
          "2015-04-01T00:00:00",
          "2015-05-01T00:00:00",
          "2015-06-01T00:00:00",
          "2015-07-01T00:00:00",
          "2015-08-01T00:00:00",
          "2015-09-01T00:00:00",
          "2015-10-01T00:00:00",
          "2015-11-01T00:00:00",
          "2015-12-01T00:00:00",
          "2016-01-01T00:00:00",
          "2016-02-01T00:00:00",
          "2016-03-01T00:00:00",
          "2016-04-01T00:00:00",
          "2016-05-01T00:00:00",
          "2016-06-01T00:00:00",
          "2016-07-01T00:00:00",
          "2016-08-01T00:00:00",
          "2016-09-01T00:00:00",
          "2016-10-01T00:00:00",
          "2016-11-01T00:00:00",
          "2016-12-01T00:00:00",
          "2017-01-01T00:00:00",
          "2017-02-01T00:00:00"
         ],
         "y": [
          1488.7029569892472,
          916.3805555555556,
          1008.4254032258065,
          1309.6444444444444,
          960.3978494623656,
          718.2795698924731,
          1112.35,
          1169.6908602150538,
          1457.9166666666667,
          1194.220430107527,
          1949.5967741935483,
          2235.6398809523807,
          1408.534946236559,
          931.25,
          991.3978494623656,
          980.9722222222222,
          1053.494623655914,
          945.3629032258065,
          1088.5416666666667,
          1464.0456989247311,
          1671.875,
          1687.029569892473,
          1893.4139784946237,
          1487.5744047619048,
          1192.6075268817203,
          809.4444444444445,
          759.6102150537635,
          1175,
          973.5887096774194,
          889.7849462365591,
          875.6944444444445,
          957.9301075268817,
          1942.361111111111,
          2809.6774193548385,
          1488.4408602150538,
          924.7844827586207,
          1248.4543010752689,
          788.6805555555555,
          728.6290322580645,
          831.0416666666666,
          941.7230315643426,
          867.7527748872703,
          797.9861111111111,
          1169.0860215053763,
          1699.861111111111,
          2497.983870967742,
          1916.1290322580646,
          1002.9761904761905
         ]
        },
        {
         "mode": "lines",
         "name": "Gucheng",
         "type": "scatter",
         "x": [
          "2013-03-01T00:00:00",
          "2013-04-01T00:00:00",
          "2013-05-01T00:00:00",
          "2013-06-01T00:00:00",
          "2013-07-01T00:00:00",
          "2013-08-01T00:00:00",
          "2013-09-01T00:00:00",
          "2013-10-01T00:00:00",
          "2013-11-01T00:00:00",
          "2013-12-01T00:00:00",
          "2014-01-01T00:00:00",
          "2014-02-01T00:00:00",
          "2014-03-01T00:00:00",
          "2014-04-01T00:00:00",
          "2014-05-01T00:00:00",
          "2014-06-01T00:00:00",
          "2014-07-01T00:00:00",
          "2014-08-01T00:00:00",
          "2014-09-01T00:00:00",
          "2014-10-01T00:00:00",
          "2014-11-01T00:00:00",
          "2014-12-01T00:00:00",
          "2015-01-01T00:00:00",
          "2015-02-01T00:00:00",
          "2015-03-01T00:00:00",
          "2015-04-01T00:00:00",
          "2015-05-01T00:00:00",
          "2015-06-01T00:00:00",
          "2015-07-01T00:00:00",
          "2015-08-01T00:00:00",
          "2015-09-01T00:00:00",
          "2015-10-01T00:00:00",
          "2015-11-01T00:00:00",
          "2015-12-01T00:00:00",
          "2016-01-01T00:00:00",
          "2016-02-01T00:00:00",
          "2016-03-01T00:00:00",
          "2016-04-01T00:00:00",
          "2016-05-01T00:00:00",
          "2016-06-01T00:00:00",
          "2016-07-01T00:00:00",
          "2016-08-01T00:00:00",
          "2016-09-01T00:00:00",
          "2016-10-01T00:00:00",
          "2016-11-01T00:00:00",
          "2016-12-01T00:00:00",
          "2017-01-01T00:00:00",
          "2017-02-01T00:00:00"
         ],
         "y": [
          1608.0846774193549,
          929.1618055555556,
          999.1176075268817,
          1440.90625,
          984.2620967741935,
          902.4193548387096,
          1183.8083333333334,
          1292.1370967741937,
          1566.5277777777778,
          2503.0241935483873,
          2698.2526881720432,
          2469.5684523809523,
          1699.3951612903227,
          1030.8333333333333,
          888.4408602150538,
          830.9722222222222,
          909.8118279569892,
          836.0215053763441,
          989.4444444444445,
          1421.8413978494623,
          1797.361111111111,
          1797.3118279569892,
          2070.6317204301076,
          1609.970238095238,
          1316.3306451612902,
          804.375,
          710.2822580645161,
          1144.6527777777778,
          669.6236559139785,
          799.7311827956989,
          697.6388888888889,
          946.9758064516129,
          1927.1527777777778,
          3184.94623655914,
          1717.002688172043,
          1006.8965517241379,
          1276.747311827957,
          768.9583333333334,
          657.3924731182796,
          731.9444444444445,
          819.2204301075269,
          777.8897849462365,
          797.3611111111111,
          1143.481182795699,
          1834.6527777777778,
          2491.532258064516,
          2281.6532258064517,
          1276.9345238095239
         ]
        },
        {
         "mode": "lines",
         "name": "Huairou",
         "type": "scatter",
         "x": [
          "2013-03-01T00:00:00",
          "2013-04-01T00:00:00",
          "2013-05-01T00:00:00",
          "2013-06-01T00:00:00",
          "2013-07-01T00:00:00",
          "2013-08-01T00:00:00",
          "2013-09-01T00:00:00",
          "2013-10-01T00:00:00",
          "2013-11-01T00:00:00",
          "2013-12-01T00:00:00",
          "2014-01-01T00:00:00",
          "2014-02-01T00:00:00",
          "2014-03-01T00:00:00",
          "2014-04-01T00:00:00",
          "2014-05-01T00:00:00",
          "2014-06-01T00:00:00",
          "2014-07-01T00:00:00",
          "2014-08-01T00:00:00",
          "2014-09-01T00:00:00",
          "2014-10-01T00:00:00",
          "2014-11-01T00:00:00",
          "2014-12-01T00:00:00",
          "2015-01-01T00:00:00",
          "2015-02-01T00:00:00",
          "2015-03-01T00:00:00",
          "2015-04-01T00:00:00",
          "2015-05-01T00:00:00",
          "2015-06-01T00:00:00",
          "2015-07-01T00:00:00",
          "2015-08-01T00:00:00",
          "2015-09-01T00:00:00",
          "2015-10-01T00:00:00",
          "2015-11-01T00:00:00",
          "2015-12-01T00:00:00",
          "2016-01-01T00:00:00",
          "2016-02-01T00:00:00",
          "2016-03-01T00:00:00",
          "2016-04-01T00:00:00",
          "2016-05-01T00:00:00",
          "2016-06-01T00:00:00",
          "2016-07-01T00:00:00",
          "2016-08-01T00:00:00",
          "2016-09-01T00:00:00",
          "2016-10-01T00:00:00",
          "2016-11-01T00:00:00",
          "2016-12-01T00:00:00",
          "2017-01-01T00:00:00",
          "2017-02-01T00:00:00"
         ],
         "y": [
          1194.7130376344087,
          752.7319444444445,
          961.991935483871,
          1085.25,
          872.4354838709677,
          749.5295698924731,
          1010.8291666666667,
          919.0188172043011,
          979.8611111111111,
          1353.6962365591398,
          1485.3494623655913,
          1877.6785714285713,
          1128.225806451613,
          812.1527777777778,
          754.1981239990848,
          747.1897163120567,
          967.9435483870968,
          757.3924731182796,
          871.3888888888889,
          1157.1908602150538,
          1159.7222222222222,
          1189.0456989247311,
          1471.975806451613,
          1193.080357142857,
          1019.8924731182796,
          665,
          660.1478494623656,
          935.4861111111111,
          740.3897849462365,
          655.510752688172,
          668.6111111111111,
          750.3360215053764,
          1528.263888888889,
          2180.1075268817203,
          1183.467741935484,
          736.278735632184,
          1038.4408602150538,
          741.25,
          603.1586021505376,
          651.3888888888889,
          832.4596774193549,
          671.7741935483871,
          612.7777777777778,
          936.4247311827957,
          1369.513888888889,
          1735.5510752688172,
          1577.016129032258,
          1024.8511904761904
         ]
        },
        {
         "mode": "lines",
         "name": "Nongzhanguan",
         "type": "scatter",
         "x": [
          "2013-03-01T00:00:00",
          "2013-04-01T00:00:00",
          "2013-05-01T00:00:00",
          "2013-06-01T00:00:00",
          "2013-07-01T00:00:00",
          "2013-08-01T00:00:00",
          "2013-09-01T00:00:00",
          "2013-10-01T00:00:00",
          "2013-11-01T00:00:00",
          "2013-12-01T00:00:00",
          "2014-01-01T00:00:00",
          "2014-02-01T00:00:00",
          "2014-03-01T00:00:00",
          "2014-04-01T00:00:00",
          "2014-05-01T00:00:00",
          "2014-06-01T00:00:00",
          "2014-07-01T00:00:00",
          "2014-08-01T00:00:00",
          "2014-09-01T00:00:00",
          "2014-10-01T00:00:00",
          "2014-11-01T00:00:00",
          "2014-12-01T00:00:00",
          "2015-01-01T00:00:00",
          "2015-02-01T00:00:00",
          "2015-03-01T00:00:00",
          "2015-04-01T00:00:00",
          "2015-05-01T00:00:00",
          "2015-06-01T00:00:00",
          "2015-07-01T00:00:00",
          "2015-08-01T00:00:00",
          "2015-09-01T00:00:00",
          "2015-10-01T00:00:00",
          "2015-11-01T00:00:00",
          "2015-12-01T00:00:00",
          "2016-01-01T00:00:00",
          "2016-02-01T00:00:00",
          "2016-03-01T00:00:00",
          "2016-04-01T00:00:00",
          "2016-05-01T00:00:00",
          "2016-06-01T00:00:00",
          "2016-07-01T00:00:00",
          "2016-08-01T00:00:00",
          "2016-09-01T00:00:00",
          "2016-10-01T00:00:00",
          "2016-11-01T00:00:00",
          "2016-12-01T00:00:00",
          "2017-01-01T00:00:00",
          "2017-02-01T00:00:00"
         ],
         "y": [
          1496.1565860215053,
          933.1770833333334,
          1129.1471774193549,
          1513.4097222222222,
          1148.967741935484,
          1027.5537634408602,
          1286.3097222222223,
          1285.215053763441,
          1368.5416666666667,
          1757.1908602150538,
          1945.9005376344087,
          2217.0386904761904,
          1488.4408602150538,
          972.1527777777778,
          830.3763440860215,
          886.6666666666666,
          1051.5456989247311,
          955.1075268817204,
          1168.5416666666667,
          1425.9408602150538,
          1672.1527777777778,
          1689.986559139785,
          2005.510752688172,
          1477.827380952381,
          1246.4381720430108,
          839.0277777777778,
          918.4811827956989,
          1213.3333333333333,
          914.247311827957,
          834.4086021505376,
          877.1527777777778,
          1003.5618279569892,
          2047.7777777777778,
          3206.8548387096776,
          1521.505376344086,
          899.7126436781609,
          1254.502688172043,
          786.7361111111111,
          674.0591397849462,
          813.0555555555555,
          985.1088276101284,
          925.8454734651405,
          831.4583333333334,
          1238.5752688172042,
          1899.513888888889,
          2646.0349462365593,
          2240.3225806451615,
          1171.205357142857
         ]
        },
        {
         "mode": "lines",
         "name": "Shunyi",
         "type": "scatter",
         "x": [
          "2013-03-01T00:00:00",
          "2013-04-01T00:00:00",
          "2013-05-01T00:00:00",
          "2013-06-01T00:00:00",
          "2013-07-01T00:00:00",
          "2013-08-01T00:00:00",
          "2013-09-01T00:00:00",
          "2013-10-01T00:00:00",
          "2013-11-01T00:00:00",
          "2013-12-01T00:00:00",
          "2014-01-01T00:00:00",
          "2014-02-01T00:00:00",
          "2014-03-01T00:00:00",
          "2014-04-01T00:00:00",
          "2014-05-01T00:00:00",
          "2014-06-01T00:00:00",
          "2014-07-01T00:00:00",
          "2014-08-01T00:00:00",
          "2014-09-01T00:00:00",
          "2014-10-01T00:00:00",
          "2014-11-01T00:00:00",
          "2014-12-01T00:00:00",
          "2015-01-01T00:00:00",
          "2015-02-01T00:00:00",
          "2015-03-01T00:00:00",
          "2015-04-01T00:00:00",
          "2015-05-01T00:00:00",
          "2015-06-01T00:00:00",
          "2015-07-01T00:00:00",
          "2015-08-01T00:00:00",
          "2015-09-01T00:00:00",
          "2015-10-01T00:00:00",
          "2015-11-01T00:00:00",
          "2015-12-01T00:00:00",
          "2016-01-01T00:00:00",
          "2016-02-01T00:00:00",
          "2016-03-01T00:00:00",
          "2016-04-01T00:00:00",
          "2016-05-01T00:00:00",
          "2016-06-01T00:00:00",
          "2016-07-01T00:00:00",
          "2016-08-01T00:00:00",
          "2016-09-01T00:00:00",
          "2016-10-01T00:00:00",
          "2016-11-01T00:00:00",
          "2016-12-01T00:00:00",
          "2017-01-01T00:00:00",
          "2017-02-01T00:00:00"
         ],
         "y": [
          1388.592741935484,
          1016.7909722222222,
          1008.179435483871,
          1326.1215277777778,
          1279.198252688172,
          1118.7043010752689,
          1218.325,
          1118.5483870967741,
          1203.4722222222222,
          1733.266129032258,
          1643.5483870967741,
          2001.264880952381,
          1229.4354838709678,
          906.5972222222222,
          880.6451612903226,
          704.1666666666666,
          950.6048387096774,
          796.6397849462365,
          940,
          1232.5940860215053,
          1449.861111111111,
          1400.5376344086021,
          1715.1881720430108,
          1292.857142857143,
          1104.5698924731182,
          735.5555555555555,
          651.6129032258065,
          1108.1944444444443,
          777.2177419354839,
          768.0779569892474,
          724.9305555555555,
          880.3091397849462,
          1820.763888888889,
          2679.97311827957,
          1388.9112903225807,
          860.7040229885057,
          1197.1774193548388,
          790.4861111111111,
          834.4758064516129,
          720.9722222222222,
          822.244623655914,
          719.758064516129,
          682.6388888888889,
          1027.4193548387098,
          1753.1944444444443,
          2371.3709677419356,
          2275.4704301075267,
          1252.0833333333333
         ]
        },
        {
         "mode": "lines",
         "name": "Tiantan",
         "type": "scatter",
         "x": [
          "2013-03-01T00:00:00",
          "2013-04-01T00:00:00",
          "2013-05-01T00:00:00",
          "2013-06-01T00:00:00",
          "2013-07-01T00:00:00",
          "2013-08-01T00:00:00",
          "2013-09-01T00:00:00",
          "2013-10-01T00:00:00",
          "2013-11-01T00:00:00",
          "2013-12-01T00:00:00",
          "2014-01-01T00:00:00",
          "2014-02-01T00:00:00",
          "2014-03-01T00:00:00",
          "2014-04-01T00:00:00",
          "2014-05-01T00:00:00",
          "2014-06-01T00:00:00",
          "2014-07-01T00:00:00",
          "2014-08-01T00:00:00",
          "2014-09-01T00:00:00",
          "2014-10-01T00:00:00",
          "2014-11-01T00:00:00",
          "2014-12-01T00:00:00",
          "2015-01-01T00:00:00",
          "2015-02-01T00:00:00",
          "2015-03-01T00:00:00",
          "2015-04-01T00:00:00",
          "2015-05-01T00:00:00",
          "2015-06-01T00:00:00",
          "2015-07-01T00:00:00",
          "2015-08-01T00:00:00",
          "2015-09-01T00:00:00",
          "2015-10-01T00:00:00",
          "2015-11-01T00:00:00",
          "2015-12-01T00:00:00",
          "2016-01-01T00:00:00",
          "2016-02-01T00:00:00",
          "2016-03-01T00:00:00",
          "2016-04-01T00:00:00",
          "2016-05-01T00:00:00",
          "2016-06-01T00:00:00",
          "2016-07-01T00:00:00",
          "2016-08-01T00:00:00",
          "2016-09-01T00:00:00",
          "2016-10-01T00:00:00",
          "2016-11-01T00:00:00",
          "2016-12-01T00:00:00",
          "2017-01-01T00:00:00",
          "2017-02-01T00:00:00"
         ],
         "y": [
          1564.6122311827958,
          983.45625,
          1116.1733870967741,
          1445.607638888889,
          1062.8817204301076,
          922.0430107526881,
          1326.6541666666667,
          1284.8118279569892,
          1533.6805555555557,
          1877.9569892473119,
          1985.6182795698924,
          2208.8541666666665,
          1440.4569892473119,
          942.1527777777778,
          899.3279569892474,
          912.9861111111111,
          1012.7688172043011,
          923.7231182795699,
          1084.7916666666667,
          1423.3870967741937,
          1601.5277777777778,
          1685.483870967742,
          1873.72311827957,
          1436.607142857143,
          1159.6102150537633,
          780.0694444444445,
          734.2069892473119,
          1268.9583333333333,
          936.3575268817204,
          871.7069892473119,
          888.8888888888889,
          974.7311827956989,
          1875.3472222222222,
          2828.494623655914,
          1591.532258064516,
          925.2155172413793,
          1225.3360215053763,
          847.9166666666666,
          702.2849462365591,
          786.8055555555555,
          964.247311827957,
          881.0483870967741,
          836.875,
          1214.3145161290322,
          1791.388888888889,
          2552.6881720430106,
          2276.814516129032,
          1192.782738095238
         ]
        },
        {
         "mode": "lines",
         "name": "Wanliu",
         "type": "scatter",
         "x": [
          "2013-03-01T00:00:00",
          "2013-04-01T00:00:00",
          "2013-05-01T00:00:00",
          "2013-06-01T00:00:00",
          "2013-07-01T00:00:00",
          "2013-08-01T00:00:00",
          "2013-09-01T00:00:00",
          "2013-10-01T00:00:00",
          "2013-11-01T00:00:00",
          "2013-12-01T00:00:00",
          "2014-01-01T00:00:00",
          "2014-02-01T00:00:00",
          "2014-03-01T00:00:00",
          "2014-04-01T00:00:00",
          "2014-05-01T00:00:00",
          "2014-06-01T00:00:00",
          "2014-07-01T00:00:00",
          "2014-08-01T00:00:00",
          "2014-09-01T00:00:00",
          "2014-10-01T00:00:00",
          "2014-11-01T00:00:00",
          "2014-12-01T00:00:00",
          "2015-01-01T00:00:00",
          "2015-02-01T00:00:00",
          "2015-03-01T00:00:00",
          "2015-04-01T00:00:00",
          "2015-05-01T00:00:00",
          "2015-06-01T00:00:00",
          "2015-07-01T00:00:00",
          "2015-08-01T00:00:00",
          "2015-09-01T00:00:00",
          "2015-10-01T00:00:00",
          "2015-11-01T00:00:00",
          "2015-12-01T00:00:00",
          "2016-01-01T00:00:00",
          "2016-02-01T00:00:00",
          "2016-03-01T00:00:00",
          "2016-04-01T00:00:00",
          "2016-05-01T00:00:00",
          "2016-06-01T00:00:00",
          "2016-07-01T00:00:00",
          "2016-08-01T00:00:00",
          "2016-09-01T00:00:00",
          "2016-10-01T00:00:00",
          "2016-11-01T00:00:00",
          "2016-12-01T00:00:00",
          "2017-01-01T00:00:00",
          "2017-02-01T00:00:00"
         ],
         "y": [
          1665.0288978494623,
          899.5138888888889,
          1017.9677419354839,
          1633.879861111111,
          846.0241935483871,
          797.513440860215,
          1079.9958333333334,
          1315.3897849462367,
          1761.2491359944704,
          1886.6943845214803,
          2436.0887096774195,
          2615.5505952380954,
          1547.5806451612902,
          970.9722222222222,
          864.9193548387096,
          732.0833333333334,
          802.5537634408602,
          745.6989247311828,
          877.2916666666666,
          1312.970430107527,
          1883.611111111111,
          1891.532258064516,
          2246.6397849462364,
          1743.6011904761904,
          1282.52688172043,
          723.8194444444445,
          741.263440860215,
          1296.111111111111,
          893.2795698924731,
          803.3602150537635,
          810.8333333333334,
          868.9516129032259,
          1955.0694444444443,
          2591.733870967742,
          2133.6693548387098,
          783.4770114942529,
          1278.225806451613,
          759.0972222222222,
          646.3037634408602,
          746.3194444444445,
          807.6612903225806,
          797.7822580645161,
          782.0833333333334,
          1138.5752688172042,
          1986.388888888889,
          2878.9650537634407,
          2244.7580645161293,
          1307.142857142857
         ]
        },
        {
         "mode": "lines",
         "name": "Wanshouxigong",
         "type": "scatter",
         "x": [
          "2013-03-01T00:00:00",
          "2013-04-01T00:00:00",
          "2013-05-01T00:00:00",
          "2013-06-01T00:00:00",
          "2013-07-01T00:00:00",
          "2013-08-01T00:00:00",
          "2013-09-01T00:00:00",
          "2013-10-01T00:00:00",
          "2013-11-01T00:00:00",
          "2013-12-01T00:00:00",
          "2014-01-01T00:00:00",
          "2014-02-01T00:00:00",
          "2014-03-01T00:00:00",
          "2014-04-01T00:00:00",
          "2014-05-01T00:00:00",
          "2014-06-01T00:00:00",
          "2014-07-01T00:00:00",
          "2014-08-01T00:00:00",
          "2014-09-01T00:00:00",
          "2014-10-01T00:00:00",
          "2014-11-01T00:00:00",
          "2014-12-01T00:00:00",
          "2015-01-01T00:00:00",
          "2015-02-01T00:00:00",
          "2015-03-01T00:00:00",
          "2015-04-01T00:00:00",
          "2015-05-01T00:00:00",
          "2015-06-01T00:00:00",
          "2015-07-01T00:00:00",
          "2015-08-01T00:00:00",
          "2015-09-01T00:00:00",
          "2015-10-01T00:00:00",
          "2015-11-01T00:00:00",
          "2015-12-01T00:00:00",
          "2016-01-01T00:00:00",
          "2016-02-01T00:00:00",
          "2016-03-01T00:00:00",
          "2016-04-01T00:00:00",
          "2016-05-01T00:00:00",
          "2016-06-01T00:00:00",
          "2016-07-01T00:00:00",
          "2016-08-01T00:00:00",
          "2016-09-01T00:00:00",
          "2016-10-01T00:00:00",
          "2016-11-01T00:00:00",
          "2016-12-01T00:00:00",
          "2017-01-01T00:00:00",
          "2017-02-01T00:00:00"
         ],
         "y": [
          1561.5430107526881,
          1003.4486111111111,
          1100.5772849462367,
          1583.5159722222222,
          1227.0631720430108,
          1076.1424731182797,
          1366.057974137931,
          1397.355858361142,
          1575.4166666666667,
          2217.47311827957,
          2211.2903225806454,
          2460.4910714285716,
          1489.1129032258063,
          1075.486111111111,
          954.0322580645161,
          990.2083333333334,
          907.258064516129,
          1027.1505376344087,
          1162.5,
          1439.516129032258,
          1780.138888888889,
          1883.9381720430108,
          2011.6935483870968,
          1557.142857142857,
          1257.8629032258063,
          836.0416666666666,
          774.7311827956989,
          866.6666666666666,
          978.2930107526881,
          911.9623655913979,
          952.7777777777778,
          1044.220430107527,
          2089.1666666666665,
          3085.8870967741937,
          1639.1129032258063,
          935.5603448275862,
          1223.7903225806451,
          831.6666666666666,
          724.3279569892474,
          838.0555555555555,
          997.4462365591398,
          932.4596774193549,
          866.3888888888889,
          1246.4381720430108,
          1812.7777777777778,
          2604.6370967741937,
          2251.4112903225805,
          1172.9910714285713
         ]
        }
       ],
       "layout": {
        "plot_bgcolor": "white",
        "showlegend": true,
        "template": {
         "data": {
          "bar": [
           {
            "error_x": {
             "color": "#2a3f5f"
            },
            "error_y": {
             "color": "#2a3f5f"
            },
            "marker": {
             "line": {
              "color": "#E5ECF6",
              "width": 0.5
             },
             "pattern": {
              "fillmode": "overlay",
              "size": 10,
              "solidity": 0.2
             }
            },
            "type": "bar"
           }
          ],
          "barpolar": [
           {
            "marker": {
             "line": {
              "color": "#E5ECF6",
              "width": 0.5
             },
             "pattern": {
              "fillmode": "overlay",
              "size": 10,
              "solidity": 0.2
             }
            },
            "type": "barpolar"
           }
          ],
          "carpet": [
           {
            "aaxis": {
             "endlinecolor": "#2a3f5f",
             "gridcolor": "white",
             "linecolor": "white",
             "minorgridcolor": "white",
             "startlinecolor": "#2a3f5f"
            },
            "baxis": {
             "endlinecolor": "#2a3f5f",
             "gridcolor": "white",
             "linecolor": "white",
             "minorgridcolor": "white",
             "startlinecolor": "#2a3f5f"
            },
            "type": "carpet"
           }
          ],
          "choropleth": [
           {
            "colorbar": {
             "outlinewidth": 0,
             "ticks": ""
            },
            "type": "choropleth"
           }
          ],
          "contour": [
           {
            "colorbar": {
             "outlinewidth": 0,
             "ticks": ""
            },
            "colorscale": [
             [
              0,
              "#0d0887"
             ],
             [
              0.1111111111111111,
              "#46039f"
             ],
             [
              0.2222222222222222,
              "#7201a8"
             ],
             [
              0.3333333333333333,
              "#9c179e"
             ],
             [
              0.4444444444444444,
              "#bd3786"
             ],
             [
              0.5555555555555556,
              "#d8576b"
             ],
             [
              0.6666666666666666,
              "#ed7953"
             ],
             [
              0.7777777777777778,
              "#fb9f3a"
             ],
             [
              0.8888888888888888,
              "#fdca26"
             ],
             [
              1,
              "#f0f921"
             ]
            ],
            "type": "contour"
           }
          ],
          "contourcarpet": [
           {
            "colorbar": {
             "outlinewidth": 0,
             "ticks": ""
            },
            "type": "contourcarpet"
           }
          ],
          "heatmap": [
           {
            "colorbar": {
             "outlinewidth": 0,
             "ticks": ""
            },
            "colorscale": [
             [
              0,
              "#0d0887"
             ],
             [
              0.1111111111111111,
              "#46039f"
             ],
             [
              0.2222222222222222,
              "#7201a8"
             ],
             [
              0.3333333333333333,
              "#9c179e"
             ],
             [
              0.4444444444444444,
              "#bd3786"
             ],
             [
              0.5555555555555556,
              "#d8576b"
             ],
             [
              0.6666666666666666,
              "#ed7953"
             ],
             [
              0.7777777777777778,
              "#fb9f3a"
             ],
             [
              0.8888888888888888,
              "#fdca26"
             ],
             [
              1,
              "#f0f921"
             ]
            ],
            "type": "heatmap"
           }
          ],
          "heatmapgl": [
           {
            "colorbar": {
             "outlinewidth": 0,
             "ticks": ""
            },
            "colorscale": [
             [
              0,
              "#0d0887"
             ],
             [
              0.1111111111111111,
              "#46039f"
             ],
             [
              0.2222222222222222,
              "#7201a8"
             ],
             [
              0.3333333333333333,
              "#9c179e"
             ],
             [
              0.4444444444444444,
              "#bd3786"
             ],
             [
              0.5555555555555556,
              "#d8576b"
             ],
             [
              0.6666666666666666,
              "#ed7953"
             ],
             [
              0.7777777777777778,
              "#fb9f3a"
             ],
             [
              0.8888888888888888,
              "#fdca26"
             ],
             [
              1,
              "#f0f921"
             ]
            ],
            "type": "heatmapgl"
           }
          ],
          "histogram": [
           {
            "marker": {
             "pattern": {
              "fillmode": "overlay",
              "size": 10,
              "solidity": 0.2
             }
            },
            "type": "histogram"
           }
          ],
          "histogram2d": [
           {
            "colorbar": {
             "outlinewidth": 0,
             "ticks": ""
            },
            "colorscale": [
             [
              0,
              "#0d0887"
             ],
             [
              0.1111111111111111,
              "#46039f"
             ],
             [
              0.2222222222222222,
              "#7201a8"
             ],
             [
              0.3333333333333333,
              "#9c179e"
             ],
             [
              0.4444444444444444,
              "#bd3786"
             ],
             [
              0.5555555555555556,
              "#d8576b"
             ],
             [
              0.6666666666666666,
              "#ed7953"
             ],
             [
              0.7777777777777778,
              "#fb9f3a"
             ],
             [
              0.8888888888888888,
              "#fdca26"
             ],
             [
              1,
              "#f0f921"
             ]
            ],
            "type": "histogram2d"
           }
          ],
          "histogram2dcontour": [
           {
            "colorbar": {
             "outlinewidth": 0,
             "ticks": ""
            },
            "colorscale": [
             [
              0,
              "#0d0887"
             ],
             [
              0.1111111111111111,
              "#46039f"
             ],
             [
              0.2222222222222222,
              "#7201a8"
             ],
             [
              0.3333333333333333,
              "#9c179e"
             ],
             [
              0.4444444444444444,
              "#bd3786"
             ],
             [
              0.5555555555555556,
              "#d8576b"
             ],
             [
              0.6666666666666666,
              "#ed7953"
             ],
             [
              0.7777777777777778,
              "#fb9f3a"
             ],
             [
              0.8888888888888888,
              "#fdca26"
             ],
             [
              1,
              "#f0f921"
             ]
            ],
            "type": "histogram2dcontour"
           }
          ],
          "mesh3d": [
           {
            "colorbar": {
             "outlinewidth": 0,
             "ticks": ""
            },
            "type": "mesh3d"
           }
          ],
          "parcoords": [
           {
            "line": {
             "colorbar": {
              "outlinewidth": 0,
              "ticks": ""
             }
            },
            "type": "parcoords"
           }
          ],
          "pie": [
           {
            "automargin": true,
            "type": "pie"
           }
          ],
          "scatter": [
           {
            "fillpattern": {
             "fillmode": "overlay",
             "size": 10,
             "solidity": 0.2
            },
            "type": "scatter"
           }
          ],
          "scatter3d": [
           {
            "line": {
             "colorbar": {
              "outlinewidth": 0,
              "ticks": ""
             }
            },
            "marker": {
             "colorbar": {
              "outlinewidth": 0,
              "ticks": ""
             }
            },
            "type": "scatter3d"
           }
          ],
          "scattercarpet": [
           {
            "marker": {
             "colorbar": {
              "outlinewidth": 0,
              "ticks": ""
             }
            },
            "type": "scattercarpet"
           }
          ],
          "scattergeo": [
           {
            "marker": {
             "colorbar": {
              "outlinewidth": 0,
              "ticks": ""
             }
            },
            "type": "scattergeo"
           }
          ],
          "scattergl": [
           {
            "marker": {
             "colorbar": {
              "outlinewidth": 0,
              "ticks": ""
             }
            },
            "type": "scattergl"
           }
          ],
          "scattermapbox": [
           {
            "marker": {
             "colorbar": {
              "outlinewidth": 0,
              "ticks": ""
             }
            },
            "type": "scattermapbox"
           }
          ],
          "scatterpolar": [
           {
            "marker": {
             "colorbar": {
              "outlinewidth": 0,
              "ticks": ""
             }
            },
            "type": "scatterpolar"
           }
          ],
          "scatterpolargl": [
           {
            "marker": {
             "colorbar": {
              "outlinewidth": 0,
              "ticks": ""
             }
            },
            "type": "scatterpolargl"
           }
          ],
          "scatterternary": [
           {
            "marker": {
             "colorbar": {
              "outlinewidth": 0,
              "ticks": ""
             }
            },
            "type": "scatterternary"
           }
          ],
          "surface": [
           {
            "colorbar": {
             "outlinewidth": 0,
             "ticks": ""
            },
            "colorscale": [
             [
              0,
              "#0d0887"
             ],
             [
              0.1111111111111111,
              "#46039f"
             ],
             [
              0.2222222222222222,
              "#7201a8"
             ],
             [
              0.3333333333333333,
              "#9c179e"
             ],
             [
              0.4444444444444444,
              "#bd3786"
             ],
             [
              0.5555555555555556,
              "#d8576b"
             ],
             [
              0.6666666666666666,
              "#ed7953"
             ],
             [
              0.7777777777777778,
              "#fb9f3a"
             ],
             [
              0.8888888888888888,
              "#fdca26"
             ],
             [
              1,
              "#f0f921"
             ]
            ],
            "type": "surface"
           }
          ],
          "table": [
           {
            "cells": {
             "fill": {
              "color": "#EBF0F8"
             },
             "line": {
              "color": "white"
             }
            },
            "header": {
             "fill": {
              "color": "#C8D4E3"
             },
             "line": {
              "color": "white"
             }
            },
            "type": "table"
           }
          ]
         },
         "layout": {
          "annotationdefaults": {
           "arrowcolor": "#2a3f5f",
           "arrowhead": 0,
           "arrowwidth": 1
          },
          "autotypenumbers": "strict",
          "coloraxis": {
           "colorbar": {
            "outlinewidth": 0,
            "ticks": ""
           }
          },
          "colorscale": {
           "diverging": [
            [
             0,
             "#8e0152"
            ],
            [
             0.1,
             "#c51b7d"
            ],
            [
             0.2,
             "#de77ae"
            ],
            [
             0.3,
             "#f1b6da"
            ],
            [
             0.4,
             "#fde0ef"
            ],
            [
             0.5,
             "#f7f7f7"
            ],
            [
             0.6,
             "#e6f5d0"
            ],
            [
             0.7,
             "#b8e186"
            ],
            [
             0.8,
             "#7fbc41"
            ],
            [
             0.9,
             "#4d9221"
            ],
            [
             1,
             "#276419"
            ]
           ],
           "sequential": [
            [
             0,
             "#0d0887"
            ],
            [
             0.1111111111111111,
             "#46039f"
            ],
            [
             0.2222222222222222,
             "#7201a8"
            ],
            [
             0.3333333333333333,
             "#9c179e"
            ],
            [
             0.4444444444444444,
             "#bd3786"
            ],
            [
             0.5555555555555556,
             "#d8576b"
            ],
            [
             0.6666666666666666,
             "#ed7953"
            ],
            [
             0.7777777777777778,
             "#fb9f3a"
            ],
            [
             0.8888888888888888,
             "#fdca26"
            ],
            [
             1,
             "#f0f921"
            ]
           ],
           "sequentialminus": [
            [
             0,
             "#0d0887"
            ],
            [
             0.1111111111111111,
             "#46039f"
            ],
            [
             0.2222222222222222,
             "#7201a8"
            ],
            [
             0.3333333333333333,
             "#9c179e"
            ],
            [
             0.4444444444444444,
             "#bd3786"
            ],
            [
             0.5555555555555556,
             "#d8576b"
            ],
            [
             0.6666666666666666,
             "#ed7953"
            ],
            [
             0.7777777777777778,
             "#fb9f3a"
            ],
            [
             0.8888888888888888,
             "#fdca26"
            ],
            [
             1,
             "#f0f921"
            ]
           ]
          },
          "colorway": [
           "#636efa",
           "#EF553B",
           "#00cc96",
           "#ab63fa",
           "#FFA15A",
           "#19d3f3",
           "#FF6692",
           "#B6E880",
           "#FF97FF",
           "#FECB52"
          ],
          "font": {
           "color": "#2a3f5f"
          },
          "geo": {
           "bgcolor": "white",
           "lakecolor": "white",
           "landcolor": "#E5ECF6",
           "showlakes": true,
           "showland": true,
           "subunitcolor": "white"
          },
          "hoverlabel": {
           "align": "left"
          },
          "hovermode": "closest",
          "mapbox": {
           "style": "light"
          },
          "paper_bgcolor": "white",
          "plot_bgcolor": "#E5ECF6",
          "polar": {
           "angularaxis": {
            "gridcolor": "white",
            "linecolor": "white",
            "ticks": ""
           },
           "bgcolor": "#E5ECF6",
           "radialaxis": {
            "gridcolor": "white",
            "linecolor": "white",
            "ticks": ""
           }
          },
          "scene": {
           "xaxis": {
            "backgroundcolor": "#E5ECF6",
            "gridcolor": "white",
            "gridwidth": 2,
            "linecolor": "white",
            "showbackground": true,
            "ticks": "",
            "zerolinecolor": "white"
           },
           "yaxis": {
            "backgroundcolor": "#E5ECF6",
            "gridcolor": "white",
            "gridwidth": 2,
            "linecolor": "white",
            "showbackground": true,
            "ticks": "",
            "zerolinecolor": "white"
           },
           "zaxis": {
            "backgroundcolor": "#E5ECF6",
            "gridcolor": "white",
            "gridwidth": 2,
            "linecolor": "white",
            "showbackground": true,
            "ticks": "",
            "zerolinecolor": "white"
           }
          },
          "shapedefaults": {
           "line": {
            "color": "#2a3f5f"
           }
          },
          "ternary": {
           "aaxis": {
            "gridcolor": "white",
            "linecolor": "white",
            "ticks": ""
           },
           "baxis": {
            "gridcolor": "white",
            "linecolor": "white",
            "ticks": ""
           },
           "bgcolor": "#E5ECF6",
           "caxis": {
            "gridcolor": "white",
            "linecolor": "white",
            "ticks": ""
           }
          },
          "title": {
           "x": 0.05
          },
          "xaxis": {
           "automargin": true,
           "gridcolor": "white",
           "linecolor": "white",
           "ticks": "",
           "title": {
            "standoff": 15
           },
           "zerolinecolor": "white",
           "zerolinewidth": 2
          },
          "yaxis": {
           "automargin": true,
           "gridcolor": "white",
           "linecolor": "white",
           "ticks": "",
           "title": {
            "standoff": 15
           },
           "zerolinecolor": "white",
           "zerolinewidth": 2
          }
         }
        },
        "title": {
         "text": "Average CO per Month"
        }
       }
      }
     },
     "metadata": {},
     "output_type": "display_data"
    }
   ],
   "source": [
    "fig = go.Figure()\n",
    "\n",
    "for station in stations:\n",
    "    fig.add_trace(go.Scatter(\n",
    "        x=v1[v1['station'] == station]['year_month'],\n",
    "        y=v1[v1['station'] == station]['CO'], \n",
    "        mode='lines', \n",
    "        name=station \n",
    "    ))\n",
    "\n",
    "fig.update_layout(\n",
    "    title='Average CO per Month',\n",
    "    showlegend=True,\n",
    "    plot_bgcolor='white',\n",
    ")"
   ]
  },
  {
   "cell_type": "markdown",
   "metadata": {},
   "source": [
    "Berdasarkan grafik diatas, dapat dilihat untuk variabel CO pada seluruh stasiun secara konsisten udara terbaik berada di sekitar bulan `juli` untuk setiap tahunnya."
   ]
  },
  {
   "cell_type": "markdown",
   "metadata": {},
   "source": [
    "#### O3 (Ozone)"
   ]
  },
  {
   "cell_type": "code",
   "execution_count": 32,
   "metadata": {},
   "outputs": [
    {
     "data": {
      "application/vnd.plotly.v1+json": {
       "config": {
        "plotlyServerURL": "https://plot.ly"
       },
       "data": [
        {
         "mode": "lines",
         "name": "Aotizhongxin",
         "type": "scatter",
         "x": [
          "2013-03-01T00:00:00",
          "2013-04-01T00:00:00",
          "2013-05-01T00:00:00",
          "2013-06-01T00:00:00",
          "2013-07-01T00:00:00",
          "2013-08-01T00:00:00",
          "2013-09-01T00:00:00",
          "2013-10-01T00:00:00",
          "2013-11-01T00:00:00",
          "2013-12-01T00:00:00",
          "2014-01-01T00:00:00",
          "2014-02-01T00:00:00",
          "2014-03-01T00:00:00",
          "2014-04-01T00:00:00",
          "2014-05-01T00:00:00",
          "2014-06-01T00:00:00",
          "2014-07-01T00:00:00",
          "2014-08-01T00:00:00",
          "2014-09-01T00:00:00",
          "2014-10-01T00:00:00",
          "2014-11-01T00:00:00",
          "2014-12-01T00:00:00",
          "2015-01-01T00:00:00",
          "2015-02-01T00:00:00",
          "2015-03-01T00:00:00",
          "2015-04-01T00:00:00",
          "2015-05-01T00:00:00",
          "2015-06-01T00:00:00",
          "2015-07-01T00:00:00",
          "2015-08-01T00:00:00",
          "2015-09-01T00:00:00",
          "2015-10-01T00:00:00",
          "2015-11-01T00:00:00",
          "2015-12-01T00:00:00",
          "2016-01-01T00:00:00",
          "2016-02-01T00:00:00",
          "2016-03-01T00:00:00",
          "2016-04-01T00:00:00",
          "2016-05-01T00:00:00",
          "2016-06-01T00:00:00",
          "2016-07-01T00:00:00",
          "2016-08-01T00:00:00",
          "2016-09-01T00:00:00",
          "2016-10-01T00:00:00",
          "2016-11-01T00:00:00",
          "2016-12-01T00:00:00",
          "2017-01-01T00:00:00",
          "2017-02-01T00:00:00"
         ],
         "y": [
          46.810690860215054,
          48.88879944444444,
          74.44117110215053,
          68.61699291666667,
          71.02891451612903,
          70.1532811827957,
          37.193487222222224,
          20.69034879032258,
          18.827889444444445,
          14.920455376344085,
          15.74731182795699,
          19.979166666666668,
          37.056451612903224,
          57.12777777777778,
          79.35403225806452,
          88.94097222222223,
          89.79368279569893,
          83.08387096774194,
          42.56597222222222,
          24.981182795698924,
          16.35763888888889,
          25.713709677419356,
          19.239247311827956,
          45.99032738095238,
          54.01088709677419,
          77.34805555555555,
          100.59072580645162,
          102.01875,
          120.80577956989248,
          96.64986559139786,
          64.31041666666667,
          41.480510752688176,
          16.64027777777778,
          22.650537634408604,
          32.93682795698925,
          51.64798850574713,
          51.28629032258065,
          74.82083333333334,
          99.41666666666667,
          116.87361111111112,
          104.4885752688172,
          89.96908602150538,
          61.986805555555556,
          24.44489247311828,
          16.5875,
          17.87701612903226,
          40.645833333333336,
          54.95386904761905
         ]
        },
        {
         "mode": "lines",
         "name": "Changping",
         "type": "scatter",
         "x": [
          "2013-03-01T00:00:00",
          "2013-04-01T00:00:00",
          "2013-05-01T00:00:00",
          "2013-06-01T00:00:00",
          "2013-07-01T00:00:00",
          "2013-08-01T00:00:00",
          "2013-09-01T00:00:00",
          "2013-10-01T00:00:00",
          "2013-11-01T00:00:00",
          "2013-12-01T00:00:00",
          "2014-01-01T00:00:00",
          "2014-02-01T00:00:00",
          "2014-03-01T00:00:00",
          "2014-04-01T00:00:00",
          "2014-05-01T00:00:00",
          "2014-06-01T00:00:00",
          "2014-07-01T00:00:00",
          "2014-08-01T00:00:00",
          "2014-09-01T00:00:00",
          "2014-10-01T00:00:00",
          "2014-11-01T00:00:00",
          "2014-12-01T00:00:00",
          "2015-01-01T00:00:00",
          "2015-02-01T00:00:00",
          "2015-03-01T00:00:00",
          "2015-04-01T00:00:00",
          "2015-05-01T00:00:00",
          "2015-06-01T00:00:00",
          "2015-07-01T00:00:00",
          "2015-08-01T00:00:00",
          "2015-09-01T00:00:00",
          "2015-10-01T00:00:00",
          "2015-11-01T00:00:00",
          "2015-12-01T00:00:00",
          "2016-01-01T00:00:00",
          "2016-02-01T00:00:00",
          "2016-03-01T00:00:00",
          "2016-04-01T00:00:00",
          "2016-05-01T00:00:00",
          "2016-06-01T00:00:00",
          "2016-07-01T00:00:00",
          "2016-08-01T00:00:00",
          "2016-09-01T00:00:00",
          "2016-10-01T00:00:00",
          "2016-11-01T00:00:00",
          "2016-12-01T00:00:00",
          "2017-01-01T00:00:00",
          "2017-02-01T00:00:00"
         ],
         "y": [
          59.846281989247316,
          67.42339694444445,
          94.22219502688172,
          82.68959152777778,
          81.0492751344086,
          90.40739139784945,
          54.058818888888894,
          29.79519126344086,
          26.514037222222225,
          24.871095430107527,
          25.971102150537636,
          26.008928571428573,
          44.068548387096776,
          76.50833333333334,
          95.67930107526881,
          108.07847222222222,
          116.19556451612904,
          108.97862903225807,
          65.33569444444444,
          31.378360215053764,
          26.13375,
          29.086021505376344,
          25.01505376344086,
          40.013392857142854,
          52.7122311827957,
          76.32152777777777,
          92.12298387096774,
          92.92152777777778,
          101.96908602150538,
          90.33467741935483,
          59.19305555555555,
          42.089381720430104,
          12.144444444444444,
          13.317876344086022,
          29.397849462365592,
          45.06393678160919,
          44.44959677419355,
          63.173611111111114,
          85.96021505376345,
          98.93972222222223,
          95.61290322580645,
          78.08064516129032,
          56.1375,
          23.586693548387096,
          13.276388888888889,
          14.276209677419354,
          29.38978494623656,
          37.01934523809524
         ]
        },
        {
         "mode": "lines",
         "name": "Dingling",
         "type": "scatter",
         "x": [
          "2013-03-01T00:00:00",
          "2013-04-01T00:00:00",
          "2013-05-01T00:00:00",
          "2013-06-01T00:00:00",
          "2013-07-01T00:00:00",
          "2013-08-01T00:00:00",
          "2013-09-01T00:00:00",
          "2013-10-01T00:00:00",
          "2013-11-01T00:00:00",
          "2013-12-01T00:00:00",
          "2014-01-01T00:00:00",
          "2014-02-01T00:00:00",
          "2014-03-01T00:00:00",
          "2014-04-01T00:00:00",
          "2014-05-01T00:00:00",
          "2014-06-01T00:00:00",
          "2014-07-01T00:00:00",
          "2014-08-01T00:00:00",
          "2014-09-01T00:00:00",
          "2014-10-01T00:00:00",
          "2014-11-01T00:00:00",
          "2014-12-01T00:00:00",
          "2015-01-01T00:00:00",
          "2015-02-01T00:00:00",
          "2015-03-01T00:00:00",
          "2015-04-01T00:00:00",
          "2015-05-01T00:00:00",
          "2015-06-01T00:00:00",
          "2015-07-01T00:00:00",
          "2015-08-01T00:00:00",
          "2015-09-01T00:00:00",
          "2015-10-01T00:00:00",
          "2015-11-01T00:00:00",
          "2015-12-01T00:00:00",
          "2016-01-01T00:00:00",
          "2016-02-01T00:00:00",
          "2016-03-01T00:00:00",
          "2016-04-01T00:00:00",
          "2016-05-01T00:00:00",
          "2016-06-01T00:00:00",
          "2016-07-01T00:00:00",
          "2016-08-01T00:00:00",
          "2016-09-01T00:00:00",
          "2016-10-01T00:00:00",
          "2016-11-01T00:00:00",
          "2016-12-01T00:00:00",
          "2017-01-01T00:00:00",
          "2017-02-01T00:00:00"
         ],
         "y": [
          67.86226586021506,
          73.47783991192412,
          97.99690478953579,
          80.72931368055555,
          79.99594563172043,
          84.99244758064516,
          53.86347746980676,
          37.35561078190743,
          33.497127222222225,
          35.18648198924731,
          34.73588709677419,
          29.022321428571427,
          64.82661290322581,
          94.10277777777777,
          108.56835288367546,
          114.42853535353535,
          124.01014784946237,
          112.32284946236558,
          70.07944444444443,
          42.63642473118279,
          35.09777777777778,
          39.818996415770606,
          31.6326164874552,
          54.14657738095238,
          71.4475806451613,
          93.04895833333333,
          108.93548387096774,
          106.25902777777777,
          103.18817204301075,
          103.37096774193549,
          78.13888888888889,
          62.678763440860216,
          15.825694444444444,
          23.955645161290324,
          45.57795698924731,
          67.01795977011494,
          64.89381720430107,
          84.32013888888889,
          114.63978494623656,
          115.31875,
          170.2936827956989,
          81.79032258064517,
          70.34791666666666,
          36.81182795698925,
          26.111805555555556,
          26.543682795698924,
          46.69892473118279,
          61.714285714285715
         ]
        },
        {
         "mode": "lines",
         "name": "Dongsi",
         "type": "scatter",
         "x": [
          "2013-03-01T00:00:00",
          "2013-04-01T00:00:00",
          "2013-05-01T00:00:00",
          "2013-06-01T00:00:00",
          "2013-07-01T00:00:00",
          "2013-08-01T00:00:00",
          "2013-09-01T00:00:00",
          "2013-10-01T00:00:00",
          "2013-11-01T00:00:00",
          "2013-12-01T00:00:00",
          "2014-01-01T00:00:00",
          "2014-02-01T00:00:00",
          "2014-03-01T00:00:00",
          "2014-04-01T00:00:00",
          "2014-05-01T00:00:00",
          "2014-06-01T00:00:00",
          "2014-07-01T00:00:00",
          "2014-08-01T00:00:00",
          "2014-09-01T00:00:00",
          "2014-10-01T00:00:00",
          "2014-11-01T00:00:00",
          "2014-12-01T00:00:00",
          "2015-01-01T00:00:00",
          "2015-02-01T00:00:00",
          "2015-03-01T00:00:00",
          "2015-04-01T00:00:00",
          "2015-05-01T00:00:00",
          "2015-06-01T00:00:00",
          "2015-07-01T00:00:00",
          "2015-08-01T00:00:00",
          "2015-09-01T00:00:00",
          "2015-10-01T00:00:00",
          "2015-11-01T00:00:00",
          "2015-12-01T00:00:00",
          "2016-01-01T00:00:00",
          "2016-02-01T00:00:00",
          "2016-03-01T00:00:00",
          "2016-04-01T00:00:00",
          "2016-05-01T00:00:00",
          "2016-06-01T00:00:00",
          "2016-07-01T00:00:00",
          "2016-08-01T00:00:00",
          "2016-09-01T00:00:00",
          "2016-10-01T00:00:00",
          "2016-11-01T00:00:00",
          "2016-12-01T00:00:00",
          "2017-01-01T00:00:00",
          "2017-02-01T00:00:00"
         ],
         "y": [
          58.99807889784946,
          69.46964208333333,
          96.69280806451613,
          87.08017375,
          84.94010362903227,
          112.5284112903226,
          53.31059361111111,
          32.68117930107527,
          24.35852388888889,
          23.135654569892473,
          23.76478494623656,
          38.869791666666664,
          51.608870967741936,
          71.14166666666667,
          87.05725806451613,
          94.53333333333333,
          92.33870967741936,
          91.177688172043,
          55.11333333333333,
          25.635752688172044,
          22.705694444444443,
          27.98293010752688,
          22.89677419354839,
          34.30357142857143,
          46.11606182795699,
          72.74236111111111,
          92.06048387096774,
          92.31041666666667,
          95.61693548387096,
          90.38709677419355,
          58.05902777777778,
          35.97849462365591,
          14.059722222222222,
          14.323252688172044,
          28.977150537634408,
          48.548132183908045,
          49.22715053763441,
          75.10625,
          92.96370967741936,
          110.01180555555555,
          94.04301075268818,
          81.09946236559139,
          59.14791666666667,
          23.100134408602152,
          14.083333333333334,
          14.952956989247312,
          35.55107526881721,
          44.48363095238095
         ]
        },
        {
         "mode": "lines",
         "name": "Guanyuan",
         "type": "scatter",
         "x": [
          "2013-03-01T00:00:00",
          "2013-04-01T00:00:00",
          "2013-05-01T00:00:00",
          "2013-06-01T00:00:00",
          "2013-07-01T00:00:00",
          "2013-08-01T00:00:00",
          "2013-09-01T00:00:00",
          "2013-10-01T00:00:00",
          "2013-11-01T00:00:00",
          "2013-12-01T00:00:00",
          "2014-01-01T00:00:00",
          "2014-02-01T00:00:00",
          "2014-03-01T00:00:00",
          "2014-04-01T00:00:00",
          "2014-05-01T00:00:00",
          "2014-06-01T00:00:00",
          "2014-07-01T00:00:00",
          "2014-08-01T00:00:00",
          "2014-09-01T00:00:00",
          "2014-10-01T00:00:00",
          "2014-11-01T00:00:00",
          "2014-12-01T00:00:00",
          "2015-01-01T00:00:00",
          "2015-02-01T00:00:00",
          "2015-03-01T00:00:00",
          "2015-04-01T00:00:00",
          "2015-05-01T00:00:00",
          "2015-06-01T00:00:00",
          "2015-07-01T00:00:00",
          "2015-08-01T00:00:00",
          "2015-09-01T00:00:00",
          "2015-10-01T00:00:00",
          "2015-11-01T00:00:00",
          "2015-12-01T00:00:00",
          "2016-01-01T00:00:00",
          "2016-02-01T00:00:00",
          "2016-03-01T00:00:00",
          "2016-04-01T00:00:00",
          "2016-05-01T00:00:00",
          "2016-06-01T00:00:00",
          "2016-07-01T00:00:00",
          "2016-08-01T00:00:00",
          "2016-09-01T00:00:00",
          "2016-10-01T00:00:00",
          "2016-11-01T00:00:00",
          "2016-12-01T00:00:00",
          "2017-01-01T00:00:00",
          "2017-02-01T00:00:00"
         ],
         "y": [
          59.373060483870965,
          61.568092916666664,
          83.99671303763441,
          72.30113055555556,
          76.86910913978495,
          83.13114758064516,
          47.431754166666664,
          24.477704989919353,
          17.295077390046295,
          14.185615681003584,
          16.04771505376344,
          18.895089285714285,
          43.03024193548387,
          72.91875,
          90.55913978494624,
          98.96666666666667,
          100.49529569892474,
          93.82701612903226,
          53.119027777777774,
          23.092741935483872,
          19.304861111111112,
          23.295026881720432,
          18.879637096774193,
          31.676339285714285,
          45.36942204301075,
          76.40555555555555,
          94.59811827956989,
          92.32291666666667,
          99.49260752688173,
          97.68951612903226,
          61.69375,
          37.92607526881721,
          11.386111111111111,
          12.701612903225806,
          23.14516129032258,
          43.473419540229884,
          43.94489247311828,
          69.39166666666667,
          92.84408602150538,
          108.32222222222222,
          92.78091397849462,
          80.80846774193549,
          55.68819444444444,
          21.500672043010752,
          13.292361111111111,
          14.650537634408602,
          42.398521505376344,
          49.44419642857143
         ]
        },
        {
         "mode": "lines",
         "name": "Gucheng",
         "type": "scatter",
         "x": [
          "2013-03-01T00:00:00",
          "2013-04-01T00:00:00",
          "2013-05-01T00:00:00",
          "2013-06-01T00:00:00",
          "2013-07-01T00:00:00",
          "2013-08-01T00:00:00",
          "2013-09-01T00:00:00",
          "2013-10-01T00:00:00",
          "2013-11-01T00:00:00",
          "2013-12-01T00:00:00",
          "2014-01-01T00:00:00",
          "2014-02-01T00:00:00",
          "2014-03-01T00:00:00",
          "2014-04-01T00:00:00",
          "2014-05-01T00:00:00",
          "2014-06-01T00:00:00",
          "2014-07-01T00:00:00",
          "2014-08-01T00:00:00",
          "2014-09-01T00:00:00",
          "2014-10-01T00:00:00",
          "2014-11-01T00:00:00",
          "2014-12-01T00:00:00",
          "2015-01-01T00:00:00",
          "2015-02-01T00:00:00",
          "2015-03-01T00:00:00",
          "2015-04-01T00:00:00",
          "2015-05-01T00:00:00",
          "2015-06-01T00:00:00",
          "2015-07-01T00:00:00",
          "2015-08-01T00:00:00",
          "2015-09-01T00:00:00",
          "2015-10-01T00:00:00",
          "2015-11-01T00:00:00",
          "2015-12-01T00:00:00",
          "2016-01-01T00:00:00",
          "2016-02-01T00:00:00",
          "2016-03-01T00:00:00",
          "2016-04-01T00:00:00",
          "2016-05-01T00:00:00",
          "2016-06-01T00:00:00",
          "2016-07-01T00:00:00",
          "2016-08-01T00:00:00",
          "2016-09-01T00:00:00",
          "2016-10-01T00:00:00",
          "2016-11-01T00:00:00",
          "2016-12-01T00:00:00",
          "2017-01-01T00:00:00",
          "2017-02-01T00:00:00"
         ],
         "y": [
          58.91002647849462,
          61.73000291666666,
          84.21317607526882,
          72.01544777777778,
          73.19784166666666,
          80.96232392473118,
          45.86159444444444,
          27.553886021505374,
          27.060655555555552,
          25.779057526881722,
          31.213037634408604,
          32.14360119047619,
          47.15120967741935,
          66.57430555555555,
          84.39717741935483,
          97.67152777777778,
          101.54099462365592,
          103.64059139784948,
          77.06388888888888,
          27.830645161290324,
          24.020555555555553,
          27.854301075268815,
          23.939247311827955,
          37.98511904761905,
          49.91189516129032,
          76.23611111111111,
          97.04435483870968,
          97.98958333333333,
          112.36155913978494,
          103.54099462365592,
          62.571527777777774,
          40.453629032258064,
          12.36875,
          12.940860215053764,
          31.628360215053764,
          50.627155172413794,
          51.858870967741936,
          72.33611111111111,
          99.89045698924731,
          116.47638888888889,
          107.97110215053763,
          81.37432795698925,
          51.895833333333336,
          19.111559139784948,
          15.736805555555556,
          15.385752688172044,
          25.028225806451612,
          33.238839285714285
         ]
        },
        {
         "mode": "lines",
         "name": "Huairou",
         "type": "scatter",
         "x": [
          "2013-03-01T00:00:00",
          "2013-04-01T00:00:00",
          "2013-05-01T00:00:00",
          "2013-06-01T00:00:00",
          "2013-07-01T00:00:00",
          "2013-08-01T00:00:00",
          "2013-09-01T00:00:00",
          "2013-10-01T00:00:00",
          "2013-11-01T00:00:00",
          "2013-12-01T00:00:00",
          "2014-01-01T00:00:00",
          "2014-02-01T00:00:00",
          "2014-03-01T00:00:00",
          "2014-04-01T00:00:00",
          "2014-05-01T00:00:00",
          "2014-06-01T00:00:00",
          "2014-07-01T00:00:00",
          "2014-08-01T00:00:00",
          "2014-09-01T00:00:00",
          "2014-10-01T00:00:00",
          "2014-11-01T00:00:00",
          "2014-12-01T00:00:00",
          "2015-01-01T00:00:00",
          "2015-02-01T00:00:00",
          "2015-03-01T00:00:00",
          "2015-04-01T00:00:00",
          "2015-05-01T00:00:00",
          "2015-06-01T00:00:00",
          "2015-07-01T00:00:00",
          "2015-08-01T00:00:00",
          "2015-09-01T00:00:00",
          "2015-10-01T00:00:00",
          "2015-11-01T00:00:00",
          "2015-12-01T00:00:00",
          "2016-01-01T00:00:00",
          "2016-02-01T00:00:00",
          "2016-03-01T00:00:00",
          "2016-04-01T00:00:00",
          "2016-05-01T00:00:00",
          "2016-06-01T00:00:00",
          "2016-07-01T00:00:00",
          "2016-08-01T00:00:00",
          "2016-09-01T00:00:00",
          "2016-10-01T00:00:00",
          "2016-11-01T00:00:00",
          "2016-12-01T00:00:00",
          "2017-01-01T00:00:00",
          "2017-02-01T00:00:00"
         ],
         "y": [
          61.74357056451613,
          73.00625958333333,
          130.97581653225805,
          68.36293319444445,
          84.11866854838709,
          71.24592043010753,
          48.730892499999996,
          35.92262970430107,
          36.64100944444444,
          30.8410873655914,
          27.199596774193548,
          36.43154761904762,
          62.354838709677416,
          80.11736111111111,
          99.70688915579959,
          112.8299645390071,
          111.4981182795699,
          111.38064516129032,
          70.59513888888888,
          40.66263440860215,
          28.55048611111111,
          33.546370967741936,
          25.24462365591398,
          41.788690476190474,
          55.75974462365591,
          86.03833333333333,
          97.16411290322581,
          93.07291666666667,
          94.61626344086021,
          83.09475806451613,
          61.14861111111111,
          41.76545698924731,
          18.49513888888889,
          28.197580645161292,
          23.274193548387096,
          37.44396551724138,
          44.405913978494624,
          66.66041666666666,
          91.84139784946237,
          105.59583333333333,
          87.07728494623656,
          59.666666666666664,
          55.390972222222224,
          26.741935483870968,
          19.006944444444443,
          23.179435483870968,
          36.14717741935484,
          58.226190476190474
         ]
        },
        {
         "mode": "lines",
         "name": "Nongzhanguan",
         "type": "scatter",
         "x": [
          "2013-03-01T00:00:00",
          "2013-04-01T00:00:00",
          "2013-05-01T00:00:00",
          "2013-06-01T00:00:00",
          "2013-07-01T00:00:00",
          "2013-08-01T00:00:00",
          "2013-09-01T00:00:00",
          "2013-10-01T00:00:00",
          "2013-11-01T00:00:00",
          "2013-12-01T00:00:00",
          "2014-01-01T00:00:00",
          "2014-02-01T00:00:00",
          "2014-03-01T00:00:00",
          "2014-04-01T00:00:00",
          "2014-05-01T00:00:00",
          "2014-06-01T00:00:00",
          "2014-07-01T00:00:00",
          "2014-08-01T00:00:00",
          "2014-09-01T00:00:00",
          "2014-10-01T00:00:00",
          "2014-11-01T00:00:00",
          "2014-12-01T00:00:00",
          "2015-01-01T00:00:00",
          "2015-02-01T00:00:00",
          "2015-03-01T00:00:00",
          "2015-04-01T00:00:00",
          "2015-05-01T00:00:00",
          "2015-06-01T00:00:00",
          "2015-07-01T00:00:00",
          "2015-08-01T00:00:00",
          "2015-09-01T00:00:00",
          "2015-10-01T00:00:00",
          "2015-11-01T00:00:00",
          "2015-12-01T00:00:00",
          "2016-01-01T00:00:00",
          "2016-02-01T00:00:00",
          "2016-03-01T00:00:00",
          "2016-04-01T00:00:00",
          "2016-05-01T00:00:00",
          "2016-06-01T00:00:00",
          "2016-07-01T00:00:00",
          "2016-08-01T00:00:00",
          "2016-09-01T00:00:00",
          "2016-10-01T00:00:00",
          "2016-11-01T00:00:00",
          "2016-12-01T00:00:00",
          "2017-01-01T00:00:00",
          "2017-02-01T00:00:00"
         ],
         "y": [
          58.762818548387095,
          62.784066249999995,
          83.51752634408602,
          78.71124861111112,
          82.96639220430107,
          76.9674494623656,
          46.84359277777778,
          25.651621639784945,
          22.242224166666666,
          21.234345161290324,
          20.94489247311828,
          25.99032738095238,
          46.33467741935484,
          71.2375,
          96.3024193548387,
          105.78680555555556,
          106.81559139784946,
          100.41196236559139,
          56.05013888888889,
          26.16532258064516,
          23.535416666666666,
          29.246639784946236,
          24.97016129032258,
          41.90252976190476,
          49.48756720430107,
          76.37361111111112,
          97.05913978494624,
          98.99583333333334,
          106.98521505376344,
          101.91733870967742,
          62.08263888888889,
          38.266801075268816,
          17.198611111111113,
          19.561827956989248,
          34.696236559139784,
          50.27873563218391,
          49.714381720430104,
          70.81805555555556,
          96.59744623655914,
          112.25069444444445,
          100.30309139784946,
          88.67674731182795,
          61.32361111111111,
          23.511424731182796,
          15.8625,
          18.543682795698924,
          30.668010752688172,
          42.99107142857143
         ]
        },
        {
         "mode": "lines",
         "name": "Shunyi",
         "type": "scatter",
         "x": [
          "2013-03-01T00:00:00",
          "2013-04-01T00:00:00",
          "2013-05-01T00:00:00",
          "2013-06-01T00:00:00",
          "2013-07-01T00:00:00",
          "2013-08-01T00:00:00",
          "2013-09-01T00:00:00",
          "2013-10-01T00:00:00",
          "2013-11-01T00:00:00",
          "2013-12-01T00:00:00",
          "2014-01-01T00:00:00",
          "2014-02-01T00:00:00",
          "2014-03-01T00:00:00",
          "2014-04-01T00:00:00",
          "2014-05-01T00:00:00",
          "2014-06-01T00:00:00",
          "2014-07-01T00:00:00",
          "2014-08-01T00:00:00",
          "2014-09-01T00:00:00",
          "2014-10-01T00:00:00",
          "2014-11-01T00:00:00",
          "2014-12-01T00:00:00",
          "2015-01-01T00:00:00",
          "2015-02-01T00:00:00",
          "2015-03-01T00:00:00",
          "2015-04-01T00:00:00",
          "2015-05-01T00:00:00",
          "2015-06-01T00:00:00",
          "2015-07-01T00:00:00",
          "2015-08-01T00:00:00",
          "2015-09-01T00:00:00",
          "2015-10-01T00:00:00",
          "2015-11-01T00:00:00",
          "2015-12-01T00:00:00",
          "2016-01-01T00:00:00",
          "2016-02-01T00:00:00",
          "2016-03-01T00:00:00",
          "2016-04-01T00:00:00",
          "2016-05-01T00:00:00",
          "2016-06-01T00:00:00",
          "2016-07-01T00:00:00",
          "2016-08-01T00:00:00",
          "2016-09-01T00:00:00",
          "2016-10-01T00:00:00",
          "2016-11-01T00:00:00",
          "2016-12-01T00:00:00",
          "2017-01-01T00:00:00",
          "2017-02-01T00:00:00"
         ],
         "y": [
          52.93743131720431,
          56.34783263888889,
          86.48176021505377,
          75.07165902777777,
          80.41503508064515,
          78.6563995967742,
          51.671706944444445,
          26.733651075268817,
          23.47489013888889,
          26.177318548387095,
          23.33266129032258,
          28.395089285714285,
          44.69825268817204,
          68.73125,
          89.6491935483871,
          105.57777777777778,
          105.62728494623656,
          99.22594086021506,
          52.255277777777785,
          27.223790322580644,
          20.712777777777777,
          27.01478494623656,
          28.55524193548387,
          39.886160714285715,
          43.89717741935484,
          65.32569444444445,
          82.0013440860215,
          80.42375,
          92.93077956989248,
          76.95497311827957,
          46.40902777777778,
          29.1122311827957,
          17.47361111111111,
          15.995967741935484,
          32.82392473118279,
          47.22629310344828,
          43.645161290322584,
          63.87152777777778,
          87.36626344086021,
          107.04027777777777,
          95.06048387096774,
          75.19489247311827,
          24.827083333333334,
          23.637096774193548,
          19.858333333333334,
          23.461693548387096,
          36.04435483870968,
          48.55580357142857
         ]
        },
        {
         "mode": "lines",
         "name": "Tiantan",
         "type": "scatter",
         "x": [
          "2013-03-01T00:00:00",
          "2013-04-01T00:00:00",
          "2013-05-01T00:00:00",
          "2013-06-01T00:00:00",
          "2013-07-01T00:00:00",
          "2013-08-01T00:00:00",
          "2013-09-01T00:00:00",
          "2013-10-01T00:00:00",
          "2013-11-01T00:00:00",
          "2013-12-01T00:00:00",
          "2014-01-01T00:00:00",
          "2014-02-01T00:00:00",
          "2014-03-01T00:00:00",
          "2014-04-01T00:00:00",
          "2014-05-01T00:00:00",
          "2014-06-01T00:00:00",
          "2014-07-01T00:00:00",
          "2014-08-01T00:00:00",
          "2014-09-01T00:00:00",
          "2014-10-01T00:00:00",
          "2014-11-01T00:00:00",
          "2014-12-01T00:00:00",
          "2015-01-01T00:00:00",
          "2015-02-01T00:00:00",
          "2015-03-01T00:00:00",
          "2015-04-01T00:00:00",
          "2015-05-01T00:00:00",
          "2015-06-01T00:00:00",
          "2015-07-01T00:00:00",
          "2015-08-01T00:00:00",
          "2015-09-01T00:00:00",
          "2015-10-01T00:00:00",
          "2015-11-01T00:00:00",
          "2015-12-01T00:00:00",
          "2016-01-01T00:00:00",
          "2016-02-01T00:00:00",
          "2016-03-01T00:00:00",
          "2016-04-01T00:00:00",
          "2016-05-01T00:00:00",
          "2016-06-01T00:00:00",
          "2016-07-01T00:00:00",
          "2016-08-01T00:00:00",
          "2016-09-01T00:00:00",
          "2016-10-01T00:00:00",
          "2016-11-01T00:00:00",
          "2016-12-01T00:00:00",
          "2017-01-01T00:00:00",
          "2017-02-01T00:00:00"
         ],
         "y": [
          62.243121505376344,
          67.77215430555556,
          81.63148037634409,
          74.78280277777777,
          77.72103481182796,
          80.18648172043011,
          45.1760675,
          25.16228225806452,
          19.18780472222222,
          17.285735215053762,
          20.686827956989248,
          33.685267857142854,
          45.65389784946237,
          69.99791666666667,
          89.63104838709677,
          97.09375,
          100.95161290322581,
          92.57419354838709,
          53.215555555555554,
          24.233870967741936,
          21.245,
          29.258467741935483,
          27.8122311827957,
          41.848214285714285,
          54.72379032258065,
          85.88541666666667,
          103.01209677419355,
          95.23958333333333,
          102.85215053763442,
          93.61559139784946,
          53.40277777777778,
          36.461021505376344,
          14.365972222222222,
          13.584005376344086,
          27.889112903225808,
          47.785919540229884,
          48.96975806451613,
          74.64305555555555,
          97.34341397849462,
          98.49236111111111,
          84.88306451612904,
          76.4758064516129,
          57.202777777777776,
          22.515456989247312,
          16.73125,
          13.862231182795698,
          26.696908602150536,
          45.82738095238095
         ]
        },
        {
         "mode": "lines",
         "name": "Wanliu",
         "type": "scatter",
         "x": [
          "2013-03-01T00:00:00",
          "2013-04-01T00:00:00",
          "2013-05-01T00:00:00",
          "2013-06-01T00:00:00",
          "2013-07-01T00:00:00",
          "2013-08-01T00:00:00",
          "2013-09-01T00:00:00",
          "2013-10-01T00:00:00",
          "2013-11-01T00:00:00",
          "2013-12-01T00:00:00",
          "2014-01-01T00:00:00",
          "2014-02-01T00:00:00",
          "2014-03-01T00:00:00",
          "2014-04-01T00:00:00",
          "2014-05-01T00:00:00",
          "2014-06-01T00:00:00",
          "2014-07-01T00:00:00",
          "2014-08-01T00:00:00",
          "2014-09-01T00:00:00",
          "2014-10-01T00:00:00",
          "2014-11-01T00:00:00",
          "2014-12-01T00:00:00",
          "2015-01-01T00:00:00",
          "2015-02-01T00:00:00",
          "2015-03-01T00:00:00",
          "2015-04-01T00:00:00",
          "2015-05-01T00:00:00",
          "2015-06-01T00:00:00",
          "2015-07-01T00:00:00",
          "2015-08-01T00:00:00",
          "2015-09-01T00:00:00",
          "2015-10-01T00:00:00",
          "2015-11-01T00:00:00",
          "2015-12-01T00:00:00",
          "2016-01-01T00:00:00",
          "2016-02-01T00:00:00",
          "2016-03-01T00:00:00",
          "2016-04-01T00:00:00",
          "2016-05-01T00:00:00",
          "2016-06-01T00:00:00",
          "2016-07-01T00:00:00",
          "2016-08-01T00:00:00",
          "2016-09-01T00:00:00",
          "2016-10-01T00:00:00",
          "2016-11-01T00:00:00",
          "2016-12-01T00:00:00",
          "2017-01-01T00:00:00",
          "2017-02-01T00:00:00"
         ],
         "y": [
          38.935366397849464,
          50.92819027777777,
          62.70530322580645,
          60.304206666666666,
          65.75990147849463,
          69.2298752688172,
          40.75254402777777,
          20.297369623655914,
          17.082995416666666,
          13.593542741935483,
          9.290084543010753,
          14.399553571428571,
          32.432123655913976,
          45.99652777777778,
          70.62096774193549,
          78.35138888888889,
          81.23387096774194,
          71.27520161290323,
          35.00222222222222,
          13.600806451612904,
          11.910416666666666,
          15.811290322580646,
          10.835349462365592,
          20.742559523809526,
          30.55880376344086,
          61.63125,
          97.03763440860214,
          95.96319444444444,
          105.34677419354838,
          90.78225806451613,
          49.26875,
          31.174059139784948,
          10.51388888888889,
          12.963037634408602,
          23.674059139784948,
          46.305316091954026,
          44.32258064516129,
          68.97152777777778,
          92.28965053763442,
          101.20486111111111,
          84.94018817204301,
          72.66599462365592,
          51.291666666666664,
          20.071236559139784,
          16.280555555555555,
          16.530241935483872,
          30.429435483870968,
          41.554315476190474
         ]
        },
        {
         "mode": "lines",
         "name": "Wanshouxigong",
         "type": "scatter",
         "x": [
          "2013-03-01T00:00:00",
          "2013-04-01T00:00:00",
          "2013-05-01T00:00:00",
          "2013-06-01T00:00:00",
          "2013-07-01T00:00:00",
          "2013-08-01T00:00:00",
          "2013-09-01T00:00:00",
          "2013-10-01T00:00:00",
          "2013-11-01T00:00:00",
          "2013-12-01T00:00:00",
          "2014-01-01T00:00:00",
          "2014-02-01T00:00:00",
          "2014-03-01T00:00:00",
          "2014-04-01T00:00:00",
          "2014-05-01T00:00:00",
          "2014-06-01T00:00:00",
          "2014-07-01T00:00:00",
          "2014-08-01T00:00:00",
          "2014-09-01T00:00:00",
          "2014-10-01T00:00:00",
          "2014-11-01T00:00:00",
          "2014-12-01T00:00:00",
          "2015-01-01T00:00:00",
          "2015-02-01T00:00:00",
          "2015-03-01T00:00:00",
          "2015-04-01T00:00:00",
          "2015-05-01T00:00:00",
          "2015-06-01T00:00:00",
          "2015-07-01T00:00:00",
          "2015-08-01T00:00:00",
          "2015-09-01T00:00:00",
          "2015-10-01T00:00:00",
          "2015-11-01T00:00:00",
          "2015-12-01T00:00:00",
          "2016-01-01T00:00:00",
          "2016-02-01T00:00:00",
          "2016-03-01T00:00:00",
          "2016-04-01T00:00:00",
          "2016-05-01T00:00:00",
          "2016-06-01T00:00:00",
          "2016-07-01T00:00:00",
          "2016-08-01T00:00:00",
          "2016-09-01T00:00:00",
          "2016-10-01T00:00:00",
          "2016-11-01T00:00:00",
          "2016-12-01T00:00:00",
          "2017-01-01T00:00:00",
          "2017-02-01T00:00:00"
         ],
         "y": [
          49.698333870967744,
          50.84361166666667,
          71.14997231182797,
          71.2573775,
          84.94519327956989,
          87.0818370967742,
          49.52204689236111,
          28.977048706317202,
          19.60510222222222,
          12.877163978494625,
          12.03763440860215,
          22.41220238095238,
          47.4630376344086,
          68.71875,
          90.45483870967742,
          104.07638888888889,
          104.72849462365592,
          94.55497311827956,
          53.904444444444444,
          24.771505376344088,
          22.303472222222222,
          29.355913978494623,
          24.22755376344086,
          38.705357142857146,
          54.236559139784944,
          77.975,
          98.52352150537635,
          92.74236111111111,
          95.03965053763442,
          100.26747311827957,
          58.71111111111111,
          36.921370967741936,
          14.192361111111111,
          17.701612903225808,
          28.108870967741936,
          47.87643678160919,
          48.17674731182796,
          73.51458333333333,
          99.22043010752688,
          123.96180555555556,
          96.9260752688172,
          76.12768817204301,
          56.92638888888889,
          20.241935483870968,
          14.036111111111111,
          15.164650537634408,
          27.973790322580644,
          40.895833333333336
         ]
        }
       ],
       "layout": {
        "plot_bgcolor": "white",
        "showlegend": true,
        "template": {
         "data": {
          "bar": [
           {
            "error_x": {
             "color": "#2a3f5f"
            },
            "error_y": {
             "color": "#2a3f5f"
            },
            "marker": {
             "line": {
              "color": "#E5ECF6",
              "width": 0.5
             },
             "pattern": {
              "fillmode": "overlay",
              "size": 10,
              "solidity": 0.2
             }
            },
            "type": "bar"
           }
          ],
          "barpolar": [
           {
            "marker": {
             "line": {
              "color": "#E5ECF6",
              "width": 0.5
             },
             "pattern": {
              "fillmode": "overlay",
              "size": 10,
              "solidity": 0.2
             }
            },
            "type": "barpolar"
           }
          ],
          "carpet": [
           {
            "aaxis": {
             "endlinecolor": "#2a3f5f",
             "gridcolor": "white",
             "linecolor": "white",
             "minorgridcolor": "white",
             "startlinecolor": "#2a3f5f"
            },
            "baxis": {
             "endlinecolor": "#2a3f5f",
             "gridcolor": "white",
             "linecolor": "white",
             "minorgridcolor": "white",
             "startlinecolor": "#2a3f5f"
            },
            "type": "carpet"
           }
          ],
          "choropleth": [
           {
            "colorbar": {
             "outlinewidth": 0,
             "ticks": ""
            },
            "type": "choropleth"
           }
          ],
          "contour": [
           {
            "colorbar": {
             "outlinewidth": 0,
             "ticks": ""
            },
            "colorscale": [
             [
              0,
              "#0d0887"
             ],
             [
              0.1111111111111111,
              "#46039f"
             ],
             [
              0.2222222222222222,
              "#7201a8"
             ],
             [
              0.3333333333333333,
              "#9c179e"
             ],
             [
              0.4444444444444444,
              "#bd3786"
             ],
             [
              0.5555555555555556,
              "#d8576b"
             ],
             [
              0.6666666666666666,
              "#ed7953"
             ],
             [
              0.7777777777777778,
              "#fb9f3a"
             ],
             [
              0.8888888888888888,
              "#fdca26"
             ],
             [
              1,
              "#f0f921"
             ]
            ],
            "type": "contour"
           }
          ],
          "contourcarpet": [
           {
            "colorbar": {
             "outlinewidth": 0,
             "ticks": ""
            },
            "type": "contourcarpet"
           }
          ],
          "heatmap": [
           {
            "colorbar": {
             "outlinewidth": 0,
             "ticks": ""
            },
            "colorscale": [
             [
              0,
              "#0d0887"
             ],
             [
              0.1111111111111111,
              "#46039f"
             ],
             [
              0.2222222222222222,
              "#7201a8"
             ],
             [
              0.3333333333333333,
              "#9c179e"
             ],
             [
              0.4444444444444444,
              "#bd3786"
             ],
             [
              0.5555555555555556,
              "#d8576b"
             ],
             [
              0.6666666666666666,
              "#ed7953"
             ],
             [
              0.7777777777777778,
              "#fb9f3a"
             ],
             [
              0.8888888888888888,
              "#fdca26"
             ],
             [
              1,
              "#f0f921"
             ]
            ],
            "type": "heatmap"
           }
          ],
          "heatmapgl": [
           {
            "colorbar": {
             "outlinewidth": 0,
             "ticks": ""
            },
            "colorscale": [
             [
              0,
              "#0d0887"
             ],
             [
              0.1111111111111111,
              "#46039f"
             ],
             [
              0.2222222222222222,
              "#7201a8"
             ],
             [
              0.3333333333333333,
              "#9c179e"
             ],
             [
              0.4444444444444444,
              "#bd3786"
             ],
             [
              0.5555555555555556,
              "#d8576b"
             ],
             [
              0.6666666666666666,
              "#ed7953"
             ],
             [
              0.7777777777777778,
              "#fb9f3a"
             ],
             [
              0.8888888888888888,
              "#fdca26"
             ],
             [
              1,
              "#f0f921"
             ]
            ],
            "type": "heatmapgl"
           }
          ],
          "histogram": [
           {
            "marker": {
             "pattern": {
              "fillmode": "overlay",
              "size": 10,
              "solidity": 0.2
             }
            },
            "type": "histogram"
           }
          ],
          "histogram2d": [
           {
            "colorbar": {
             "outlinewidth": 0,
             "ticks": ""
            },
            "colorscale": [
             [
              0,
              "#0d0887"
             ],
             [
              0.1111111111111111,
              "#46039f"
             ],
             [
              0.2222222222222222,
              "#7201a8"
             ],
             [
              0.3333333333333333,
              "#9c179e"
             ],
             [
              0.4444444444444444,
              "#bd3786"
             ],
             [
              0.5555555555555556,
              "#d8576b"
             ],
             [
              0.6666666666666666,
              "#ed7953"
             ],
             [
              0.7777777777777778,
              "#fb9f3a"
             ],
             [
              0.8888888888888888,
              "#fdca26"
             ],
             [
              1,
              "#f0f921"
             ]
            ],
            "type": "histogram2d"
           }
          ],
          "histogram2dcontour": [
           {
            "colorbar": {
             "outlinewidth": 0,
             "ticks": ""
            },
            "colorscale": [
             [
              0,
              "#0d0887"
             ],
             [
              0.1111111111111111,
              "#46039f"
             ],
             [
              0.2222222222222222,
              "#7201a8"
             ],
             [
              0.3333333333333333,
              "#9c179e"
             ],
             [
              0.4444444444444444,
              "#bd3786"
             ],
             [
              0.5555555555555556,
              "#d8576b"
             ],
             [
              0.6666666666666666,
              "#ed7953"
             ],
             [
              0.7777777777777778,
              "#fb9f3a"
             ],
             [
              0.8888888888888888,
              "#fdca26"
             ],
             [
              1,
              "#f0f921"
             ]
            ],
            "type": "histogram2dcontour"
           }
          ],
          "mesh3d": [
           {
            "colorbar": {
             "outlinewidth": 0,
             "ticks": ""
            },
            "type": "mesh3d"
           }
          ],
          "parcoords": [
           {
            "line": {
             "colorbar": {
              "outlinewidth": 0,
              "ticks": ""
             }
            },
            "type": "parcoords"
           }
          ],
          "pie": [
           {
            "automargin": true,
            "type": "pie"
           }
          ],
          "scatter": [
           {
            "fillpattern": {
             "fillmode": "overlay",
             "size": 10,
             "solidity": 0.2
            },
            "type": "scatter"
           }
          ],
          "scatter3d": [
           {
            "line": {
             "colorbar": {
              "outlinewidth": 0,
              "ticks": ""
             }
            },
            "marker": {
             "colorbar": {
              "outlinewidth": 0,
              "ticks": ""
             }
            },
            "type": "scatter3d"
           }
          ],
          "scattercarpet": [
           {
            "marker": {
             "colorbar": {
              "outlinewidth": 0,
              "ticks": ""
             }
            },
            "type": "scattercarpet"
           }
          ],
          "scattergeo": [
           {
            "marker": {
             "colorbar": {
              "outlinewidth": 0,
              "ticks": ""
             }
            },
            "type": "scattergeo"
           }
          ],
          "scattergl": [
           {
            "marker": {
             "colorbar": {
              "outlinewidth": 0,
              "ticks": ""
             }
            },
            "type": "scattergl"
           }
          ],
          "scattermapbox": [
           {
            "marker": {
             "colorbar": {
              "outlinewidth": 0,
              "ticks": ""
             }
            },
            "type": "scattermapbox"
           }
          ],
          "scatterpolar": [
           {
            "marker": {
             "colorbar": {
              "outlinewidth": 0,
              "ticks": ""
             }
            },
            "type": "scatterpolar"
           }
          ],
          "scatterpolargl": [
           {
            "marker": {
             "colorbar": {
              "outlinewidth": 0,
              "ticks": ""
             }
            },
            "type": "scatterpolargl"
           }
          ],
          "scatterternary": [
           {
            "marker": {
             "colorbar": {
              "outlinewidth": 0,
              "ticks": ""
             }
            },
            "type": "scatterternary"
           }
          ],
          "surface": [
           {
            "colorbar": {
             "outlinewidth": 0,
             "ticks": ""
            },
            "colorscale": [
             [
              0,
              "#0d0887"
             ],
             [
              0.1111111111111111,
              "#46039f"
             ],
             [
              0.2222222222222222,
              "#7201a8"
             ],
             [
              0.3333333333333333,
              "#9c179e"
             ],
             [
              0.4444444444444444,
              "#bd3786"
             ],
             [
              0.5555555555555556,
              "#d8576b"
             ],
             [
              0.6666666666666666,
              "#ed7953"
             ],
             [
              0.7777777777777778,
              "#fb9f3a"
             ],
             [
              0.8888888888888888,
              "#fdca26"
             ],
             [
              1,
              "#f0f921"
             ]
            ],
            "type": "surface"
           }
          ],
          "table": [
           {
            "cells": {
             "fill": {
              "color": "#EBF0F8"
             },
             "line": {
              "color": "white"
             }
            },
            "header": {
             "fill": {
              "color": "#C8D4E3"
             },
             "line": {
              "color": "white"
             }
            },
            "type": "table"
           }
          ]
         },
         "layout": {
          "annotationdefaults": {
           "arrowcolor": "#2a3f5f",
           "arrowhead": 0,
           "arrowwidth": 1
          },
          "autotypenumbers": "strict",
          "coloraxis": {
           "colorbar": {
            "outlinewidth": 0,
            "ticks": ""
           }
          },
          "colorscale": {
           "diverging": [
            [
             0,
             "#8e0152"
            ],
            [
             0.1,
             "#c51b7d"
            ],
            [
             0.2,
             "#de77ae"
            ],
            [
             0.3,
             "#f1b6da"
            ],
            [
             0.4,
             "#fde0ef"
            ],
            [
             0.5,
             "#f7f7f7"
            ],
            [
             0.6,
             "#e6f5d0"
            ],
            [
             0.7,
             "#b8e186"
            ],
            [
             0.8,
             "#7fbc41"
            ],
            [
             0.9,
             "#4d9221"
            ],
            [
             1,
             "#276419"
            ]
           ],
           "sequential": [
            [
             0,
             "#0d0887"
            ],
            [
             0.1111111111111111,
             "#46039f"
            ],
            [
             0.2222222222222222,
             "#7201a8"
            ],
            [
             0.3333333333333333,
             "#9c179e"
            ],
            [
             0.4444444444444444,
             "#bd3786"
            ],
            [
             0.5555555555555556,
             "#d8576b"
            ],
            [
             0.6666666666666666,
             "#ed7953"
            ],
            [
             0.7777777777777778,
             "#fb9f3a"
            ],
            [
             0.8888888888888888,
             "#fdca26"
            ],
            [
             1,
             "#f0f921"
            ]
           ],
           "sequentialminus": [
            [
             0,
             "#0d0887"
            ],
            [
             0.1111111111111111,
             "#46039f"
            ],
            [
             0.2222222222222222,
             "#7201a8"
            ],
            [
             0.3333333333333333,
             "#9c179e"
            ],
            [
             0.4444444444444444,
             "#bd3786"
            ],
            [
             0.5555555555555556,
             "#d8576b"
            ],
            [
             0.6666666666666666,
             "#ed7953"
            ],
            [
             0.7777777777777778,
             "#fb9f3a"
            ],
            [
             0.8888888888888888,
             "#fdca26"
            ],
            [
             1,
             "#f0f921"
            ]
           ]
          },
          "colorway": [
           "#636efa",
           "#EF553B",
           "#00cc96",
           "#ab63fa",
           "#FFA15A",
           "#19d3f3",
           "#FF6692",
           "#B6E880",
           "#FF97FF",
           "#FECB52"
          ],
          "font": {
           "color": "#2a3f5f"
          },
          "geo": {
           "bgcolor": "white",
           "lakecolor": "white",
           "landcolor": "#E5ECF6",
           "showlakes": true,
           "showland": true,
           "subunitcolor": "white"
          },
          "hoverlabel": {
           "align": "left"
          },
          "hovermode": "closest",
          "mapbox": {
           "style": "light"
          },
          "paper_bgcolor": "white",
          "plot_bgcolor": "#E5ECF6",
          "polar": {
           "angularaxis": {
            "gridcolor": "white",
            "linecolor": "white",
            "ticks": ""
           },
           "bgcolor": "#E5ECF6",
           "radialaxis": {
            "gridcolor": "white",
            "linecolor": "white",
            "ticks": ""
           }
          },
          "scene": {
           "xaxis": {
            "backgroundcolor": "#E5ECF6",
            "gridcolor": "white",
            "gridwidth": 2,
            "linecolor": "white",
            "showbackground": true,
            "ticks": "",
            "zerolinecolor": "white"
           },
           "yaxis": {
            "backgroundcolor": "#E5ECF6",
            "gridcolor": "white",
            "gridwidth": 2,
            "linecolor": "white",
            "showbackground": true,
            "ticks": "",
            "zerolinecolor": "white"
           },
           "zaxis": {
            "backgroundcolor": "#E5ECF6",
            "gridcolor": "white",
            "gridwidth": 2,
            "linecolor": "white",
            "showbackground": true,
            "ticks": "",
            "zerolinecolor": "white"
           }
          },
          "shapedefaults": {
           "line": {
            "color": "#2a3f5f"
           }
          },
          "ternary": {
           "aaxis": {
            "gridcolor": "white",
            "linecolor": "white",
            "ticks": ""
           },
           "baxis": {
            "gridcolor": "white",
            "linecolor": "white",
            "ticks": ""
           },
           "bgcolor": "#E5ECF6",
           "caxis": {
            "gridcolor": "white",
            "linecolor": "white",
            "ticks": ""
           }
          },
          "title": {
           "x": 0.05
          },
          "xaxis": {
           "automargin": true,
           "gridcolor": "white",
           "linecolor": "white",
           "ticks": "",
           "title": {
            "standoff": 15
           },
           "zerolinecolor": "white",
           "zerolinewidth": 2
          },
          "yaxis": {
           "automargin": true,
           "gridcolor": "white",
           "linecolor": "white",
           "ticks": "",
           "title": {
            "standoff": 15
           },
           "zerolinecolor": "white",
           "zerolinewidth": 2
          }
         }
        },
        "title": {
         "text": "Average O3 per Month"
        }
       }
      }
     },
     "metadata": {},
     "output_type": "display_data"
    }
   ],
   "source": [
    "fig = go.Figure()\n",
    "\n",
    "for station in stations:\n",
    "    fig.add_trace(go.Scatter(\n",
    "        x=v1[v1['station'] == station]['year_month'],\n",
    "        y=v1[v1['station'] == station]['O3'], \n",
    "        mode='lines', \n",
    "        name=station \n",
    "    ))\n",
    "\n",
    "fig.update_layout(\n",
    "    title='Average O3 per Month',\n",
    "    showlegend=True,\n",
    "    plot_bgcolor='white',\n",
    ")"
   ]
  },
  {
   "cell_type": "markdown",
   "metadata": {},
   "source": [
    "Berdasarkan grafik diatas, dapat dilihat untuk variabel O3 pada seluruh stasiun secara konsisten udara terbaik berada di sekitar bulan `januari` untuk setiap tahunnya."
   ]
  },
  {
   "attachments": {},
   "cell_type": "markdown",
   "metadata": {},
   "source": [
    "### Pertanyaan 2: Bagaimana bulan dengan kondisi cuaca paling ideal setiap tahunnya, dilihat berdasarkan temperature(TEMP), pressure(PRES), suhu titik embun(DEWP), curah hujan (RAIN), dan kecepatan angin (WSPM)?"
   ]
  },
  {
   "cell_type": "markdown",
   "metadata": {},
   "source": [
    "#### TEMP (Temperature)"
   ]
  },
  {
   "cell_type": "code",
   "execution_count": 33,
   "metadata": {},
   "outputs": [
    {
     "data": {
      "application/vnd.plotly.v1+json": {
       "config": {
        "plotlyServerURL": "https://plot.ly"
       },
       "data": [
        {
         "mode": "lines",
         "name": "Aotizhongxin",
         "type": "scatter",
         "x": [
          "2013-03-01T00:00:00",
          "2013-04-01T00:00:00",
          "2013-05-01T00:00:00",
          "2013-06-01T00:00:00",
          "2013-07-01T00:00:00",
          "2013-08-01T00:00:00",
          "2013-09-01T00:00:00",
          "2013-10-01T00:00:00",
          "2013-11-01T00:00:00",
          "2013-12-01T00:00:00",
          "2014-01-01T00:00:00",
          "2014-02-01T00:00:00",
          "2014-03-01T00:00:00",
          "2014-04-01T00:00:00",
          "2014-05-01T00:00:00",
          "2014-06-01T00:00:00",
          "2014-07-01T00:00:00",
          "2014-08-01T00:00:00",
          "2014-09-01T00:00:00",
          "2014-10-01T00:00:00",
          "2014-11-01T00:00:00",
          "2014-12-01T00:00:00",
          "2015-01-01T00:00:00",
          "2015-02-01T00:00:00",
          "2015-03-01T00:00:00",
          "2015-04-01T00:00:00",
          "2015-05-01T00:00:00",
          "2015-06-01T00:00:00",
          "2015-07-01T00:00:00",
          "2015-08-01T00:00:00",
          "2015-09-01T00:00:00",
          "2015-10-01T00:00:00",
          "2015-11-01T00:00:00",
          "2015-12-01T00:00:00",
          "2016-01-01T00:00:00",
          "2016-02-01T00:00:00",
          "2016-03-01T00:00:00",
          "2016-04-01T00:00:00",
          "2016-05-01T00:00:00",
          "2016-06-01T00:00:00",
          "2016-07-01T00:00:00",
          "2016-08-01T00:00:00",
          "2016-09-01T00:00:00",
          "2016-10-01T00:00:00",
          "2016-11-01T00:00:00",
          "2016-12-01T00:00:00",
          "2017-01-01T00:00:00",
          "2017-02-01T00:00:00"
         ],
         "y": [
          6.053629032258064,
          12.260694444444445,
          21.374193548387098,
          23.386111111111113,
          26.877419354838707,
          26.744354838709675,
          20.07777777777778,
          12.80981182795699,
          5.530972222222222,
          -0.16129032258064516,
          -0.13830645161290323,
          -0.09732142857142859,
          9.920430107526881,
          16.891527777777778,
          21.176075268817204,
          24.585972222222225,
          27.806317204301077,
          25.81706989247312,
          20.767222222222223,
          13.572715053763442,
          5.940972222222222,
          -0.6487903225806452,
          -0.7094086021505376,
          1.231845238095238,
          8.439861751152074,
          15.63013888888889,
          21.45551075268817,
          24.53777777777778,
          26.397849462365592,
          26.435752688172045,
          20.600833333333334,
          14.319758064516128,
          2.847777777777778,
          -0.36276881720430104,
          -4.55,
          1.398419540229885,
          9.201881720430107,
          16.454722222222223,
          21.67284946236559,
          25.735833333333332,
          27.6994623655914,
          27.863306451612903,
          22.219114858906526,
          13.338648073476703,
          4.414027777777777,
          0.6407258064516129,
          -1.138740479390681,
          2.661532738095238
         ]
        },
        {
         "mode": "lines",
         "name": "Changping",
         "type": "scatter",
         "x": [
          "2013-03-01T00:00:00",
          "2013-04-01T00:00:00",
          "2013-05-01T00:00:00",
          "2013-06-01T00:00:00",
          "2013-07-01T00:00:00",
          "2013-08-01T00:00:00",
          "2013-09-01T00:00:00",
          "2013-10-01T00:00:00",
          "2013-11-01T00:00:00",
          "2013-12-01T00:00:00",
          "2014-01-01T00:00:00",
          "2014-02-01T00:00:00",
          "2014-03-01T00:00:00",
          "2014-04-01T00:00:00",
          "2014-05-01T00:00:00",
          "2014-06-01T00:00:00",
          "2014-07-01T00:00:00",
          "2014-08-01T00:00:00",
          "2014-09-01T00:00:00",
          "2014-10-01T00:00:00",
          "2014-11-01T00:00:00",
          "2014-12-01T00:00:00",
          "2015-01-01T00:00:00",
          "2015-02-01T00:00:00",
          "2015-03-01T00:00:00",
          "2015-04-01T00:00:00",
          "2015-05-01T00:00:00",
          "2015-06-01T00:00:00",
          "2015-07-01T00:00:00",
          "2015-08-01T00:00:00",
          "2015-09-01T00:00:00",
          "2015-10-01T00:00:00",
          "2015-11-01T00:00:00",
          "2015-12-01T00:00:00",
          "2016-01-01T00:00:00",
          "2016-02-01T00:00:00",
          "2016-03-01T00:00:00",
          "2016-04-01T00:00:00",
          "2016-05-01T00:00:00",
          "2016-06-01T00:00:00",
          "2016-07-01T00:00:00",
          "2016-08-01T00:00:00",
          "2016-09-01T00:00:00",
          "2016-10-01T00:00:00",
          "2016-11-01T00:00:00",
          "2016-12-01T00:00:00",
          "2017-01-01T00:00:00",
          "2017-02-01T00:00:00"
         ],
         "y": [
          5.904032258064516,
          12.412222222222221,
          21.98561827956989,
          23.70638888888889,
          27.271639784946235,
          26.96733870967742,
          20.380277777777778,
          13.42741935483871,
          6.698333333333333,
          0.8397849462365591,
          -0.011021505376344103,
          -0.4200892857142857,
          10.078494623655914,
          17.334583333333335,
          22.026209677419356,
          25.143333333333334,
          28.358736559139786,
          26.356989247311827,
          20.80125,
          13.617069892473118,
          6.360694444444444,
          -0.5705645161290323,
          -0.6262096774193548,
          1.6076636904761903,
          8.759610215053764,
          15.674583333333334,
          21.391129032258064,
          24.585833333333333,
          26.24838709677419,
          26.23481182795699,
          20.402916666666666,
          14.438844086021506,
          3.2152777777777777,
          0.031182795698924744,
          -4.150268817204301,
          1.4364942528735631,
          8.85013440860215,
          16.328055555555558,
          21.06290322580645,
          25.385694444444447,
          27.111290322580643,
          27.188440860215056,
          21.393185405643738,
          12.818898009472607,
          4.117361111111111,
          0.09986559139784947,
          -1.3691687467997953,
          2.3755233134920637
         ]
        },
        {
         "mode": "lines",
         "name": "Dingling",
         "type": "scatter",
         "x": [
          "2013-03-01T00:00:00",
          "2013-04-01T00:00:00",
          "2013-05-01T00:00:00",
          "2013-06-01T00:00:00",
          "2013-07-01T00:00:00",
          "2013-08-01T00:00:00",
          "2013-09-01T00:00:00",
          "2013-10-01T00:00:00",
          "2013-11-01T00:00:00",
          "2013-12-01T00:00:00",
          "2014-01-01T00:00:00",
          "2014-02-01T00:00:00",
          "2014-03-01T00:00:00",
          "2014-04-01T00:00:00",
          "2014-05-01T00:00:00",
          "2014-06-01T00:00:00",
          "2014-07-01T00:00:00",
          "2014-08-01T00:00:00",
          "2014-09-01T00:00:00",
          "2014-10-01T00:00:00",
          "2014-11-01T00:00:00",
          "2014-12-01T00:00:00",
          "2015-01-01T00:00:00",
          "2015-02-01T00:00:00",
          "2015-03-01T00:00:00",
          "2015-04-01T00:00:00",
          "2015-05-01T00:00:00",
          "2015-06-01T00:00:00",
          "2015-07-01T00:00:00",
          "2015-08-01T00:00:00",
          "2015-09-01T00:00:00",
          "2015-10-01T00:00:00",
          "2015-11-01T00:00:00",
          "2015-12-01T00:00:00",
          "2016-01-01T00:00:00",
          "2016-02-01T00:00:00",
          "2016-03-01T00:00:00",
          "2016-04-01T00:00:00",
          "2016-05-01T00:00:00",
          "2016-06-01T00:00:00",
          "2016-07-01T00:00:00",
          "2016-08-01T00:00:00",
          "2016-09-01T00:00:00",
          "2016-10-01T00:00:00",
          "2016-11-01T00:00:00",
          "2016-12-01T00:00:00",
          "2017-01-01T00:00:00",
          "2017-02-01T00:00:00"
         ],
         "y": [
          5.904032258064516,
          12.412222222222221,
          21.98561827956989,
          23.70638888888889,
          27.271639784946235,
          26.96733870967742,
          20.380277777777778,
          13.42741935483871,
          6.698333333333333,
          0.8397849462365591,
          -0.011021505376344103,
          -0.4200892857142857,
          10.078494623655914,
          17.334583333333335,
          22.026209677419356,
          25.143333333333334,
          28.358736559139786,
          26.356989247311827,
          20.80125,
          13.617069892473118,
          6.360694444444444,
          -0.5705645161290323,
          -0.6262096774193548,
          1.6076636904761903,
          8.759610215053764,
          15.674583333333334,
          21.391129032258064,
          24.585833333333333,
          26.24838709677419,
          26.23481182795699,
          20.402916666666666,
          14.438844086021506,
          3.2152777777777777,
          0.031182795698924744,
          -4.150268817204301,
          1.4364942528735631,
          8.85013440860215,
          16.328055555555558,
          21.06290322580645,
          25.385694444444447,
          27.111290322580643,
          27.188440860215056,
          21.393185402777778,
          12.818898009408603,
          4.117361111111111,
          0.09986559139784947,
          -1.3691687467997953,
          2.3755233134920637
         ]
        },
        {
         "mode": "lines",
         "name": "Dongsi",
         "type": "scatter",
         "x": [
          "2013-03-01T00:00:00",
          "2013-04-01T00:00:00",
          "2013-05-01T00:00:00",
          "2013-06-01T00:00:00",
          "2013-07-01T00:00:00",
          "2013-08-01T00:00:00",
          "2013-09-01T00:00:00",
          "2013-10-01T00:00:00",
          "2013-11-01T00:00:00",
          "2013-12-01T00:00:00",
          "2014-01-01T00:00:00",
          "2014-02-01T00:00:00",
          "2014-03-01T00:00:00",
          "2014-04-01T00:00:00",
          "2014-05-01T00:00:00",
          "2014-06-01T00:00:00",
          "2014-07-01T00:00:00",
          "2014-08-01T00:00:00",
          "2014-09-01T00:00:00",
          "2014-10-01T00:00:00",
          "2014-11-01T00:00:00",
          "2014-12-01T00:00:00",
          "2015-01-01T00:00:00",
          "2015-02-01T00:00:00",
          "2015-03-01T00:00:00",
          "2015-04-01T00:00:00",
          "2015-05-01T00:00:00",
          "2015-06-01T00:00:00",
          "2015-07-01T00:00:00",
          "2015-08-01T00:00:00",
          "2015-09-01T00:00:00",
          "2015-10-01T00:00:00",
          "2015-11-01T00:00:00",
          "2015-12-01T00:00:00",
          "2016-01-01T00:00:00",
          "2016-02-01T00:00:00",
          "2016-03-01T00:00:00",
          "2016-04-01T00:00:00",
          "2016-05-01T00:00:00",
          "2016-06-01T00:00:00",
          "2016-07-01T00:00:00",
          "2016-08-01T00:00:00",
          "2016-09-01T00:00:00",
          "2016-10-01T00:00:00",
          "2016-11-01T00:00:00",
          "2016-12-01T00:00:00",
          "2017-01-01T00:00:00",
          "2017-02-01T00:00:00"
         ],
         "y": [
          6.256989247311828,
          12.632361111111111,
          21.929301075268818,
          23.823611111111113,
          27.48521505376344,
          27.321102150537637,
          20.45652777777778,
          13.111559139784946,
          6.262222222222222,
          0.335752688172043,
          -0.20591397849462367,
          -0.41622023809523806,
          9.859139784946237,
          17.0425,
          21.778494623655916,
          24.70375,
          28.17083333333333,
          26.047043010752688,
          20.814027777777778,
          13.442069892473118,
          5.528333333333333,
          -1.168548387096774,
          -1.221505376344086,
          1.1985119047619048,
          8.439861751151883,
          15.63013888888889,
          21.45551075268817,
          24.53777777777778,
          26.397849462365592,
          26.435752688172045,
          20.600833333333334,
          14.319758064516128,
          2.847777777777778,
          -0.36276881720430104,
          -4.55,
          1.398419540229885,
          9.201881720430107,
          16.454722222222223,
          21.67284946236559,
          25.735833333333332,
          27.6994623655914,
          27.863306451612903,
          22.219114858906526,
          13.338648073476703,
          4.414027777777777,
          0.6407258064516129,
          -1.138740479390681,
          2.661532738095238
         ]
        },
        {
         "mode": "lines",
         "name": "Guanyuan",
         "type": "scatter",
         "x": [
          "2013-03-01T00:00:00",
          "2013-04-01T00:00:00",
          "2013-05-01T00:00:00",
          "2013-06-01T00:00:00",
          "2013-07-01T00:00:00",
          "2013-08-01T00:00:00",
          "2013-09-01T00:00:00",
          "2013-10-01T00:00:00",
          "2013-11-01T00:00:00",
          "2013-12-01T00:00:00",
          "2014-01-01T00:00:00",
          "2014-02-01T00:00:00",
          "2014-03-01T00:00:00",
          "2014-04-01T00:00:00",
          "2014-05-01T00:00:00",
          "2014-06-01T00:00:00",
          "2014-07-01T00:00:00",
          "2014-08-01T00:00:00",
          "2014-09-01T00:00:00",
          "2014-10-01T00:00:00",
          "2014-11-01T00:00:00",
          "2014-12-01T00:00:00",
          "2015-01-01T00:00:00",
          "2015-02-01T00:00:00",
          "2015-03-01T00:00:00",
          "2015-04-01T00:00:00",
          "2015-05-01T00:00:00",
          "2015-06-01T00:00:00",
          "2015-07-01T00:00:00",
          "2015-08-01T00:00:00",
          "2015-09-01T00:00:00",
          "2015-10-01T00:00:00",
          "2015-11-01T00:00:00",
          "2015-12-01T00:00:00",
          "2016-01-01T00:00:00",
          "2016-02-01T00:00:00",
          "2016-03-01T00:00:00",
          "2016-04-01T00:00:00",
          "2016-05-01T00:00:00",
          "2016-06-01T00:00:00",
          "2016-07-01T00:00:00",
          "2016-08-01T00:00:00",
          "2016-09-01T00:00:00",
          "2016-10-01T00:00:00",
          "2016-11-01T00:00:00",
          "2016-12-01T00:00:00",
          "2017-01-01T00:00:00",
          "2017-02-01T00:00:00"
         ],
         "y": [
          6.053629032258064,
          12.260694444444445,
          21.374193548387098,
          23.386111111111113,
          26.877419354838707,
          26.744354838709675,
          20.07777777777778,
          12.80981182795699,
          5.530972222222222,
          -0.16129032258064516,
          -0.13830645161290323,
          -0.09732142857142859,
          9.920430107526881,
          16.891527777777778,
          21.176075268817204,
          24.585972222222225,
          27.806317204301077,
          25.81706989247312,
          20.767222222222223,
          13.572715053763442,
          5.940972222222222,
          -0.6487903225806452,
          -0.7094086021505376,
          1.231845238095238,
          8.439861751151883,
          15.63013888888889,
          21.45551075268817,
          24.53777777777778,
          26.397849462365592,
          26.435752688172045,
          20.600833333333334,
          14.319758064516128,
          2.847777777777778,
          -0.36276881720430104,
          -4.55,
          1.398419540229885,
          9.201881720430107,
          16.454722222222223,
          21.67284946236559,
          25.735833333333332,
          27.6994623655914,
          27.863306451612903,
          22.219114858906526,
          13.338648073476703,
          4.414027777777777,
          0.6407258064516129,
          -1.138740479390681,
          2.661532738095238
         ]
        },
        {
         "mode": "lines",
         "name": "Gucheng",
         "type": "scatter",
         "x": [
          "2013-03-01T00:00:00",
          "2013-04-01T00:00:00",
          "2013-05-01T00:00:00",
          "2013-06-01T00:00:00",
          "2013-07-01T00:00:00",
          "2013-08-01T00:00:00",
          "2013-09-01T00:00:00",
          "2013-10-01T00:00:00",
          "2013-11-01T00:00:00",
          "2013-12-01T00:00:00",
          "2014-01-01T00:00:00",
          "2014-02-01T00:00:00",
          "2014-03-01T00:00:00",
          "2014-04-01T00:00:00",
          "2014-05-01T00:00:00",
          "2014-06-01T00:00:00",
          "2014-07-01T00:00:00",
          "2014-08-01T00:00:00",
          "2014-09-01T00:00:00",
          "2014-10-01T00:00:00",
          "2014-11-01T00:00:00",
          "2014-12-01T00:00:00",
          "2015-01-01T00:00:00",
          "2015-02-01T00:00:00",
          "2015-03-01T00:00:00",
          "2015-04-01T00:00:00",
          "2015-05-01T00:00:00",
          "2015-06-01T00:00:00",
          "2015-07-01T00:00:00",
          "2015-08-01T00:00:00",
          "2015-09-01T00:00:00",
          "2015-10-01T00:00:00",
          "2015-11-01T00:00:00",
          "2015-12-01T00:00:00",
          "2016-01-01T00:00:00",
          "2016-02-01T00:00:00",
          "2016-03-01T00:00:00",
          "2016-04-01T00:00:00",
          "2016-05-01T00:00:00",
          "2016-06-01T00:00:00",
          "2016-07-01T00:00:00",
          "2016-08-01T00:00:00",
          "2016-09-01T00:00:00",
          "2016-10-01T00:00:00",
          "2016-11-01T00:00:00",
          "2016-12-01T00:00:00",
          "2017-01-01T00:00:00",
          "2017-02-01T00:00:00"
         ],
         "y": [
          6.329032258064516,
          12.69513888888889,
          21.876478494623658,
          23.73388888888889,
          27.087096774193547,
          27.123454301075267,
          20.32111111111111,
          13.21021505376344,
          6.357777777777779,
          0.5739247311827957,
          0.2399193548387097,
          -0.0681547619047619,
          10.389112903225806,
          17.348194444444445,
          22.237903225806452,
          25.144305555555558,
          28.380241935483873,
          26.415994623655912,
          21.195972222222224,
          14.240725806451614,
          6.669375,
          -0.009408602150537624,
          0.21411290322580648,
          1.987797619047619,
          9.305856374807796,
          16.148320707070834,
          21.92970430107527,
          25.078888888888887,
          26.594489247311827,
          26.638306451612905,
          20.677777777777777,
          14.751612903225807,
          3.6891666666666665,
          0.45456989247311824,
          -4.168951612903226,
          1.6604885057471266,
          9.200672043010753,
          16.529166666666665,
          21.063306451612902,
          25.22875,
          27.14005376344086,
          27.020967741935483,
          21.33076003086111,
          12.755243055555107,
          4.319722222222222,
          0.14610215053763442,
          -1.425731528197115,
          2.365716765873016
         ]
        },
        {
         "mode": "lines",
         "name": "Huairou",
         "type": "scatter",
         "x": [
          "2013-03-01T00:00:00",
          "2013-04-01T00:00:00",
          "2013-05-01T00:00:00",
          "2013-06-01T00:00:00",
          "2013-07-01T00:00:00",
          "2013-08-01T00:00:00",
          "2013-09-01T00:00:00",
          "2013-10-01T00:00:00",
          "2013-11-01T00:00:00",
          "2013-12-01T00:00:00",
          "2014-01-01T00:00:00",
          "2014-02-01T00:00:00",
          "2014-03-01T00:00:00",
          "2014-04-01T00:00:00",
          "2014-05-01T00:00:00",
          "2014-06-01T00:00:00",
          "2014-07-01T00:00:00",
          "2014-08-01T00:00:00",
          "2014-09-01T00:00:00",
          "2014-10-01T00:00:00",
          "2014-11-01T00:00:00",
          "2014-12-01T00:00:00",
          "2015-01-01T00:00:00",
          "2015-02-01T00:00:00",
          "2015-03-01T00:00:00",
          "2015-04-01T00:00:00",
          "2015-05-01T00:00:00",
          "2015-06-01T00:00:00",
          "2015-07-01T00:00:00",
          "2015-08-01T00:00:00",
          "2015-09-01T00:00:00",
          "2015-10-01T00:00:00",
          "2015-11-01T00:00:00",
          "2015-12-01T00:00:00",
          "2016-01-01T00:00:00",
          "2016-02-01T00:00:00",
          "2016-03-01T00:00:00",
          "2016-04-01T00:00:00",
          "2016-05-01T00:00:00",
          "2016-06-01T00:00:00",
          "2016-07-01T00:00:00",
          "2016-08-01T00:00:00",
          "2016-09-01T00:00:00",
          "2016-10-01T00:00:00",
          "2016-11-01T00:00:00",
          "2016-12-01T00:00:00",
          "2017-01-01T00:00:00",
          "2017-02-01T00:00:00"
         ],
         "y": [
          4.819623655913979,
          11.543055555555556,
          20.929032258064517,
          22.798055555555553,
          26.300672043010753,
          25.807795698924732,
          19.435972222222222,
          12.009139784946235,
          4.873611111111111,
          -1.9133064516129032,
          -2.141532258064516,
          -1.4544642857142858,
          8.766129032258064,
          16.131666666666664,
          20.631720430107528,
          23.986666666666668,
          26.895698924731185,
          25.14771505376344,
          19.45625,
          12.724059139784947,
          5.020972222222222,
          -2.506720430107527,
          -2.6253360215053765,
          -0.08132440476190476,
          7.4845526113671275,
          14.711527777777777,
          20.552688172043013,
          23.61986111111111,
          25.67016129032258,
          25.108870967741936,
          19.450416666666666,
          13.082795698924732,
          2.5388888888888888,
          -1.478225806451613,
          -6.183467741935484,
          -0.2535919540229885,
          8.003091397849463,
          15.479861111111111,
          20.186021505376342,
          24.303194444444443,
          26.45766129032258,
          26.183736559139785,
          20.305352237654322,
          12.293771441372247,
          3.1533333333333333,
          -1.3405913978494624,
          -3.025088325652842,
          0.859920634920635
         ]
        },
        {
         "mode": "lines",
         "name": "Nongzhanguan",
         "type": "scatter",
         "x": [
          "2013-03-01T00:00:00",
          "2013-04-01T00:00:00",
          "2013-05-01T00:00:00",
          "2013-06-01T00:00:00",
          "2013-07-01T00:00:00",
          "2013-08-01T00:00:00",
          "2013-09-01T00:00:00",
          "2013-10-01T00:00:00",
          "2013-11-01T00:00:00",
          "2013-12-01T00:00:00",
          "2014-01-01T00:00:00",
          "2014-02-01T00:00:00",
          "2014-03-01T00:00:00",
          "2014-04-01T00:00:00",
          "2014-05-01T00:00:00",
          "2014-06-01T00:00:00",
          "2014-07-01T00:00:00",
          "2014-08-01T00:00:00",
          "2014-09-01T00:00:00",
          "2014-10-01T00:00:00",
          "2014-11-01T00:00:00",
          "2014-12-01T00:00:00",
          "2015-01-01T00:00:00",
          "2015-02-01T00:00:00",
          "2015-03-01T00:00:00",
          "2015-04-01T00:00:00",
          "2015-05-01T00:00:00",
          "2015-06-01T00:00:00",
          "2015-07-01T00:00:00",
          "2015-08-01T00:00:00",
          "2015-09-01T00:00:00",
          "2015-10-01T00:00:00",
          "2015-11-01T00:00:00",
          "2015-12-01T00:00:00",
          "2016-01-01T00:00:00",
          "2016-02-01T00:00:00",
          "2016-03-01T00:00:00",
          "2016-04-01T00:00:00",
          "2016-05-01T00:00:00",
          "2016-06-01T00:00:00",
          "2016-07-01T00:00:00",
          "2016-08-01T00:00:00",
          "2016-09-01T00:00:00",
          "2016-10-01T00:00:00",
          "2016-11-01T00:00:00",
          "2016-12-01T00:00:00",
          "2017-01-01T00:00:00",
          "2017-02-01T00:00:00"
         ],
         "y": [
          6.256989247311828,
          12.632361111111111,
          21.929301075268818,
          23.823611111111113,
          27.48521505376344,
          27.321102150537637,
          20.45652777777778,
          13.111559139784946,
          6.262222222222222,
          0.335752688172043,
          -0.20591397849462367,
          -0.41622023809523806,
          9.859139784946237,
          17.0425,
          21.778494623655916,
          24.70375,
          28.17083333333333,
          26.047043010752688,
          20.814027777777778,
          13.442069892473118,
          5.528333333333333,
          -1.168548387096774,
          -1.221505376344086,
          1.1985119047619048,
          8.439861751152074,
          15.63013888888889,
          21.45551075268817,
          24.53777777777778,
          26.397849462365592,
          26.435752688172045,
          20.600833333333334,
          14.319758064516128,
          2.847777777777778,
          -0.36276881720430104,
          -4.55,
          1.398419540229885,
          9.201881720430107,
          16.454722222222223,
          21.67284946236559,
          25.735833333333332,
          27.6994623655914,
          27.863306451612903,
          22.219114858906526,
          13.338648073476703,
          4.414027777777777,
          0.6407258064516129,
          -1.138740479390681,
          2.661532738095238
         ]
        },
        {
         "mode": "lines",
         "name": "Shunyi",
         "type": "scatter",
         "x": [
          "2013-03-01T00:00:00",
          "2013-04-01T00:00:00",
          "2013-05-01T00:00:00",
          "2013-06-01T00:00:00",
          "2013-07-01T00:00:00",
          "2013-08-01T00:00:00",
          "2013-09-01T00:00:00",
          "2013-10-01T00:00:00",
          "2013-11-01T00:00:00",
          "2013-12-01T00:00:00",
          "2014-01-01T00:00:00",
          "2014-02-01T00:00:00",
          "2014-03-01T00:00:00",
          "2014-04-01T00:00:00",
          "2014-05-01T00:00:00",
          "2014-06-01T00:00:00",
          "2014-07-01T00:00:00",
          "2014-08-01T00:00:00",
          "2014-09-01T00:00:00",
          "2014-10-01T00:00:00",
          "2014-11-01T00:00:00",
          "2014-12-01T00:00:00",
          "2015-01-01T00:00:00",
          "2015-02-01T00:00:00",
          "2015-03-01T00:00:00",
          "2015-04-01T00:00:00",
          "2015-05-01T00:00:00",
          "2015-06-01T00:00:00",
          "2015-07-01T00:00:00",
          "2015-08-01T00:00:00",
          "2015-09-01T00:00:00",
          "2015-10-01T00:00:00",
          "2015-11-01T00:00:00",
          "2015-12-01T00:00:00",
          "2016-01-01T00:00:00",
          "2016-02-01T00:00:00",
          "2016-03-01T00:00:00",
          "2016-04-01T00:00:00",
          "2016-05-01T00:00:00",
          "2016-06-01T00:00:00",
          "2016-07-01T00:00:00",
          "2016-08-01T00:00:00",
          "2016-09-01T00:00:00",
          "2016-10-01T00:00:00",
          "2016-11-01T00:00:00",
          "2016-12-01T00:00:00",
          "2017-01-01T00:00:00",
          "2017-02-01T00:00:00"
         ],
         "y": [
          5.645161290322581,
          12.219722222222224,
          21.64516129032258,
          23.644166666666667,
          27.13051075268817,
          26.535483870967745,
          20.280277777777776,
          12.77002688172043,
          5.678611111111111,
          -0.20833333333333334,
          -0.6137096774193549,
          -0.3482142857142857,
          9.65282258064516,
          17.080833333333334,
          21.746102150537634,
          25.00680555555556,
          28.156317204301075,
          26.233467741935485,
          20.295972222222222,
          13.518951612903226,
          5.730555555555555,
          -1.3538978494623655,
          -1.2413978494623656,
          0.9575892857142857,
          8.353360215053764,
          15.544444444444444,
          21.20383064516129,
          24.247500000000002,
          26.247580645161293,
          26.00766129032258,
          20.3875,
          13.809139784946236,
          3.078472222222222,
          -0.4387096774193548,
          -4.618010752688172,
          0.8647988505747126,
          8.750537634408602,
          16.27263888888889,
          21.13037634408602,
          25.093888888888888,
          27.250672043010752,
          27.130241935483873,
          21.517678626543212,
          13.05408906169995,
          4.030277777777778,
          -0.17056451612903226,
          -1.8231241999487966,
          1.9861607142857143
         ]
        },
        {
         "mode": "lines",
         "name": "Tiantan",
         "type": "scatter",
         "x": [
          "2013-03-01T00:00:00",
          "2013-04-01T00:00:00",
          "2013-05-01T00:00:00",
          "2013-06-01T00:00:00",
          "2013-07-01T00:00:00",
          "2013-08-01T00:00:00",
          "2013-09-01T00:00:00",
          "2013-10-01T00:00:00",
          "2013-11-01T00:00:00",
          "2013-12-01T00:00:00",
          "2014-01-01T00:00:00",
          "2014-02-01T00:00:00",
          "2014-03-01T00:00:00",
          "2014-04-01T00:00:00",
          "2014-05-01T00:00:00",
          "2014-06-01T00:00:00",
          "2014-07-01T00:00:00",
          "2014-08-01T00:00:00",
          "2014-09-01T00:00:00",
          "2014-10-01T00:00:00",
          "2014-11-01T00:00:00",
          "2014-12-01T00:00:00",
          "2015-01-01T00:00:00",
          "2015-02-01T00:00:00",
          "2015-03-01T00:00:00",
          "2015-04-01T00:00:00",
          "2015-05-01T00:00:00",
          "2015-06-01T00:00:00",
          "2015-07-01T00:00:00",
          "2015-08-01T00:00:00",
          "2015-09-01T00:00:00",
          "2015-10-01T00:00:00",
          "2015-11-01T00:00:00",
          "2015-12-01T00:00:00",
          "2016-01-01T00:00:00",
          "2016-02-01T00:00:00",
          "2016-03-01T00:00:00",
          "2016-04-01T00:00:00",
          "2016-05-01T00:00:00",
          "2016-06-01T00:00:00",
          "2016-07-01T00:00:00",
          "2016-08-01T00:00:00",
          "2016-09-01T00:00:00",
          "2016-10-01T00:00:00",
          "2016-11-01T00:00:00",
          "2016-12-01T00:00:00",
          "2017-01-01T00:00:00",
          "2017-02-01T00:00:00"
         ],
         "y": [
          6.256989247311828,
          12.632361111111111,
          21.929301075268818,
          23.823611111111113,
          27.48521505376344,
          27.321102150537637,
          20.45652777777778,
          13.111559139784946,
          6.262222222222222,
          0.335752688172043,
          -0.20591397849462367,
          -0.41622023809523806,
          9.859139784946237,
          17.0425,
          21.778494623655916,
          24.70375,
          28.17083333333333,
          26.047043010752688,
          20.814027777777778,
          13.442069892473118,
          5.528333333333333,
          -1.168548387096774,
          -1.221505376344086,
          1.1985119047619048,
          8.439861751151883,
          15.63013888888889,
          21.45551075268817,
          24.53777777777778,
          26.397849462365592,
          26.435752688172045,
          20.600833333333334,
          14.319758064516128,
          2.847777777777778,
          -0.36276881720430104,
          -4.55,
          1.398419540229885,
          9.201881720430107,
          16.454722222222223,
          21.67284946236559,
          25.735833333333332,
          27.6994623655914,
          27.863306451612903,
          22.219114858906526,
          13.338648073476703,
          4.414027777777777,
          0.6407258064516129,
          -1.138740479390681,
          2.661532738095238
         ]
        },
        {
         "mode": "lines",
         "name": "Wanliu",
         "type": "scatter",
         "x": [
          "2013-03-01T00:00:00",
          "2013-04-01T00:00:00",
          "2013-05-01T00:00:00",
          "2013-06-01T00:00:00",
          "2013-07-01T00:00:00",
          "2013-08-01T00:00:00",
          "2013-09-01T00:00:00",
          "2013-10-01T00:00:00",
          "2013-11-01T00:00:00",
          "2013-12-01T00:00:00",
          "2014-01-01T00:00:00",
          "2014-02-01T00:00:00",
          "2014-03-01T00:00:00",
          "2014-04-01T00:00:00",
          "2014-05-01T00:00:00",
          "2014-06-01T00:00:00",
          "2014-07-01T00:00:00",
          "2014-08-01T00:00:00",
          "2014-09-01T00:00:00",
          "2014-10-01T00:00:00",
          "2014-11-01T00:00:00",
          "2014-12-01T00:00:00",
          "2015-01-01T00:00:00",
          "2015-02-01T00:00:00",
          "2015-03-01T00:00:00",
          "2015-04-01T00:00:00",
          "2015-05-01T00:00:00",
          "2015-06-01T00:00:00",
          "2015-07-01T00:00:00",
          "2015-08-01T00:00:00",
          "2015-09-01T00:00:00",
          "2015-10-01T00:00:00",
          "2015-11-01T00:00:00",
          "2015-12-01T00:00:00",
          "2016-01-01T00:00:00",
          "2016-02-01T00:00:00",
          "2016-03-01T00:00:00",
          "2016-04-01T00:00:00",
          "2016-05-01T00:00:00",
          "2016-06-01T00:00:00",
          "2016-07-01T00:00:00",
          "2016-08-01T00:00:00",
          "2016-09-01T00:00:00",
          "2016-10-01T00:00:00",
          "2016-11-01T00:00:00",
          "2016-12-01T00:00:00",
          "2017-01-01T00:00:00",
          "2017-02-01T00:00:00"
         ],
         "y": [
          6.053629032258064,
          12.260694444444445,
          21.374193548387098,
          23.386111111111113,
          26.877419354838707,
          26.744354838709675,
          20.07777777777778,
          12.80981182795699,
          5.530972222222222,
          -0.16129032258064516,
          -0.13830645161290323,
          -0.09732142857142859,
          9.920430107526881,
          16.891527777777778,
          21.176075268817204,
          24.585972222222225,
          27.806317204301077,
          25.81706989247312,
          20.767222222222223,
          13.572715053763442,
          5.940972222222222,
          -0.6455645161290323,
          -0.611760752688172,
          1.290327380952381,
          8.772478238607272,
          15.440416666666668,
          21.018817204301076,
          24.209583333333335,
          26.098387096774193,
          26.04959677419355,
          20.164166666666667,
          13.86491935483871,
          3.2940277777777776,
          -0.21908602150537634,
          -4.343817204301075,
          1.273419540229885,
          9.061290322580646,
          16.37013888888889,
          20.84717741935484,
          25.070277777777775,
          26.883198924731182,
          26.868548387096777,
          21.474323192239858,
          12.914051299283154,
          4.158472222222222,
          0.03602150537634409,
          -1.256482414874552,
          2.2563244047619047
         ]
        },
        {
         "mode": "lines",
         "name": "Wanshouxigong",
         "type": "scatter",
         "x": [
          "2013-03-01T00:00:00",
          "2013-04-01T00:00:00",
          "2013-05-01T00:00:00",
          "2013-06-01T00:00:00",
          "2013-07-01T00:00:00",
          "2013-08-01T00:00:00",
          "2013-09-01T00:00:00",
          "2013-10-01T00:00:00",
          "2013-11-01T00:00:00",
          "2013-12-01T00:00:00",
          "2014-01-01T00:00:00",
          "2014-02-01T00:00:00",
          "2014-03-01T00:00:00",
          "2014-04-01T00:00:00",
          "2014-05-01T00:00:00",
          "2014-06-01T00:00:00",
          "2014-07-01T00:00:00",
          "2014-08-01T00:00:00",
          "2014-09-01T00:00:00",
          "2014-10-01T00:00:00",
          "2014-11-01T00:00:00",
          "2014-12-01T00:00:00",
          "2015-01-01T00:00:00",
          "2015-02-01T00:00:00",
          "2015-03-01T00:00:00",
          "2015-04-01T00:00:00",
          "2015-05-01T00:00:00",
          "2015-06-01T00:00:00",
          "2015-07-01T00:00:00",
          "2015-08-01T00:00:00",
          "2015-09-01T00:00:00",
          "2015-10-01T00:00:00",
          "2015-11-01T00:00:00",
          "2015-12-01T00:00:00",
          "2016-01-01T00:00:00",
          "2016-02-01T00:00:00",
          "2016-03-01T00:00:00",
          "2016-04-01T00:00:00",
          "2016-05-01T00:00:00",
          "2016-06-01T00:00:00",
          "2016-07-01T00:00:00",
          "2016-08-01T00:00:00",
          "2016-09-01T00:00:00",
          "2016-10-01T00:00:00",
          "2016-11-01T00:00:00",
          "2016-12-01T00:00:00",
          "2017-01-01T00:00:00",
          "2017-02-01T00:00:00"
         ],
         "y": [
          6.373252688172043,
          12.599166666666665,
          21.787903225806453,
          23.783055555555556,
          27.15645161290323,
          27.25766129032258,
          20.48736111111111,
          13.19986559139785,
          5.8805555555555555,
          -0.005241935483870954,
          0.1736559139784946,
          0.08943452380952381,
          10.513844086021505,
          17.18402777777778,
          21.865188172043013,
          24.901944444444446,
          28.287634408602152,
          26.208736559139783,
          21.123472222222222,
          14.04489247311828,
          6.3711111111111105,
          -0.2264784946236559,
          -0.12553763440860216,
          1.743154761904762,
          8.439861751151883,
          15.63013888888889,
          21.45551075268817,
          24.53777777777778,
          26.397849462365592,
          26.435752688172045,
          20.600833333333334,
          14.319758064516128,
          2.847777777777778,
          -0.36276881720430104,
          -4.55,
          1.398419540229885,
          9.201881720430107,
          16.454722222222223,
          21.67284946236559,
          25.735833333333332,
          27.6994623655914,
          27.863306451612903,
          22.219114858906526,
          13.338648073476703,
          4.414027777777777,
          0.6407258064516129,
          -1.138740479390681,
          2.661532738095238
         ]
        }
       ],
       "layout": {
        "plot_bgcolor": "white",
        "showlegend": true,
        "template": {
         "data": {
          "bar": [
           {
            "error_x": {
             "color": "#2a3f5f"
            },
            "error_y": {
             "color": "#2a3f5f"
            },
            "marker": {
             "line": {
              "color": "#E5ECF6",
              "width": 0.5
             },
             "pattern": {
              "fillmode": "overlay",
              "size": 10,
              "solidity": 0.2
             }
            },
            "type": "bar"
           }
          ],
          "barpolar": [
           {
            "marker": {
             "line": {
              "color": "#E5ECF6",
              "width": 0.5
             },
             "pattern": {
              "fillmode": "overlay",
              "size": 10,
              "solidity": 0.2
             }
            },
            "type": "barpolar"
           }
          ],
          "carpet": [
           {
            "aaxis": {
             "endlinecolor": "#2a3f5f",
             "gridcolor": "white",
             "linecolor": "white",
             "minorgridcolor": "white",
             "startlinecolor": "#2a3f5f"
            },
            "baxis": {
             "endlinecolor": "#2a3f5f",
             "gridcolor": "white",
             "linecolor": "white",
             "minorgridcolor": "white",
             "startlinecolor": "#2a3f5f"
            },
            "type": "carpet"
           }
          ],
          "choropleth": [
           {
            "colorbar": {
             "outlinewidth": 0,
             "ticks": ""
            },
            "type": "choropleth"
           }
          ],
          "contour": [
           {
            "colorbar": {
             "outlinewidth": 0,
             "ticks": ""
            },
            "colorscale": [
             [
              0,
              "#0d0887"
             ],
             [
              0.1111111111111111,
              "#46039f"
             ],
             [
              0.2222222222222222,
              "#7201a8"
             ],
             [
              0.3333333333333333,
              "#9c179e"
             ],
             [
              0.4444444444444444,
              "#bd3786"
             ],
             [
              0.5555555555555556,
              "#d8576b"
             ],
             [
              0.6666666666666666,
              "#ed7953"
             ],
             [
              0.7777777777777778,
              "#fb9f3a"
             ],
             [
              0.8888888888888888,
              "#fdca26"
             ],
             [
              1,
              "#f0f921"
             ]
            ],
            "type": "contour"
           }
          ],
          "contourcarpet": [
           {
            "colorbar": {
             "outlinewidth": 0,
             "ticks": ""
            },
            "type": "contourcarpet"
           }
          ],
          "heatmap": [
           {
            "colorbar": {
             "outlinewidth": 0,
             "ticks": ""
            },
            "colorscale": [
             [
              0,
              "#0d0887"
             ],
             [
              0.1111111111111111,
              "#46039f"
             ],
             [
              0.2222222222222222,
              "#7201a8"
             ],
             [
              0.3333333333333333,
              "#9c179e"
             ],
             [
              0.4444444444444444,
              "#bd3786"
             ],
             [
              0.5555555555555556,
              "#d8576b"
             ],
             [
              0.6666666666666666,
              "#ed7953"
             ],
             [
              0.7777777777777778,
              "#fb9f3a"
             ],
             [
              0.8888888888888888,
              "#fdca26"
             ],
             [
              1,
              "#f0f921"
             ]
            ],
            "type": "heatmap"
           }
          ],
          "heatmapgl": [
           {
            "colorbar": {
             "outlinewidth": 0,
             "ticks": ""
            },
            "colorscale": [
             [
              0,
              "#0d0887"
             ],
             [
              0.1111111111111111,
              "#46039f"
             ],
             [
              0.2222222222222222,
              "#7201a8"
             ],
             [
              0.3333333333333333,
              "#9c179e"
             ],
             [
              0.4444444444444444,
              "#bd3786"
             ],
             [
              0.5555555555555556,
              "#d8576b"
             ],
             [
              0.6666666666666666,
              "#ed7953"
             ],
             [
              0.7777777777777778,
              "#fb9f3a"
             ],
             [
              0.8888888888888888,
              "#fdca26"
             ],
             [
              1,
              "#f0f921"
             ]
            ],
            "type": "heatmapgl"
           }
          ],
          "histogram": [
           {
            "marker": {
             "pattern": {
              "fillmode": "overlay",
              "size": 10,
              "solidity": 0.2
             }
            },
            "type": "histogram"
           }
          ],
          "histogram2d": [
           {
            "colorbar": {
             "outlinewidth": 0,
             "ticks": ""
            },
            "colorscale": [
             [
              0,
              "#0d0887"
             ],
             [
              0.1111111111111111,
              "#46039f"
             ],
             [
              0.2222222222222222,
              "#7201a8"
             ],
             [
              0.3333333333333333,
              "#9c179e"
             ],
             [
              0.4444444444444444,
              "#bd3786"
             ],
             [
              0.5555555555555556,
              "#d8576b"
             ],
             [
              0.6666666666666666,
              "#ed7953"
             ],
             [
              0.7777777777777778,
              "#fb9f3a"
             ],
             [
              0.8888888888888888,
              "#fdca26"
             ],
             [
              1,
              "#f0f921"
             ]
            ],
            "type": "histogram2d"
           }
          ],
          "histogram2dcontour": [
           {
            "colorbar": {
             "outlinewidth": 0,
             "ticks": ""
            },
            "colorscale": [
             [
              0,
              "#0d0887"
             ],
             [
              0.1111111111111111,
              "#46039f"
             ],
             [
              0.2222222222222222,
              "#7201a8"
             ],
             [
              0.3333333333333333,
              "#9c179e"
             ],
             [
              0.4444444444444444,
              "#bd3786"
             ],
             [
              0.5555555555555556,
              "#d8576b"
             ],
             [
              0.6666666666666666,
              "#ed7953"
             ],
             [
              0.7777777777777778,
              "#fb9f3a"
             ],
             [
              0.8888888888888888,
              "#fdca26"
             ],
             [
              1,
              "#f0f921"
             ]
            ],
            "type": "histogram2dcontour"
           }
          ],
          "mesh3d": [
           {
            "colorbar": {
             "outlinewidth": 0,
             "ticks": ""
            },
            "type": "mesh3d"
           }
          ],
          "parcoords": [
           {
            "line": {
             "colorbar": {
              "outlinewidth": 0,
              "ticks": ""
             }
            },
            "type": "parcoords"
           }
          ],
          "pie": [
           {
            "automargin": true,
            "type": "pie"
           }
          ],
          "scatter": [
           {
            "fillpattern": {
             "fillmode": "overlay",
             "size": 10,
             "solidity": 0.2
            },
            "type": "scatter"
           }
          ],
          "scatter3d": [
           {
            "line": {
             "colorbar": {
              "outlinewidth": 0,
              "ticks": ""
             }
            },
            "marker": {
             "colorbar": {
              "outlinewidth": 0,
              "ticks": ""
             }
            },
            "type": "scatter3d"
           }
          ],
          "scattercarpet": [
           {
            "marker": {
             "colorbar": {
              "outlinewidth": 0,
              "ticks": ""
             }
            },
            "type": "scattercarpet"
           }
          ],
          "scattergeo": [
           {
            "marker": {
             "colorbar": {
              "outlinewidth": 0,
              "ticks": ""
             }
            },
            "type": "scattergeo"
           }
          ],
          "scattergl": [
           {
            "marker": {
             "colorbar": {
              "outlinewidth": 0,
              "ticks": ""
             }
            },
            "type": "scattergl"
           }
          ],
          "scattermapbox": [
           {
            "marker": {
             "colorbar": {
              "outlinewidth": 0,
              "ticks": ""
             }
            },
            "type": "scattermapbox"
           }
          ],
          "scatterpolar": [
           {
            "marker": {
             "colorbar": {
              "outlinewidth": 0,
              "ticks": ""
             }
            },
            "type": "scatterpolar"
           }
          ],
          "scatterpolargl": [
           {
            "marker": {
             "colorbar": {
              "outlinewidth": 0,
              "ticks": ""
             }
            },
            "type": "scatterpolargl"
           }
          ],
          "scatterternary": [
           {
            "marker": {
             "colorbar": {
              "outlinewidth": 0,
              "ticks": ""
             }
            },
            "type": "scatterternary"
           }
          ],
          "surface": [
           {
            "colorbar": {
             "outlinewidth": 0,
             "ticks": ""
            },
            "colorscale": [
             [
              0,
              "#0d0887"
             ],
             [
              0.1111111111111111,
              "#46039f"
             ],
             [
              0.2222222222222222,
              "#7201a8"
             ],
             [
              0.3333333333333333,
              "#9c179e"
             ],
             [
              0.4444444444444444,
              "#bd3786"
             ],
             [
              0.5555555555555556,
              "#d8576b"
             ],
             [
              0.6666666666666666,
              "#ed7953"
             ],
             [
              0.7777777777777778,
              "#fb9f3a"
             ],
             [
              0.8888888888888888,
              "#fdca26"
             ],
             [
              1,
              "#f0f921"
             ]
            ],
            "type": "surface"
           }
          ],
          "table": [
           {
            "cells": {
             "fill": {
              "color": "#EBF0F8"
             },
             "line": {
              "color": "white"
             }
            },
            "header": {
             "fill": {
              "color": "#C8D4E3"
             },
             "line": {
              "color": "white"
             }
            },
            "type": "table"
           }
          ]
         },
         "layout": {
          "annotationdefaults": {
           "arrowcolor": "#2a3f5f",
           "arrowhead": 0,
           "arrowwidth": 1
          },
          "autotypenumbers": "strict",
          "coloraxis": {
           "colorbar": {
            "outlinewidth": 0,
            "ticks": ""
           }
          },
          "colorscale": {
           "diverging": [
            [
             0,
             "#8e0152"
            ],
            [
             0.1,
             "#c51b7d"
            ],
            [
             0.2,
             "#de77ae"
            ],
            [
             0.3,
             "#f1b6da"
            ],
            [
             0.4,
             "#fde0ef"
            ],
            [
             0.5,
             "#f7f7f7"
            ],
            [
             0.6,
             "#e6f5d0"
            ],
            [
             0.7,
             "#b8e186"
            ],
            [
             0.8,
             "#7fbc41"
            ],
            [
             0.9,
             "#4d9221"
            ],
            [
             1,
             "#276419"
            ]
           ],
           "sequential": [
            [
             0,
             "#0d0887"
            ],
            [
             0.1111111111111111,
             "#46039f"
            ],
            [
             0.2222222222222222,
             "#7201a8"
            ],
            [
             0.3333333333333333,
             "#9c179e"
            ],
            [
             0.4444444444444444,
             "#bd3786"
            ],
            [
             0.5555555555555556,
             "#d8576b"
            ],
            [
             0.6666666666666666,
             "#ed7953"
            ],
            [
             0.7777777777777778,
             "#fb9f3a"
            ],
            [
             0.8888888888888888,
             "#fdca26"
            ],
            [
             1,
             "#f0f921"
            ]
           ],
           "sequentialminus": [
            [
             0,
             "#0d0887"
            ],
            [
             0.1111111111111111,
             "#46039f"
            ],
            [
             0.2222222222222222,
             "#7201a8"
            ],
            [
             0.3333333333333333,
             "#9c179e"
            ],
            [
             0.4444444444444444,
             "#bd3786"
            ],
            [
             0.5555555555555556,
             "#d8576b"
            ],
            [
             0.6666666666666666,
             "#ed7953"
            ],
            [
             0.7777777777777778,
             "#fb9f3a"
            ],
            [
             0.8888888888888888,
             "#fdca26"
            ],
            [
             1,
             "#f0f921"
            ]
           ]
          },
          "colorway": [
           "#636efa",
           "#EF553B",
           "#00cc96",
           "#ab63fa",
           "#FFA15A",
           "#19d3f3",
           "#FF6692",
           "#B6E880",
           "#FF97FF",
           "#FECB52"
          ],
          "font": {
           "color": "#2a3f5f"
          },
          "geo": {
           "bgcolor": "white",
           "lakecolor": "white",
           "landcolor": "#E5ECF6",
           "showlakes": true,
           "showland": true,
           "subunitcolor": "white"
          },
          "hoverlabel": {
           "align": "left"
          },
          "hovermode": "closest",
          "mapbox": {
           "style": "light"
          },
          "paper_bgcolor": "white",
          "plot_bgcolor": "#E5ECF6",
          "polar": {
           "angularaxis": {
            "gridcolor": "white",
            "linecolor": "white",
            "ticks": ""
           },
           "bgcolor": "#E5ECF6",
           "radialaxis": {
            "gridcolor": "white",
            "linecolor": "white",
            "ticks": ""
           }
          },
          "scene": {
           "xaxis": {
            "backgroundcolor": "#E5ECF6",
            "gridcolor": "white",
            "gridwidth": 2,
            "linecolor": "white",
            "showbackground": true,
            "ticks": "",
            "zerolinecolor": "white"
           },
           "yaxis": {
            "backgroundcolor": "#E5ECF6",
            "gridcolor": "white",
            "gridwidth": 2,
            "linecolor": "white",
            "showbackground": true,
            "ticks": "",
            "zerolinecolor": "white"
           },
           "zaxis": {
            "backgroundcolor": "#E5ECF6",
            "gridcolor": "white",
            "gridwidth": 2,
            "linecolor": "white",
            "showbackground": true,
            "ticks": "",
            "zerolinecolor": "white"
           }
          },
          "shapedefaults": {
           "line": {
            "color": "#2a3f5f"
           }
          },
          "ternary": {
           "aaxis": {
            "gridcolor": "white",
            "linecolor": "white",
            "ticks": ""
           },
           "baxis": {
            "gridcolor": "white",
            "linecolor": "white",
            "ticks": ""
           },
           "bgcolor": "#E5ECF6",
           "caxis": {
            "gridcolor": "white",
            "linecolor": "white",
            "ticks": ""
           }
          },
          "title": {
           "x": 0.05
          },
          "xaxis": {
           "automargin": true,
           "gridcolor": "white",
           "linecolor": "white",
           "ticks": "",
           "title": {
            "standoff": 15
           },
           "zerolinecolor": "white",
           "zerolinewidth": 2
          },
          "yaxis": {
           "automargin": true,
           "gridcolor": "white",
           "linecolor": "white",
           "ticks": "",
           "title": {
            "standoff": 15
           },
           "zerolinecolor": "white",
           "zerolinewidth": 2
          }
         }
        },
        "title": {
         "text": "Average Temperature per Month"
        }
       }
      }
     },
     "metadata": {},
     "output_type": "display_data"
    }
   ],
   "source": [
    "fig = go.Figure()\n",
    "\n",
    "for station in stations:\n",
    "    fig.add_trace(go.Scatter(\n",
    "        x=v1[v1['station'] == station]['year_month'],\n",
    "        y=v1[v1['station'] == station]['TEMP'], \n",
    "        mode='lines', \n",
    "        name=station \n",
    "    ))\n",
    "\n",
    "fig.update_layout(\n",
    "    title='Average Temperature per Month',\n",
    "    showlegend=True,\n",
    "    plot_bgcolor='white',\n",
    ")"
   ]
  },
  {
   "cell_type": "markdown",
   "metadata": {},
   "source": [
    "berdasarkan grafik diatas, dapat dilihat secara konsisten untuk semua stasiun, suhu tertinggi berada pada bulan juli yaitu mencapai 27°C hingga 28°C dan terendah pada bulan januari yaitu mencapai -2°C hinggu -6 °C.\\\n",
    "suhu ideal berada di rentang nilai 20°C hingga 25°C, namun hingga 30°C masih dapat diterima, cukup panas jika berada diatas 32°C, dan cukup dingin jika berada dibawa 15°C.\\\n",
    "maka disimpulkan suhu terbaik secara konsisten untuk setiap stasiun berada pada bulan mei-juni dan agustus-september, dan terburuk secara konsisten berada pada sekitar bulan oktober-april."
   ]
  },
  {
   "cell_type": "markdown",
   "metadata": {},
   "source": [
    "#### Pressure (PRES)"
   ]
  },
  {
   "cell_type": "code",
   "execution_count": 34,
   "metadata": {},
   "outputs": [
    {
     "data": {
      "application/vnd.plotly.v1+json": {
       "config": {
        "plotlyServerURL": "https://plot.ly"
       },
       "data": [
        {
         "mode": "lines",
         "name": "Aotizhongxin",
         "type": "scatter",
         "x": [
          "2013-03-01T00:00:00",
          "2013-04-01T00:00:00",
          "2013-05-01T00:00:00",
          "2013-06-01T00:00:00",
          "2013-07-01T00:00:00",
          "2013-08-01T00:00:00",
          "2013-09-01T00:00:00",
          "2013-10-01T00:00:00",
          "2013-11-01T00:00:00",
          "2013-12-01T00:00:00",
          "2014-01-01T00:00:00",
          "2014-02-01T00:00:00",
          "2014-03-01T00:00:00",
          "2014-04-01T00:00:00",
          "2014-05-01T00:00:00",
          "2014-06-01T00:00:00",
          "2014-07-01T00:00:00",
          "2014-08-01T00:00:00",
          "2014-09-01T00:00:00",
          "2014-10-01T00:00:00",
          "2014-11-01T00:00:00",
          "2014-12-01T00:00:00",
          "2015-01-01T00:00:00",
          "2015-02-01T00:00:00",
          "2015-03-01T00:00:00",
          "2015-04-01T00:00:00",
          "2015-05-01T00:00:00",
          "2015-06-01T00:00:00",
          "2015-07-01T00:00:00",
          "2015-08-01T00:00:00",
          "2015-09-01T00:00:00",
          "2015-10-01T00:00:00",
          "2015-11-01T00:00:00",
          "2015-12-01T00:00:00",
          "2016-01-01T00:00:00",
          "2016-02-01T00:00:00",
          "2016-03-01T00:00:00",
          "2016-04-01T00:00:00",
          "2016-05-01T00:00:00",
          "2016-06-01T00:00:00",
          "2016-07-01T00:00:00",
          "2016-08-01T00:00:00",
          "2016-09-01T00:00:00",
          "2016-10-01T00:00:00",
          "2016-11-01T00:00:00",
          "2016-12-01T00:00:00",
          "2017-01-01T00:00:00",
          "2017-02-01T00:00:00"
         ],
         "y": [
          1012.5474462365592,
          1008.2969444444445,
          1003.1622311827956,
          1000.1655555555554,
          996.033064516129,
          999.3168010752687,
          1009.3551388888889,
          1016.2689516129032,
          1016.9720833333333,
          1019.95,
          1020.0513440860215,
          1022.3886904761904,
          1013.7275537634409,
          1010.4594444444446,
          1001.558064516129,
          999.991388888889,
          998.3681451612904,
          1002.4772849462365,
          1008.635,
          1014.6405913978494,
          1020.3208333333333,
          1024.0807795698925,
          1021.9773521505376,
          1018.5223214285714,
          1016.8734094982078,
          1010.8733333333334,
          1003.4489247311828,
          1000.3461111111111,
          1001.2783602150537,
          1003.4041666666666,
          1011.3548611111111,
          1015.7254032258064,
          1023.425,
          1024.070564516129,
          1025.95,
          1022.5597701149425,
          1016.7400537634409,
          1007.8116666666667,
          1005.5413978494624,
          1000.7619444444445,
          1000.6353494623655,
          1003.5900537634409,
          1009.3326388888889,
          1017.1266913082437,
          1020.5669444444444,
          1023.4661290322581,
          1025.0504032258063,
          1022.0205853174604
         ]
        },
        {
         "mode": "lines",
         "name": "Changping",
         "type": "scatter",
         "x": [
          "2013-03-01T00:00:00",
          "2013-04-01T00:00:00",
          "2013-05-01T00:00:00",
          "2013-06-01T00:00:00",
          "2013-07-01T00:00:00",
          "2013-08-01T00:00:00",
          "2013-09-01T00:00:00",
          "2013-10-01T00:00:00",
          "2013-11-01T00:00:00",
          "2013-12-01T00:00:00",
          "2014-01-01T00:00:00",
          "2014-02-01T00:00:00",
          "2014-03-01T00:00:00",
          "2014-04-01T00:00:00",
          "2014-05-01T00:00:00",
          "2014-06-01T00:00:00",
          "2014-07-01T00:00:00",
          "2014-08-01T00:00:00",
          "2014-09-01T00:00:00",
          "2014-10-01T00:00:00",
          "2014-11-01T00:00:00",
          "2014-12-01T00:00:00",
          "2015-01-01T00:00:00",
          "2015-02-01T00:00:00",
          "2015-03-01T00:00:00",
          "2015-04-01T00:00:00",
          "2015-05-01T00:00:00",
          "2015-06-01T00:00:00",
          "2015-07-01T00:00:00",
          "2015-08-01T00:00:00",
          "2015-09-01T00:00:00",
          "2015-10-01T00:00:00",
          "2015-11-01T00:00:00",
          "2015-12-01T00:00:00",
          "2016-01-01T00:00:00",
          "2016-02-01T00:00:00",
          "2016-03-01T00:00:00",
          "2016-04-01T00:00:00",
          "2016-05-01T00:00:00",
          "2016-06-01T00:00:00",
          "2016-07-01T00:00:00",
          "2016-08-01T00:00:00",
          "2016-09-01T00:00:00",
          "2016-10-01T00:00:00",
          "2016-11-01T00:00:00",
          "2016-12-01T00:00:00",
          "2017-01-01T00:00:00",
          "2017-02-01T00:00:00"
         ],
         "y": [
          1009.4129032258064,
          1004.9820833333333,
          999.7971774193549,
          996.9066666666668,
          992.8012096774194,
          996.0668010752687,
          1006.0826388888889,
          1013.0364247311828,
          1013.7761111111112,
          1016.7747311827957,
          1016.7186827956989,
          1019.1025297619047,
          1010.3614247311829,
          1007.0066666666668,
          998.2958333333333,
          996.983611111111,
          995.4569892473119,
          999.4934139784946,
          1005.5208333333334,
          1011.3072580645161,
          1016.6444444444444,
          1021.803494623656,
          1018.2379032258065,
          1014.8421130952381,
          1011.7678763440861,
          1005.8761111111112,
          998.5938172043011,
          995.6295833333334,
          996.6532258064516,
          998.7971774193549,
          1006.6304166666667,
          1010.8567204301075,
          1018.2880555555556,
          1018.9263440860215,
          1020.8315860215054,
          1017.4918103448276,
          1011.7354838709676,
          1002.8811111111112,
          1000.7041666666667,
          996.0165277777778,
          995.9969086021505,
          998.986693548387,
          1004.594513888889,
          1012.1887768817204,
          1015.4884722222222,
          1018.3190860215054,
          1019.7071684587813,
          1016.9355654761904
         ]
        },
        {
         "mode": "lines",
         "name": "Dingling",
         "type": "scatter",
         "x": [
          "2013-03-01T00:00:00",
          "2013-04-01T00:00:00",
          "2013-05-01T00:00:00",
          "2013-06-01T00:00:00",
          "2013-07-01T00:00:00",
          "2013-08-01T00:00:00",
          "2013-09-01T00:00:00",
          "2013-10-01T00:00:00",
          "2013-11-01T00:00:00",
          "2013-12-01T00:00:00",
          "2014-01-01T00:00:00",
          "2014-02-01T00:00:00",
          "2014-03-01T00:00:00",
          "2014-04-01T00:00:00",
          "2014-05-01T00:00:00",
          "2014-06-01T00:00:00",
          "2014-07-01T00:00:00",
          "2014-08-01T00:00:00",
          "2014-09-01T00:00:00",
          "2014-10-01T00:00:00",
          "2014-11-01T00:00:00",
          "2014-12-01T00:00:00",
          "2015-01-01T00:00:00",
          "2015-02-01T00:00:00",
          "2015-03-01T00:00:00",
          "2015-04-01T00:00:00",
          "2015-05-01T00:00:00",
          "2015-06-01T00:00:00",
          "2015-07-01T00:00:00",
          "2015-08-01T00:00:00",
          "2015-09-01T00:00:00",
          "2015-10-01T00:00:00",
          "2015-11-01T00:00:00",
          "2015-12-01T00:00:00",
          "2016-01-01T00:00:00",
          "2016-02-01T00:00:00",
          "2016-03-01T00:00:00",
          "2016-04-01T00:00:00",
          "2016-05-01T00:00:00",
          "2016-06-01T00:00:00",
          "2016-07-01T00:00:00",
          "2016-08-01T00:00:00",
          "2016-09-01T00:00:00",
          "2016-10-01T00:00:00",
          "2016-11-01T00:00:00",
          "2016-12-01T00:00:00",
          "2017-01-01T00:00:00",
          "2017-02-01T00:00:00"
         ],
         "y": [
          1009.4129032258064,
          1004.9820833333333,
          999.7971774193549,
          996.9066666666668,
          992.8012096774194,
          996.0668010752687,
          1006.0826388888889,
          1013.0364247311828,
          1013.7761111111112,
          1016.7747311827957,
          1016.7186827956989,
          1019.1025297619047,
          1010.3614247311829,
          1007.0066666666668,
          998.2958333333333,
          996.983611111111,
          995.4569892473119,
          999.4934139784946,
          1005.5208333333334,
          1011.3072580645161,
          1016.6444444444444,
          1021.803494623656,
          1018.2379032258065,
          1014.8421130952381,
          1011.7678763440861,
          1005.8761111111112,
          998.5938172043011,
          995.6295833333334,
          996.6532258064516,
          998.7971774193549,
          1006.6304166666667,
          1010.8567204301075,
          1018.2880555555556,
          1018.9263440860215,
          1020.8315860215054,
          1017.4918103448276,
          1011.7354838709676,
          1002.8811111111112,
          1000.7041666666667,
          996.0165277777778,
          995.9969086021505,
          998.986693548387,
          1004.594513888889,
          1012.1887768817204,
          1015.4884722222222,
          1018.3190860215054,
          1019.7071684587813,
          1016.9355654761904
         ]
        },
        {
         "mode": "lines",
         "name": "Dongsi",
         "type": "scatter",
         "x": [
          "2013-03-01T00:00:00",
          "2013-04-01T00:00:00",
          "2013-05-01T00:00:00",
          "2013-06-01T00:00:00",
          "2013-07-01T00:00:00",
          "2013-08-01T00:00:00",
          "2013-09-01T00:00:00",
          "2013-10-01T00:00:00",
          "2013-11-01T00:00:00",
          "2013-12-01T00:00:00",
          "2014-01-01T00:00:00",
          "2014-02-01T00:00:00",
          "2014-03-01T00:00:00",
          "2014-04-01T00:00:00",
          "2014-05-01T00:00:00",
          "2014-06-01T00:00:00",
          "2014-07-01T00:00:00",
          "2014-08-01T00:00:00",
          "2014-09-01T00:00:00",
          "2014-10-01T00:00:00",
          "2014-11-01T00:00:00",
          "2014-12-01T00:00:00",
          "2015-01-01T00:00:00",
          "2015-02-01T00:00:00",
          "2015-03-01T00:00:00",
          "2015-04-01T00:00:00",
          "2015-05-01T00:00:00",
          "2015-06-01T00:00:00",
          "2015-07-01T00:00:00",
          "2015-08-01T00:00:00",
          "2015-09-01T00:00:00",
          "2015-10-01T00:00:00",
          "2015-11-01T00:00:00",
          "2015-12-01T00:00:00",
          "2016-01-01T00:00:00",
          "2016-02-01T00:00:00",
          "2016-03-01T00:00:00",
          "2016-04-01T00:00:00",
          "2016-05-01T00:00:00",
          "2016-06-01T00:00:00",
          "2016-07-01T00:00:00",
          "2016-08-01T00:00:00",
          "2016-09-01T00:00:00",
          "2016-10-01T00:00:00",
          "2016-11-01T00:00:00",
          "2016-12-01T00:00:00",
          "2017-01-01T00:00:00",
          "2017-02-01T00:00:00"
         ],
         "y": [
          1014.4568548387097,
          1009.9330555555556,
          1004.748252688172,
          1001.6372222222222,
          997.4538978494624,
          1000.7147849462366,
          1010.9027777777778,
          1017.9041666666666,
          1018.7065277777778,
          1021.890188172043,
          1021.9090053763441,
          1024.283482142857,
          1015.3745967741935,
          1012.0166666666667,
          1003.0721774193548,
          1001.6712500000001,
          1000.1405913978494,
          1004.1916666666666,
          1010.3102777777779,
          1016.2200268817204,
          1019.0654166666666,
          1023.0643817204301,
          1023.4112903225806,
          1019.8224702380952,
          1016.8734094986559,
          1010.8733333333334,
          1003.4489247311828,
          1000.3461111111111,
          1001.2783602150537,
          1003.4041666666666,
          1011.3548611111111,
          1015.7254032258064,
          1023.425,
          1024.070564516129,
          1025.95,
          1022.5597701149425,
          1016.7400537634409,
          1007.8116666666667,
          1005.5413978494624,
          1000.7619444444445,
          1000.6353494623655,
          1003.5900537634409,
          1009.3326388888889,
          1017.1266913082437,
          1020.5669444444444,
          1023.4661290322581,
          1025.0504032258063,
          1022.0205853174604
         ]
        },
        {
         "mode": "lines",
         "name": "Guanyuan",
         "type": "scatter",
         "x": [
          "2013-03-01T00:00:00",
          "2013-04-01T00:00:00",
          "2013-05-01T00:00:00",
          "2013-06-01T00:00:00",
          "2013-07-01T00:00:00",
          "2013-08-01T00:00:00",
          "2013-09-01T00:00:00",
          "2013-10-01T00:00:00",
          "2013-11-01T00:00:00",
          "2013-12-01T00:00:00",
          "2014-01-01T00:00:00",
          "2014-02-01T00:00:00",
          "2014-03-01T00:00:00",
          "2014-04-01T00:00:00",
          "2014-05-01T00:00:00",
          "2014-06-01T00:00:00",
          "2014-07-01T00:00:00",
          "2014-08-01T00:00:00",
          "2014-09-01T00:00:00",
          "2014-10-01T00:00:00",
          "2014-11-01T00:00:00",
          "2014-12-01T00:00:00",
          "2015-01-01T00:00:00",
          "2015-02-01T00:00:00",
          "2015-03-01T00:00:00",
          "2015-04-01T00:00:00",
          "2015-05-01T00:00:00",
          "2015-06-01T00:00:00",
          "2015-07-01T00:00:00",
          "2015-08-01T00:00:00",
          "2015-09-01T00:00:00",
          "2015-10-01T00:00:00",
          "2015-11-01T00:00:00",
          "2015-12-01T00:00:00",
          "2016-01-01T00:00:00",
          "2016-02-01T00:00:00",
          "2016-03-01T00:00:00",
          "2016-04-01T00:00:00",
          "2016-05-01T00:00:00",
          "2016-06-01T00:00:00",
          "2016-07-01T00:00:00",
          "2016-08-01T00:00:00",
          "2016-09-01T00:00:00",
          "2016-10-01T00:00:00",
          "2016-11-01T00:00:00",
          "2016-12-01T00:00:00",
          "2017-01-01T00:00:00",
          "2017-02-01T00:00:00"
         ],
         "y": [
          1012.5474462365592,
          1008.2969444444445,
          1003.1622311827956,
          1000.1655555555554,
          996.033064516129,
          999.3168010752687,
          1009.3551388888889,
          1016.2689516129032,
          1016.9720833333333,
          1019.95,
          1020.0513440860215,
          1022.3886904761904,
          1013.7275537634409,
          1010.4594444444446,
          1001.558064516129,
          999.991388888889,
          998.3681451612904,
          1002.4772849462365,
          1008.635,
          1014.6405913978494,
          1020.3208333333333,
          1024.0807795698925,
          1021.9773521505376,
          1018.5223214285714,
          1016.8734094986559,
          1010.8733333333334,
          1003.4489247311828,
          1000.3461111111111,
          1001.2783602150537,
          1003.4041666666666,
          1011.3548611111111,
          1015.7254032258064,
          1023.425,
          1024.070564516129,
          1025.95,
          1022.5597701149425,
          1016.7400537634409,
          1007.8116666666667,
          1005.5413978494624,
          1000.7619444444445,
          1000.6353494623655,
          1003.5900537634409,
          1009.3326388888889,
          1017.1266913082437,
          1020.5669444444444,
          1023.4661290322581,
          1025.0504032258063,
          1022.0205853174604
         ]
        },
        {
         "mode": "lines",
         "name": "Gucheng",
         "type": "scatter",
         "x": [
          "2013-03-01T00:00:00",
          "2013-04-01T00:00:00",
          "2013-05-01T00:00:00",
          "2013-06-01T00:00:00",
          "2013-07-01T00:00:00",
          "2013-08-01T00:00:00",
          "2013-09-01T00:00:00",
          "2013-10-01T00:00:00",
          "2013-11-01T00:00:00",
          "2013-12-01T00:00:00",
          "2014-01-01T00:00:00",
          "2014-02-01T00:00:00",
          "2014-03-01T00:00:00",
          "2014-04-01T00:00:00",
          "2014-05-01T00:00:00",
          "2014-06-01T00:00:00",
          "2014-07-01T00:00:00",
          "2014-08-01T00:00:00",
          "2014-09-01T00:00:00",
          "2014-10-01T00:00:00",
          "2014-11-01T00:00:00",
          "2014-12-01T00:00:00",
          "2015-01-01T00:00:00",
          "2015-02-01T00:00:00",
          "2015-03-01T00:00:00",
          "2015-04-01T00:00:00",
          "2015-05-01T00:00:00",
          "2015-06-01T00:00:00",
          "2015-07-01T00:00:00",
          "2015-08-01T00:00:00",
          "2015-09-01T00:00:00",
          "2015-10-01T00:00:00",
          "2015-11-01T00:00:00",
          "2015-12-01T00:00:00",
          "2016-01-01T00:00:00",
          "2016-02-01T00:00:00",
          "2016-03-01T00:00:00",
          "2016-04-01T00:00:00",
          "2016-05-01T00:00:00",
          "2016-06-01T00:00:00",
          "2016-07-01T00:00:00",
          "2016-08-01T00:00:00",
          "2016-09-01T00:00:00",
          "2016-10-01T00:00:00",
          "2016-11-01T00:00:00",
          "2016-12-01T00:00:00",
          "2017-01-01T00:00:00",
          "2017-02-01T00:00:00"
         ],
         "y": [
          1010.5260752688172,
          1006.1558333333332,
          1001.0047043010753,
          998.0081944444445,
          993.9602150537635,
          997.1975806451613,
          1007.2147222222222,
          1014.1477150537635,
          1014.9036111111111,
          1017.952688172043,
          1018.052688172043,
          1020.4191964285714,
          1011.6439516129032,
          1008.3015277777778,
          999.489247311828,
          998.1620833333333,
          996.607930107527,
          1000.667876344086,
          1006.7327777777778,
          1012.6818548387098,
          1015.3186111111112,
          1019.3711021505376,
          1019.7005376344085,
          1016.2346726190475,
          1013.0891417056451,
          1007.1931691916666,
          999.865994623656,
          996.8191666666668,
          997.7899193548386,
          999.9057795698925,
          1007.7820833333333,
          1012.0991935483871,
          1019.6441666666667,
          1020.2806451612904,
          1022.1588709677419,
          1018.8540229885058,
          1013.1408602150539,
          1004.2747222222223,
          1002.0868279569892,
          997.3451388888889,
          997.2897849462365,
          1000.2685483870969,
          1004.9081095680556,
          1013.0240815416668,
          1016.8876388888889,
          1019.7318548387096,
          1019.3030465949821,
          1018.2901785714286
         ]
        },
        {
         "mode": "lines",
         "name": "Huairou",
         "type": "scatter",
         "x": [
          "2013-03-01T00:00:00",
          "2013-04-01T00:00:00",
          "2013-05-01T00:00:00",
          "2013-06-01T00:00:00",
          "2013-07-01T00:00:00",
          "2013-08-01T00:00:00",
          "2013-09-01T00:00:00",
          "2013-10-01T00:00:00",
          "2013-11-01T00:00:00",
          "2013-12-01T00:00:00",
          "2014-01-01T00:00:00",
          "2014-02-01T00:00:00",
          "2014-03-01T00:00:00",
          "2014-04-01T00:00:00",
          "2014-05-01T00:00:00",
          "2014-06-01T00:00:00",
          "2014-07-01T00:00:00",
          "2014-08-01T00:00:00",
          "2014-09-01T00:00:00",
          "2014-10-01T00:00:00",
          "2014-11-01T00:00:00",
          "2014-12-01T00:00:00",
          "2015-01-01T00:00:00",
          "2015-02-01T00:00:00",
          "2015-03-01T00:00:00",
          "2015-04-01T00:00:00",
          "2015-05-01T00:00:00",
          "2015-06-01T00:00:00",
          "2015-07-01T00:00:00",
          "2015-08-01T00:00:00",
          "2015-09-01T00:00:00",
          "2015-10-01T00:00:00",
          "2015-11-01T00:00:00",
          "2015-12-01T00:00:00",
          "2016-01-01T00:00:00",
          "2016-02-01T00:00:00",
          "2016-03-01T00:00:00",
          "2016-04-01T00:00:00",
          "2016-05-01T00:00:00",
          "2016-06-01T00:00:00",
          "2016-07-01T00:00:00",
          "2016-08-01T00:00:00",
          "2016-09-01T00:00:00",
          "2016-10-01T00:00:00",
          "2016-11-01T00:00:00",
          "2016-12-01T00:00:00",
          "2017-01-01T00:00:00",
          "2017-02-01T00:00:00"
         ],
         "y": [
          1009.515188172043,
          1005.0230555555555,
          999.9772849462365,
          997.0255555555556,
          992.8494623655914,
          996.1247311827958,
          1006.1583333333333,
          1013.0419354838709,
          1013.5865277777779,
          1016.7001344086021,
          1016.891129032258,
          1019.2528273809525,
          1010.5219086021506,
          1007.2798611111111,
          998.4260752688172,
          997.1072222222222,
          995.6408602150539,
          999.610752688172,
          1005.6890277777777,
          1011.4920698924731,
          1011.2409027777777,
          1017.635752688172,
          1018.2635080645161,
          1014.8244791666667,
          1011.8373943932412,
          1005.9731944444444,
          998.6721774193549,
          995.6588888888889,
          996.6797043010752,
          998.8310483870969,
          1006.6281944444445,
          1010.7524193548388,
          1018.3311111111111,
          1018.8524193548386,
          1020.7125,
          1017.3600574712643,
          1011.7174731182796,
          1002.9011111111112,
          1000.707123655914,
          996.0876388888888,
          996.0814516129032,
          998.9655913978495,
          1004.5950347222223,
          1012.181368407578,
          1015.4779166666666,
          1018.2904569892473,
          1019.6486255120327,
          1016.851488095238
         ]
        },
        {
         "mode": "lines",
         "name": "Nongzhanguan",
         "type": "scatter",
         "x": [
          "2013-03-01T00:00:00",
          "2013-04-01T00:00:00",
          "2013-05-01T00:00:00",
          "2013-06-01T00:00:00",
          "2013-07-01T00:00:00",
          "2013-08-01T00:00:00",
          "2013-09-01T00:00:00",
          "2013-10-01T00:00:00",
          "2013-11-01T00:00:00",
          "2013-12-01T00:00:00",
          "2014-01-01T00:00:00",
          "2014-02-01T00:00:00",
          "2014-03-01T00:00:00",
          "2014-04-01T00:00:00",
          "2014-05-01T00:00:00",
          "2014-06-01T00:00:00",
          "2014-07-01T00:00:00",
          "2014-08-01T00:00:00",
          "2014-09-01T00:00:00",
          "2014-10-01T00:00:00",
          "2014-11-01T00:00:00",
          "2014-12-01T00:00:00",
          "2015-01-01T00:00:00",
          "2015-02-01T00:00:00",
          "2015-03-01T00:00:00",
          "2015-04-01T00:00:00",
          "2015-05-01T00:00:00",
          "2015-06-01T00:00:00",
          "2015-07-01T00:00:00",
          "2015-08-01T00:00:00",
          "2015-09-01T00:00:00",
          "2015-10-01T00:00:00",
          "2015-11-01T00:00:00",
          "2015-12-01T00:00:00",
          "2016-01-01T00:00:00",
          "2016-02-01T00:00:00",
          "2016-03-01T00:00:00",
          "2016-04-01T00:00:00",
          "2016-05-01T00:00:00",
          "2016-06-01T00:00:00",
          "2016-07-01T00:00:00",
          "2016-08-01T00:00:00",
          "2016-09-01T00:00:00",
          "2016-10-01T00:00:00",
          "2016-11-01T00:00:00",
          "2016-12-01T00:00:00",
          "2017-01-01T00:00:00",
          "2017-02-01T00:00:00"
         ],
         "y": [
          1014.4568548387097,
          1009.9330555555556,
          1004.748252688172,
          1001.6372222222222,
          997.4538978494624,
          1000.7147849462366,
          1010.9027777777778,
          1017.9041666666666,
          1018.7065277777778,
          1021.890188172043,
          1021.9090053763441,
          1024.283482142857,
          1015.3745967741935,
          1012.0166666666667,
          1003.0721774193548,
          1001.6712500000001,
          1000.1405913978494,
          1004.1916666666666,
          1010.3102777777779,
          1016.2200268817204,
          1019.0654166666666,
          1023.0643817204301,
          1023.4112903225806,
          1019.8224702380952,
          1016.8734094982078,
          1010.8733333333334,
          1003.4489247311828,
          1000.3461111111111,
          1001.2783602150537,
          1003.4041666666666,
          1011.3548611111111,
          1015.7254032258064,
          1023.425,
          1024.070564516129,
          1025.95,
          1022.5597701149425,
          1016.7400537634409,
          1007.8116666666667,
          1005.5413978494624,
          1000.7619444444445,
          1000.6353494623655,
          1003.5900537634409,
          1009.3326388888889,
          1017.1266913082437,
          1020.5669444444444,
          1023.4661290322581,
          1025.0504032258063,
          1022.0205853174604
         ]
        },
        {
         "mode": "lines",
         "name": "Shunyi",
         "type": "scatter",
         "x": [
          "2013-03-01T00:00:00",
          "2013-04-01T00:00:00",
          "2013-05-01T00:00:00",
          "2013-06-01T00:00:00",
          "2013-07-01T00:00:00",
          "2013-08-01T00:00:00",
          "2013-09-01T00:00:00",
          "2013-10-01T00:00:00",
          "2013-11-01T00:00:00",
          "2013-12-01T00:00:00",
          "2014-01-01T00:00:00",
          "2014-02-01T00:00:00",
          "2014-03-01T00:00:00",
          "2014-04-01T00:00:00",
          "2014-05-01T00:00:00",
          "2014-06-01T00:00:00",
          "2014-07-01T00:00:00",
          "2014-08-01T00:00:00",
          "2014-09-01T00:00:00",
          "2014-10-01T00:00:00",
          "2014-11-01T00:00:00",
          "2014-12-01T00:00:00",
          "2015-01-01T00:00:00",
          "2015-02-01T00:00:00",
          "2015-03-01T00:00:00",
          "2015-04-01T00:00:00",
          "2015-05-01T00:00:00",
          "2015-06-01T00:00:00",
          "2015-07-01T00:00:00",
          "2015-08-01T00:00:00",
          "2015-09-01T00:00:00",
          "2015-10-01T00:00:00",
          "2015-11-01T00:00:00",
          "2015-12-01T00:00:00",
          "2016-01-01T00:00:00",
          "2016-02-01T00:00:00",
          "2016-03-01T00:00:00",
          "2016-04-01T00:00:00",
          "2016-05-01T00:00:00",
          "2016-06-01T00:00:00",
          "2016-07-01T00:00:00",
          "2016-08-01T00:00:00",
          "2016-09-01T00:00:00",
          "2016-10-01T00:00:00",
          "2016-11-01T00:00:00",
          "2016-12-01T00:00:00",
          "2017-01-01T00:00:00",
          "2017-02-01T00:00:00"
         ],
         "y": [
          1015.1729838709676,
          1010.6218055555555,
          1005.4032258064516,
          1002.3454166666666,
          998.1236559139785,
          1001.3951612903226,
          1011.5706944444445,
          1018.578494623656,
          1019.3001388888889,
          1022.4693548387096,
          1022.6762096774194,
          1025.0489583333333,
          1016.1563172043011,
          1012.8,
          1003.8299731182796,
          1002.4409722222222,
          1000.8887096774193,
          1004.9200268817204,
          1011.1011111111112,
          1016.9811827956989,
          1014.8568055555556,
          1019.3163978494624,
          1024.1462365591399,
          1020.7666666666667,
          1017.6164426523297,
          1011.577196969697,
          1004.141129032258,
          1001.0311111111112,
          1001.9873655913979,
          1004.1043010752688,
          1012.0515277777778,
          1016.3962365591399,
          1024.1890277777777,
          1024.8182795698926,
          1026.7772849462367,
          1023.307183908046,
          1017.4735215053764,
          1008.5166666666667,
          1006.203629032258,
          1001.4447222222221,
          1001.3337365591399,
          1004.2469086021505,
          1009.9982098765432,
          1017.8188620071684,
          1021.3081944444444,
          1024.2157258064517,
          1025.636200716846,
          1022.7532738095238
         ]
        },
        {
         "mode": "lines",
         "name": "Tiantan",
         "type": "scatter",
         "x": [
          "2013-03-01T00:00:00",
          "2013-04-01T00:00:00",
          "2013-05-01T00:00:00",
          "2013-06-01T00:00:00",
          "2013-07-01T00:00:00",
          "2013-08-01T00:00:00",
          "2013-09-01T00:00:00",
          "2013-10-01T00:00:00",
          "2013-11-01T00:00:00",
          "2013-12-01T00:00:00",
          "2014-01-01T00:00:00",
          "2014-02-01T00:00:00",
          "2014-03-01T00:00:00",
          "2014-04-01T00:00:00",
          "2014-05-01T00:00:00",
          "2014-06-01T00:00:00",
          "2014-07-01T00:00:00",
          "2014-08-01T00:00:00",
          "2014-09-01T00:00:00",
          "2014-10-01T00:00:00",
          "2014-11-01T00:00:00",
          "2014-12-01T00:00:00",
          "2015-01-01T00:00:00",
          "2015-02-01T00:00:00",
          "2015-03-01T00:00:00",
          "2015-04-01T00:00:00",
          "2015-05-01T00:00:00",
          "2015-06-01T00:00:00",
          "2015-07-01T00:00:00",
          "2015-08-01T00:00:00",
          "2015-09-01T00:00:00",
          "2015-10-01T00:00:00",
          "2015-11-01T00:00:00",
          "2015-12-01T00:00:00",
          "2016-01-01T00:00:00",
          "2016-02-01T00:00:00",
          "2016-03-01T00:00:00",
          "2016-04-01T00:00:00",
          "2016-05-01T00:00:00",
          "2016-06-01T00:00:00",
          "2016-07-01T00:00:00",
          "2016-08-01T00:00:00",
          "2016-09-01T00:00:00",
          "2016-10-01T00:00:00",
          "2016-11-01T00:00:00",
          "2016-12-01T00:00:00",
          "2017-01-01T00:00:00",
          "2017-02-01T00:00:00"
         ],
         "y": [
          1014.4568548387097,
          1009.9330555555556,
          1004.748252688172,
          1001.6372222222222,
          997.4538978494624,
          1000.7147849462366,
          1010.9027777777778,
          1017.9041666666666,
          1018.7065277777778,
          1021.890188172043,
          1021.9090053763441,
          1024.283482142857,
          1015.3745967741935,
          1012.0166666666667,
          1003.0721774193548,
          1001.6712500000001,
          1000.1405913978494,
          1004.1916666666666,
          1010.3102777777779,
          1016.2200268817204,
          1019.0654166666666,
          1023.0643817204301,
          1023.4112903225806,
          1019.8224702380952,
          1016.8734094986559,
          1010.8733333333334,
          1003.4489247311828,
          1000.3461111111111,
          1001.2783602150537,
          1003.4041666666666,
          1011.3548611111111,
          1015.7254032258064,
          1023.425,
          1024.070564516129,
          1025.95,
          1022.5597701149425,
          1016.7400537634409,
          1007.8116666666667,
          1005.5413978494624,
          1000.7619444444445,
          1000.6353494623655,
          1003.5900537634409,
          1009.3326388888889,
          1017.1266913082437,
          1020.5669444444444,
          1023.4661290322581,
          1025.0504032258063,
          1022.0205853174604
         ]
        },
        {
         "mode": "lines",
         "name": "Wanliu",
         "type": "scatter",
         "x": [
          "2013-03-01T00:00:00",
          "2013-04-01T00:00:00",
          "2013-05-01T00:00:00",
          "2013-06-01T00:00:00",
          "2013-07-01T00:00:00",
          "2013-08-01T00:00:00",
          "2013-09-01T00:00:00",
          "2013-10-01T00:00:00",
          "2013-11-01T00:00:00",
          "2013-12-01T00:00:00",
          "2014-01-01T00:00:00",
          "2014-02-01T00:00:00",
          "2014-03-01T00:00:00",
          "2014-04-01T00:00:00",
          "2014-05-01T00:00:00",
          "2014-06-01T00:00:00",
          "2014-07-01T00:00:00",
          "2014-08-01T00:00:00",
          "2014-09-01T00:00:00",
          "2014-10-01T00:00:00",
          "2014-11-01T00:00:00",
          "2014-12-01T00:00:00",
          "2015-01-01T00:00:00",
          "2015-02-01T00:00:00",
          "2015-03-01T00:00:00",
          "2015-04-01T00:00:00",
          "2015-05-01T00:00:00",
          "2015-06-01T00:00:00",
          "2015-07-01T00:00:00",
          "2015-08-01T00:00:00",
          "2015-09-01T00:00:00",
          "2015-10-01T00:00:00",
          "2015-11-01T00:00:00",
          "2015-12-01T00:00:00",
          "2016-01-01T00:00:00",
          "2016-02-01T00:00:00",
          "2016-03-01T00:00:00",
          "2016-04-01T00:00:00",
          "2016-05-01T00:00:00",
          "2016-06-01T00:00:00",
          "2016-07-01T00:00:00",
          "2016-08-01T00:00:00",
          "2016-09-01T00:00:00",
          "2016-10-01T00:00:00",
          "2016-11-01T00:00:00",
          "2016-12-01T00:00:00",
          "2017-01-01T00:00:00",
          "2017-02-01T00:00:00"
         ],
         "y": [
          1012.5474462365592,
          1008.2969444444445,
          1003.1622311827956,
          1000.1655555555554,
          996.033064516129,
          999.3168010752687,
          1009.3551388888889,
          1016.2689516129032,
          1016.9720833333333,
          1019.95,
          1020.0513440860215,
          1022.3886904761904,
          1013.7275537634409,
          1010.4594444444446,
          1001.558064516129,
          999.991388888889,
          998.3681451612904,
          1002.4772849462365,
          1008.635,
          1014.6405913978494,
          1020.2609722222222,
          1024.0590053763442,
          1021.8152553763441,
          1018.3818452380953,
          1015.2916666666666,
          1009.3052777777779,
          1001.9236559139785,
          998.8458333333333,
          999.7926075268816,
          1001.931182795699,
          1009.8626388888889,
          1014.2217741935484,
          1021.8052777777779,
          1022.4864247311829,
          1024.3141129032258,
          1020.996408045977,
          1015.1788978494624,
          1006.2463888888889,
          1004.009005376344,
          999.2244444444444,
          999.1470430107527,
          1002.1134408602151,
          1008.1750694444445,
          1015.7537074372759,
          1018.9620833333332,
          1021.829435483871,
          1024.5198924731183,
          1020.4460317460316
         ]
        },
        {
         "mode": "lines",
         "name": "Wanshouxigong",
         "type": "scatter",
         "x": [
          "2013-03-01T00:00:00",
          "2013-04-01T00:00:00",
          "2013-05-01T00:00:00",
          "2013-06-01T00:00:00",
          "2013-07-01T00:00:00",
          "2013-08-01T00:00:00",
          "2013-09-01T00:00:00",
          "2013-10-01T00:00:00",
          "2013-11-01T00:00:00",
          "2013-12-01T00:00:00",
          "2014-01-01T00:00:00",
          "2014-02-01T00:00:00",
          "2014-03-01T00:00:00",
          "2014-04-01T00:00:00",
          "2014-05-01T00:00:00",
          "2014-06-01T00:00:00",
          "2014-07-01T00:00:00",
          "2014-08-01T00:00:00",
          "2014-09-01T00:00:00",
          "2014-10-01T00:00:00",
          "2014-11-01T00:00:00",
          "2014-12-01T00:00:00",
          "2015-01-01T00:00:00",
          "2015-02-01T00:00:00",
          "2015-03-01T00:00:00",
          "2015-04-01T00:00:00",
          "2015-05-01T00:00:00",
          "2015-06-01T00:00:00",
          "2015-07-01T00:00:00",
          "2015-08-01T00:00:00",
          "2015-09-01T00:00:00",
          "2015-10-01T00:00:00",
          "2015-11-01T00:00:00",
          "2015-12-01T00:00:00",
          "2016-01-01T00:00:00",
          "2016-02-01T00:00:00",
          "2016-03-01T00:00:00",
          "2016-04-01T00:00:00",
          "2016-05-01T00:00:00",
          "2016-06-01T00:00:00",
          "2016-07-01T00:00:00",
          "2016-08-01T00:00:00",
          "2016-09-01T00:00:00",
          "2016-10-01T00:00:00",
          "2016-11-01T00:00:00",
          "2016-12-01T00:00:00",
          "2017-01-01T00:00:00",
          "2017-02-01T00:00:00"
         ],
         "y": [
          1011.6395161290324,
          1007.2869444444444,
          1002.1239247311827,
          999.0772222222222,
          995.0235215053764,
          998.2693548387097,
          1008.31375,
          1015.236693548387,
          1016.0645833333333,
          1019.1533602150537,
          1019.2827956989248,
          1021.6239583333333,
          1012.8693548387098,
          1009.5781944444445,
          1000.7228494623656,
          999.3411111111111,
          997.8254032258064,
          1001.8782258064516,
          1007.9141666666666,
          1013.6584677419355,
          1021.8025,
          1025.9004032258065,
          1020.9487903225806,
          1017.6044642857142,
          1016.8734094986559,
          1010.8733333333334,
          1003.4489247311828,
          1000.3461111111111,
          1001.2783602150537,
          1003.4041666666666,
          1011.3548611111111,
          1015.7254032258064,
          1023.425,
          1024.070564516129,
          1025.95,
          1022.5597701149425,
          1016.7400537634409,
          1007.8116666666667,
          1005.5413978494624,
          1000.7619444444445,
          1000.6353494623655,
          1003.5900537634409,
          1009.3326388888889,
          1017.1266913082437,
          1020.5669444444444,
          1023.4661290322581,
          1025.0504032258063,
          1022.0205853174604
         ]
        }
       ],
       "layout": {
        "plot_bgcolor": "white",
        "showlegend": true,
        "template": {
         "data": {
          "bar": [
           {
            "error_x": {
             "color": "#2a3f5f"
            },
            "error_y": {
             "color": "#2a3f5f"
            },
            "marker": {
             "line": {
              "color": "#E5ECF6",
              "width": 0.5
             },
             "pattern": {
              "fillmode": "overlay",
              "size": 10,
              "solidity": 0.2
             }
            },
            "type": "bar"
           }
          ],
          "barpolar": [
           {
            "marker": {
             "line": {
              "color": "#E5ECF6",
              "width": 0.5
             },
             "pattern": {
              "fillmode": "overlay",
              "size": 10,
              "solidity": 0.2
             }
            },
            "type": "barpolar"
           }
          ],
          "carpet": [
           {
            "aaxis": {
             "endlinecolor": "#2a3f5f",
             "gridcolor": "white",
             "linecolor": "white",
             "minorgridcolor": "white",
             "startlinecolor": "#2a3f5f"
            },
            "baxis": {
             "endlinecolor": "#2a3f5f",
             "gridcolor": "white",
             "linecolor": "white",
             "minorgridcolor": "white",
             "startlinecolor": "#2a3f5f"
            },
            "type": "carpet"
           }
          ],
          "choropleth": [
           {
            "colorbar": {
             "outlinewidth": 0,
             "ticks": ""
            },
            "type": "choropleth"
           }
          ],
          "contour": [
           {
            "colorbar": {
             "outlinewidth": 0,
             "ticks": ""
            },
            "colorscale": [
             [
              0,
              "#0d0887"
             ],
             [
              0.1111111111111111,
              "#46039f"
             ],
             [
              0.2222222222222222,
              "#7201a8"
             ],
             [
              0.3333333333333333,
              "#9c179e"
             ],
             [
              0.4444444444444444,
              "#bd3786"
             ],
             [
              0.5555555555555556,
              "#d8576b"
             ],
             [
              0.6666666666666666,
              "#ed7953"
             ],
             [
              0.7777777777777778,
              "#fb9f3a"
             ],
             [
              0.8888888888888888,
              "#fdca26"
             ],
             [
              1,
              "#f0f921"
             ]
            ],
            "type": "contour"
           }
          ],
          "contourcarpet": [
           {
            "colorbar": {
             "outlinewidth": 0,
             "ticks": ""
            },
            "type": "contourcarpet"
           }
          ],
          "heatmap": [
           {
            "colorbar": {
             "outlinewidth": 0,
             "ticks": ""
            },
            "colorscale": [
             [
              0,
              "#0d0887"
             ],
             [
              0.1111111111111111,
              "#46039f"
             ],
             [
              0.2222222222222222,
              "#7201a8"
             ],
             [
              0.3333333333333333,
              "#9c179e"
             ],
             [
              0.4444444444444444,
              "#bd3786"
             ],
             [
              0.5555555555555556,
              "#d8576b"
             ],
             [
              0.6666666666666666,
              "#ed7953"
             ],
             [
              0.7777777777777778,
              "#fb9f3a"
             ],
             [
              0.8888888888888888,
              "#fdca26"
             ],
             [
              1,
              "#f0f921"
             ]
            ],
            "type": "heatmap"
           }
          ],
          "heatmapgl": [
           {
            "colorbar": {
             "outlinewidth": 0,
             "ticks": ""
            },
            "colorscale": [
             [
              0,
              "#0d0887"
             ],
             [
              0.1111111111111111,
              "#46039f"
             ],
             [
              0.2222222222222222,
              "#7201a8"
             ],
             [
              0.3333333333333333,
              "#9c179e"
             ],
             [
              0.4444444444444444,
              "#bd3786"
             ],
             [
              0.5555555555555556,
              "#d8576b"
             ],
             [
              0.6666666666666666,
              "#ed7953"
             ],
             [
              0.7777777777777778,
              "#fb9f3a"
             ],
             [
              0.8888888888888888,
              "#fdca26"
             ],
             [
              1,
              "#f0f921"
             ]
            ],
            "type": "heatmapgl"
           }
          ],
          "histogram": [
           {
            "marker": {
             "pattern": {
              "fillmode": "overlay",
              "size": 10,
              "solidity": 0.2
             }
            },
            "type": "histogram"
           }
          ],
          "histogram2d": [
           {
            "colorbar": {
             "outlinewidth": 0,
             "ticks": ""
            },
            "colorscale": [
             [
              0,
              "#0d0887"
             ],
             [
              0.1111111111111111,
              "#46039f"
             ],
             [
              0.2222222222222222,
              "#7201a8"
             ],
             [
              0.3333333333333333,
              "#9c179e"
             ],
             [
              0.4444444444444444,
              "#bd3786"
             ],
             [
              0.5555555555555556,
              "#d8576b"
             ],
             [
              0.6666666666666666,
              "#ed7953"
             ],
             [
              0.7777777777777778,
              "#fb9f3a"
             ],
             [
              0.8888888888888888,
              "#fdca26"
             ],
             [
              1,
              "#f0f921"
             ]
            ],
            "type": "histogram2d"
           }
          ],
          "histogram2dcontour": [
           {
            "colorbar": {
             "outlinewidth": 0,
             "ticks": ""
            },
            "colorscale": [
             [
              0,
              "#0d0887"
             ],
             [
              0.1111111111111111,
              "#46039f"
             ],
             [
              0.2222222222222222,
              "#7201a8"
             ],
             [
              0.3333333333333333,
              "#9c179e"
             ],
             [
              0.4444444444444444,
              "#bd3786"
             ],
             [
              0.5555555555555556,
              "#d8576b"
             ],
             [
              0.6666666666666666,
              "#ed7953"
             ],
             [
              0.7777777777777778,
              "#fb9f3a"
             ],
             [
              0.8888888888888888,
              "#fdca26"
             ],
             [
              1,
              "#f0f921"
             ]
            ],
            "type": "histogram2dcontour"
           }
          ],
          "mesh3d": [
           {
            "colorbar": {
             "outlinewidth": 0,
             "ticks": ""
            },
            "type": "mesh3d"
           }
          ],
          "parcoords": [
           {
            "line": {
             "colorbar": {
              "outlinewidth": 0,
              "ticks": ""
             }
            },
            "type": "parcoords"
           }
          ],
          "pie": [
           {
            "automargin": true,
            "type": "pie"
           }
          ],
          "scatter": [
           {
            "fillpattern": {
             "fillmode": "overlay",
             "size": 10,
             "solidity": 0.2
            },
            "type": "scatter"
           }
          ],
          "scatter3d": [
           {
            "line": {
             "colorbar": {
              "outlinewidth": 0,
              "ticks": ""
             }
            },
            "marker": {
             "colorbar": {
              "outlinewidth": 0,
              "ticks": ""
             }
            },
            "type": "scatter3d"
           }
          ],
          "scattercarpet": [
           {
            "marker": {
             "colorbar": {
              "outlinewidth": 0,
              "ticks": ""
             }
            },
            "type": "scattercarpet"
           }
          ],
          "scattergeo": [
           {
            "marker": {
             "colorbar": {
              "outlinewidth": 0,
              "ticks": ""
             }
            },
            "type": "scattergeo"
           }
          ],
          "scattergl": [
           {
            "marker": {
             "colorbar": {
              "outlinewidth": 0,
              "ticks": ""
             }
            },
            "type": "scattergl"
           }
          ],
          "scattermapbox": [
           {
            "marker": {
             "colorbar": {
              "outlinewidth": 0,
              "ticks": ""
             }
            },
            "type": "scattermapbox"
           }
          ],
          "scatterpolar": [
           {
            "marker": {
             "colorbar": {
              "outlinewidth": 0,
              "ticks": ""
             }
            },
            "type": "scatterpolar"
           }
          ],
          "scatterpolargl": [
           {
            "marker": {
             "colorbar": {
              "outlinewidth": 0,
              "ticks": ""
             }
            },
            "type": "scatterpolargl"
           }
          ],
          "scatterternary": [
           {
            "marker": {
             "colorbar": {
              "outlinewidth": 0,
              "ticks": ""
             }
            },
            "type": "scatterternary"
           }
          ],
          "surface": [
           {
            "colorbar": {
             "outlinewidth": 0,
             "ticks": ""
            },
            "colorscale": [
             [
              0,
              "#0d0887"
             ],
             [
              0.1111111111111111,
              "#46039f"
             ],
             [
              0.2222222222222222,
              "#7201a8"
             ],
             [
              0.3333333333333333,
              "#9c179e"
             ],
             [
              0.4444444444444444,
              "#bd3786"
             ],
             [
              0.5555555555555556,
              "#d8576b"
             ],
             [
              0.6666666666666666,
              "#ed7953"
             ],
             [
              0.7777777777777778,
              "#fb9f3a"
             ],
             [
              0.8888888888888888,
              "#fdca26"
             ],
             [
              1,
              "#f0f921"
             ]
            ],
            "type": "surface"
           }
          ],
          "table": [
           {
            "cells": {
             "fill": {
              "color": "#EBF0F8"
             },
             "line": {
              "color": "white"
             }
            },
            "header": {
             "fill": {
              "color": "#C8D4E3"
             },
             "line": {
              "color": "white"
             }
            },
            "type": "table"
           }
          ]
         },
         "layout": {
          "annotationdefaults": {
           "arrowcolor": "#2a3f5f",
           "arrowhead": 0,
           "arrowwidth": 1
          },
          "autotypenumbers": "strict",
          "coloraxis": {
           "colorbar": {
            "outlinewidth": 0,
            "ticks": ""
           }
          },
          "colorscale": {
           "diverging": [
            [
             0,
             "#8e0152"
            ],
            [
             0.1,
             "#c51b7d"
            ],
            [
             0.2,
             "#de77ae"
            ],
            [
             0.3,
             "#f1b6da"
            ],
            [
             0.4,
             "#fde0ef"
            ],
            [
             0.5,
             "#f7f7f7"
            ],
            [
             0.6,
             "#e6f5d0"
            ],
            [
             0.7,
             "#b8e186"
            ],
            [
             0.8,
             "#7fbc41"
            ],
            [
             0.9,
             "#4d9221"
            ],
            [
             1,
             "#276419"
            ]
           ],
           "sequential": [
            [
             0,
             "#0d0887"
            ],
            [
             0.1111111111111111,
             "#46039f"
            ],
            [
             0.2222222222222222,
             "#7201a8"
            ],
            [
             0.3333333333333333,
             "#9c179e"
            ],
            [
             0.4444444444444444,
             "#bd3786"
            ],
            [
             0.5555555555555556,
             "#d8576b"
            ],
            [
             0.6666666666666666,
             "#ed7953"
            ],
            [
             0.7777777777777778,
             "#fb9f3a"
            ],
            [
             0.8888888888888888,
             "#fdca26"
            ],
            [
             1,
             "#f0f921"
            ]
           ],
           "sequentialminus": [
            [
             0,
             "#0d0887"
            ],
            [
             0.1111111111111111,
             "#46039f"
            ],
            [
             0.2222222222222222,
             "#7201a8"
            ],
            [
             0.3333333333333333,
             "#9c179e"
            ],
            [
             0.4444444444444444,
             "#bd3786"
            ],
            [
             0.5555555555555556,
             "#d8576b"
            ],
            [
             0.6666666666666666,
             "#ed7953"
            ],
            [
             0.7777777777777778,
             "#fb9f3a"
            ],
            [
             0.8888888888888888,
             "#fdca26"
            ],
            [
             1,
             "#f0f921"
            ]
           ]
          },
          "colorway": [
           "#636efa",
           "#EF553B",
           "#00cc96",
           "#ab63fa",
           "#FFA15A",
           "#19d3f3",
           "#FF6692",
           "#B6E880",
           "#FF97FF",
           "#FECB52"
          ],
          "font": {
           "color": "#2a3f5f"
          },
          "geo": {
           "bgcolor": "white",
           "lakecolor": "white",
           "landcolor": "#E5ECF6",
           "showlakes": true,
           "showland": true,
           "subunitcolor": "white"
          },
          "hoverlabel": {
           "align": "left"
          },
          "hovermode": "closest",
          "mapbox": {
           "style": "light"
          },
          "paper_bgcolor": "white",
          "plot_bgcolor": "#E5ECF6",
          "polar": {
           "angularaxis": {
            "gridcolor": "white",
            "linecolor": "white",
            "ticks": ""
           },
           "bgcolor": "#E5ECF6",
           "radialaxis": {
            "gridcolor": "white",
            "linecolor": "white",
            "ticks": ""
           }
          },
          "scene": {
           "xaxis": {
            "backgroundcolor": "#E5ECF6",
            "gridcolor": "white",
            "gridwidth": 2,
            "linecolor": "white",
            "showbackground": true,
            "ticks": "",
            "zerolinecolor": "white"
           },
           "yaxis": {
            "backgroundcolor": "#E5ECF6",
            "gridcolor": "white",
            "gridwidth": 2,
            "linecolor": "white",
            "showbackground": true,
            "ticks": "",
            "zerolinecolor": "white"
           },
           "zaxis": {
            "backgroundcolor": "#E5ECF6",
            "gridcolor": "white",
            "gridwidth": 2,
            "linecolor": "white",
            "showbackground": true,
            "ticks": "",
            "zerolinecolor": "white"
           }
          },
          "shapedefaults": {
           "line": {
            "color": "#2a3f5f"
           }
          },
          "ternary": {
           "aaxis": {
            "gridcolor": "white",
            "linecolor": "white",
            "ticks": ""
           },
           "baxis": {
            "gridcolor": "white",
            "linecolor": "white",
            "ticks": ""
           },
           "bgcolor": "#E5ECF6",
           "caxis": {
            "gridcolor": "white",
            "linecolor": "white",
            "ticks": ""
           }
          },
          "title": {
           "x": 0.05
          },
          "xaxis": {
           "automargin": true,
           "gridcolor": "white",
           "linecolor": "white",
           "ticks": "",
           "title": {
            "standoff": 15
           },
           "zerolinecolor": "white",
           "zerolinewidth": 2
          },
          "yaxis": {
           "automargin": true,
           "gridcolor": "white",
           "linecolor": "white",
           "ticks": "",
           "title": {
            "standoff": 15
           },
           "zerolinecolor": "white",
           "zerolinewidth": 2
          }
         }
        },
        "title": {
         "text": "Average Pressure per Month"
        }
       }
      }
     },
     "metadata": {},
     "output_type": "display_data"
    }
   ],
   "source": [
    "fig = go.Figure()\n",
    "\n",
    "for station in stations:\n",
    "    fig.add_trace(go.Scatter(\n",
    "        x=v1[v1['station'] == station]['year_month'],\n",
    "        y=v1[v1['station'] == station]['PRES'], \n",
    "        mode='lines', \n",
    "        name=station \n",
    "    ))\n",
    "\n",
    "fig.update_layout(\n",
    "    title='Average Pressure per Month',\n",
    "    showlegend=True,\n",
    "    plot_bgcolor='white',\n",
    ")"
   ]
  },
  {
   "cell_type": "markdown",
   "metadata": {},
   "source": [
    "tekanan udara saling terkait dengan curah hujan, semakin rendah tekanan udara, semakin mungkin terjadi hujan, begitu juga sebaliknya.\\\n",
    "berdasarkan grafik diatas, tekanan udara terendah secara konsisten berada pada sekitar bulan juli, dan tertinggi pada sekitar bulan januari."
   ]
  },
  {
   "cell_type": "markdown",
   "metadata": {},
   "source": [
    "#### DEWP (Dew Point Temperature)"
   ]
  },
  {
   "cell_type": "code",
   "execution_count": 35,
   "metadata": {},
   "outputs": [
    {
     "data": {
      "application/vnd.plotly.v1+json": {
       "config": {
        "plotlyServerURL": "https://plot.ly"
       },
       "data": [
        {
         "mode": "lines",
         "name": "Aotizhongxin",
         "type": "scatter",
         "x": [
          "2013-03-01T00:00:00",
          "2013-04-01T00:00:00",
          "2013-05-01T00:00:00",
          "2013-06-01T00:00:00",
          "2013-07-01T00:00:00",
          "2013-08-01T00:00:00",
          "2013-09-01T00:00:00",
          "2013-10-01T00:00:00",
          "2013-11-01T00:00:00",
          "2013-12-01T00:00:00",
          "2014-01-01T00:00:00",
          "2014-02-01T00:00:00",
          "2014-03-01T00:00:00",
          "2014-04-01T00:00:00",
          "2014-05-01T00:00:00",
          "2014-06-01T00:00:00",
          "2014-07-01T00:00:00",
          "2014-08-01T00:00:00",
          "2014-09-01T00:00:00",
          "2014-10-01T00:00:00",
          "2014-11-01T00:00:00",
          "2014-12-01T00:00:00",
          "2015-01-01T00:00:00",
          "2015-02-01T00:00:00",
          "2015-03-01T00:00:00",
          "2015-04-01T00:00:00",
          "2015-05-01T00:00:00",
          "2015-06-01T00:00:00",
          "2015-07-01T00:00:00",
          "2015-08-01T00:00:00",
          "2015-09-01T00:00:00",
          "2015-10-01T00:00:00",
          "2015-11-01T00:00:00",
          "2015-12-01T00:00:00",
          "2016-01-01T00:00:00",
          "2016-02-01T00:00:00",
          "2016-03-01T00:00:00",
          "2016-04-01T00:00:00",
          "2016-05-01T00:00:00",
          "2016-06-01T00:00:00",
          "2016-07-01T00:00:00",
          "2016-08-01T00:00:00",
          "2016-09-01T00:00:00",
          "2016-10-01T00:00:00",
          "2016-11-01T00:00:00",
          "2016-12-01T00:00:00",
          "2017-01-01T00:00:00",
          "2017-02-01T00:00:00"
         ],
         "y": [
          -5.729435483870968,
          -1.553611111111111,
          9.790456989247312,
          18.009027777777778,
          21.45994623655914,
          20.47043010752688,
          14.783888888888889,
          5.981854838709677,
          -6.101111111111111,
          -12.480779569892475,
          -12.156989247311827,
          -8.91889880952381,
          -4.346370967741935,
          4.875555555555556,
          8.236290322580645,
          17.527638888888887,
          20.870026881720428,
          19.221639784946237,
          14.998194444444445,
          7.70241935483871,
          -3.7525000000000004,
          -15.028091397849462,
          -14.310483870967742,
          -13.037723214285714,
          -9.880913978494624,
          1.694583333333333,
          6.613440860215054,
          14.301388888888889,
          18.50577956989247,
          18.446102150537634,
          13.76986111111111,
          4.153091397849463,
          -1.2023611111111112,
          -7.227150537634409,
          -18.059677419354838,
          -15.088218390804597,
          -8.75268817204301,
          -0.3329166666666667,
          6.201881720430107,
          14.683472222222223,
          20.72728494623656,
          19.286827956989246,
          14.06263888888889,
          7.278091397849462,
          -3.758472222222222,
          -9.272446236559139,
          -12.780779569892472,
          -13.62767857142857
         ]
        },
        {
         "mode": "lines",
         "name": "Changping",
         "type": "scatter",
         "x": [
          "2013-03-01T00:00:00",
          "2013-04-01T00:00:00",
          "2013-05-01T00:00:00",
          "2013-06-01T00:00:00",
          "2013-07-01T00:00:00",
          "2013-08-01T00:00:00",
          "2013-09-01T00:00:00",
          "2013-10-01T00:00:00",
          "2013-11-01T00:00:00",
          "2013-12-01T00:00:00",
          "2014-01-01T00:00:00",
          "2014-02-01T00:00:00",
          "2014-03-01T00:00:00",
          "2014-04-01T00:00:00",
          "2014-05-01T00:00:00",
          "2014-06-01T00:00:00",
          "2014-07-01T00:00:00",
          "2014-08-01T00:00:00",
          "2014-09-01T00:00:00",
          "2014-10-01T00:00:00",
          "2014-11-01T00:00:00",
          "2014-12-01T00:00:00",
          "2015-01-01T00:00:00",
          "2015-02-01T00:00:00",
          "2015-03-01T00:00:00",
          "2015-04-01T00:00:00",
          "2015-05-01T00:00:00",
          "2015-06-01T00:00:00",
          "2015-07-01T00:00:00",
          "2015-08-01T00:00:00",
          "2015-09-01T00:00:00",
          "2015-10-01T00:00:00",
          "2015-11-01T00:00:00",
          "2015-12-01T00:00:00",
          "2016-01-01T00:00:00",
          "2016-02-01T00:00:00",
          "2016-03-01T00:00:00",
          "2016-04-01T00:00:00",
          "2016-05-01T00:00:00",
          "2016-06-01T00:00:00",
          "2016-07-01T00:00:00",
          "2016-08-01T00:00:00",
          "2016-09-01T00:00:00",
          "2016-10-01T00:00:00",
          "2016-11-01T00:00:00",
          "2016-12-01T00:00:00",
          "2017-01-01T00:00:00",
          "2017-02-01T00:00:00"
         ],
         "y": [
          -7.478763440860215,
          -4.264027777777778,
          6.492204301075269,
          16.54083333333333,
          19.896236559139783,
          18.94233870967742,
          13.683055555555555,
          4.03508064516129,
          -8.468055555555555,
          -14.672849462365592,
          -15.100268817204302,
          -11.246577380952381,
          -8.335887096774194,
          1.3668055555555556,
          4.548790322580645,
          14.635555555555555,
          18.032526881720432,
          16.171236559139786,
          12.277777777777779,
          4.661827956989248,
          -7.635833333333333,
          -17.585483870967742,
          -15.135282258064516,
          -14.32641369047619,
          -11.444422043010752,
          -0.17,
          5.40497311827957,
          13.316388888888888,
          17.975940860215054,
          17.89489247311828,
          13.372638888888888,
          3.2696236559139784,
          -1.2502777777777778,
          -8.508333333333333,
          -18.604569892473116,
          -14.92255747126437,
          -9.568548387096774,
          -1.4331944444444447,
          6.174327956989247,
          14.299027777777777,
          20.46344086021505,
          18.888306451612902,
          13.312152777777778,
          6.782258064516129,
          -5.369027777777777,
          -10.711424731182795,
          -14.23024193548387,
          -13.97202380952381
         ]
        },
        {
         "mode": "lines",
         "name": "Dingling",
         "type": "scatter",
         "x": [
          "2013-03-01T00:00:00",
          "2013-04-01T00:00:00",
          "2013-05-01T00:00:00",
          "2013-06-01T00:00:00",
          "2013-07-01T00:00:00",
          "2013-08-01T00:00:00",
          "2013-09-01T00:00:00",
          "2013-10-01T00:00:00",
          "2013-11-01T00:00:00",
          "2013-12-01T00:00:00",
          "2014-01-01T00:00:00",
          "2014-02-01T00:00:00",
          "2014-03-01T00:00:00",
          "2014-04-01T00:00:00",
          "2014-05-01T00:00:00",
          "2014-06-01T00:00:00",
          "2014-07-01T00:00:00",
          "2014-08-01T00:00:00",
          "2014-09-01T00:00:00",
          "2014-10-01T00:00:00",
          "2014-11-01T00:00:00",
          "2014-12-01T00:00:00",
          "2015-01-01T00:00:00",
          "2015-02-01T00:00:00",
          "2015-03-01T00:00:00",
          "2015-04-01T00:00:00",
          "2015-05-01T00:00:00",
          "2015-06-01T00:00:00",
          "2015-07-01T00:00:00",
          "2015-08-01T00:00:00",
          "2015-09-01T00:00:00",
          "2015-10-01T00:00:00",
          "2015-11-01T00:00:00",
          "2015-12-01T00:00:00",
          "2016-01-01T00:00:00",
          "2016-02-01T00:00:00",
          "2016-03-01T00:00:00",
          "2016-04-01T00:00:00",
          "2016-05-01T00:00:00",
          "2016-06-01T00:00:00",
          "2016-07-01T00:00:00",
          "2016-08-01T00:00:00",
          "2016-09-01T00:00:00",
          "2016-10-01T00:00:00",
          "2016-11-01T00:00:00",
          "2016-12-01T00:00:00",
          "2017-01-01T00:00:00",
          "2017-02-01T00:00:00"
         ],
         "y": [
          -7.478763440860215,
          -4.264027777777778,
          6.492204301075269,
          16.54083333333333,
          19.896236559139783,
          18.94233870967742,
          13.683055555555555,
          4.03508064516129,
          -8.468055555555555,
          -14.672849462365592,
          -15.100268817204302,
          -11.246577380952381,
          -8.335887096774194,
          1.3668055555555556,
          4.548790322580645,
          14.635555555555555,
          18.032526881720432,
          16.171236559139786,
          12.277777777777779,
          4.661827956989248,
          -7.635833333333333,
          -17.585483870967742,
          -15.135282258064516,
          -14.32641369047619,
          -11.444422043010752,
          -0.17,
          5.40497311827957,
          13.316388888888888,
          17.975940860215054,
          17.89489247311828,
          13.372638888888888,
          3.2696236559139784,
          -1.2502777777777778,
          -8.508333333333333,
          -18.604569892473116,
          -14.92255747126437,
          -9.568548387096774,
          -1.4331944444444447,
          6.174327956989247,
          14.299027777777777,
          20.46344086021505,
          18.888306451612902,
          13.312152777777778,
          6.782258064516129,
          -5.369027777777777,
          -10.711424731182795,
          -14.23024193548387,
          -13.97202380952381
         ]
        },
        {
         "mode": "lines",
         "name": "Dongsi",
         "type": "scatter",
         "x": [
          "2013-03-01T00:00:00",
          "2013-04-01T00:00:00",
          "2013-05-01T00:00:00",
          "2013-06-01T00:00:00",
          "2013-07-01T00:00:00",
          "2013-08-01T00:00:00",
          "2013-09-01T00:00:00",
          "2013-10-01T00:00:00",
          "2013-11-01T00:00:00",
          "2013-12-01T00:00:00",
          "2014-01-01T00:00:00",
          "2014-02-01T00:00:00",
          "2014-03-01T00:00:00",
          "2014-04-01T00:00:00",
          "2014-05-01T00:00:00",
          "2014-06-01T00:00:00",
          "2014-07-01T00:00:00",
          "2014-08-01T00:00:00",
          "2014-09-01T00:00:00",
          "2014-10-01T00:00:00",
          "2014-11-01T00:00:00",
          "2014-12-01T00:00:00",
          "2015-01-01T00:00:00",
          "2015-02-01T00:00:00",
          "2015-03-01T00:00:00",
          "2015-04-01T00:00:00",
          "2015-05-01T00:00:00",
          "2015-06-01T00:00:00",
          "2015-07-01T00:00:00",
          "2015-08-01T00:00:00",
          "2015-09-01T00:00:00",
          "2015-10-01T00:00:00",
          "2015-11-01T00:00:00",
          "2015-12-01T00:00:00",
          "2016-01-01T00:00:00",
          "2016-02-01T00:00:00",
          "2016-03-01T00:00:00",
          "2016-04-01T00:00:00",
          "2016-05-01T00:00:00",
          "2016-06-01T00:00:00",
          "2016-07-01T00:00:00",
          "2016-08-01T00:00:00",
          "2016-09-01T00:00:00",
          "2016-10-01T00:00:00",
          "2016-11-01T00:00:00",
          "2016-12-01T00:00:00",
          "2017-01-01T00:00:00",
          "2017-02-01T00:00:00"
         ],
         "y": [
          -7.030510752688172,
          -3.7780555555555555,
          7.802956989247312,
          17.216250000000002,
          20.801209677419354,
          20.05456989247312,
          14.360555555555557,
          4.917338709677419,
          -8.2,
          -14.653225806451612,
          -13.101209677419353,
          -10.164285714285715,
          -6.311693548387097,
          3.0725,
          6.247715053763441,
          15.930416666666666,
          19.171370967741936,
          17.84704301075269,
          13.596527777777778,
          6.392069892473118,
          -5.525833333333333,
          -16.599865591397847,
          -14.50524193548387,
          -13.395238095238096,
          -9.880913978494624,
          1.694583333333333,
          6.613440860215054,
          14.301388888888889,
          18.50577956989247,
          18.446102150537634,
          13.76986111111111,
          4.153091397849463,
          -1.2023611111111112,
          -7.227150537634409,
          -18.059677419354838,
          -15.088218390804597,
          -8.75268817204301,
          -0.3329166666666667,
          6.201881720430107,
          14.683472222222223,
          20.72728494623656,
          19.286827956989246,
          14.06263888888889,
          7.278091397849462,
          -3.758472222222222,
          -9.272446236559139,
          -12.780779569892472,
          -13.62767857142857
         ]
        },
        {
         "mode": "lines",
         "name": "Guanyuan",
         "type": "scatter",
         "x": [
          "2013-03-01T00:00:00",
          "2013-04-01T00:00:00",
          "2013-05-01T00:00:00",
          "2013-06-01T00:00:00",
          "2013-07-01T00:00:00",
          "2013-08-01T00:00:00",
          "2013-09-01T00:00:00",
          "2013-10-01T00:00:00",
          "2013-11-01T00:00:00",
          "2013-12-01T00:00:00",
          "2014-01-01T00:00:00",
          "2014-02-01T00:00:00",
          "2014-03-01T00:00:00",
          "2014-04-01T00:00:00",
          "2014-05-01T00:00:00",
          "2014-06-01T00:00:00",
          "2014-07-01T00:00:00",
          "2014-08-01T00:00:00",
          "2014-09-01T00:00:00",
          "2014-10-01T00:00:00",
          "2014-11-01T00:00:00",
          "2014-12-01T00:00:00",
          "2015-01-01T00:00:00",
          "2015-02-01T00:00:00",
          "2015-03-01T00:00:00",
          "2015-04-01T00:00:00",
          "2015-05-01T00:00:00",
          "2015-06-01T00:00:00",
          "2015-07-01T00:00:00",
          "2015-08-01T00:00:00",
          "2015-09-01T00:00:00",
          "2015-10-01T00:00:00",
          "2015-11-01T00:00:00",
          "2015-12-01T00:00:00",
          "2016-01-01T00:00:00",
          "2016-02-01T00:00:00",
          "2016-03-01T00:00:00",
          "2016-04-01T00:00:00",
          "2016-05-01T00:00:00",
          "2016-06-01T00:00:00",
          "2016-07-01T00:00:00",
          "2016-08-01T00:00:00",
          "2016-09-01T00:00:00",
          "2016-10-01T00:00:00",
          "2016-11-01T00:00:00",
          "2016-12-01T00:00:00",
          "2017-01-01T00:00:00",
          "2017-02-01T00:00:00"
         ],
         "y": [
          -5.729435483870968,
          -1.553611111111111,
          9.790456989247312,
          18.009027777777778,
          21.45994623655914,
          20.47043010752688,
          14.783888888888889,
          5.981854838709677,
          -6.101111111111111,
          -12.480779569892475,
          -12.156989247311827,
          -8.91889880952381,
          -4.346370967741935,
          4.875555555555556,
          8.236290322580645,
          17.527638888888887,
          20.870026881720428,
          19.221639784946237,
          14.998194444444445,
          7.70241935483871,
          -3.7525000000000004,
          -15.028091397849462,
          -14.310483870967742,
          -13.037723214285714,
          -9.880913978494624,
          1.694583333333333,
          6.613440860215054,
          14.301388888888889,
          18.50577956989247,
          18.446102150537634,
          13.76986111111111,
          4.153091397849463,
          -1.2023611111111112,
          -7.227150537634409,
          -18.059677419354838,
          -15.088218390804597,
          -8.75268817204301,
          -0.3329166666666667,
          6.201881720430107,
          14.683472222222223,
          20.72728494623656,
          19.286827956989246,
          14.06263888888889,
          7.278091397849462,
          -3.758472222222222,
          -9.272446236559139,
          -12.780779569892472,
          -13.62767857142857
         ]
        },
        {
         "mode": "lines",
         "name": "Gucheng",
         "type": "scatter",
         "x": [
          "2013-03-01T00:00:00",
          "2013-04-01T00:00:00",
          "2013-05-01T00:00:00",
          "2013-06-01T00:00:00",
          "2013-07-01T00:00:00",
          "2013-08-01T00:00:00",
          "2013-09-01T00:00:00",
          "2013-10-01T00:00:00",
          "2013-11-01T00:00:00",
          "2013-12-01T00:00:00",
          "2014-01-01T00:00:00",
          "2014-02-01T00:00:00",
          "2014-03-01T00:00:00",
          "2014-04-01T00:00:00",
          "2014-05-01T00:00:00",
          "2014-06-01T00:00:00",
          "2014-07-01T00:00:00",
          "2014-08-01T00:00:00",
          "2014-09-01T00:00:00",
          "2014-10-01T00:00:00",
          "2014-11-01T00:00:00",
          "2014-12-01T00:00:00",
          "2015-01-01T00:00:00",
          "2015-02-01T00:00:00",
          "2015-03-01T00:00:00",
          "2015-04-01T00:00:00",
          "2015-05-01T00:00:00",
          "2015-06-01T00:00:00",
          "2015-07-01T00:00:00",
          "2015-08-01T00:00:00",
          "2015-09-01T00:00:00",
          "2015-10-01T00:00:00",
          "2015-11-01T00:00:00",
          "2015-12-01T00:00:00",
          "2016-01-01T00:00:00",
          "2016-02-01T00:00:00",
          "2016-03-01T00:00:00",
          "2016-04-01T00:00:00",
          "2016-05-01T00:00:00",
          "2016-06-01T00:00:00",
          "2016-07-01T00:00:00",
          "2016-08-01T00:00:00",
          "2016-09-01T00:00:00",
          "2016-10-01T00:00:00",
          "2016-11-01T00:00:00",
          "2016-12-01T00:00:00",
          "2017-01-01T00:00:00",
          "2017-02-01T00:00:00"
         ],
         "y": [
          -6.514784946236559,
          -3.3555555555555556,
          8.014650537634408,
          17.135416666666668,
          20.84704301075269,
          19.74885752688172,
          14.14388888888889,
          4.9389784946236555,
          -7.2491666666666665,
          -12.93508064516129,
          -13.005510752688172,
          -9.54360119047619,
          -6.156854838709677,
          3.421527777777778,
          6.889381720430107,
          16.218194444444446,
          20.57688172043011,
          18.662768817204302,
          13.77611111111111,
          6.102016129032258,
          -5.84625,
          -16.461827956989247,
          -13.793548387096774,
          -12.593675595238096,
          -9.168951612903225,
          1.9122222222222223,
          6.969354838709677,
          14.347777777777777,
          19.144220430107527,
          19.27916666666667,
          14.215,
          4.384677419354839,
          -0.6041666666666666,
          -7.522043010752688,
          -17.828629032258064,
          -14.691235632183908,
          -9.114247311827956,
          -0.7845833333333333,
          6.435752688172043,
          14.65875,
          20.671102150537635,
          19.316801075268817,
          13.835,
          6.65994623655914,
          -5.138194444444444,
          -10.418951612903225,
          -13.642876344086021,
          -14.643005952380953
         ]
        },
        {
         "mode": "lines",
         "name": "Huairou",
         "type": "scatter",
         "x": [
          "2013-03-01T00:00:00",
          "2013-04-01T00:00:00",
          "2013-05-01T00:00:00",
          "2013-06-01T00:00:00",
          "2013-07-01T00:00:00",
          "2013-08-01T00:00:00",
          "2013-09-01T00:00:00",
          "2013-10-01T00:00:00",
          "2013-11-01T00:00:00",
          "2013-12-01T00:00:00",
          "2014-01-01T00:00:00",
          "2014-02-01T00:00:00",
          "2014-03-01T00:00:00",
          "2014-04-01T00:00:00",
          "2014-05-01T00:00:00",
          "2014-06-01T00:00:00",
          "2014-07-01T00:00:00",
          "2014-08-01T00:00:00",
          "2014-09-01T00:00:00",
          "2014-10-01T00:00:00",
          "2014-11-01T00:00:00",
          "2014-12-01T00:00:00",
          "2015-01-01T00:00:00",
          "2015-02-01T00:00:00",
          "2015-03-01T00:00:00",
          "2015-04-01T00:00:00",
          "2015-05-01T00:00:00",
          "2015-06-01T00:00:00",
          "2015-07-01T00:00:00",
          "2015-08-01T00:00:00",
          "2015-09-01T00:00:00",
          "2015-10-01T00:00:00",
          "2015-11-01T00:00:00",
          "2015-12-01T00:00:00",
          "2016-01-01T00:00:00",
          "2016-02-01T00:00:00",
          "2016-03-01T00:00:00",
          "2016-04-01T00:00:00",
          "2016-05-01T00:00:00",
          "2016-06-01T00:00:00",
          "2016-07-01T00:00:00",
          "2016-08-01T00:00:00",
          "2016-09-01T00:00:00",
          "2016-10-01T00:00:00",
          "2016-11-01T00:00:00",
          "2016-12-01T00:00:00",
          "2017-01-01T00:00:00",
          "2017-02-01T00:00:00"
         ],
         "y": [
          -7.575,
          -4.399305555555555,
          7.150672043010753,
          17.359444444444442,
          21.52177419354839,
          20.80739247311828,
          14.71875,
          4.609543010752688,
          -8.211666666666666,
          -14.775806451612905,
          -13.878091397849461,
          -10.63110119047619,
          -6.973387096774193,
          2.4302777777777775,
          6.196639784946237,
          15.64263888888889,
          19.447580645161292,
          17.066263440860215,
          13.57125,
          5.296102150537634,
          -6.502083333333333,
          -16.903225806451612,
          -15.093346774193549,
          -13.806919642857142,
          -10.370295698924732,
          0.6840277777777778,
          6.188037634408602,
          14.413194444444445,
          18.60537634408602,
          19.176209677419354,
          14.3,
          4.0034946236559135,
          -1.3719444444444444,
          -8.318010752688172,
          -17.90201612903226,
          -15.043103448275861,
          -9.249596774193549,
          -1.0915277777777777,
          6.801881720430108,
          15.245416666666667,
          20.99032258064516,
          19.85967741935484,
          14.585625,
          6.962903225806451,
          -4.433055555555556,
          -10.583333333333334,
          -13.730376344086022,
          -13.763541666666667
         ]
        },
        {
         "mode": "lines",
         "name": "Nongzhanguan",
         "type": "scatter",
         "x": [
          "2013-03-01T00:00:00",
          "2013-04-01T00:00:00",
          "2013-05-01T00:00:00",
          "2013-06-01T00:00:00",
          "2013-07-01T00:00:00",
          "2013-08-01T00:00:00",
          "2013-09-01T00:00:00",
          "2013-10-01T00:00:00",
          "2013-11-01T00:00:00",
          "2013-12-01T00:00:00",
          "2014-01-01T00:00:00",
          "2014-02-01T00:00:00",
          "2014-03-01T00:00:00",
          "2014-04-01T00:00:00",
          "2014-05-01T00:00:00",
          "2014-06-01T00:00:00",
          "2014-07-01T00:00:00",
          "2014-08-01T00:00:00",
          "2014-09-01T00:00:00",
          "2014-10-01T00:00:00",
          "2014-11-01T00:00:00",
          "2014-12-01T00:00:00",
          "2015-01-01T00:00:00",
          "2015-02-01T00:00:00",
          "2015-03-01T00:00:00",
          "2015-04-01T00:00:00",
          "2015-05-01T00:00:00",
          "2015-06-01T00:00:00",
          "2015-07-01T00:00:00",
          "2015-08-01T00:00:00",
          "2015-09-01T00:00:00",
          "2015-10-01T00:00:00",
          "2015-11-01T00:00:00",
          "2015-12-01T00:00:00",
          "2016-01-01T00:00:00",
          "2016-02-01T00:00:00",
          "2016-03-01T00:00:00",
          "2016-04-01T00:00:00",
          "2016-05-01T00:00:00",
          "2016-06-01T00:00:00",
          "2016-07-01T00:00:00",
          "2016-08-01T00:00:00",
          "2016-09-01T00:00:00",
          "2016-10-01T00:00:00",
          "2016-11-01T00:00:00",
          "2016-12-01T00:00:00",
          "2017-01-01T00:00:00",
          "2017-02-01T00:00:00"
         ],
         "y": [
          -7.030510752688172,
          -3.7780555555555555,
          7.802956989247312,
          17.216250000000002,
          20.801209677419354,
          20.05456989247312,
          14.360555555555557,
          4.917338709677419,
          -8.2,
          -14.653225806451612,
          -13.101209677419353,
          -10.164285714285715,
          -6.311693548387097,
          3.0725,
          6.247715053763441,
          15.930416666666666,
          19.171370967741936,
          17.84704301075269,
          13.596527777777778,
          6.392069892473118,
          -5.525833333333333,
          -16.599865591397847,
          -14.50524193548387,
          -13.395238095238096,
          -9.880913978494624,
          1.694583333333333,
          6.613440860215054,
          14.301388888888889,
          18.50577956989247,
          18.446102150537634,
          13.76986111111111,
          4.153091397849463,
          -1.2023611111111112,
          -7.227150537634409,
          -18.059677419354838,
          -15.088218390804597,
          -8.75268817204301,
          -0.3329166666666667,
          6.201881720430107,
          14.683472222222223,
          20.72728494623656,
          19.286827956989246,
          14.06263888888889,
          7.278091397849462,
          -3.758472222222222,
          -9.272446236559139,
          -12.780779569892472,
          -13.62767857142857
         ]
        },
        {
         "mode": "lines",
         "name": "Shunyi",
         "type": "scatter",
         "x": [
          "2013-03-01T00:00:00",
          "2013-04-01T00:00:00",
          "2013-05-01T00:00:00",
          "2013-06-01T00:00:00",
          "2013-07-01T00:00:00",
          "2013-08-01T00:00:00",
          "2013-09-01T00:00:00",
          "2013-10-01T00:00:00",
          "2013-11-01T00:00:00",
          "2013-12-01T00:00:00",
          "2014-01-01T00:00:00",
          "2014-02-01T00:00:00",
          "2014-03-01T00:00:00",
          "2014-04-01T00:00:00",
          "2014-05-01T00:00:00",
          "2014-06-01T00:00:00",
          "2014-07-01T00:00:00",
          "2014-08-01T00:00:00",
          "2014-09-01T00:00:00",
          "2014-10-01T00:00:00",
          "2014-11-01T00:00:00",
          "2014-12-01T00:00:00",
          "2015-01-01T00:00:00",
          "2015-02-01T00:00:00",
          "2015-03-01T00:00:00",
          "2015-04-01T00:00:00",
          "2015-05-01T00:00:00",
          "2015-06-01T00:00:00",
          "2015-07-01T00:00:00",
          "2015-08-01T00:00:00",
          "2015-09-01T00:00:00",
          "2015-10-01T00:00:00",
          "2015-11-01T00:00:00",
          "2015-12-01T00:00:00",
          "2016-01-01T00:00:00",
          "2016-02-01T00:00:00",
          "2016-03-01T00:00:00",
          "2016-04-01T00:00:00",
          "2016-05-01T00:00:00",
          "2016-06-01T00:00:00",
          "2016-07-01T00:00:00",
          "2016-08-01T00:00:00",
          "2016-09-01T00:00:00",
          "2016-10-01T00:00:00",
          "2016-11-01T00:00:00",
          "2016-12-01T00:00:00",
          "2017-01-01T00:00:00",
          "2017-02-01T00:00:00"
         ],
         "y": [
          -6.539112903225807,
          -3.3011111111111116,
          8.19462365591398,
          18.49361111111111,
          20.698252688172044,
          20.091801075268815,
          14.119027777777779,
          5.213440860215054,
          -7.416111111111111,
          -14.04260752688172,
          -12.799059139784946,
          -9.998214285714287,
          -5.954032258064516,
          2.952777777777778,
          6.144220430107527,
          15.51361111111111,
          19.016801075268816,
          17.160618279569892,
          13.420972222222222,
          5.62755376344086,
          -5.956944444444445,
          -16.556317204301074,
          -14.571774193548386,
          -13.02172619047619,
          -9.69462365591398,
          1.2651388888888888,
          6.501747311827957,
          14.485555555555557,
          18.521505376344088,
          18.585483870967742,
          13.990694444444443,
          4.421908602150538,
          -1.350277777777778,
          -7.968279569892473,
          -18.07755376344086,
          -14.889655172413795,
          -8.638440860215054,
          -1.0420833333333333,
          6.416666666666667,
          14.937083333333334,
          20.537768817204302,
          19.320833333333333,
          13.992430555555554,
          6.994489247311828,
          -4.178055555555555,
          -9.852150537634408,
          -13.235147849462367,
          -13.280654761904762
         ]
        },
        {
         "mode": "lines",
         "name": "Tiantan",
         "type": "scatter",
         "x": [
          "2013-03-01T00:00:00",
          "2013-04-01T00:00:00",
          "2013-05-01T00:00:00",
          "2013-06-01T00:00:00",
          "2013-07-01T00:00:00",
          "2013-08-01T00:00:00",
          "2013-09-01T00:00:00",
          "2013-10-01T00:00:00",
          "2013-11-01T00:00:00",
          "2013-12-01T00:00:00",
          "2014-01-01T00:00:00",
          "2014-02-01T00:00:00",
          "2014-03-01T00:00:00",
          "2014-04-01T00:00:00",
          "2014-05-01T00:00:00",
          "2014-06-01T00:00:00",
          "2014-07-01T00:00:00",
          "2014-08-01T00:00:00",
          "2014-09-01T00:00:00",
          "2014-10-01T00:00:00",
          "2014-11-01T00:00:00",
          "2014-12-01T00:00:00",
          "2015-01-01T00:00:00",
          "2015-02-01T00:00:00",
          "2015-03-01T00:00:00",
          "2015-04-01T00:00:00",
          "2015-05-01T00:00:00",
          "2015-06-01T00:00:00",
          "2015-07-01T00:00:00",
          "2015-08-01T00:00:00",
          "2015-09-01T00:00:00",
          "2015-10-01T00:00:00",
          "2015-11-01T00:00:00",
          "2015-12-01T00:00:00",
          "2016-01-01T00:00:00",
          "2016-02-01T00:00:00",
          "2016-03-01T00:00:00",
          "2016-04-01T00:00:00",
          "2016-05-01T00:00:00",
          "2016-06-01T00:00:00",
          "2016-07-01T00:00:00",
          "2016-08-01T00:00:00",
          "2016-09-01T00:00:00",
          "2016-10-01T00:00:00",
          "2016-11-01T00:00:00",
          "2016-12-01T00:00:00",
          "2017-01-01T00:00:00",
          "2017-02-01T00:00:00"
         ],
         "y": [
          -7.030510752688172,
          -3.7780555555555555,
          7.802956989247312,
          17.216250000000002,
          20.801209677419354,
          20.05456989247312,
          14.360555555555557,
          4.917338709677419,
          -8.2,
          -14.653225806451612,
          -13.101209677419353,
          -10.164285714285715,
          -6.311693548387097,
          3.0725,
          6.247715053763441,
          15.930416666666666,
          19.171370967741936,
          17.84704301075269,
          13.596527777777778,
          6.392069892473118,
          -5.525833333333333,
          -16.599865591397847,
          -14.50524193548387,
          -13.395238095238096,
          -9.880913978494624,
          1.694583333333333,
          6.613440860215054,
          14.301388888888889,
          18.50577956989247,
          18.446102150537634,
          13.76986111111111,
          4.153091397849463,
          -1.2023611111111112,
          -7.227150537634409,
          -18.059677419354838,
          -15.088218390804597,
          -8.75268817204301,
          -0.3329166666666667,
          6.201881720430107,
          14.683472222222223,
          20.72728494623656,
          19.286827956989246,
          14.06263888888889,
          7.278091397849462,
          -3.758472222222222,
          -9.272446236559139,
          -12.780779569892472,
          -13.62767857142857
         ]
        },
        {
         "mode": "lines",
         "name": "Wanliu",
         "type": "scatter",
         "x": [
          "2013-03-01T00:00:00",
          "2013-04-01T00:00:00",
          "2013-05-01T00:00:00",
          "2013-06-01T00:00:00",
          "2013-07-01T00:00:00",
          "2013-08-01T00:00:00",
          "2013-09-01T00:00:00",
          "2013-10-01T00:00:00",
          "2013-11-01T00:00:00",
          "2013-12-01T00:00:00",
          "2014-01-01T00:00:00",
          "2014-02-01T00:00:00",
          "2014-03-01T00:00:00",
          "2014-04-01T00:00:00",
          "2014-05-01T00:00:00",
          "2014-06-01T00:00:00",
          "2014-07-01T00:00:00",
          "2014-08-01T00:00:00",
          "2014-09-01T00:00:00",
          "2014-10-01T00:00:00",
          "2014-11-01T00:00:00",
          "2014-12-01T00:00:00",
          "2015-01-01T00:00:00",
          "2015-02-01T00:00:00",
          "2015-03-01T00:00:00",
          "2015-04-01T00:00:00",
          "2015-05-01T00:00:00",
          "2015-06-01T00:00:00",
          "2015-07-01T00:00:00",
          "2015-08-01T00:00:00",
          "2015-09-01T00:00:00",
          "2015-10-01T00:00:00",
          "2015-11-01T00:00:00",
          "2015-12-01T00:00:00",
          "2016-01-01T00:00:00",
          "2016-02-01T00:00:00",
          "2016-03-01T00:00:00",
          "2016-04-01T00:00:00",
          "2016-05-01T00:00:00",
          "2016-06-01T00:00:00",
          "2016-07-01T00:00:00",
          "2016-08-01T00:00:00",
          "2016-09-01T00:00:00",
          "2016-10-01T00:00:00",
          "2016-11-01T00:00:00",
          "2016-12-01T00:00:00",
          "2017-01-01T00:00:00",
          "2017-02-01T00:00:00"
         ],
         "y": [
          -5.729435483870968,
          -1.553611111111111,
          9.790456989247312,
          18.009027777777778,
          21.45994623655914,
          20.47043010752688,
          14.783888888888889,
          5.981854838709677,
          -6.101111111111111,
          -12.480779569892475,
          -12.156989247311827,
          -8.91889880952381,
          -4.346370967741935,
          4.875555555555556,
          8.236290322580645,
          17.527638888888887,
          20.870026881720428,
          19.221639784946237,
          14.998194444444445,
          7.70241935483871,
          -3.7216666666666667,
          -15.00268817204301,
          -14.206653225806452,
          -13.090997023809523,
          -9.308736559139785,
          2.002638888888889,
          7.329301075268817,
          14.534583333333332,
          18.83790322580645,
          18.99260752688172,
          14.299444444444445,
          4.7767473118279575,
          -0.7875,
          -7.870430107526882,
          -17.856048387096774,
          -14.539224137931033,
          -8.20981182795699,
          0.16847222222222225,
          7.114381720430108,
          15.068194444444446,
          20.989919354838708,
          19.446236559139784,
          14.11125,
          7.336424731182796,
          -4.171805555555555,
          -9.622715053763441,
          -12.91760752688172,
          -13.190625
         ]
        },
        {
         "mode": "lines",
         "name": "Wanshouxigong",
         "type": "scatter",
         "x": [
          "2013-03-01T00:00:00",
          "2013-04-01T00:00:00",
          "2013-05-01T00:00:00",
          "2013-06-01T00:00:00",
          "2013-07-01T00:00:00",
          "2013-08-01T00:00:00",
          "2013-09-01T00:00:00",
          "2013-10-01T00:00:00",
          "2013-11-01T00:00:00",
          "2013-12-01T00:00:00",
          "2014-01-01T00:00:00",
          "2014-02-01T00:00:00",
          "2014-03-01T00:00:00",
          "2014-04-01T00:00:00",
          "2014-05-01T00:00:00",
          "2014-06-01T00:00:00",
          "2014-07-01T00:00:00",
          "2014-08-01T00:00:00",
          "2014-09-01T00:00:00",
          "2014-10-01T00:00:00",
          "2014-11-01T00:00:00",
          "2014-12-01T00:00:00",
          "2015-01-01T00:00:00",
          "2015-02-01T00:00:00",
          "2015-03-01T00:00:00",
          "2015-04-01T00:00:00",
          "2015-05-01T00:00:00",
          "2015-06-01T00:00:00",
          "2015-07-01T00:00:00",
          "2015-08-01T00:00:00",
          "2015-09-01T00:00:00",
          "2015-10-01T00:00:00",
          "2015-11-01T00:00:00",
          "2015-12-01T00:00:00",
          "2016-01-01T00:00:00",
          "2016-02-01T00:00:00",
          "2016-03-01T00:00:00",
          "2016-04-01T00:00:00",
          "2016-05-01T00:00:00",
          "2016-06-01T00:00:00",
          "2016-07-01T00:00:00",
          "2016-08-01T00:00:00",
          "2016-09-01T00:00:00",
          "2016-10-01T00:00:00",
          "2016-11-01T00:00:00",
          "2016-12-01T00:00:00",
          "2017-01-01T00:00:00",
          "2017-02-01T00:00:00"
         ],
         "y": [
          -6.318817204301075,
          -2.865138888888889,
          8.452016129032259,
          17.534305555555555,
          21.183198924731183,
          20.093548387096774,
          14.550416666666665,
          5.311559139784946,
          -7.195972222222223,
          -13.276344086021506,
          -12.690456989247313,
          -9.580208333333333,
          -5.87244623655914,
          3.963611111111111,
          6.9375,
          16.34208333333333,
          19.552553763440862,
          18.129569892473118,
          13.81138888888889,
          6.270698924731183,
          -5.197222222222222,
          -16.1875,
          -13.78508064516129,
          -12.459523809523809,
          -9.880913978494624,
          1.694583333333333,
          6.613440860215054,
          14.301388888888889,
          18.50577956989247,
          18.446102150537634,
          13.76986111111111,
          4.153091397849463,
          -1.2023611111111112,
          -7.227150537634409,
          -18.059677419354838,
          -15.088218390804597,
          -8.75268817204301,
          -0.3329166666666667,
          6.201881720430107,
          14.683472222222223,
          20.72728494623656,
          19.286827956989246,
          14.06263888888889,
          7.278091397849462,
          -3.758472222222222,
          -9.272446236559139,
          -12.780779569892472,
          -13.62767857142857
         ]
        }
       ],
       "layout": {
        "plot_bgcolor": "white",
        "showlegend": true,
        "template": {
         "data": {
          "bar": [
           {
            "error_x": {
             "color": "#2a3f5f"
            },
            "error_y": {
             "color": "#2a3f5f"
            },
            "marker": {
             "line": {
              "color": "#E5ECF6",
              "width": 0.5
             },
             "pattern": {
              "fillmode": "overlay",
              "size": 10,
              "solidity": 0.2
             }
            },
            "type": "bar"
           }
          ],
          "barpolar": [
           {
            "marker": {
             "line": {
              "color": "#E5ECF6",
              "width": 0.5
             },
             "pattern": {
              "fillmode": "overlay",
              "size": 10,
              "solidity": 0.2
             }
            },
            "type": "barpolar"
           }
          ],
          "carpet": [
           {
            "aaxis": {
             "endlinecolor": "#2a3f5f",
             "gridcolor": "white",
             "linecolor": "white",
             "minorgridcolor": "white",
             "startlinecolor": "#2a3f5f"
            },
            "baxis": {
             "endlinecolor": "#2a3f5f",
             "gridcolor": "white",
             "linecolor": "white",
             "minorgridcolor": "white",
             "startlinecolor": "#2a3f5f"
            },
            "type": "carpet"
           }
          ],
          "choropleth": [
           {
            "colorbar": {
             "outlinewidth": 0,
             "ticks": ""
            },
            "type": "choropleth"
           }
          ],
          "contour": [
           {
            "colorbar": {
             "outlinewidth": 0,
             "ticks": ""
            },
            "colorscale": [
             [
              0,
              "#0d0887"
             ],
             [
              0.1111111111111111,
              "#46039f"
             ],
             [
              0.2222222222222222,
              "#7201a8"
             ],
             [
              0.3333333333333333,
              "#9c179e"
             ],
             [
              0.4444444444444444,
              "#bd3786"
             ],
             [
              0.5555555555555556,
              "#d8576b"
             ],
             [
              0.6666666666666666,
              "#ed7953"
             ],
             [
              0.7777777777777778,
              "#fb9f3a"
             ],
             [
              0.8888888888888888,
              "#fdca26"
             ],
             [
              1,
              "#f0f921"
             ]
            ],
            "type": "contour"
           }
          ],
          "contourcarpet": [
           {
            "colorbar": {
             "outlinewidth": 0,
             "ticks": ""
            },
            "type": "contourcarpet"
           }
          ],
          "heatmap": [
           {
            "colorbar": {
             "outlinewidth": 0,
             "ticks": ""
            },
            "colorscale": [
             [
              0,
              "#0d0887"
             ],
             [
              0.1111111111111111,
              "#46039f"
             ],
             [
              0.2222222222222222,
              "#7201a8"
             ],
             [
              0.3333333333333333,
              "#9c179e"
             ],
             [
              0.4444444444444444,
              "#bd3786"
             ],
             [
              0.5555555555555556,
              "#d8576b"
             ],
             [
              0.6666666666666666,
              "#ed7953"
             ],
             [
              0.7777777777777778,
              "#fb9f3a"
             ],
             [
              0.8888888888888888,
              "#fdca26"
             ],
             [
              1,
              "#f0f921"
             ]
            ],
            "type": "heatmap"
           }
          ],
          "heatmapgl": [
           {
            "colorbar": {
             "outlinewidth": 0,
             "ticks": ""
            },
            "colorscale": [
             [
              0,
              "#0d0887"
             ],
             [
              0.1111111111111111,
              "#46039f"
             ],
             [
              0.2222222222222222,
              "#7201a8"
             ],
             [
              0.3333333333333333,
              "#9c179e"
             ],
             [
              0.4444444444444444,
              "#bd3786"
             ],
             [
              0.5555555555555556,
              "#d8576b"
             ],
             [
              0.6666666666666666,
              "#ed7953"
             ],
             [
              0.7777777777777778,
              "#fb9f3a"
             ],
             [
              0.8888888888888888,
              "#fdca26"
             ],
             [
              1,
              "#f0f921"
             ]
            ],
            "type": "heatmapgl"
           }
          ],
          "histogram": [
           {
            "marker": {
             "pattern": {
              "fillmode": "overlay",
              "size": 10,
              "solidity": 0.2
             }
            },
            "type": "histogram"
           }
          ],
          "histogram2d": [
           {
            "colorbar": {
             "outlinewidth": 0,
             "ticks": ""
            },
            "colorscale": [
             [
              0,
              "#0d0887"
             ],
             [
              0.1111111111111111,
              "#46039f"
             ],
             [
              0.2222222222222222,
              "#7201a8"
             ],
             [
              0.3333333333333333,
              "#9c179e"
             ],
             [
              0.4444444444444444,
              "#bd3786"
             ],
             [
              0.5555555555555556,
              "#d8576b"
             ],
             [
              0.6666666666666666,
              "#ed7953"
             ],
             [
              0.7777777777777778,
              "#fb9f3a"
             ],
             [
              0.8888888888888888,
              "#fdca26"
             ],
             [
              1,
              "#f0f921"
             ]
            ],
            "type": "histogram2d"
           }
          ],
          "histogram2dcontour": [
           {
            "colorbar": {
             "outlinewidth": 0,
             "ticks": ""
            },
            "colorscale": [
             [
              0,
              "#0d0887"
             ],
             [
              0.1111111111111111,
              "#46039f"
             ],
             [
              0.2222222222222222,
              "#7201a8"
             ],
             [
              0.3333333333333333,
              "#9c179e"
             ],
             [
              0.4444444444444444,
              "#bd3786"
             ],
             [
              0.5555555555555556,
              "#d8576b"
             ],
             [
              0.6666666666666666,
              "#ed7953"
             ],
             [
              0.7777777777777778,
              "#fb9f3a"
             ],
             [
              0.8888888888888888,
              "#fdca26"
             ],
             [
              1,
              "#f0f921"
             ]
            ],
            "type": "histogram2dcontour"
           }
          ],
          "mesh3d": [
           {
            "colorbar": {
             "outlinewidth": 0,
             "ticks": ""
            },
            "type": "mesh3d"
           }
          ],
          "parcoords": [
           {
            "line": {
             "colorbar": {
              "outlinewidth": 0,
              "ticks": ""
             }
            },
            "type": "parcoords"
           }
          ],
          "pie": [
           {
            "automargin": true,
            "type": "pie"
           }
          ],
          "scatter": [
           {
            "fillpattern": {
             "fillmode": "overlay",
             "size": 10,
             "solidity": 0.2
            },
            "type": "scatter"
           }
          ],
          "scatter3d": [
           {
            "line": {
             "colorbar": {
              "outlinewidth": 0,
              "ticks": ""
             }
            },
            "marker": {
             "colorbar": {
              "outlinewidth": 0,
              "ticks": ""
             }
            },
            "type": "scatter3d"
           }
          ],
          "scattercarpet": [
           {
            "marker": {
             "colorbar": {
              "outlinewidth": 0,
              "ticks": ""
             }
            },
            "type": "scattercarpet"
           }
          ],
          "scattergeo": [
           {
            "marker": {
             "colorbar": {
              "outlinewidth": 0,
              "ticks": ""
             }
            },
            "type": "scattergeo"
           }
          ],
          "scattergl": [
           {
            "marker": {
             "colorbar": {
              "outlinewidth": 0,
              "ticks": ""
             }
            },
            "type": "scattergl"
           }
          ],
          "scattermapbox": [
           {
            "marker": {
             "colorbar": {
              "outlinewidth": 0,
              "ticks": ""
             }
            },
            "type": "scattermapbox"
           }
          ],
          "scatterpolar": [
           {
            "marker": {
             "colorbar": {
              "outlinewidth": 0,
              "ticks": ""
             }
            },
            "type": "scatterpolar"
           }
          ],
          "scatterpolargl": [
           {
            "marker": {
             "colorbar": {
              "outlinewidth": 0,
              "ticks": ""
             }
            },
            "type": "scatterpolargl"
           }
          ],
          "scatterternary": [
           {
            "marker": {
             "colorbar": {
              "outlinewidth": 0,
              "ticks": ""
             }
            },
            "type": "scatterternary"
           }
          ],
          "surface": [
           {
            "colorbar": {
             "outlinewidth": 0,
             "ticks": ""
            },
            "colorscale": [
             [
              0,
              "#0d0887"
             ],
             [
              0.1111111111111111,
              "#46039f"
             ],
             [
              0.2222222222222222,
              "#7201a8"
             ],
             [
              0.3333333333333333,
              "#9c179e"
             ],
             [
              0.4444444444444444,
              "#bd3786"
             ],
             [
              0.5555555555555556,
              "#d8576b"
             ],
             [
              0.6666666666666666,
              "#ed7953"
             ],
             [
              0.7777777777777778,
              "#fb9f3a"
             ],
             [
              0.8888888888888888,
              "#fdca26"
             ],
             [
              1,
              "#f0f921"
             ]
            ],
            "type": "surface"
           }
          ],
          "table": [
           {
            "cells": {
             "fill": {
              "color": "#EBF0F8"
             },
             "line": {
              "color": "white"
             }
            },
            "header": {
             "fill": {
              "color": "#C8D4E3"
             },
             "line": {
              "color": "white"
             }
            },
            "type": "table"
           }
          ]
         },
         "layout": {
          "annotationdefaults": {
           "arrowcolor": "#2a3f5f",
           "arrowhead": 0,
           "arrowwidth": 1
          },
          "autotypenumbers": "strict",
          "coloraxis": {
           "colorbar": {
            "outlinewidth": 0,
            "ticks": ""
           }
          },
          "colorscale": {
           "diverging": [
            [
             0,
             "#8e0152"
            ],
            [
             0.1,
             "#c51b7d"
            ],
            [
             0.2,
             "#de77ae"
            ],
            [
             0.3,
             "#f1b6da"
            ],
            [
             0.4,
             "#fde0ef"
            ],
            [
             0.5,
             "#f7f7f7"
            ],
            [
             0.6,
             "#e6f5d0"
            ],
            [
             0.7,
             "#b8e186"
            ],
            [
             0.8,
             "#7fbc41"
            ],
            [
             0.9,
             "#4d9221"
            ],
            [
             1,
             "#276419"
            ]
           ],
           "sequential": [
            [
             0,
             "#0d0887"
            ],
            [
             0.1111111111111111,
             "#46039f"
            ],
            [
             0.2222222222222222,
             "#7201a8"
            ],
            [
             0.3333333333333333,
             "#9c179e"
            ],
            [
             0.4444444444444444,
             "#bd3786"
            ],
            [
             0.5555555555555556,
             "#d8576b"
            ],
            [
             0.6666666666666666,
             "#ed7953"
            ],
            [
             0.7777777777777778,
             "#fb9f3a"
            ],
            [
             0.8888888888888888,
             "#fdca26"
            ],
            [
             1,
             "#f0f921"
            ]
           ],
           "sequentialminus": [
            [
             0,
             "#0d0887"
            ],
            [
             0.1111111111111111,
             "#46039f"
            ],
            [
             0.2222222222222222,
             "#7201a8"
            ],
            [
             0.3333333333333333,
             "#9c179e"
            ],
            [
             0.4444444444444444,
             "#bd3786"
            ],
            [
             0.5555555555555556,
             "#d8576b"
            ],
            [
             0.6666666666666666,
             "#ed7953"
            ],
            [
             0.7777777777777778,
             "#fb9f3a"
            ],
            [
             0.8888888888888888,
             "#fdca26"
            ],
            [
             1,
             "#f0f921"
            ]
           ]
          },
          "colorway": [
           "#636efa",
           "#EF553B",
           "#00cc96",
           "#ab63fa",
           "#FFA15A",
           "#19d3f3",
           "#FF6692",
           "#B6E880",
           "#FF97FF",
           "#FECB52"
          ],
          "font": {
           "color": "#2a3f5f"
          },
          "geo": {
           "bgcolor": "white",
           "lakecolor": "white",
           "landcolor": "#E5ECF6",
           "showlakes": true,
           "showland": true,
           "subunitcolor": "white"
          },
          "hoverlabel": {
           "align": "left"
          },
          "hovermode": "closest",
          "mapbox": {
           "style": "light"
          },
          "paper_bgcolor": "white",
          "plot_bgcolor": "#E5ECF6",
          "polar": {
           "angularaxis": {
            "gridcolor": "white",
            "linecolor": "white",
            "ticks": ""
           },
           "bgcolor": "#E5ECF6",
           "radialaxis": {
            "gridcolor": "white",
            "linecolor": "white",
            "ticks": ""
           }
          },
          "scene": {
           "xaxis": {
            "backgroundcolor": "#E5ECF6",
            "gridcolor": "white",
            "gridwidth": 2,
            "linecolor": "white",
            "showbackground": true,
            "ticks": "",
            "zerolinecolor": "white"
           },
           "yaxis": {
            "backgroundcolor": "#E5ECF6",
            "gridcolor": "white",
            "gridwidth": 2,
            "linecolor": "white",
            "showbackground": true,
            "ticks": "",
            "zerolinecolor": "white"
           },
           "zaxis": {
            "backgroundcolor": "#E5ECF6",
            "gridcolor": "white",
            "gridwidth": 2,
            "linecolor": "white",
            "showbackground": true,
            "ticks": "",
            "zerolinecolor": "white"
           }
          },
          "shapedefaults": {
           "line": {
            "color": "#2a3f5f"
           }
          },
          "ternary": {
           "aaxis": {
            "gridcolor": "white",
            "linecolor": "white",
            "ticks": ""
           },
           "baxis": {
            "gridcolor": "white",
            "linecolor": "white",
            "ticks": ""
           },
           "bgcolor": "#E5ECF6",
           "caxis": {
            "gridcolor": "white",
            "linecolor": "white",
            "ticks": ""
           }
          },
          "title": {
           "x": 0.05
          },
          "xaxis": {
           "automargin": true,
           "gridcolor": "white",
           "linecolor": "white",
           "ticks": "",
           "title": {
            "standoff": 15
           },
           "zerolinecolor": "white",
           "zerolinewidth": 2
          },
          "yaxis": {
           "automargin": true,
           "gridcolor": "white",
           "linecolor": "white",
           "ticks": "",
           "title": {
            "standoff": 15
           },
           "zerolinecolor": "white",
           "zerolinewidth": 2
          }
         }
        },
        "title": {
         "text": "Average Dew Point Temperature per Month"
        }
       }
      }
     },
     "metadata": {},
     "output_type": "display_data"
    }
   ],
   "source": [
    "fig = go.Figure()\n",
    "\n",
    "for station in stations:\n",
    "    fig.add_trace(go.Scatter(\n",
    "        x=v1[v1['station'] == station]['year_month'],\n",
    "        y=v1[v1['station'] == station]['DEWP'], \n",
    "        mode='lines', \n",
    "        name=station \n",
    "    ))\n",
    "\n",
    "fig.update_layout(\n",
    "    title='Average Dew Point Temperature per Month',\n",
    "    showlegend=True,\n",
    "    plot_bgcolor='white',\n",
    ")"
   ]
  },
  {
   "cell_type": "markdown",
   "metadata": {},
   "source": [
    "Suhu titik embun juga saling terkait dengan curah hujan, semakin banyak uap air yang ada dimana hal ini dapat menandakan kemungkinan terjadi hujan, semakin tinggi suhu juga di mana embun terbentuk.\\\n",
    "pada grafik diatas, suhu titik embun terendah secara konsisten berada pada sekitar bulan januari, dan tertinggi pada sekitar bulan juli, artinya curah hujan akan tinggi pada bulan juli, dan rendah pada bulan januari. "
   ]
  },
  {
   "cell_type": "markdown",
   "metadata": {},
   "source": [
    "#### RAIN (Curah Hujan)"
   ]
  },
  {
   "cell_type": "code",
   "execution_count": 36,
   "metadata": {},
   "outputs": [
    {
     "data": {
      "application/vnd.plotly.v1+json": {
       "config": {
        "plotlyServerURL": "https://plot.ly"
       },
       "data": [
        {
         "mode": "lines",
         "name": "Aotizhongxin",
         "type": "scatter",
         "x": [
          "2013-03-01T00:00:00",
          "2013-04-01T00:00:00",
          "2013-05-01T00:00:00",
          "2013-06-01T00:00:00",
          "2013-07-01T00:00:00",
          "2013-08-01T00:00:00",
          "2013-09-01T00:00:00",
          "2013-10-01T00:00:00",
          "2013-11-01T00:00:00",
          "2013-12-01T00:00:00",
          "2014-01-01T00:00:00",
          "2014-02-01T00:00:00",
          "2014-03-01T00:00:00",
          "2014-04-01T00:00:00",
          "2014-05-01T00:00:00",
          "2014-06-01T00:00:00",
          "2014-07-01T00:00:00",
          "2014-08-01T00:00:00",
          "2014-09-01T00:00:00",
          "2014-10-01T00:00:00",
          "2014-11-01T00:00:00",
          "2014-12-01T00:00:00",
          "2015-01-01T00:00:00",
          "2015-02-01T00:00:00",
          "2015-03-01T00:00:00",
          "2015-04-01T00:00:00",
          "2015-05-01T00:00:00",
          "2015-06-01T00:00:00",
          "2015-07-01T00:00:00",
          "2015-08-01T00:00:00",
          "2015-09-01T00:00:00",
          "2015-10-01T00:00:00",
          "2015-11-01T00:00:00",
          "2015-12-01T00:00:00",
          "2016-01-01T00:00:00",
          "2016-02-01T00:00:00",
          "2016-03-01T00:00:00",
          "2016-04-01T00:00:00",
          "2016-05-01T00:00:00",
          "2016-06-01T00:00:00",
          "2016-07-01T00:00:00",
          "2016-08-01T00:00:00",
          "2016-09-01T00:00:00",
          "2016-10-01T00:00:00",
          "2016-11-01T00:00:00",
          "2016-12-01T00:00:00",
          "2017-01-01T00:00:00",
          "2017-02-01T00:00:00"
         ],
         "y": [
          0.02620967741935484,
          0.01513888888888889,
          0.0077956989247311825,
          0.13069444444444445,
          0.2938172043010753,
          0.15806451612903225,
          0.07833333333333334,
          0.003763440860215054,
          0,
          0,
          0,
          0.008482142857142858,
          0.0012096774193548388,
          0.016666666666666666,
          0.08588709677419355,
          0.26319444444444445,
          0.08158602150537635,
          0.10981182795698925,
          0.09388888888888888,
          0.017741935483870968,
          0.0009722222222222222,
          0,
          0.00026881720430107527,
          0.010416666666666666,
          0.008870967741935484,
          0.055694444444444435,
          0.050134408602150536,
          0.13625,
          0.2701612903225806,
          0.12580645161290324,
          0.13722222222222222,
          0.019086021505376343,
          0.052222222222222225,
          0.0028225806451612906,
          0.0006720430107526882,
          0.018103448275862067,
          0,
          0.006666666666666668,
          0.04583333333333334,
          0.09916666666666668,
          0.42338709677419356,
          0.07244623655913979,
          0.1598611111111111,
          0.1174731182795699,
          0.007361111111111111,
          0,
          0.00040322580645161296,
          0.006101190476190475
         ]
        },
        {
         "mode": "lines",
         "name": "Changping",
         "type": "scatter",
         "x": [
          "2013-03-01T00:00:00",
          "2013-04-01T00:00:00",
          "2013-05-01T00:00:00",
          "2013-06-01T00:00:00",
          "2013-07-01T00:00:00",
          "2013-08-01T00:00:00",
          "2013-09-01T00:00:00",
          "2013-10-01T00:00:00",
          "2013-11-01T00:00:00",
          "2013-12-01T00:00:00",
          "2014-01-01T00:00:00",
          "2014-02-01T00:00:00",
          "2014-03-01T00:00:00",
          "2014-04-01T00:00:00",
          "2014-05-01T00:00:00",
          "2014-06-01T00:00:00",
          "2014-07-01T00:00:00",
          "2014-08-01T00:00:00",
          "2014-09-01T00:00:00",
          "2014-10-01T00:00:00",
          "2014-11-01T00:00:00",
          "2014-12-01T00:00:00",
          "2015-01-01T00:00:00",
          "2015-02-01T00:00:00",
          "2015-03-01T00:00:00",
          "2015-04-01T00:00:00",
          "2015-05-01T00:00:00",
          "2015-06-01T00:00:00",
          "2015-07-01T00:00:00",
          "2015-08-01T00:00:00",
          "2015-09-01T00:00:00",
          "2015-10-01T00:00:00",
          "2015-11-01T00:00:00",
          "2015-12-01T00:00:00",
          "2016-01-01T00:00:00",
          "2016-02-01T00:00:00",
          "2016-03-01T00:00:00",
          "2016-04-01T00:00:00",
          "2016-05-01T00:00:00",
          "2016-06-01T00:00:00",
          "2016-07-01T00:00:00",
          "2016-08-01T00:00:00",
          "2016-09-01T00:00:00",
          "2016-10-01T00:00:00",
          "2016-11-01T00:00:00",
          "2016-12-01T00:00:00",
          "2017-01-01T00:00:00",
          "2017-02-01T00:00:00"
         ],
         "y": [
          0.031048387096774197,
          0.015555555555555555,
          0.005376344086021506,
          0.14680555555555555,
          0.22930107526881718,
          0.10551075268817205,
          0.12236111111111113,
          0.005376344086021506,
          0,
          0,
          0,
          0.003720238095238095,
          0.004435483870967742,
          0.010972222222222222,
          0.08548387096774193,
          0.10513888888888889,
          0.07069892473118279,
          0.05887096774193548,
          0.08472222222222223,
          0.02889784946236559,
          0,
          0,
          0.00040322580645161296,
          0.007142857142857143,
          0,
          0.03777777777777778,
          0.052822580645161286,
          0.10333333333333335,
          0.36451612903225805,
          0.09811827956989247,
          0.20833333333333334,
          0.014112903225806451,
          0.09416666666666666,
          0.004166666666666667,
          0.00040322580645161296,
          0.007758620689655173,
          0,
          0.012222222222222223,
          0.04865591397849463,
          0.08013888888888888,
          0.3666666666666667,
          0.06532258064516129,
          0.07277777777777777,
          0.11021505376344086,
          0.012777777777777777,
          0,
          0,
          0.002976190476190476
         ]
        },
        {
         "mode": "lines",
         "name": "Dingling",
         "type": "scatter",
         "x": [
          "2013-03-01T00:00:00",
          "2013-04-01T00:00:00",
          "2013-05-01T00:00:00",
          "2013-06-01T00:00:00",
          "2013-07-01T00:00:00",
          "2013-08-01T00:00:00",
          "2013-09-01T00:00:00",
          "2013-10-01T00:00:00",
          "2013-11-01T00:00:00",
          "2013-12-01T00:00:00",
          "2014-01-01T00:00:00",
          "2014-02-01T00:00:00",
          "2014-03-01T00:00:00",
          "2014-04-01T00:00:00",
          "2014-05-01T00:00:00",
          "2014-06-01T00:00:00",
          "2014-07-01T00:00:00",
          "2014-08-01T00:00:00",
          "2014-09-01T00:00:00",
          "2014-10-01T00:00:00",
          "2014-11-01T00:00:00",
          "2014-12-01T00:00:00",
          "2015-01-01T00:00:00",
          "2015-02-01T00:00:00",
          "2015-03-01T00:00:00",
          "2015-04-01T00:00:00",
          "2015-05-01T00:00:00",
          "2015-06-01T00:00:00",
          "2015-07-01T00:00:00",
          "2015-08-01T00:00:00",
          "2015-09-01T00:00:00",
          "2015-10-01T00:00:00",
          "2015-11-01T00:00:00",
          "2015-12-01T00:00:00",
          "2016-01-01T00:00:00",
          "2016-02-01T00:00:00",
          "2016-03-01T00:00:00",
          "2016-04-01T00:00:00",
          "2016-05-01T00:00:00",
          "2016-06-01T00:00:00",
          "2016-07-01T00:00:00",
          "2016-08-01T00:00:00",
          "2016-09-01T00:00:00",
          "2016-10-01T00:00:00",
          "2016-11-01T00:00:00",
          "2016-12-01T00:00:00",
          "2017-01-01T00:00:00",
          "2017-02-01T00:00:00"
         ],
         "y": [
          0.031048387096774197,
          0.015555555555555555,
          0.005376344086021506,
          0.14680555555555555,
          0.22930107526881718,
          0.10551075268817205,
          0.12236111111111113,
          0.005376344086021506,
          0,
          0,
          0,
          0.003720238095238095,
          0.004435483870967742,
          0.010972222222222222,
          0.08548387096774193,
          0.10513888888888889,
          0.07069892473118279,
          0.05887096774193548,
          0.08472222222222223,
          0.02889784946236559,
          0,
          0,
          0.00040322580645161296,
          0.007142857142857143,
          0,
          0.03777777777777778,
          0.052822580645161286,
          0.10333333333333335,
          0.36451612903225805,
          0.09811827956989247,
          0.20833333333333334,
          0.014112903225806451,
          0.09416666666666666,
          0.004166666666666667,
          0.00040322580645161296,
          0.007758620689655173,
          0,
          0.012222222222222223,
          0.04865591397849463,
          0.08013888888888888,
          0.3666666666666667,
          0.06532258064516129,
          0.07277777777777777,
          0.11021505376344086,
          0.012777777777777777,
          0,
          0,
          0.002976190476190476
         ]
        },
        {
         "mode": "lines",
         "name": "Dongsi",
         "type": "scatter",
         "x": [
          "2013-03-01T00:00:00",
          "2013-04-01T00:00:00",
          "2013-05-01T00:00:00",
          "2013-06-01T00:00:00",
          "2013-07-01T00:00:00",
          "2013-08-01T00:00:00",
          "2013-09-01T00:00:00",
          "2013-10-01T00:00:00",
          "2013-11-01T00:00:00",
          "2013-12-01T00:00:00",
          "2014-01-01T00:00:00",
          "2014-02-01T00:00:00",
          "2014-03-01T00:00:00",
          "2014-04-01T00:00:00",
          "2014-05-01T00:00:00",
          "2014-06-01T00:00:00",
          "2014-07-01T00:00:00",
          "2014-08-01T00:00:00",
          "2014-09-01T00:00:00",
          "2014-10-01T00:00:00",
          "2014-11-01T00:00:00",
          "2014-12-01T00:00:00",
          "2015-01-01T00:00:00",
          "2015-02-01T00:00:00",
          "2015-03-01T00:00:00",
          "2015-04-01T00:00:00",
          "2015-05-01T00:00:00",
          "2015-06-01T00:00:00",
          "2015-07-01T00:00:00",
          "2015-08-01T00:00:00",
          "2015-09-01T00:00:00",
          "2015-10-01T00:00:00",
          "2015-11-01T00:00:00",
          "2015-12-01T00:00:00",
          "2016-01-01T00:00:00",
          "2016-02-01T00:00:00",
          "2016-03-01T00:00:00",
          "2016-04-01T00:00:00",
          "2016-05-01T00:00:00",
          "2016-06-01T00:00:00",
          "2016-07-01T00:00:00",
          "2016-08-01T00:00:00",
          "2016-09-01T00:00:00",
          "2016-10-01T00:00:00",
          "2016-11-01T00:00:00",
          "2016-12-01T00:00:00",
          "2017-01-01T00:00:00",
          "2017-02-01T00:00:00"
         ],
         "y": [
          0.02096774193548387,
          0.012222222222222223,
          0.003360215053763441,
          0.09791666666666667,
          0.2639784946236559,
          0.07258064516129033,
          0.07666666666666667,
          0.030645161290322583,
          0,
          0,
          0,
          0.01011904761904762,
          0.0008064516129032258,
          0.02791666666666667,
          0.08104838709677419,
          0.18277777777777776,
          0.09233870967741936,
          0.08064516129032258,
          0.15430555555555556,
          0.020026881720430108,
          0.0011111111111111111,
          0,
          0.00026881720430107527,
          0.012946428571428572,
          0.008870967741935484,
          0.055694444444444435,
          0.050134408602150536,
          0.13625,
          0.2701612903225806,
          0.12580645161290324,
          0.13722222222222222,
          0.019086021505376343,
          0.052222222222222225,
          0.0028225806451612906,
          0.0006720430107526882,
          0.018103448275862067,
          0,
          0.006666666666666668,
          0.04583333333333334,
          0.09916666666666668,
          0.42338709677419356,
          0.07244623655913979,
          0.1598611111111111,
          0.1174731182795699,
          0.007361111111111111,
          0,
          0.00040322580645161296,
          0.006101190476190475
         ]
        },
        {
         "mode": "lines",
         "name": "Guanyuan",
         "type": "scatter",
         "x": [
          "2013-03-01T00:00:00",
          "2013-04-01T00:00:00",
          "2013-05-01T00:00:00",
          "2013-06-01T00:00:00",
          "2013-07-01T00:00:00",
          "2013-08-01T00:00:00",
          "2013-09-01T00:00:00",
          "2013-10-01T00:00:00",
          "2013-11-01T00:00:00",
          "2013-12-01T00:00:00",
          "2014-01-01T00:00:00",
          "2014-02-01T00:00:00",
          "2014-03-01T00:00:00",
          "2014-04-01T00:00:00",
          "2014-05-01T00:00:00",
          "2014-06-01T00:00:00",
          "2014-07-01T00:00:00",
          "2014-08-01T00:00:00",
          "2014-09-01T00:00:00",
          "2014-10-01T00:00:00",
          "2014-11-01T00:00:00",
          "2014-12-01T00:00:00",
          "2015-01-01T00:00:00",
          "2015-02-01T00:00:00",
          "2015-03-01T00:00:00",
          "2015-04-01T00:00:00",
          "2015-05-01T00:00:00",
          "2015-06-01T00:00:00",
          "2015-07-01T00:00:00",
          "2015-08-01T00:00:00",
          "2015-09-01T00:00:00",
          "2015-10-01T00:00:00",
          "2015-11-01T00:00:00",
          "2015-12-01T00:00:00",
          "2016-01-01T00:00:00",
          "2016-02-01T00:00:00",
          "2016-03-01T00:00:00",
          "2016-04-01T00:00:00",
          "2016-05-01T00:00:00",
          "2016-06-01T00:00:00",
          "2016-07-01T00:00:00",
          "2016-08-01T00:00:00",
          "2016-09-01T00:00:00",
          "2016-10-01T00:00:00",
          "2016-11-01T00:00:00",
          "2016-12-01T00:00:00",
          "2017-01-01T00:00:00",
          "2017-02-01T00:00:00"
         ],
         "y": [
          0.02620967741935484,
          0.01513888888888889,
          0.0077956989247311825,
          0.13069444444444445,
          0.2938172043010753,
          0.15806451612903225,
          0.07833333333333334,
          0.003763440860215054,
          0,
          0,
          0,
          0.008482142857142858,
          0.0012096774193548388,
          0.016666666666666666,
          0.08588709677419355,
          0.26319444444444445,
          0.08158602150537635,
          0.10981182795698925,
          0.09388888888888888,
          0.017741935483870968,
          0.0009722222222222222,
          0,
          0.00026881720430107527,
          0.010416666666666666,
          0.008870967741935484,
          0.055694444444444435,
          0.050134408602150536,
          0.13625,
          0.2701612903225806,
          0.12580645161290324,
          0.13722222222222222,
          0.019086021505376343,
          0.052222222222222225,
          0.0028225806451612906,
          0.0006720430107526882,
          0.018103448275862067,
          0,
          0.006666666666666668,
          0.04583333333333334,
          0.09916666666666668,
          0.42338709677419356,
          0.07244623655913979,
          0.1598611111111111,
          0.1174731182795699,
          0.007361111111111111,
          0,
          0.00040322580645161296,
          0.006101190476190475
         ]
        },
        {
         "mode": "lines",
         "name": "Gucheng",
         "type": "scatter",
         "x": [
          "2013-03-01T00:00:00",
          "2013-04-01T00:00:00",
          "2013-05-01T00:00:00",
          "2013-06-01T00:00:00",
          "2013-07-01T00:00:00",
          "2013-08-01T00:00:00",
          "2013-09-01T00:00:00",
          "2013-10-01T00:00:00",
          "2013-11-01T00:00:00",
          "2013-12-01T00:00:00",
          "2014-01-01T00:00:00",
          "2014-02-01T00:00:00",
          "2014-03-01T00:00:00",
          "2014-04-01T00:00:00",
          "2014-05-01T00:00:00",
          "2014-06-01T00:00:00",
          "2014-07-01T00:00:00",
          "2014-08-01T00:00:00",
          "2014-09-01T00:00:00",
          "2014-10-01T00:00:00",
          "2014-11-01T00:00:00",
          "2014-12-01T00:00:00",
          "2015-01-01T00:00:00",
          "2015-02-01T00:00:00",
          "2015-03-01T00:00:00",
          "2015-04-01T00:00:00",
          "2015-05-01T00:00:00",
          "2015-06-01T00:00:00",
          "2015-07-01T00:00:00",
          "2015-08-01T00:00:00",
          "2015-09-01T00:00:00",
          "2015-10-01T00:00:00",
          "2015-11-01T00:00:00",
          "2015-12-01T00:00:00",
          "2016-01-01T00:00:00",
          "2016-02-01T00:00:00",
          "2016-03-01T00:00:00",
          "2016-04-01T00:00:00",
          "2016-05-01T00:00:00",
          "2016-06-01T00:00:00",
          "2016-07-01T00:00:00",
          "2016-08-01T00:00:00",
          "2016-09-01T00:00:00",
          "2016-10-01T00:00:00",
          "2016-11-01T00:00:00",
          "2016-12-01T00:00:00",
          "2017-01-01T00:00:00",
          "2017-02-01T00:00:00"
         ],
         "y": [
          0.020161290322580645,
          0.013888888888888888,
          0.010349462365591398,
          0.09916666666666668,
          0.2971774193548387,
          0.0913978494623656,
          0.15833333333333333,
          0.009005376344086023,
          0.0002777777777777778,
          0,
          0,
          0.011011904761904763,
          0.001075268817204301,
          0.01916666666666667,
          0.07043010752688172,
          0.11972222222222223,
          0.09395161290322579,
          0.05322580645161291,
          0.05708333333333333,
          0.015860215053763442,
          0.0002777777777777778,
          0,
          0,
          0.011904761904761904,
          0.00040322580645161296,
          0.041805555555555554,
          0.046370967741935484,
          0.11486111111111111,
          0.2537634408602151,
          0.14327956989247312,
          0.2633333333333333,
          0.01881720430107527,
          0.06694444444444445,
          0.005376344086021506,
          0,
          0.011637931034482758,
          0,
          0.009305555555555556,
          0.03400537634408602,
          0.07722222222222222,
          0.4786290322580645,
          0.09018817204301074,
          0.10625,
          0.1349462365591398,
          0.018611111111111113,
          0,
          0,
          0.005803571428571429
         ]
        },
        {
         "mode": "lines",
         "name": "Huairou",
         "type": "scatter",
         "x": [
          "2013-03-01T00:00:00",
          "2013-04-01T00:00:00",
          "2013-05-01T00:00:00",
          "2013-06-01T00:00:00",
          "2013-07-01T00:00:00",
          "2013-08-01T00:00:00",
          "2013-09-01T00:00:00",
          "2013-10-01T00:00:00",
          "2013-11-01T00:00:00",
          "2013-12-01T00:00:00",
          "2014-01-01T00:00:00",
          "2014-02-01T00:00:00",
          "2014-03-01T00:00:00",
          "2014-04-01T00:00:00",
          "2014-05-01T00:00:00",
          "2014-06-01T00:00:00",
          "2014-07-01T00:00:00",
          "2014-08-01T00:00:00",
          "2014-09-01T00:00:00",
          "2014-10-01T00:00:00",
          "2014-11-01T00:00:00",
          "2014-12-01T00:00:00",
          "2015-01-01T00:00:00",
          "2015-02-01T00:00:00",
          "2015-03-01T00:00:00",
          "2015-04-01T00:00:00",
          "2015-05-01T00:00:00",
          "2015-06-01T00:00:00",
          "2015-07-01T00:00:00",
          "2015-08-01T00:00:00",
          "2015-09-01T00:00:00",
          "2015-10-01T00:00:00",
          "2015-11-01T00:00:00",
          "2015-12-01T00:00:00",
          "2016-01-01T00:00:00",
          "2016-02-01T00:00:00",
          "2016-03-01T00:00:00",
          "2016-04-01T00:00:00",
          "2016-05-01T00:00:00",
          "2016-06-01T00:00:00",
          "2016-07-01T00:00:00",
          "2016-08-01T00:00:00",
          "2016-09-01T00:00:00",
          "2016-10-01T00:00:00",
          "2016-11-01T00:00:00",
          "2016-12-01T00:00:00",
          "2017-01-01T00:00:00",
          "2017-02-01T00:00:00"
         ],
         "y": [
          0.01747311827956989,
          0.017499999999999998,
          0.005241935483870967,
          0.1838888888888889,
          0.3275537634408602,
          0.10094086021505376,
          0.05291666666666667,
          0.016666666666666666,
          0,
          0,
          0,
          0.006696428571428571,
          0.006586021505376344,
          0.019583333333333335,
          0.05981182795698925,
          0.13041666666666668,
          0.16680107526881718,
          0.06491935483870967,
          0.12263888888888888,
          0.03575268817204301,
          0.0001388888888888889,
          0.019220430107526883,
          0.0013440860215053765,
          0.01220238095238095,
          0,
          0.03875,
          0.052822580645161286,
          0.11555555555555556,
          0.39919354838709675,
          0.14301075268817204,
          0.11833333333333333,
          0.011021505376344087,
          0.06833333333333334,
          0.0028225806451612906,
          0.0017473118279569893,
          0.014655172413793103,
          0,
          0.016527777777777777,
          0.051075268817204304,
          0.20805555555555558,
          0.31223118279569895,
          0.09637096774193549,
          0.10708333333333332,
          0.09260752688172044,
          0.018472222222222223,
          0,
          0.0013440860215053765,
          0.006845238095238094
         ]
        },
        {
         "mode": "lines",
         "name": "Nongzhanguan",
         "type": "scatter",
         "x": [
          "2013-03-01T00:00:00",
          "2013-04-01T00:00:00",
          "2013-05-01T00:00:00",
          "2013-06-01T00:00:00",
          "2013-07-01T00:00:00",
          "2013-08-01T00:00:00",
          "2013-09-01T00:00:00",
          "2013-10-01T00:00:00",
          "2013-11-01T00:00:00",
          "2013-12-01T00:00:00",
          "2014-01-01T00:00:00",
          "2014-02-01T00:00:00",
          "2014-03-01T00:00:00",
          "2014-04-01T00:00:00",
          "2014-05-01T00:00:00",
          "2014-06-01T00:00:00",
          "2014-07-01T00:00:00",
          "2014-08-01T00:00:00",
          "2014-09-01T00:00:00",
          "2014-10-01T00:00:00",
          "2014-11-01T00:00:00",
          "2014-12-01T00:00:00",
          "2015-01-01T00:00:00",
          "2015-02-01T00:00:00",
          "2015-03-01T00:00:00",
          "2015-04-01T00:00:00",
          "2015-05-01T00:00:00",
          "2015-06-01T00:00:00",
          "2015-07-01T00:00:00",
          "2015-08-01T00:00:00",
          "2015-09-01T00:00:00",
          "2015-10-01T00:00:00",
          "2015-11-01T00:00:00",
          "2015-12-01T00:00:00",
          "2016-01-01T00:00:00",
          "2016-02-01T00:00:00",
          "2016-03-01T00:00:00",
          "2016-04-01T00:00:00",
          "2016-05-01T00:00:00",
          "2016-06-01T00:00:00",
          "2016-07-01T00:00:00",
          "2016-08-01T00:00:00",
          "2016-09-01T00:00:00",
          "2016-10-01T00:00:00",
          "2016-11-01T00:00:00",
          "2016-12-01T00:00:00",
          "2017-01-01T00:00:00",
          "2017-02-01T00:00:00"
         ],
         "y": [
          0.02096774193548387,
          0.012222222222222223,
          0.003360215053763441,
          0.09791666666666667,
          0.2639784946236559,
          0.07258064516129033,
          0.07666666666666667,
          0.030645161290322583,
          0,
          0,
          0,
          0.01011904761904762,
          0.0008064516129032258,
          0.02791666666666667,
          0.08104838709677419,
          0.18277777777777776,
          0.09233870967741936,
          0.08064516129032258,
          0.15430555555555556,
          0.020026881720430108,
          0.0011111111111111111,
          0,
          0.00026881720430107527,
          0.012946428571428572,
          0.008870967741935484,
          0.055694444444444435,
          0.050134408602150536,
          0.13625,
          0.2701612903225806,
          0.12580645161290324,
          0.13722222222222222,
          0.019086021505376343,
          0.052222222222222225,
          0.0028225806451612906,
          0.0006720430107526882,
          0.018103448275862067,
          0,
          0.006666666666666668,
          0.04583333333333334,
          0.09916666666666668,
          0.42338709677419356,
          0.07244623655913979,
          0.1598611111111111,
          0.1174731182795699,
          0.007361111111111111,
          0,
          0.00040322580645161296,
          0.006101190476190475
         ]
        },
        {
         "mode": "lines",
         "name": "Shunyi",
         "type": "scatter",
         "x": [
          "2013-03-01T00:00:00",
          "2013-04-01T00:00:00",
          "2013-05-01T00:00:00",
          "2013-06-01T00:00:00",
          "2013-07-01T00:00:00",
          "2013-08-01T00:00:00",
          "2013-09-01T00:00:00",
          "2013-10-01T00:00:00",
          "2013-11-01T00:00:00",
          "2013-12-01T00:00:00",
          "2014-01-01T00:00:00",
          "2014-02-01T00:00:00",
          "2014-03-01T00:00:00",
          "2014-04-01T00:00:00",
          "2014-05-01T00:00:00",
          "2014-06-01T00:00:00",
          "2014-07-01T00:00:00",
          "2014-08-01T00:00:00",
          "2014-09-01T00:00:00",
          "2014-10-01T00:00:00",
          "2014-11-01T00:00:00",
          "2014-12-01T00:00:00",
          "2015-01-01T00:00:00",
          "2015-02-01T00:00:00",
          "2015-03-01T00:00:00",
          "2015-04-01T00:00:00",
          "2015-05-01T00:00:00",
          "2015-06-01T00:00:00",
          "2015-07-01T00:00:00",
          "2015-08-01T00:00:00",
          "2015-09-01T00:00:00",
          "2015-10-01T00:00:00",
          "2015-11-01T00:00:00",
          "2015-12-01T00:00:00",
          "2016-01-01T00:00:00",
          "2016-02-01T00:00:00",
          "2016-03-01T00:00:00",
          "2016-04-01T00:00:00",
          "2016-05-01T00:00:00",
          "2016-06-01T00:00:00",
          "2016-07-01T00:00:00",
          "2016-08-01T00:00:00",
          "2016-09-01T00:00:00",
          "2016-10-01T00:00:00",
          "2016-11-01T00:00:00",
          "2016-12-01T00:00:00",
          "2017-01-01T00:00:00",
          "2017-02-01T00:00:00"
         ],
         "y": [
          0.02029569892473118,
          0.012777777777777779,
          0.0020161290322580645,
          0.15430555555555556,
          0.2684139784946237,
          0.12043010752688171,
          0.058472222222222224,
          0.010483870967741934,
          0,
          0,
          0,
          0.005952380952380952,
          0.00026881720430107527,
          0.020416666666666666,
          0.048118279569892466,
          0.1061111111111111,
          0.12284946236559138,
          0.0771505376344086,
          0.21444444444444447,
          0.014247311827956988,
          0.00125,
          0,
          0.00040322580645161296,
          0.01331845238095238,
          0.0014784946236559141,
          0.050416666666666665,
          0.04516129032258065,
          0.16458333333333333,
          0.33064516129032256,
          0.07500000000000001,
          0.15763888888888888,
          0.012231182795698924,
          0.05958333333333333,
          0.0030913978494623655,
          0.0016129032258064516,
          0.013218390804597701,
          0,
          0.007638888888888889,
          0.07647849462365591,
          0.15013888888888888,
          0.2743279569892473,
          0.050268817204301076,
          0.07277777777777777,
          0.09274193548387097,
          0.0020833333333333333,
          0,
          0,
          0.005505952380952381
         ]
        },
        {
         "mode": "lines",
         "name": "Tiantan",
         "type": "scatter",
         "x": [
          "2013-03-01T00:00:00",
          "2013-04-01T00:00:00",
          "2013-05-01T00:00:00",
          "2013-06-01T00:00:00",
          "2013-07-01T00:00:00",
          "2013-08-01T00:00:00",
          "2013-09-01T00:00:00",
          "2013-10-01T00:00:00",
          "2013-11-01T00:00:00",
          "2013-12-01T00:00:00",
          "2014-01-01T00:00:00",
          "2014-02-01T00:00:00",
          "2014-03-01T00:00:00",
          "2014-04-01T00:00:00",
          "2014-05-01T00:00:00",
          "2014-06-01T00:00:00",
          "2014-07-01T00:00:00",
          "2014-08-01T00:00:00",
          "2014-09-01T00:00:00",
          "2014-10-01T00:00:00",
          "2014-11-01T00:00:00",
          "2014-12-01T00:00:00",
          "2015-01-01T00:00:00",
          "2015-02-01T00:00:00",
          "2015-03-01T00:00:00",
          "2015-04-01T00:00:00",
          "2015-05-01T00:00:00",
          "2015-06-01T00:00:00",
          "2015-07-01T00:00:00",
          "2015-08-01T00:00:00",
          "2015-09-01T00:00:00",
          "2015-10-01T00:00:00",
          "2015-11-01T00:00:00",
          "2015-12-01T00:00:00",
          "2016-01-01T00:00:00",
          "2016-02-01T00:00:00",
          "2016-03-01T00:00:00",
          "2016-04-01T00:00:00",
          "2016-05-01T00:00:00",
          "2016-06-01T00:00:00",
          "2016-07-01T00:00:00",
          "2016-08-01T00:00:00",
          "2016-09-01T00:00:00",
          "2016-10-01T00:00:00",
          "2016-11-01T00:00:00",
          "2016-12-01T00:00:00",
          "2017-01-01T00:00:00",
          "2017-02-01T00:00:00"
         ],
         "y": [
          0.02096774193548387,
          0.012222222222222223,
          0.003360215053763441,
          0.09791666666666667,
          0.2639784946236559,
          0.07258064516129033,
          0.07666666666666667,
          0.030645161290322583,
          0,
          0,
          0,
          0.01011904761904762,
          0.0008064516129032258,
          0.02791666666666667,
          0.08104838709677419,
          0.18277777777777776,
          0.09233870967741936,
          0.08064516129032258,
          0.15430555555555556,
          0.020026881720430108,
          0.0011111111111111111,
          0,
          0.00026881720430107527,
          0.012946428571428572,
          0.008870967741935484,
          0.055694444444444435,
          0.050134408602150536,
          0.13625,
          0.2701612903225806,
          0.12580645161290324,
          0.13722222222222222,
          0.019086021505376343,
          0.052222222222222225,
          0.0028225806451612906,
          0.0006720430107526882,
          0.018103448275862067,
          0,
          0.006666666666666668,
          0.04583333333333334,
          0.09916666666666668,
          0.42338709677419356,
          0.07244623655913979,
          0.1598611111111111,
          0.1174731182795699,
          0.007361111111111111,
          0,
          0.00040322580645161296,
          0.006101190476190475
         ]
        },
        {
         "mode": "lines",
         "name": "Wanliu",
         "type": "scatter",
         "x": [
          "2013-03-01T00:00:00",
          "2013-04-01T00:00:00",
          "2013-05-01T00:00:00",
          "2013-06-01T00:00:00",
          "2013-07-01T00:00:00",
          "2013-08-01T00:00:00",
          "2013-09-01T00:00:00",
          "2013-10-01T00:00:00",
          "2013-11-01T00:00:00",
          "2013-12-01T00:00:00",
          "2014-01-01T00:00:00",
          "2014-02-01T00:00:00",
          "2014-03-01T00:00:00",
          "2014-04-01T00:00:00",
          "2014-05-01T00:00:00",
          "2014-06-01T00:00:00",
          "2014-07-01T00:00:00",
          "2014-08-01T00:00:00",
          "2014-09-01T00:00:00",
          "2014-10-01T00:00:00",
          "2014-11-01T00:00:00",
          "2014-12-01T00:00:00",
          "2015-01-01T00:00:00",
          "2015-02-01T00:00:00",
          "2015-03-01T00:00:00",
          "2015-04-01T00:00:00",
          "2015-05-01T00:00:00",
          "2015-06-01T00:00:00",
          "2015-07-01T00:00:00",
          "2015-08-01T00:00:00",
          "2015-09-01T00:00:00",
          "2015-10-01T00:00:00",
          "2015-11-01T00:00:00",
          "2015-12-01T00:00:00",
          "2016-01-01T00:00:00",
          "2016-02-01T00:00:00",
          "2016-03-01T00:00:00",
          "2016-04-01T00:00:00",
          "2016-05-01T00:00:00",
          "2016-06-01T00:00:00",
          "2016-07-01T00:00:00",
          "2016-08-01T00:00:00",
          "2016-09-01T00:00:00",
          "2016-10-01T00:00:00",
          "2016-11-01T00:00:00",
          "2016-12-01T00:00:00",
          "2017-01-01T00:00:00",
          "2017-02-01T00:00:00"
         ],
         "y": [
          0.02620967741935484,
          0.01513888888888889,
          0.0077956989247311825,
          0.13069444444444445,
          0.2938172043010753,
          0.15806451612903225,
          0.07833333333333334,
          0.003763440860215054,
          0,
          0,
          0,
          0.008482142857142858,
          0.0012096774193548388,
          0.016666666666666666,
          0.08548387096774193,
          0.26319444444444445,
          0.08158602150537635,
          0.10981182795698925,
          0.09388888888888888,
          0.017741935483870968,
          0.0009722222222222222,
          0,
          0.00026881720430107527,
          0.010267857142857143,
          0.0008064516129032258,
          0.04597222222222223,
          0.046505376344086025,
          0.0636111111111111,
          0.26411290322580644,
          0.1086021505376344,
          0.225,
          0.02056451612903226,
          0.07597222222222223,
          0.005645161290322581,
          0.00013440860215053763,
          0.0117816091954023,
          0,
          0.009444444444444445,
          0.05994623655913979,
          0.08902777777777778,
          0.5020161290322581,
          0.075,
          0.1175,
          0.10793010752688172,
          0.019444444444444445,
          0,
          0.00013440860215053763,
          0.006101190476190475
         ]
        },
        {
         "mode": "lines",
         "name": "Wanshouxigong",
         "type": "scatter",
         "x": [
          "2013-03-01T00:00:00",
          "2013-04-01T00:00:00",
          "2013-05-01T00:00:00",
          "2013-06-01T00:00:00",
          "2013-07-01T00:00:00",
          "2013-08-01T00:00:00",
          "2013-09-01T00:00:00",
          "2013-10-01T00:00:00",
          "2013-11-01T00:00:00",
          "2013-12-01T00:00:00",
          "2014-01-01T00:00:00",
          "2014-02-01T00:00:00",
          "2014-03-01T00:00:00",
          "2014-04-01T00:00:00",
          "2014-05-01T00:00:00",
          "2014-06-01T00:00:00",
          "2014-07-01T00:00:00",
          "2014-08-01T00:00:00",
          "2014-09-01T00:00:00",
          "2014-10-01T00:00:00",
          "2014-11-01T00:00:00",
          "2014-12-01T00:00:00",
          "2015-01-01T00:00:00",
          "2015-02-01T00:00:00",
          "2015-03-01T00:00:00",
          "2015-04-01T00:00:00",
          "2015-05-01T00:00:00",
          "2015-06-01T00:00:00",
          "2015-07-01T00:00:00",
          "2015-08-01T00:00:00",
          "2015-09-01T00:00:00",
          "2015-10-01T00:00:00",
          "2015-11-01T00:00:00",
          "2015-12-01T00:00:00",
          "2016-01-01T00:00:00",
          "2016-02-01T00:00:00",
          "2016-03-01T00:00:00",
          "2016-04-01T00:00:00",
          "2016-05-01T00:00:00",
          "2016-06-01T00:00:00",
          "2016-07-01T00:00:00",
          "2016-08-01T00:00:00",
          "2016-09-01T00:00:00",
          "2016-10-01T00:00:00",
          "2016-11-01T00:00:00",
          "2016-12-01T00:00:00",
          "2017-01-01T00:00:00",
          "2017-02-01T00:00:00"
         ],
         "y": [
          0.02365591397849462,
          0.014166666666666666,
          0.007661290322580646,
          0.10152777777777777,
          0.28024193548387094,
          0.0907258064516129,
          0.11499999999999999,
          0.017069892473118277,
          0.0008333333333333335,
          0,
          0,
          0.009821428571428573,
          0.00013440860215053763,
          0.018055555555555554,
          0.09153225806451612,
          0.19805555555555554,
          0.0581989247311828,
          0.13817204301075267,
          0.05472222222222222,
          0.01827956989247312,
          0.00041666666666666664,
          0,
          0.0005376344086021505,
          0.016815476190476193,
          0.008870967741935484,
          0.055694444444444435,
          0.050134408602150536,
          0.13625,
          0.2701612903225806,
          0.12580645161290324,
          0.13722222222222222,
          0.019086021505376343,
          0.052222222222222225,
          0.0028225806451612906,
          0.0006720430107526882,
          0.018103448275862067,
          0,
          0.006666666666666668,
          0.04583333333333334,
          0.09916666666666668,
          0.42338709677419356,
          0.07244623655913979,
          0.1598611111111111,
          0.1174731182795699,
          0.007361111111111111,
          0,
          0.00040322580645161296,
          0.006101190476190475
         ]
        }
       ],
       "layout": {
        "plot_bgcolor": "white",
        "showlegend": true,
        "template": {
         "data": {
          "bar": [
           {
            "error_x": {
             "color": "#2a3f5f"
            },
            "error_y": {
             "color": "#2a3f5f"
            },
            "marker": {
             "line": {
              "color": "#E5ECF6",
              "width": 0.5
             },
             "pattern": {
              "fillmode": "overlay",
              "size": 10,
              "solidity": 0.2
             }
            },
            "type": "bar"
           }
          ],
          "barpolar": [
           {
            "marker": {
             "line": {
              "color": "#E5ECF6",
              "width": 0.5
             },
             "pattern": {
              "fillmode": "overlay",
              "size": 10,
              "solidity": 0.2
             }
            },
            "type": "barpolar"
           }
          ],
          "carpet": [
           {
            "aaxis": {
             "endlinecolor": "#2a3f5f",
             "gridcolor": "white",
             "linecolor": "white",
             "minorgridcolor": "white",
             "startlinecolor": "#2a3f5f"
            },
            "baxis": {
             "endlinecolor": "#2a3f5f",
             "gridcolor": "white",
             "linecolor": "white",
             "minorgridcolor": "white",
             "startlinecolor": "#2a3f5f"
            },
            "type": "carpet"
           }
          ],
          "choropleth": [
           {
            "colorbar": {
             "outlinewidth": 0,
             "ticks": ""
            },
            "type": "choropleth"
           }
          ],
          "contour": [
           {
            "colorbar": {
             "outlinewidth": 0,
             "ticks": ""
            },
            "colorscale": [
             [
              0,
              "#0d0887"
             ],
             [
              0.1111111111111111,
              "#46039f"
             ],
             [
              0.2222222222222222,
              "#7201a8"
             ],
             [
              0.3333333333333333,
              "#9c179e"
             ],
             [
              0.4444444444444444,
              "#bd3786"
             ],
             [
              0.5555555555555556,
              "#d8576b"
             ],
             [
              0.6666666666666666,
              "#ed7953"
             ],
             [
              0.7777777777777778,
              "#fb9f3a"
             ],
             [
              0.8888888888888888,
              "#fdca26"
             ],
             [
              1,
              "#f0f921"
             ]
            ],
            "type": "contour"
           }
          ],
          "contourcarpet": [
           {
            "colorbar": {
             "outlinewidth": 0,
             "ticks": ""
            },
            "type": "contourcarpet"
           }
          ],
          "heatmap": [
           {
            "colorbar": {
             "outlinewidth": 0,
             "ticks": ""
            },
            "colorscale": [
             [
              0,
              "#0d0887"
             ],
             [
              0.1111111111111111,
              "#46039f"
             ],
             [
              0.2222222222222222,
              "#7201a8"
             ],
             [
              0.3333333333333333,
              "#9c179e"
             ],
             [
              0.4444444444444444,
              "#bd3786"
             ],
             [
              0.5555555555555556,
              "#d8576b"
             ],
             [
              0.6666666666666666,
              "#ed7953"
             ],
             [
              0.7777777777777778,
              "#fb9f3a"
             ],
             [
              0.8888888888888888,
              "#fdca26"
             ],
             [
              1,
              "#f0f921"
             ]
            ],
            "type": "heatmap"
           }
          ],
          "heatmapgl": [
           {
            "colorbar": {
             "outlinewidth": 0,
             "ticks": ""
            },
            "colorscale": [
             [
              0,
              "#0d0887"
             ],
             [
              0.1111111111111111,
              "#46039f"
             ],
             [
              0.2222222222222222,
              "#7201a8"
             ],
             [
              0.3333333333333333,
              "#9c179e"
             ],
             [
              0.4444444444444444,
              "#bd3786"
             ],
             [
              0.5555555555555556,
              "#d8576b"
             ],
             [
              0.6666666666666666,
              "#ed7953"
             ],
             [
              0.7777777777777778,
              "#fb9f3a"
             ],
             [
              0.8888888888888888,
              "#fdca26"
             ],
             [
              1,
              "#f0f921"
             ]
            ],
            "type": "heatmapgl"
           }
          ],
          "histogram": [
           {
            "marker": {
             "pattern": {
              "fillmode": "overlay",
              "size": 10,
              "solidity": 0.2
             }
            },
            "type": "histogram"
           }
          ],
          "histogram2d": [
           {
            "colorbar": {
             "outlinewidth": 0,
             "ticks": ""
            },
            "colorscale": [
             [
              0,
              "#0d0887"
             ],
             [
              0.1111111111111111,
              "#46039f"
             ],
             [
              0.2222222222222222,
              "#7201a8"
             ],
             [
              0.3333333333333333,
              "#9c179e"
             ],
             [
              0.4444444444444444,
              "#bd3786"
             ],
             [
              0.5555555555555556,
              "#d8576b"
             ],
             [
              0.6666666666666666,
              "#ed7953"
             ],
             [
              0.7777777777777778,
              "#fb9f3a"
             ],
             [
              0.8888888888888888,
              "#fdca26"
             ],
             [
              1,
              "#f0f921"
             ]
            ],
            "type": "histogram2d"
           }
          ],
          "histogram2dcontour": [
           {
            "colorbar": {
             "outlinewidth": 0,
             "ticks": ""
            },
            "colorscale": [
             [
              0,
              "#0d0887"
             ],
             [
              0.1111111111111111,
              "#46039f"
             ],
             [
              0.2222222222222222,
              "#7201a8"
             ],
             [
              0.3333333333333333,
              "#9c179e"
             ],
             [
              0.4444444444444444,
              "#bd3786"
             ],
             [
              0.5555555555555556,
              "#d8576b"
             ],
             [
              0.6666666666666666,
              "#ed7953"
             ],
             [
              0.7777777777777778,
              "#fb9f3a"
             ],
             [
              0.8888888888888888,
              "#fdca26"
             ],
             [
              1,
              "#f0f921"
             ]
            ],
            "type": "histogram2dcontour"
           }
          ],
          "mesh3d": [
           {
            "colorbar": {
             "outlinewidth": 0,
             "ticks": ""
            },
            "type": "mesh3d"
           }
          ],
          "parcoords": [
           {
            "line": {
             "colorbar": {
              "outlinewidth": 0,
              "ticks": ""
             }
            },
            "type": "parcoords"
           }
          ],
          "pie": [
           {
            "automargin": true,
            "type": "pie"
           }
          ],
          "scatter": [
           {
            "fillpattern": {
             "fillmode": "overlay",
             "size": 10,
             "solidity": 0.2
            },
            "type": "scatter"
           }
          ],
          "scatter3d": [
           {
            "line": {
             "colorbar": {
              "outlinewidth": 0,
              "ticks": ""
             }
            },
            "marker": {
             "colorbar": {
              "outlinewidth": 0,
              "ticks": ""
             }
            },
            "type": "scatter3d"
           }
          ],
          "scattercarpet": [
           {
            "marker": {
             "colorbar": {
              "outlinewidth": 0,
              "ticks": ""
             }
            },
            "type": "scattercarpet"
           }
          ],
          "scattergeo": [
           {
            "marker": {
             "colorbar": {
              "outlinewidth": 0,
              "ticks": ""
             }
            },
            "type": "scattergeo"
           }
          ],
          "scattergl": [
           {
            "marker": {
             "colorbar": {
              "outlinewidth": 0,
              "ticks": ""
             }
            },
            "type": "scattergl"
           }
          ],
          "scattermapbox": [
           {
            "marker": {
             "colorbar": {
              "outlinewidth": 0,
              "ticks": ""
             }
            },
            "type": "scattermapbox"
           }
          ],
          "scatterpolar": [
           {
            "marker": {
             "colorbar": {
              "outlinewidth": 0,
              "ticks": ""
             }
            },
            "type": "scatterpolar"
           }
          ],
          "scatterpolargl": [
           {
            "marker": {
             "colorbar": {
              "outlinewidth": 0,
              "ticks": ""
             }
            },
            "type": "scatterpolargl"
           }
          ],
          "scatterternary": [
           {
            "marker": {
             "colorbar": {
              "outlinewidth": 0,
              "ticks": ""
             }
            },
            "type": "scatterternary"
           }
          ],
          "surface": [
           {
            "colorbar": {
             "outlinewidth": 0,
             "ticks": ""
            },
            "colorscale": [
             [
              0,
              "#0d0887"
             ],
             [
              0.1111111111111111,
              "#46039f"
             ],
             [
              0.2222222222222222,
              "#7201a8"
             ],
             [
              0.3333333333333333,
              "#9c179e"
             ],
             [
              0.4444444444444444,
              "#bd3786"
             ],
             [
              0.5555555555555556,
              "#d8576b"
             ],
             [
              0.6666666666666666,
              "#ed7953"
             ],
             [
              0.7777777777777778,
              "#fb9f3a"
             ],
             [
              0.8888888888888888,
              "#fdca26"
             ],
             [
              1,
              "#f0f921"
             ]
            ],
            "type": "surface"
           }
          ],
          "table": [
           {
            "cells": {
             "fill": {
              "color": "#EBF0F8"
             },
             "line": {
              "color": "white"
             }
            },
            "header": {
             "fill": {
              "color": "#C8D4E3"
             },
             "line": {
              "color": "white"
             }
            },
            "type": "table"
           }
          ]
         },
         "layout": {
          "annotationdefaults": {
           "arrowcolor": "#2a3f5f",
           "arrowhead": 0,
           "arrowwidth": 1
          },
          "autotypenumbers": "strict",
          "coloraxis": {
           "colorbar": {
            "outlinewidth": 0,
            "ticks": ""
           }
          },
          "colorscale": {
           "diverging": [
            [
             0,
             "#8e0152"
            ],
            [
             0.1,
             "#c51b7d"
            ],
            [
             0.2,
             "#de77ae"
            ],
            [
             0.3,
             "#f1b6da"
            ],
            [
             0.4,
             "#fde0ef"
            ],
            [
             0.5,
             "#f7f7f7"
            ],
            [
             0.6,
             "#e6f5d0"
            ],
            [
             0.7,
             "#b8e186"
            ],
            [
             0.8,
             "#7fbc41"
            ],
            [
             0.9,
             "#4d9221"
            ],
            [
             1,
             "#276419"
            ]
           ],
           "sequential": [
            [
             0,
             "#0d0887"
            ],
            [
             0.1111111111111111,
             "#46039f"
            ],
            [
             0.2222222222222222,
             "#7201a8"
            ],
            [
             0.3333333333333333,
             "#9c179e"
            ],
            [
             0.4444444444444444,
             "#bd3786"
            ],
            [
             0.5555555555555556,
             "#d8576b"
            ],
            [
             0.6666666666666666,
             "#ed7953"
            ],
            [
             0.7777777777777778,
             "#fb9f3a"
            ],
            [
             0.8888888888888888,
             "#fdca26"
            ],
            [
             1,
             "#f0f921"
            ]
           ],
           "sequentialminus": [
            [
             0,
             "#0d0887"
            ],
            [
             0.1111111111111111,
             "#46039f"
            ],
            [
             0.2222222222222222,
             "#7201a8"
            ],
            [
             0.3333333333333333,
             "#9c179e"
            ],
            [
             0.4444444444444444,
             "#bd3786"
            ],
            [
             0.5555555555555556,
             "#d8576b"
            ],
            [
             0.6666666666666666,
             "#ed7953"
            ],
            [
             0.7777777777777778,
             "#fb9f3a"
            ],
            [
             0.8888888888888888,
             "#fdca26"
            ],
            [
             1,
             "#f0f921"
            ]
           ]
          },
          "colorway": [
           "#636efa",
           "#EF553B",
           "#00cc96",
           "#ab63fa",
           "#FFA15A",
           "#19d3f3",
           "#FF6692",
           "#B6E880",
           "#FF97FF",
           "#FECB52"
          ],
          "font": {
           "color": "#2a3f5f"
          },
          "geo": {
           "bgcolor": "white",
           "lakecolor": "white",
           "landcolor": "#E5ECF6",
           "showlakes": true,
           "showland": true,
           "subunitcolor": "white"
          },
          "hoverlabel": {
           "align": "left"
          },
          "hovermode": "closest",
          "mapbox": {
           "style": "light"
          },
          "paper_bgcolor": "white",
          "plot_bgcolor": "#E5ECF6",
          "polar": {
           "angularaxis": {
            "gridcolor": "white",
            "linecolor": "white",
            "ticks": ""
           },
           "bgcolor": "#E5ECF6",
           "radialaxis": {
            "gridcolor": "white",
            "linecolor": "white",
            "ticks": ""
           }
          },
          "scene": {
           "xaxis": {
            "backgroundcolor": "#E5ECF6",
            "gridcolor": "white",
            "gridwidth": 2,
            "linecolor": "white",
            "showbackground": true,
            "ticks": "",
            "zerolinecolor": "white"
           },
           "yaxis": {
            "backgroundcolor": "#E5ECF6",
            "gridcolor": "white",
            "gridwidth": 2,
            "linecolor": "white",
            "showbackground": true,
            "ticks": "",
            "zerolinecolor": "white"
           },
           "zaxis": {
            "backgroundcolor": "#E5ECF6",
            "gridcolor": "white",
            "gridwidth": 2,
            "linecolor": "white",
            "showbackground": true,
            "ticks": "",
            "zerolinecolor": "white"
           }
          },
          "shapedefaults": {
           "line": {
            "color": "#2a3f5f"
           }
          },
          "ternary": {
           "aaxis": {
            "gridcolor": "white",
            "linecolor": "white",
            "ticks": ""
           },
           "baxis": {
            "gridcolor": "white",
            "linecolor": "white",
            "ticks": ""
           },
           "bgcolor": "#E5ECF6",
           "caxis": {
            "gridcolor": "white",
            "linecolor": "white",
            "ticks": ""
           }
          },
          "title": {
           "x": 0.05
          },
          "xaxis": {
           "automargin": true,
           "gridcolor": "white",
           "linecolor": "white",
           "ticks": "",
           "title": {
            "standoff": 15
           },
           "zerolinecolor": "white",
           "zerolinewidth": 2
          },
          "yaxis": {
           "automargin": true,
           "gridcolor": "white",
           "linecolor": "white",
           "ticks": "",
           "title": {
            "standoff": 15
           },
           "zerolinecolor": "white",
           "zerolinewidth": 2
          }
         }
        },
        "title": {
         "text": "Average Precipitaion per Month"
        }
       }
      }
     },
     "metadata": {},
     "output_type": "display_data"
    }
   ],
   "source": [
    "fig = go.Figure()\n",
    "\n",
    "for station in stations:\n",
    "    fig.add_trace(go.Scatter(\n",
    "        x=v1[v1['station'] == station]['year_month'],\n",
    "        y=v1[v1['station'] == station]['RAIN'], \n",
    "        mode='lines', \n",
    "        name=station \n",
    "    ))\n",
    "\n",
    "fig.update_layout(\n",
    "    title='Average Precipitaion per Month',\n",
    "    showlegend=True,\n",
    "    plot_bgcolor='white',\n",
    ")"
   ]
  },
  {
   "cell_type": "markdown",
   "metadata": {},
   "source": [
    "Berdasarkan bantuan dari hasil analisis sebelumnya, dimana semakin rendah tekanan udara dan semakin tinggi suhu titik embun maka kemungkinan terjadi hujan akan lebih tinggi.\\\n",
    "Hal ini dapat dikonfirmasi pada grafik diatas dimana curah hujan tertinggi secara konsisten berada pada sekitar bulan juli dan terendah berada pada sekitar bulan januari."
   ]
  },
  {
   "cell_type": "code",
   "execution_count": 37,
   "metadata": {},
   "outputs": [
    {
     "data": {
      "application/vnd.plotly.v1+json": {
       "config": {
        "plotlyServerURL": "https://plot.ly"
       },
       "data": [
        {
         "mode": "lines",
         "name": "Aotizhongxin",
         "type": "scatter",
         "x": [
          "2013-03-01T00:00:00",
          "2013-04-01T00:00:00",
          "2013-05-01T00:00:00",
          "2013-06-01T00:00:00",
          "2013-07-01T00:00:00",
          "2013-08-01T00:00:00",
          "2013-09-01T00:00:00",
          "2013-10-01T00:00:00",
          "2013-11-01T00:00:00",
          "2013-12-01T00:00:00",
          "2014-01-01T00:00:00",
          "2014-02-01T00:00:00",
          "2014-03-01T00:00:00",
          "2014-04-01T00:00:00",
          "2014-05-01T00:00:00",
          "2014-06-01T00:00:00",
          "2014-07-01T00:00:00",
          "2014-08-01T00:00:00",
          "2014-09-01T00:00:00",
          "2014-10-01T00:00:00",
          "2014-11-01T00:00:00",
          "2014-12-01T00:00:00",
          "2015-01-01T00:00:00",
          "2015-02-01T00:00:00",
          "2015-03-01T00:00:00",
          "2015-04-01T00:00:00",
          "2015-05-01T00:00:00",
          "2015-06-01T00:00:00",
          "2015-07-01T00:00:00",
          "2015-08-01T00:00:00",
          "2015-09-01T00:00:00",
          "2015-10-01T00:00:00",
          "2015-11-01T00:00:00",
          "2015-12-01T00:00:00",
          "2016-01-01T00:00:00",
          "2016-02-01T00:00:00",
          "2016-03-01T00:00:00",
          "2016-04-01T00:00:00",
          "2016-05-01T00:00:00",
          "2016-06-01T00:00:00",
          "2016-07-01T00:00:00",
          "2016-08-01T00:00:00",
          "2016-09-01T00:00:00",
          "2016-10-01T00:00:00",
          "2016-11-01T00:00:00",
          "2016-12-01T00:00:00",
          "2017-01-01T00:00:00",
          "2017-02-01T00:00:00"
         ],
         "y": [
          2.0001344086021504,
          2.209722222222222,
          1.7404569892473118,
          1.24,
          1.278763440860215,
          1.2969086021505376,
          1.1340277777777779,
          1.1696236559139785,
          1.6330555555555555,
          1.62997311827957,
          1.7474462365591397,
          1.669345238095238,
          1.8489247311827957,
          1.6206944444444447,
          1.7548387096774192,
          1.14875,
          1.2766129032258065,
          1.1504032258064516,
          1.1122222222222222,
          0.9641129032258063,
          1.31375,
          2.111290322580645,
          1.6848118279569892,
          1.8063244047619047,
          2.2135752688172046,
          2.4830555555555556,
          2.4711021505376345,
          1.9802777777777778,
          1.6272849462365593,
          1.6154569892473118,
          1.6019444444444446,
          1.8487903225806452,
          1.5480555555555555,
          1.8564516129032258,
          2.11505376344086,
          2.4491379310344827,
          2.0498655913978494,
          2.382361111111111,
          2.207795698924731,
          1.8030555555555556,
          1.6989247311827957,
          1.6184139784946234,
          1.5506250000000001,
          1.4768817204301075,
          1.5577777777777777,
          1.4356182795698924,
          1.968481182795699,
          1.9538690476190477
         ]
        },
        {
         "mode": "lines",
         "name": "Changping",
         "type": "scatter",
         "x": [
          "2013-03-01T00:00:00",
          "2013-04-01T00:00:00",
          "2013-05-01T00:00:00",
          "2013-06-01T00:00:00",
          "2013-07-01T00:00:00",
          "2013-08-01T00:00:00",
          "2013-09-01T00:00:00",
          "2013-10-01T00:00:00",
          "2013-11-01T00:00:00",
          "2013-12-01T00:00:00",
          "2014-01-01T00:00:00",
          "2014-02-01T00:00:00",
          "2014-03-01T00:00:00",
          "2014-04-01T00:00:00",
          "2014-05-01T00:00:00",
          "2014-06-01T00:00:00",
          "2014-07-01T00:00:00",
          "2014-08-01T00:00:00",
          "2014-09-01T00:00:00",
          "2014-10-01T00:00:00",
          "2014-11-01T00:00:00",
          "2014-12-01T00:00:00",
          "2015-01-01T00:00:00",
          "2015-02-01T00:00:00",
          "2015-03-01T00:00:00",
          "2015-04-01T00:00:00",
          "2015-05-01T00:00:00",
          "2015-06-01T00:00:00",
          "2015-07-01T00:00:00",
          "2015-08-01T00:00:00",
          "2015-09-01T00:00:00",
          "2015-10-01T00:00:00",
          "2015-11-01T00:00:00",
          "2015-12-01T00:00:00",
          "2016-01-01T00:00:00",
          "2016-02-01T00:00:00",
          "2016-03-01T00:00:00",
          "2016-04-01T00:00:00",
          "2016-05-01T00:00:00",
          "2016-06-01T00:00:00",
          "2016-07-01T00:00:00",
          "2016-08-01T00:00:00",
          "2016-09-01T00:00:00",
          "2016-10-01T00:00:00",
          "2016-11-01T00:00:00",
          "2016-12-01T00:00:00",
          "2017-01-01T00:00:00",
          "2017-02-01T00:00:00"
         ],
         "y": [
          1.7237903225806452,
          2.2251388888888886,
          1.8625,
          1.2523611111111113,
          1.3493279569892473,
          1.446236559139785,
          1.1213888888888888,
          1.3276881720430107,
          2.113611111111111,
          2.058736559139785,
          1.891263440860215,
          1.7267857142857144,
          1.9495967741935485,
          1.8251388888888889,
          2.3081989247311827,
          1.6609722222222223,
          1.7974462365591397,
          1.7169354838709678,
          1.5291666666666666,
          1.4489247311827957,
          1.851388888888889,
          2.684543010752688,
          1.8573252688172042,
          2.227455357142857,
          2.1086021505376342,
          2.1825,
          2.1920698924731186,
          1.883888888888889,
          1.6154569892473118,
          1.4620967741935482,
          1.428611111111111,
          1.9696236559139786,
          1.334861111111111,
          1.8669354838709677,
          2.6723118279569893,
          2.7392241379310347,
          2.0963709677419358,
          2.4302777777777775,
          2.1637096774193547,
          1.8561111111111113,
          1.653225806451613,
          1.6384408602150538,
          1.5520833333333333,
          1.519489247311828,
          1.7766666666666668,
          1.7279569892473117,
          2.0520161290322583,
          2.217857142857143
         ]
        },
        {
         "mode": "lines",
         "name": "Dingling",
         "type": "scatter",
         "x": [
          "2013-03-01T00:00:00",
          "2013-04-01T00:00:00",
          "2013-05-01T00:00:00",
          "2013-06-01T00:00:00",
          "2013-07-01T00:00:00",
          "2013-08-01T00:00:00",
          "2013-09-01T00:00:00",
          "2013-10-01T00:00:00",
          "2013-11-01T00:00:00",
          "2013-12-01T00:00:00",
          "2014-01-01T00:00:00",
          "2014-02-01T00:00:00",
          "2014-03-01T00:00:00",
          "2014-04-01T00:00:00",
          "2014-05-01T00:00:00",
          "2014-06-01T00:00:00",
          "2014-07-01T00:00:00",
          "2014-08-01T00:00:00",
          "2014-09-01T00:00:00",
          "2014-10-01T00:00:00",
          "2014-11-01T00:00:00",
          "2014-12-01T00:00:00",
          "2015-01-01T00:00:00",
          "2015-02-01T00:00:00",
          "2015-03-01T00:00:00",
          "2015-04-01T00:00:00",
          "2015-05-01T00:00:00",
          "2015-06-01T00:00:00",
          "2015-07-01T00:00:00",
          "2015-08-01T00:00:00",
          "2015-09-01T00:00:00",
          "2015-10-01T00:00:00",
          "2015-11-01T00:00:00",
          "2015-12-01T00:00:00",
          "2016-01-01T00:00:00",
          "2016-02-01T00:00:00",
          "2016-03-01T00:00:00",
          "2016-04-01T00:00:00",
          "2016-05-01T00:00:00",
          "2016-06-01T00:00:00",
          "2016-07-01T00:00:00",
          "2016-08-01T00:00:00",
          "2016-09-01T00:00:00",
          "2016-10-01T00:00:00",
          "2016-11-01T00:00:00",
          "2016-12-01T00:00:00",
          "2017-01-01T00:00:00",
          "2017-02-01T00:00:00"
         ],
         "y": [
          1.7237903225806452,
          2.2251388888888886,
          1.8625,
          1.2523611111111113,
          1.3493279569892473,
          1.446236559139785,
          1.1213888888888888,
          1.3276881720430107,
          2.113611111111111,
          2.058736559139785,
          1.891263440860215,
          1.7267857142857144,
          1.9495967741935485,
          1.8251388888888889,
          2.3081989247311827,
          1.6609722222222223,
          1.7974462365591397,
          1.7169354838709678,
          1.5291666666666666,
          1.4489247311827957,
          1.851388888888889,
          2.684543010752688,
          1.8573252688172042,
          2.227455357142857,
          2.1086021505376342,
          2.1825,
          2.1920698924731186,
          1.883888888888889,
          1.6154569892473118,
          1.4620967741935482,
          1.428611111111111,
          1.9696236559139786,
          1.334861111111111,
          1.8669354838709677,
          2.6723118279569893,
          2.7392241379310347,
          2.0963709677419358,
          2.4302777777777775,
          2.1637096774193547,
          1.8561111111111113,
          1.653225806451613,
          1.6384408602150538,
          1.5520833333333333,
          1.519489247311828,
          1.7766666666666668,
          1.7279569892473117,
          2.0520161290322583,
          2.217857142857143
         ]
        },
        {
         "mode": "lines",
         "name": "Dongsi",
         "type": "scatter",
         "x": [
          "2013-03-01T00:00:00",
          "2013-04-01T00:00:00",
          "2013-05-01T00:00:00",
          "2013-06-01T00:00:00",
          "2013-07-01T00:00:00",
          "2013-08-01T00:00:00",
          "2013-09-01T00:00:00",
          "2013-10-01T00:00:00",
          "2013-11-01T00:00:00",
          "2013-12-01T00:00:00",
          "2014-01-01T00:00:00",
          "2014-02-01T00:00:00",
          "2014-03-01T00:00:00",
          "2014-04-01T00:00:00",
          "2014-05-01T00:00:00",
          "2014-06-01T00:00:00",
          "2014-07-01T00:00:00",
          "2014-08-01T00:00:00",
          "2014-09-01T00:00:00",
          "2014-10-01T00:00:00",
          "2014-11-01T00:00:00",
          "2014-12-01T00:00:00",
          "2015-01-01T00:00:00",
          "2015-02-01T00:00:00",
          "2015-03-01T00:00:00",
          "2015-04-01T00:00:00",
          "2015-05-01T00:00:00",
          "2015-06-01T00:00:00",
          "2015-07-01T00:00:00",
          "2015-08-01T00:00:00",
          "2015-09-01T00:00:00",
          "2015-10-01T00:00:00",
          "2015-11-01T00:00:00",
          "2015-12-01T00:00:00",
          "2016-01-01T00:00:00",
          "2016-02-01T00:00:00",
          "2016-03-01T00:00:00",
          "2016-04-01T00:00:00",
          "2016-05-01T00:00:00",
          "2016-06-01T00:00:00",
          "2016-07-01T00:00:00",
          "2016-08-01T00:00:00",
          "2016-09-01T00:00:00",
          "2016-10-01T00:00:00",
          "2016-11-01T00:00:00",
          "2016-12-01T00:00:00",
          "2017-01-01T00:00:00",
          "2017-02-01T00:00:00"
         ],
         "y": [
          1.9696236559139786,
          2.571388888888889,
          1.9971774193548388,
          1.4680555555555554,
          1.4754032258064518,
          1.5797043010752687,
          1.4436111111111112,
          1.4974462365591397,
          2.1470833333333337,
          1.902016129032258,
          1.774731182795699,
          1.7930059523809525,
          2.0733870967741934,
          1.9498611111111113,
          2.456451612903226,
          1.635138888888889,
          1.774731182795699,
          1.505779569892473,
          1.4566666666666666,
          1.271236559139785,
          1.6565277777777778,
          2.4716397849462366,
          1.8151209677419355,
          2.1726934523809525,
          2.2135752688172046,
          2.4830555555555556,
          2.4711021505376345,
          1.9802777777777778,
          1.6272849462365593,
          1.6154569892473118,
          1.6019444444444446,
          1.8487903225806452,
          1.5480555555555555,
          1.8564516129032258,
          2.11505376344086,
          2.4491379310344827,
          2.0498655913978494,
          2.382361111111111,
          2.207795698924731,
          1.8030555555555556,
          1.6989247311827957,
          1.6184139784946234,
          1.5506250000000001,
          1.4768817204301075,
          1.5577777777777777,
          1.4356182795698924,
          1.968481182795699,
          1.9538690476190477
         ]
        },
        {
         "mode": "lines",
         "name": "Guanyuan",
         "type": "scatter",
         "x": [
          "2013-03-01T00:00:00",
          "2013-04-01T00:00:00",
          "2013-05-01T00:00:00",
          "2013-06-01T00:00:00",
          "2013-07-01T00:00:00",
          "2013-08-01T00:00:00",
          "2013-09-01T00:00:00",
          "2013-10-01T00:00:00",
          "2013-11-01T00:00:00",
          "2013-12-01T00:00:00",
          "2014-01-01T00:00:00",
          "2014-02-01T00:00:00",
          "2014-03-01T00:00:00",
          "2014-04-01T00:00:00",
          "2014-05-01T00:00:00",
          "2014-06-01T00:00:00",
          "2014-07-01T00:00:00",
          "2014-08-01T00:00:00",
          "2014-09-01T00:00:00",
          "2014-10-01T00:00:00",
          "2014-11-01T00:00:00",
          "2014-12-01T00:00:00",
          "2015-01-01T00:00:00",
          "2015-02-01T00:00:00",
          "2015-03-01T00:00:00",
          "2015-04-01T00:00:00",
          "2015-05-01T00:00:00",
          "2015-06-01T00:00:00",
          "2015-07-01T00:00:00",
          "2015-08-01T00:00:00",
          "2015-09-01T00:00:00",
          "2015-10-01T00:00:00",
          "2015-11-01T00:00:00",
          "2015-12-01T00:00:00",
          "2016-01-01T00:00:00",
          "2016-02-01T00:00:00",
          "2016-03-01T00:00:00",
          "2016-04-01T00:00:00",
          "2016-05-01T00:00:00",
          "2016-06-01T00:00:00",
          "2016-07-01T00:00:00",
          "2016-08-01T00:00:00",
          "2016-09-01T00:00:00",
          "2016-10-01T00:00:00",
          "2016-11-01T00:00:00",
          "2016-12-01T00:00:00",
          "2017-01-01T00:00:00",
          "2017-02-01T00:00:00"
         ],
         "y": [
          2.0001344086021504,
          2.209722222222222,
          1.7404569892473118,
          1.24,
          1.278763440860215,
          1.2969086021505376,
          1.1340277777777779,
          1.1696236559139785,
          1.6330555555555555,
          1.62997311827957,
          1.7474462365591397,
          1.669345238095238,
          1.8489247311827957,
          1.6206944444444447,
          1.7548387096774192,
          1.14875,
          1.2766129032258065,
          1.1504032258064516,
          1.1122222222222222,
          0.9641129032258063,
          1.31375,
          2.111290322580645,
          1.6848118279569892,
          1.8063244047619047,
          2.2135752688172046,
          2.4830555555555556,
          2.4711021505376345,
          1.9802777777777778,
          1.6272849462365593,
          1.6154569892473118,
          1.6019444444444446,
          1.8487903225806452,
          1.5480555555555555,
          1.8564516129032258,
          2.11505376344086,
          2.4491379310344827,
          2.0498655913978494,
          2.382361111111111,
          2.207795698924731,
          1.8030555555555556,
          1.6989247311827957,
          1.6184139784946234,
          1.5506250000000001,
          1.4768817204301075,
          1.5577777777777777,
          1.4356182795698924,
          1.968481182795699,
          1.9538690476190477
         ]
        },
        {
         "mode": "lines",
         "name": "Gucheng",
         "type": "scatter",
         "x": [
          "2013-03-01T00:00:00",
          "2013-04-01T00:00:00",
          "2013-05-01T00:00:00",
          "2013-06-01T00:00:00",
          "2013-07-01T00:00:00",
          "2013-08-01T00:00:00",
          "2013-09-01T00:00:00",
          "2013-10-01T00:00:00",
          "2013-11-01T00:00:00",
          "2013-12-01T00:00:00",
          "2014-01-01T00:00:00",
          "2014-02-01T00:00:00",
          "2014-03-01T00:00:00",
          "2014-04-01T00:00:00",
          "2014-05-01T00:00:00",
          "2014-06-01T00:00:00",
          "2014-07-01T00:00:00",
          "2014-08-01T00:00:00",
          "2014-09-01T00:00:00",
          "2014-10-01T00:00:00",
          "2014-11-01T00:00:00",
          "2014-12-01T00:00:00",
          "2015-01-01T00:00:00",
          "2015-02-01T00:00:00",
          "2015-03-01T00:00:00",
          "2015-04-01T00:00:00",
          "2015-05-01T00:00:00",
          "2015-06-01T00:00:00",
          "2015-07-01T00:00:00",
          "2015-08-01T00:00:00",
          "2015-09-01T00:00:00",
          "2015-10-01T00:00:00",
          "2015-11-01T00:00:00",
          "2015-12-01T00:00:00",
          "2016-01-01T00:00:00",
          "2016-02-01T00:00:00",
          "2016-03-01T00:00:00",
          "2016-04-01T00:00:00",
          "2016-05-01T00:00:00",
          "2016-06-01T00:00:00",
          "2016-07-01T00:00:00",
          "2016-08-01T00:00:00",
          "2016-09-01T00:00:00",
          "2016-10-01T00:00:00",
          "2016-11-01T00:00:00",
          "2016-12-01T00:00:00",
          "2017-01-01T00:00:00",
          "2017-02-01T00:00:00"
         ],
         "y": [
          1.4275537634408602,
          1.7644444444444445,
          1.0915322580645161,
          0.74625,
          0.7888440860215054,
          0.8151209677419355,
          0.6019444444444444,
          0.6154569892473118,
          1.2027777777777777,
          1.2713709677419354,
          1.2991935483870969,
          1.1754464285714286,
          1.44247311827957,
          1.1827777777777777,
          1.2006720430107527,
          0.895,
          0.9416666666666667,
          0.8565860215053763,
          0.81875,
          0.742741935483871,
          1.0638888888888889,
          1.736021505376344,
          1.3021505376344085,
          1.4477678571428572,
          1.5739247311827957,
          1.5468055555555555,
          1.3157258064516129,
          0.9895833333333334,
          0.8522849462365591,
          0.7807795698924731,
          0.6940277777777778,
          0.9258064516129032,
          0.78375,
          1.1512096774193548,
          1.9755376344086022,
          2.5719827586206896,
          2.2399193548387095,
          2.432361111111111,
          2.2056451612903225,
          1.9013888888888888,
          1.6543010752688172,
          1.5099462365591398,
          1.5522222222222222,
          1.5293010752688172,
          1.78875,
          1.5563172043010753,
          2.5553763440860218,
          2.0727678571428574
         ]
        },
        {
         "mode": "lines",
         "name": "Huairou",
         "type": "scatter",
         "x": [
          "2013-03-01T00:00:00",
          "2013-04-01T00:00:00",
          "2013-05-01T00:00:00",
          "2013-06-01T00:00:00",
          "2013-07-01T00:00:00",
          "2013-08-01T00:00:00",
          "2013-09-01T00:00:00",
          "2013-10-01T00:00:00",
          "2013-11-01T00:00:00",
          "2013-12-01T00:00:00",
          "2014-01-01T00:00:00",
          "2014-02-01T00:00:00",
          "2014-03-01T00:00:00",
          "2014-04-01T00:00:00",
          "2014-05-01T00:00:00",
          "2014-06-01T00:00:00",
          "2014-07-01T00:00:00",
          "2014-08-01T00:00:00",
          "2014-09-01T00:00:00",
          "2014-10-01T00:00:00",
          "2014-11-01T00:00:00",
          "2014-12-01T00:00:00",
          "2015-01-01T00:00:00",
          "2015-02-01T00:00:00",
          "2015-03-01T00:00:00",
          "2015-04-01T00:00:00",
          "2015-05-01T00:00:00",
          "2015-06-01T00:00:00",
          "2015-07-01T00:00:00",
          "2015-08-01T00:00:00",
          "2015-09-01T00:00:00",
          "2015-10-01T00:00:00",
          "2015-11-01T00:00:00",
          "2015-12-01T00:00:00",
          "2016-01-01T00:00:00",
          "2016-02-01T00:00:00",
          "2016-03-01T00:00:00",
          "2016-04-01T00:00:00",
          "2016-05-01T00:00:00",
          "2016-06-01T00:00:00",
          "2016-07-01T00:00:00",
          "2016-08-01T00:00:00",
          "2016-09-01T00:00:00",
          "2016-10-01T00:00:00",
          "2016-11-01T00:00:00",
          "2016-12-01T00:00:00",
          "2017-01-01T00:00:00",
          "2017-02-01T00:00:00"
         ],
         "y": [
          2.0305107526881723,
          2.680972222222222,
          1.8848118279569892,
          1.179861111111111,
          1.0709677419354837,
          1.221774193548387,
          0.9308333333333334,
          1.1083333333333334,
          1.3195833333333333,
          1.144489247311828,
          1.0748655913978495,
          1.0461309523809523,
          1.6029569892473117,
          1.8629166666666666,
          2.158333333333333,
          1.6947222222222222,
          1.481989247311828,
          1.540725806451613,
          1.3408333333333333,
          1.4794354838709678,
          1.3879861111111111,
          2.306989247311828,
          1.6012096774193547,
          1.9119047619047618,
          2.171774193548387,
          2.220138888888889,
          2.1750000000000003,
          1.7830555555555554,
          1.5416666666666667,
          1.4073924731182794,
          1.3395833333333333,
          1.753225806451613,
          1.3309722222222222,
          1.587231182795699,
          1.7505376344086023,
          2.270545977011494,
          2.1012096774193547,
          2.390138888888889,
          2.0276881720430104,
          1.6925,
          1.4736559139784948,
          1.4095430107526883,
          1.3905555555555555,
          1.4521505376344088,
          1.6576388888888889,
          1.6118279569892473,
          1.729771505376344,
          2.0377976190476192
         ]
        },
        {
         "mode": "lines",
         "name": "Nongzhanguan",
         "type": "scatter",
         "x": [
          "2013-03-01T00:00:00",
          "2013-04-01T00:00:00",
          "2013-05-01T00:00:00",
          "2013-06-01T00:00:00",
          "2013-07-01T00:00:00",
          "2013-08-01T00:00:00",
          "2013-09-01T00:00:00",
          "2013-10-01T00:00:00",
          "2013-11-01T00:00:00",
          "2013-12-01T00:00:00",
          "2014-01-01T00:00:00",
          "2014-02-01T00:00:00",
          "2014-03-01T00:00:00",
          "2014-04-01T00:00:00",
          "2014-05-01T00:00:00",
          "2014-06-01T00:00:00",
          "2014-07-01T00:00:00",
          "2014-08-01T00:00:00",
          "2014-09-01T00:00:00",
          "2014-10-01T00:00:00",
          "2014-11-01T00:00:00",
          "2014-12-01T00:00:00",
          "2015-01-01T00:00:00",
          "2015-02-01T00:00:00",
          "2015-03-01T00:00:00",
          "2015-04-01T00:00:00",
          "2015-05-01T00:00:00",
          "2015-06-01T00:00:00",
          "2015-07-01T00:00:00",
          "2015-08-01T00:00:00",
          "2015-09-01T00:00:00",
          "2015-10-01T00:00:00",
          "2015-11-01T00:00:00",
          "2015-12-01T00:00:00",
          "2016-01-01T00:00:00",
          "2016-02-01T00:00:00",
          "2016-03-01T00:00:00",
          "2016-04-01T00:00:00",
          "2016-05-01T00:00:00",
          "2016-06-01T00:00:00",
          "2016-07-01T00:00:00",
          "2016-08-01T00:00:00",
          "2016-09-01T00:00:00",
          "2016-10-01T00:00:00",
          "2016-11-01T00:00:00",
          "2016-12-01T00:00:00",
          "2017-01-01T00:00:00",
          "2017-02-01T00:00:00"
         ],
         "y": [
          1.9696236559139786,
          2.571388888888889,
          1.9971774193548388,
          1.4680555555555554,
          1.4754032258064518,
          1.5797043010752687,
          1.4436111111111112,
          1.4974462365591397,
          2.1470833333333337,
          1.902016129032258,
          1.774731182795699,
          1.7930059523809525,
          2.0733870967741934,
          1.9498611111111113,
          2.456451612903226,
          1.635138888888889,
          1.774731182795699,
          1.505779569892473,
          1.4566666666666666,
          1.271236559139785,
          1.6565277777777778,
          2.4716397849462366,
          1.8151209677419355,
          2.1726934523809525,
          2.2135752688172046,
          2.4830555555555556,
          2.4711021505376345,
          1.9802777777777778,
          1.6272849462365593,
          1.6154569892473118,
          1.6019444444444446,
          1.8487903225806452,
          1.5480555555555555,
          1.8564516129032258,
          2.11505376344086,
          2.4491379310344827,
          2.0498655913978494,
          2.382361111111111,
          2.207795698924731,
          1.8030555555555556,
          1.6989247311827957,
          1.6184139784946234,
          1.5506250000000001,
          1.4768817204301075,
          1.5577777777777777,
          1.4356182795698924,
          1.968481182795699,
          1.9538690476190477
         ]
        },
        {
         "mode": "lines",
         "name": "Shunyi",
         "type": "scatter",
         "x": [
          "2013-03-01T00:00:00",
          "2013-04-01T00:00:00",
          "2013-05-01T00:00:00",
          "2013-06-01T00:00:00",
          "2013-07-01T00:00:00",
          "2013-08-01T00:00:00",
          "2013-09-01T00:00:00",
          "2013-10-01T00:00:00",
          "2013-11-01T00:00:00",
          "2013-12-01T00:00:00",
          "2014-01-01T00:00:00",
          "2014-02-01T00:00:00",
          "2014-03-01T00:00:00",
          "2014-04-01T00:00:00",
          "2014-05-01T00:00:00",
          "2014-06-01T00:00:00",
          "2014-07-01T00:00:00",
          "2014-08-01T00:00:00",
          "2014-09-01T00:00:00",
          "2014-10-01T00:00:00",
          "2014-11-01T00:00:00",
          "2014-12-01T00:00:00",
          "2015-01-01T00:00:00",
          "2015-02-01T00:00:00",
          "2015-03-01T00:00:00",
          "2015-04-01T00:00:00",
          "2015-05-01T00:00:00",
          "2015-06-01T00:00:00",
          "2015-07-01T00:00:00",
          "2015-08-01T00:00:00",
          "2015-09-01T00:00:00",
          "2015-10-01T00:00:00",
          "2015-11-01T00:00:00",
          "2015-12-01T00:00:00",
          "2016-01-01T00:00:00",
          "2016-02-01T00:00:00",
          "2016-03-01T00:00:00",
          "2016-04-01T00:00:00",
          "2016-05-01T00:00:00",
          "2016-06-01T00:00:00",
          "2016-07-01T00:00:00",
          "2016-08-01T00:00:00",
          "2016-09-01T00:00:00",
          "2016-10-01T00:00:00",
          "2016-11-01T00:00:00",
          "2016-12-01T00:00:00",
          "2017-01-01T00:00:00",
          "2017-02-01T00:00:00"
         ],
         "y": [
          2.0708333333333333,
          2.5372222222222223,
          2.054838709677419,
          1.5381944444444444,
          1.6220430107526882,
          1.6181451612903226,
          1.3879166666666667,
          1.380779569892473,
          1.9947222222222223,
          1.9111559139784948,
          1.6723118279569893,
          1.6194940476190476,
          1.8948924731182795,
          1.8452777777777776,
          2.338978494623656,
          1.6413888888888888,
          1.7786290322580645,
          1.6216397849462365,
          1.3659722222222221,
          1.2155913978494624,
          1.5669444444444445,
          2.285215053763441,
          1.6307123655913978,
          1.870610119047619,
          2.1190860215053764,
          2.1770833333333335,
          2.2238575268817202,
          1.802361111111111,
          1.5766129032258065,
          1.5330645161290322,
          1.5131944444444445,
          1.6405913978494622,
          1.5037500000000001,
          1.7073924731182795,
          2.235752688172043,
          2.467816091954023,
          1.8991935483870968,
          2.4120833333333334,
          2.2399193548387095,
          1.8263888888888888,
          1.7106182795698925,
          1.6333333333333333,
          1.55,
          1.5025537634408603,
          1.6391666666666667,
          1.464247311827957,
          1.841263440860215,
          2.1325892857142854
         ]
        },
        {
         "mode": "lines",
         "name": "Tiantan",
         "type": "scatter",
         "x": [
          "2013-03-01T00:00:00",
          "2013-04-01T00:00:00",
          "2013-05-01T00:00:00",
          "2013-06-01T00:00:00",
          "2013-07-01T00:00:00",
          "2013-08-01T00:00:00",
          "2013-09-01T00:00:00",
          "2013-10-01T00:00:00",
          "2013-11-01T00:00:00",
          "2013-12-01T00:00:00",
          "2014-01-01T00:00:00",
          "2014-02-01T00:00:00",
          "2014-03-01T00:00:00",
          "2014-04-01T00:00:00",
          "2014-05-01T00:00:00",
          "2014-06-01T00:00:00",
          "2014-07-01T00:00:00",
          "2014-08-01T00:00:00",
          "2014-09-01T00:00:00",
          "2014-10-01T00:00:00",
          "2014-11-01T00:00:00",
          "2014-12-01T00:00:00",
          "2015-01-01T00:00:00",
          "2015-02-01T00:00:00",
          "2015-03-01T00:00:00",
          "2015-04-01T00:00:00",
          "2015-05-01T00:00:00",
          "2015-06-01T00:00:00",
          "2015-07-01T00:00:00",
          "2015-08-01T00:00:00",
          "2015-09-01T00:00:00",
          "2015-10-01T00:00:00",
          "2015-11-01T00:00:00",
          "2015-12-01T00:00:00",
          "2016-01-01T00:00:00",
          "2016-02-01T00:00:00",
          "2016-03-01T00:00:00",
          "2016-04-01T00:00:00",
          "2016-05-01T00:00:00",
          "2016-06-01T00:00:00",
          "2016-07-01T00:00:00",
          "2016-08-01T00:00:00",
          "2016-09-01T00:00:00",
          "2016-10-01T00:00:00",
          "2016-11-01T00:00:00",
          "2016-12-01T00:00:00",
          "2017-01-01T00:00:00",
          "2017-02-01T00:00:00"
         ],
         "y": [
          1.9696236559139786,
          2.571388888888889,
          1.9971774193548388,
          1.4680555555555554,
          1.4754032258064518,
          1.5797043010752687,
          1.4436111111111112,
          1.4974462365591397,
          2.1470833333333337,
          1.902016129032258,
          1.774731182795699,
          1.7930059523809525,
          2.0733870967741934,
          1.9498611111111113,
          2.456451612903226,
          1.635138888888889,
          1.774731182795699,
          1.505779569892473,
          1.4566666666666666,
          1.271236559139785,
          1.6565277777777778,
          2.4716397849462366,
          1.8151209677419355,
          2.1726934523809525,
          2.2135752688172046,
          2.4830555555555556,
          2.4711021505376345,
          1.9802777777777778,
          1.6272849462365593,
          1.6154569892473118,
          1.6019444444444446,
          1.8487903225806452,
          1.5480555555555555,
          1.8564516129032258,
          2.11505376344086,
          2.4491379310344827,
          2.0498655913978494,
          2.382361111111111,
          2.207795698924731,
          1.8030555555555556,
          1.6989247311827957,
          1.6184139784946234,
          1.5506250000000001,
          1.4768817204301075,
          1.5577777777777777,
          1.4356182795698924,
          1.968481182795699,
          1.9538690476190477
         ]
        },
        {
         "mode": "lines",
         "name": "Wanliu",
         "type": "scatter",
         "x": [
          "2013-03-01T00:00:00",
          "2013-04-01T00:00:00",
          "2013-05-01T00:00:00",
          "2013-06-01T00:00:00",
          "2013-07-01T00:00:00",
          "2013-08-01T00:00:00",
          "2013-09-01T00:00:00",
          "2013-10-01T00:00:00",
          "2013-11-01T00:00:00",
          "2013-12-01T00:00:00",
          "2014-01-01T00:00:00",
          "2014-02-01T00:00:00",
          "2014-03-01T00:00:00",
          "2014-04-01T00:00:00",
          "2014-05-01T00:00:00",
          "2014-06-01T00:00:00",
          "2014-07-01T00:00:00",
          "2014-08-01T00:00:00",
          "2014-09-01T00:00:00",
          "2014-10-01T00:00:00",
          "2014-11-01T00:00:00",
          "2014-12-01T00:00:00",
          "2015-01-01T00:00:00",
          "2015-02-01T00:00:00",
          "2015-03-01T00:00:00",
          "2015-04-01T00:00:00",
          "2015-05-01T00:00:00",
          "2015-06-01T00:00:00",
          "2015-07-01T00:00:00",
          "2015-08-01T00:00:00",
          "2015-09-01T00:00:00",
          "2015-10-01T00:00:00",
          "2015-11-01T00:00:00",
          "2015-12-01T00:00:00",
          "2016-01-01T00:00:00",
          "2016-02-01T00:00:00",
          "2016-03-01T00:00:00",
          "2016-04-01T00:00:00",
          "2016-05-01T00:00:00",
          "2016-06-01T00:00:00",
          "2016-07-01T00:00:00",
          "2016-08-01T00:00:00",
          "2016-09-01T00:00:00",
          "2016-10-01T00:00:00",
          "2016-11-01T00:00:00",
          "2016-12-01T00:00:00",
          "2017-01-01T00:00:00",
          "2017-02-01T00:00:00"
         ],
         "y": [
          1.9978494623655916,
          2.209722222222222,
          1.7404569892473118,
          1.24,
          1.278763440860215,
          1.2969086021505376,
          1.1340277777777779,
          1.1696236559139785,
          1.6330555555555555,
          1.62997311827957,
          1.7474462365591397,
          1.669345238095238,
          1.8489247311827957,
          1.6206944444444447,
          1.7548387096774192,
          1.14875,
          1.2766129032258065,
          1.1504032258064516,
          1.1122222222222222,
          0.9641129032258063,
          1.2972222222222223,
          2.1068548387096775,
          1.6760752688172043,
          1.7935267857142858,
          1.9174731182795697,
          2.042222222222222,
          1.7836021505376345,
          1.3787500000000001,
          1.1905913978494622,
          1.1413978494623656,
          1.0673611111111112,
          1.3098118279569892,
          1.1244444444444446,
          1.4228494623655912,
          1.7998655913978494,
          2.081034482758621,
          1.796505376344086,
          1.8394444444444447,
          1.6827956989247312,
          1.3922222222222222,
          1.153225806451613,
          1.106048387096774,
          1.1442361111111112,
          1.0844086021505375,
          1.2595833333333333,
          1.2829301075268817,
          1.8932123655913977,
          1.7355654761904762
         ]
        },
        {
         "mode": "lines",
         "name": "Wanshouxigong",
         "type": "scatter",
         "x": [
          "2013-03-01T00:00:00",
          "2013-04-01T00:00:00",
          "2013-05-01T00:00:00",
          "2013-06-01T00:00:00",
          "2013-07-01T00:00:00",
          "2013-08-01T00:00:00",
          "2013-09-01T00:00:00",
          "2013-10-01T00:00:00",
          "2013-11-01T00:00:00",
          "2013-12-01T00:00:00",
          "2014-01-01T00:00:00",
          "2014-02-01T00:00:00",
          "2014-03-01T00:00:00",
          "2014-04-01T00:00:00",
          "2014-05-01T00:00:00",
          "2014-06-01T00:00:00",
          "2014-07-01T00:00:00",
          "2014-08-01T00:00:00",
          "2014-09-01T00:00:00",
          "2014-10-01T00:00:00",
          "2014-11-01T00:00:00",
          "2014-12-01T00:00:00",
          "2015-01-01T00:00:00",
          "2015-02-01T00:00:00",
          "2015-03-01T00:00:00",
          "2015-04-01T00:00:00",
          "2015-05-01T00:00:00",
          "2015-06-01T00:00:00",
          "2015-07-01T00:00:00",
          "2015-08-01T00:00:00",
          "2015-09-01T00:00:00",
          "2015-10-01T00:00:00",
          "2015-11-01T00:00:00",
          "2015-12-01T00:00:00",
          "2016-01-01T00:00:00",
          "2016-02-01T00:00:00",
          "2016-03-01T00:00:00",
          "2016-04-01T00:00:00",
          "2016-05-01T00:00:00",
          "2016-06-01T00:00:00",
          "2016-07-01T00:00:00",
          "2016-08-01T00:00:00",
          "2016-09-01T00:00:00",
          "2016-10-01T00:00:00",
          "2016-11-01T00:00:00",
          "2016-12-01T00:00:00",
          "2017-01-01T00:00:00",
          "2017-02-01T00:00:00"
         ],
         "y": [
          1.753494623655914,
          2.2234722222222225,
          1.771236559139785,
          1.355,
          1.3599462365591397,
          1.4163978494623655,
          1.1609722222222223,
          1.3373655913978495,
          1.7690277777777779,
          1.6998655913978495,
          1.6185483870967743,
          1.4382440476190477,
          1.8102150537634407,
          1.6155555555555556,
          2.02002688172043,
          1.3934722222222222,
          1.4799731182795697,
          1.3958333333333333,
          1.3108333333333333,
          1.2170698924731183,
          1.5384722222222222,
          2.1891129032258063,
          1.6047043010752688,
          1.8098958333333333,
          2.2135752688172046,
          2.4830555555555556,
          2.4711021505376345,
          1.9802777777777778,
          1.6272849462365593,
          1.6154569892473118,
          1.6019444444444446,
          1.8487903225806452,
          1.5480555555555555,
          1.8564516129032258,
          2.11505376344086,
          2.4491379310344827,
          2.0498655913978494,
          2.382361111111111,
          2.207795698924731,
          1.8030555555555556,
          1.6989247311827957,
          1.6184139784946234,
          1.5506250000000001,
          1.4768817204301075,
          1.5577777777777777,
          1.4356182795698924,
          1.968481182795699,
          1.9538690476190477
         ]
        }
       ],
       "layout": {
        "plot_bgcolor": "white",
        "showlegend": true,
        "template": {
         "data": {
          "bar": [
           {
            "error_x": {
             "color": "#2a3f5f"
            },
            "error_y": {
             "color": "#2a3f5f"
            },
            "marker": {
             "line": {
              "color": "#E5ECF6",
              "width": 0.5
             },
             "pattern": {
              "fillmode": "overlay",
              "size": 10,
              "solidity": 0.2
             }
            },
            "type": "bar"
           }
          ],
          "barpolar": [
           {
            "marker": {
             "line": {
              "color": "#E5ECF6",
              "width": 0.5
             },
             "pattern": {
              "fillmode": "overlay",
              "size": 10,
              "solidity": 0.2
             }
            },
            "type": "barpolar"
           }
          ],
          "carpet": [
           {
            "aaxis": {
             "endlinecolor": "#2a3f5f",
             "gridcolor": "white",
             "linecolor": "white",
             "minorgridcolor": "white",
             "startlinecolor": "#2a3f5f"
            },
            "baxis": {
             "endlinecolor": "#2a3f5f",
             "gridcolor": "white",
             "linecolor": "white",
             "minorgridcolor": "white",
             "startlinecolor": "#2a3f5f"
            },
            "type": "carpet"
           }
          ],
          "choropleth": [
           {
            "colorbar": {
             "outlinewidth": 0,
             "ticks": ""
            },
            "type": "choropleth"
           }
          ],
          "contour": [
           {
            "colorbar": {
             "outlinewidth": 0,
             "ticks": ""
            },
            "colorscale": [
             [
              0,
              "#0d0887"
             ],
             [
              0.1111111111111111,
              "#46039f"
             ],
             [
              0.2222222222222222,
              "#7201a8"
             ],
             [
              0.3333333333333333,
              "#9c179e"
             ],
             [
              0.4444444444444444,
              "#bd3786"
             ],
             [
              0.5555555555555556,
              "#d8576b"
             ],
             [
              0.6666666666666666,
              "#ed7953"
             ],
             [
              0.7777777777777778,
              "#fb9f3a"
             ],
             [
              0.8888888888888888,
              "#fdca26"
             ],
             [
              1,
              "#f0f921"
             ]
            ],
            "type": "contour"
           }
          ],
          "contourcarpet": [
           {
            "colorbar": {
             "outlinewidth": 0,
             "ticks": ""
            },
            "type": "contourcarpet"
           }
          ],
          "heatmap": [
           {
            "colorbar": {
             "outlinewidth": 0,
             "ticks": ""
            },
            "colorscale": [
             [
              0,
              "#0d0887"
             ],
             [
              0.1111111111111111,
              "#46039f"
             ],
             [
              0.2222222222222222,
              "#7201a8"
             ],
             [
              0.3333333333333333,
              "#9c179e"
             ],
             [
              0.4444444444444444,
              "#bd3786"
             ],
             [
              0.5555555555555556,
              "#d8576b"
             ],
             [
              0.6666666666666666,
              "#ed7953"
             ],
             [
              0.7777777777777778,
              "#fb9f3a"
             ],
             [
              0.8888888888888888,
              "#fdca26"
             ],
             [
              1,
              "#f0f921"
             ]
            ],
            "type": "heatmap"
           }
          ],
          "heatmapgl": [
           {
            "colorbar": {
             "outlinewidth": 0,
             "ticks": ""
            },
            "colorscale": [
             [
              0,
              "#0d0887"
             ],
             [
              0.1111111111111111,
              "#46039f"
             ],
             [
              0.2222222222222222,
              "#7201a8"
             ],
             [
              0.3333333333333333,
              "#9c179e"
             ],
             [
              0.4444444444444444,
              "#bd3786"
             ],
             [
              0.5555555555555556,
              "#d8576b"
             ],
             [
              0.6666666666666666,
              "#ed7953"
             ],
             [
              0.7777777777777778,
              "#fb9f3a"
             ],
             [
              0.8888888888888888,
              "#fdca26"
             ],
             [
              1,
              "#f0f921"
             ]
            ],
            "type": "heatmapgl"
           }
          ],
          "histogram": [
           {
            "marker": {
             "pattern": {
              "fillmode": "overlay",
              "size": 10,
              "solidity": 0.2
             }
            },
            "type": "histogram"
           }
          ],
          "histogram2d": [
           {
            "colorbar": {
             "outlinewidth": 0,
             "ticks": ""
            },
            "colorscale": [
             [
              0,
              "#0d0887"
             ],
             [
              0.1111111111111111,
              "#46039f"
             ],
             [
              0.2222222222222222,
              "#7201a8"
             ],
             [
              0.3333333333333333,
              "#9c179e"
             ],
             [
              0.4444444444444444,
              "#bd3786"
             ],
             [
              0.5555555555555556,
              "#d8576b"
             ],
             [
              0.6666666666666666,
              "#ed7953"
             ],
             [
              0.7777777777777778,
              "#fb9f3a"
             ],
             [
              0.8888888888888888,
              "#fdca26"
             ],
             [
              1,
              "#f0f921"
             ]
            ],
            "type": "histogram2d"
           }
          ],
          "histogram2dcontour": [
           {
            "colorbar": {
             "outlinewidth": 0,
             "ticks": ""
            },
            "colorscale": [
             [
              0,
              "#0d0887"
             ],
             [
              0.1111111111111111,
              "#46039f"
             ],
             [
              0.2222222222222222,
              "#7201a8"
             ],
             [
              0.3333333333333333,
              "#9c179e"
             ],
             [
              0.4444444444444444,
              "#bd3786"
             ],
             [
              0.5555555555555556,
              "#d8576b"
             ],
             [
              0.6666666666666666,
              "#ed7953"
             ],
             [
              0.7777777777777778,
              "#fb9f3a"
             ],
             [
              0.8888888888888888,
              "#fdca26"
             ],
             [
              1,
              "#f0f921"
             ]
            ],
            "type": "histogram2dcontour"
           }
          ],
          "mesh3d": [
           {
            "colorbar": {
             "outlinewidth": 0,
             "ticks": ""
            },
            "type": "mesh3d"
           }
          ],
          "parcoords": [
           {
            "line": {
             "colorbar": {
              "outlinewidth": 0,
              "ticks": ""
             }
            },
            "type": "parcoords"
           }
          ],
          "pie": [
           {
            "automargin": true,
            "type": "pie"
           }
          ],
          "scatter": [
           {
            "fillpattern": {
             "fillmode": "overlay",
             "size": 10,
             "solidity": 0.2
            },
            "type": "scatter"
           }
          ],
          "scatter3d": [
           {
            "line": {
             "colorbar": {
              "outlinewidth": 0,
              "ticks": ""
             }
            },
            "marker": {
             "colorbar": {
              "outlinewidth": 0,
              "ticks": ""
             }
            },
            "type": "scatter3d"
           }
          ],
          "scattercarpet": [
           {
            "marker": {
             "colorbar": {
              "outlinewidth": 0,
              "ticks": ""
             }
            },
            "type": "scattercarpet"
           }
          ],
          "scattergeo": [
           {
            "marker": {
             "colorbar": {
              "outlinewidth": 0,
              "ticks": ""
             }
            },
            "type": "scattergeo"
           }
          ],
          "scattergl": [
           {
            "marker": {
             "colorbar": {
              "outlinewidth": 0,
              "ticks": ""
             }
            },
            "type": "scattergl"
           }
          ],
          "scattermapbox": [
           {
            "marker": {
             "colorbar": {
              "outlinewidth": 0,
              "ticks": ""
             }
            },
            "type": "scattermapbox"
           }
          ],
          "scatterpolar": [
           {
            "marker": {
             "colorbar": {
              "outlinewidth": 0,
              "ticks": ""
             }
            },
            "type": "scatterpolar"
           }
          ],
          "scatterpolargl": [
           {
            "marker": {
             "colorbar": {
              "outlinewidth": 0,
              "ticks": ""
             }
            },
            "type": "scatterpolargl"
           }
          ],
          "scatterternary": [
           {
            "marker": {
             "colorbar": {
              "outlinewidth": 0,
              "ticks": ""
             }
            },
            "type": "scatterternary"
           }
          ],
          "surface": [
           {
            "colorbar": {
             "outlinewidth": 0,
             "ticks": ""
            },
            "colorscale": [
             [
              0,
              "#0d0887"
             ],
             [
              0.1111111111111111,
              "#46039f"
             ],
             [
              0.2222222222222222,
              "#7201a8"
             ],
             [
              0.3333333333333333,
              "#9c179e"
             ],
             [
              0.4444444444444444,
              "#bd3786"
             ],
             [
              0.5555555555555556,
              "#d8576b"
             ],
             [
              0.6666666666666666,
              "#ed7953"
             ],
             [
              0.7777777777777778,
              "#fb9f3a"
             ],
             [
              0.8888888888888888,
              "#fdca26"
             ],
             [
              1,
              "#f0f921"
             ]
            ],
            "type": "surface"
           }
          ],
          "table": [
           {
            "cells": {
             "fill": {
              "color": "#EBF0F8"
             },
             "line": {
              "color": "white"
             }
            },
            "header": {
             "fill": {
              "color": "#C8D4E3"
             },
             "line": {
              "color": "white"
             }
            },
            "type": "table"
           }
          ]
         },
         "layout": {
          "annotationdefaults": {
           "arrowcolor": "#2a3f5f",
           "arrowhead": 0,
           "arrowwidth": 1
          },
          "autotypenumbers": "strict",
          "coloraxis": {
           "colorbar": {
            "outlinewidth": 0,
            "ticks": ""
           }
          },
          "colorscale": {
           "diverging": [
            [
             0,
             "#8e0152"
            ],
            [
             0.1,
             "#c51b7d"
            ],
            [
             0.2,
             "#de77ae"
            ],
            [
             0.3,
             "#f1b6da"
            ],
            [
             0.4,
             "#fde0ef"
            ],
            [
             0.5,
             "#f7f7f7"
            ],
            [
             0.6,
             "#e6f5d0"
            ],
            [
             0.7,
             "#b8e186"
            ],
            [
             0.8,
             "#7fbc41"
            ],
            [
             0.9,
             "#4d9221"
            ],
            [
             1,
             "#276419"
            ]
           ],
           "sequential": [
            [
             0,
             "#0d0887"
            ],
            [
             0.1111111111111111,
             "#46039f"
            ],
            [
             0.2222222222222222,
             "#7201a8"
            ],
            [
             0.3333333333333333,
             "#9c179e"
            ],
            [
             0.4444444444444444,
             "#bd3786"
            ],
            [
             0.5555555555555556,
             "#d8576b"
            ],
            [
             0.6666666666666666,
             "#ed7953"
            ],
            [
             0.7777777777777778,
             "#fb9f3a"
            ],
            [
             0.8888888888888888,
             "#fdca26"
            ],
            [
             1,
             "#f0f921"
            ]
           ],
           "sequentialminus": [
            [
             0,
             "#0d0887"
            ],
            [
             0.1111111111111111,
             "#46039f"
            ],
            [
             0.2222222222222222,
             "#7201a8"
            ],
            [
             0.3333333333333333,
             "#9c179e"
            ],
            [
             0.4444444444444444,
             "#bd3786"
            ],
            [
             0.5555555555555556,
             "#d8576b"
            ],
            [
             0.6666666666666666,
             "#ed7953"
            ],
            [
             0.7777777777777778,
             "#fb9f3a"
            ],
            [
             0.8888888888888888,
             "#fdca26"
            ],
            [
             1,
             "#f0f921"
            ]
           ]
          },
          "colorway": [
           "#636efa",
           "#EF553B",
           "#00cc96",
           "#ab63fa",
           "#FFA15A",
           "#19d3f3",
           "#FF6692",
           "#B6E880",
           "#FF97FF",
           "#FECB52"
          ],
          "font": {
           "color": "#2a3f5f"
          },
          "geo": {
           "bgcolor": "white",
           "lakecolor": "white",
           "landcolor": "#E5ECF6",
           "showlakes": true,
           "showland": true,
           "subunitcolor": "white"
          },
          "hoverlabel": {
           "align": "left"
          },
          "hovermode": "closest",
          "mapbox": {
           "style": "light"
          },
          "paper_bgcolor": "white",
          "plot_bgcolor": "#E5ECF6",
          "polar": {
           "angularaxis": {
            "gridcolor": "white",
            "linecolor": "white",
            "ticks": ""
           },
           "bgcolor": "#E5ECF6",
           "radialaxis": {
            "gridcolor": "white",
            "linecolor": "white",
            "ticks": ""
           }
          },
          "scene": {
           "xaxis": {
            "backgroundcolor": "#E5ECF6",
            "gridcolor": "white",
            "gridwidth": 2,
            "linecolor": "white",
            "showbackground": true,
            "ticks": "",
            "zerolinecolor": "white"
           },
           "yaxis": {
            "backgroundcolor": "#E5ECF6",
            "gridcolor": "white",
            "gridwidth": 2,
            "linecolor": "white",
            "showbackground": true,
            "ticks": "",
            "zerolinecolor": "white"
           },
           "zaxis": {
            "backgroundcolor": "#E5ECF6",
            "gridcolor": "white",
            "gridwidth": 2,
            "linecolor": "white",
            "showbackground": true,
            "ticks": "",
            "zerolinecolor": "white"
           }
          },
          "shapedefaults": {
           "line": {
            "color": "#2a3f5f"
           }
          },
          "ternary": {
           "aaxis": {
            "gridcolor": "white",
            "linecolor": "white",
            "ticks": ""
           },
           "baxis": {
            "gridcolor": "white",
            "linecolor": "white",
            "ticks": ""
           },
           "bgcolor": "#E5ECF6",
           "caxis": {
            "gridcolor": "white",
            "linecolor": "white",
            "ticks": ""
           }
          },
          "title": {
           "x": 0.05
          },
          "xaxis": {
           "automargin": true,
           "gridcolor": "white",
           "linecolor": "white",
           "ticks": "",
           "title": {
            "standoff": 15
           },
           "zerolinecolor": "white",
           "zerolinewidth": 2
          },
          "yaxis": {
           "automargin": true,
           "gridcolor": "white",
           "linecolor": "white",
           "ticks": "",
           "title": {
            "standoff": 15
           },
           "zerolinecolor": "white",
           "zerolinewidth": 2
          }
         }
        },
        "title": {
         "text": "Average Wind Speed per Month"
        }
       }
      }
     },
     "metadata": {},
     "output_type": "display_data"
    }
   ],
   "source": [
    "fig = go.Figure()\n",
    "\n",
    "for station in stations:\n",
    "    fig.add_trace(go.Scatter(\n",
    "        x=v1[v1['station'] == station]['year_month'],\n",
    "        y=v1[v1['station'] == station]['WSPM'], \n",
    "        mode='lines', \n",
    "        name=station \n",
    "    ))\n",
    "\n",
    "fig.update_layout(\n",
    "    title='Average Wind Speed per Month',\n",
    "    showlegend=True,\n",
    "    plot_bgcolor='white',\n",
    ")"
   ]
  },
  {
   "cell_type": "markdown",
   "metadata": {},
   "source": [
    "Berdasarkan grafik diatas, walaupun setiap stasiun memiliki jarak nilai yang cukup berbeda, namun memiliki pola yang sama, dimana terlihat kecepatan angin tertinggi berada pada bulan maret-mei dan november-januari, dan terendah pada bulan juni-oktober."
   ]
  },
  {
   "attachments": {},
   "cell_type": "markdown",
   "metadata": {},
   "source": [
    "## Conclusion"
   ]
  },
  {
   "attachments": {},
   "cell_type": "markdown",
   "metadata": {},
   "source": [
    "- Berdasarkan hasil analisis yang dilakukan untuk pertanyaan nomor 1, dinyatakan berdasarkan variabel yang menggambarkan AQI, hampir seluruhnya menyatakan juli adalah bulan dengan kualitas udara terbaik secara konsisten setiap tahunnya dan untuk semua stasiun yang ada.\n",
    "- Berdasarkan hasil analisis yang dilakukan untuk pertanyaan nomor 2, dapat dinyatakan bulan terbaik berada pada bulan september hingga oktober, hal ini dikarenakan pada bulan ini memiliki suhu yang ideal, dengan curah hujan dan kecepatan angin yang sedang."
   ]
  },
  {
   "cell_type": "markdown",
   "metadata": {},
   "source": [
    "## Source"
   ]
  },
  {
   "cell_type": "markdown",
   "metadata": {},
   "source": [
    "[1] AirNow. “Technical Assistance Document for the Reporting of Daily Air Quality” 2018, https://www.airnow.gov/sites/default/files/2020-05/aqi-technical-assistance-document-sept2018.pdf"
   ]
  }
 ],
 "metadata": {
  "kernelspec": {
   "display_name": "Python 3",
   "language": "python",
   "name": "python3"
  },
  "language_info": {
   "codemirror_mode": {
    "name": "ipython",
    "version": 3
   },
   "file_extension": ".py",
   "mimetype": "text/x-python",
   "name": "python",
   "nbconvert_exporter": "python",
   "pygments_lexer": "ipython3",
   "version": "3.9.16"
  },
  "orig_nbformat": 4,
  "vscode": {
   "interpreter": {
    "hash": "972b3bf27e332e87b5379f2791f6ef9dfc79c71018c370b0d7423235e20fe4d7"
   }
  }
 },
 "nbformat": 4,
 "nbformat_minor": 2
}
